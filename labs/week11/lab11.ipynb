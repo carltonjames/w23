{
 "cells": [
  {
   "cell_type": "markdown",
   "id": "3eaede6b",
   "metadata": {},
   "source": [
    "# Lab 11: Factors, dates and times\n",
    "\n",
    "\n"
   ]
  },
  {
   "cell_type": "code",
   "execution_count": null,
   "id": "9b236192",
   "metadata": {},
   "outputs": [],
   "source": [
    "library(tidyverse)\n",
    "library(nycflights13)\n",
    "library(lubridate)"
   ]
  },
  {
   "cell_type": "markdown",
   "id": "bb5d119a",
   "metadata": {},
   "source": [
    "## Factors basics"
   ]
  },
  {
   "cell_type": "markdown",
   "id": "21f79685",
   "metadata": {},
   "source": [
    "Throughout this course we have encountered factor variables, but have yet to explore what a `factor` is in R. Factors are used to process cateogrical data in R. At a surface level they look like character variables but have additional proporties that provide convenience when peforming data analysis.\n",
    "\n",
    "In this section of the lab we will cover how to construct and modify factors."
   ]
  },
  {
   "cell_type": "markdown",
   "id": "6d30a278",
   "metadata": {},
   "source": [
    "### Creating factors"
   ]
  },
  {
   "cell_type": "markdown",
   "id": "bfd82774",
   "metadata": {},
   "source": [
    "Imagine that we have the the following responses to a particular question in a student evaluation:"
   ]
  },
  {
   "cell_type": "code",
   "execution_count": null,
   "id": "fe6e44e8",
   "metadata": {},
   "outputs": [],
   "source": [
    "response = c(\"Agree\", \"Agree\", \"Strongly Agree\", \"Disagree\", \"Agree\")"
   ]
  },
  {
   "cell_type": "code",
   "execution_count": null,
   "id": "9dd0d3ec",
   "metadata": {},
   "outputs": [],
   "source": [
    "response\n",
    "class(response)"
   ]
  },
  {
   "cell_type": "markdown",
   "id": "2f92e96c",
   "metadata": {},
   "source": [
    "Currently, `response` is a character vector. Certain operations in R may not interact with this object the way we would like given our interpretation of the values. For example, sorting the vector orders it alphabetically though we may want to sort it according to the degree the student agrees with the statment. "
   ]
  },
  {
   "cell_type": "code",
   "execution_count": null,
   "id": "8af67ba6",
   "metadata": {},
   "outputs": [],
   "source": [
    "sort(response)"
   ]
  },
  {
   "cell_type": "markdown",
   "id": "ddd657ff",
   "metadata": {},
   "source": [
    "Using `factor` we can add additional structure to the object that better matches our understanding of the variable's values."
   ]
  },
  {
   "cell_type": "code",
   "execution_count": null,
   "id": "22a32034",
   "metadata": {},
   "outputs": [],
   "source": [
    "response_levels  <- c(\"Strongly Disagree\", \"Disagree\", \"Neutral\", \"Agree\", \"Strongly Agree\")\n",
    "response_fct  <- factor(response, levels = response_levels)"
   ]
  },
  {
   "cell_type": "markdown",
   "id": "b08b74ee",
   "metadata": {},
   "source": [
    "Now when we sort `response_fct` it is according to the stength of the statement."
   ]
  },
  {
   "cell_type": "code",
   "execution_count": null,
   "id": "cb6b063c",
   "metadata": {},
   "outputs": [],
   "source": [
    "sort(response_fct)"
   ]
  },
  {
   "cell_type": "markdown",
   "id": "8053c3d1",
   "metadata": {},
   "source": [
    "Note that how that values are sorted depends on the order of how the levels appear when inputed to `factor`."
   ]
  },
  {
   "cell_type": "code",
   "execution_count": null,
   "id": "3d1f52d9",
   "metadata": {},
   "outputs": [],
   "source": [
    "response_levels  <- c(\"Strongly Agree\", \"Disagree\", \"Neutral\", \"Agree\", \"Strongly Disagree\")\n",
    "response_fct  <- factor(response, levels = response_levels)\n",
    "sort(response_fct)"
   ]
  },
  {
   "cell_type": "markdown",
   "id": "1fc97174",
   "metadata": {},
   "source": [
    "This added structure will be useful when analyzing and visualizing categorical data that matches our intuition for the data. "
   ]
  },
  {
   "cell_type": "markdown",
   "id": "f1131b6f",
   "metadata": {},
   "source": [
    "### A deeper look at factors"
   ]
  },
  {
   "cell_type": "markdown",
   "id": "a8d3cb8f",
   "metadata": {},
   "source": [
    "Below we create a variable that represents the decades 1980-2010."
   ]
  },
  {
   "cell_type": "code",
   "execution_count": null,
   "id": "bdadb2cc",
   "metadata": {},
   "outputs": [],
   "source": [
    "decades   <- c(1980, 1990, 2000, 2010)\n",
    "class(decades)"
   ]
  },
  {
   "cell_type": "markdown",
   "id": "87f0e863",
   "metadata": {},
   "source": [
    "We now create a new factor variable based on the numeric `decades` variable and then observe what happens when we \n",
    "try to convert it back to a numeric variable."
   ]
  },
  {
   "cell_type": "code",
   "execution_count": null,
   "id": "e8f783d9",
   "metadata": {},
   "outputs": [],
   "source": [
    "decades_fct <- factor(decades)\n",
    "decades_2  <- as.numeric(decades_fct)\n",
    "\n",
    "\n",
    "decades\n",
    "decades_fct\n",
    "decades_2"
   ]
  },
  {
   "cell_type": "markdown",
   "id": "64f6687a",
   "metadata": {},
   "source": [
    "Using `as.numeric` does not return the original numeric data. Rather, we see that 1980 is mapped to 1, 1990 is mapped to 2, and so on. Then 1,2,3, and 4 are each associated with the `levels`  '1980', '1990', '2000', and '2010'.\n",
    "\n",
    "Using the function `levels` we can access the levels of a factor variable. Note that this returns a character variable."
   ]
  },
  {
   "cell_type": "code",
   "execution_count": null,
   "id": "27180c7f",
   "metadata": {},
   "outputs": [],
   "source": [
    "levels(decades_fct)\n",
    "class(levels(decades_fct))"
   ]
  },
  {
   "cell_type": "markdown",
   "id": "5a0eb4e1",
   "metadata": {},
   "source": [
    "##  Factor Basics Exercises "
   ]
  },
  {
   "cell_type": "markdown",
   "id": "cc0dc224",
   "metadata": {},
   "source": [
    "1. If `x = c(1, 2, 3, 3, 5, 3, 2, 4, NA)`, what are the levels of `factor(x)`?\n",
    "\n",
    "\n",
    "2. If `z <- factor(c(\"p\", \"q\", \"p\", \"r\", \"q\"))` and levels of z are \"p\", \"q\" ,\"r\", write an R expression that will change the level \"p\" to \"w\" so that z is equal to: \"w\", \"q\" , \"w\", \"r\" , \"q\".\n",
    "\n",
    "3. Let `df <- data.frame(q=c(2, 4, 6), p=c(\"a\", \"b\", \"c\"))`. Write an R statement that will replace levels a, b, c with labels \"fertiliser1\", \"fertliser2\", \"fertiliser3\".  \n",
    "_hint_ : There is an additional argument to `factor` that lets you modify the labels of a factor variable."
   ]
  },
  {
   "cell_type": "code",
   "execution_count": null,
   "id": "5595ff65",
   "metadata": {},
   "outputs": [],
   "source": [
    "# Answer to Exercise 1:\n",
    "x = c(1, 2, 3, 3, 5, 3, 2, 4, NA)\n",
    "factor(x)"
   ]
  },
  {
   "cell_type": "code",
   "execution_count": null,
   "id": "1f1ede5e",
   "metadata": {},
   "outputs": [],
   "source": [
    "# Answer to Exercise 2:\n",
    "z <- factor(c(\"p\", \"q\", \"p\", \"r\", \"q\"))\n",
    "levels(z)[1] <- \"w\"\n",
    "z"
   ]
  },
  {
   "cell_type": "code",
   "execution_count": null,
   "id": "a73f3f2d",
   "metadata": {},
   "outputs": [],
   "source": [
    "# Answer to Exercise 3:\n",
    "df <- data.frame(q=c(2, 4, 6), p=c(\"a\", \"b\", \"c\"))\n",
    "df$p <- factor(df$p, levels=c(\"a\", \"b\", \"c\"), labels=c(\"fertiliser1\", \"fertiliser2\", \"fertiliser3\"))\n",
    "df"
   ]
  },
  {
   "cell_type": "markdown",
   "id": "94240634",
   "metadata": {},
   "source": [
    "In exercise 1 we saw that `NA` was treated as a level. This might not be that behavior that we want. Using `fct` from `forcats` we can catch this behavior. Notice how `fct` will treat the `NA` as an error rather than another level of the factor variable."
   ]
  },
  {
   "cell_type": "code",
   "execution_count": null,
   "id": "d5d54077",
   "metadata": {},
   "outputs": [],
   "source": [
    "fct(x)"
   ]
  },
  {
   "cell_type": "markdown",
   "id": "6516f47b",
   "metadata": {},
   "source": [
    "Similary, if a character variable has values not in the specificied levels, `factor` will convert it to `NA`. Again, if we want to catch this we can use `fct`."
   ]
  },
  {
   "cell_type": "code",
   "execution_count": null,
   "id": "fc162e99",
   "metadata": {},
   "outputs": [],
   "source": [
    "response = c(\"Agree\", \"Agree\", \"Strongly Agree\", \"Disagre\", \"Agree\")\n",
    "factor(response, levels = response_levels)\n",
    "fct(response, levels = response_levels)"
   ]
  },
  {
   "cell_type": "markdown",
   "id": "073e15f1",
   "metadata": {},
   "source": [
    "`forcats` (an anagram of factor) is a tidyverse package that provides a wide range of functions for working with factors. The rest of this section will explore using these functions to handle factor variables."
   ]
  },
  {
   "cell_type": "markdown",
   "id": "cfffd4d1",
   "metadata": {},
   "source": [
    "### Modifying factor order"
   ]
  },
  {
   "cell_type": "markdown",
   "id": "ee0f1e3b",
   "metadata": {},
   "source": [
    "Going forward we will use `forcats::gss_cat`, a sample of data from the General Social Survey, a long-running US survey conducted by the independent research organization NORC at the University of Chicago. "
   ]
  },
  {
   "cell_type": "code",
   "execution_count": null,
   "id": "ffec892a",
   "metadata": {},
   "outputs": [],
   "source": [
    "head(gss_cat)"
   ]
  },
  {
   "cell_type": "markdown",
   "id": "8bd1a466",
   "metadata": {},
   "source": [
    "As we have seen in previous homeworks and labs, we often need to adjust the order of our categorical variable to clearly demonstrate a trend in the plot. \n",
    "\n",
    "Below we look at the average age for each religion:"
   ]
  },
  {
   "cell_type": "code",
   "execution_count": null,
   "id": "722f43ac",
   "metadata": {},
   "outputs": [],
   "source": [
    "gss_cat %>% \n",
    "    group_by(relig) %>%\n",
    "    summarise(age  = mean(age, na.rm = T)) %>%\n",
    "    ggplot(aes(x = relig, y = age)) +\n",
    "    geom_bar(stat = \"identity\") + coord_flip()"
   ]
  },
  {
   "cell_type": "markdown",
   "id": "b33254da",
   "metadata": {},
   "source": [
    "For visualization purposes it is nicer to have the bars in our plot ordered by their height. The function `fct_reoder` allows us to do this. `fct_reorder()` takes three arguments:\n",
    "\n",
    "- `f`, the factor whose levels you want to modify.\n",
    "- `x`, a numeric vector that you want to use to reorder the levels.\n",
    "- Optionally, `fun`, a function that’s used if there are multiple values of `x` for each value of `f`. "
   ]
  },
  {
   "cell_type": "code",
   "execution_count": null,
   "id": "3123bd0d",
   "metadata": {},
   "outputs": [],
   "source": [
    "gss_cat %>% \n",
    "    group_by(relig) %>%\n",
    "    summarise(age  = mean(age, na.rm = T)) %>%\n",
    "    ggplot(aes(x = fct_reorder(relig, age), y = age)) +\n",
    "    geom_bar(stat = \"identity\") + coord_flip()"
   ]
  },
  {
   "cell_type": "code",
   "execution_count": null,
   "id": "b0cf2b48",
   "metadata": {},
   "outputs": [],
   "source": [
    "gss_cat %>% \n",
    "    ggplot(aes(x = fct_reorder(relig, age, mean, na.rm = T), y = age)) +\n",
    "    geom_boxplot() + coord_flip()"
   ]
  },
  {
   "cell_type": "markdown",
   "id": "fbfe95a7",
   "metadata": {},
   "source": [
    "Note that the default function used in `fct_reorder` is median."
   ]
  },
  {
   "cell_type": "code",
   "execution_count": null,
   "id": "1604b62d",
   "metadata": {},
   "outputs": [],
   "source": [
    "gss_cat %>% \n",
    "    filter(!is.na(age)) %>% # we need to filter out NAs for fct_reorder to work as intended\n",
    "    ggplot(aes(x = fct_reorder(relig, age), y = age)) +\n",
    "    geom_boxplot() + coord_flip()"
   ]
  },
  {
   "cell_type": "markdown",
   "id": "dee2db90",
   "metadata": {},
   "source": [
    "### Modifying factor levels"
   ]
  },
  {
   "cell_type": "markdown",
   "id": "1e53cf22",
   "metadata": {},
   "source": [
    "Often when working categorical data, the levels are not initially in a clean and presentable form. The most common way to alter factor levels is using `fct_recode`, which allows us to change the value of each level to our liking. "
   ]
  },
  {
   "cell_type": "code",
   "execution_count": null,
   "id": "dc25928e",
   "metadata": {},
   "outputs": [],
   "source": [
    "gss_cat %>%\n",
    "  mutate(\n",
    "    partyid = fct_recode(partyid,\n",
    "      \"Republican, strong\"    = \"Strong republican\",\n",
    "      \"Republican, weak\"      = \"Not str republican\",\n",
    "      \"Independent, near rep\" = \"Ind,near rep\",\n",
    "      \"Independent, near dem\" = \"Ind,near dem\",\n",
    "      \"Democrat, weak\"        = \"Not str democrat\",\n",
    "      \"Democrat, strong\"      = \"Strong democrat\"\n",
    "    )\n",
    "  ) %>%\n",
    "  count(partyid)"
   ]
  },
  {
   "cell_type": "markdown",
   "id": "21ff3031",
   "metadata": {},
   "source": [
    "We can use `fct_collapse` to aggergate levels of a factor variable into broader categories."
   ]
  },
  {
   "cell_type": "code",
   "execution_count": null,
   "id": "c86c5baa",
   "metadata": {},
   "outputs": [],
   "source": [
    "gss_cat %>%\n",
    "  mutate(\n",
    "    partyid = fct_collapse(partyid,\n",
    "      \"other\" = c(\"No answer\", \"Don't know\", \"Other party\"),\n",
    "      \"rep\" = c(\"Strong republican\", \"Not str republican\"),\n",
    "      \"ind\" = c(\"Ind,near rep\", \"Independent\", \"Ind,near dem\"),\n",
    "      \"dem\" = c(\"Not str democrat\", \"Strong democrat\")\n",
    "    )\n",
    "  ) %>%\n",
    "  count(partyid)"
   ]
  },
  {
   "cell_type": "markdown",
   "id": "023bba8c",
   "metadata": {},
   "source": [
    "The `fct_lump_*()` functions allow us to keep the most frequent categories and aggregate the smaller categories into \"Other\"."
   ]
  },
  {
   "cell_type": "code",
   "execution_count": null,
   "id": "e9bc9035",
   "metadata": {},
   "outputs": [],
   "source": [
    "gss_cat %>%\n",
    "  mutate(relig = fct_lump_lowfreq(relig)) %>%\n",
    "  count(relig)"
   ]
  },
  {
   "cell_type": "code",
   "execution_count": null,
   "id": "0c134dfa",
   "metadata": {},
   "outputs": [],
   "source": [
    "gss_cat %>%\n",
    "  mutate(relig = fct_lump_n(relig, n = 5)) %>%\n",
    "  count(relig, sort = TRUE)"
   ]
  },
  {
   "cell_type": "markdown",
   "id": "4cfcafb8",
   "metadata": {},
   "source": [
    "## Factor Exercises"
   ]
  },
  {
   "cell_type": "markdown",
   "id": "409c93db",
   "metadata": {},
   "source": [
    "1.) Create a categorical variable of the following age brackets: 18-30, 30-40, 40-50, 50-65, 65 + and make a bar plot of the mean tv hours across age groups in increasing order."
   ]
  },
  {
   "cell_type": "code",
   "execution_count": null,
   "id": "402a583f",
   "metadata": {},
   "outputs": [],
   "source": [
    "#@title Exercise 1 Answer\n",
    "\n",
    "gss_cat %>%\n",
    "    mutate(age_cat = cut(gss_cat$age,c(18,30,40,50,65, 90),include.lowest = T, right = F)) %>% \n",
    "    filter(!is.na(age_cat)) %>%\n",
    "    group_by(age_cat) %>%\n",
    "    summarise(tvhours = mean(tvhours, na.rm = T)) %>%\n",
    "    ggplot(aes(x = fct_reorder(age_cat, tvhours), y = tvhours)) + geom_col()"
   ]
  },
  {
   "cell_type": "markdown",
   "id": "ec0b060a",
   "metadata": {},
   "source": [
    "2.) Change rincome to only have the levels \"\\\\$20000 or more\", \"\\\\$10000 - 19999\", \"\\\\$5000 to 9999\", \"0 to 4999\", and \"Unknown\".      "
   ]
  },
  {
   "cell_type": "code",
   "execution_count": null,
   "id": "7e9f5844",
   "metadata": {},
   "outputs": [],
   "source": [
    "#@title Exercise 2 Answer\n",
    "\n",
    "gss_cat %>%\n",
    "  mutate(\n",
    "    rincome = fct_collapse(rincome,\n",
    "      \"$20000 or more\" = c(\"$25000 or more\", \"$20000 - 24999\"),\n",
    "      \"$10000 - 19999\" = c(\"$15000 - 19999\", \"$10000 - 14999\"),\n",
    "      \"$5000 to 9999\"  = c(\"$8000 to 9999\",  \"$7000 to 7999\",  \"$6000 to 6999\", \"$5000 to 5999\"),\n",
    "      \"0 to 4999\"      = c(\"$4000 to 4999\",  \"$3000 to 3999\",  \"$1000 to 2999\", \"Lt $1000\"),\n",
    "      \"Unknown\"        = c(\"No answer\", \"Don't know\", \"Refused\", \"Not applicable\")\n",
    "    )\n",
    "  ) %>%\n",
    "  count(rincome)"
   ]
  },
  {
   "cell_type": "markdown",
   "id": "a6d9436e",
   "metadata": {},
   "source": [
    "## Dates and times\n",
    "\n",
    "\n",
    "Now we turn our attention to working with dates and times in R. For this portion of the lab we will focus on the `lubridate` package."
   ]
  },
  {
   "cell_type": "markdown",
   "id": "6950a759",
   "metadata": {},
   "source": [
    "### Creating date/times\n",
    "\n",
    "There are three types of date/time data that refer to an instance in time:\n",
    "\n",
    "- A **date**. Tibbles print this as `<date>`.\n",
    "- A **time**. Tibbles print this as `<time>`.\n",
    "- A **date-time** is a date plus a time: it uniquely identifies an instant in time (typically to the nearest second). Tibbles print this as `<dttm>`. Base R calls these POSIXct.\n",
    "\n",
    "We will focus on dates and date-times.\n",
    "\n",
    "\n",
    "The first thing to know about working with date-times in R (and other langauges) are date-time formats. These are standard across many programming languages and decribe a date component using a `%` followed by a single character.\n",
    "\n",
    "While there are many date-time format components there are only a few that are truly necessary to know as described in this table:\n",
    "\n",
    "| Type   | Code |Meaning         |Example|\n",
    "|------  |------|-----           |-----|\n",
    "|   Year | %Y   |4 digit year    |2021|\n",
    "|        | %y   |2 digit year    |21|\n",
    "|   Month | %m   |number    |2|\n",
    "|    | %b   |Abbreviated name     |Feb|\n",
    "|    | %B   |Full name     |Februrary|\n",
    "| Day   | %d  |Two digits   |02|\n",
    "|    | %e  |One or two digits   |2|\n",
    "|  Time  | %H  | 24-hour hour  |13|\n",
    "|    | %M | Minutes  |35|\n",
    "|    | %S | Seconds |45|\n",
    "\n",
    "\n",
    "\n",
    "\n",
    "For example, %Y-%m-%d specifies a date that’s a year, -, month (as number) -, day such as `2023-02-13`.\n",
    "\n",
    "`lubridate` provides functions that automatically detect these formats so we typically do not need to specify them directly. One scenario where you might need to manually specify the date-time format is when reading data into R, \n",
    "as shown in the toy exmaple below.\n"
   ]
  },
  {
   "cell_type": "code",
   "execution_count": null,
   "id": "dabe3e2d",
   "metadata": {},
   "outputs": [],
   "source": [
    "csv <- \"\n",
    "  date\n",
    "  01/02/15\n",
    "\"\n",
    "\n",
    "read_csv(csv, col_types = cols(date = col_date(\"%m/%d/%y\")))"
   ]
  },
  {
   "cell_type": "markdown",
   "id": "dc358b9e",
   "metadata": {},
   "source": [
    "We must be careful as there are multiple ways we could interpret this date value depending on how we specify the format:"
   ]
  },
  {
   "cell_type": "code",
   "execution_count": null,
   "id": "5e9ddc4a",
   "metadata": {},
   "outputs": [],
   "source": [
    "read_csv(csv, col_types = cols(date = col_date(\"%d/%m/%y\")))\n",
    "read_csv(csv, col_types = cols(date = col_date(\"%y/%m/%d\")))"
   ]
  },
  {
   "cell_type": "markdown",
   "id": "495ba564",
   "metadata": {},
   "source": [
    "We typically generate date-time variables from strings. The package `lubridate` provides a convenient set of functions that automatically determine the date-time formats. To use the lubridate functions identify the date the order at which year, month, and day appear in the date and then arrange \"y\", \"m\", and \"d\" in the same order. The sequence of \"y\", \"m\", and \"d\" gives the name of the function.\n",
    "\n",
    "See the example below. Note that the specific format is not important as long as we know the date components come in the order year, month, day."
   ]
  },
  {
   "cell_type": "code",
   "execution_count": null,
   "id": "13e67f9e",
   "metadata": {},
   "outputs": [],
   "source": [
    "ymd(\"2020-01-31\")\n",
    "ymd(\"2020/01/31\")\n",
    "ymd(\"20200131\")"
   ]
  },
  {
   "cell_type": "markdown",
   "id": "eba6bc27",
   "metadata": {},
   "source": [
    "Below we see some examples with different orders of the date components and different date formats."
   ]
  },
  {
   "cell_type": "code",
   "execution_count": null,
   "id": "d63dac17",
   "metadata": {},
   "outputs": [],
   "source": [
    "mdy(\"January 31st, 2017\")\n",
    "dmy(\"31-Jan-2017\")"
   ]
  },
  {
   "cell_type": "markdown",
   "id": "a82a9583",
   "metadata": {},
   "source": [
    "To work with date-time variables we simply add an underscore to the above functions with one or more of \"h\", \"m\", \"s\" depending on whether hours, minutes, or seconds appear in the date."
   ]
  },
  {
   "cell_type": "code",
   "execution_count": null,
   "id": "c395e035",
   "metadata": {},
   "outputs": [],
   "source": [
    "ymd_hms(\"2017-01-31 20:11:59\")"
   ]
  },
  {
   "cell_type": "markdown",
   "id": "5ac79960",
   "metadata": {},
   "source": [
    "`lubridate` also provides functions for \"rounding\" dates."
   ]
  },
  {
   "cell_type": "code",
   "execution_count": null,
   "id": "8af01eaa",
   "metadata": {},
   "outputs": [],
   "source": [
    "floor_date(ymd_hms(\"2017-01-31 20:11:59\"), \"minute\")\n",
    "floor_date(ymd_hms(\"2017-01-31 20:11:59\"), \"hour\")\n",
    "floor_date(ymd_hms(\"2017-01-31 20:11:59\"), \"day\")\n",
    "floor_date(ymd_hms(\"2017-01-31 20:11:59\"), \"month\")\n",
    "floor_date(ymd_hms(\"2017-01-31 20:11:59\"), \"year\")"
   ]
  },
  {
   "cell_type": "markdown",
   "id": "cb4652a5",
   "metadata": {},
   "source": [
    "We can also build date variables from inidividual date components."
   ]
  },
  {
   "cell_type": "code",
   "execution_count": null,
   "id": "f1283481",
   "metadata": {},
   "outputs": [],
   "source": [
    "make_datetime(2013, 3, 13, 10, 30)"
   ]
  },
  {
   "cell_type": "markdown",
   "id": "7665f304",
   "metadata": {},
   "source": [
    "If need we can specify the timezone (this goes for other `lubridate` functions that build date-time variables)."
   ]
  },
  {
   "cell_type": "code",
   "execution_count": null,
   "id": "cf04ebfb",
   "metadata": {},
   "outputs": [],
   "source": [
    "make_datetime(2013, 3, 13, 10, 30, tz = \"EST\")"
   ]
  },
  {
   "cell_type": "markdown",
   "id": "7f639103",
   "metadata": {},
   "source": [
    "Let's look at an example fo creating date-time variables using the flights dataset from `nycflights13`.\n",
    "\n",
    "Here we have numeric variables that represent the year,month,day, hour, and minute of the flight."
   ]
  },
  {
   "cell_type": "code",
   "execution_count": null,
   "id": "db23e965",
   "metadata": {},
   "outputs": [],
   "source": [
    "flights %>% select(year, month, day, hour, minute, sched_dep_time) %>% head()"
   ]
  },
  {
   "cell_type": "code",
   "execution_count": null,
   "id": "53fe3144",
   "metadata": {},
   "outputs": [],
   "source": [
    "flights %>% \n",
    "    select(year, month, day, hour, minute, time_hour) %>%\n",
    "    mutate(departure = make_datetime(year, month, day, hour, minute)) %>% head()"
   ]
  },
  {
   "cell_type": "markdown",
   "id": "5c3b3c8e",
   "metadata": {},
   "source": [
    "We can also easily plot date-times with `ggplot`. Note for histograms the unit for binwidth is seconds so in following plot a bindwith of 600 represents 10 minutes."
   ]
  },
  {
   "cell_type": "code",
   "execution_count": null,
   "id": "0e008695",
   "metadata": {},
   "outputs": [],
   "source": [
    "flights %>% \n",
    "    select(year, month, day, hour, minute, time_hour) %>%\n",
    "    mutate(departure = make_datetime(year, month, day, hour, minute)) %>% \n",
    "    filter(day == 2, month==1) %>%\n",
    "    ggplot(aes(x = departure)) + \n",
    "    geom_histogram(binwidth = 600) # 600 s = 10 minutes"
   ]
  },
  {
   "cell_type": "markdown",
   "id": "738f7141",
   "metadata": {},
   "source": [
    "### UnixEpoch "
   ]
  },
  {
   "cell_type": "markdown",
   "id": "c0b3f0e6",
   "metadata": {},
   "source": [
    "Sometimes dates/times are reperesented as numeric increments from the \"UnixEpoch\" 1970-01-01. This means that numeric values are interpreted either as seconds or days since 1970-01-01. If we interpret the numeric value as days we can use `as_date` to get a date variable, otherwise use `as_datetime` to get a date-time variable."
   ]
  },
  {
   "cell_type": "code",
   "execution_count": null,
   "id": "81f9fa8b",
   "metadata": {},
   "outputs": [],
   "source": [
    "as_date(365)"
   ]
  },
  {
   "cell_type": "code",
   "execution_count": null,
   "id": "1a8b792a",
   "metadata": {},
   "outputs": [],
   "source": [
    "as_datetime(60)"
   ]
  },
  {
   "cell_type": "markdown",
   "id": "3b9f5e60",
   "metadata": {},
   "source": [
    "### Getting components "
   ]
  },
  {
   "cell_type": "markdown",
   "id": "ee8e17b4",
   "metadata": {},
   "source": [
    "Sometimes we start with a date-time variable and want to work with specific date-time components. `lubridate` also provides packages for obtaining these components."
   ]
  },
  {
   "cell_type": "code",
   "execution_count": null,
   "id": "d886a243",
   "metadata": {},
   "outputs": [],
   "source": [
    "datetime <- ymd_hms(\"2026-07-08 12:34:56\")\n",
    "\n",
    "\n",
    "year(datetime)\n",
    "month(datetime)\n",
    "mday(datetime)\n",
    "yday(datetime)\n",
    "wday(datetime)"
   ]
  },
  {
   "cell_type": "markdown",
   "id": "0c97b0bb",
   "metadata": {},
   "source": [
    "We have the option of extracting date components as a `factor` variable."
   ]
  },
  {
   "cell_type": "code",
   "execution_count": null,
   "id": "de8c5b33",
   "metadata": {},
   "outputs": [],
   "source": [
    "month(datetime, label = TRUE)\n",
    "wday(datetime, label = TRUE, abbr = FALSE)"
   ]
  },
  {
   "cell_type": "markdown",
   "id": "3776f031",
   "metadata": {},
   "source": [
    "Using these functions we can also modify datetimes in the following manner:"
   ]
  },
  {
   "cell_type": "code",
   "execution_count": null,
   "id": "db4c5bb3",
   "metadata": {},
   "outputs": [],
   "source": [
    "datetime\n",
    "\n",
    "year(datetime) <- 2030\n",
    "month(datetime) <- 01\n",
    "\n",
    "\n",
    "hour(datetime) <- hour(datetime) + 1\n",
    "\n",
    "datetime"
   ]
  },
  {
   "cell_type": "markdown",
   "id": "a866c83b",
   "metadata": {},
   "source": [
    "###  Time Spans "
   ]
  },
  {
   "cell_type": "markdown",
   "id": "90312cce",
   "metadata": {},
   "source": [
    "We may also want to do arithmetic with date-time variables. This results in three classes of time spans:\n",
    "\n",
    "- **Durations**, which represent an exact number of seconds.\n",
    "- **Periods**, which represent human units like weeks and months.\n",
    "- **Intervals**, which represent a starting and ending point."
   ]
  },
  {
   "cell_type": "markdown",
   "id": "b596f539",
   "metadata": {},
   "source": [
    "Subtracting two date-times yields a difftime class object which records a time span of seconds, minutes, hours, days, or weeks. "
   ]
  },
  {
   "cell_type": "code",
   "execution_count": null,
   "id": "051ad37d",
   "metadata": {},
   "outputs": [],
   "source": [
    "days_in_23 = today() - ymd(\"2023-01-01\")\n",
    "days_in_23"
   ]
  },
  {
   "cell_type": "markdown",
   "id": "9f1d2cf0",
   "metadata": {},
   "source": [
    "`lubridate` uses **duration** which always uses seconds to maintain consistency."
   ]
  },
  {
   "cell_type": "code",
   "execution_count": null,
   "id": "0bf76600",
   "metadata": {},
   "outputs": [],
   "source": [
    "as.duration(days_in_23)"
   ]
  },
  {
   "cell_type": "markdown",
   "id": "d6b82614",
   "metadata": {},
   "source": [
    "The are a number of functions that help us work with durations:"
   ]
  },
  {
   "cell_type": "code",
   "execution_count": null,
   "id": "228a4499",
   "metadata": {},
   "outputs": [],
   "source": [
    "dminutes(1)\n",
    "ddays(0:5)\n",
    "\n",
    "dhours(10) + ddays(1:3)"
   ]
  },
  {
   "cell_type": "markdown",
   "id": "30613b84",
   "metadata": {},
   "source": [
    "These functions allow us to conveniently do arithmetic with date-times"
   ]
  },
  {
   "cell_type": "code",
   "execution_count": null,
   "id": "462a5108",
   "metadata": {},
   "outputs": [],
   "source": [
    "ymd_hms(\"2026-07-08 12:34:56\") + dhours(2)\n",
    "\n",
    "ymd_hms(\"2026-07-08 12:34:56\") - dweeks(2)\n",
    "\n",
    "ymd_hms(\"2026-07-08 12:34:56\") - ddays(1:3)"
   ]
  },
  {
   "cell_type": "markdown",
   "id": "8e32b36a",
   "metadata": {},
   "source": [
    "**Periods** are time spans that work with human units such as days and months. Similar to **durations** `lubridate` contains functions that allow us to use arithmetic to build periods."
   ]
  },
  {
   "cell_type": "code",
   "execution_count": null,
   "id": "64d2589e",
   "metadata": {},
   "outputs": [],
   "source": [
    "hours(c(12, 24))\n",
    "months(1:4)"
   ]
  },
  {
   "cell_type": "code",
   "execution_count": null,
   "id": "b94773b8",
   "metadata": {},
   "outputs": [],
   "source": [
    "years(1) + months(6)\n",
    "\n",
    "years(1) + months(4)"
   ]
  },
  {
   "cell_type": "markdown",
   "id": "d8353454",
   "metadata": {},
   "source": [
    "As with **durations** we can use **periods** to modify date-time variables"
   ]
  },
  {
   "cell_type": "code",
   "execution_count": null,
   "id": "ff3b131a",
   "metadata": {},
   "outputs": [],
   "source": [
    "today() + months(6)"
   ]
  },
  {
   "cell_type": "markdown",
   "id": "6925efbc",
   "metadata": {},
   "source": [
    "Using **periods** are beneficial for processing date-time variables when considering changes in date-times as a result of day light savings or leap year.\n",
    "\n",
    "We can see below that since **durations** are in terms of seconds we don't account for daylight savings."
   ]
  },
  {
   "cell_type": "code",
   "execution_count": null,
   "id": "1468bd04",
   "metadata": {},
   "outputs": [],
   "source": [
    " ymd_hms(\"2023-03-11 03:00:00\", tz = \"America/New_York\") + ddays(1)\n",
    "\n",
    " ymd_hms(\"2023-03-11 03:00:00\", tz = \"America/New_York\") + days(1)"
   ]
  },
  {
   "cell_type": "markdown",
   "id": "7b3ef4b7",
   "metadata": {},
   "source": [
    "The lengths of years and days will vary depending on the specific date. Some years have 365 days while other have 366. The length of a day differs depending on whether it is daylight savings time. As a result **durations** are defined as the number of seconds per average year or day. We can see this below."
   ]
  },
  {
   "cell_type": "code",
   "execution_count": null,
   "id": "140d6e71",
   "metadata": {},
   "outputs": [],
   "source": [
    "dyears(1) / ddays(365)\n",
    "years(1) / days(1)"
   ]
  },
  {
   "cell_type": "markdown",
   "id": "519b6b23",
   "metadata": {},
   "source": [
    "**Duraitons** and **periods** do not give precise measurements. For that we can use **intervals**, to evaluate the precise time span for a particular interval of time. \n",
    "You can create an interval by writing start `%--%` end:"
   ]
  },
  {
   "cell_type": "code",
   "execution_count": null,
   "id": "99336b7a",
   "metadata": {},
   "outputs": [],
   "source": [
    "y2023 <- ymd(\"2023-01-01\") %--% ymd(\"2024-01-01\")\n",
    "y2023"
   ]
  },
  {
   "cell_type": "code",
   "execution_count": null,
   "id": "3b1031f2",
   "metadata": {},
   "outputs": [],
   "source": [
    "y2023 / days(1)"
   ]
  },
  {
   "cell_type": "markdown",
   "id": "99a95eed",
   "metadata": {},
   "source": [
    "## Dates and Times Exercises"
   ]
  },
  {
   "cell_type": "markdown",
   "id": "660b5cbe",
   "metadata": {},
   "source": [
    "1.) Plot the average depature delay per hour for each day of the week."
   ]
  },
  {
   "cell_type": "markdown",
   "id": "65da0998",
   "metadata": {},
   "source": [
    "2.) Convert `arr_time` and `dep_time` to date-time variables. Calculate their difference and \n",
    "compare the result to air_time. Compare this to taking the difference of `arr_time` and `dep_time`  directly.\n",
    "\n",
    "_hint_ 1: You'll probably need to consider the different time zones between destination and origin. How can we incorporate the airports dataset to account for this?   \n",
    "_hint_ 2: Note that `dep_time` and `arr_time` are in HHMM format (e.g 513 is 5 hours and 13 minutes).   \n",
    "_hint_ 3:The function  `%/%` is integer division and `%%` returns the remainder from divison so 513 %/% returns 5 and 513 %% 100 returns 13. Use theses function with your knowledge of `dep_time` and `arr_time` to construct a date time variable."
   ]
  },
  {
   "cell_type": "code",
   "execution_count": null,
   "id": "6f27375b",
   "metadata": {},
   "outputs": [],
   "source": [
    "#@title Exercise 1 Answer\n",
    "flights %>%\n",
    "    mutate(weekday = wday(time_hour, label = T)) %>% \n",
    "    group_by(weekday, hour) %>% \n",
    "    summarise(dep_delay = mean(dep_delay, na.rm=T) , .groups = 'drop') %>% \n",
    "    ggplot(aes(x = hour, y = dep_delay)) + \n",
    "    geom_col() + facet_wrap(~weekday)"
   ]
  },
  {
   "cell_type": "code",
   "execution_count": null,
   "id": "0902dda8",
   "metadata": {},
   "outputs": [],
   "source": [
    "#@title Exercise 2 Answer\n",
    "flights %>% inner_join(select(airports, faa, origin_tz = tzone),\n",
    "                       by = c(\"origin\" = \"faa\")) %>% \n",
    "            inner_join(select(airports, faa, dest_tz = tzone),\n",
    "                         by = c(\"dest\" = \"faa\")) %>% \n",
    "        mutate(\n",
    "             departure  = make_datetime(year, month, day,\n",
    "                                        hour = dep_time %/% 100,\n",
    "                                        min = dep_time %% 100, \n",
    "                                       tz = origin_tz),\n",
    "             arrival   = make_datetime(year, month, day,\n",
    "                                        hour = arr_time %/% 100,\n",
    "                                        min = arr_time %% 100, tz = dest_tz),\n",
    "            flight_duration = arrival - departure,\n",
    "            flight_duration_no_tz = arr_time - dep_time, \n",
    "            air_time = air_time / 60\n",
    "        ) %>%\n",
    "select(flight_duration, flight_duration_no_tz, air_time, departure, arrival,\n",
    "       dep_time,arr_time, origin, dest) %>% head(20)\n"
   ]
  }
 ],
 "metadata": {
  "kernelspec": {
   "display_name": "R",
   "language": "R",
   "name": "ir"
  },
  "language_info": {
   "codemirror_mode": "r",
   "file_extension": ".r",
   "mimetype": "text/x-r-source",
   "name": "R",
   "pygments_lexer": "r",
   "version": "4.2.2"
  }
 },
 "nbformat": 4,
 "nbformat_minor": 5
}
