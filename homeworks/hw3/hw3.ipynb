{
  "cells": [
    {
      "cell_type": "code",
      "execution_count": null,
      "metadata": {
        "id": "4leO5bvzr3ya",
        "nbgrader": {
          "grade": false,
          "grade_id": "cell-1be04a157d86c84b",
          "locked": true,
          "schema_version": 3,
          "solution": false
        },
        "vscode": {
          "languageId": "r"
        }
      },
      "outputs": [],
      "source": [
        "install.packages(\"tidyverse\")\n",
        "install.packages(\"nycflights13\")\n",
        "library(tidyverse)\n",
        "library(nycflights13)\n",
        "options(repr.plot.width=5, repr.plot.height=4)"
      ]
    },
    {
      "cell_type": "markdown",
      "metadata": {
        "id": "8qK_sLRrr3yc",
        "nbgrader": {
          "grade": false,
          "grade_id": "cell-281caadd66986182",
          "locked": true,
          "schema_version": 3,
          "solution": false
        }
      },
      "source": [
        "# STATS 306\n",
        "## Homework 3:  Advanced `dplyr` and tidy data\n",
        "\n",
        "For each problem, enter the R code in the cell marked \"YOUR SOLUTION HERE\"."
      ]
    },
    {
      "cell_type": "markdown",
      "metadata": {
        "id": "631zEA_mr3yd",
        "nbgrader": {
          "grade": false,
          "grade_id": "cell-421557d86106e43b",
          "locked": true,
          "schema_version": 3,
          "solution": false
        }
      },
      "source": [
        "## Problem 1: Why so delayed? (4 points)\n",
        "The following code adds a variable `week` to `flights`, such that `week==1` for the first seven days of the year, `week==2` for days 8-14, etc. (In the second half of the semester we will learn how to work with times and date data using the `lubridate` package.)"
      ]
    },
    {
      "cell_type": "code",
      "execution_count": null,
      "metadata": {
        "id": "1ioDkDK7r3yd",
        "nbgrader": {
          "grade": false,
          "grade_id": "cell-88e1b70275693fee",
          "locked": true,
          "schema_version": 3,
          "solution": false
        },
        "vscode": {
          "languageId": "r"
        }
      },
      "outputs": [],
      "source": [
        "flights_week = mutate(flights, week=lubridate::week(time_hour))"
      ]
    },
    {
      "attachments": {},
      "cell_type": "markdown",
      "metadata": {
        "id": "EepM7rgjr3yd"
      },
      "source": [
        "**(a)** Make a bar plot of the proportion of flights each week whose actual departure time is NOT missing. The x-axis of your plot should contain the weeks of the year, ranging from 1 to 52, and the y-axis of your plot should be a number between 0 and 1 showing the decimal proportion of flights that have a departure time. What sort of plot geometry (line, bar, point, histogram, etc.) do you think is appropriate for this kind of plot? Does anything about this plot jump out at you? What and why? *1 point*"
      ]
    },
    {
      "cell_type": "code",
      "execution_count": null,
      "metadata": {
        "id": "kaVdMK0Zr3yd",
        "vscode": {
          "languageId": "r"
        }
      },
      "outputs": [],
      "source": [
        "# Your solution here\n"
      ]
    },
    {
      "cell_type": "markdown",
      "metadata": {
        "id": "O63-jpF8r3ye"
      },
      "source": [
        "**(b)** For the week with the highest fraction of missing departure times, generate a table which shows the proportion of missing departure times for each day of that week. Your table should have columns `year`, `month`, `day`, and `prop_miss_dep_time`. Sort your table in chronological order and store it in a variable called `table1b`. *1 point*"
      ]
    },
    {
      "cell_type": "code",
      "execution_count": null,
      "metadata": {
        "id": "EzNfTPQgr3ye",
        "vscode": {
          "languageId": "r"
        }
      },
      "outputs": [],
      "source": [
        "# Your solution here\n"
      ]
    },
    {
      "attachments": {},
      "cell_type": "markdown",
      "metadata": {
        "id": "9PDpOEuvr3ye"
      },
      "source": [
        "**(c)** 2 days in `table1b` should jump out at you. What you're discovering from the data is the [North American Blizzard of 2013](https://en.wikipedia.org/wiki/February_2013_North_American_blizzard). Many flights were cancelled due to extreme weather conditions. Identify the proportion of cancelled flights out of LaGuardia Airport (LGA) during the days that jumped out at you for each airline carrier in descending order. *1 point*"
      ]
    },
    {
      "cell_type": "code",
      "execution_count": null,
      "metadata": {
        "id": "lZsmOBdMr3yf",
        "vscode": {
          "languageId": "r"
        }
      },
      "outputs": [],
      "source": [
        "# Your solution here\n"
      ]
    },
    {
      "cell_type": "markdown",
      "metadata": {
        "id": "yHugOItnr3yf"
      },
      "source": [
        "**(d)** In your own words, summarize your findings from the previous exercises. Most importantly, comment on which airlines were the most and least cautious in terms of flight cancellations. Can you think of any reason why this might be? *1 point*"
      ]
    },
    {
      "cell_type": "markdown",
      "metadata": {
        "id": "pZUVh_a9r3yf"
      },
      "source": [
        "## Problem 2: Graduate school admissions (4 points)\n",
        "This problem studies a built-in dataset called `UCBAdmissions`. It contains graduate school admissions data from 1973 for six departments at UC Berkeley:"
      ]
    },
    {
      "cell_type": "code",
      "execution_count": null,
      "metadata": {
        "id": "Y1n4YDQ8r3yg",
        "vscode": {
          "languageId": "r"
        }
      },
      "outputs": [],
      "source": [
        "data(UCBAdmissions)\n",
        "ucb <- as_tibble(UCBAdmissions) %>% print"
      ]
    },
    {
      "cell_type": "markdown",
      "metadata": {
        "id": "1-vvEj5zr3yg"
      },
      "source": [
        "(For privacy reasons the names of the departments have been changed to `A`, `B`, ... , `F`.)"
      ]
    },
    {
      "attachments": {},
      "cell_type": "markdown",
      "metadata": {
        "id": "FW-zL6O4r3yg"
      },
      "source": [
        "**(a)**\n",
        "Using the tool we learned for summarizing and manipulating tidy data, create a summary table from `ucb` which shows the acceptance rate by gender. Your table should have 5 columns: `Department`, `Gender`, `Admitted`, `Rejected`, and `Proportion Admitted`. Store it in a variable called `table3a`. *1 point*\n",
        "\n",
        "<table>\n",
        "<thead><tr><th scope=\"col\">Department</th><th scope=\"col\">Gender</th><th scope=\"col\">Admitted</th><th scope=\"col\">Rejected</th><th scope=\"col\">Proportion_Admitted</th></tr></thead>\n",
        "<tbody>\n",
        "\t<tr><td>A</td> <td>Female   </td><td> &dash;     </td><td>&dash;     </td><td>&dash;</td></tr>\n",
        "\t<tr><td>A</td> <td>Male   </td><td> &dash;     </td><td>&dash;     </td><td>&dash;</td></tr>\n",
        "\t\t<tr><td>B</td> <td>Female   </td><td> &dash;     </td><td>&dash;     </td><td>&dash;</td></tr>\n",
        "\t\t\t<tr><td>B</td> <td>Male   </td><td> &dash;     </td><td>&dash;     </td><td>&dash;</td></tr>\n",
        "\t\t\t\t<tr><td>C</td> <td>Female   </td><td> &dash;     </td><td>&dash;     </td><td>&dash;</td></tr>\n",
        "\t\t\t\t\t<tr><td>C</td> <td>Male   </td><td> &dash;     </td><td>&dash;     </td><td>&dash;</td></tr>\n",
        "\t\t\t\t\t\t<tr><td>D</td> <td>Female   </td><td> &dash;     </td><td>&dash;     </td><td>&dash;</td></tr>\n",
        "\t\t\t\t\t\t\t<tr><td>D</td> <td>Male   </td><td> &dash;     </td><td>&dash;     </td><td>&dash;</td></tr>\n",
        "\t\t\t\t\t\t\t\t<tr><td>E</td> <td>Female   </td><td> &dash;     </td><td>&dash;     </td><td>&dash;</td></tr> \t<tr><td>E</td> <td>Male   </td><td> &dash;     </td><td>&dash;     </td><td>&dash;</td></tr> \t<tr><td>F</td> <td>Female   </td><td> &dash;     </td><td>&dash;     </td><td>&dash;</td></tr> \t<tr><td>F</td> <td>Male   </td><td> &dash;     </td><td>&dash;     </td><td>&dash;</td></tr>\n",
        "</tbody>\n",
        "</table>\n",
        "\n",
        "(A few entries have been provided for you; your job is to write code that will produce the complete table with no blanks.)"
      ]
    },
    {
      "cell_type": "code",
      "execution_count": null,
      "metadata": {
        "id": "-lcDg4LA8zoc",
        "vscode": {
          "languageId": "r"
        }
      },
      "outputs": [],
      "source": [
        "# Your solution here\n"
      ]
    },
    {
      "attachments": {},
      "cell_type": "markdown",
      "metadata": {
        "id": "nLmq3MuWr3yg"
      },
      "source": [
        "**(b)**\n",
        "In STATS 250 you [learned](https://www.youtube.com/watch?v=6gfMhsWmnwk) how to test for differences in proportions between two populations. Apply this to part (a) `table3a`. Was the overall proportion of men admitted statistically different from that of women? Perform an appropriate test and interpret your findings. What do these result suggest about admissions practices at UC Berkeley in the early 1970s? *1 point*\n",
        "\n",
        "(Hint: use the `prop.test()` function.)\n",
        "\n",
        "(Hint: use `table3a$Admitted` to extact the values in column `Admitted` from `table3a`.)"
      ]
    },
    {
      "cell_type": "code",
      "execution_count": 57,
      "metadata": {
        "id": "saP5JKhjen2O",
        "vscode": {
          "languageId": "r"
        }
      },
      "outputs": [],
      "source": [
        "# You solution here\n"
      ]
    },
    {
      "cell_type": "markdown",
      "metadata": {
        "id": "MqYcugDnr3yg"
      },
      "source": [
        "**(c)**\n",
        "Reproduce the table from Problem 1, but now stratify by department. \n",
        "Compute the male and female acceptance proportion for each department separately. *1 point*\n",
        "Your resulting table should look like:\n",
        "\n",
        "\n",
        "<table>\n",
        "<thead><tr><th scope=\"col\">Dept</th><th scope=\"col\">Female_Admitted</th><th scope=\"col\">Female_Rejected</th><th scope=\"col\">Male_Admitted</th><th scope=\"col\">Male_Rejected</th><th scope=\"col\">Male_Proportion_Admitted</th><th scope=\"col\">Female_Proportion_Admitted</th></tr></thead>\n",
        "<tbody>\n",
        "\t<tr><td>A         </td><td> 89      </td><td> &dash;       </td><td>&dash;       </td><td>&dash;       </td><td>&dash;</td><td>&dash;</td></tr>\n",
        "\t<tr><td>B         </td><td> &dash;       </td><td>  &dash;       </td><td>353</td><td>&dash;       </td><td>&dash;</td><td>&dash;</td></tr>\n",
        "\t<tr><td>C         </td><td> &dash;       </td><td>  391\t     </td><td>&dash;</td><td>&dash;       </td><td>&dash;</td><td>&dash;</td></tr>\n",
        "\t<tr><td>D         </td><td> &dash;       </td><td>  &dash;       </td><td>&dash;</td><td>&dash;       </td><td>0.33093525\t</td><td>&dash;</td></tr>\n",
        "\t<tr><td>E         </td><td> &dash;       </td><td>  &dash;       </td><td>&dash;</td><td>138       </td><td>&dash;</td><td>&dash;</td></tr>\n",
        " \t<tr><td>F         </td><td> &dash;       </td><td>  &dash;       </td><td>&dash;</td><td>&dash;       </td><td>&dash;</td><td>0.07038123</td></tr>\n",
        "\n",
        "</tbody>\n",
        "</table>\n",
        "\n",
        "(Again, a few table entries have been provided to help you check your work, and it is your job to provide code that computes the entire table automatically.)"
      ]
    },
    {
      "cell_type": "code",
      "execution_count": null,
      "metadata": {
        "id": "p7jNvKIS8qvl",
        "vscode": {
          "languageId": "r"
        }
      },
      "outputs": [],
      "source": [
        "# Your solution here\n"
      ]
    },
    {
      "cell_type": "markdown",
      "metadata": {
        "id": "m2oat3gEr3yg"
      },
      "source": [
        "**(d)**\n",
        "Do the department-level findings in part (c) agree or disagree with what you concluded in part (b)? Which departments agree with your conclusion in part (b) and which disagree? **Explain with numerical evidence for full credit.** *1 point*"
      ]
    },
    {
      "cell_type": "markdown",
      "metadata": {
        "id": "Bhxx8GT5r3yh",
        "nbgrader": {
          "grade": false,
          "grade_id": "cell-9ea1f017dd33edff",
          "locked": true,
          "schema_version": 3,
          "solution": false
        }
      },
      "source": [
        "## Problem 3: Popular Baby Names of the Decade (2 points)\n",
        "Recall from lecture the `babynames` dataset that contains a lot of information about frequency of baby names over time."
      ]
    },
    {
      "cell_type": "code",
      "execution_count": null,
      "metadata": {
        "id": "PNuX11rkr3yh",
        "vscode": {
          "languageId": "r"
        }
      },
      "outputs": [],
      "source": [
        "install.packages(\"babynames\")\n",
        "library(babynames)"
      ]
    },
    {
      "cell_type": "markdown",
      "metadata": {
        "id": "V933LtNUr3yh"
      },
      "source": [
        "**(a)** Generate a table that has **decade** on the vertical axis, and the most popular male **and** female name of each decade. A decade will be definied by the years ___0 - ___9. So for example, 1880-1889 is a decade followed by 1890-1899, etc. *1 point*\n",
        "\n",
        "Hint: The `floor` and `ceiling` function round a number to the lowest and highest integer respectively. You may find the `round_any` function to be useful. See example usage below."
      ]
    },
    {
      "cell_type": "code",
      "execution_count": null,
      "metadata": {
        "id": "f0X-eH_7rB8R",
        "vscode": {
          "languageId": "r"
        }
      },
      "outputs": [],
      "source": [
        "round_any <- function(x, accuracy, f=round) {\n",
        "  f(x/ accuracy) * accuracy\n",
        "}"
      ]
    },
    {
      "cell_type": "code",
      "execution_count": null,
      "metadata": {
        "id": "svu1dFCUr4k4",
        "vscode": {
          "languageId": "r"
        }
      },
      "outputs": [],
      "source": [
        "round_any(1884, 10, floor)\n",
        "round_any(1884, 10, ceiling)\n",
        "round_any(1884, 100, floor)\n",
        "round_any(1884, 1000, ceiling)"
      ]
    },
    {
      "cell_type": "markdown",
      "metadata": {
        "id": "ErXXfg2OrH3V"
      },
      "source": [
        "Hint: The `paste` function creates a string separating arguments by spaces. Try running the cell below for an example case."
      ]
    },
    {
      "cell_type": "code",
      "execution_count": null,
      "metadata": {
        "id": "H65fQDgYsC9D",
        "vscode": {
          "languageId": "r"
        }
      },
      "outputs": [],
      "source": [
        "paste(1880, \"-\", 1890)"
      ]
    },
    {
      "cell_type": "code",
      "execution_count": null,
      "metadata": {
        "id": "ABjgFN7UcE_F",
        "vscode": {
          "languageId": "r"
        }
      },
      "outputs": [],
      "source": [
        "# Your solution here\n"
      ]
    },
    {
      "cell_type": "markdown",
      "metadata": {
        "id": "eN-86xfOr3yh"
      },
      "source": [
        "**(b)** Do any names show up more than once? Write some code that shows a dataframe with all the names that show up more than once. **Manual answers will not receive credit. You must show the names within a separate dataframe.** *1 point*"
      ]
    },
    {
      "cell_type": "code",
      "execution_count": null,
      "metadata": {
        "id": "-UQqqY-7cIPc",
        "vscode": {
          "languageId": "r"
        }
      },
      "outputs": [],
      "source": [
        "# Your solution here\n"
      ]
    }
  ],
  "metadata": {
    "celltoolbar": "Create Assignment",
    "colab": {
      "provenance": []
    },
    "kernelspec": {
      "display_name": "R",
      "language": "R",
      "name": "ir"
    },
    "language_info": {
      "codemirror_mode": "r",
      "file_extension": ".r",
      "mimetype": "text/x-r-source",
      "name": "R",
      "pygments_lexer": "r",
      "version": "4.2.2"
    }
  },
  "nbformat": 4,
  "nbformat_minor": 0
}
