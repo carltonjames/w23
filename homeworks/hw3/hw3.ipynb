{
 "cells": [
  {
   "cell_type": "code",
   "execution_count": null,
   "metadata": {
    "nbgrader": {
     "grade": false,
     "grade_id": "cell-1be04a157d86c84b",
     "locked": true,
     "schema_version": 3,
     "solution": false
    }
   },
   "outputs": [],
   "source": [
    "# install.packages(\"tidyverse\")\n",
    "# install.packages(\"nycflights13\")\n",
    "library(tidyverse)\n",
    "library(nycflights13)\n",
    "options(repr.plot.width=5, repr.plot.height=4)"
   ]
  },
  {
   "cell_type": "markdown",
   "metadata": {
    "nbgrader": {
     "grade": false,
     "grade_id": "cell-281caadd66986182",
     "locked": true,
     "schema_version": 3,
     "solution": false
    }
   },
   "source": [
    "# STATS 306\n",
    "## Homework 2:  Advanced `dplyr` and tidy data\n",
    "\n",
    "For each problem, enter the R code in the cell marked \"YOUR SOLUTION HERE\"."
   ]
  },
  {
   "cell_type": "markdown",
   "metadata": {
    "nbgrader": {
     "grade": false,
     "grade_id": "cell-421557d86106e43b",
     "locked": true,
     "schema_version": 3,
     "solution": false
    }
   },
   "source": [
    "## Problem 1: Why so delayed?\n",
    "The following code adds a variable `week` to `flights`, such that `week==1` for the first seven days of the year, `week==2` for days 8-14, etc. (In the second half of the semester we will learn how to work with times and date data using the `lubridate` package.)"
   ]
  },
  {
   "cell_type": "code",
   "execution_count": null,
   "metadata": {
    "nbgrader": {
     "grade": false,
     "grade_id": "cell-88e1b70275693fee",
     "locked": true,
     "schema_version": 3,
     "solution": false
    }
   },
   "outputs": [],
   "source": [
    "flights_week = mutate(flights, week=lubridate::week(time_hour))"
   ]
  },
  {
   "cell_type": "markdown",
   "metadata": {},
   "source": [
    "**(a)** Make a bar plot of the proportion of scheduled flights each week whose departure time is missing. The x-axis of your plot should contain the weeks of the year, ranging from 1 to 52, and the y-axis of your plot should be a number between 0 and 1 showing the decimal proportion of flights that have a missing departure time. What sort of plot geometry (line, bar, point, histogram, etc.) do you think is appropriate for this kind of plot? Does anything about this plot jump out at you? What and why?"
   ]
  },
  {
   "cell_type": "code",
   "execution_count": null,
   "metadata": {},
   "outputs": [],
   "source": [
    "# Your solution here"
   ]
  },
  {
   "cell_type": "markdown",
   "metadata": {},
   "source": [
    "**(b)** For the week with the highest fraction of missing departure times, generate a table which shows the total number of missing departure times for each day of that week. Your table should have columns `year`, `month`, `day`, and `n_miss_dep_time`. Sort your table in chronological order and store it in a variable called `table1b`."
   ]
  },
  {
   "cell_type": "code",
   "execution_count": null,
   "metadata": {},
   "outputs": [],
   "source": [
    "# Your solution here"
   ]
  },
  {
   "cell_type": "markdown",
   "metadata": {},
   "source": [
    "**(c)** Two days in `table1b` should stand out from the rest. To figure out what is going on, we will join some weather data from the `weather` table. Since we have not yet covered joins, this table is provided for you:"
   ]
  },
  {
   "cell_type": "code",
   "execution_count": null,
   "metadata": {},
   "outputs": [],
   "source": [
    "table1c <- weather %>% filter(origin==\"LGA\") %>% left_join(table1b, .)"
   ]
  },
  {
   "cell_type": "markdown",
   "metadata": {},
   "source": [
    "Add a new variable `snowfall` to this table, which is equal to hourly precipitation (in inches) if the temperature is below freezing in that hour, and zero otherwise. Use it to generate the following plots:\n",
    "\n",
    "1. A bar plot of total snowfall for each day of the week in question, and\n",
    "2. A line showing the total number of flights with missing departure times for each day."
   ]
  },
  {
   "cell_type": "code",
   "execution_count": null,
   "metadata": {},
   "outputs": [],
   "source": [
    "# Your solution here"
   ]
  },
  {
   "cell_type": "markdown",
   "metadata": {},
   "source": [
    "**(d)** In your own words, summarize your findings from the previous exercises. What do missing departure times likely represent in these data?"
   ]
  },
  {
   "cell_type": "code",
   "execution_count": null,
   "metadata": {},
   "outputs": [],
   "source": [
    "# Your solution here\n",
    "# https://en.wikipedia.org/wiki/February_2013_North_American_blizzard"
   ]
  },
  {
   "cell_type": "markdown",
   "metadata": {},
   "source": [
    "## Problem 2: Graduate school admissions\n",
    "This problem studies a built-in dataset called `UCBAdmissions`. It contains graduate school admissions data from 1973 for six departments at UC Berkeley:"
   ]
  },
  {
   "cell_type": "code",
   "execution_count": null,
   "metadata": {},
   "outputs": [],
   "source": [
    "data(UCBAdmissions)\n",
    "ucb <- as_tibble(UCBAdmissions) %>% print"
   ]
  },
  {
   "cell_type": "markdown",
   "metadata": {},
   "source": [
    "(For privacy reasons the names of the departments have been changed to `A`, `B`, ... , `F`.)"
   ]
  },
  {
   "cell_type": "markdown",
   "metadata": {},
   "source": [
    "**(a)**\n",
    "Using the tool we learned for summarizing and manipulating tidy data, create a summary table from `ucb` which shows the acceptance rate by gender. Your table should have four columns: `Gender`, `Admitted`, `Rejected`, and `Proportion Admitted`.\n",
    "\n",
    "<table>\n",
    "<thead><tr><th scope=\"col\">Gender</th><th scope=\"col\">Admitted</th><th scope=\"col\">Rejected</th><th scope=\"col\">Proportion Admitted</th></tr></thead>\n",
    "<tbody>\n",
    "\t<tr><td>Female   </td><td> 557     </td><td>&dash;     </td><td>&dash;</td></tr>\n",
    "\t<tr><td>Male     </td><td> &dash;     </td><td>&dash;     </td><td>0.4451877</td></tr>\n",
    "</tbody>\n",
    "</table>\n",
    "\n",
    "(A few entries have been provided for you; your job is to write code that will produce the complete table with no blanks.)"
   ]
  },
  {
   "cell_type": "markdown",
   "metadata": {},
   "source": [
    "**(b)**\n",
    "In STATS 250 you [learned](https://www.youtube.com/watch?v=6gfMhsWmnwk) how to test for differences in proportions between two populations. Apply this to part (a). Was the overall proportion of men admitted statistically different from that of women? Perform an appropriate test and interpret your findings. What do these result suggest about admissions practices at UC Berkeley in the early 1970s?\n",
    "\n",
    "(Hint: use the `prop.test()` function.)"
   ]
  },
  {
   "cell_type": "markdown",
   "metadata": {},
   "source": [
    "**(c)**\n",
    "Reproduce the table from Problem 1, but now stratify by department. \n",
    "Compute the male and female acceptance proportion for each department separately.\n",
    "Your resulting table should look like:\n",
    "\n",
    "\n",
    "<table>\n",
    "<thead><tr><th scope=\"col\">Dept</th><th scope=\"col\">Female_Admitted</th><th scope=\"col\">Female_Rejected</th><th scope=\"col\">Male_Admitted</th><th scope=\"col\">Male_Rejected</th><th scope=\"col\">Male Proportion Admitted</th><th scope=\"col\">Female Proportion Admitted</th></tr></thead>\n",
    "<tbody>\n",
    "\t<tr><td>A         </td><td> 89      </td><td> &dash;       </td><td>&dash;       </td><td>&dash;       </td><td>&dash;</td><td>&dash;</td></tr>\n",
    "\t<tr><td>B         </td><td> &dash;       </td><td>  &dash;       </td><td>353</td><td>&dash;       </td><td>&dash;</td><td>&dash;</td></tr>\n",
    "\t<tr><td>C         </td><td> &dash;       </td><td>  391\t     </td><td>&dash;</td><td>&dash;       </td><td>&dash;</td><td>&dash;</td></tr>\n",
    "\t<tr><td>D         </td><td> &dash;       </td><td>  &dash;       </td><td>&dash;</td><td>&dash;       </td><td>0.33093525\t</td><td>&dash;</td></tr>\n",
    "\t<tr><td>E         </td><td> &dash;       </td><td>  &dash;       </td><td>&dash;</td><td>138       </td><td>&dash;</td><td>&dash;</td></tr>\n",
    " \t<tr><td>F         </td><td> &dash;       </td><td>  &dash;       </td><td>&dash;</td><td>&dash;       </td><td>&dash;</td><td>0.07038123</td></tr>\n",
    "\n",
    "</tbody>\n",
    "</table>\n",
    "\n",
    "(Again, a few table entries have been provided to help you check your work, and it is your job to provide code that computes the entire table automatically.)"
   ]
  },
  {
   "cell_type": "markdown",
   "metadata": {},
   "source": [
    "**(d)**\n",
    "Do the department-level findings in part (c) agree or disagree with what you concluded in part (b)? Explain your reasoning."
   ]
  },
  {
   "cell_type": "markdown",
   "metadata": {
    "nbgrader": {
     "grade": false,
     "grade_id": "cell-9ea1f017dd33edff",
     "locked": true,
     "schema_version": 3,
     "solution": false
    }
   },
   "source": [
    "## Problem 3: The changing climate of Ann Arbor (Challenge problem)\n",
    "Recall from lecture the `a2weather` dataset that contains daily temperature measurements for Ann Arbor, going back to 1891:"
   ]
  },
  {
   "cell_type": "code",
   "execution_count": null,
   "metadata": {},
   "outputs": [],
   "source": [
    "load('a2weather.RData')\n",
    "# if running on colab, use:\n",
    "#\n",
    "#  load(url('http://datasets.stats306.org/a2weather.RData'))\n",
    "#\n",
    "# instead"
   ]
  },
  {
   "cell_type": "markdown",
   "metadata": {},
   "source": [
    "**(a)** Use the data manipulation commands we learned in lecture to generate a table that has **decade** on the vertical axis, **month** on the horizontal axis, and \"average daily high temperature in degrees Fahrenheit\" in each cell.\n",
    "\n",
    "Hint: the same table generated for New York City looks like:\n",
    "\n",
    "    # A tibble: 17 × 13\n",
    "    # Groups:   decade [17]\n",
    "       decade        Jan   Feb   Mar   Apr   May   Jun   Jul   Aug   Sep   Oct   Nov\n",
    "       <fct>       <dbl> <dbl> <dbl> <dbl> <dbl> <dbl> <dbl> <dbl> <dbl> <dbl> <dbl>\n",
    "     1 1860 - 1869  39.5  39.7  41.8  55.6  66.9  73.8  77.8  77.3  70.7  57.4  45.7\n",
    "     2 1870 - 1879  36.7  37.5  44.2  55.9  68.5  78.5  83.3  80.7  72.3  62.6  48.2\n",
    "     3 1880 - 1889  34.7  37.3  41.9  56.3  69.3  78.7  82.1  79.3  73.0  60.7  49.2\n",
    "     4 1890 - 1899  38.0  38.3  44.4  57.0  69.1  79.5  82.8  81.7  75.3  61.9  50.9\n",
    "     5 1900 - 1909  38.2  35.7  46.5  56.8  68.8  77.8  83.7  80.6  74.9  63.5  51.2\n",
    "     6 1910 - 1919  38.9  37.2  46.6  58.3  69.8  77.1  83.2  81.3  74.7  65.2  51.4\n",
    "           .\n",
    "           .\n",
    "           .\n",
    "     \n",
    "(Note that the NYC dataset goes back even further, to the 1860s!)"
   ]
  },
  {
   "cell_type": "code",
   "execution_count": null,
   "metadata": {},
   "outputs": [],
   "source": [
    "# Solution"
   ]
  },
  {
   "cell_type": "markdown",
   "metadata": {},
   "source": [
    "**(b)** If you had to predict what the weather in January will be like in Ann Arbor in 20 years, what would your answer be?"
   ]
  }
 ],
 "metadata": {
  "celltoolbar": "Create Assignment",
  "kernelspec": {
   "display_name": "R",
   "language": "R",
   "name": "ir"
  },
  "language_info": {
   "codemirror_mode": "r",
   "file_extension": ".r",
   "mimetype": "text/x-r-source",
   "name": "R",
   "pygments_lexer": "r",
   "version": "4.2.2"
  }
 },
 "nbformat": 4,
 "nbformat_minor": 4
}
