{
 "cells": [
  {
   "cell_type": "code",
   "execution_count": 1,
   "metadata": {
    "nbgrader": {
     "grade": false,
     "grade_id": "cell-d1761bfdb43c7ec3",
     "locked": true,
     "schema_version": 3,
     "solution": false
    }
   },
   "outputs": [
    {
     "name": "stderr",
     "output_type": "stream",
     "text": [
      "Registered S3 method overwritten by 'rvest':\n",
      "  method            from\n",
      "  read_xml.response xml2\n",
      "── \u001b[1mAttaching packages\u001b[22m ─────────────────────────────────────── tidyverse 1.2.1 ──\n",
      "\u001b[32m✔\u001b[39m \u001b[34mggplot2\u001b[39m 3.2.1     \u001b[32m✔\u001b[39m \u001b[34mpurrr  \u001b[39m 0.3.3\n",
      "\u001b[32m✔\u001b[39m \u001b[34mtibble \u001b[39m 2.1.3     \u001b[32m✔\u001b[39m \u001b[34mdplyr  \u001b[39m 0.8.3\n",
      "\u001b[32m✔\u001b[39m \u001b[34mtidyr  \u001b[39m 0.8.3     \u001b[32m✔\u001b[39m \u001b[34mstringr\u001b[39m 1.4.0\n",
      "\u001b[32m✔\u001b[39m \u001b[34mreadr  \u001b[39m 1.3.1     \u001b[32m✔\u001b[39m \u001b[34mforcats\u001b[39m 0.4.0\n",
      "── \u001b[1mConflicts\u001b[22m ────────────────────────────────────────── tidyverse_conflicts() ──\n",
      "\u001b[31m✖\u001b[39m \u001b[34mdplyr\u001b[39m::\u001b[32mfilter()\u001b[39m masks \u001b[34mstats\u001b[39m::filter()\n",
      "\u001b[31m✖\u001b[39m \u001b[34mdplyr\u001b[39m::\u001b[32mlag()\u001b[39m    masks \u001b[34mstats\u001b[39m::lag()\n"
     ]
    }
   ],
   "source": [
    "library(tidyverse)\n",
    "library(stringr)\n",
    "options(jupyter.rich_display=T)\n",
    "library(harrypotter)\n",
    "library(tidytext)\n",
    "options(repr.plot.width=4, repr.plot.height=3)"
   ]
  },
  {
   "cell_type": "markdown",
   "metadata": {
    "nbgrader": {
     "grade": false,
     "grade_id": "cell-a2b64305f95add5c",
     "locked": true,
     "schema_version": 3,
     "solution": false
    }
   },
   "source": [
    "# STATS 306\n",
    "## Problem Set 5: Text Analysis\n",
    "This problem set is shorter than usual because of the midterm. It contains five problems, each worth one point each."
   ]
  },
  {
   "cell_type": "markdown",
   "metadata": {
    "nbgrader": {
     "grade": false,
     "grade_id": "cell-8bdb77bfd4a5e318",
     "locked": true,
     "schema_version": 3,
     "solution": false,
     "task": false
    }
   },
   "source": [
    "### Sentiment Analysis\n",
    "In problems 1-2 we will perform *sentiment analysis* of the Harry Potter books. The file `afinn.RData` contains a sentiment score for a large number of words in the English language:"
   ]
  },
  {
   "cell_type": "code",
   "execution_count": 2,
   "metadata": {
    "nbgrader": {
     "grade": false,
     "grade_id": "cell-a0b1b3db5aa2f68d",
     "locked": true,
     "schema_version": 3,
     "solution": false,
     "task": false
    }
   },
   "outputs": [
    {
     "name": "stdout",
     "output_type": "stream",
     "text": [
      "\u001b[38;5;246m# A tibble: 2,477 x 2\u001b[39m\n",
      "   word       value\n",
      "   \u001b[3m\u001b[38;5;246m<chr>\u001b[39m\u001b[23m      \u001b[3m\u001b[38;5;246m<dbl>\u001b[39m\u001b[23m\n",
      "\u001b[38;5;250m 1\u001b[39m abandon       -\u001b[31m2\u001b[39m\n",
      "\u001b[38;5;250m 2\u001b[39m abandoned     -\u001b[31m2\u001b[39m\n",
      "\u001b[38;5;250m 3\u001b[39m abandons      -\u001b[31m2\u001b[39m\n",
      "\u001b[38;5;250m 4\u001b[39m abducted      -\u001b[31m2\u001b[39m\n",
      "\u001b[38;5;250m 5\u001b[39m abduction     -\u001b[31m2\u001b[39m\n",
      "\u001b[38;5;250m 6\u001b[39m abductions    -\u001b[31m2\u001b[39m\n",
      "\u001b[38;5;250m 7\u001b[39m abhor         -\u001b[31m3\u001b[39m\n",
      "\u001b[38;5;250m 8\u001b[39m abhorred      -\u001b[31m3\u001b[39m\n",
      "\u001b[38;5;250m 9\u001b[39m abhorrent     -\u001b[31m3\u001b[39m\n",
      "\u001b[38;5;250m10\u001b[39m abhors        -\u001b[31m3\u001b[39m\n",
      "\u001b[38;5;246m# … with 2,467 more rows\u001b[39m\n"
     ]
    }
   ],
   "source": [
    "load(\"afinn.RData\")\n",
    "print(afinn)"
   ]
  },
  {
   "cell_type": "markdown",
   "metadata": {
    "nbgrader": {
     "grade": false,
     "grade_id": "cell-fd453d3925b1ec23",
     "locked": true,
     "schema_version": 3,
     "solution": false,
     "task": false
    }
   },
   "source": [
    "Negatively connoted words receive low scores, while positively connoted words receive high scores:"
   ]
  },
  {
   "cell_type": "code",
   "execution_count": 3,
   "metadata": {
    "nbgrader": {
     "grade": false,
     "grade_id": "cell-727f2c40cd76f830",
     "locked": true,
     "schema_version": 3,
     "solution": false,
     "task": false
    }
   },
   "outputs": [
    {
     "data": {
      "text/html": [
       "<table>\n",
       "<caption>A spec_tbl_df: 2 × 2</caption>\n",
       "<thead>\n",
       "\t<tr><th scope=col>word</th><th scope=col>value</th></tr>\n",
       "\t<tr><th scope=col>&lt;chr&gt;</th><th scope=col>&lt;dbl&gt;</th></tr>\n",
       "</thead>\n",
       "<tbody>\n",
       "\t<tr><td>death </td><td>-2</td></tr>\n",
       "\t<tr><td>hurrah</td><td> 5</td></tr>\n",
       "</tbody>\n",
       "</table>\n"
      ],
      "text/latex": [
       "A spec_tbl_df: 2 × 2\n",
       "\\begin{tabular}{r|ll}\n",
       " word & value\\\\\n",
       " <chr> & <dbl>\\\\\n",
       "\\hline\n",
       "\t death  & -2\\\\\n",
       "\t hurrah &  5\\\\\n",
       "\\end{tabular}\n"
      ],
      "text/markdown": [
       "\n",
       "A spec_tbl_df: 2 × 2\n",
       "\n",
       "| word &lt;chr&gt; | value &lt;dbl&gt; |\n",
       "|---|---|\n",
       "| death  | -2 |\n",
       "| hurrah |  5 |\n",
       "\n"
      ],
      "text/plain": [
       "  word   value\n",
       "1 death  -2   \n",
       "2 hurrah  5   "
      ]
     },
     "metadata": {},
     "output_type": "display_data"
    }
   ],
   "source": [
    "filter(afinn, word %in% c(\"death\", \"hurrah\"))"
   ]
  },
  {
   "cell_type": "markdown",
   "metadata": {
    "nbgrader": {
     "grade": false,
     "grade_id": "cell-469649b5851fe552",
     "locked": true,
     "schema_version": 3,
     "solution": false,
     "task": false
    }
   },
   "source": [
    "By joining this table to other tables containing text data and summarizing, we can generate scores of how positive or negative the text is."
   ]
  },
  {
   "cell_type": "markdown",
   "metadata": {
    "nbgrader": {
     "grade": false,
     "grade_id": "cell-2be6421ceea97f78",
     "locked": true,
     "schema_version": 3,
     "solution": false,
     "task": false
    }
   },
   "source": [
    "#### Problem 1\n",
    "The `tidytext::unnest_tokens()` function can be used to break a chunk of text into \"tokens\" (words, sentences, etc.) It works as follows. Consider the following tibble, which contains all 17 chapters of the first book in the Harry Potter series:"
   ]
  },
  {
   "cell_type": "code",
   "execution_count": 4,
   "metadata": {
    "nbgrader": {
     "grade": false,
     "grade_id": "cell-5720923eadb15f71",
     "locked": true,
     "schema_version": 3,
     "solution": false,
     "task": false
    }
   },
   "outputs": [
    {
     "name": "stdout",
     "output_type": "stream",
     "text": [
      "\u001b[38;5;246m# A tibble: 17 x 2\u001b[39m\n",
      "   chapter text                                                                 \n",
      "     \u001b[3m\u001b[38;5;246m<int>\u001b[39m\u001b[23m \u001b[3m\u001b[38;5;246m<chr>\u001b[39m\u001b[23m                                                                \n",
      "\u001b[38;5;250m 1\u001b[39m       1 \u001b[38;5;246m\"\u001b[39mTHE BOY WHO LIVED　　Mr. and Mrs. Dursley, of number four, Privet Dri…\n",
      "\u001b[38;5;250m 2\u001b[39m       2 \u001b[38;5;246m\"\u001b[39mTHE VANISHING GLASS　　Nearly ten years had passed since the Dursleys…\n",
      "\u001b[38;5;250m 3\u001b[39m       3 \u001b[38;5;246m\"\u001b[39mTHE LETTERS FROM NO ONE　　The escape of the Brazilian boa constricto…\n",
      "\u001b[38;5;250m 4\u001b[39m       4 \u001b[38;5;246m\"\u001b[39mTHE KEEPER OF THE KEYS　　BOOM. They knocked again. Dudley jerked awa…\n",
      "\u001b[38;5;250m 5\u001b[39m       5 \u001b[38;5;246m\"\u001b[39mDIAGON ALLEY　　Harry woke early the next morning. Although he could …\n",
      "\u001b[38;5;250m 6\u001b[39m       6 \u001b[38;5;246m\"\u001b[39mTHE JOURNEY FROM PLATFORM NINE AND THREE-QUARTERS　　Harry's last mon…\n",
      "\u001b[38;5;250m 7\u001b[39m       7 \u001b[38;5;246m\"\u001b[39mTHE SORTING HAT　　The door swung open at once. A tall, black-haired …\n",
      "\u001b[38;5;250m 8\u001b[39m       8 \u001b[38;5;246m\"\u001b[39mTHE POTIONS MASTER　　There, look.\\\"　　\\\"Where?\\\"　　\\\"Next to the tall …\n",
      "\u001b[38;5;250m 9\u001b[39m       9 \u001b[38;5;246m\"\u001b[39mTHE MIDNIGHT DUEL　　Harry had never believed he would meet a boy he …\n",
      "\u001b[38;5;250m10\u001b[39m      10 \u001b[38;5;246m\"\u001b[39mHALLOWEEN　　Malfoy couldn't believe his eyes when he saw that Harry …\n",
      "\u001b[38;5;250m11\u001b[39m      11 \u001b[38;5;246m\"\u001b[39mQUIDDITCH　　As they entered November, the weather turned very cold. …\n",
      "\u001b[38;5;250m12\u001b[39m      12 \u001b[38;5;246m\"\u001b[39mTHE MIRROR OF ERISED　　Christmas was coming. One morning in mid-Dece…\n",
      "\u001b[38;5;250m13\u001b[39m      13 \u001b[38;5;246m\"\u001b[39mNICOLAS FLAMEL　　Dumbledore had convinced Harry not to go looking fo…\n",
      "\u001b[38;5;250m14\u001b[39m      14 \u001b[38;5;246m\"\u001b[39mNORBERT THE NORWEGIAN RIDGEBACK　　Quirrell, however, must have been …\n",
      "\u001b[38;5;250m15\u001b[39m      15 \u001b[38;5;246m\"\u001b[39mTHE FORIBIDDEN FOREST　　Things couldn't have been worse.　　Filch took…\n",
      "\u001b[38;5;250m16\u001b[39m      16 \u001b[38;5;246m\"\u001b[39mTHROUGH THE TRAPDOOR　　In years to come, Harry would never quite rem…\n",
      "\u001b[38;5;250m17\u001b[39m      17 \u001b[38;5;246m\"\u001b[39mTHE MAN WITH TWO FACES　　It was Quirrell.　　\\\"You!\\\" gasped Harry.　　Q…\n"
     ]
    }
   ],
   "source": [
    "phil_tbl <- tibble(chapter=seq_along(philosophers_stone), \n",
    "                   text=philosophers_stone) %>% print"
   ]
  },
  {
   "cell_type": "markdown",
   "metadata": {
    "nbgrader": {
     "grade": false,
     "grade_id": "cell-6458005323726b6c",
     "locked": true,
     "schema_version": 3,
     "solution": false,
     "task": false
    }
   },
   "source": [
    "To perform sentiment analysis, we need to break each chapter into words so that we can join it to the `afinn` table. This is what `unnest_tokens()` does:"
   ]
  },
  {
   "cell_type": "code",
   "execution_count": 5,
   "metadata": {
    "nbgrader": {
     "grade": false,
     "grade_id": "cell-d9a1412ce1c67af4",
     "locked": true,
     "schema_version": 3,
     "solution": false,
     "task": false
    }
   },
   "outputs": [
    {
     "name": "stdout",
     "output_type": "stream",
     "text": [
      "\u001b[38;5;246m# A tibble: 77,875 x 2\u001b[39m\n",
      "   chapter word   \n",
      "     \u001b[3m\u001b[38;5;246m<int>\u001b[39m\u001b[23m \u001b[3m\u001b[38;5;246m<chr>\u001b[39m\u001b[23m  \n",
      "\u001b[38;5;250m 1\u001b[39m       1 the    \n",
      "\u001b[38;5;250m 2\u001b[39m       1 boy    \n",
      "\u001b[38;5;250m 3\u001b[39m       1 who    \n",
      "\u001b[38;5;250m 4\u001b[39m       1 lived  \n",
      "\u001b[38;5;250m 5\u001b[39m       1 mr     \n",
      "\u001b[38;5;250m 6\u001b[39m       1 and    \n",
      "\u001b[38;5;250m 7\u001b[39m       1 mrs    \n",
      "\u001b[38;5;250m 8\u001b[39m       1 dursley\n",
      "\u001b[38;5;250m 9\u001b[39m       1 of     \n",
      "\u001b[38;5;250m10\u001b[39m       1 number \n",
      "\u001b[38;5;246m# … with 77,865 more rows\u001b[39m\n"
     ]
    }
   ],
   "source": [
    "phil_tok <- unnest_tokens(phil_tbl, input=text, output=word) %>% print"
   ]
  },
  {
   "attachments": {
    "image.png": {
     "image/png": "[encoded data removed]"
    }
   },
   "cell_type": "markdown",
   "metadata": {
    "nbgrader": {
     "grade": false,
     "grade_id": "cell-f434554a9cb77230",
     "locked": true,
     "schema_version": 3,
     "solution": false,
     "task": false
    }
   },
   "source": [
    "Using this table and `afinn`, we can assign sentiment scores to various portions of text. For example:\n",
    "\n",
    "![image.png](attachment:image.png)"
   ]
  },
  {
   "cell_type": "markdown",
   "metadata": {
    "nbgrader": {
     "grade": false,
     "grade_id": "cell-764bdd8bbd4ec469",
     "locked": true,
     "schema_version": 3,
     "solution": false,
     "task": false
    }
   },
   "source": [
    "#### Problem 1\n",
    "Some people say that the Harry Potter books became darker (more negative) over time. Use sentiment analysis to investigate this, and report your conclusion here. (Hint: A list of all the Harry Potter books can be obtained by looking at the help page for the `harrypotter` package.)"
   ]
  },
  {
   "cell_type": "code",
   "execution_count": 6,
   "metadata": {
    "nbgrader": {
     "grade": true,
     "grade_id": "cell-456e0f9282dcf3e0",
     "locked": false,
     "points": 0,
     "schema_version": 3,
     "solution": true,
     "task": false
    }
   },
   "outputs": [
    {
     "name": "stderr",
     "output_type": "stream",
     "text": [
      "Joining, by = \"word\"\n",
      "Joining, by = \"word\"\n"
     ]
    },
    {
     "data": {
      "image/png": "[encoded data removed]",
      "text/plain": [
       "plot without title"
      ]
     },
     "metadata": {},
     "output_type": "display_data"
    },
    {
     "data": {
      "image/png": "[encoded data removed]",
      "text/plain": [
       "plot without title"
      ]
     },
     "metadata": {},
     "output_type": "display_data"
    }
   ],
   "source": [
    "### BEGIN SOLUTION\n",
    "phil_tok %>% inner_join(afinn) %>% \n",
    "    group_by(chapter) %>%\n",
    "    summarize(frac_pos=mean(value)) %>%\n",
    "    ggplot + geom_line(aes(x=chapter, y=frac_pos))  + theme_classic() + \n",
    "    ylab(\"average sentiment score\")\n",
    "\n",
    "books = c(\n",
    "    \"philosophers_stone\",\n",
    "    \"chamber_of_secrets\", \n",
    "    \"prisoner_of_azkaban\",\n",
    "    \"goblet_of_fire\", \n",
    "    \"half_blood_prince\",\n",
    "    \"order_of_the_phoenix\",\n",
    "    \"deathly_hallows\"\n",
    ")\n",
    "map_dfr(books, ~ tibble(book=., chapter=seq_along(get(.)), text=get(.))) %>% \n",
    "    unnest_tokens(input=text, output=word) %>% \n",
    "    inner_join(afinn) %>% group_by(book) %>% \n",
    "    summarize(m=mean(value)) %>%\n",
    "    mutate(book = factor(book, levels=books)) %>% \n",
    "    arrange(desc(book)) %>%\n",
    "    ggplot + geom_col(aes(x=book, y=m)) + coord_flip() + theme_classic()\n",
    "### END SOLUTION"
   ]
  },
  {
   "cell_type": "markdown",
   "metadata": {
    "nbgrader": {
     "grade": true,
     "grade_id": "cell-5a523c491220f78d",
     "locked": false,
     "points": 0,
     "schema_version": 3,
     "solution": true,
     "task": false
    }
   },
   "source": [
    "### BEGIN SOLUTION\n",
    "\n",
    "### END SOLUTION"
   ]
  },
  {
   "cell_type": "markdown",
   "metadata": {
    "nbgrader": {
     "grade": false,
     "grade_id": "cell-0b846c7349b1ca76",
     "locked": true,
     "schema_version": 3,
     "solution": false,
     "task": false
    }
   },
   "source": [
    "#### Problem 2\n",
    "\n",
    "According to the sentiment scores, what is the most negative/positive chapter in any of the Harry Potter books? \n",
    "\n",
    "Of the sentences that contain three or more scored words, what is the happiest (most positive)?"
   ]
  },
  {
   "cell_type": "code",
   "execution_count": 7,
   "metadata": {
    "nbgrader": {
     "grade": true,
     "grade_id": "cell-d133bf2bdbc6ae66",
     "locked": false,
     "points": 0,
     "schema_version": 3,
     "solution": true,
     "task": false
    }
   },
   "outputs": [
    {
     "name": "stderr",
     "output_type": "stream",
     "text": [
      "Joining, by = \"word\"\n"
     ]
    },
    {
     "data": {
      "text/html": [
       "<table>\n",
       "<caption>A grouped_df: 2 × 5</caption>\n",
       "<thead>\n",
       "\t<tr><th scope=col>book</th><th scope=col>chapter</th><th scope=col>m</th><th scope=col>am</th><th scope=col>m &gt; 0</th></tr>\n",
       "\t<tr><th scope=col>&lt;chr&gt;</th><th scope=col>&lt;int&gt;</th><th scope=col>&lt;dbl&gt;</th><th scope=col>&lt;dbl&gt;</th><th scope=col>&lt;lgl&gt;</th></tr>\n",
       "</thead>\n",
       "<tbody>\n",
       "\t<tr><td>half_blood_prince</td><td> 9</td><td> 0.6862745</td><td>0.6862745</td><td> TRUE</td></tr>\n",
       "\t<tr><td>half_blood_prince</td><td>28</td><td>-1.1428571</td><td>1.1428571</td><td>FALSE</td></tr>\n",
       "</tbody>\n",
       "</table>\n"
      ],
      "text/latex": [
       "A grouped_df: 2 × 5\n",
       "\\begin{tabular}{r|lllll}\n",
       " book & chapter & m & am & m > 0\\\\\n",
       " <chr> & <int> & <dbl> & <dbl> & <lgl>\\\\\n",
       "\\hline\n",
       "\t half\\_blood\\_prince &  9 &  0.6862745 & 0.6862745 &  TRUE\\\\\n",
       "\t half\\_blood\\_prince & 28 & -1.1428571 & 1.1428571 & FALSE\\\\\n",
       "\\end{tabular}\n"
      ],
      "text/markdown": [
       "\n",
       "A grouped_df: 2 × 5\n",
       "\n",
       "| book &lt;chr&gt; | chapter &lt;int&gt; | m &lt;dbl&gt; | am &lt;dbl&gt; | m &gt; 0 &lt;lgl&gt; |\n",
       "|---|---|---|---|---|\n",
       "| half_blood_prince |  9 |  0.6862745 | 0.6862745 |  TRUE |\n",
       "| half_blood_prince | 28 | -1.1428571 | 1.1428571 | FALSE |\n",
       "\n"
      ],
      "text/plain": [
       "  book              chapter m          am        m > 0\n",
       "1 half_blood_prince  9       0.6862745 0.6862745  TRUE\n",
       "2 half_blood_prince 28      -1.1428571 1.1428571 FALSE"
      ]
     },
     "metadata": {},
     "output_type": "display_data"
    },
    {
     "name": "stderr",
     "output_type": "stream",
     "text": [
      "Joining, by = \"word\"\n"
     ]
    },
    {
     "data": {
      "text/html": [
       "<table>\n",
       "<caption>A grouped_df: 9 × 7</caption>\n",
       "<thead>\n",
       "\t<tr><th scope=col>book</th><th scope=col>chapter</th><th scope=col>sentence</th><th scope=col>m</th><th scope=col>am</th><th scope=col>n</th><th scope=col>m &gt; 0</th></tr>\n",
       "\t<tr><th scope=col>&lt;chr&gt;</th><th scope=col>&lt;int&gt;</th><th scope=col>&lt;chr&gt;</th><th scope=col>&lt;dbl&gt;</th><th scope=col>&lt;dbl&gt;</th><th scope=col>&lt;int&gt;</th><th scope=col>&lt;lgl&gt;</th></tr>\n",
       "</thead>\n",
       "<tbody>\n",
       "\t<tr><td>deathly_hallows     </td><td> 2</td><td>he wondered what his aunt and uncle would do with them; burn them in the dead of night, probably, as if they were evidence of some dreadful crime.                                                                                                                                                                                                                                                                                  </td><td>-3.0</td><td>3.0</td><td>3</td><td>FALSE</td></tr>\n",
       "\t<tr><td>deathly_hallows     </td><td>24</td><td>\"you turn up here with a dead house-elf and a half-conscious goblin, hermione looks as though she's been tortured, and ron's just refused to tell me anything ¨c \"\"we can't tell you what we're doing,\" said harry flatly.                                                                                                                                                                                                          </td><td>-3.0</td><td>3.0</td><td>3</td><td>FALSE</td></tr>\n",
       "\t<tr><td>deathly_hallows     </td><td>31</td><td>she concealed her loss, my dreadful betrayal, even from the other founders of hogwarts.\"\"                                                                                                                                                                                                                                                                                                                                           </td><td>-3.0</td><td>3.0</td><td>3</td><td>FALSE</td></tr>\n",
       "\t<tr><td>order_of_the_phoenix</td><td>13</td><td>she's evil, he thought, as he climbed a staircase to the seventh floor, she's an evil, twisted, mad old-    'ron?'                                                                                                                                                                                                                                                                                                                  </td><td>-3.0</td><td>3.0</td><td>3</td><td>FALSE</td></tr>\n",
       "\t<tr><td>order_of_the_phoenix</td><td>13</td><td>this is your punishment for spreading evil, nasty, attention-seeking stories, mr potter, and punishments certainly cannot be adjusted to suit the guilty one's convenience.                                                                                                                                                                                                                                                         </td><td>-3.0</td><td>3.0</td><td>3</td><td>FALSE</td></tr>\n",
       "\t<tr><td>order_of_the_phoenix</td><td>24</td><td>maniacal laughter was ringing in his ears . . . he was happier than he had been in a very long time . . . jubilant, ecstatic, triumphant . . . a wonderful, wonderful thing had happened . . .                                                                                                                                                                                                                                      </td><td> 3.8</td><td>3.8</td><td>5</td><td> TRUE</td></tr>\n",
       "\t<tr><td>order_of_the_phoenix</td><td>31</td><td>he might as well have tried to see moving pictures on the desktop as in the stubbornly blank crystal ball; he lost his head completely during tea-leaf reading, saying it looked to him as though professor marchbanks would shortly be meeting a round, dark, soggy stranger, and rounded off the whole fiasco by mixing up the life and head lines on her palm and informing her that she ought to have died the previous tuesday.</td><td>-3.0</td><td>3.0</td><td>3</td><td>FALSE</td></tr>\n",
       "\t<tr><td>order_of_the_phoenix</td><td>35</td><td>don't let her be dead, don't let her be dead, it's my fault if she's dead . . .                                                                                                                                                                                                                                                                                                                                                     </td><td>-3.0</td><td>3.0</td><td>3</td><td>FALSE</td></tr>\n",
       "\t<tr><td>prisoner_of_azkaban </td><td> 2</td><td>if there's something wrong with the bitch, there'll be something wrong with the pup --\"  at that moment, the wineglass aunt marge was holding exploded in her hand.                                                                                                                                                                                                                                                                 </td><td>-3.0</td><td>3.0</td><td>3</td><td>FALSE</td></tr>\n",
       "</tbody>\n",
       "</table>\n"
      ],
      "text/latex": [
       "A grouped_df: 9 × 7\n",
       "\\begin{tabular}{r|lllllll}\n",
       " book & chapter & sentence & m & am & n & m > 0\\\\\n",
       " <chr> & <int> & <chr> & <dbl> & <dbl> & <int> & <lgl>\\\\\n",
       "\\hline\n",
       "\t deathly\\_hallows      &  2 & he wondered what his aunt and uncle would do with them; burn them in the dead of night, probably, as if they were evidence of some dreadful crime.                                                                                                                                                                                                                                                                                   & -3.0 & 3.0 & 3 & FALSE\\\\\n",
       "\t deathly\\_hallows      & 24 & \"you turn up here with a dead house-elf and a half-conscious goblin, hermione looks as though she's been tortured, and ron's just refused to tell me anything ¨c \"\"we can't tell you what we're doing,\" said harry flatly.                                                                                                                                                                                                           & -3.0 & 3.0 & 3 & FALSE\\\\\n",
       "\t deathly\\_hallows      & 31 & she concealed her loss, my dreadful betrayal, even from the other founders of hogwarts.\"\"                                                                                                                                                                                                                                                                                                                                            & -3.0 & 3.0 & 3 & FALSE\\\\\n",
       "\t order\\_of\\_the\\_phoenix & 13 & she's evil, he thought, as he climbed a staircase to the seventh floor, she's an evil, twisted, mad old-    'ron?'                                                                                                                                                                                                                                                                                                                   & -3.0 & 3.0 & 3 & FALSE\\\\\n",
       "\t order\\_of\\_the\\_phoenix & 13 & this is your punishment for spreading evil, nasty, attention-seeking stories, mr potter, and punishments certainly cannot be adjusted to suit the guilty one's convenience.                                                                                                                                                                                                                                                          & -3.0 & 3.0 & 3 & FALSE\\\\\n",
       "\t order\\_of\\_the\\_phoenix & 24 & maniacal laughter was ringing in his ears . . . he was happier than he had been in a very long time . . . jubilant, ecstatic, triumphant . . . a wonderful, wonderful thing had happened . . .                                                                                                                                                                                                                                       &  3.8 & 3.8 & 5 &  TRUE\\\\\n",
       "\t order\\_of\\_the\\_phoenix & 31 & he might as well have tried to see moving pictures on the desktop as in the stubbornly blank crystal ball; he lost his head completely during tea-leaf reading, saying it looked to him as though professor marchbanks would shortly be meeting a round, dark, soggy stranger, and rounded off the whole fiasco by mixing up the life and head lines on her palm and informing her that she ought to have died the previous tuesday. & -3.0 & 3.0 & 3 & FALSE\\\\\n",
       "\t order\\_of\\_the\\_phoenix & 35 & don't let her be dead, don't let her be dead, it's my fault if she's dead . . .                                                                                                                                                                                                                                                                                                                                                      & -3.0 & 3.0 & 3 & FALSE\\\\\n",
       "\t prisoner\\_of\\_azkaban  &  2 & if there's something wrong with the bitch, there'll be something wrong with the pup --\"  at that moment, the wineglass aunt marge was holding exploded in her hand.                                                                                                                                                                                                                                                                  & -3.0 & 3.0 & 3 & FALSE\\\\\n",
       "\\end{tabular}\n"
      ],
      "text/markdown": [
       "\n",
       "A grouped_df: 9 × 7\n",
       "\n",
       "| book &lt;chr&gt; | chapter &lt;int&gt; | sentence &lt;chr&gt; | m &lt;dbl&gt; | am &lt;dbl&gt; | n &lt;int&gt; | m &gt; 0 &lt;lgl&gt; |\n",
       "|---|---|---|---|---|---|---|\n",
       "| deathly_hallows      |  2 | he wondered what his aunt and uncle would do with them; burn them in the dead of night, probably, as if they were evidence of some dreadful crime.                                                                                                                                                                                                                                                                                   | -3.0 | 3.0 | 3 | FALSE |\n",
       "| deathly_hallows      | 24 | \"you turn up here with a dead house-elf and a half-conscious goblin, hermione looks as though she's been tortured, and ron's just refused to tell me anything ¨c \"\"we can't tell you what we're doing,\" said harry flatly.                                                                                                                                                                                                           | -3.0 | 3.0 | 3 | FALSE |\n",
       "| deathly_hallows      | 31 | she concealed her loss, my dreadful betrayal, even from the other founders of hogwarts.\"\"                                                                                                                                                                                                                                                                                                                                            | -3.0 | 3.0 | 3 | FALSE |\n",
       "| order_of_the_phoenix | 13 | she's evil, he thought, as he climbed a staircase to the seventh floor, she's an evil, twisted, mad old-    'ron?'                                                                                                                                                                                                                                                                                                                   | -3.0 | 3.0 | 3 | FALSE |\n",
       "| order_of_the_phoenix | 13 | this is your punishment for spreading evil, nasty, attention-seeking stories, mr potter, and punishments certainly cannot be adjusted to suit the guilty one's convenience.                                                                                                                                                                                                                                                          | -3.0 | 3.0 | 3 | FALSE |\n",
       "| order_of_the_phoenix | 24 | maniacal laughter was ringing in his ears . . . he was happier than he had been in a very long time . . . jubilant, ecstatic, triumphant . . . a wonderful, wonderful thing had happened . . .                                                                                                                                                                                                                                       |  3.8 | 3.8 | 5 |  TRUE |\n",
       "| order_of_the_phoenix | 31 | he might as well have tried to see moving pictures on the desktop as in the stubbornly blank crystal ball; he lost his head completely during tea-leaf reading, saying it looked to him as though professor marchbanks would shortly be meeting a round, dark, soggy stranger, and rounded off the whole fiasco by mixing up the life and head lines on her palm and informing her that she ought to have died the previous tuesday. | -3.0 | 3.0 | 3 | FALSE |\n",
       "| order_of_the_phoenix | 35 | don't let her be dead, don't let her be dead, it's my fault if she's dead . . .                                                                                                                                                                                                                                                                                                                                                      | -3.0 | 3.0 | 3 | FALSE |\n",
       "| prisoner_of_azkaban  |  2 | if there's something wrong with the bitch, there'll be something wrong with the pup --\"  at that moment, the wineglass aunt marge was holding exploded in her hand.                                                                                                                                                                                                                                                                  | -3.0 | 3.0 | 3 | FALSE |\n",
       "\n"
      ],
      "text/plain": [
       "  book                 chapter\n",
       "1 deathly_hallows       2     \n",
       "2 deathly_hallows      24     \n",
       "3 deathly_hallows      31     \n",
       "4 order_of_the_phoenix 13     \n",
       "5 order_of_the_phoenix 13     \n",
       "6 order_of_the_phoenix 24     \n",
       "7 order_of_the_phoenix 31     \n",
       "8 order_of_the_phoenix 35     \n",
       "9 prisoner_of_azkaban   2     \n",
       "  sentence                                                                                                                                                                                                                                                                                                                                                                                                                            \n",
       "1 he wondered what his aunt and uncle would do with them; burn them in the dead of night, probably, as if they were evidence of some dreadful crime.                                                                                                                                                                                                                                                                                  \n",
       "2 \"you turn up here with a dead house-elf and a half-conscious goblin, hermione looks as though she's been tortured, and ron's just refused to tell me anything ¨c \"\"we can't tell you what we're doing,\" said harry flatly.                                                                                                                                                                                                          \n",
       "3 she concealed her loss, my dreadful betrayal, even from the other founders of hogwarts.\"\"                                                                                                                                                                                                                                                                                                                                           \n",
       "4 she's evil, he thought, as he climbed a staircase to the seventh floor, she's an evil, twisted, mad old-    'ron?'                                                                                                                                                                                                                                                                                                                  \n",
       "5 this is your punishment for spreading evil, nasty, attention-seeking stories, mr potter, and punishments certainly cannot be adjusted to suit the guilty one's convenience.                                                                                                                                                                                                                                                         \n",
       "6 maniacal laughter was ringing in his ears . . . he was happier than he had been in a very long time . . . jubilant, ecstatic, triumphant . . . a wonderful, wonderful thing had happened . . .                                                                                                                                                                                                                                      \n",
       "7 he might as well have tried to see moving pictures on the desktop as in the stubbornly blank crystal ball; he lost his head completely during tea-leaf reading, saying it looked to him as though professor marchbanks would shortly be meeting a round, dark, soggy stranger, and rounded off the whole fiasco by mixing up the life and head lines on her palm and informing her that she ought to have died the previous tuesday.\n",
       "8 don't let her be dead, don't let her be dead, it's my fault if she's dead . . .                                                                                                                                                                                                                                                                                                                                                     \n",
       "9 if there's something wrong with the bitch, there'll be something wrong with the pup --\"  at that moment, the wineglass aunt marge was holding exploded in her hand.                                                                                                                                                                                                                                                                 \n",
       "  m    am  n m > 0\n",
       "1 -3.0 3.0 3 FALSE\n",
       "2 -3.0 3.0 3 FALSE\n",
       "3 -3.0 3.0 3 FALSE\n",
       "4 -3.0 3.0 3 FALSE\n",
       "5 -3.0 3.0 3 FALSE\n",
       "6  3.8 3.8 5  TRUE\n",
       "7 -3.0 3.0 3 FALSE\n",
       "8 -3.0 3.0 3 FALSE\n",
       "9 -3.0 3.0 3 FALSE"
      ]
     },
     "metadata": {},
     "output_type": "display_data"
    }
   ],
   "source": [
    "### BEGIN SOLUTION\n",
    "books = c(\n",
    "    \"philosophers_stone\",\n",
    "    \"chamber_of_secrets\", \n",
    "    \"prisoner_of_azkaban\",\n",
    "    \"goblet_of_fire\", \n",
    "    \"half_blood_prince\",\n",
    "    \"order_of_the_phoenix\",\n",
    "    \"deathly_hallows\"\n",
    ")\n",
    "map_dfr(books, ~ tibble(book=., chapter=seq_along(get(.)), text=get(.))) %>% \n",
    "    unnest_tokens(input=text, output=word) %>% \n",
    "    inner_join(afinn) %>% group_by(book, chapter) %>% \n",
    "    summarize(m=mean(value), am=abs(m)) %>%\n",
    "    group_by(m>0) %>% \n",
    "    top_n(1, am)\n",
    "\n",
    "\n",
    "map_dfr(books, ~ tibble(book=., chapter=seq_along(get(.)), text=get(.))) %>% \n",
    "    unnest_tokens(input=text, output=sentence, token=\"sentences\") %>% \n",
    "    unnest_tokens(input=sentence, output=word, drop=F) %>% \n",
    "    inner_join(afinn) %>% \n",
    "    group_by(book, chapter, sentence) %>% \n",
    "    summarize(m = mean(value), am=abs(m), n=n()) %>%\n",
    "    filter(n >= 3) %>%\n",
    "    group_by(m>0) %>%\n",
    "    top_n(1, am)\n",
    "\n",
    "### END SOLUTION"
   ]
  },
  {
   "cell_type": "markdown",
   "metadata": {
    "nbgrader": {
     "grade": false,
     "grade_id": "cell-718c986a9bef0aca",
     "locked": true,
     "schema_version": 3,
     "solution": false
    }
   },
   "source": [
    "### Reddit dataset\n",
    "The file `reddit_xmas_2017.RData` contains 100,000 comments posted to Reddit on Christmas Day, 2017."
   ]
  },
  {
   "cell_type": "code",
   "execution_count": 8,
   "metadata": {
    "nbgrader": {
     "grade": false,
     "grade_id": "cell-1fa7cd0e5989af42",
     "locked": true,
     "schema_version": 3,
     "solution": false
    }
   },
   "outputs": [
    {
     "name": "stdout",
     "output_type": "stream",
     "text": [
      "\u001b[38;5;246m# A tibble: 100,000 x 3\u001b[39m\n",
      "   author        body                                        created_utc        \n",
      "   \u001b[3m\u001b[38;5;246m<chr>\u001b[39m\u001b[23m         \u001b[3m\u001b[38;5;246m<chr>\u001b[39m\u001b[23m                                       \u001b[3m\u001b[38;5;246m<dttm>\u001b[39m\u001b[23m             \n",
      "\u001b[38;5;250m 1\u001b[39m br_shadow     Thank you for this, there is a person writ… 2017-12-25 \u001b[38;5;246m15:49:08\u001b[39m\n",
      "\u001b[38;5;250m 2\u001b[39m Ksalol        They are not to quick actually. It's mainl… 2017-12-25 \u001b[38;5;246m17:42:50\u001b[39m\n",
      "\u001b[38;5;250m 3\u001b[39m itscool83     tell her you guys should hang out when you… 2017-12-25 \u001b[38;5;246m18:54:13\u001b[39m\n",
      "\u001b[38;5;250m 4\u001b[39m Glu7enFree    \u001b[38;5;246m\"\u001b[39mAutism is a high honor in the tech savvy … 2017-12-25 \u001b[38;5;246m07:48:17\u001b[39m\n",
      "\u001b[38;5;250m 5\u001b[39m Theotheogrea… \u001b[38;5;246m\"\u001b[39mYou thought a cat was your son?! \u001b[38;5;246m\"\u001b[39m         2017-12-25 \u001b[38;5;246m20:58:08\u001b[39m\n",
      "\u001b[38;5;250m 6\u001b[39m Shadrac121    Hopfully she takes wat people say in and m… 2017-12-25 \u001b[38;5;246m22:27:31\u001b[39m\n",
      "\u001b[38;5;250m 7\u001b[39m 1fzUjhemoSB1… Si ce propui sa facem cu toata pielea rama… 2017-12-25 \u001b[38;5;246m07:41:31\u001b[39m\n",
      "\u001b[38;5;250m 8\u001b[39m MinisterOfEd… \u001b[38;5;246m\"\u001b[39mI don't mean to be impolite, but if you'r… 2017-12-25 \u001b[38;5;246m19:28:35\u001b[39m\n",
      "\u001b[38;5;250m 9\u001b[39m AabidS10      i dont have a 720p x265 of it, sorry. i be… 2017-12-25 \u001b[38;5;246m13:20:32\u001b[39m\n",
      "\u001b[38;5;250m10\u001b[39m S3RG10        \u001b[38;5;246m\"\u001b[39mI'm dying to try Guatemalan sandals and w… 2017-12-25 \u001b[38;5;246m00:48:46\u001b[39m\n",
      "\u001b[38;5;246m# … with 99,990 more rows\u001b[39m\n"
     ]
    }
   ],
   "source": [
    "load('reddit_xmas_2017.RData')\n",
    "reddit %>% print"
   ]
  },
  {
   "cell_type": "markdown",
   "metadata": {
    "nbgrader": {
     "grade": false,
     "grade_id": "cell-849387f1fbc6d3aa",
     "locked": true,
     "schema_version": 3,
     "solution": false
    }
   },
   "source": [
    "Problems 3-5 ask you questions about this data set. Unless specified otherwise, all matches are case insensitive.\n",
    "\n",
    "(*Disclaimer*: I filtered out objectionable comments as best I could, but you may find more if you dig around this data for long enough.)"
   ]
  },
  {
   "cell_type": "markdown",
   "metadata": {
    "nbgrader": {
     "grade": false,
     "grade_id": "cell-d055c5ffc0dc61ba",
     "locked": true,
     "schema_version": 3,
     "solution": false
    }
   },
   "source": [
    "#### Problem 3\n",
    "Comment 174 wishes everyone a happy holidays:"
   ]
  },
  {
   "cell_type": "code",
   "execution_count": 9,
   "metadata": {
    "nbgrader": {
     "grade": false,
     "grade_id": "cell-f56b4f43b6f4cafa",
     "locked": true,
     "schema_version": 3,
     "solution": false,
     "task": false
    }
   },
   "outputs": [
    {
     "data": {
      "text/html": [
       "<table>\n",
       "<caption>A tibble: 1 × 3</caption>\n",
       "<thead>\n",
       "\t<tr><th scope=col>author</th><th scope=col>body</th><th scope=col>created_utc</th></tr>\n",
       "\t<tr><th scope=col>&lt;chr&gt;</th><th scope=col>&lt;chr&gt;</th><th scope=col>&lt;dttm&gt;</th></tr>\n",
       "</thead>\n",
       "<tbody>\n",
       "\t<tr><td>Bareilles</td><td>Thank you. Happy holidays everyone!</td><td>2017-12-25 01:33:50</td></tr>\n",
       "</tbody>\n",
       "</table>\n"
      ],
      "text/latex": [
       "A tibble: 1 × 3\n",
       "\\begin{tabular}{r|lll}\n",
       " author & body & created\\_utc\\\\\n",
       " <chr> & <chr> & <dttm>\\\\\n",
       "\\hline\n",
       "\t Bareilles & Thank you. Happy holidays everyone! & 2017-12-25 01:33:50\\\\\n",
       "\\end{tabular}\n"
      ],
      "text/markdown": [
       "\n",
       "A tibble: 1 × 3\n",
       "\n",
       "| author &lt;chr&gt; | body &lt;chr&gt; | created_utc &lt;dttm&gt; |\n",
       "|---|---|---|\n",
       "| Bareilles | Thank you. Happy holidays everyone! | 2017-12-25 01:33:50 |\n",
       "\n"
      ],
      "text/plain": [
       "  author    body                                created_utc        \n",
       "1 Bareilles Thank you. Happy holidays everyone! 2017-12-25 01:33:50"
      ]
     },
     "metadata": {},
     "output_type": "display_data"
    }
   ],
   "source": [
    "reddit %>% slice(174)"
   ]
  },
  {
   "cell_type": "markdown",
   "metadata": {
    "nbgrader": {
     "grade": false,
     "grade_id": "cell-ce3d459d5d49dde1",
     "locked": true,
     "schema_version": 3,
     "solution": false
    }
   },
   "source": [
    "What are other people wishing? Count the first occurrence of the string \"Happy `<word>`\" or \"Merry `<word>`\" in the comment body, if any, count the matches. \n",
    "\n",
    "To keep things interesting, do *not* include phrases matching `(happy|merry) (to|with|for|about|and|that|if|i|you|when)`. \n",
    "\n",
    "Print a table containing the top 20 matches; a few of the rows are:\n",
    "\n",
    "<table>\n",
    "<thead>\n",
    "    <tr><th scope=\"col\">greeting</th><th scope=\"col\">n</th></tr>\n",
    "    <tr><th scope=\"col\">&lt;chr&gt;</th><th scope=\"col\">&lt;int&gt;</th></tr>\n",
    "</thead>\n",
    "<tbody>\n",
    "    <tr><td>merry christmas</td><td>2040</td></tr>\n",
    "    <tr><td>happy holidays </td><td> &mdash;</td></tr>\n",
    "    <tr><td>&mdash;        </td><td> &mdash;</td></tr>\n",
    "    <tr><td>&mdash;        </td><td> &mdash;</td></tr>\n",
    "    <tr><td>&mdash;        </td><td> &mdash;</td></tr>\n",
    "    <tr><td>&mdash;        </td><td> &mdash;</td></tr>\n",
    "    <tr><td>&mdash;        </td><td> &mdash;</td></tr>\n",
    "    <tr><td>&mdash;        </td><td> &mdash;</td></tr>\n",
    "    <tr><td>&mdash;        </td><td>   7</td></tr>\n",
    "    <tr><td>happy cakeday  </td><td>   6</td></tr>\n",
    "</tbody>\n",
    "</table>\n",
    "\n",
    "Your numbers may vary slightly depending on how you performed the match."
   ]
  },
  {
   "cell_type": "code",
   "execution_count": 10,
   "metadata": {
    "nbgrader": {
     "grade": true,
     "grade_id": "problem7",
     "locked": false,
     "points": 0,
     "schema_version": 3,
     "solution": true,
     "task": false
    }
   },
   "outputs": [
    {
     "data": {
      "text/html": [
       "<table>\n",
       "<caption>A tibble: 10 × 2</caption>\n",
       "<thead>\n",
       "\t<tr><th scope=col>greeting</th><th scope=col>n</th></tr>\n",
       "\t<tr><th scope=col>&lt;chr&gt;</th><th scope=col>&lt;int&gt;</th></tr>\n",
       "</thead>\n",
       "<tbody>\n",
       "\t<tr><td>merry christmas</td><td>2040</td></tr>\n",
       "\t<tr><td>happy holidays </td><td> 477</td></tr>\n",
       "\t<tr><td>merry xmas     </td><td>  93</td></tr>\n",
       "\t<tr><td>happy christmas</td><td>  44</td></tr>\n",
       "\t<tr><td>happy cake     </td><td>  28</td></tr>\n",
       "\t<tr><td>happy birthday </td><td>  23</td></tr>\n",
       "\t<tr><td>happy new      </td><td>  15</td></tr>\n",
       "\t<tr><td>happy holiday  </td><td>  13</td></tr>\n",
       "\t<tr><td>merry x        </td><td>   7</td></tr>\n",
       "\t<tr><td>happy cakeday  </td><td>   6</td></tr>\n",
       "</tbody>\n",
       "</table>\n"
      ],
      "text/latex": [
       "A tibble: 10 × 2\n",
       "\\begin{tabular}{r|ll}\n",
       " greeting & n\\\\\n",
       " <chr> & <int>\\\\\n",
       "\\hline\n",
       "\t merry christmas & 2040\\\\\n",
       "\t happy holidays  &  477\\\\\n",
       "\t merry xmas      &   93\\\\\n",
       "\t happy christmas &   44\\\\\n",
       "\t happy cake      &   28\\\\\n",
       "\t happy birthday  &   23\\\\\n",
       "\t happy new       &   15\\\\\n",
       "\t happy holiday   &   13\\\\\n",
       "\t merry x         &    7\\\\\n",
       "\t happy cakeday   &    6\\\\\n",
       "\\end{tabular}\n"
      ],
      "text/markdown": [
       "\n",
       "A tibble: 10 × 2\n",
       "\n",
       "| greeting &lt;chr&gt; | n &lt;int&gt; |\n",
       "|---|---|\n",
       "| merry christmas | 2040 |\n",
       "| happy holidays  |  477 |\n",
       "| merry xmas      |   93 |\n",
       "| happy christmas |   44 |\n",
       "| happy cake      |   28 |\n",
       "| happy birthday  |   23 |\n",
       "| happy new       |   15 |\n",
       "| happy holiday   |   13 |\n",
       "| merry x         |    7 |\n",
       "| happy cakeday   |    6 |\n",
       "\n"
      ],
      "text/plain": [
       "   greeting        n   \n",
       "1  merry christmas 2040\n",
       "2  happy holidays   477\n",
       "3  merry xmas        93\n",
       "4  happy christmas   44\n",
       "5  happy cake        28\n",
       "6  happy birthday    23\n",
       "7  happy new         15\n",
       "8  happy holiday     13\n",
       "9  merry x            7\n",
       "10 happy cakeday      6"
      ]
     },
     "metadata": {},
     "output_type": "display_data"
    }
   ],
   "source": [
    "### BEGIN SOLUTION\n",
    "reddit %>%\n",
    "    mutate(greeting = str_extract(str_to_lower(body), \n",
    "                                  \"(happy|merry) \\\\w+\")) %>% \n",
    "    filter(!is.na(greeting)) %>% count(greeting) %>% \n",
    "    filter(!str_detect(greeting, '(happy|merry) (to|with|for|about|and|that|if|i|you|when)')) %>%\n",
    "    arrange(-n) %>% slice(1:10) \n",
    "### END SOLUTION"
   ]
  },
  {
   "attachments": {
    "image.png": {
     "image/png": "[encoded data removed]"
    }
   },
   "cell_type": "markdown",
   "metadata": {
    "nbgrader": {
     "grade": false,
     "grade_id": "cell-0868e4922137bd0e",
     "locked": true,
     "schema_version": 3,
     "solution": false
    }
   },
   "source": [
    "#### Problem 4\n",
    "The number of hourly mentions of the word `christmas`or `xmas` is:\n",
    "![image.png](attachment:image.png)\n",
    "\n",
    "Make a similar plot for hourly mentions of any word which contains \"snow\" or \"flakes\"."
   ]
  },
  {
   "cell_type": "code",
   "execution_count": 11,
   "metadata": {
    "nbgrader": {
     "grade": true,
     "grade_id": "cell-2eb072f24d1e2cad",
     "locked": false,
     "points": 2,
     "schema_version": 3,
     "solution": true
    }
   },
   "outputs": [
    {
     "name": "stderr",
     "output_type": "stream",
     "text": [
      "\n",
      "Attaching package: ‘lubridate’\n",
      "\n",
      "The following object is masked from ‘package:base’:\n",
      "\n",
      "    date\n",
      "\n"
     ]
    },
    {
     "data": {
      "image/png": "[encoded data removed]",
      "text/plain": [
       "plot without title"
      ]
     },
     "metadata": {},
     "output_type": "display_data"
    }
   ],
   "source": [
    "### BEGIN SOLUTION\n",
    "library(lubridate)\n",
    "options(repr.plot.width=4, repr.plot.height=3)\n",
    "reddit %>% mutate(hour=hour(created_utc)) %>% \n",
    "           filter(str_detect(body, regex(\"snow|flakes\", ignore_case = T))) %>% \n",
    "           ggplot + geom_bar(aes(x=hour))\n",
    "### END SOLUTION"
   ]
  },
  {
   "cell_type": "markdown",
   "metadata": {
    "nbgrader": {
     "grade": false,
     "grade_id": "cell-20558470b3ffcd4b",
     "locked": true,
     "schema_version": 3,
     "solution": false
    }
   },
   "source": [
    "#### Problem 5\n",
    "The most common word in the comments is \"the\", which occurs 81,104 times."
   ]
  },
  {
   "cell_type": "code",
   "execution_count": 12,
   "metadata": {
    "nbgrader": {
     "grade": false,
     "grade_id": "cell-038ba13df5005cbe",
     "locked": true,
     "schema_version": 3,
     "solution": false
    }
   },
   "outputs": [
    {
     "data": {
      "text/html": [
       "<table>\n",
       "<caption>A tibble: 1 × 1</caption>\n",
       "<thead>\n",
       "\t<tr><th scope=col>sum(c)</th></tr>\n",
       "\t<tr><th scope=col>&lt;int&gt;</th></tr>\n",
       "</thead>\n",
       "<tbody>\n",
       "\t<tr><td>81104</td></tr>\n",
       "</tbody>\n",
       "</table>\n"
      ],
      "text/latex": [
       "A tibble: 1 × 1\n",
       "\\begin{tabular}{r|l}\n",
       " sum(c)\\\\\n",
       " <int>\\\\\n",
       "\\hline\n",
       "\t 81104\\\\\n",
       "\\end{tabular}\n"
      ],
      "text/markdown": [
       "\n",
       "A tibble: 1 × 1\n",
       "\n",
       "| sum(c) &lt;int&gt; |\n",
       "|---|\n",
       "| 81104 |\n",
       "\n"
      ],
      "text/plain": [
       "  sum(c)\n",
       "1 81104 "
      ]
     },
     "metadata": {},
     "output_type": "display_data"
    }
   ],
   "source": [
    "reddit %>% mutate(c=str_count(str_to_lower(body), '\\\\bthe\\\\b')) %>% summarize(sum(c))"
   ]
  },
  {
   "cell_type": "markdown",
   "metadata": {
    "nbgrader": {
     "grade": false,
     "grade_id": "cell-b5cf9187093adffe",
     "locked": true,
     "schema_version": 3,
     "solution": false
    }
   },
   "source": [
    "The word `christmas` occurs 4265 times:"
   ]
  },
  {
   "cell_type": "code",
   "execution_count": 13,
   "metadata": {
    "nbgrader": {
     "grade": false,
     "grade_id": "cell-599b50837d7553b6",
     "locked": true,
     "schema_version": 3,
     "solution": false
    }
   },
   "outputs": [
    {
     "data": {
      "text/html": [
       "<table>\n",
       "<caption>A tibble: 1 × 1</caption>\n",
       "<thead>\n",
       "\t<tr><th scope=col>sum(c)</th></tr>\n",
       "\t<tr><th scope=col>&lt;int&gt;</th></tr>\n",
       "</thead>\n",
       "<tbody>\n",
       "\t<tr><td>4265</td></tr>\n",
       "</tbody>\n",
       "</table>\n"
      ],
      "text/latex": [
       "A tibble: 1 × 1\n",
       "\\begin{tabular}{r|l}\n",
       " sum(c)\\\\\n",
       " <int>\\\\\n",
       "\\hline\n",
       "\t 4265\\\\\n",
       "\\end{tabular}\n"
      ],
      "text/markdown": [
       "\n",
       "A tibble: 1 × 1\n",
       "\n",
       "| sum(c) &lt;int&gt; |\n",
       "|---|\n",
       "| 4265 |\n",
       "\n"
      ],
      "text/plain": [
       "  sum(c)\n",
       "1 4265  "
      ]
     },
     "metadata": {},
     "output_type": "display_data"
    }
   ],
   "source": [
    "xmas_re <- regex('\\\\bchristmas\\\\b', ignore_case = T)\n",
    "reddit %>% mutate(c=str_count(body, xmas_re)) %>% summarize(sum(c))"
   ]
  },
  {
   "cell_type": "markdown",
   "metadata": {
    "nbgrader": {
     "grade": false,
     "grade_id": "cell-7674a04533f8934b",
     "locked": true,
     "schema_version": 3,
     "solution": false
    }
   },
   "source": [
    "What is the next most common word after Christmas, and how many times does it appear?"
   ]
  },
  {
   "cell_type": "code",
   "execution_count": 18,
   "metadata": {
    "nbgrader": {
     "grade": true,
     "grade_id": "problem9",
     "locked": false,
     "points": 0,
     "schema_version": 3,
     "solution": true,
     "task": false
    }
   },
   "outputs": [
    {
     "data": {
      "text/html": [
       "<table>\n",
       "<caption>A tibble: 1 × 3</caption>\n",
       "<thead>\n",
       "\t<tr><th scope=col>words</th><th scope=col>n</th><th scope=col>k</th></tr>\n",
       "\t<tr><th scope=col>&lt;chr&gt;</th><th scope=col>&lt;int&gt;</th><th scope=col>&lt;int&gt;</th></tr>\n",
       "</thead>\n",
       "<tbody>\n",
       "\t<tr><td>christmas</td><td>4264</td><td>76</td></tr>\n",
       "</tbody>\n",
       "</table>\n"
      ],
      "text/latex": [
       "A tibble: 1 × 3\n",
       "\\begin{tabular}{r|lll}\n",
       " words & n & k\\\\\n",
       " <chr> & <int> & <int>\\\\\n",
       "\\hline\n",
       "\t christmas & 4264 & 76\\\\\n",
       "\\end{tabular}\n"
      ],
      "text/markdown": [
       "\n",
       "A tibble: 1 × 3\n",
       "\n",
       "| words &lt;chr&gt; | n &lt;int&gt; | k &lt;int&gt; |\n",
       "|---|---|---|\n",
       "| christmas | 4264 | 76 |\n",
       "\n"
      ],
      "text/plain": [
       "  words     n    k \n",
       "1 christmas 4264 76"
      ]
     },
     "metadata": {},
     "output_type": "display_data"
    },
    {
     "data": {
      "text/html": [
       "<table>\n",
       "<caption>A tibble: 1 × 3</caption>\n",
       "<thead>\n",
       "\t<tr><th scope=col>words</th><th scope=col>n</th><th scope=col>k</th></tr>\n",
       "\t<tr><th scope=col>&lt;chr&gt;</th><th scope=col>&lt;int&gt;</th><th scope=col>&lt;int&gt;</th></tr>\n",
       "</thead>\n",
       "<tbody>\n",
       "\t<tr><td>only</td><td>4151</td><td>77</td></tr>\n",
       "</tbody>\n",
       "</table>\n"
      ],
      "text/latex": [
       "A tibble: 1 × 3\n",
       "\\begin{tabular}{r|lll}\n",
       " words & n & k\\\\\n",
       " <chr> & <int> & <int>\\\\\n",
       "\\hline\n",
       "\t only & 4151 & 77\\\\\n",
       "\\end{tabular}\n"
      ],
      "text/markdown": [
       "\n",
       "A tibble: 1 × 3\n",
       "\n",
       "| words &lt;chr&gt; | n &lt;int&gt; | k &lt;int&gt; |\n",
       "|---|---|---|\n",
       "| only | 4151 | 77 |\n",
       "\n"
      ],
      "text/plain": [
       "  words n    k \n",
       "1 only  4151 77"
      ]
     },
     "metadata": {},
     "output_type": "display_data"
    }
   ],
   "source": [
    "### BEGIN SOLUTION\n",
    "ds <- reddit %>% mutate(words=str_extract_all(body, regex(\"\\\\b[a-z']+\\\\b\", ignore_case = T))) %>%\n",
    "                 unnest %>% mutate(words = str_to_lower(words)) %>% count(words) %>% \n",
    "                 arrange(desc(n)) %>% mutate(k=row_number())\n",
    "filter(ds, words == \"christmas\")\n",
    "filter(ds, k == 77)\n",
    "### END SOLUTION"
   ]
  }
 ],
 "metadata": {
  "celltoolbar": "Create Assignment",
  "kernelspec": {
   "display_name": "R",
   "language": "R",
   "name": "ir"
  },
  "language_info": {
   "codemirror_mode": "r",
   "file_extension": ".r",
   "mimetype": "text/x-r-source",
   "name": "R",
   "pygments_lexer": "r",
   "version": "4.2.2"
  }
 },
 "nbformat": 4,
 "nbformat_minor": 2
}
