{
 "cells": [
  {
   "cell_type": "code",
   "execution_count": 2,
   "metadata": {
    "nbgrader": {
     "grade": false,
     "grade_id": "cell-892bf1ae756bcb37",
     "locked": true,
     "schema_version": 3,
     "solution": false
    },
    "scrolled": true
   },
   "outputs": [],
   "source": [
    "library(tidyverse)"
   ]
  },
  {
   "cell_type": "markdown",
   "metadata": {
    "nbgrader": {
     "grade": false,
     "grade_id": "cell-f73c39701a1d2ed0",
     "locked": true,
     "schema_version": 3,
     "solution": false
    }
   },
   "source": [
    "# STATS 306\n",
    "## Homework 9: Functions and regression"
   ]
  },
  {
   "cell_type": "markdown",
   "metadata": {
    "nbgrader": {
     "grade": false,
     "grade_id": "cell-37fb95c8db0c1655",
     "locked": true,
     "schema_version": 3,
     "solution": false,
     "task": false
    }
   },
   "source": [
    "## Problem 1: Let's make a deal\n",
    "The *Monty Hall Problem* is a famous statistical paradox modeled after the TV game show [Let's Make a Deal](https://www.youtube.com/watch?v=hQpbsD5IueA). The problem goes as follows:\n",
    "    \n",
    "    You are a contestant on a game show, and are shown three doors. Behind one of the doors is a new car, \n",
    "    and behind the other two doors are Ohio State hoodies. Your goal (obviously) is to pick the door with \n",
    "    the new car. You pick a door, say number 1, and the host, who knows what's behind the doors, opens \n",
    "    another door, say No. 3, which is shown to have a hoodie. He then says to you, \"Do you want to \n",
    "    pick door No. 2?\" \n",
    "    \n",
    "    Is it to your advantage to switch your choice?\n",
    "    \n",
    "The correct answer is to switch, always. This caused something of an uproar when it was first noted by a newspaper columnist in the early 1990s.\n",
    "\n",
    "You will demonstrate that this answer is correct by writing functions that simulate playing Let's Make a Deal.\n",
    "\n",
    "To simulate the game, will use the following bit of code:"
   ]
  },
  {
   "cell_type": "code",
   "execution_count": 122,
   "metadata": {},
   "outputs": [],
   "source": [
    "play_lmad <- function(.) {\n",
    "    # function to play let's make a deal. returns TRUE if the contestant wins the new car,\n",
    "    # and FALSE if they get a lame Ohio State hoodie.\n",
    "    \n",
    "    # step 1: randomly place the car behind door 1, 2, or 3\n",
    "    car_door <- place_car()\n",
    "    # step 2: contestant choose a door 1, 2, or 3\n",
    "    first_choice <- pick_door()\n",
    "    # step 3: monty reveals one of the two other doors\n",
    "    other_door <- reveal_other_door(car_door, first_choice)\n",
    "    # step 4: contestant decides whether to switch\n",
    "    switch <- choose_to_switch(first_choice, other_door)\n",
    "    # step 5:\n",
    "    if (switch) {\n",
    "        # if the contestant switched, then they win if their original choice was incorrect\n",
    "        return(first_choice != car_door)\n",
    "    } else {\n",
    "        # if they didn't switch, then they win if their original choice was correct.\n",
    "        return(first_choice == car_door)\n",
    "    }\n",
    "}"
   ]
  },
  {
   "cell_type": "markdown",
   "metadata": {
    "nbgrader": {
     "grade": false,
     "grade_id": "cell-5e8a1da9cd69a6b1",
     "locked": true,
     "schema_version": 3,
     "solution": false,
     "task": false
    }
   },
   "source": [
    "**1(a)**\n",
    "Write a function `place_car()` which randomly places the car behind door 1-3. (In other words, `place_car()` returns a uniformly distributed random integer between 1 and 3.) This models how the producers set up the show before taping."
   ]
  },
  {
   "cell_type": "code",
   "execution_count": 116,
   "metadata": {
    "nbgrader": {
     "grade": true,
     "grade_id": "cell-efb24b36c6f840eb",
     "locked": false,
     "points": 0,
     "schema_version": 3,
     "solution": true,
     "task": false
    }
   },
   "outputs": [],
   "source": [
    "### BEGIN SOLUTION\n",
    "place_car <- function() sample(1:3, 1)\n",
    "### END SOLUTION"
   ]
  },
  {
   "cell_type": "markdown",
   "metadata": {
    "nbgrader": {
     "grade": false,
     "grade_id": "cell-f8425b9854ae99c4",
     "locked": true,
     "schema_version": 3,
     "solution": false,
     "task": false
    }
   },
   "source": [
    "**1(b)**\n",
    "Write a function `pick_door()` which selects a door 1-3, according to whatever strategy you like. This models how the contestant initially picks a door."
   ]
  },
  {
   "cell_type": "code",
   "execution_count": 117,
   "metadata": {
    "nbgrader": {
     "grade": true,
     "grade_id": "cell-f4ff7ba0184c71d9",
     "locked": false,
     "points": 0,
     "schema_version": 3,
     "solution": true,
     "task": false
    }
   },
   "outputs": [],
   "source": [
    "### BEGIN SOLUTION\n",
    "# This can be any constant function (e.g. returns 1 2 or 3 ) or a function that randomly chooses a door\n",
    "pick_door <- function() 1\n",
    "### END SOLUTION"
   ]
  },
  {
   "cell_type": "markdown",
   "metadata": {
    "nbgrader": {
     "grade": false,
     "grade_id": "cell-5eff1ddf5c777f73",
     "locked": true,
     "schema_version": 3,
     "solution": false,
     "task": false
    }
   },
   "source": [
    "**1(c)** Write a function `reveal_other_door(car_door, chosen_door)` which, given the door hiding the car, as well as the contestant's chosen door (both pieces of information which are known to Monty), names one of the other doors which does not contain the car. For example, if the car is hiding behind door one, and the contestant chooses door two, then `reveal_other_door(1, 2)` would have to return `3`."
   ]
  },
  {
   "cell_type": "code",
   "execution_count": 118,
   "metadata": {
    "nbgrader": {
     "grade": true,
     "grade_id": "cell-a02c88e9c0ef4481",
     "locked": false,
     "points": 0,
     "schema_version": 3,
     "solution": true,
     "task": false
    }
   },
   "outputs": [],
   "source": [
    "### BEGIN SOLUTION\n",
    "reveal_other_door <- function(car_door, chosen_door) {\n",
    "  possible_choice = c(1,2,3)[!(c(1,2,3) %in% c(car_door, chosen_door))]\n",
    "  if(length(possible_choice)==1) {\n",
    "    return(possible_choice)\n",
    "  } else {\n",
    "    return(sample(possible_choice, 1))\n",
    "  }\n",
    "}\n",
    "### END SOLUTION"
   ]
  },
  {
   "cell_type": "markdown",
   "metadata": {
    "nbgrader": {
     "grade": false,
     "grade_id": "cell-c36c5d47db0678a5",
     "locked": true,
     "schema_version": 3,
     "solution": false,
     "task": false
    }
   },
   "source": [
    "**1(d)**\n",
    "Write a function `choose_to_switch(first_choice, other_door)` which returns `TRUE` if the contestant decides to switch her choice after Monty has revealed the contents of one door. For example, `choose_to_switch(1, 2)` should return `TRUE` if the contestant decides to switch after choosing door one and being shown the contents of door two."
   ]
  },
  {
   "cell_type": "code",
   "execution_count": 119,
   "metadata": {
    "nbgrader": {
     "grade": true,
     "grade_id": "cell-a23cc3b39cfddb02",
     "locked": false,
     "points": 0,
     "schema_version": 3,
     "solution": true,
     "task": false
    }
   },
   "outputs": [],
   "source": [
    "### BEGIN SOLUTION\n",
    "\n",
    "# Can return always TRUE or always FALSE or randomly select TRUE or FALSE or\n",
    "# choose TRUE or FALSE according to any arbitrary strategy\n",
    "\n",
    "choose_to_switch <- function(first_choice, other_door) {\n",
    "    return(TRUE)\n",
    "}\n",
    "### END SOLUTION"
   ]
  },
  {
   "cell_type": "markdown",
   "metadata": {
    "nbgrader": {
     "grade": false,
     "grade_id": "cell-67df237e59e1667b",
     "locked": true,
     "schema_version": 3,
     "solution": false,
     "task": false
    }
   },
   "source": [
    "**1(e)**\n",
    "Finally, use the `play_lmad()` function defined above to simulate the entire process. By experimenting various choices for `choose_to_switch()` and repeatedly running `simulate_game()`, show that it is always better to switch when offered the choice. How much better is it?"
   ]
  },
  {
   "cell_type": "code",
   "execution_count": 129,
   "metadata": {},
   "outputs": [
    {
     "data": {
      "text/html": [
       "0.6644"
      ],
      "text/latex": [
       "0.6644"
      ],
      "text/markdown": [
       "0.6644"
      ],
      "text/plain": [
       "[1] 0.6644"
      ]
     },
     "metadata": {},
     "output_type": "display_data"
    },
    {
     "data": {
      "text/html": [
       "0.3355"
      ],
      "text/latex": [
       "0.3355"
      ],
      "text/markdown": [
       "0.3355"
      ],
      "text/plain": [
       "[1] 0.3355"
      ]
     },
     "metadata": {},
     "output_type": "display_data"
    },
    {
     "data": {
      "text/html": [
       "0.5041"
      ],
      "text/latex": [
       "0.5041"
      ],
      "text/markdown": [
       "0.5041"
      ],
      "text/plain": [
       "[1] 0.5041"
      ]
     },
     "metadata": {},
     "output_type": "display_data"
    }
   ],
   "source": [
    "### BEGIN SOLUTION\n",
    "simulate_game  <- function(N) {\n",
    "    mean(map_lgl(1:N, play_lmad))\n",
    "}\n",
    "\n",
    "# experimenting various choices for choose_to_switch()\n",
    "## case 1: always swtich\n",
    "choose_to_switch <- function(first_choice, other_door) {\n",
    "    return(TRUE)\n",
    "}\n",
    "\n",
    "simulate_game(10000)\n",
    "\n",
    "## case 2: always NOT swtich\n",
    "choose_to_switch <- function(first_choice, other_door) {\n",
    "    return(FALSE)\n",
    "}\n",
    "simulate_game(10000)\n",
    "\n",
    "## case 3: randomly swtich (this one is optional??)\n",
    "choose_to_switch <- function(first_choice, other_door) {\n",
    "    return(sample(c(TRUE, FALSE), 1))\n",
    "}\n",
    "simulate_game(10000)\n",
    "### END SOLUTION"
   ]
  },
  {
   "cell_type": "markdown",
   "metadata": {
    "nbgrader": {
     "grade": false,
     "grade_id": "cell-8a2e07e86f10fb73",
     "locked": true,
     "schema_version": 3,
     "solution": false
    }
   },
   "source": [
    "## Problem 2: Playing card experiment\n",
    "In this problem, you will use iteration (`for`/`while` loops) to simulate a playing card experiment. The experiment goes as follows. Suppose you are given two standard decks of playing cards (52 cards each, total of 104 cards) and you do the following:\n",
    "1.  Shuffle both decks thoroughly, so that they are randomly ordered.\n",
    "2.  Draw the top card off of each deck.\n",
    "3.  If the two cards exactly match (same suit and rank), award yourself one point; otherwise award yourself no points.\n",
    "4.  Repeat steps two and three for the remaining 51 pairs of cards.\n",
    "Let $X$ be your total score at the end of the experiment.\n",
    "\n",
    "By writing a loop which simulates this experiment, answer the following:"
   ]
  },
  {
   "cell_type": "markdown",
   "metadata": {
    "nbgrader": {
     "grade": false,
     "grade_id": "cell-7a89102c744f738f",
     "locked": true,
     "schema_version": 3,
     "solution": false
    }
   },
   "source": [
    "**2(a)** What the expected value of $X$, i.e. what is $\\mathbb{E}X$?"
   ]
  },
  {
   "cell_type": "code",
   "execution_count": 6,
   "metadata": {},
   "outputs": [
    {
     "name": "stderr",
     "output_type": "stream",
     "text": [
      "── \u001b[1mAttaching packages\u001b[22m ───────────────────────────────────────────────────────────────────────────────────────────────────────────────────────────────────────────────────── tidyverse 1.3.1 ──\n",
      "\n",
      "\u001b[32m✔\u001b[39m \u001b[34mggplot2\u001b[39m 3.4.0      \u001b[32m✔\u001b[39m \u001b[34mpurrr  \u001b[39m 0.3.4 \n",
      "\u001b[32m✔\u001b[39m \u001b[34mtibble \u001b[39m 3.1.8      \u001b[32m✔\u001b[39m \u001b[34mdplyr  \u001b[39m 1.0.10\n",
      "\u001b[32m✔\u001b[39m \u001b[34mtidyr  \u001b[39m 1.2.1      \u001b[32m✔\u001b[39m \u001b[34mstringr\u001b[39m 1.4.0 \n",
      "\u001b[32m✔\u001b[39m \u001b[34mreadr  \u001b[39m 2.1.3      \u001b[32m✔\u001b[39m \u001b[34mforcats\u001b[39m 0.5.2 \n",
      "\n",
      "── \u001b[1mConflicts\u001b[22m ──────────────────────────────────────────────────────────────────────────────────────────────────────────────────────────────────────────────────────── tidyverse_conflicts() ──\n",
      "\u001b[31m✖\u001b[39m \u001b[34mdplyr\u001b[39m::\u001b[32mfilter()\u001b[39m masks \u001b[34mstats\u001b[39m::filter()\n",
      "\u001b[31m✖\u001b[39m \u001b[34mdplyr\u001b[39m::\u001b[32mlag()\u001b[39m    masks \u001b[34mstats\u001b[39m::lag()\n",
      "\n"
     ]
    }
   ],
   "source": [
    "library(tidyverse)"
   ]
  },
  {
   "cell_type": "code",
   "execution_count": 90,
   "metadata": {
    "nbgrader": {
     "grade": true,
     "grade_id": "cell-dec6fd269c3c69fc",
     "locked": false,
     "points": 0,
     "schema_version": 3,
     "solution": true
    }
   },
   "outputs": [
    {
     "data": {
      "text/html": [
       "<style>\n",
       ".list-inline {list-style: none; margin:0; padding: 0}\n",
       ".list-inline>li {display: inline-block}\n",
       ".list-inline>li:not(:last-child)::after {content: \"\\00b7\"; padding: 0 .5ex}\n",
       "</style>\n",
       "<ol class=list-inline><li>0.996042312062167</li><li>1.00404368793783</li></ol>\n"
      ],
      "text/latex": [
       "\\begin{enumerate*}\n",
       "\\item 0.996042312062167\n",
       "\\item 1.00404368793783\n",
       "\\end{enumerate*}\n"
      ],
      "text/markdown": [
       "1. 0.996042312062167\n",
       "2. 1.00404368793783\n",
       "\n",
       "\n"
      ],
      "text/plain": [
       "[1] 0.9960423 1.0040437"
      ]
     },
     "metadata": {},
     "output_type": "display_data"
    }
   ],
   "source": [
    "### BEGIN SOLUTION\n",
    "set.seed(1)\n",
    "play_game <- function(.) sum(sample(52) == sample(52))  # count fixed points of a random permutation.\n",
    "n <- 1000000\n",
    "X <- map_int(1:n, play_game) \n",
    "mu <- mean(X)\n",
    "sigma <- sd(X) / sqrt(n)\n",
    "c(mu - 4 * sigma, mu + 4 * sigma)\n",
    "# with 1 million trials, the mean is 1.0016 with a standard error of .001. \n",
    "# Hence, with high probability, the sample mean is in the range \n",
    "# [1.0016 - 3 * .001, 1.0016 + 3 * .001] = [0.9967649, 1.0047611], so we can conclude \n",
    "# that E(X) = 1.00.\n",
    "### END SOLUTION"
   ]
  },
  {
   "cell_type": "markdown",
   "metadata": {},
   "source": [
    "**2(b)** What is the variance of $X$?"
   ]
  },
  {
   "cell_type": "code",
   "execution_count": 52,
   "metadata": {},
   "outputs": [
    {
     "data": {
      "text/html": [
       "1.000342998151"
      ],
      "text/latex": [
       "1.000342998151"
      ],
      "text/markdown": [
       "1.000342998151"
      ],
      "text/plain": [
       "[1] 1.000343"
      ]
     },
     "metadata": {},
     "output_type": "display_data"
    }
   ],
   "source": [
    "### BEGIN SOLUTION\n",
    "mean(X^2) - mu^2\n",
    "### END SOLUTION"
   ]
  },
  {
   "cell_type": "markdown",
   "metadata": {
    "nbgrader": {
     "grade": false,
     "grade_id": "cell-b34ded43588d46db",
     "locked": true,
     "schema_version": 3,
     "solution": false
    }
   },
   "source": [
    "**2(c)** What is the probability that $X$ is equal to zero? I.e., what is $\\mathbb{P}(X=0)$? (*Hint*: the probability that $X=0$ roughly equals the fraction of times that this event happened in a large number of simulations.)"
   ]
  },
  {
   "cell_type": "code",
   "execution_count": 91,
   "metadata": {
    "nbgrader": {
     "grade": true,
     "grade_id": "cell-a64a4b9b483aabb5",
     "locked": false,
     "points": 0,
     "schema_version": 3,
     "solution": true
    }
   },
   "outputs": [
    {
     "data": {
      "text/html": [
       "0.367823"
      ],
      "text/latex": [
       "0.367823"
      ],
      "text/markdown": [
       "0.367823"
      ],
      "text/plain": [
       "[1] 0.367823"
      ]
     },
     "metadata": {},
     "output_type": "display_data"
    }
   ],
   "source": [
    "### BEGIN SOLUTION\n",
    "# deck <- as.vector(outer(c(2:10, \"J\", \"Q\", \"K\", \"A\"), c(\"♠\", \"♥\", \"♦\", \"♣\"), str_c, sep=\"\"))\n",
    "X0 = X == 0\n",
    "mu_0 <- mean(X0)\n",
    "mu_0\n",
    "# sigma_0 <- sd(X0) / sqrt(n)\n",
    "# c(mu_0 - 4 * sigma_0, mu_0 + 4 * sigma_0)\n",
    "# 0.37\n",
    "### END SOLUTION"
   ]
  },
  {
   "cell_type": "markdown",
   "metadata": {},
   "source": [
    "**2(d)** Suppose you and your friend both play this game using separate decks of cards. Let your score be $X$ and let their score be $Y$. What is the probability that your score is higher than their score (i.e. $X > Y$)?"
   ]
  },
  {
   "cell_type": "code",
   "execution_count": 86,
   "metadata": {},
   "outputs": [
    {
     "data": {
      "text/html": [
       "0.345507"
      ],
      "text/latex": [
       "0.345507"
      ],
      "text/markdown": [
       "0.345507"
      ],
      "text/plain": [
       "[1] 0.345507"
      ]
     },
     "metadata": {},
     "output_type": "display_data"
    }
   ],
   "source": [
    "### BEGIN SOLUTION\n",
    "x_won = 0\n",
    "for (i in seq_len(n)) {\n",
    "    X = play_game()\n",
    "    Y = play_game()\n",
    "    x_won = x_won + 1*(X > Y)\n",
    "}\n",
    "x_won / n\n",
    "### END SOLUTION"
   ]
  },
  {
   "cell_type": "code",
   "execution_count": 85,
   "metadata": {},
   "outputs": [
    {
     "data": {
      "text/html": [
       "0.345448073203726"
      ],
      "text/latex": [
       "0.345448073203726"
      ],
      "text/markdown": [
       "0.345448073203726"
      ],
      "text/plain": [
       "[1] 0.3454481"
      ]
     },
     "metadata": {},
     "output_type": "display_data"
    }
   ],
   "source": [
    "# Solution without simulation\n",
    "### BEGIN SOLUTION\n",
    "prob_i = function(i) {\n",
    "   prod(c(rep(1/52, i),rep(51/52, 52-i)))*choose(52,i)\n",
    "}\n",
    "prob_less  <- map_dbl(1:52 -1, prob_i)\n",
    "sum(sapply(1:52, function(i) prob_i(i)*sum(prob_less[seq_len(i)])))\n",
    "           \n",
    "### END SOLUTION"
   ]
  },
  {
   "cell_type": "markdown",
   "metadata": {
    "nbgrader": {
     "grade": false,
     "grade_id": "cell-8a4fcd25e82f68a0",
     "locked": true,
     "schema_version": 3,
     "solution": false
    }
   },
   "source": [
    "## Problem 3: Everything is regression\n",
    "\n",
    "In this problem, you will explore how various well-known statistical tests are special cases of linear regression."
   ]
  },
  {
   "cell_type": "markdown",
   "metadata": {},
   "source": [
    "**3(a)** Pearson's correlation coefficient, denoted $\\rho$, measures the strength of a linear relationship between two variables $x$ and $y$. It's implemented using the `cor()` function in R:"
   ]
  },
  {
   "cell_type": "code",
   "execution_count": 46,
   "metadata": {
    "nbgrader": {
     "grade": false,
     "grade_id": "cell-30374ebf8d61de64",
     "locked": true,
     "schema_version": 3,
     "solution": false
    }
   },
   "outputs": [
    {
     "data": {
      "text/html": [
       "0.183381506888591"
      ],
      "text/latex": [
       "0.183381506888591"
      ],
      "text/markdown": [
       "0.183381506888591"
      ],
      "text/plain": [
       "[1] 0.1833815"
      ]
     },
     "metadata": {},
     "output_type": "display_data"
    }
   ],
   "source": [
    "set.seed(1)\n",
    "x = rnorm(100, sd=.1)\n",
    "y = 3 + 2 * x + rnorm(100, sd = 1)\n",
    "cor(x, y)"
   ]
  },
  {
   "cell_type": "markdown",
   "metadata": {
    "nbgrader": {
     "grade": false,
     "grade_id": "cell-66d306d6b06dbb31",
     "locked": true,
     "schema_version": 3,
     "solution": false
    }
   },
   "source": [
    "To test whether a linear relationship exists between two variables, we can use the function `cor.test()` to test the null hypothesis $H_0: \\rho=0$:"
   ]
  },
  {
   "cell_type": "code",
   "execution_count": 47,
   "metadata": {
    "nbgrader": {
     "grade": false,
     "grade_id": "cell-556264c837ba576f",
     "locked": true,
     "schema_version": 3,
     "solution": false
    }
   },
   "outputs": [
    {
     "data": {
      "text/plain": [
       "\n",
       "\tPearson's product-moment correlation\n",
       "\n",
       "data:  x and y\n",
       "t = 1.8467, df = 98, p-value = 0.06781\n",
       "alternative hypothesis: true correlation is not equal to 0\n",
       "95 percent confidence interval:\n",
       " -0.01352373  0.36659507\n",
       "sample estimates:\n",
       "      cor \n",
       "0.1833815 \n"
      ]
     },
     "metadata": {},
     "output_type": "display_data"
    }
   ],
   "source": [
    "cor.test(x, y)"
   ]
  },
  {
   "cell_type": "markdown",
   "metadata": {
    "nbgrader": {
     "grade": false,
     "grade_id": "cell-96ec4249c290c1ce",
     "locked": true,
     "schema_version": 3,
     "solution": false
    }
   },
   "source": [
    "Consider how you might test whether the correlation between $x$ and $y$ is zero using the linear model. By running an appropriate regression, show that you get *the exact same* $p$-value as that obtained by `cor.test()`. How can we infer the correlation coefficient $\\rho=0.183$ from the regression result?"
   ]
  },
  {
   "cell_type": "code",
   "execution_count": 48,
   "metadata": {
    "nbgrader": {
     "grade": true,
     "grade_id": "cell-614d08251e323a57",
     "locked": false,
     "points": 0,
     "schema_version": 3,
     "solution": true
    }
   },
   "outputs": [
    {
     "name": "stdout",
     "output_type": "stream",
     "text": [
      "\n",
      "Call:\n",
      "lm(formula = y ~ x)\n",
      "\n",
      "Residuals:\n",
      "    Min      1Q  Median      3Q     Max \n",
      "-1.8768 -0.6138 -0.1395  0.5394  2.3462 \n",
      "\n",
      "Coefficients:\n",
      "            Estimate Std. Error t value Pr(>|t|)    \n",
      "(Intercept)  2.96231    0.09699  30.543   <2e-16 ***\n",
      "x            1.98940    1.07727   1.847   0.0678 .  \n",
      "---\n",
      "Signif. codes:  0 ‘***’ 0.001 ‘**’ 0.01 ‘*’ 0.05 ‘.’ 0.1 ‘ ’ 1\n",
      "\n",
      "Residual standard error: 0.9628 on 98 degrees of freedom\n",
      "Multiple R-squared:  0.03363,\tAdjusted R-squared:  0.02377 \n",
      "F-statistic:  3.41 on 1 and 98 DF,  p-value: 0.06781\n",
      "\n"
     ]
    },
    {
     "data": {
      "text/html": [
       "<table class=\"dataframe\">\n",
       "<caption>A matrix: 2 × 4 of type dbl</caption>\n",
       "<thead>\n",
       "\t<tr><th></th><th scope=col>Estimate</th><th scope=col>Std. Error</th><th scope=col>t value</th><th scope=col>Pr(&gt;|t|)</th></tr>\n",
       "</thead>\n",
       "<tbody>\n",
       "\t<tr><th scope=row>(Intercept)</th><td>2.962307</td><td>0.09698729</td><td>30.543252</td><td>7.065184e-52</td></tr>\n",
       "\t<tr><th scope=row>x</th><td>1.989396</td><td>1.07727031</td><td> 1.846701</td><td>6.780814e-02</td></tr>\n",
       "</tbody>\n",
       "</table>\n"
      ],
      "text/latex": [
       "A matrix: 2 × 4 of type dbl\n",
       "\\begin{tabular}{r|llll}\n",
       "  & Estimate & Std. Error & t value & Pr(>\\textbar{}t\\textbar{})\\\\\n",
       "\\hline\n",
       "\t(Intercept) & 2.962307 & 0.09698729 & 30.543252 & 7.065184e-52\\\\\n",
       "\tx & 1.989396 & 1.07727031 &  1.846701 & 6.780814e-02\\\\\n",
       "\\end{tabular}\n"
      ],
      "text/markdown": [
       "\n",
       "A matrix: 2 × 4 of type dbl\n",
       "\n",
       "| <!--/--> | Estimate | Std. Error | t value | Pr(&gt;|t|) |\n",
       "|---|---|---|---|---|\n",
       "| (Intercept) | 2.962307 | 0.09698729 | 30.543252 | 7.065184e-52 |\n",
       "| x | 1.989396 | 1.07727031 |  1.846701 | 6.780814e-02 |\n",
       "\n"
      ],
      "text/plain": [
       "            Estimate Std. Error t value   Pr(>|t|)    \n",
       "(Intercept) 2.962307 0.09698729 30.543252 7.065184e-52\n",
       "x           1.989396 1.07727031  1.846701 6.780814e-02"
      ]
     },
     "metadata": {},
     "output_type": "display_data"
    },
    {
     "data": {
      "text/html": [
       "0.183381506888591"
      ],
      "text/latex": [
       "0.183381506888591"
      ],
      "text/markdown": [
       "0.183381506888591"
      ],
      "text/plain": [
       "[1] 0.1833815"
      ]
     },
     "metadata": {},
     "output_type": "display_data"
    }
   ],
   "source": [
    "### BEGIN SOLUTION\n",
    "s <- lm(y ~ x) %>% summary %>% print\n",
    "coef(s)\n",
    "s$r.squared %>% sqrt\n",
    "### END SOLUTION"
   ]
  },
  {
   "cell_type": "markdown",
   "metadata": {
    "nbgrader": {
     "grade": false,
     "grade_id": "cell-5343bbadaeba625b",
     "locked": true,
     "schema_version": 3,
     "solution": false
    }
   },
   "source": [
    "**3(b)**\n",
    "One criticism of Pearson's correlation is that it only measures the strength of a *linear* correlation between two random variables. Consider the variables $x$ and $y$ defined in the file `spearman.csv`:"
   ]
  },
  {
   "cell_type": "code",
   "execution_count": 92,
   "metadata": {
    "nbgrader": {
     "grade": false,
     "grade_id": "cell-df5f6966bdb2985e",
     "locked": true,
     "schema_version": 3,
     "solution": false
    }
   },
   "outputs": [
    {
     "name": "stderr",
     "output_type": "stream",
     "text": [
      "\u001b[1mRows: \u001b[22m\u001b[34m101\u001b[39m \u001b[1mColumns: \u001b[22m\u001b[34m2\u001b[39m\n",
      "\u001b[36m──\u001b[39m \u001b[1mColumn specification\u001b[22m \u001b[36m──────────────────────────────────────────────────────────────────────────────────────────────────────────────────────────────────────────────────────────────────────\u001b[39m\n",
      "\u001b[1mDelimiter:\u001b[22m \",\"\n",
      "\u001b[32mdbl\u001b[39m (2): x, y\n",
      "\n",
      "\u001b[36mℹ\u001b[39m Use `spec()` to retrieve the full column specification for this data.\n",
      "\u001b[36mℹ\u001b[39m Specify the column types or set `show_col_types = FALSE` to quiet this message.\n"
     ]
    },
    {
     "name": "stdout",
     "output_type": "stream",
     "text": [
      "\u001b[90m# A tibble: 101 × 2\u001b[39m\n",
      "        x       y\n",
      "    \u001b[3m\u001b[90m<dbl>\u001b[39m\u001b[23m   \u001b[3m\u001b[90m<dbl>\u001b[39m\u001b[23m\n",
      "\u001b[90m 1\u001b[39m 0.689   0.594 \n",
      "\u001b[90m 2\u001b[39m 0.468   0.119 \n",
      "\u001b[90m 3\u001b[39m 0.808   0.580 \n",
      "\u001b[90m 4\u001b[39m 0.093\u001b[4m4\u001b[24m  0.100 \n",
      "\u001b[90m 5\u001b[39m 0.238   0.098\u001b[4m1\u001b[24m\n",
      "\u001b[90m 6\u001b[39m 0.046\u001b[4m7\u001b[24m -\u001b[31m0\u001b[39m\u001b[31m.\u001b[39m\u001b[31m0\u001b[39m\u001b[31m13\u001b[4m8\u001b[24m\u001b[39m\n",
      "\u001b[90m 7\u001b[39m 0.655   0.412 \n",
      "\u001b[90m 8\u001b[39m 0.171   0.118 \n",
      "\u001b[90m 9\u001b[39m 0.591   0.251 \n",
      "\u001b[90m10\u001b[39m 0.508   0.512 \n",
      "\u001b[90m# … with 91 more rows\u001b[39m\n"
     ]
    }
   ],
   "source": [
    "sp <- read_csv(url(\"https://datasets.stats306.org/spearman.csv\")) %>% print"
   ]
  },
  {
   "cell_type": "markdown",
   "metadata": {
    "nbgrader": {
     "grade": false,
     "grade_id": "cell-33ba4033c69711c3",
     "locked": true,
     "schema_version": 3,
     "solution": false
    }
   },
   "source": [
    "Are $x$ and $y$ correlated according to Pearson's test? Are they related at all? Support your answer with an appropriate visual or statistical argument."
   ]
  },
  {
   "cell_type": "markdown",
   "metadata": {
    "nbgrader": {
     "grade": true,
     "grade_id": "cell-cd5c97ea66b3aed0",
     "locked": false,
     "points": 0,
     "schema_version": 3,
     "solution": true
    }
   },
   "source": [
    "### BEGIN SOLUTION\n",
    "The Pearson test is insignificant, but if you plot the data you'll see that the result is driven by a single outlier. If you drop the outlier, you get a significant result. Note also that the remaining data seem to lie on a curve. They are related, but not necessarily linearly related.\n",
    "### END SOLUTION"
   ]
  },
  {
   "cell_type": "code",
   "execution_count": 93,
   "metadata": {
    "nbgrader": {
     "grade": true,
     "grade_id": "cell-fc4663b01bcef603",
     "locked": false,
     "points": 0,
     "schema_version": 3,
     "solution": true
    }
   },
   "outputs": [
    {
     "data": {
      "text/plain": [
       "\n",
       "\tPearson's product-moment correlation\n",
       "\n",
       "data:  sp$x and sp$y\n",
       "t = 0.16219, df = 99, p-value = 0.8715\n",
       "alternative hypothesis: true correlation is not equal to 0\n",
       "95 percent confidence interval:\n",
       " -0.1797128  0.2110658\n",
       "sample estimates:\n",
       "       cor \n",
       "0.01629891 \n"
      ]
     },
     "metadata": {},
     "output_type": "display_data"
    },
    {
     "data": {
      "text/plain": [
       "\n",
       "\tPearson's product-moment correlation\n",
       "\n",
       "data:  sp$x[!outlier] and sp$y[!outlier]\n",
       "t = 21.195, df = 98, p-value < 2.2e-16\n",
       "alternative hypothesis: true correlation is not equal to 0\n",
       "95 percent confidence interval:\n",
       " 0.8632539 0.9359054\n",
       "sample estimates:\n",
       "      cor \n",
       "0.9060443 \n"
      ]
     },
     "metadata": {},
     "output_type": "display_data"
    },
    {
     "data": {
      "image/png": "[encoded data removed]",
      "text/plain": [
       "plot without title"
      ]
     },
     "metadata": {
      "image/png": {
       "height": 420,
       "width": 420
      }
     },
     "output_type": "display_data"
    }
   ],
   "source": [
    "### BEGIN SOLUTION\n",
    "cor.test(sp$x, sp$y)\n",
    "qplot(sp$x, sp$y)\n",
    "outlier = sp$y > 2\n",
    "cor.test(sp$x[!outlier], sp$y[!outlier])\n",
    "### END SOLUTION"
   ]
  },
  {
   "cell_type": "markdown",
   "metadata": {
    "nbgrader": {
     "grade": false,
     "grade_id": "cell-0e523ead8c6e3ee3",
     "locked": true,
     "schema_version": 3,
     "solution": false
    }
   },
   "source": [
    "**3(c)**\n",
    "Recall that the `rank()` function maps a vector to a vector of integers denoting the numerical rank of each entry of the vector:"
   ]
  },
  {
   "cell_type": "code",
   "execution_count": 94,
   "metadata": {
    "nbgrader": {
     "grade": false,
     "grade_id": "cell-3a72abe598e1d7a0",
     "locked": true,
     "schema_version": 3,
     "solution": false
    }
   },
   "outputs": [
    {
     "data": {
      "text/html": [
       "<style>\n",
       ".list-inline {list-style: none; margin:0; padding: 0}\n",
       ".list-inline>li {display: inline-block}\n",
       ".list-inline>li:not(:last-child)::after {content: \"\\00b7\"; padding: 0 .5ex}\n",
       "</style>\n",
       "<ol class=list-inline><li>1</li><li>2</li><li>4</li><li>5</li><li>3</li></ol>\n"
      ],
      "text/latex": [
       "\\begin{enumerate*}\n",
       "\\item 1\n",
       "\\item 2\n",
       "\\item 4\n",
       "\\item 5\n",
       "\\item 3\n",
       "\\end{enumerate*}\n"
      ],
      "text/markdown": [
       "1. 1\n",
       "2. 2\n",
       "3. 4\n",
       "4. 5\n",
       "5. 3\n",
       "\n",
       "\n"
      ],
      "text/plain": [
       "[1] 1 2 4 5 3"
      ]
     },
     "metadata": {},
     "output_type": "display_data"
    }
   ],
   "source": [
    "rank(c(2,6,9,10,8))"
   ]
  },
  {
   "cell_type": "markdown",
   "metadata": {
    "nbgrader": {
     "grade": false,
     "grade_id": "cell-c7f6b3dee75be6af",
     "locked": true,
     "schema_version": 3,
     "solution": false
    }
   },
   "source": [
    "To address potential shortcomings in Pearson's test, *Spearman's rank correlation test* looks for correlations between the *ranks* of two vectors $x$ and $y$. This will do a better job of picking out a non-linear relationship between $x$ and $y$, so long as that relationship is [monotonic](https://en.wikipedia.org/wiki/Monotonic_function). Verify this visualizing the relationship of `rank(x)` and `rank(y)`."
   ]
  },
  {
   "cell_type": "code",
   "execution_count": 96,
   "metadata": {
    "nbgrader": {
     "grade": true,
     "grade_id": "cell-703b841606ec609c",
     "locked": false,
     "points": 0,
     "schema_version": 3,
     "solution": true
    }
   },
   "outputs": [
    {
     "name": "stderr",
     "output_type": "stream",
     "text": [
      "\u001b[1m\u001b[22m`geom_smooth()` using formula = 'y ~ x'\n"
     ]
    },
    {
     "data": {
      "image/png": "[encoded data removed]",
      "text/plain": [
       "plot without title"
      ]
     },
     "metadata": {
      "image/png": {
       "height": 420,
       "width": 420
      }
     },
     "output_type": "display_data"
    }
   ],
   "source": [
    "### BEGIN SOLUTION\n",
    "ggplot(sp, aes(rank(x), rank(y))) + geom_point() + geom_smooth(method=\"lm\")\n",
    "### END SOLUTION"
   ]
  },
  {
   "cell_type": "markdown",
   "metadata": {
    "nbgrader": {
     "grade": false,
     "grade_id": "cell-62f7756b85d3e29e",
     "locked": true,
     "schema_version": 3,
     "solution": false
    }
   },
   "source": [
    "**3(d)** Spearman's test is implemented using the `cor.test(..., method = \"spearman\")` command.\n",
    "\n",
    "Show that regressing the rank of `y` on the rank of `x` gives you you the *exact same* $p$-values and estimates for $\\rho$ as Spearman't test."
   ]
  },
  {
   "cell_type": "code",
   "execution_count": 24,
   "metadata": {
    "nbgrader": {
     "grade": true,
     "grade_id": "cell-7c2681f67d5e97c7",
     "locked": false,
     "points": 0,
     "schema_version": 3,
     "solution": true
    }
   },
   "outputs": [
    {
     "data": {
      "text/plain": [
       "\n",
       "\tSpearman's rank correlation rho\n",
       "\n",
       "data:  sp$y and sp$x\n",
       "S = 22534, p-value < 2.2e-16\n",
       "alternative hypothesis: true rho is not equal to 0\n",
       "sample estimates:\n",
       "      rho \n",
       "0.8687595 \n"
      ]
     },
     "metadata": {},
     "output_type": "display_data"
    },
    {
     "data": {
      "text/plain": [
       "\n",
       "Call:\n",
       "lm(formula = rank(y) ~ rank(x), data = sp)\n",
       "\n",
       "Residuals:\n",
       "    Min      1Q  Median      3Q     Max \n",
       "-30.050  -7.775   0.706   5.462  93.438 \n",
       "\n",
       "Coefficients:\n",
       "            Estimate Std. Error t value Pr(>|t|)    \n",
       "(Intercept)  6.69327    2.92392   2.289   0.0242 *  \n",
       "rank(x)      0.86876    0.04977  17.454   <2e-16 ***\n",
       "---\n",
       "Signif. codes:  0 ‘***’ 0.001 ‘**’ 0.01 ‘*’ 0.05 ‘.’ 0.1 ‘ ’ 1\n",
       "\n",
       "Residual standard error: 14.58 on 99 degrees of freedom\n",
       "Multiple R-squared:  0.7547,\tAdjusted R-squared:  0.7523 \n",
       "F-statistic: 304.7 on 1 and 99 DF,  p-value: < 2.2e-16\n"
      ]
     },
     "metadata": {},
     "output_type": "display_data"
    }
   ],
   "source": [
    "### BEGIN SOLUTION\n",
    "cor.test(sp$y, sp$x, method=\"spearman\")\n",
    "lm(rank(y) ~ rank(x), data=sp) %>% summary\n",
    "### END SOLUTION"
   ]
  },
  {
   "cell_type": "markdown",
   "metadata": {
    "nbgrader": {
     "grade": false,
     "grade_id": "cell-79fbe388eff1e416",
     "locked": true,
     "schema_version": 3,
     "solution": false
    }
   },
   "source": [
    "Spearman's test is an example of a [non-parametric](https://en.wikipedia.org/wiki/Nonparametric_statistics) test: it does not make any assumptions about the distribution of the data. We will see other examples of non-parametric tests below."
   ]
  },
  {
   "cell_type": "markdown",
   "metadata": {
    "nbgrader": {
     "grade": false,
     "grade_id": "cell-50d2b3d695df7c8c",
     "locked": true,
     "schema_version": 3,
     "solution": false
    }
   },
   "source": [
    "**3(e)**\n",
    "The one-sample $t$-test is used to test the null hypothesis that the mean of a random variable is zero. It's implemented in R using the `t.test()` command:"
   ]
  },
  {
   "cell_type": "code",
   "execution_count": 50,
   "metadata": {
    "nbgrader": {
     "grade": false,
     "grade_id": "cell-567e578d7fa9d650",
     "locked": true,
     "schema_version": 3,
     "solution": false
    }
   },
   "outputs": [
    {
     "data": {
      "text/plain": [
       "\n",
       "\tOne Sample t-test\n",
       "\n",
       "data:  x\n",
       "t = 1.2538, df = 99, p-value = 0.2129\n",
       "alternative hypothesis: true mean is not equal to 0\n",
       "95 percent confidence interval:\n",
       " -0.07554718  0.33489425\n",
       "sample estimates:\n",
       "mean of x \n",
       "0.1296735 \n"
      ]
     },
     "metadata": {},
     "output_type": "display_data"
    }
   ],
   "source": [
    "x <- rnorm(100, mean=.1)\n",
    "t.test(x)"
   ]
  },
  {
   "cell_type": "markdown",
   "metadata": {
    "nbgrader": {
     "grade": false,
     "grade_id": "cell-5b7c91dc23771f91",
     "locked": true,
     "schema_version": 3,
     "solution": false
    }
   },
   "source": [
    "By running an appropriate regression, show that the linear model produces *the exact same* $t$ statistic, confidence intervals, and $p$-values as the $t$-test."
   ]
  },
  {
   "cell_type": "code",
   "execution_count": 51,
   "metadata": {
    "nbgrader": {
     "grade": true,
     "grade_id": "cell-f54825f6e6acf9a3",
     "locked": false,
     "points": 0,
     "schema_version": 3,
     "solution": true
    }
   },
   "outputs": [
    {
     "name": "stdout",
     "output_type": "stream",
     "text": [
      "\n",
      "Call:\n",
      "lm(formula = x ~ 1)\n",
      "\n",
      "Residuals:\n",
      "     Min       1Q   Median       3Q      Max \n",
      "-2.91859 -0.48482 -0.03128  0.66882  2.61949 \n",
      "\n",
      "Coefficients:\n",
      "            Estimate Std. Error t value Pr(>|t|)\n",
      "(Intercept)   0.1297     0.1034   1.254    0.213\n",
      "\n",
      "Residual standard error: 1.034 on 99 degrees of freedom\n",
      "\n",
      "                  2.5 %    97.5 %\n",
      "(Intercept) -0.07554718 0.3348942\n"
     ]
    }
   ],
   "source": [
    "### BEGIN SOLUTION\n",
    "lm(x ~ 1) %>% {\n",
    "    print(summary(.))\n",
    "    print(confint(.))\n",
    "}\n",
    "### END SOLUTION"
   ]
  }
 ],
 "metadata": {
  "celltoolbar": "Create Assignment",
  "kernelspec": {
   "display_name": "R",
   "language": "R",
   "name": "ir"
  },
  "language_info": {
   "codemirror_mode": "r",
   "file_extension": ".r",
   "mimetype": "text/x-r-source",
   "name": "R",
   "pygments_lexer": "r",
   "version": "4.2.2"
  }
 },
 "nbformat": 4,
 "nbformat_minor": 2
}
