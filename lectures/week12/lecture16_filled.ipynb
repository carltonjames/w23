{
 "cells": [
  {
   "cell_type": "markdown",
   "metadata": {
    "id": "XlOf9RFL1GTi",
    "slideshow": {
     "slide_type": "slide"
    }
   },
   "source": [
    "# Lecture 16: Writing Functions in R\n",
    "<div style=\"border: 1px double black; padding: 10px; margin: 10px\">\n",
    "\n",
    "**After today's lecture you will understand:**\n",
    "* How to write functions in R\n",
    "</div>\n",
    "\n",
    "These notes correspond to Chapter 26 of the book.\n",
    "\n",
    "\n",
    "\n"
   ]
  },
  {
   "cell_type": "code",
   "execution_count": 96,
   "metadata": {
    "colab": {
     "base_uri": "https://localhost:8080/"
    },
    "executionInfo": {
     "elapsed": 82325,
     "status": "ok",
     "timestamp": 1679146839604,
     "user": {
      "displayName": "Jayashree Ravi",
      "userId": "06933604785290521829"
     },
     "user_tz": 240
    },
    "id": "LNaTvkfD1GTn",
    "outputId": "d63b4993-b83d-4b84-ac17-4d579711cf0c",
    "slideshow": {
     "slide_type": "notes"
    }
   },
   "outputs": [
    {
     "name": "stderr",
     "output_type": "stream",
     "text": [
      "Skipping install of 'harrypotter' from a github remote, the SHA1 (51f71461) has not changed since last install.\n",
      "  Use `force = TRUE` to force installation\n",
      "\n",
      "Installing package into ‘/home/terhorst/R/x86_64-pc-linux-gnu-library/4.2’\n",
      "(as ‘lib’ is unspecified)\n",
      "\n"
     ]
    }
   ],
   "source": [
    "library(tidyverse)\n",
    "remotes::install_github(\"bradleyboehmke/harrypotter\")\n",
    "install.packages(\"tidytext\")\n",
    "library(harrypotter)\n",
    "library(tidytext)\n",
    "load(url('https://datasets.stats306.org/afinn.RData'))"
   ]
  },
  {
   "cell_type": "markdown",
   "metadata": {
    "slideshow": {
     "slide_type": "slide"
    }
   },
   "source": [
    "## Why get better at programming?\n",
    "\n",
    "This week we will learn how to become better R programmers, by studying functions and iteration. The goal is to learn how to write code that is simulataneously:\n",
    "- Easier to read;\n",
    "- Less buggy;\n",
    "- More enjoyable to write;\n",
    "- More efficient."
   ]
  },
  {
   "cell_type": "markdown",
   "metadata": {
    "slideshow": {
     "slide_type": "slide"
    }
   },
   "source": [
    "## Example from HW7\n",
    "\n",
    "<pre style=\"font-size: 8px; line-height: 1;\">\n",
    "chamber_tibble<-tibble(chapter=seq_along(chamber_of_secrets), text=chamber_of_secrets)%>%\n",
    "  unnest_tokens(input=text, output=word)%>%\n",
    "  left_join(afinn)%>%\n",
    "  filter(!is.na(value))%>%\n",
    "  group_by(chapter)%>%\n",
    "  summarize(mean_sentiment_value=mean(value,na.rm=T))%>%\n",
    "  mutate(book=\"2.chamber_of_secrets\")\n",
    "\n",
    "prisoner_tibble<-tibble(chapter=seq_along(prisoner_of_azkaban), text=prisoner_of_azkaban)%>%\n",
    "  unnest_tokens(input=text, output=word)%>%\n",
    "  left_join(afinn)%>%\n",
    "  filter(!is.na(value))%>%\n",
    "  group_by(chapter)%>%\n",
    "  summarize(mean_sentiment_value=mean(value,na.rm=T))%>%\n",
    "  mutate(book=\"3.prisoner_of_azkaban\")\n",
    "\n",
    "goblet_tibble<-tibble(chapter=seq_along(goblet_of_fire), text=goblet_of_fire)%>%\n",
    "  unnest_tokens(input=text, output=word)%>%\n",
    "  left_join(afinn)%>%\n",
    "  filter(!is.na(value))%>%\n",
    "  group_by(chapter)%>%\n",
    "  summarize(mean_sentiment_value=mean(value,na.rm=T))%>%\n",
    "  mutate(book=\"4.goblet_of_fire\")\n",
    "\n",
    "phoenix_tibble<-tibble(chapter=seq_along(order_of_the_phoenix), text=order_of_the_phoenix)%>%\n",
    "  unnest_tokens(input=text, output=word)%>%\n",
    "  left_join(afinn)%>%\n",
    "  filter(!is.na(value))%>%\n",
    "  group_by(chapter)%>%\n",
    "  summarize(mean_sentiment_value=mean(value,na.rm=T))%>%\n",
    "  mutate(book=\"5.order_of_the_phoenix\")\n",
    "\n",
    "prince_tibble<-tibble(chapter=seq_along(half_blood_prince), text=half_blood_prince)%>%\n",
    "  unnest_tokens(input=text, output=word)%>%\n",
    "  left_join(afinn)%>%\n",
    "  filter(!is.na(value))%>%\n",
    "  group_by(chapter)%>%\n",
    "  summarize(mean_sentiment_value=mean(value,na.rm=T))%>%\n",
    "  mutate(book=\"6.half_blood_prince\")\n",
    "\n",
    "hallows_tibble<-tibble(chapter=seq_along(deathly_hallows), text=deathly_hallows)%>%\n",
    "  unnest_tokens(input=text, output=word)%>%\n",
    "  left_join(afinn)%>%\n",
    "  filter(!is.na(value))%>%\n",
    "  group_by(chapter)%>%\n",
    "  summarize(mean_sentiment_value=mean(value,na.rm=T))%>%\n",
    "  mutate(book=\"7.deathly_hallows\")\n",
    "</pre>"
   ]
  },
  {
   "cell_type": "code",
   "execution_count": 97,
   "metadata": {
    "slideshow": {
     "slide_type": "slide"
    }
   },
   "outputs": [
    {
     "name": "stderr",
     "output_type": "stream",
     "text": [
      "\u001b[1m\u001b[22mJoining with `by = join_by(word)`\n"
     ]
    },
    {
     "data": {
      "text/html": [
       "<table class=\"dataframe\">\n",
       "<caption>A tibble: 5 × 3</caption>\n",
       "<thead>\n",
       "\t<tr><th scope=col>title</th><th scope=col>chapter</th><th scope=col>msv</th></tr>\n",
       "\t<tr><th scope=col>&lt;chr&gt;</th><th scope=col>&lt;int&gt;</th><th scope=col>&lt;dbl&gt;</th></tr>\n",
       "</thead>\n",
       "<tbody>\n",
       "\t<tr><td>goblet_of_fire      </td><td>32</td><td>-1.0439560</td></tr>\n",
       "\t<tr><td>goblet_of_fire      </td><td>34</td><td>-0.7664671</td></tr>\n",
       "\t<tr><td>half_blood_prince   </td><td>28</td><td>-1.1428571</td></tr>\n",
       "\t<tr><td>order_of_the_phoenix</td><td>36</td><td>-0.9166667</td></tr>\n",
       "\t<tr><td>prisoner_of_azkaban </td><td>17</td><td>-0.7350000</td></tr>\n",
       "</tbody>\n",
       "</table>\n"
      ],
      "text/latex": [
       "A tibble: 5 × 3\n",
       "\\begin{tabular}{lll}\n",
       " title & chapter & msv\\\\\n",
       " <chr> & <int> & <dbl>\\\\\n",
       "\\hline\n",
       "\t goblet\\_of\\_fire       & 32 & -1.0439560\\\\\n",
       "\t goblet\\_of\\_fire       & 34 & -0.7664671\\\\\n",
       "\t half\\_blood\\_prince    & 28 & -1.1428571\\\\\n",
       "\t order\\_of\\_the\\_phoenix & 36 & -0.9166667\\\\\n",
       "\t prisoner\\_of\\_azkaban  & 17 & -0.7350000\\\\\n",
       "\\end{tabular}\n"
      ],
      "text/markdown": [
       "\n",
       "A tibble: 5 × 3\n",
       "\n",
       "| title &lt;chr&gt; | chapter &lt;int&gt; | msv &lt;dbl&gt; |\n",
       "|---|---|---|\n",
       "| goblet_of_fire       | 32 | -1.0439560 |\n",
       "| goblet_of_fire       | 34 | -0.7664671 |\n",
       "| half_blood_prince    | 28 | -1.1428571 |\n",
       "| order_of_the_phoenix | 36 | -0.9166667 |\n",
       "| prisoner_of_azkaban  | 17 | -0.7350000 |\n",
       "\n"
      ],
      "text/plain": [
       "  title                chapter msv       \n",
       "1 goblet_of_fire       32      -1.0439560\n",
       "2 goblet_of_fire       34      -0.7664671\n",
       "3 half_blood_prince    28      -1.1428571\n",
       "4 order_of_the_phoenix 36      -0.9166667\n",
       "5 prisoner_of_azkaban  17      -0.7350000"
      ]
     },
     "metadata": {},
     "output_type": "display_data"
    }
   ],
   "source": [
    "ls(\"package:harrypotter\") %>% \n",
    "    map_dfr(~ tibble(title = ., text = getExportedValue('harrypotter', .), \n",
    "                     chapter = seq_along(text))) %>% \n",
    "    unnest_tokens(input=text, output=word) %>% \n",
    "    left_join(afinn) %>%\n",
    "    group_by(title, chapter) %>% \n",
    "    summarize(msv = mean(value, na.rm=T), .groups = \"drop\") %>% \n",
    "    top_n(5, -msv)"
   ]
  },
  {
   "cell_type": "markdown",
   "metadata": {
    "id": "xJgocmutIfof",
    "slideshow": {
     "slide_type": "slide"
    }
   },
   "source": [
    "# Function\n",
    "This lecture will be about writing our own functions. \n",
    "- Functions are not new to us; we have been using them since the very first lecture.\n",
    "- `print`, `filter`, `mutate`, `summarize`, `tibble`, etc.: all are functions."
   ]
  },
  {
   "cell_type": "code",
   "execution_count": 101,
   "metadata": {
    "slideshow": {
     "slide_type": "slide"
    }
   },
   "outputs": [
    {
     "data": {
      "text/html": [
       "'function'"
      ],
      "text/latex": [
       "'function'"
      ],
      "text/markdown": [
       "'function'"
      ],
      "text/plain": [
       "[1] \"function\""
      ]
     },
     "metadata": {},
     "output_type": "display_data"
    },
    {
     "data": {
      "text/html": [
       "'integer'"
      ],
      "text/latex": [
       "'integer'"
      ],
      "text/markdown": [
       "'integer'"
      ],
      "text/plain": [
       "[1] \"integer\""
      ]
     },
     "metadata": {},
     "output_type": "display_data"
    }
   ],
   "source": [
    "class(filter)\n",
    "class(1:3)"
   ]
  },
  {
   "cell_type": "markdown",
   "metadata": {
    "id": "GjeuBDWQ7ubr",
    "slideshow": {
     "slide_type": "notes"
    }
   },
   "source": [
    "### Why write our own functions??\n",
    "\n",
    "Often when programming we find ourselves repeating the same block of code with minor modifications. \n",
    "\n",
    "Did you encounter this situation in your HW7 when you applied the same logic again and again, while deriving the sentiment score for all the Harry Potter books??\n",
    "\n",
    "That is precisely when a function is defined to save ourselves from repetition!\n",
    "\n",
    "Let us start with simple examples. When building machine learning models (which you will learn next week) it is common practice to normalize all the columns values to the same scale; typically between 0 and 1. Let us take the `mpg` dataset and see its current min and max values:"
   ]
  },
  {
   "cell_type": "code",
   "execution_count": 104,
   "metadata": {
    "colab": {
     "base_uri": "https://localhost:8080/",
     "height": 34
    },
    "executionInfo": {
     "elapsed": 139,
     "status": "ok",
     "timestamp": 1679148438050,
     "user": {
      "displayName": "Jayashree Ravi",
      "userId": "06933604785290521829"
     },
     "user_tz": 240
    },
    "id": "ZwBcWuaSC65I",
    "outputId": "ca421d71-071a-4d06-ca3b-e94fb7271aa6",
    "slideshow": {
     "slide_type": "slide"
    }
   },
   "outputs": [
    {
     "data": {
      "text/html": [
       "<style>\n",
       ".list-inline {list-style: none; margin:0; padding: 0}\n",
       ".list-inline>li {display: inline-block}\n",
       ".list-inline>li:not(:last-child)::after {content: \"\\00b7\"; padding: 0 .5ex}\n",
       "</style>\n",
       "<ol class=list-inline><li>12</li><li>44</li></ol>\n"
      ],
      "text/latex": [
       "\\begin{enumerate*}\n",
       "\\item 12\n",
       "\\item 44\n",
       "\\end{enumerate*}\n"
      ],
      "text/markdown": [
       "1. 12\n",
       "2. 44\n",
       "\n",
       "\n"
      ],
      "text/plain": [
       "[1] 12 44"
      ]
     },
     "metadata": {},
     "output_type": "display_data"
    },
    {
     "data": {
      "text/html": [
       "<style>\n",
       ".list-inline {list-style: none; margin:0; padding: 0}\n",
       ".list-inline>li {display: inline-block}\n",
       ".list-inline>li:not(:last-child)::after {content: \"\\00b7\"; padding: 0 .5ex}\n",
       "</style>\n",
       "<ol class=list-inline><li>12</li><li>44</li></ol>\n"
      ],
      "text/latex": [
       "\\begin{enumerate*}\n",
       "\\item 12\n",
       "\\item 44\n",
       "\\end{enumerate*}\n"
      ],
      "text/markdown": [
       "1. 12\n",
       "2. 44\n",
       "\n",
       "\n"
      ],
      "text/plain": [
       "[1] 12 44"
      ]
     },
     "metadata": {},
     "output_type": "display_data"
    }
   ],
   "source": [
    "range(mpg$hwy)\n",
    "c(min(mpg$hwy), max(mpg$hwy))"
   ]
  },
  {
   "cell_type": "markdown",
   "metadata": {
    "id": "tZi8Sl3BDGrg",
    "slideshow": {
     "slide_type": "notes"
    }
   },
   "source": [
    "Let us now normalize it:"
   ]
  },
  {
   "cell_type": "code",
   "execution_count": 106,
   "metadata": {
    "colab": {
     "base_uri": "https://localhost:8080/",
     "height": 34
    },
    "executionInfo": {
     "elapsed": 125,
     "status": "ok",
     "timestamp": 1679148490706,
     "user": {
      "displayName": "Jayashree Ravi",
      "userId": "06933604785290521829"
     },
     "user_tz": 240
    },
    "id": "IbO0bI637vLy",
    "outputId": "f25f6600-c37a-4c5f-9c99-8ae34a8eb6af"
   },
   "outputs": [
    {
     "data": {
      "text/html": [
       "<style>\n",
       ".list-inline {list-style: none; margin:0; padding: 0}\n",
       ".list-inline>li {display: inline-block}\n",
       ".list-inline>li:not(:last-child)::after {content: \"\\00b7\"; padding: 0 .5ex}\n",
       "</style>\n",
       "<ol class=list-inline><li>0.53125</li><li>0.53125</li><li>0.59375</li><li>0.5625</li><li>0.4375</li><li>0.4375</li><li>0.46875</li><li>0.4375</li><li>0.40625</li><li>0.5</li><li>0.46875</li><li>0.40625</li><li>0.40625</li><li>0.40625</li><li>0.40625</li><li>0.375</li><li>0.40625</li><li>0.34375</li><li>0.25</li><li>0.09375</li><li>0.25</li><li>0.15625</li><li>0.15625</li><li>0.4375</li><li>0.34375</li><li>0.4375</li><li>0.40625</li><li>0.375</li><li>0.21875</li><li>0.0625</li><li>0.09375</li><li>0.15625</li><li>0.46875</li><li>0.5625</li><li>0.4375</li><li>0.53125</li><li>0.4375</li><li>0.375</li><li>0.375</li><li>0.3125</li><li>0.3125</li><li>0.375</li><li>0.375</li><li>0.15625</li><li>0.3125</li><li>0.28125</li><li>0.34375</li><li>0.34375</li><li>0.21875</li><li>0.1875</li><li>0.15625</li><li>0.15625</li><li>0.21875</li><li>0.21875</li><li>0</li><li>0.15625</li><li>0.09375</li><li>0.15625</li><li>0.15625</li><li>0</li><li>0.15625</li><li>0.125</li><li>0.1875</li><li>0.09375</li><li>0.125</li><li>0</li><li>0.15625</li><li>0.15625</li><li>0.125</li><li>0</li><li>0.09375</li><li>0.125</li><li>0.15625</li><li>0.09375</li><li>0.15625</li><li>0.15625</li><li>0.1875</li><li>0.15625</li><li>0.21875</li><li>0.15625</li><li>0.21875</li><li>0.21875</li><li>0.15625</li><li>0.15625</li><li>0.15625</li><li>0.125</li><li>0.125</li><li>0.15625</li><li>0.09375</li><li>0.15625</li><li>0.4375</li><li>0.40625</li><li>0.4375</li><li>0.375</li><li>0.28125</li><li>0.3125</li><li>0.34375</li><li>0.3125</li><li>0.25</li><li>0.65625</li><li>0.625</li><li>0.625</li><li>0.53125</li><li>0.625</li><li>0.6875</li><li>0.75</li><li>0.75</li><li>0.53125</li><li>0.4375</li><li>0.46875</li><li>0.5625</li><li>0.59375</li><li>0.4375</li><li>0.4375</li><li>0.5</li><li>0.4375</li><li>0.53125</li><li>0.5</li><li>0.46875</li><li>0.375</li><li>0.375</li><li>0.375</li><li>0.3125</li><li>0.21875</li><li>0.25</li><li>0.15625</li><li>0</li><li>0.21875</li><li>0.1875</li><li>0.0625</li><li>0.09375</li><li>0.1875</li><li>0.1875</li><li>0.09375</li><li>0.15625</li><li>0.125</li><li>0.1875</li><li>0.15625</li><li>0.21875</li><li>0.21875</li><li>0.15625</li><li>0.53125</li><li>0.46875</li><li>0.59375</li><li>0.625</li><li>0.46875</li><li>0.4375</li><li>0.4375</li><li>0.40625</li><li>0.40625</li><li>0.15625</li><li>0.15625</li><li>0.25</li><li>0.1875</li><li>0.4375</li><li>0.4375</li><li>0.46875</li><li>0.5</li><li>0.40625</li><li>0.40625</li><li>0.375</li><li>0.46875</li><li>0.40625</li><li>0.4375</li><li>0.34375</li><li>0.4375</li><li>0.4375</li><li>0.4375</li><li>0.4375</li><li>0.40625</li><li>0.46875</li><li>0.40625</li><li>0.46875</li><li>0.25</li><li>0.25</li><li>0.21875</li><li>0.15625</li><li>0.25</li><li>0.15625</li><li>0.53125</li><li>0.46875</li><li>0.59375</li><li>0.59375</li><li>0.4375</li><li>0.4375</li><li>0.5</li><li>0.46875</li><li>0.53125</li><li>0.59375</li><li>0.59375</li><li>0.4375</li><li>0.4375</li><li>0.46875</li><li>0.5625</li><li>0.65625</li><li>0.71875</li><li>0.78125</li><li>0.71875</li><li>0.09375</li><li>0.1875</li><li>0.25</li><li>0.25</li><li>0.3125</li><li>0.15625</li><li>0.21875</li><li>0.1875</li><li>0.25</li><li>0.53125</li><li>0.4375</li><li>0.53125</li><li>0.53125</li><li>0.375</li><li>1</li><li>0.53125</li><li>0.4375</li><li>0.53125</li><li>0.53125</li><li>0.53125</li><li>0.53125</li><li>0.34375</li><li>0.375</li><li>1</li><li>0.90625</li><li>0.53125</li><li>0.4375</li><li>0.5</li><li>0.53125</li><li>0.53125</li><li>0.53125</li><li>0.5</li><li>0.53125</li><li>0.4375</li><li>0.4375</li><li>0.4375</li></ol>\n"
      ],
      "text/latex": [
       "\\begin{enumerate*}\n",
       "\\item 0.53125\n",
       "\\item 0.53125\n",
       "\\item 0.59375\n",
       "\\item 0.5625\n",
       "\\item 0.4375\n",
       "\\item 0.4375\n",
       "\\item 0.46875\n",
       "\\item 0.4375\n",
       "\\item 0.40625\n",
       "\\item 0.5\n",
       "\\item 0.46875\n",
       "\\item 0.40625\n",
       "\\item 0.40625\n",
       "\\item 0.40625\n",
       "\\item 0.40625\n",
       "\\item 0.375\n",
       "\\item 0.40625\n",
       "\\item 0.34375\n",
       "\\item 0.25\n",
       "\\item 0.09375\n",
       "\\item 0.25\n",
       "\\item 0.15625\n",
       "\\item 0.15625\n",
       "\\item 0.4375\n",
       "\\item 0.34375\n",
       "\\item 0.4375\n",
       "\\item 0.40625\n",
       "\\item 0.375\n",
       "\\item 0.21875\n",
       "\\item 0.0625\n",
       "\\item 0.09375\n",
       "\\item 0.15625\n",
       "\\item 0.46875\n",
       "\\item 0.5625\n",
       "\\item 0.4375\n",
       "\\item 0.53125\n",
       "\\item 0.4375\n",
       "\\item 0.375\n",
       "\\item 0.375\n",
       "\\item 0.3125\n",
       "\\item 0.3125\n",
       "\\item 0.375\n",
       "\\item 0.375\n",
       "\\item 0.15625\n",
       "\\item 0.3125\n",
       "\\item 0.28125\n",
       "\\item 0.34375\n",
       "\\item 0.34375\n",
       "\\item 0.21875\n",
       "\\item 0.1875\n",
       "\\item 0.15625\n",
       "\\item 0.15625\n",
       "\\item 0.21875\n",
       "\\item 0.21875\n",
       "\\item 0\n",
       "\\item 0.15625\n",
       "\\item 0.09375\n",
       "\\item 0.15625\n",
       "\\item 0.15625\n",
       "\\item 0\n",
       "\\item 0.15625\n",
       "\\item 0.125\n",
       "\\item 0.1875\n",
       "\\item 0.09375\n",
       "\\item 0.125\n",
       "\\item 0\n",
       "\\item 0.15625\n",
       "\\item 0.15625\n",
       "\\item 0.125\n",
       "\\item 0\n",
       "\\item 0.09375\n",
       "\\item 0.125\n",
       "\\item 0.15625\n",
       "\\item 0.09375\n",
       "\\item 0.15625\n",
       "\\item 0.15625\n",
       "\\item 0.1875\n",
       "\\item 0.15625\n",
       "\\item 0.21875\n",
       "\\item 0.15625\n",
       "\\item 0.21875\n",
       "\\item 0.21875\n",
       "\\item 0.15625\n",
       "\\item 0.15625\n",
       "\\item 0.15625\n",
       "\\item 0.125\n",
       "\\item 0.125\n",
       "\\item 0.15625\n",
       "\\item 0.09375\n",
       "\\item 0.15625\n",
       "\\item 0.4375\n",
       "\\item 0.40625\n",
       "\\item 0.4375\n",
       "\\item 0.375\n",
       "\\item 0.28125\n",
       "\\item 0.3125\n",
       "\\item 0.34375\n",
       "\\item 0.3125\n",
       "\\item 0.25\n",
       "\\item 0.65625\n",
       "\\item 0.625\n",
       "\\item 0.625\n",
       "\\item 0.53125\n",
       "\\item 0.625\n",
       "\\item 0.6875\n",
       "\\item 0.75\n",
       "\\item 0.75\n",
       "\\item 0.53125\n",
       "\\item 0.4375\n",
       "\\item 0.46875\n",
       "\\item 0.5625\n",
       "\\item 0.59375\n",
       "\\item 0.4375\n",
       "\\item 0.4375\n",
       "\\item 0.5\n",
       "\\item 0.4375\n",
       "\\item 0.53125\n",
       "\\item 0.5\n",
       "\\item 0.46875\n",
       "\\item 0.375\n",
       "\\item 0.375\n",
       "\\item 0.375\n",
       "\\item 0.3125\n",
       "\\item 0.21875\n",
       "\\item 0.25\n",
       "\\item 0.15625\n",
       "\\item 0\n",
       "\\item 0.21875\n",
       "\\item 0.1875\n",
       "\\item 0.0625\n",
       "\\item 0.09375\n",
       "\\item 0.1875\n",
       "\\item 0.1875\n",
       "\\item 0.09375\n",
       "\\item 0.15625\n",
       "\\item 0.125\n",
       "\\item 0.1875\n",
       "\\item 0.15625\n",
       "\\item 0.21875\n",
       "\\item 0.21875\n",
       "\\item 0.15625\n",
       "\\item 0.53125\n",
       "\\item 0.46875\n",
       "\\item 0.59375\n",
       "\\item 0.625\n",
       "\\item 0.46875\n",
       "\\item 0.4375\n",
       "\\item 0.4375\n",
       "\\item 0.40625\n",
       "\\item 0.40625\n",
       "\\item 0.15625\n",
       "\\item 0.15625\n",
       "\\item 0.25\n",
       "\\item 0.1875\n",
       "\\item 0.4375\n",
       "\\item 0.4375\n",
       "\\item 0.46875\n",
       "\\item 0.5\n",
       "\\item 0.40625\n",
       "\\item 0.40625\n",
       "\\item 0.375\n",
       "\\item 0.46875\n",
       "\\item 0.40625\n",
       "\\item 0.4375\n",
       "\\item 0.34375\n",
       "\\item 0.4375\n",
       "\\item 0.4375\n",
       "\\item 0.4375\n",
       "\\item 0.4375\n",
       "\\item 0.40625\n",
       "\\item 0.46875\n",
       "\\item 0.40625\n",
       "\\item 0.46875\n",
       "\\item 0.25\n",
       "\\item 0.25\n",
       "\\item 0.21875\n",
       "\\item 0.15625\n",
       "\\item 0.25\n",
       "\\item 0.15625\n",
       "\\item 0.53125\n",
       "\\item 0.46875\n",
       "\\item 0.59375\n",
       "\\item 0.59375\n",
       "\\item 0.4375\n",
       "\\item 0.4375\n",
       "\\item 0.5\n",
       "\\item 0.46875\n",
       "\\item 0.53125\n",
       "\\item 0.59375\n",
       "\\item 0.59375\n",
       "\\item 0.4375\n",
       "\\item 0.4375\n",
       "\\item 0.46875\n",
       "\\item 0.5625\n",
       "\\item 0.65625\n",
       "\\item 0.71875\n",
       "\\item 0.78125\n",
       "\\item 0.71875\n",
       "\\item 0.09375\n",
       "\\item 0.1875\n",
       "\\item 0.25\n",
       "\\item 0.25\n",
       "\\item 0.3125\n",
       "\\item 0.15625\n",
       "\\item 0.21875\n",
       "\\item 0.1875\n",
       "\\item 0.25\n",
       "\\item 0.53125\n",
       "\\item 0.4375\n",
       "\\item 0.53125\n",
       "\\item 0.53125\n",
       "\\item 0.375\n",
       "\\item 1\n",
       "\\item 0.53125\n",
       "\\item 0.4375\n",
       "\\item 0.53125\n",
       "\\item 0.53125\n",
       "\\item 0.53125\n",
       "\\item 0.53125\n",
       "\\item 0.34375\n",
       "\\item 0.375\n",
       "\\item 1\n",
       "\\item 0.90625\n",
       "\\item 0.53125\n",
       "\\item 0.4375\n",
       "\\item 0.5\n",
       "\\item 0.53125\n",
       "\\item 0.53125\n",
       "\\item 0.53125\n",
       "\\item 0.5\n",
       "\\item 0.53125\n",
       "\\item 0.4375\n",
       "\\item 0.4375\n",
       "\\item 0.4375\n",
       "\\end{enumerate*}\n"
      ],
      "text/markdown": [
       "1. 0.53125\n",
       "2. 0.53125\n",
       "3. 0.59375\n",
       "4. 0.5625\n",
       "5. 0.4375\n",
       "6. 0.4375\n",
       "7. 0.46875\n",
       "8. 0.4375\n",
       "9. 0.40625\n",
       "10. 0.5\n",
       "11. 0.46875\n",
       "12. 0.40625\n",
       "13. 0.40625\n",
       "14. 0.40625\n",
       "15. 0.40625\n",
       "16. 0.375\n",
       "17. 0.40625\n",
       "18. 0.34375\n",
       "19. 0.25\n",
       "20. 0.09375\n",
       "21. 0.25\n",
       "22. 0.15625\n",
       "23. 0.15625\n",
       "24. 0.4375\n",
       "25. 0.34375\n",
       "26. 0.4375\n",
       "27. 0.40625\n",
       "28. 0.375\n",
       "29. 0.21875\n",
       "30. 0.0625\n",
       "31. 0.09375\n",
       "32. 0.15625\n",
       "33. 0.46875\n",
       "34. 0.5625\n",
       "35. 0.4375\n",
       "36. 0.53125\n",
       "37. 0.4375\n",
       "38. 0.375\n",
       "39. 0.375\n",
       "40. 0.3125\n",
       "41. 0.3125\n",
       "42. 0.375\n",
       "43. 0.375\n",
       "44. 0.15625\n",
       "45. 0.3125\n",
       "46. 0.28125\n",
       "47. 0.34375\n",
       "48. 0.34375\n",
       "49. 0.21875\n",
       "50. 0.1875\n",
       "51. 0.15625\n",
       "52. 0.15625\n",
       "53. 0.21875\n",
       "54. 0.21875\n",
       "55. 0\n",
       "56. 0.15625\n",
       "57. 0.09375\n",
       "58. 0.15625\n",
       "59. 0.15625\n",
       "60. 0\n",
       "61. 0.15625\n",
       "62. 0.125\n",
       "63. 0.1875\n",
       "64. 0.09375\n",
       "65. 0.125\n",
       "66. 0\n",
       "67. 0.15625\n",
       "68. 0.15625\n",
       "69. 0.125\n",
       "70. 0\n",
       "71. 0.09375\n",
       "72. 0.125\n",
       "73. 0.15625\n",
       "74. 0.09375\n",
       "75. 0.15625\n",
       "76. 0.15625\n",
       "77. 0.1875\n",
       "78. 0.15625\n",
       "79. 0.21875\n",
       "80. 0.15625\n",
       "81. 0.21875\n",
       "82. 0.21875\n",
       "83. 0.15625\n",
       "84. 0.15625\n",
       "85. 0.15625\n",
       "86. 0.125\n",
       "87. 0.125\n",
       "88. 0.15625\n",
       "89. 0.09375\n",
       "90. 0.15625\n",
       "91. 0.4375\n",
       "92. 0.40625\n",
       "93. 0.4375\n",
       "94. 0.375\n",
       "95. 0.28125\n",
       "96. 0.3125\n",
       "97. 0.34375\n",
       "98. 0.3125\n",
       "99. 0.25\n",
       "100. 0.65625\n",
       "101. 0.625\n",
       "102. 0.625\n",
       "103. 0.53125\n",
       "104. 0.625\n",
       "105. 0.6875\n",
       "106. 0.75\n",
       "107. 0.75\n",
       "108. 0.53125\n",
       "109. 0.4375\n",
       "110. 0.46875\n",
       "111. 0.5625\n",
       "112. 0.59375\n",
       "113. 0.4375\n",
       "114. 0.4375\n",
       "115. 0.5\n",
       "116. 0.4375\n",
       "117. 0.53125\n",
       "118. 0.5\n",
       "119. 0.46875\n",
       "120. 0.375\n",
       "121. 0.375\n",
       "122. 0.375\n",
       "123. 0.3125\n",
       "124. 0.21875\n",
       "125. 0.25\n",
       "126. 0.15625\n",
       "127. 0\n",
       "128. 0.21875\n",
       "129. 0.1875\n",
       "130. 0.0625\n",
       "131. 0.09375\n",
       "132. 0.1875\n",
       "133. 0.1875\n",
       "134. 0.09375\n",
       "135. 0.15625\n",
       "136. 0.125\n",
       "137. 0.1875\n",
       "138. 0.15625\n",
       "139. 0.21875\n",
       "140. 0.21875\n",
       "141. 0.15625\n",
       "142. 0.53125\n",
       "143. 0.46875\n",
       "144. 0.59375\n",
       "145. 0.625\n",
       "146. 0.46875\n",
       "147. 0.4375\n",
       "148. 0.4375\n",
       "149. 0.40625\n",
       "150. 0.40625\n",
       "151. 0.15625\n",
       "152. 0.15625\n",
       "153. 0.25\n",
       "154. 0.1875\n",
       "155. 0.4375\n",
       "156. 0.4375\n",
       "157. 0.46875\n",
       "158. 0.5\n",
       "159. 0.40625\n",
       "160. 0.40625\n",
       "161. 0.375\n",
       "162. 0.46875\n",
       "163. 0.40625\n",
       "164. 0.4375\n",
       "165. 0.34375\n",
       "166. 0.4375\n",
       "167. 0.4375\n",
       "168. 0.4375\n",
       "169. 0.4375\n",
       "170. 0.40625\n",
       "171. 0.46875\n",
       "172. 0.40625\n",
       "173. 0.46875\n",
       "174. 0.25\n",
       "175. 0.25\n",
       "176. 0.21875\n",
       "177. 0.15625\n",
       "178. 0.25\n",
       "179. 0.15625\n",
       "180. 0.53125\n",
       "181. 0.46875\n",
       "182. 0.59375\n",
       "183. 0.59375\n",
       "184. 0.4375\n",
       "185. 0.4375\n",
       "186. 0.5\n",
       "187. 0.46875\n",
       "188. 0.53125\n",
       "189. 0.59375\n",
       "190. 0.59375\n",
       "191. 0.4375\n",
       "192. 0.4375\n",
       "193. 0.46875\n",
       "194. 0.5625\n",
       "195. 0.65625\n",
       "196. 0.71875\n",
       "197. 0.78125\n",
       "198. 0.71875\n",
       "199. 0.09375\n",
       "200. 0.1875\n",
       "201. 0.25\n",
       "202. 0.25\n",
       "203. 0.3125\n",
       "204. 0.15625\n",
       "205. 0.21875\n",
       "206. 0.1875\n",
       "207. 0.25\n",
       "208. 0.53125\n",
       "209. 0.4375\n",
       "210. 0.53125\n",
       "211. 0.53125\n",
       "212. 0.375\n",
       "213. 1\n",
       "214. 0.53125\n",
       "215. 0.4375\n",
       "216. 0.53125\n",
       "217. 0.53125\n",
       "218. 0.53125\n",
       "219. 0.53125\n",
       "220. 0.34375\n",
       "221. 0.375\n",
       "222. 1\n",
       "223. 0.90625\n",
       "224. 0.53125\n",
       "225. 0.4375\n",
       "226. 0.5\n",
       "227. 0.53125\n",
       "228. 0.53125\n",
       "229. 0.53125\n",
       "230. 0.5\n",
       "231. 0.53125\n",
       "232. 0.4375\n",
       "233. 0.4375\n",
       "234. 0.4375\n",
       "\n",
       "\n"
      ],
      "text/plain": [
       "  [1] 0.53125 0.53125 0.59375 0.56250 0.43750 0.43750 0.46875 0.43750 0.40625\n",
       " [10] 0.50000 0.46875 0.40625 0.40625 0.40625 0.40625 0.37500 0.40625 0.34375\n",
       " [19] 0.25000 0.09375 0.25000 0.15625 0.15625 0.43750 0.34375 0.43750 0.40625\n",
       " [28] 0.37500 0.21875 0.06250 0.09375 0.15625 0.46875 0.56250 0.43750 0.53125\n",
       " [37] 0.43750 0.37500 0.37500 0.31250 0.31250 0.37500 0.37500 0.15625 0.31250\n",
       " [46] 0.28125 0.34375 0.34375 0.21875 0.18750 0.15625 0.15625 0.21875 0.21875\n",
       " [55] 0.00000 0.15625 0.09375 0.15625 0.15625 0.00000 0.15625 0.12500 0.18750\n",
       " [64] 0.09375 0.12500 0.00000 0.15625 0.15625 0.12500 0.00000 0.09375 0.12500\n",
       " [73] 0.15625 0.09375 0.15625 0.15625 0.18750 0.15625 0.21875 0.15625 0.21875\n",
       " [82] 0.21875 0.15625 0.15625 0.15625 0.12500 0.12500 0.15625 0.09375 0.15625\n",
       " [91] 0.43750 0.40625 0.43750 0.37500 0.28125 0.31250 0.34375 0.31250 0.25000\n",
       "[100] 0.65625 0.62500 0.62500 0.53125 0.62500 0.68750 0.75000 0.75000 0.53125\n",
       "[109] 0.43750 0.46875 0.56250 0.59375 0.43750 0.43750 0.50000 0.43750 0.53125\n",
       "[118] 0.50000 0.46875 0.37500 0.37500 0.37500 0.31250 0.21875 0.25000 0.15625\n",
       "[127] 0.00000 0.21875 0.18750 0.06250 0.09375 0.18750 0.18750 0.09375 0.15625\n",
       "[136] 0.12500 0.18750 0.15625 0.21875 0.21875 0.15625 0.53125 0.46875 0.59375\n",
       "[145] 0.62500 0.46875 0.43750 0.43750 0.40625 0.40625 0.15625 0.15625 0.25000\n",
       "[154] 0.18750 0.43750 0.43750 0.46875 0.50000 0.40625 0.40625 0.37500 0.46875\n",
       "[163] 0.40625 0.43750 0.34375 0.43750 0.43750 0.43750 0.43750 0.40625 0.46875\n",
       "[172] 0.40625 0.46875 0.25000 0.25000 0.21875 0.15625 0.25000 0.15625 0.53125\n",
       "[181] 0.46875 0.59375 0.59375 0.43750 0.43750 0.50000 0.46875 0.53125 0.59375\n",
       "[190] 0.59375 0.43750 0.43750 0.46875 0.56250 0.65625 0.71875 0.78125 0.71875\n",
       "[199] 0.09375 0.18750 0.25000 0.25000 0.31250 0.15625 0.21875 0.18750 0.25000\n",
       "[208] 0.53125 0.43750 0.53125 0.53125 0.37500 1.00000 0.53125 0.43750 0.53125\n",
       "[217] 0.53125 0.53125 0.53125 0.34375 0.37500 1.00000 0.90625 0.53125 0.43750\n",
       "[226] 0.50000 0.53125 0.53125 0.53125 0.50000 0.53125 0.43750 0.43750 0.43750"
      ]
     },
     "metadata": {},
     "output_type": "display_data"
    }
   ],
   "source": [
    "hwy_a <- (mpg$hwy - min(mpg$hwy, na.rm = TRUE)) / (max(mpg$hwy, na.rm = TRUE) - min(mpg$hwy, na.rm = TRUE))\n",
    "hwy_a"
   ]
  },
  {
   "cell_type": "markdown",
   "metadata": {
    "id": "d39irSk0DU7K",
    "slideshow": {
     "slide_type": "notes"
    }
   },
   "source": [
    "We need to do the exact same for all columns; to begin with let us do for all numerical columns. And it is easy to copy and paste the same code from above and change the variable names"
   ]
  },
  {
   "cell_type": "markdown",
   "metadata": {
    "slideshow": {
     "slide_type": "slide"
    }
   },
   "source": [
    "## 🤔 Quiz"
   ]
  },
  {
   "cell_type": "code",
   "execution_count": 115,
   "metadata": {
    "colab": {
     "base_uri": "https://localhost:8080/",
     "height": 34
    },
    "executionInfo": {
     "elapsed": 162,
     "status": "ok",
     "timestamp": 1679148680345,
     "user": {
      "displayName": "Jayashree Ravi",
      "userId": "06933604785290521829"
     },
     "user_tz": 240
    },
    "id": "55332GY1Dk5k",
    "outputId": "e7c2c1da-c10a-4ccf-d8b7-ec78fe88d17d",
    "slideshow": {
     "slide_type": "-"
    }
   },
   "outputs": [
    {
     "data": {
      "text/html": [
       "<style>\n",
       ".list-inline {list-style: none; margin:0; padding: 0}\n",
       ".list-inline>li {display: inline-block}\n",
       ".list-inline>li:not(:last-child)::after {content: \"\\00b7\"; padding: 0 .5ex}\n",
       "</style>\n",
       "<ol class=list-inline><li>0</li><li>1.1304347826087</li></ol>\n"
      ],
      "text/latex": [
       "\\begin{enumerate*}\n",
       "\\item 0\n",
       "\\item 1.1304347826087\n",
       "\\end{enumerate*}\n"
      ],
      "text/markdown": [
       "1. 0\n",
       "2. 1.1304347826087\n",
       "\n",
       "\n"
      ],
      "text/plain": [
       "[1] 0.000000 1.130435"
      ]
     },
     "metadata": {},
     "output_type": "display_data"
    }
   ],
   "source": [
    "cty_a <- (\n",
    "    (mpg$cty - min(mpg$cty, na.rm = TRUE)) / \n",
    "    (max(mpg$cty, na.rm = TRUE) - min(mpg$hwy, na.rm = TRUE))\n",
    ")\n",
    "cty_a %>% range"
   ]
  },
  {
   "cell_type": "markdown",
   "metadata": {
    "id": "9Xgz9o_wD5wP",
    "slideshow": {
     "slide_type": "-"
    }
   },
   "source": [
    "Why is the range not showing a maximum of 1?\n",
    "\n",
    "&nbsp;A. For the `cty` values it cannot have a maximum value of 1<br/>\n",
    "&nbsp;B. The numerator should use `max` function<br/>\n",
    "&nbsp;C. Copy-paste led to making an accidental mistake in the formula.<br/>"
   ]
  },
  {
   "cell_type": "markdown",
   "metadata": {
    "id": "-phP4EpQFT3l",
    "slideshow": {
     "slide_type": "notes"
    }
   },
   "source": [
    "We still need to do the exact same procedure for all other columns as well and so intead of repeating ourselves we can introduce a function to do the repeats. \n",
    "\n",
    "Specifically, we want to create a procedure that \"fills in\" the black boxes in the pattern below with whatever we pass in:"
   ]
  },
  {
   "cell_type": "markdown",
   "metadata": {
    "slideshow": {
     "slide_type": "slide"
    }
   },
   "source": [
    "(█ - min(█, na.rm = TRUE)) / (max(█, na.rm = TRUE) - min(█, na.rm = TRUE))"
   ]
  },
  {
   "cell_type": "markdown",
   "metadata": {
    "id": "Pp_j9XXuGHxC",
    "slideshow": {
     "slide_type": "slide"
    }
   },
   "source": [
    "## Anatomy of a function\n",
    "\n",
    "To write a function we should first think about the inputs and output. A function takes input(s), does something(s) to them, and then returns an output.\n",
    "\n",
    "\n",
    "    f <- function(input) {\n",
    "        <do some things>\n",
    "        return(output)\n",
    "    }\n",
    "    output <- f(input)\n",
    "\n"
   ]
  },
  {
   "cell_type": "markdown",
   "metadata": {
    "slideshow": {
     "slide_type": "notes"
    }
   },
   "source": [
    "Now let's create a \"rescale\" function from the above code:"
   ]
  },
  {
   "cell_type": "code",
   "execution_count": 138,
   "metadata": {
    "slideshow": {
     "slide_type": "slide"
    }
   },
   "outputs": [
    {
     "data": {
      "text/html": [
       "<style>\n",
       ".list-inline {list-style: none; margin:0; padding: 0}\n",
       ".list-inline>li {display: inline-block}\n",
       ".list-inline>li:not(:last-child)::after {content: \"\\00b7\"; padding: 0 .5ex}\n",
       "</style>\n",
       "<ol class=list-inline><li>&lt;NA&gt;</li><li>0.346153846153846</li><li>0.461538461538462</li><li>0.423076923076923</li><li>0.461538461538462</li><li>0.269230769230769</li><li>0.346153846153846</li><li>0.346153846153846</li><li>0.346153846153846</li><li>0.269230769230769</li><li>0.423076923076923</li><li>0.384615384615385</li><li>0.230769230769231</li><li>0.307692307692308</li><li>0.307692307692308</li><li>0.230769230769231</li><li>0.230769230769231</li><li>0.307692307692308</li><li>0.269230769230769</li><li>0.192307692307692</li><li>0.0769230769230769</li><li>0.192307692307692</li><li>0.153846153846154</li><li>0.115384615384615</li><li>0.269230769230769</li><li>0.230769230769231</li><li>0.269230769230769</li><li>0.230769230769231</li><li>0.230769230769231</li><li>0.192307692307692</li><li>0.0769230769230769</li><li>0.0769230769230769</li><li>0.192307692307692</li><li>0.384615384615385</li><li>0.5</li><li>0.346153846153846</li><li>0.346153846153846</li><li>0.307692307692308</li><li>0.346153846153846</li><li>0.307692307692308</li><li>0.269230769230769</li><li>0.269230769230769</li><li>0.307692307692308</li><li>0.307692307692308</li><li>0.0769230769230769</li><li>0.230769230769231</li><li>0.230769230769231</li><li>0.269230769230769</li><li>0.269230769230769</li><li>0.230769230769231</li><li>0.192307692307692</li><li>0.153846153846154</li><li>0.192307692307692</li><li>0.192307692307692</li><li>0.192307692307692</li><li>0</li><li>0.0769230769230769</li><li>0.0769230769230769</li><li>0.153846153846154</li><li>0.153846153846154</li><li>0</li><li>0.153846153846154</li><li>0.0769230769230769</li><li>0.153846153846154</li><li>0.0769230769230769</li><li>0.115384615384615</li><li>0</li><li>0.153846153846154</li><li>0.153846153846154</li><li>0.115384615384615</li><li>0</li><li>0.0769230769230769</li><li>0.0769230769230769</li><li>0.153846153846154</li><li>0.0769230769230769</li><li>0.0769230769230769</li><li>0.0769230769230769</li><li>0.115384615384615</li><li>0.192307692307692</li><li>0.230769230769231</li><li>0.192307692307692</li><li>0.153846153846154</li><li>0.153846153846154</li><li>0.153846153846154</li><li>0.192307692307692</li><li>0.192307692307692</li><li>0.153846153846154</li><li>0.153846153846154</li><li>0.153846153846154</li><li>0.0769230769230769</li><li>0.153846153846154</li><li>0.346153846153846</li><li>0.346153846153846</li><li>0.307692307692308</li><li>0.269230769230769</li><li>0.230769230769231</li><li>0.230769230769231</li><li>0.230769230769231</li><li>0.230769230769231</li><li>0.192307692307692</li><li>0.730769230769231</li><li>0.576923076923077</li><li>0.615384615384615</li><li>0.538461538461538</li><li>0.576923076923077</li><li>0.653846153846154</li><li>0.615384615384615</li><li>0.576923076923077</li><li>0.461538461538462</li><li>0.346153846153846</li><li>0.346153846153846</li><li>0.461538461538462</li><li>0.461538461538462</li><li>0.346153846153846</li><li>0.346153846153846</li><li>0.384615384615385</li><li>0.384615384615385</li><li>0.384615384615385</li><li>0.423076923076923</li><li>0.423076923076923</li><li>0.307692307692308</li><li>0.269230769230769</li><li>0.307692307692308</li><li>0.307692307692308</li><li>0.230769230769231</li><li>0.230769230769231</li><li>0.192307692307692</li><li>0</li><li>0.192307692307692</li><li>0.153846153846154</li><li>0.0769230769230769</li><li>0.0769230769230769</li><li>0.115384615384615</li><li>0.115384615384615</li><li>0.0769230769230769</li><li>0.0769230769230769</li><li>0.0769230769230769</li><li>0.115384615384615</li><li>0.192307692307692</li><li>0.153846153846154</li><li>0.153846153846154</li><li>0.153846153846154</li><li>0.461538461538462</li><li>0.384615384615385</li><li>0.538461538461538</li><li>0.538461538461538</li><li>0.384615384615385</li><li>0.384615384615385</li><li>0.346153846153846</li><li>0.384615384615385</li><li>0.384615384615385</li><li>0.192307692307692</li><li>0.230769230769231</li><li>0.192307692307692</li><li>0.115384615384615</li><li>0.346153846153846</li><li>0.269230769230769</li><li>0.307692307692308</li><li>0.346153846153846</li><li>0.269230769230769</li><li>0.346153846153846</li><li>0.346153846153846</li><li>0.423076923076923</li><li>0.384615384615385</li><li>0.423076923076923</li><li>0.346153846153846</li><li>0.461538461538462</li><li>0.384615384615385</li><li>0.384615384615385</li><li>0.384615384615385</li><li>0.423076923076923</li><li>0.423076923076923</li><li>0.384615384615385</li><li>0.423076923076923</li><li>0.230769230769231</li><li>0.269230769230769</li><li>0.230769230769231</li><li>0.230769230769231</li><li>0.269230769230769</li><li>0.192307692307692</li><li>0.461538461538462</li><li>0.461538461538462</li><li>0.461538461538462</li><li>0.461538461538462</li><li>0.346153846153846</li><li>0.346153846153846</li><li>0.384615384615385</li><li>0.461538461538462</li><li>0.461538461538462</li><li>0.461538461538462</li><li>0.5</li><li>0.346153846153846</li><li>0.346153846153846</li><li>0.346153846153846</li><li>0.576923076923077</li><li>0.576923076923077</li><li>0.653846153846154</li><li>0.730769230769231</li><li>0.653846153846154</li><li>0.0769230769230769</li><li>0.153846153846154</li><li>0.230769230769231</li><li>0.269230769230769</li><li>0.307692307692308</li><li>0.230769230769231</li><li>0.230769230769231</li><li>0.230769230769231</li><li>0.269230769230769</li><li>0.461538461538462</li><li>0.384615384615385</li><li>0.461538461538462</li><li>0.5</li><li>0.307692307692308</li><li>0.923076923076923</li><li>0.461538461538462</li><li>0.384615384615385</li><li>0.5</li><li>0.461538461538462</li><li>0.461538461538462</li><li>0.461538461538462</li><li>0.269230769230769</li><li>0.307692307692308</li><li>1</li><li>0.769230769230769</li><li>0.461538461538462</li><li>0.384615384615385</li><li>0.423076923076923</li><li>0.423076923076923</li><li>0.461538461538462</li><li>0.346153846153846</li><li>0.384615384615385</li><li>0.461538461538462</li><li>0.269230769230769</li><li>0.346153846153846</li><li>0.307692307692308</li></ol>\n"
      ],
      "text/latex": [
       "\\begin{enumerate*}\n",
       "\\item <NA>\n",
       "\\item 0.346153846153846\n",
       "\\item 0.461538461538462\n",
       "\\item 0.423076923076923\n",
       "\\item 0.461538461538462\n",
       "\\item 0.269230769230769\n",
       "\\item 0.346153846153846\n",
       "\\item 0.346153846153846\n",
       "\\item 0.346153846153846\n",
       "\\item 0.269230769230769\n",
       "\\item 0.423076923076923\n",
       "\\item 0.384615384615385\n",
       "\\item 0.230769230769231\n",
       "\\item 0.307692307692308\n",
       "\\item 0.307692307692308\n",
       "\\item 0.230769230769231\n",
       "\\item 0.230769230769231\n",
       "\\item 0.307692307692308\n",
       "\\item 0.269230769230769\n",
       "\\item 0.192307692307692\n",
       "\\item 0.0769230769230769\n",
       "\\item 0.192307692307692\n",
       "\\item 0.153846153846154\n",
       "\\item 0.115384615384615\n",
       "\\item 0.269230769230769\n",
       "\\item 0.230769230769231\n",
       "\\item 0.269230769230769\n",
       "\\item 0.230769230769231\n",
       "\\item 0.230769230769231\n",
       "\\item 0.192307692307692\n",
       "\\item 0.0769230769230769\n",
       "\\item 0.0769230769230769\n",
       "\\item 0.192307692307692\n",
       "\\item 0.384615384615385\n",
       "\\item 0.5\n",
       "\\item 0.346153846153846\n",
       "\\item 0.346153846153846\n",
       "\\item 0.307692307692308\n",
       "\\item 0.346153846153846\n",
       "\\item 0.307692307692308\n",
       "\\item 0.269230769230769\n",
       "\\item 0.269230769230769\n",
       "\\item 0.307692307692308\n",
       "\\item 0.307692307692308\n",
       "\\item 0.0769230769230769\n",
       "\\item 0.230769230769231\n",
       "\\item 0.230769230769231\n",
       "\\item 0.269230769230769\n",
       "\\item 0.269230769230769\n",
       "\\item 0.230769230769231\n",
       "\\item 0.192307692307692\n",
       "\\item 0.153846153846154\n",
       "\\item 0.192307692307692\n",
       "\\item 0.192307692307692\n",
       "\\item 0.192307692307692\n",
       "\\item 0\n",
       "\\item 0.0769230769230769\n",
       "\\item 0.0769230769230769\n",
       "\\item 0.153846153846154\n",
       "\\item 0.153846153846154\n",
       "\\item 0\n",
       "\\item 0.153846153846154\n",
       "\\item 0.0769230769230769\n",
       "\\item 0.153846153846154\n",
       "\\item 0.0769230769230769\n",
       "\\item 0.115384615384615\n",
       "\\item 0\n",
       "\\item 0.153846153846154\n",
       "\\item 0.153846153846154\n",
       "\\item 0.115384615384615\n",
       "\\item 0\n",
       "\\item 0.0769230769230769\n",
       "\\item 0.0769230769230769\n",
       "\\item 0.153846153846154\n",
       "\\item 0.0769230769230769\n",
       "\\item 0.0769230769230769\n",
       "\\item 0.0769230769230769\n",
       "\\item 0.115384615384615\n",
       "\\item 0.192307692307692\n",
       "\\item 0.230769230769231\n",
       "\\item 0.192307692307692\n",
       "\\item 0.153846153846154\n",
       "\\item 0.153846153846154\n",
       "\\item 0.153846153846154\n",
       "\\item 0.192307692307692\n",
       "\\item 0.192307692307692\n",
       "\\item 0.153846153846154\n",
       "\\item 0.153846153846154\n",
       "\\item 0.153846153846154\n",
       "\\item 0.0769230769230769\n",
       "\\item 0.153846153846154\n",
       "\\item 0.346153846153846\n",
       "\\item 0.346153846153846\n",
       "\\item 0.307692307692308\n",
       "\\item 0.269230769230769\n",
       "\\item 0.230769230769231\n",
       "\\item 0.230769230769231\n",
       "\\item 0.230769230769231\n",
       "\\item 0.230769230769231\n",
       "\\item 0.192307692307692\n",
       "\\item 0.730769230769231\n",
       "\\item 0.576923076923077\n",
       "\\item 0.615384615384615\n",
       "\\item 0.538461538461538\n",
       "\\item 0.576923076923077\n",
       "\\item 0.653846153846154\n",
       "\\item 0.615384615384615\n",
       "\\item 0.576923076923077\n",
       "\\item 0.461538461538462\n",
       "\\item 0.346153846153846\n",
       "\\item 0.346153846153846\n",
       "\\item 0.461538461538462\n",
       "\\item 0.461538461538462\n",
       "\\item 0.346153846153846\n",
       "\\item 0.346153846153846\n",
       "\\item 0.384615384615385\n",
       "\\item 0.384615384615385\n",
       "\\item 0.384615384615385\n",
       "\\item 0.423076923076923\n",
       "\\item 0.423076923076923\n",
       "\\item 0.307692307692308\n",
       "\\item 0.269230769230769\n",
       "\\item 0.307692307692308\n",
       "\\item 0.307692307692308\n",
       "\\item 0.230769230769231\n",
       "\\item 0.230769230769231\n",
       "\\item 0.192307692307692\n",
       "\\item 0\n",
       "\\item 0.192307692307692\n",
       "\\item 0.153846153846154\n",
       "\\item 0.0769230769230769\n",
       "\\item 0.0769230769230769\n",
       "\\item 0.115384615384615\n",
       "\\item 0.115384615384615\n",
       "\\item 0.0769230769230769\n",
       "\\item 0.0769230769230769\n",
       "\\item 0.0769230769230769\n",
       "\\item 0.115384615384615\n",
       "\\item 0.192307692307692\n",
       "\\item 0.153846153846154\n",
       "\\item 0.153846153846154\n",
       "\\item 0.153846153846154\n",
       "\\item 0.461538461538462\n",
       "\\item 0.384615384615385\n",
       "\\item 0.538461538461538\n",
       "\\item 0.538461538461538\n",
       "\\item 0.384615384615385\n",
       "\\item 0.384615384615385\n",
       "\\item 0.346153846153846\n",
       "\\item 0.384615384615385\n",
       "\\item 0.384615384615385\n",
       "\\item 0.192307692307692\n",
       "\\item 0.230769230769231\n",
       "\\item 0.192307692307692\n",
       "\\item 0.115384615384615\n",
       "\\item 0.346153846153846\n",
       "\\item 0.269230769230769\n",
       "\\item 0.307692307692308\n",
       "\\item 0.346153846153846\n",
       "\\item 0.269230769230769\n",
       "\\item 0.346153846153846\n",
       "\\item 0.346153846153846\n",
       "\\item 0.423076923076923\n",
       "\\item 0.384615384615385\n",
       "\\item 0.423076923076923\n",
       "\\item 0.346153846153846\n",
       "\\item 0.461538461538462\n",
       "\\item 0.384615384615385\n",
       "\\item 0.384615384615385\n",
       "\\item 0.384615384615385\n",
       "\\item 0.423076923076923\n",
       "\\item 0.423076923076923\n",
       "\\item 0.384615384615385\n",
       "\\item 0.423076923076923\n",
       "\\item 0.230769230769231\n",
       "\\item 0.269230769230769\n",
       "\\item 0.230769230769231\n",
       "\\item 0.230769230769231\n",
       "\\item 0.269230769230769\n",
       "\\item 0.192307692307692\n",
       "\\item 0.461538461538462\n",
       "\\item 0.461538461538462\n",
       "\\item 0.461538461538462\n",
       "\\item 0.461538461538462\n",
       "\\item 0.346153846153846\n",
       "\\item 0.346153846153846\n",
       "\\item 0.384615384615385\n",
       "\\item 0.461538461538462\n",
       "\\item 0.461538461538462\n",
       "\\item 0.461538461538462\n",
       "\\item 0.5\n",
       "\\item 0.346153846153846\n",
       "\\item 0.346153846153846\n",
       "\\item 0.346153846153846\n",
       "\\item 0.576923076923077\n",
       "\\item 0.576923076923077\n",
       "\\item 0.653846153846154\n",
       "\\item 0.730769230769231\n",
       "\\item 0.653846153846154\n",
       "\\item 0.0769230769230769\n",
       "\\item 0.153846153846154\n",
       "\\item 0.230769230769231\n",
       "\\item 0.269230769230769\n",
       "\\item 0.307692307692308\n",
       "\\item 0.230769230769231\n",
       "\\item 0.230769230769231\n",
       "\\item 0.230769230769231\n",
       "\\item 0.269230769230769\n",
       "\\item 0.461538461538462\n",
       "\\item 0.384615384615385\n",
       "\\item 0.461538461538462\n",
       "\\item 0.5\n",
       "\\item 0.307692307692308\n",
       "\\item 0.923076923076923\n",
       "\\item 0.461538461538462\n",
       "\\item 0.384615384615385\n",
       "\\item 0.5\n",
       "\\item 0.461538461538462\n",
       "\\item 0.461538461538462\n",
       "\\item 0.461538461538462\n",
       "\\item 0.269230769230769\n",
       "\\item 0.307692307692308\n",
       "\\item 1\n",
       "\\item 0.769230769230769\n",
       "\\item 0.461538461538462\n",
       "\\item 0.384615384615385\n",
       "\\item 0.423076923076923\n",
       "\\item 0.423076923076923\n",
       "\\item 0.461538461538462\n",
       "\\item 0.346153846153846\n",
       "\\item 0.384615384615385\n",
       "\\item 0.461538461538462\n",
       "\\item 0.269230769230769\n",
       "\\item 0.346153846153846\n",
       "\\item 0.307692307692308\n",
       "\\end{enumerate*}\n"
      ],
      "text/markdown": [
       "1. &lt;NA&gt;\n",
       "2. 0.346153846153846\n",
       "3. 0.461538461538462\n",
       "4. 0.423076923076923\n",
       "5. 0.461538461538462\n",
       "6. 0.269230769230769\n",
       "7. 0.346153846153846\n",
       "8. 0.346153846153846\n",
       "9. 0.346153846153846\n",
       "10. 0.269230769230769\n",
       "11. 0.423076923076923\n",
       "12. 0.384615384615385\n",
       "13. 0.230769230769231\n",
       "14. 0.307692307692308\n",
       "15. 0.307692307692308\n",
       "16. 0.230769230769231\n",
       "17. 0.230769230769231\n",
       "18. 0.307692307692308\n",
       "19. 0.269230769230769\n",
       "20. 0.192307692307692\n",
       "21. 0.0769230769230769\n",
       "22. 0.192307692307692\n",
       "23. 0.153846153846154\n",
       "24. 0.115384615384615\n",
       "25. 0.269230769230769\n",
       "26. 0.230769230769231\n",
       "27. 0.269230769230769\n",
       "28. 0.230769230769231\n",
       "29. 0.230769230769231\n",
       "30. 0.192307692307692\n",
       "31. 0.0769230769230769\n",
       "32. 0.0769230769230769\n",
       "33. 0.192307692307692\n",
       "34. 0.384615384615385\n",
       "35. 0.5\n",
       "36. 0.346153846153846\n",
       "37. 0.346153846153846\n",
       "38. 0.307692307692308\n",
       "39. 0.346153846153846\n",
       "40. 0.307692307692308\n",
       "41. 0.269230769230769\n",
       "42. 0.269230769230769\n",
       "43. 0.307692307692308\n",
       "44. 0.307692307692308\n",
       "45. 0.0769230769230769\n",
       "46. 0.230769230769231\n",
       "47. 0.230769230769231\n",
       "48. 0.269230769230769\n",
       "49. 0.269230769230769\n",
       "50. 0.230769230769231\n",
       "51. 0.192307692307692\n",
       "52. 0.153846153846154\n",
       "53. 0.192307692307692\n",
       "54. 0.192307692307692\n",
       "55. 0.192307692307692\n",
       "56. 0\n",
       "57. 0.0769230769230769\n",
       "58. 0.0769230769230769\n",
       "59. 0.153846153846154\n",
       "60. 0.153846153846154\n",
       "61. 0\n",
       "62. 0.153846153846154\n",
       "63. 0.0769230769230769\n",
       "64. 0.153846153846154\n",
       "65. 0.0769230769230769\n",
       "66. 0.115384615384615\n",
       "67. 0\n",
       "68. 0.153846153846154\n",
       "69. 0.153846153846154\n",
       "70. 0.115384615384615\n",
       "71. 0\n",
       "72. 0.0769230769230769\n",
       "73. 0.0769230769230769\n",
       "74. 0.153846153846154\n",
       "75. 0.0769230769230769\n",
       "76. 0.0769230769230769\n",
       "77. 0.0769230769230769\n",
       "78. 0.115384615384615\n",
       "79. 0.192307692307692\n",
       "80. 0.230769230769231\n",
       "81. 0.192307692307692\n",
       "82. 0.153846153846154\n",
       "83. 0.153846153846154\n",
       "84. 0.153846153846154\n",
       "85. 0.192307692307692\n",
       "86. 0.192307692307692\n",
       "87. 0.153846153846154\n",
       "88. 0.153846153846154\n",
       "89. 0.153846153846154\n",
       "90. 0.0769230769230769\n",
       "91. 0.153846153846154\n",
       "92. 0.346153846153846\n",
       "93. 0.346153846153846\n",
       "94. 0.307692307692308\n",
       "95. 0.269230769230769\n",
       "96. 0.230769230769231\n",
       "97. 0.230769230769231\n",
       "98. 0.230769230769231\n",
       "99. 0.230769230769231\n",
       "100. 0.192307692307692\n",
       "101. 0.730769230769231\n",
       "102. 0.576923076923077\n",
       "103. 0.615384615384615\n",
       "104. 0.538461538461538\n",
       "105. 0.576923076923077\n",
       "106. 0.653846153846154\n",
       "107. 0.615384615384615\n",
       "108. 0.576923076923077\n",
       "109. 0.461538461538462\n",
       "110. 0.346153846153846\n",
       "111. 0.346153846153846\n",
       "112. 0.461538461538462\n",
       "113. 0.461538461538462\n",
       "114. 0.346153846153846\n",
       "115. 0.346153846153846\n",
       "116. 0.384615384615385\n",
       "117. 0.384615384615385\n",
       "118. 0.384615384615385\n",
       "119. 0.423076923076923\n",
       "120. 0.423076923076923\n",
       "121. 0.307692307692308\n",
       "122. 0.269230769230769\n",
       "123. 0.307692307692308\n",
       "124. 0.307692307692308\n",
       "125. 0.230769230769231\n",
       "126. 0.230769230769231\n",
       "127. 0.192307692307692\n",
       "128. 0\n",
       "129. 0.192307692307692\n",
       "130. 0.153846153846154\n",
       "131. 0.0769230769230769\n",
       "132. 0.0769230769230769\n",
       "133. 0.115384615384615\n",
       "134. 0.115384615384615\n",
       "135. 0.0769230769230769\n",
       "136. 0.0769230769230769\n",
       "137. 0.0769230769230769\n",
       "138. 0.115384615384615\n",
       "139. 0.192307692307692\n",
       "140. 0.153846153846154\n",
       "141. 0.153846153846154\n",
       "142. 0.153846153846154\n",
       "143. 0.461538461538462\n",
       "144. 0.384615384615385\n",
       "145. 0.538461538461538\n",
       "146. 0.538461538461538\n",
       "147. 0.384615384615385\n",
       "148. 0.384615384615385\n",
       "149. 0.346153846153846\n",
       "150. 0.384615384615385\n",
       "151. 0.384615384615385\n",
       "152. 0.192307692307692\n",
       "153. 0.230769230769231\n",
       "154. 0.192307692307692\n",
       "155. 0.115384615384615\n",
       "156. 0.346153846153846\n",
       "157. 0.269230769230769\n",
       "158. 0.307692307692308\n",
       "159. 0.346153846153846\n",
       "160. 0.269230769230769\n",
       "161. 0.346153846153846\n",
       "162. 0.346153846153846\n",
       "163. 0.423076923076923\n",
       "164. 0.384615384615385\n",
       "165. 0.423076923076923\n",
       "166. 0.346153846153846\n",
       "167. 0.461538461538462\n",
       "168. 0.384615384615385\n",
       "169. 0.384615384615385\n",
       "170. 0.384615384615385\n",
       "171. 0.423076923076923\n",
       "172. 0.423076923076923\n",
       "173. 0.384615384615385\n",
       "174. 0.423076923076923\n",
       "175. 0.230769230769231\n",
       "176. 0.269230769230769\n",
       "177. 0.230769230769231\n",
       "178. 0.230769230769231\n",
       "179. 0.269230769230769\n",
       "180. 0.192307692307692\n",
       "181. 0.461538461538462\n",
       "182. 0.461538461538462\n",
       "183. 0.461538461538462\n",
       "184. 0.461538461538462\n",
       "185. 0.346153846153846\n",
       "186. 0.346153846153846\n",
       "187. 0.384615384615385\n",
       "188. 0.461538461538462\n",
       "189. 0.461538461538462\n",
       "190. 0.461538461538462\n",
       "191. 0.5\n",
       "192. 0.346153846153846\n",
       "193. 0.346153846153846\n",
       "194. 0.346153846153846\n",
       "195. 0.576923076923077\n",
       "196. 0.576923076923077\n",
       "197. 0.653846153846154\n",
       "198. 0.730769230769231\n",
       "199. 0.653846153846154\n",
       "200. 0.0769230769230769\n",
       "201. 0.153846153846154\n",
       "202. 0.230769230769231\n",
       "203. 0.269230769230769\n",
       "204. 0.307692307692308\n",
       "205. 0.230769230769231\n",
       "206. 0.230769230769231\n",
       "207. 0.230769230769231\n",
       "208. 0.269230769230769\n",
       "209. 0.461538461538462\n",
       "210. 0.384615384615385\n",
       "211. 0.461538461538462\n",
       "212. 0.5\n",
       "213. 0.307692307692308\n",
       "214. 0.923076923076923\n",
       "215. 0.461538461538462\n",
       "216. 0.384615384615385\n",
       "217. 0.5\n",
       "218. 0.461538461538462\n",
       "219. 0.461538461538462\n",
       "220. 0.461538461538462\n",
       "221. 0.269230769230769\n",
       "222. 0.307692307692308\n",
       "223. 1\n",
       "224. 0.769230769230769\n",
       "225. 0.461538461538462\n",
       "226. 0.384615384615385\n",
       "227. 0.423076923076923\n",
       "228. 0.423076923076923\n",
       "229. 0.461538461538462\n",
       "230. 0.346153846153846\n",
       "231. 0.384615384615385\n",
       "232. 0.461538461538462\n",
       "233. 0.269230769230769\n",
       "234. 0.346153846153846\n",
       "235. 0.307692307692308\n",
       "\n",
       "\n"
      ],
      "text/plain": [
       "  [1]         NA 0.34615385 0.46153846 0.42307692 0.46153846 0.26923077\n",
       "  [7] 0.34615385 0.34615385 0.34615385 0.26923077 0.42307692 0.38461538\n",
       " [13] 0.23076923 0.30769231 0.30769231 0.23076923 0.23076923 0.30769231\n",
       " [19] 0.26923077 0.19230769 0.07692308 0.19230769 0.15384615 0.11538462\n",
       " [25] 0.26923077 0.23076923 0.26923077 0.23076923 0.23076923 0.19230769\n",
       " [31] 0.07692308 0.07692308 0.19230769 0.38461538 0.50000000 0.34615385\n",
       " [37] 0.34615385 0.30769231 0.34615385 0.30769231 0.26923077 0.26923077\n",
       " [43] 0.30769231 0.30769231 0.07692308 0.23076923 0.23076923 0.26923077\n",
       " [49] 0.26923077 0.23076923 0.19230769 0.15384615 0.19230769 0.19230769\n",
       " [55] 0.19230769 0.00000000 0.07692308 0.07692308 0.15384615 0.15384615\n",
       " [61] 0.00000000 0.15384615 0.07692308 0.15384615 0.07692308 0.11538462\n",
       " [67] 0.00000000 0.15384615 0.15384615 0.11538462 0.00000000 0.07692308\n",
       " [73] 0.07692308 0.15384615 0.07692308 0.07692308 0.07692308 0.11538462\n",
       " [79] 0.19230769 0.23076923 0.19230769 0.15384615 0.15384615 0.15384615\n",
       " [85] 0.19230769 0.19230769 0.15384615 0.15384615 0.15384615 0.07692308\n",
       " [91] 0.15384615 0.34615385 0.34615385 0.30769231 0.26923077 0.23076923\n",
       " [97] 0.23076923 0.23076923 0.23076923 0.19230769 0.73076923 0.57692308\n",
       "[103] 0.61538462 0.53846154 0.57692308 0.65384615 0.61538462 0.57692308\n",
       "[109] 0.46153846 0.34615385 0.34615385 0.46153846 0.46153846 0.34615385\n",
       "[115] 0.34615385 0.38461538 0.38461538 0.38461538 0.42307692 0.42307692\n",
       "[121] 0.30769231 0.26923077 0.30769231 0.30769231 0.23076923 0.23076923\n",
       "[127] 0.19230769 0.00000000 0.19230769 0.15384615 0.07692308 0.07692308\n",
       "[133] 0.11538462 0.11538462 0.07692308 0.07692308 0.07692308 0.11538462\n",
       "[139] 0.19230769 0.15384615 0.15384615 0.15384615 0.46153846 0.38461538\n",
       "[145] 0.53846154 0.53846154 0.38461538 0.38461538 0.34615385 0.38461538\n",
       "[151] 0.38461538 0.19230769 0.23076923 0.19230769 0.11538462 0.34615385\n",
       "[157] 0.26923077 0.30769231 0.34615385 0.26923077 0.34615385 0.34615385\n",
       "[163] 0.42307692 0.38461538 0.42307692 0.34615385 0.46153846 0.38461538\n",
       "[169] 0.38461538 0.38461538 0.42307692 0.42307692 0.38461538 0.42307692\n",
       "[175] 0.23076923 0.26923077 0.23076923 0.23076923 0.26923077 0.19230769\n",
       "[181] 0.46153846 0.46153846 0.46153846 0.46153846 0.34615385 0.34615385\n",
       "[187] 0.38461538 0.46153846 0.46153846 0.46153846 0.50000000 0.34615385\n",
       "[193] 0.34615385 0.34615385 0.57692308 0.57692308 0.65384615 0.73076923\n",
       "[199] 0.65384615 0.07692308 0.15384615 0.23076923 0.26923077 0.30769231\n",
       "[205] 0.23076923 0.23076923 0.23076923 0.26923077 0.46153846 0.38461538\n",
       "[211] 0.46153846 0.50000000 0.30769231 0.92307692 0.46153846 0.38461538\n",
       "[217] 0.50000000 0.46153846 0.46153846 0.46153846 0.26923077 0.30769231\n",
       "[223] 1.00000000 0.76923077 0.46153846 0.38461538 0.42307692 0.42307692\n",
       "[229] 0.46153846 0.34615385 0.38461538 0.46153846 0.26923077 0.34615385\n",
       "[235] 0.30769231"
      ]
     },
     "metadata": {},
     "output_type": "display_data"
    }
   ],
   "source": [
    "# rescale01 function\n",
    "\n",
    "rescale01 <- function(x, na.rm = FALSE) {\n",
    "    # subtract off the min, divide by the range\n",
    "    return((x - min(x, na.rm = na.rm)) / (max(x, na.rm = na.rm) - min(x, na.rm = na.rm)))\n",
    "}\n",
    "\n",
    "rescale01(c(NA, mpg$cty), na.rm = T)"
   ]
  },
  {
   "cell_type": "markdown",
   "metadata": {
    "id": "dtRoursTGxz4",
    "slideshow": {
     "slide_type": "notes"
    }
   },
   "source": [
    "Note: in R (and unlike Python, C++, Java, or other languages), it is not necessary to use a `return` keyword to specify the return value of a function. The return value of a function is simply the value of the last expression evaluated within the function body. "
   ]
  },
  {
   "cell_type": "markdown",
   "metadata": {
    "id": "gUmAiBFQGUgk",
    "slideshow": {
     "slide_type": "slide"
    }
   },
   "source": [
    "## 🤔 Quiz\n",
    "\n",
    "What is the output of our `rescale01` function?\n",
    "\n",
    "* A. x\n",
    "* B. nothing\n",
    "* C. rescaled vector values\n"
   ]
  },
  {
   "cell_type": "markdown",
   "metadata": {
    "id": "fCgIwRmV1GT3",
    "slideshow": {
     "slide_type": "slide"
    }
   },
   "source": [
    "\n",
    "### Arguments\n",
    "\n",
    "Functions will often have multiple arguments. Some arguments have default values, others do not. All arguments without default values must be passed to a function. Arguments can be passed by name or position. For instance, \n",
    "\n",
    "\n"
   ]
  },
  {
   "cell_type": "code",
   "execution_count": 126,
   "metadata": {
    "colab": {
     "base_uri": "https://localhost:8080/",
     "height": 241
    },
    "executionInfo": {
     "elapsed": 160,
     "status": "ok",
     "timestamp": 1679153530369,
     "user": {
      "displayName": "Jayashree Ravi",
      "userId": "06933604785290521829"
     },
     "user_tz": 240
    },
    "id": "eNJoozbP1GT4",
    "outputId": "f3bce9fc-5d2a-4532-8f4b-3ce3251a2bfa",
    "slideshow": {
     "slide_type": "slide"
    }
   },
   "outputs": [],
   "source": [
    "# generate 5 numbers from a Normal(0, 1) distribution.\n",
    "w = rnorm(5, mean = 0, sd = 1)"
   ]
  },
  {
   "cell_type": "markdown",
   "metadata": {
    "id": "LIZuAcKF1GT9",
    "slideshow": {
     "slide_type": "slide"
    }
   },
   "source": [
    "Arguments passed by name need not be in order:"
   ]
  },
  {
   "cell_type": "code",
   "execution_count": 34,
   "metadata": {
    "colab": {
     "base_uri": "https://localhost:8080/",
     "height": 97
    },
    "executionInfo": {
     "elapsed": 135,
     "status": "ok",
     "timestamp": 1679151505368,
     "user": {
      "displayName": "Jayashree Ravi",
      "userId": "06933604785290521829"
     },
     "user_tz": 240
    },
    "id": "nAeMGzyS1GT-",
    "outputId": "b68e7be7-c4fa-47e7-9814-99886e8e5787"
   },
   "outputs": [
    {
     "data": {
      "text/html": [
       "<table class=\"dataframe\">\n",
       "<caption>A matrix: 2 × 5 of type dbl</caption>\n",
       "<tbody>\n",
       "\t<tr><th scope=row>u</th><td>0.2</td><td>-0.1</td><td>1.8</td><td>-1.2</td><td>-0.1</td></tr>\n",
       "\t<tr><th scope=row>w</th><td>1.7</td><td>-1.2</td><td>0.5</td><td>-1.2</td><td>-0.1</td></tr>\n",
       "</tbody>\n",
       "</table>\n"
      ],
      "text/latex": [
       "A matrix: 2 × 5 of type dbl\n",
       "\\begin{tabular}{r|lllll}\n",
       "\tu & 0.2 & -0.1 & 1.8 & -1.2 & -0.1\\\\\n",
       "\tw & 1.7 & -1.2 & 0.5 & -1.2 & -0.1\\\\\n",
       "\\end{tabular}\n"
      ],
      "text/markdown": [
       "\n",
       "A matrix: 2 × 5 of type dbl\n",
       "\n",
       "| u | 0.2 | -0.1 | 1.8 | -1.2 | -0.1 |\n",
       "| w | 1.7 | -1.2 | 0.5 | -1.2 | -0.1 |\n",
       "\n"
      ],
      "text/plain": [
       "  [,1] [,2] [,3] [,4] [,5]\n",
       "u 0.2  -0.1 1.8  -1.2 -0.1\n",
       "w 1.7  -1.2 0.5  -1.2 -0.1"
      ]
     },
     "metadata": {},
     "output_type": "display_data"
    }
   ],
   "source": [
    "w = rnorm(mean = 0, sd = 1, n = 5)\n",
    "u = rnorm(mean = 0, sd = 1, 5) # This also works but is bad style. \n",
    "round(rbind(u = u, w = w), 1)\n",
    "\n",
    "# unnamed arguments get passed to the first argument after the names arguments are assigned"
   ]
  },
  {
   "cell_type": "markdown",
   "metadata": {
    "slideshow": {
     "slide_type": "slide"
    }
   },
   "source": [
    "## Vector functions\n",
    "The first type of function we'll look at are functions that take a vector, and maybe some other options, and return a vector. We follow the book and call these \"vector functions\"."
   ]
  },
  {
   "cell_type": "markdown",
   "metadata": {
    "id": "AR9KrJnn1GUL",
    "slideshow": {
     "slide_type": "slide"
    }
   },
   "source": [
    "### $z$-score function\n",
    "\n",
    "Let us create a function to compute $z$-scores of a vector:"
   ]
  },
  {
   "cell_type": "code",
   "execution_count": 208,
   "metadata": {},
   "outputs": [],
   "source": [
    "help(mean)"
   ]
  },
  {
   "cell_type": "code",
   "execution_count": 213,
   "metadata": {
    "code_folding": [],
    "colab": {
     "base_uri": "https://localhost:8080/",
     "height": 138
    },
    "executionInfo": {
     "elapsed": 160,
     "status": "ok",
     "timestamp": 1679153884948,
     "user": {
      "displayName": "Jayashree Ravi",
      "userId": "06933604785290521829"
     },
     "user_tz": 240
    },
    "id": "qaLeKXql1GUL",
    "outputId": "2a05772f-0304-4825-bbed-a9f6743711fd"
   },
   "outputs": [
    {
     "data": {
      "text/html": [
       "<style>\n",
       ".list-inline {list-style: none; margin:0; padding: 0}\n",
       ".list-inline>li {display: inline-block}\n",
       ".list-inline>li:not(:last-child)::after {content: \"\\00b7\"; padding: 0 .5ex}\n",
       "</style>\n",
       "<ol class=list-inline><li>&lt;NA&gt;</li><li>&lt;NA&gt;</li><li>&lt;NA&gt;</li><li>&lt;NA&gt;</li><li>&lt;NA&gt;</li><li>&lt;NA&gt;</li><li>&lt;NA&gt;</li><li>&lt;NA&gt;</li><li>&lt;NA&gt;</li><li>&lt;NA&gt;</li><li>&lt;NA&gt;</li><li>&lt;NA&gt;</li><li>&lt;NA&gt;</li><li>&lt;NA&gt;</li><li>&lt;NA&gt;</li><li>&lt;NA&gt;</li><li>&lt;NA&gt;</li><li>&lt;NA&gt;</li><li>&lt;NA&gt;</li><li>&lt;NA&gt;</li><li>&lt;NA&gt;</li><li>&lt;NA&gt;</li><li>&lt;NA&gt;</li><li>&lt;NA&gt;</li><li>&lt;NA&gt;</li><li>&lt;NA&gt;</li><li>&lt;NA&gt;</li><li>&lt;NA&gt;</li><li>&lt;NA&gt;</li><li>&lt;NA&gt;</li><li>&lt;NA&gt;</li><li>&lt;NA&gt;</li><li>&lt;NA&gt;</li><li>&lt;NA&gt;</li><li>&lt;NA&gt;</li><li>&lt;NA&gt;</li><li>&lt;NA&gt;</li><li>&lt;NA&gt;</li><li>&lt;NA&gt;</li><li>&lt;NA&gt;</li><li>&lt;NA&gt;</li><li>&lt;NA&gt;</li><li>&lt;NA&gt;</li><li>&lt;NA&gt;</li><li>&lt;NA&gt;</li><li>&lt;NA&gt;</li><li>&lt;NA&gt;</li><li>&lt;NA&gt;</li><li>&lt;NA&gt;</li><li>&lt;NA&gt;</li><li>&lt;NA&gt;</li><li>&lt;NA&gt;</li><li>&lt;NA&gt;</li><li>&lt;NA&gt;</li><li>&lt;NA&gt;</li><li>&lt;NA&gt;</li><li>&lt;NA&gt;</li><li>&lt;NA&gt;</li><li>&lt;NA&gt;</li><li>&lt;NA&gt;</li><li>&lt;NA&gt;</li><li>&lt;NA&gt;</li><li>&lt;NA&gt;</li><li>&lt;NA&gt;</li><li>&lt;NA&gt;</li><li>&lt;NA&gt;</li><li>&lt;NA&gt;</li><li>&lt;NA&gt;</li><li>&lt;NA&gt;</li><li>&lt;NA&gt;</li><li>&lt;NA&gt;</li><li>&lt;NA&gt;</li><li>&lt;NA&gt;</li><li>&lt;NA&gt;</li><li>&lt;NA&gt;</li><li>&lt;NA&gt;</li><li>&lt;NA&gt;</li><li>&lt;NA&gt;</li><li>&lt;NA&gt;</li><li>&lt;NA&gt;</li><li>&lt;NA&gt;</li><li>&lt;NA&gt;</li><li>&lt;NA&gt;</li><li>&lt;NA&gt;</li><li>&lt;NA&gt;</li><li>&lt;NA&gt;</li><li>&lt;NA&gt;</li><li>&lt;NA&gt;</li><li>&lt;NA&gt;</li><li>&lt;NA&gt;</li><li>&lt;NA&gt;</li><li>&lt;NA&gt;</li><li>&lt;NA&gt;</li><li>&lt;NA&gt;</li><li>&lt;NA&gt;</li><li>&lt;NA&gt;</li><li>&lt;NA&gt;</li><li>&lt;NA&gt;</li><li>&lt;NA&gt;</li><li>&lt;NA&gt;</li><li>&lt;NA&gt;</li><li>&lt;NA&gt;</li><li>&lt;NA&gt;</li><li>&lt;NA&gt;</li><li>&lt;NA&gt;</li><li>&lt;NA&gt;</li><li>&lt;NA&gt;</li><li>&lt;NA&gt;</li><li>&lt;NA&gt;</li><li>&lt;NA&gt;</li><li>&lt;NA&gt;</li><li>&lt;NA&gt;</li><li>&lt;NA&gt;</li><li>&lt;NA&gt;</li><li>&lt;NA&gt;</li><li>&lt;NA&gt;</li><li>&lt;NA&gt;</li><li>&lt;NA&gt;</li><li>&lt;NA&gt;</li><li>&lt;NA&gt;</li><li>&lt;NA&gt;</li><li>&lt;NA&gt;</li><li>&lt;NA&gt;</li><li>&lt;NA&gt;</li><li>&lt;NA&gt;</li><li>&lt;NA&gt;</li><li>&lt;NA&gt;</li><li>&lt;NA&gt;</li><li>&lt;NA&gt;</li><li>&lt;NA&gt;</li><li>&lt;NA&gt;</li><li>&lt;NA&gt;</li><li>&lt;NA&gt;</li><li>&lt;NA&gt;</li><li>&lt;NA&gt;</li><li>&lt;NA&gt;</li><li>&lt;NA&gt;</li><li>&lt;NA&gt;</li><li>&lt;NA&gt;</li><li>&lt;NA&gt;</li><li>&lt;NA&gt;</li><li>&lt;NA&gt;</li><li>&lt;NA&gt;</li><li>&lt;NA&gt;</li><li>&lt;NA&gt;</li><li>&lt;NA&gt;</li><li>&lt;NA&gt;</li><li>&lt;NA&gt;</li><li>&lt;NA&gt;</li><li>&lt;NA&gt;</li><li>&lt;NA&gt;</li><li>&lt;NA&gt;</li><li>&lt;NA&gt;</li><li>&lt;NA&gt;</li><li>&lt;NA&gt;</li><li>&lt;NA&gt;</li><li>&lt;NA&gt;</li><li>&lt;NA&gt;</li><li>&lt;NA&gt;</li><li>&lt;NA&gt;</li><li>&lt;NA&gt;</li><li>&lt;NA&gt;</li><li>&lt;NA&gt;</li><li>&lt;NA&gt;</li><li>&lt;NA&gt;</li><li>&lt;NA&gt;</li><li>&lt;NA&gt;</li><li>&lt;NA&gt;</li><li>&lt;NA&gt;</li><li>&lt;NA&gt;</li><li>&lt;NA&gt;</li><li>&lt;NA&gt;</li><li>&lt;NA&gt;</li><li>&lt;NA&gt;</li><li>&lt;NA&gt;</li><li>&lt;NA&gt;</li><li>&lt;NA&gt;</li><li>&lt;NA&gt;</li><li>&lt;NA&gt;</li><li>&lt;NA&gt;</li><li>&lt;NA&gt;</li><li>&lt;NA&gt;</li><li>&lt;NA&gt;</li><li>&lt;NA&gt;</li><li>&lt;NA&gt;</li><li>&lt;NA&gt;</li><li>&lt;NA&gt;</li><li>&lt;NA&gt;</li><li>&lt;NA&gt;</li><li>&lt;NA&gt;</li><li>&lt;NA&gt;</li><li>&lt;NA&gt;</li><li>&lt;NA&gt;</li><li>&lt;NA&gt;</li><li>&lt;NA&gt;</li><li>&lt;NA&gt;</li><li>&lt;NA&gt;</li><li>&lt;NA&gt;</li><li>&lt;NA&gt;</li><li>&lt;NA&gt;</li><li>&lt;NA&gt;</li><li>&lt;NA&gt;</li><li>&lt;NA&gt;</li><li>&lt;NA&gt;</li><li>&lt;NA&gt;</li><li>&lt;NA&gt;</li><li>&lt;NA&gt;</li><li>&lt;NA&gt;</li><li>&lt;NA&gt;</li><li>&lt;NA&gt;</li><li>&lt;NA&gt;</li><li>&lt;NA&gt;</li><li>&lt;NA&gt;</li><li>&lt;NA&gt;</li><li>&lt;NA&gt;</li><li>&lt;NA&gt;</li><li>&lt;NA&gt;</li><li>&lt;NA&gt;</li><li>&lt;NA&gt;</li><li>&lt;NA&gt;</li><li>&lt;NA&gt;</li><li>&lt;NA&gt;</li><li>&lt;NA&gt;</li><li>&lt;NA&gt;</li><li>&lt;NA&gt;</li><li>&lt;NA&gt;</li><li>&lt;NA&gt;</li><li>&lt;NA&gt;</li><li>&lt;NA&gt;</li><li>&lt;NA&gt;</li><li>&lt;NA&gt;</li><li>&lt;NA&gt;</li><li>&lt;NA&gt;</li><li>&lt;NA&gt;</li><li>&lt;NA&gt;</li></ol>\n"
      ],
      "text/latex": [
       "\\begin{enumerate*}\n",
       "\\item <NA>\n",
       "\\item <NA>\n",
       "\\item <NA>\n",
       "\\item <NA>\n",
       "\\item <NA>\n",
       "\\item <NA>\n",
       "\\item <NA>\n",
       "\\item <NA>\n",
       "\\item <NA>\n",
       "\\item <NA>\n",
       "\\item <NA>\n",
       "\\item <NA>\n",
       "\\item <NA>\n",
       "\\item <NA>\n",
       "\\item <NA>\n",
       "\\item <NA>\n",
       "\\item <NA>\n",
       "\\item <NA>\n",
       "\\item <NA>\n",
       "\\item <NA>\n",
       "\\item <NA>\n",
       "\\item <NA>\n",
       "\\item <NA>\n",
       "\\item <NA>\n",
       "\\item <NA>\n",
       "\\item <NA>\n",
       "\\item <NA>\n",
       "\\item <NA>\n",
       "\\item <NA>\n",
       "\\item <NA>\n",
       "\\item <NA>\n",
       "\\item <NA>\n",
       "\\item <NA>\n",
       "\\item <NA>\n",
       "\\item <NA>\n",
       "\\item <NA>\n",
       "\\item <NA>\n",
       "\\item <NA>\n",
       "\\item <NA>\n",
       "\\item <NA>\n",
       "\\item <NA>\n",
       "\\item <NA>\n",
       "\\item <NA>\n",
       "\\item <NA>\n",
       "\\item <NA>\n",
       "\\item <NA>\n",
       "\\item <NA>\n",
       "\\item <NA>\n",
       "\\item <NA>\n",
       "\\item <NA>\n",
       "\\item <NA>\n",
       "\\item <NA>\n",
       "\\item <NA>\n",
       "\\item <NA>\n",
       "\\item <NA>\n",
       "\\item <NA>\n",
       "\\item <NA>\n",
       "\\item <NA>\n",
       "\\item <NA>\n",
       "\\item <NA>\n",
       "\\item <NA>\n",
       "\\item <NA>\n",
       "\\item <NA>\n",
       "\\item <NA>\n",
       "\\item <NA>\n",
       "\\item <NA>\n",
       "\\item <NA>\n",
       "\\item <NA>\n",
       "\\item <NA>\n",
       "\\item <NA>\n",
       "\\item <NA>\n",
       "\\item <NA>\n",
       "\\item <NA>\n",
       "\\item <NA>\n",
       "\\item <NA>\n",
       "\\item <NA>\n",
       "\\item <NA>\n",
       "\\item <NA>\n",
       "\\item <NA>\n",
       "\\item <NA>\n",
       "\\item <NA>\n",
       "\\item <NA>\n",
       "\\item <NA>\n",
       "\\item <NA>\n",
       "\\item <NA>\n",
       "\\item <NA>\n",
       "\\item <NA>\n",
       "\\item <NA>\n",
       "\\item <NA>\n",
       "\\item <NA>\n",
       "\\item <NA>\n",
       "\\item <NA>\n",
       "\\item <NA>\n",
       "\\item <NA>\n",
       "\\item <NA>\n",
       "\\item <NA>\n",
       "\\item <NA>\n",
       "\\item <NA>\n",
       "\\item <NA>\n",
       "\\item <NA>\n",
       "\\item <NA>\n",
       "\\item <NA>\n",
       "\\item <NA>\n",
       "\\item <NA>\n",
       "\\item <NA>\n",
       "\\item <NA>\n",
       "\\item <NA>\n",
       "\\item <NA>\n",
       "\\item <NA>\n",
       "\\item <NA>\n",
       "\\item <NA>\n",
       "\\item <NA>\n",
       "\\item <NA>\n",
       "\\item <NA>\n",
       "\\item <NA>\n",
       "\\item <NA>\n",
       "\\item <NA>\n",
       "\\item <NA>\n",
       "\\item <NA>\n",
       "\\item <NA>\n",
       "\\item <NA>\n",
       "\\item <NA>\n",
       "\\item <NA>\n",
       "\\item <NA>\n",
       "\\item <NA>\n",
       "\\item <NA>\n",
       "\\item <NA>\n",
       "\\item <NA>\n",
       "\\item <NA>\n",
       "\\item <NA>\n",
       "\\item <NA>\n",
       "\\item <NA>\n",
       "\\item <NA>\n",
       "\\item <NA>\n",
       "\\item <NA>\n",
       "\\item <NA>\n",
       "\\item <NA>\n",
       "\\item <NA>\n",
       "\\item <NA>\n",
       "\\item <NA>\n",
       "\\item <NA>\n",
       "\\item <NA>\n",
       "\\item <NA>\n",
       "\\item <NA>\n",
       "\\item <NA>\n",
       "\\item <NA>\n",
       "\\item <NA>\n",
       "\\item <NA>\n",
       "\\item <NA>\n",
       "\\item <NA>\n",
       "\\item <NA>\n",
       "\\item <NA>\n",
       "\\item <NA>\n",
       "\\item <NA>\n",
       "\\item <NA>\n",
       "\\item <NA>\n",
       "\\item <NA>\n",
       "\\item <NA>\n",
       "\\item <NA>\n",
       "\\item <NA>\n",
       "\\item <NA>\n",
       "\\item <NA>\n",
       "\\item <NA>\n",
       "\\item <NA>\n",
       "\\item <NA>\n",
       "\\item <NA>\n",
       "\\item <NA>\n",
       "\\item <NA>\n",
       "\\item <NA>\n",
       "\\item <NA>\n",
       "\\item <NA>\n",
       "\\item <NA>\n",
       "\\item <NA>\n",
       "\\item <NA>\n",
       "\\item <NA>\n",
       "\\item <NA>\n",
       "\\item <NA>\n",
       "\\item <NA>\n",
       "\\item <NA>\n",
       "\\item <NA>\n",
       "\\item <NA>\n",
       "\\item <NA>\n",
       "\\item <NA>\n",
       "\\item <NA>\n",
       "\\item <NA>\n",
       "\\item <NA>\n",
       "\\item <NA>\n",
       "\\item <NA>\n",
       "\\item <NA>\n",
       "\\item <NA>\n",
       "\\item <NA>\n",
       "\\item <NA>\n",
       "\\item <NA>\n",
       "\\item <NA>\n",
       "\\item <NA>\n",
       "\\item <NA>\n",
       "\\item <NA>\n",
       "\\item <NA>\n",
       "\\item <NA>\n",
       "\\item <NA>\n",
       "\\item <NA>\n",
       "\\item <NA>\n",
       "\\item <NA>\n",
       "\\item <NA>\n",
       "\\item <NA>\n",
       "\\item <NA>\n",
       "\\item <NA>\n",
       "\\item <NA>\n",
       "\\item <NA>\n",
       "\\item <NA>\n",
       "\\item <NA>\n",
       "\\item <NA>\n",
       "\\item <NA>\n",
       "\\item <NA>\n",
       "\\item <NA>\n",
       "\\item <NA>\n",
       "\\item <NA>\n",
       "\\item <NA>\n",
       "\\item <NA>\n",
       "\\item <NA>\n",
       "\\item <NA>\n",
       "\\item <NA>\n",
       "\\item <NA>\n",
       "\\item <NA>\n",
       "\\item <NA>\n",
       "\\item <NA>\n",
       "\\item <NA>\n",
       "\\item <NA>\n",
       "\\item <NA>\n",
       "\\item <NA>\n",
       "\\item <NA>\n",
       "\\item <NA>\n",
       "\\item <NA>\n",
       "\\item <NA>\n",
       "\\item <NA>\n",
       "\\end{enumerate*}\n"
      ],
      "text/markdown": [
       "1. &lt;NA&gt;\n",
       "2. &lt;NA&gt;\n",
       "3. &lt;NA&gt;\n",
       "4. &lt;NA&gt;\n",
       "5. &lt;NA&gt;\n",
       "6. &lt;NA&gt;\n",
       "7. &lt;NA&gt;\n",
       "8. &lt;NA&gt;\n",
       "9. &lt;NA&gt;\n",
       "10. &lt;NA&gt;\n",
       "11. &lt;NA&gt;\n",
       "12. &lt;NA&gt;\n",
       "13. &lt;NA&gt;\n",
       "14. &lt;NA&gt;\n",
       "15. &lt;NA&gt;\n",
       "16. &lt;NA&gt;\n",
       "17. &lt;NA&gt;\n",
       "18. &lt;NA&gt;\n",
       "19. &lt;NA&gt;\n",
       "20. &lt;NA&gt;\n",
       "21. &lt;NA&gt;\n",
       "22. &lt;NA&gt;\n",
       "23. &lt;NA&gt;\n",
       "24. &lt;NA&gt;\n",
       "25. &lt;NA&gt;\n",
       "26. &lt;NA&gt;\n",
       "27. &lt;NA&gt;\n",
       "28. &lt;NA&gt;\n",
       "29. &lt;NA&gt;\n",
       "30. &lt;NA&gt;\n",
       "31. &lt;NA&gt;\n",
       "32. &lt;NA&gt;\n",
       "33. &lt;NA&gt;\n",
       "34. &lt;NA&gt;\n",
       "35. &lt;NA&gt;\n",
       "36. &lt;NA&gt;\n",
       "37. &lt;NA&gt;\n",
       "38. &lt;NA&gt;\n",
       "39. &lt;NA&gt;\n",
       "40. &lt;NA&gt;\n",
       "41. &lt;NA&gt;\n",
       "42. &lt;NA&gt;\n",
       "43. &lt;NA&gt;\n",
       "44. &lt;NA&gt;\n",
       "45. &lt;NA&gt;\n",
       "46. &lt;NA&gt;\n",
       "47. &lt;NA&gt;\n",
       "48. &lt;NA&gt;\n",
       "49. &lt;NA&gt;\n",
       "50. &lt;NA&gt;\n",
       "51. &lt;NA&gt;\n",
       "52. &lt;NA&gt;\n",
       "53. &lt;NA&gt;\n",
       "54. &lt;NA&gt;\n",
       "55. &lt;NA&gt;\n",
       "56. &lt;NA&gt;\n",
       "57. &lt;NA&gt;\n",
       "58. &lt;NA&gt;\n",
       "59. &lt;NA&gt;\n",
       "60. &lt;NA&gt;\n",
       "61. &lt;NA&gt;\n",
       "62. &lt;NA&gt;\n",
       "63. &lt;NA&gt;\n",
       "64. &lt;NA&gt;\n",
       "65. &lt;NA&gt;\n",
       "66. &lt;NA&gt;\n",
       "67. &lt;NA&gt;\n",
       "68. &lt;NA&gt;\n",
       "69. &lt;NA&gt;\n",
       "70. &lt;NA&gt;\n",
       "71. &lt;NA&gt;\n",
       "72. &lt;NA&gt;\n",
       "73. &lt;NA&gt;\n",
       "74. &lt;NA&gt;\n",
       "75. &lt;NA&gt;\n",
       "76. &lt;NA&gt;\n",
       "77. &lt;NA&gt;\n",
       "78. &lt;NA&gt;\n",
       "79. &lt;NA&gt;\n",
       "80. &lt;NA&gt;\n",
       "81. &lt;NA&gt;\n",
       "82. &lt;NA&gt;\n",
       "83. &lt;NA&gt;\n",
       "84. &lt;NA&gt;\n",
       "85. &lt;NA&gt;\n",
       "86. &lt;NA&gt;\n",
       "87. &lt;NA&gt;\n",
       "88. &lt;NA&gt;\n",
       "89. &lt;NA&gt;\n",
       "90. &lt;NA&gt;\n",
       "91. &lt;NA&gt;\n",
       "92. &lt;NA&gt;\n",
       "93. &lt;NA&gt;\n",
       "94. &lt;NA&gt;\n",
       "95. &lt;NA&gt;\n",
       "96. &lt;NA&gt;\n",
       "97. &lt;NA&gt;\n",
       "98. &lt;NA&gt;\n",
       "99. &lt;NA&gt;\n",
       "100. &lt;NA&gt;\n",
       "101. &lt;NA&gt;\n",
       "102. &lt;NA&gt;\n",
       "103. &lt;NA&gt;\n",
       "104. &lt;NA&gt;\n",
       "105. &lt;NA&gt;\n",
       "106. &lt;NA&gt;\n",
       "107. &lt;NA&gt;\n",
       "108. &lt;NA&gt;\n",
       "109. &lt;NA&gt;\n",
       "110. &lt;NA&gt;\n",
       "111. &lt;NA&gt;\n",
       "112. &lt;NA&gt;\n",
       "113. &lt;NA&gt;\n",
       "114. &lt;NA&gt;\n",
       "115. &lt;NA&gt;\n",
       "116. &lt;NA&gt;\n",
       "117. &lt;NA&gt;\n",
       "118. &lt;NA&gt;\n",
       "119. &lt;NA&gt;\n",
       "120. &lt;NA&gt;\n",
       "121. &lt;NA&gt;\n",
       "122. &lt;NA&gt;\n",
       "123. &lt;NA&gt;\n",
       "124. &lt;NA&gt;\n",
       "125. &lt;NA&gt;\n",
       "126. &lt;NA&gt;\n",
       "127. &lt;NA&gt;\n",
       "128. &lt;NA&gt;\n",
       "129. &lt;NA&gt;\n",
       "130. &lt;NA&gt;\n",
       "131. &lt;NA&gt;\n",
       "132. &lt;NA&gt;\n",
       "133. &lt;NA&gt;\n",
       "134. &lt;NA&gt;\n",
       "135. &lt;NA&gt;\n",
       "136. &lt;NA&gt;\n",
       "137. &lt;NA&gt;\n",
       "138. &lt;NA&gt;\n",
       "139. &lt;NA&gt;\n",
       "140. &lt;NA&gt;\n",
       "141. &lt;NA&gt;\n",
       "142. &lt;NA&gt;\n",
       "143. &lt;NA&gt;\n",
       "144. &lt;NA&gt;\n",
       "145. &lt;NA&gt;\n",
       "146. &lt;NA&gt;\n",
       "147. &lt;NA&gt;\n",
       "148. &lt;NA&gt;\n",
       "149. &lt;NA&gt;\n",
       "150. &lt;NA&gt;\n",
       "151. &lt;NA&gt;\n",
       "152. &lt;NA&gt;\n",
       "153. &lt;NA&gt;\n",
       "154. &lt;NA&gt;\n",
       "155. &lt;NA&gt;\n",
       "156. &lt;NA&gt;\n",
       "157. &lt;NA&gt;\n",
       "158. &lt;NA&gt;\n",
       "159. &lt;NA&gt;\n",
       "160. &lt;NA&gt;\n",
       "161. &lt;NA&gt;\n",
       "162. &lt;NA&gt;\n",
       "163. &lt;NA&gt;\n",
       "164. &lt;NA&gt;\n",
       "165. &lt;NA&gt;\n",
       "166. &lt;NA&gt;\n",
       "167. &lt;NA&gt;\n",
       "168. &lt;NA&gt;\n",
       "169. &lt;NA&gt;\n",
       "170. &lt;NA&gt;\n",
       "171. &lt;NA&gt;\n",
       "172. &lt;NA&gt;\n",
       "173. &lt;NA&gt;\n",
       "174. &lt;NA&gt;\n",
       "175. &lt;NA&gt;\n",
       "176. &lt;NA&gt;\n",
       "177. &lt;NA&gt;\n",
       "178. &lt;NA&gt;\n",
       "179. &lt;NA&gt;\n",
       "180. &lt;NA&gt;\n",
       "181. &lt;NA&gt;\n",
       "182. &lt;NA&gt;\n",
       "183. &lt;NA&gt;\n",
       "184. &lt;NA&gt;\n",
       "185. &lt;NA&gt;\n",
       "186. &lt;NA&gt;\n",
       "187. &lt;NA&gt;\n",
       "188. &lt;NA&gt;\n",
       "189. &lt;NA&gt;\n",
       "190. &lt;NA&gt;\n",
       "191. &lt;NA&gt;\n",
       "192. &lt;NA&gt;\n",
       "193. &lt;NA&gt;\n",
       "194. &lt;NA&gt;\n",
       "195. &lt;NA&gt;\n",
       "196. &lt;NA&gt;\n",
       "197. &lt;NA&gt;\n",
       "198. &lt;NA&gt;\n",
       "199. &lt;NA&gt;\n",
       "200. &lt;NA&gt;\n",
       "201. &lt;NA&gt;\n",
       "202. &lt;NA&gt;\n",
       "203. &lt;NA&gt;\n",
       "204. &lt;NA&gt;\n",
       "205. &lt;NA&gt;\n",
       "206. &lt;NA&gt;\n",
       "207. &lt;NA&gt;\n",
       "208. &lt;NA&gt;\n",
       "209. &lt;NA&gt;\n",
       "210. &lt;NA&gt;\n",
       "211. &lt;NA&gt;\n",
       "212. &lt;NA&gt;\n",
       "213. &lt;NA&gt;\n",
       "214. &lt;NA&gt;\n",
       "215. &lt;NA&gt;\n",
       "216. &lt;NA&gt;\n",
       "217. &lt;NA&gt;\n",
       "218. &lt;NA&gt;\n",
       "219. &lt;NA&gt;\n",
       "220. &lt;NA&gt;\n",
       "221. &lt;NA&gt;\n",
       "222. &lt;NA&gt;\n",
       "223. &lt;NA&gt;\n",
       "224. &lt;NA&gt;\n",
       "225. &lt;NA&gt;\n",
       "226. &lt;NA&gt;\n",
       "227. &lt;NA&gt;\n",
       "228. &lt;NA&gt;\n",
       "229. &lt;NA&gt;\n",
       "230. &lt;NA&gt;\n",
       "231. &lt;NA&gt;\n",
       "232. &lt;NA&gt;\n",
       "233. &lt;NA&gt;\n",
       "234. &lt;NA&gt;\n",
       "235. &lt;NA&gt;\n",
       "\n",
       "\n"
      ],
      "text/plain": [
       "  [1] NA NA NA NA NA NA NA NA NA NA NA NA NA NA NA NA NA NA NA NA NA NA NA NA NA\n",
       " [26] NA NA NA NA NA NA NA NA NA NA NA NA NA NA NA NA NA NA NA NA NA NA NA NA NA\n",
       " [51] NA NA NA NA NA NA NA NA NA NA NA NA NA NA NA NA NA NA NA NA NA NA NA NA NA\n",
       " [76] NA NA NA NA NA NA NA NA NA NA NA NA NA NA NA NA NA NA NA NA NA NA NA NA NA\n",
       "[101] NA NA NA NA NA NA NA NA NA NA NA NA NA NA NA NA NA NA NA NA NA NA NA NA NA\n",
       "[126] NA NA NA NA NA NA NA NA NA NA NA NA NA NA NA NA NA NA NA NA NA NA NA NA NA\n",
       "[151] NA NA NA NA NA NA NA NA NA NA NA NA NA NA NA NA NA NA NA NA NA NA NA NA NA\n",
       "[176] NA NA NA NA NA NA NA NA NA NA NA NA NA NA NA NA NA NA NA NA NA NA NA NA NA\n",
       "[201] NA NA NA NA NA NA NA NA NA NA NA NA NA NA NA NA NA NA NA NA NA NA NA NA NA\n",
       "[226] NA NA NA NA NA NA NA NA NA NA"
      ]
     },
     "metadata": {},
     "output_type": "display_data"
    }
   ],
   "source": [
    "# function to compute z-scores\n",
    "z_score = function(x, na.rm = F) {\n",
    "    # (x - mean) / sd\n",
    "    return(\n",
    "        (x - mean(x, na.rm = na.rm)) / sd(x, na.rm = na.rm)\n",
    "    )\n",
    "}\n",
    "\n",
    "z_score(c(NA, mpg$cty))"
   ]
  },
  {
   "cell_type": "markdown",
   "metadata": {
    "id": "3lIvlpaL1GUM",
    "slideshow": {
     "slide_type": "notes"
    }
   },
   "source": [
    "The return statement is not strictly necessary, but can make complex functions more readable. It is good practice to avoid creating intermediate objects to store values only used once.\n",
    "\n"
   ]
  },
  {
   "cell_type": "markdown",
   "metadata": {
    "id": "mTPxbzoZ1GUQ",
    "slideshow": {
     "slide_type": "slide"
    }
   },
   "source": [
    "#### Parameters\n",
    "\n",
    "We can set default values for parameters using the construction `parameter = xx` in the function definition.\n",
    "\n",
    "\n"
   ]
  },
  {
   "cell_type": "code",
   "execution_count": 9,
   "metadata": {
    "id": "X7FzgVA21GUR",
    "slideshow": {
     "slide_type": "slide"
    }
   },
   "outputs": [],
   "source": [
    "# function to compute z-scores, while potentially remove NAs\n",
    "z_score = function(x, na.rm){\n",
    "    # complete\n",
    "}"
   ]
  },
  {
   "cell_type": "markdown",
   "metadata": {
    "slideshow": {
     "slide_type": "notes"
    }
   },
   "source": [
    "Sometimes it makes sense to set a default value for the parameter. We can do this by specifying the default afterwards:"
   ]
  },
  {
   "cell_type": "code",
   "execution_count": 12,
   "metadata": {
    "id": "637mAQHt1GUR",
    "outputId": "b07e2911-2973-4464-c1ae-e5a3522b7f9c"
   },
   "outputs": [],
   "source": [
    "# function to compute z-scores, while potentially remove NAs\n",
    "z_score = function(x, na.rm = F){\n",
    "    # complete\n",
    "}"
   ]
  },
  {
   "cell_type": "markdown",
   "metadata": {
    "slideshow": {
     "slide_type": "-"
    }
   },
   "source": [
    "Is it better to make the default `na.rm=True` or `na.rm=False`?"
   ]
  },
  {
   "cell_type": "markdown",
   "metadata": {
    "slideshow": {
     "slide_type": "slide"
    }
   },
   "source": [
    "### Coefficient of variation\n",
    "The coefficient of variation is defined as the ratio of a (numerical) variable's standard deviation to its mean."
   ]
  },
  {
   "cell_type": "code",
   "execution_count": 151,
   "metadata": {},
   "outputs": [
    {
     "data": {
      "text/html": [
       "0.252443926200284"
      ],
      "text/latex": [
       "0.252443926200284"
      ],
      "text/markdown": [
       "0.252443926200284"
      ],
      "text/plain": [
       "[1] 0.2524439"
      ]
     },
     "metadata": {},
     "output_type": "display_data"
    }
   ],
   "source": [
    "cv <- function(x) {\n",
    "    return(sd(x) / mean(x))\n",
    "}\n",
    "\n",
    "cv(mpg$cty)"
   ]
  },
  {
   "cell_type": "markdown",
   "metadata": {
    "slideshow": {
     "slide_type": "slide"
    }
   },
   "source": [
    "### How old\n",
    "Write a function that, given a vector of people's birthdays, returns a vector of how old each person is (in years):"
   ]
  },
  {
   "cell_type": "code",
   "execution_count": 159,
   "metadata": {},
   "outputs": [
    {
     "data": {
      "text/plain": [
       "Time differences in days\n",
       "[1] 14785  1275"
      ]
     },
     "metadata": {},
     "output_type": "display_data"
    }
   ],
   "source": [
    "library(lubridate)\n",
    "\n",
    "how_old <- function(birthdays) {\n",
    "    today() - birthdays\n",
    "}\n",
    "\n",
    "how_old(mdy(c(\"09/26/1982\",\"09/22/2019\")))"
   ]
  },
  {
   "cell_type": "markdown",
   "metadata": {
    "slideshow": {
     "slide_type": "slide"
    }
   },
   "source": [
    "## Summarize functions\n",
    "The preceding functions all took a vector as input, and returned a vector of the same length as output. These are appropriate for use in operations like **mutate** and **filter**, which expect a function to behave in such a way. \n",
    "\n",
    "A second type of function takes a vector and returns a single number. These are suitable for use with the **summarize** function."
   ]
  },
  {
   "cell_type": "markdown",
   "metadata": {
    "slideshow": {
     "slide_type": "slide"
    }
   },
   "source": [
    "###  Example: skewness\n",
    "The _skewness_ of a random variable is defined as $$\\mathbb{E} \\left( \\frac{X - \\mu}{\\sigma} \\right)^3.$$"
   ]
  },
  {
   "cell_type": "markdown",
   "metadata": {
    "slideshow": {
     "slide_type": "notes"
    }
   },
   "source": [
    "Let's write a function that takes a vector of numerical values and computes its skewness:"
   ]
  },
  {
   "cell_type": "code",
   "execution_count": 165,
   "metadata": {
    "slideshow": {
     "slide_type": "slide"
    }
   },
   "outputs": [
    {
     "name": "stderr",
     "output_type": "stream",
     "text": [
      "Warning message:\n",
      "“\u001b[1m\u001b[22mReturning more (or less) than 1 row per `summarise()` group was deprecated in dplyr 1.1.0.\n",
      "\u001b[36mℹ\u001b[39m Please use `reframe()` instead.\n",
      "\u001b[36mℹ\u001b[39m When switching from `summarise()` to `reframe()`, remember that `reframe()` always returns an ungrouped data frame and adjust accordingly.”\n",
      "\u001b[1m\u001b[22m`summarise()` has grouped output by 'class'. You can override using the `.groups` argument.\n"
     ]
    },
    {
     "data": {
      "text/html": [
       "<table class=\"dataframe\">\n",
       "<caption>A grouped_df: 234 × 3</caption>\n",
       "<thead>\n",
       "\t<tr><th scope=col>class</th><th scope=col>s_cty</th><th scope=col>s_hwy</th></tr>\n",
       "\t<tr><th scope=col>&lt;chr&gt;</th><th scope=col>&lt;dbl&gt;</th><th scope=col>&lt;dbl&gt;</th></tr>\n",
       "</thead>\n",
       "<tbody>\n",
       "\t<tr><td>2seater</td><td>1.00000000</td><td>1.0000000</td></tr>\n",
       "\t<tr><td>2seater</td><td>0.00000000</td><td>0.0000000</td></tr>\n",
       "\t<tr><td>2seater</td><td>1.00000000</td><td>1.0000000</td></tr>\n",
       "\t<tr><td>2seater</td><td>0.00000000</td><td>0.6666667</td></tr>\n",
       "\t<tr><td>2seater</td><td>0.00000000</td><td>0.3333333</td></tr>\n",
       "\t<tr><td>compact</td><td>0.16666667</td><td>0.2857143</td></tr>\n",
       "\t<tr><td>compact</td><td>0.33333333</td><td>0.2857143</td></tr>\n",
       "\t<tr><td>compact</td><td>0.27777778</td><td>0.3809524</td></tr>\n",
       "\t<tr><td>compact</td><td>0.33333333</td><td>0.3333333</td></tr>\n",
       "\t<tr><td>compact</td><td>0.05555556</td><td>0.1428571</td></tr>\n",
       "\t<tr><td>compact</td><td>0.16666667</td><td>0.1428571</td></tr>\n",
       "\t<tr><td>compact</td><td>0.16666667</td><td>0.1904762</td></tr>\n",
       "\t<tr><td>compact</td><td>0.16666667</td><td>0.1428571</td></tr>\n",
       "\t<tr><td>compact</td><td>0.05555556</td><td>0.0952381</td></tr>\n",
       "\t<tr><td>compact</td><td>0.27777778</td><td>0.2380952</td></tr>\n",
       "\t<tr><td>compact</td><td>0.22222222</td><td>0.1904762</td></tr>\n",
       "\t<tr><td>compact</td><td>0.00000000</td><td>0.0952381</td></tr>\n",
       "\t<tr><td>compact</td><td>0.11111111</td><td>0.0952381</td></tr>\n",
       "\t<tr><td>compact</td><td>0.11111111</td><td>0.0952381</td></tr>\n",
       "\t<tr><td>compact</td><td>0.00000000</td><td>0.0952381</td></tr>\n",
       "\t<tr><td>compact</td><td>0.33333333</td><td>0.2857143</td></tr>\n",
       "\t<tr><td>compact</td><td>0.22222222</td><td>0.1904762</td></tr>\n",
       "\t<tr><td>compact</td><td>0.27777778</td><td>0.0952381</td></tr>\n",
       "\t<tr><td>compact</td><td>0.27777778</td><td>0.1904762</td></tr>\n",
       "\t<tr><td>compact</td><td>0.22222222</td><td>0.0952381</td></tr>\n",
       "\t<tr><td>compact</td><td>0.27777778</td><td>0.1904762</td></tr>\n",
       "\t<tr><td>compact</td><td>0.33333333</td><td>0.1904762</td></tr>\n",
       "\t<tr><td>compact</td><td>0.33333333</td><td>0.2857143</td></tr>\n",
       "\t<tr><td>compact</td><td>0.33333333</td><td>0.3809524</td></tr>\n",
       "\t<tr><td>compact</td><td>0.38888889</td><td>0.3809524</td></tr>\n",
       "\t<tr><td>⋮</td><td>⋮</td><td>⋮</td></tr>\n",
       "\t<tr><td>suv</td><td>0.1818182</td><td>0.1333333</td></tr>\n",
       "\t<tr><td>suv</td><td>0.1818182</td><td>0.2000000</td></tr>\n",
       "\t<tr><td>suv</td><td>0.2727273</td><td>0.4000000</td></tr>\n",
       "\t<tr><td>suv</td><td>0.2727273</td><td>0.4000000</td></tr>\n",
       "\t<tr><td>suv</td><td>0.1818182</td><td>0.2000000</td></tr>\n",
       "\t<tr><td>suv</td><td>0.1818182</td><td>0.3333333</td></tr>\n",
       "\t<tr><td>suv</td><td>0.1818182</td><td>0.2666667</td></tr>\n",
       "\t<tr><td>suv</td><td>0.2727273</td><td>0.4000000</td></tr>\n",
       "\t<tr><td>suv</td><td>0.4545455</td><td>0.3333333</td></tr>\n",
       "\t<tr><td>suv</td><td>0.3636364</td><td>0.4666667</td></tr>\n",
       "\t<tr><td>suv</td><td>0.3636364</td><td>0.4666667</td></tr>\n",
       "\t<tr><td>suv</td><td>0.3636364</td><td>0.3333333</td></tr>\n",
       "\t<tr><td>suv</td><td>0.4545455</td><td>0.3333333</td></tr>\n",
       "\t<tr><td>suv</td><td>0.5454545</td><td>0.3333333</td></tr>\n",
       "\t<tr><td>suv</td><td>0.4545455</td><td>0.5333333</td></tr>\n",
       "\t<tr><td>suv</td><td>0.2727273</td><td>0.4000000</td></tr>\n",
       "\t<tr><td>suv</td><td>0.8181818</td><td>0.8666667</td></tr>\n",
       "\t<tr><td>suv</td><td>0.8181818</td><td>0.8000000</td></tr>\n",
       "\t<tr><td>suv</td><td>1.0000000</td><td>1.0000000</td></tr>\n",
       "\t<tr><td>suv</td><td>0.9090909</td><td>0.8666667</td></tr>\n",
       "\t<tr><td>suv</td><td>1.0000000</td><td>0.9333333</td></tr>\n",
       "\t<tr><td>suv</td><td>0.8181818</td><td>0.7333333</td></tr>\n",
       "\t<tr><td>suv</td><td>0.5454545</td><td>0.5333333</td></tr>\n",
       "\t<tr><td>suv</td><td>0.6363636</td><td>0.5333333</td></tr>\n",
       "\t<tr><td>suv</td><td>0.5454545</td><td>0.4666667</td></tr>\n",
       "\t<tr><td>suv</td><td>0.5454545</td><td>0.3333333</td></tr>\n",
       "\t<tr><td>suv</td><td>0.6363636</td><td>0.5333333</td></tr>\n",
       "\t<tr><td>suv</td><td>0.4545455</td><td>0.3333333</td></tr>\n",
       "\t<tr><td>suv</td><td>0.1818182</td><td>0.2000000</td></tr>\n",
       "\t<tr><td>suv</td><td>0.3636364</td><td>0.4000000</td></tr>\n",
       "</tbody>\n",
       "</table>\n"
      ],
      "text/latex": [
       "A grouped\\_df: 234 × 3\n",
       "\\begin{tabular}{lll}\n",
       " class & s\\_cty & s\\_hwy\\\\\n",
       " <chr> & <dbl> & <dbl>\\\\\n",
       "\\hline\n",
       "\t 2seater & 1.00000000 & 1.0000000\\\\\n",
       "\t 2seater & 0.00000000 & 0.0000000\\\\\n",
       "\t 2seater & 1.00000000 & 1.0000000\\\\\n",
       "\t 2seater & 0.00000000 & 0.6666667\\\\\n",
       "\t 2seater & 0.00000000 & 0.3333333\\\\\n",
       "\t compact & 0.16666667 & 0.2857143\\\\\n",
       "\t compact & 0.33333333 & 0.2857143\\\\\n",
       "\t compact & 0.27777778 & 0.3809524\\\\\n",
       "\t compact & 0.33333333 & 0.3333333\\\\\n",
       "\t compact & 0.05555556 & 0.1428571\\\\\n",
       "\t compact & 0.16666667 & 0.1428571\\\\\n",
       "\t compact & 0.16666667 & 0.1904762\\\\\n",
       "\t compact & 0.16666667 & 0.1428571\\\\\n",
       "\t compact & 0.05555556 & 0.0952381\\\\\n",
       "\t compact & 0.27777778 & 0.2380952\\\\\n",
       "\t compact & 0.22222222 & 0.1904762\\\\\n",
       "\t compact & 0.00000000 & 0.0952381\\\\\n",
       "\t compact & 0.11111111 & 0.0952381\\\\\n",
       "\t compact & 0.11111111 & 0.0952381\\\\\n",
       "\t compact & 0.00000000 & 0.0952381\\\\\n",
       "\t compact & 0.33333333 & 0.2857143\\\\\n",
       "\t compact & 0.22222222 & 0.1904762\\\\\n",
       "\t compact & 0.27777778 & 0.0952381\\\\\n",
       "\t compact & 0.27777778 & 0.1904762\\\\\n",
       "\t compact & 0.22222222 & 0.0952381\\\\\n",
       "\t compact & 0.27777778 & 0.1904762\\\\\n",
       "\t compact & 0.33333333 & 0.1904762\\\\\n",
       "\t compact & 0.33333333 & 0.2857143\\\\\n",
       "\t compact & 0.33333333 & 0.3809524\\\\\n",
       "\t compact & 0.38888889 & 0.3809524\\\\\n",
       "\t ⋮ & ⋮ & ⋮\\\\\n",
       "\t suv & 0.1818182 & 0.1333333\\\\\n",
       "\t suv & 0.1818182 & 0.2000000\\\\\n",
       "\t suv & 0.2727273 & 0.4000000\\\\\n",
       "\t suv & 0.2727273 & 0.4000000\\\\\n",
       "\t suv & 0.1818182 & 0.2000000\\\\\n",
       "\t suv & 0.1818182 & 0.3333333\\\\\n",
       "\t suv & 0.1818182 & 0.2666667\\\\\n",
       "\t suv & 0.2727273 & 0.4000000\\\\\n",
       "\t suv & 0.4545455 & 0.3333333\\\\\n",
       "\t suv & 0.3636364 & 0.4666667\\\\\n",
       "\t suv & 0.3636364 & 0.4666667\\\\\n",
       "\t suv & 0.3636364 & 0.3333333\\\\\n",
       "\t suv & 0.4545455 & 0.3333333\\\\\n",
       "\t suv & 0.5454545 & 0.3333333\\\\\n",
       "\t suv & 0.4545455 & 0.5333333\\\\\n",
       "\t suv & 0.2727273 & 0.4000000\\\\\n",
       "\t suv & 0.8181818 & 0.8666667\\\\\n",
       "\t suv & 0.8181818 & 0.8000000\\\\\n",
       "\t suv & 1.0000000 & 1.0000000\\\\\n",
       "\t suv & 0.9090909 & 0.8666667\\\\\n",
       "\t suv & 1.0000000 & 0.9333333\\\\\n",
       "\t suv & 0.8181818 & 0.7333333\\\\\n",
       "\t suv & 0.5454545 & 0.5333333\\\\\n",
       "\t suv & 0.6363636 & 0.5333333\\\\\n",
       "\t suv & 0.5454545 & 0.4666667\\\\\n",
       "\t suv & 0.5454545 & 0.3333333\\\\\n",
       "\t suv & 0.6363636 & 0.5333333\\\\\n",
       "\t suv & 0.4545455 & 0.3333333\\\\\n",
       "\t suv & 0.1818182 & 0.2000000\\\\\n",
       "\t suv & 0.3636364 & 0.4000000\\\\\n",
       "\\end{tabular}\n"
      ],
      "text/markdown": [
       "\n",
       "A grouped_df: 234 × 3\n",
       "\n",
       "| class &lt;chr&gt; | s_cty &lt;dbl&gt; | s_hwy &lt;dbl&gt; |\n",
       "|---|---|---|\n",
       "| 2seater | 1.00000000 | 1.0000000 |\n",
       "| 2seater | 0.00000000 | 0.0000000 |\n",
       "| 2seater | 1.00000000 | 1.0000000 |\n",
       "| 2seater | 0.00000000 | 0.6666667 |\n",
       "| 2seater | 0.00000000 | 0.3333333 |\n",
       "| compact | 0.16666667 | 0.2857143 |\n",
       "| compact | 0.33333333 | 0.2857143 |\n",
       "| compact | 0.27777778 | 0.3809524 |\n",
       "| compact | 0.33333333 | 0.3333333 |\n",
       "| compact | 0.05555556 | 0.1428571 |\n",
       "| compact | 0.16666667 | 0.1428571 |\n",
       "| compact | 0.16666667 | 0.1904762 |\n",
       "| compact | 0.16666667 | 0.1428571 |\n",
       "| compact | 0.05555556 | 0.0952381 |\n",
       "| compact | 0.27777778 | 0.2380952 |\n",
       "| compact | 0.22222222 | 0.1904762 |\n",
       "| compact | 0.00000000 | 0.0952381 |\n",
       "| compact | 0.11111111 | 0.0952381 |\n",
       "| compact | 0.11111111 | 0.0952381 |\n",
       "| compact | 0.00000000 | 0.0952381 |\n",
       "| compact | 0.33333333 | 0.2857143 |\n",
       "| compact | 0.22222222 | 0.1904762 |\n",
       "| compact | 0.27777778 | 0.0952381 |\n",
       "| compact | 0.27777778 | 0.1904762 |\n",
       "| compact | 0.22222222 | 0.0952381 |\n",
       "| compact | 0.27777778 | 0.1904762 |\n",
       "| compact | 0.33333333 | 0.1904762 |\n",
       "| compact | 0.33333333 | 0.2857143 |\n",
       "| compact | 0.33333333 | 0.3809524 |\n",
       "| compact | 0.38888889 | 0.3809524 |\n",
       "| ⋮ | ⋮ | ⋮ |\n",
       "| suv | 0.1818182 | 0.1333333 |\n",
       "| suv | 0.1818182 | 0.2000000 |\n",
       "| suv | 0.2727273 | 0.4000000 |\n",
       "| suv | 0.2727273 | 0.4000000 |\n",
       "| suv | 0.1818182 | 0.2000000 |\n",
       "| suv | 0.1818182 | 0.3333333 |\n",
       "| suv | 0.1818182 | 0.2666667 |\n",
       "| suv | 0.2727273 | 0.4000000 |\n",
       "| suv | 0.4545455 | 0.3333333 |\n",
       "| suv | 0.3636364 | 0.4666667 |\n",
       "| suv | 0.3636364 | 0.4666667 |\n",
       "| suv | 0.3636364 | 0.3333333 |\n",
       "| suv | 0.4545455 | 0.3333333 |\n",
       "| suv | 0.5454545 | 0.3333333 |\n",
       "| suv | 0.4545455 | 0.5333333 |\n",
       "| suv | 0.2727273 | 0.4000000 |\n",
       "| suv | 0.8181818 | 0.8666667 |\n",
       "| suv | 0.8181818 | 0.8000000 |\n",
       "| suv | 1.0000000 | 1.0000000 |\n",
       "| suv | 0.9090909 | 0.8666667 |\n",
       "| suv | 1.0000000 | 0.9333333 |\n",
       "| suv | 0.8181818 | 0.7333333 |\n",
       "| suv | 0.5454545 | 0.5333333 |\n",
       "| suv | 0.6363636 | 0.5333333 |\n",
       "| suv | 0.5454545 | 0.4666667 |\n",
       "| suv | 0.5454545 | 0.3333333 |\n",
       "| suv | 0.6363636 | 0.5333333 |\n",
       "| suv | 0.4545455 | 0.3333333 |\n",
       "| suv | 0.1818182 | 0.2000000 |\n",
       "| suv | 0.3636364 | 0.4000000 |\n",
       "\n"
      ],
      "text/plain": [
       "    class   s_cty      s_hwy    \n",
       "1   2seater 1.00000000 1.0000000\n",
       "2   2seater 0.00000000 0.0000000\n",
       "3   2seater 1.00000000 1.0000000\n",
       "4   2seater 0.00000000 0.6666667\n",
       "5   2seater 0.00000000 0.3333333\n",
       "6   compact 0.16666667 0.2857143\n",
       "7   compact 0.33333333 0.2857143\n",
       "8   compact 0.27777778 0.3809524\n",
       "9   compact 0.33333333 0.3333333\n",
       "10  compact 0.05555556 0.1428571\n",
       "11  compact 0.16666667 0.1428571\n",
       "12  compact 0.16666667 0.1904762\n",
       "13  compact 0.16666667 0.1428571\n",
       "14  compact 0.05555556 0.0952381\n",
       "15  compact 0.27777778 0.2380952\n",
       "16  compact 0.22222222 0.1904762\n",
       "17  compact 0.00000000 0.0952381\n",
       "18  compact 0.11111111 0.0952381\n",
       "19  compact 0.11111111 0.0952381\n",
       "20  compact 0.00000000 0.0952381\n",
       "21  compact 0.33333333 0.2857143\n",
       "22  compact 0.22222222 0.1904762\n",
       "23  compact 0.27777778 0.0952381\n",
       "24  compact 0.27777778 0.1904762\n",
       "25  compact 0.22222222 0.0952381\n",
       "26  compact 0.27777778 0.1904762\n",
       "27  compact 0.33333333 0.1904762\n",
       "28  compact 0.33333333 0.2857143\n",
       "29  compact 0.33333333 0.3809524\n",
       "30  compact 0.38888889 0.3809524\n",
       "⋮   ⋮       ⋮          ⋮        \n",
       "205 suv     0.1818182  0.1333333\n",
       "206 suv     0.1818182  0.2000000\n",
       "207 suv     0.2727273  0.4000000\n",
       "208 suv     0.2727273  0.4000000\n",
       "209 suv     0.1818182  0.2000000\n",
       "210 suv     0.1818182  0.3333333\n",
       "211 suv     0.1818182  0.2666667\n",
       "212 suv     0.2727273  0.4000000\n",
       "213 suv     0.4545455  0.3333333\n",
       "214 suv     0.3636364  0.4666667\n",
       "215 suv     0.3636364  0.4666667\n",
       "216 suv     0.3636364  0.3333333\n",
       "217 suv     0.4545455  0.3333333\n",
       "218 suv     0.5454545  0.3333333\n",
       "219 suv     0.4545455  0.5333333\n",
       "220 suv     0.2727273  0.4000000\n",
       "221 suv     0.8181818  0.8666667\n",
       "222 suv     0.8181818  0.8000000\n",
       "223 suv     1.0000000  1.0000000\n",
       "224 suv     0.9090909  0.8666667\n",
       "225 suv     1.0000000  0.9333333\n",
       "226 suv     0.8181818  0.7333333\n",
       "227 suv     0.5454545  0.5333333\n",
       "228 suv     0.6363636  0.5333333\n",
       "229 suv     0.5454545  0.4666667\n",
       "230 suv     0.5454545  0.3333333\n",
       "231 suv     0.6363636  0.5333333\n",
       "232 suv     0.4545455  0.3333333\n",
       "233 suv     0.1818182  0.2000000\n",
       "234 suv     0.3636364  0.4000000"
      ]
     },
     "metadata": {},
     "output_type": "display_data"
    }
   ],
   "source": [
    "skewness <- function(x) {\n",
    "    mean((x - mean(x) / sd(x))^3)\n",
    "}\n",
    "\n",
    "mpg %>% group_by(class) %>% summarize(s_cty = rescale01(cty), s_hwy = rescale01(hwy))"
   ]
  },
  {
   "cell_type": "markdown",
   "metadata": {
    "slideshow": {
     "slide_type": "notes"
    }
   },
   "source": [
    "Now let's use this function in a summary."
   ]
  },
  {
   "cell_type": "code",
   "execution_count": 50,
   "metadata": {
    "slideshow": {
     "slide_type": "slide"
    }
   },
   "outputs": [],
   "source": [
    "# skewness inside of summary"
   ]
  },
  {
   "cell_type": "markdown",
   "metadata": {
    "id": "5TFrrXCAcnDe",
    "slideshow": {
     "slide_type": "slide"
    }
   },
   "source": [
    "## Dataframe functions\n",
    "\n",
    "The second class of functions we'll look at take a _dataframe_ as input, and also return a _dataframe_. We have already seen many examples of this type of function:\n",
    "- mutate\n",
    "- filter\n",
    "- summarize\n",
    "- arrange\n",
    "- select\n",
    "\n",
    "\n",
    "A case of a problem of `indirection`, as `dplyr` uses `tidy evaluation` to allow you to refer to the names of variables inside your data frame without any special treatment."
   ]
  },
  {
   "cell_type": "markdown",
   "metadata": {
    "slideshow": {
     "slide_type": "slide"
    }
   },
   "source": [
    "Let's consider writing a function called \"grouped_mean\" that takes a data frame, a grouping variable, and a mean variable, and summarizes it. We might think to write it like this:"
   ]
  },
  {
   "cell_type": "code",
   "execution_count": 169,
   "metadata": {
    "colab": {
     "base_uri": "https://localhost:8080/",
     "height": 270
    },
    "executionInfo": {
     "elapsed": 125,
     "status": "error",
     "timestamp": 1679155568084,
     "user": {
      "displayName": "Jayashree Ravi",
      "userId": "06933604785290521829"
     },
     "user_tz": 240
    },
    "id": "7wSvTLhXc1BY",
    "outputId": "00a4bff2-a6ea-4871-c60c-f36eceaa80cf"
   },
   "outputs": [
    {
     "ename": "ERROR",
     "evalue": "\u001b[1m\u001b[33mError\u001b[39m in `group_by()`:\u001b[22m\n\u001b[1m\u001b[22m\u001b[33m!\u001b[39m Must group by variables found in `.data`.\n\u001b[31m✖\u001b[39m Column `group_var` is not found.\n",
     "output_type": "error",
     "traceback": [
      "\u001b[1m\u001b[33mError\u001b[39m in `group_by()`:\u001b[22m\n\u001b[1m\u001b[22m\u001b[33m!\u001b[39m Must group by variables found in `.data`.\n\u001b[31m✖\u001b[39m Column `group_var` is not found.\nTraceback:\n",
      "1. mpg %>% grouped_mean(class, hwy)",
      "2. grouped_mean(., class, hwy)",
      "3. df %>% group_by(group_var) %>% summarize(mean(mean_var))   # at line 2-4 of file <text>",
      "4. summarize(., mean(mean_var))",
      "5. group_by(., group_var)",
      "6. group_by.data.frame(., group_var)",
      "7. group_by_prepare(.data, ..., .add = .add, error_call = current_env())",
      "8. abort(bullets, call = error_call)",
      "9. signal_abort(cnd, .file)"
     ]
    }
   ],
   "source": [
    "grouped_mean <- function(df, group_var, mean_var) {\n",
    "  df %>%\n",
    "    group_by(group_var) %>% \n",
    "    summarize(mean(mean_var))\n",
    "}\n",
    "\n",
    "mpg %>% grouped_mean(class, hwy)\n"
   ]
  },
  {
   "cell_type": "markdown",
   "metadata": {
    "slideshow": {
     "slide_type": "slide"
    }
   },
   "source": [
    "However, this won't quite work:"
   ]
  },
  {
   "cell_type": "code",
   "execution_count": 170,
   "metadata": {},
   "outputs": [
    {
     "ename": "ERROR",
     "evalue": "\u001b[1m\u001b[33mError\u001b[39m in `group_by()`:\u001b[22m\n\u001b[1m\u001b[22m\u001b[33m!\u001b[39m Must group by variables found in `.data`.\n\u001b[31m✖\u001b[39m Column `group_var` is not found.\n",
     "output_type": "error",
     "traceback": [
      "\u001b[1m\u001b[33mError\u001b[39m in `group_by()`:\u001b[22m\n\u001b[1m\u001b[22m\u001b[33m!\u001b[39m Must group by variables found in `.data`.\n\u001b[31m✖\u001b[39m Column `group_var` is not found.\nTraceback:\n",
      "1. grouped_mean(mpg, model, hwy)",
      "2. df %>% group_by(group_var) %>% summarize(mean(mean_var))   # at line 2-4 of file <text>",
      "3. summarize(., mean(mean_var))",
      "4. group_by(., group_var)",
      "5. group_by.data.frame(., group_var)",
      "6. group_by_prepare(.data, ..., .add = .add, error_call = current_env())",
      "7. abort(bullets, call = error_call)",
      "8. signal_abort(cnd, .file)"
     ]
    }
   ],
   "source": [
    "grouped_mean(mpg, model, hwy)"
   ]
  },
  {
   "cell_type": "markdown",
   "metadata": {
    "id": "e-HInchNexcy",
    "slideshow": {
     "slide_type": "slide"
    }
   },
   "source": [
    "### Embracing `{{ }}`\n",
    "The reason why this doesn't work is that R does not understand that `model` and `hwy` are columns inside of `mpg`. (This is the way most computer languages work.) To fix this, R has a very special syntax for indicating that certain arguments to the function are columns inside of a data frame:\n"
   ]
  },
  {
   "cell_type": "code",
   "execution_count": 173,
   "metadata": {
    "colab": {
     "base_uri": "https://localhost:8080/",
     "height": 286
    },
    "executionInfo": {
     "elapsed": 7,
     "status": "ok",
     "timestamp": 1679156128828,
     "user": {
      "displayName": "Jayashree Ravi",
      "userId": "06933604785290521829"
     },
     "user_tz": 240
    },
    "id": "2lvE6L_adDSS",
    "outputId": "0325dbc0-a6b9-40c1-a2ad-8b19398e9aaf"
   },
   "outputs": [
    {
     "data": {
      "text/html": [
       "<table class=\"dataframe\">\n",
       "<caption>A tibble: 6 × 2</caption>\n",
       "<thead>\n",
       "\t<tr><th scope=col>model</th><th scope=col>mean(hwy)</th></tr>\n",
       "\t<tr><th scope=col>&lt;chr&gt;</th><th scope=col>&lt;dbl&gt;</th></tr>\n",
       "</thead>\n",
       "<tbody>\n",
       "\t<tr><td>4runner 4wd       </td><td>18.83333</td></tr>\n",
       "\t<tr><td>a4                </td><td>28.28571</td></tr>\n",
       "\t<tr><td>a4 quattro        </td><td>25.75000</td></tr>\n",
       "\t<tr><td>a6 quattro        </td><td>24.00000</td></tr>\n",
       "\t<tr><td>altima            </td><td>28.66667</td></tr>\n",
       "\t<tr><td>c1500 suburban 2wd</td><td>17.80000</td></tr>\n",
       "</tbody>\n",
       "</table>\n"
      ],
      "text/latex": [
       "A tibble: 6 × 2\n",
       "\\begin{tabular}{ll}\n",
       " model & mean(hwy)\\\\\n",
       " <chr> & <dbl>\\\\\n",
       "\\hline\n",
       "\t 4runner 4wd        & 18.83333\\\\\n",
       "\t a4                 & 28.28571\\\\\n",
       "\t a4 quattro         & 25.75000\\\\\n",
       "\t a6 quattro         & 24.00000\\\\\n",
       "\t altima             & 28.66667\\\\\n",
       "\t c1500 suburban 2wd & 17.80000\\\\\n",
       "\\end{tabular}\n"
      ],
      "text/markdown": [
       "\n",
       "A tibble: 6 × 2\n",
       "\n",
       "| model &lt;chr&gt; | mean(hwy) &lt;dbl&gt; |\n",
       "|---|---|\n",
       "| 4runner 4wd        | 18.83333 |\n",
       "| a4                 | 28.28571 |\n",
       "| a4 quattro         | 25.75000 |\n",
       "| a6 quattro         | 24.00000 |\n",
       "| altima             | 28.66667 |\n",
       "| c1500 suburban 2wd | 17.80000 |\n",
       "\n"
      ],
      "text/plain": [
       "  model              mean(hwy)\n",
       "1 4runner 4wd        18.83333 \n",
       "2 a4                 28.28571 \n",
       "3 a4 quattro         25.75000 \n",
       "4 a6 quattro         24.00000 \n",
       "5 altima             28.66667 \n",
       "6 c1500 suburban 2wd 17.80000 "
      ]
     },
     "metadata": {},
     "output_type": "display_data"
    }
   ],
   "source": [
    "grouped_mean <- function(df, group_var, mean_var) {\n",
    "  df %>%\n",
    "    group_by({{ group_var }}) %>% \n",
    "    summarize(mean({{ mean_var }}))\n",
    "}\n",
    "mpg %>% grouped_mean(model, hwy) %>% head"
   ]
  },
  {
   "cell_type": "markdown",
   "metadata": {
    "slideshow": {
     "slide_type": "notes"
    }
   },
   "source": [
    "This is called _embracing_ in the book."
   ]
  },
  {
   "cell_type": "markdown",
   "metadata": {
    "slideshow": {
     "slide_type": "slide"
    }
   },
   "source": [
    "Now let's try a simple modification of our `grouped_mean` function, that allows use to group over _multiple_ variables:"
   ]
  },
  {
   "cell_type": "code",
   "execution_count": 178,
   "metadata": {},
   "outputs": [
    {
     "name": "stderr",
     "output_type": "stream",
     "text": [
      "\u001b[1m\u001b[22m`summarise()` has grouped output by 'model', 'displ', 'year', 'cyl', 'trans', 'drv', 'cty', 'hwy', 'fl'. You can override using the `.groups` argument.\n"
     ]
    },
    {
     "data": {
      "text/html": [
       "<table class=\"dataframe\">\n",
       "<caption>A grouped_df: 6 × 11</caption>\n",
       "<thead>\n",
       "\t<tr><th scope=col>model</th><th scope=col>displ</th><th scope=col>year</th><th scope=col>cyl</th><th scope=col>trans</th><th scope=col>drv</th><th scope=col>cty</th><th scope=col>hwy</th><th scope=col>fl</th><th scope=col>class</th><th scope=col>mean(hwy)</th></tr>\n",
       "\t<tr><th scope=col>&lt;chr&gt;</th><th scope=col>&lt;dbl&gt;</th><th scope=col>&lt;int&gt;</th><th scope=col>&lt;int&gt;</th><th scope=col>&lt;chr&gt;</th><th scope=col>&lt;chr&gt;</th><th scope=col>&lt;int&gt;</th><th scope=col>&lt;int&gt;</th><th scope=col>&lt;chr&gt;</th><th scope=col>&lt;chr&gt;</th><th scope=col>&lt;dbl&gt;</th></tr>\n",
       "</thead>\n",
       "<tbody>\n",
       "\t<tr><td>4runner 4wd</td><td>2.7</td><td>1999</td><td>4</td><td>auto(l4)  </td><td>4</td><td>16</td><td>20</td><td>r</td><td>suv</td><td>20</td></tr>\n",
       "\t<tr><td>4runner 4wd</td><td>2.7</td><td>1999</td><td>4</td><td>manual(m5)</td><td>4</td><td>15</td><td>20</td><td>r</td><td>suv</td><td>20</td></tr>\n",
       "\t<tr><td>4runner 4wd</td><td>3.4</td><td>1999</td><td>6</td><td>auto(l4)  </td><td>4</td><td>15</td><td>19</td><td>r</td><td>suv</td><td>19</td></tr>\n",
       "\t<tr><td>4runner 4wd</td><td>3.4</td><td>1999</td><td>6</td><td>manual(m5)</td><td>4</td><td>15</td><td>17</td><td>r</td><td>suv</td><td>17</td></tr>\n",
       "\t<tr><td>4runner 4wd</td><td>4.0</td><td>2008</td><td>6</td><td>auto(l5)  </td><td>4</td><td>16</td><td>20</td><td>r</td><td>suv</td><td>20</td></tr>\n",
       "\t<tr><td>4runner 4wd</td><td>4.7</td><td>2008</td><td>8</td><td>auto(l5)  </td><td>4</td><td>14</td><td>17</td><td>r</td><td>suv</td><td>17</td></tr>\n",
       "</tbody>\n",
       "</table>\n"
      ],
      "text/latex": [
       "A grouped\\_df: 6 × 11\n",
       "\\begin{tabular}{lllllllllll}\n",
       " model & displ & year & cyl & trans & drv & cty & hwy & fl & class & mean(hwy)\\\\\n",
       " <chr> & <dbl> & <int> & <int> & <chr> & <chr> & <int> & <int> & <chr> & <chr> & <dbl>\\\\\n",
       "\\hline\n",
       "\t 4runner 4wd & 2.7 & 1999 & 4 & auto(l4)   & 4 & 16 & 20 & r & suv & 20\\\\\n",
       "\t 4runner 4wd & 2.7 & 1999 & 4 & manual(m5) & 4 & 15 & 20 & r & suv & 20\\\\\n",
       "\t 4runner 4wd & 3.4 & 1999 & 6 & auto(l4)   & 4 & 15 & 19 & r & suv & 19\\\\\n",
       "\t 4runner 4wd & 3.4 & 1999 & 6 & manual(m5) & 4 & 15 & 17 & r & suv & 17\\\\\n",
       "\t 4runner 4wd & 4.0 & 2008 & 6 & auto(l5)   & 4 & 16 & 20 & r & suv & 20\\\\\n",
       "\t 4runner 4wd & 4.7 & 2008 & 8 & auto(l5)   & 4 & 14 & 17 & r & suv & 17\\\\\n",
       "\\end{tabular}\n"
      ],
      "text/markdown": [
       "\n",
       "A grouped_df: 6 × 11\n",
       "\n",
       "| model &lt;chr&gt; | displ &lt;dbl&gt; | year &lt;int&gt; | cyl &lt;int&gt; | trans &lt;chr&gt; | drv &lt;chr&gt; | cty &lt;int&gt; | hwy &lt;int&gt; | fl &lt;chr&gt; | class &lt;chr&gt; | mean(hwy) &lt;dbl&gt; |\n",
       "|---|---|---|---|---|---|---|---|---|---|---|\n",
       "| 4runner 4wd | 2.7 | 1999 | 4 | auto(l4)   | 4 | 16 | 20 | r | suv | 20 |\n",
       "| 4runner 4wd | 2.7 | 1999 | 4 | manual(m5) | 4 | 15 | 20 | r | suv | 20 |\n",
       "| 4runner 4wd | 3.4 | 1999 | 6 | auto(l4)   | 4 | 15 | 19 | r | suv | 19 |\n",
       "| 4runner 4wd | 3.4 | 1999 | 6 | manual(m5) | 4 | 15 | 17 | r | suv | 17 |\n",
       "| 4runner 4wd | 4.0 | 2008 | 6 | auto(l5)   | 4 | 16 | 20 | r | suv | 20 |\n",
       "| 4runner 4wd | 4.7 | 2008 | 8 | auto(l5)   | 4 | 14 | 17 | r | suv | 17 |\n",
       "\n"
      ],
      "text/plain": [
       "  model       displ year cyl trans      drv cty hwy fl class mean(hwy)\n",
       "1 4runner 4wd 2.7   1999 4   auto(l4)   4   16  20  r  suv   20       \n",
       "2 4runner 4wd 2.7   1999 4   manual(m5) 4   15  20  r  suv   20       \n",
       "3 4runner 4wd 3.4   1999 6   auto(l4)   4   15  19  r  suv   19       \n",
       "4 4runner 4wd 3.4   1999 6   manual(m5) 4   15  17  r  suv   17       \n",
       "5 4runner 4wd 4.0   2008 6   auto(l5)   4   16  20  r  suv   20       \n",
       "6 4runner 4wd 4.7   2008 8   auto(l5)   4   14  17  r  suv   17       "
      ]
     },
     "metadata": {},
     "output_type": "display_data"
    }
   ],
   "source": [
    "grouped_mean <- function(df, group_vars, mean_var) {\n",
    "  df %>%\n",
    "    group_by(pick({{ group_vars }})) %>% \n",
    "    summarize(mean({{ mean_var }}))\n",
    "}\n",
    "mpg %>% grouped_mean(model:class, hwy) %>% head"
   ]
  },
  {
   "cell_type": "markdown",
   "metadata": {
    "id": "eaaqoymmgTe2",
    "slideshow": {
     "slide_type": "notes"
    }
   },
   "source": [
    "Why did we get this error? It turns out there are two forms of \"embracing\":\n",
    "\n",
    "* Data-masking: this is used in functions like arrange(), filter(), and summarize() that compute with variables.\n",
    "\n",
    "* Tidy-selection: this is used for functions like select(), relocate(), and rename() that select variables.\n",
    "\n",
    "You can tell which functions take which by looking at the help file. But generally, your intuition is correct: functions that do computations on columns of data are \"data-masking\"; functions that select columns are \"tidy-selection\"."
   ]
  },
  {
   "cell_type": "markdown",
   "metadata": {
    "id": "gclOUru_tZRC",
    "slideshow": {
     "slide_type": "notes"
    }
   },
   "source": [
    "To fix our `grouped_mean` function, we'll use the `pick()` function, which lets you use tidy-selection inside data-masking functions:"
   ]
  },
  {
   "cell_type": "code",
   "execution_count": 59,
   "metadata": {
    "colab": {
     "base_uri": "https://localhost:8080/",
     "height": 286
    },
    "executionInfo": {
     "elapsed": 7,
     "status": "ok",
     "timestamp": 1679159535255,
     "user": {
      "displayName": "Jayashree Ravi",
      "userId": "06933604785290521829"
     },
     "user_tz": 240
    },
    "id": "LjMSX_YrskNs",
    "outputId": "550a24bc-3bb6-4ce5-bfd6-ed3297888e59",
    "slideshow": {
     "slide_type": "slide"
    }
   },
   "outputs": [
    {
     "name": "stderr",
     "output_type": "stream",
     "text": [
      "\u001b[1m\u001b[22m`summarise()` has grouped output by 'model'. You can override using the `.groups` argument.\n"
     ]
    },
    {
     "data": {
      "text/html": [
       "<table class=\"dataframe\">\n",
       "<caption>A grouped_df: 6 × 3</caption>\n",
       "<thead>\n",
       "\t<tr><th scope=col>model</th><th scope=col>class</th><th scope=col>mean(hwy)</th></tr>\n",
       "\t<tr><th scope=col>&lt;chr&gt;</th><th scope=col>&lt;chr&gt;</th><th scope=col>&lt;dbl&gt;</th></tr>\n",
       "</thead>\n",
       "<tbody>\n",
       "\t<tr><td>4runner 4wd</td><td>suv    </td><td>18.83333</td></tr>\n",
       "\t<tr><td>a4         </td><td>compact</td><td>28.28571</td></tr>\n",
       "\t<tr><td>a4 quattro </td><td>compact</td><td>25.75000</td></tr>\n",
       "\t<tr><td>a6 quattro </td><td>midsize</td><td>24.00000</td></tr>\n",
       "\t<tr><td>altima     </td><td>compact</td><td>28.00000</td></tr>\n",
       "\t<tr><td>altima     </td><td>midsize</td><td>29.00000</td></tr>\n",
       "</tbody>\n",
       "</table>\n"
      ],
      "text/latex": [
       "A grouped\\_df: 6 × 3\n",
       "\\begin{tabular}{lll}\n",
       " model & class & mean(hwy)\\\\\n",
       " <chr> & <chr> & <dbl>\\\\\n",
       "\\hline\n",
       "\t 4runner 4wd & suv     & 18.83333\\\\\n",
       "\t a4          & compact & 28.28571\\\\\n",
       "\t a4 quattro  & compact & 25.75000\\\\\n",
       "\t a6 quattro  & midsize & 24.00000\\\\\n",
       "\t altima      & compact & 28.00000\\\\\n",
       "\t altima      & midsize & 29.00000\\\\\n",
       "\\end{tabular}\n"
      ],
      "text/markdown": [
       "\n",
       "A grouped_df: 6 × 3\n",
       "\n",
       "| model &lt;chr&gt; | class &lt;chr&gt; | mean(hwy) &lt;dbl&gt; |\n",
       "|---|---|---|\n",
       "| 4runner 4wd | suv     | 18.83333 |\n",
       "| a4          | compact | 28.28571 |\n",
       "| a4 quattro  | compact | 25.75000 |\n",
       "| a6 quattro  | midsize | 24.00000 |\n",
       "| altima      | compact | 28.00000 |\n",
       "| altima      | midsize | 29.00000 |\n",
       "\n"
      ],
      "text/plain": [
       "  model       class   mean(hwy)\n",
       "1 4runner 4wd suv     18.83333 \n",
       "2 a4          compact 28.28571 \n",
       "3 a4 quattro  compact 25.75000 \n",
       "4 a6 quattro  midsize 24.00000 \n",
       "5 altima      compact 28.00000 \n",
       "6 altima      midsize 29.00000 "
      ]
     },
     "metadata": {},
     "output_type": "display_data"
    }
   ],
   "source": [
    "grouped_mean <- function(df, group_vars, mean_var) {\n",
    "    # grouped_mean using pick\n",
    "}\n",
    "\n",
    "grouped_mean(mpg, c(model, class), hwy) %>% head"
   ]
  },
  {
   "cell_type": "markdown",
   "metadata": {
    "slideshow": {
     "slide_type": "slide"
    }
   },
   "source": [
    "## Abstraction\n",
    "\n",
    "The main reason to use functions is abstraction: they enable us to break down complex problems into smaller pieces, that we can then reason about individually. "
   ]
  },
  {
   "cell_type": "markdown",
   "metadata": {
    "slideshow": {
     "slide_type": "slide"
    }
   },
   "source": [
    "![example of a stack trace](http://2.bp.blogspot.com/-9nBb0CvqBIg/T2UKV06nD5I/AAAAAAAAAkQ/Pl2Hfj5HUlY/s1600/short-stack.png)"
   ]
  },
  {
   "cell_type": "markdown",
   "metadata": {
    "slideshow": {
     "slide_type": "slide"
    }
   },
   "source": [
    "Let's try this principle out on a problem from last ~night's~week's homework:\n",
    "\n",
    "    Consider the Harry Potter series as a collection of    \n",
    "    documents(books), find top 5 words in each book ranked\n",
    "    by TF-IDF. Comment on your finding. (1 point)"
   ]
  },
  {
   "cell_type": "markdown",
   "metadata": {
    "slideshow": {
     "slide_type": "slide"
    }
   },
   "source": [
    "A possible solution:\n",
    "<pre style=\"font-size: 6px; line-height: 1\">\n",
    "phil_words<-tibble(text=philosophers_stone)%>%\n",
    "  unnest_tokens(input=text, output=word)%>%mutate(book=1)\n",
    "chamber_words<-tibble(text=chamber_of_secrets)%>%\n",
    "  unnest_tokens(input=text, output=word)%>%mutate(book=2)\n",
    "prisoner_words<-tibble(text=prisoner_of_azkaban)%>%\n",
    "  unnest_tokens(input=text, output=word)%>%mutate(book=3)\n",
    "goblet_words<-tibble(text=goblet_of_fire)%>%\n",
    "  unnest_tokens(input=text, output=word)%>%mutate(book=4)\n",
    "phoenix_words<-tibble(text=order_of_the_phoenix)%>%\n",
    "  unnest_tokens(input=text, output=word)%>%mutate(book=5)\n",
    "prince_words<-tibble(text=half_blood_prince)%>%\n",
    "  unnest_tokens(input=text, output=word)%>%mutate(book=6)\n",
    "hallows_words<-tibble(text=deathly_hallows)%>%\n",
    "  unnest_tokens(input=text, output=word)%>%mutate(book=7)\n",
    "\n",
    "wordlist<-phil_words%>%bind_rows(chamber_words,prisoner_words,goblet_words,phoenix_words,prince_words,hallows_words)%>%\n",
    "  group_by(word)%>%\n",
    "  summarize(k=n_distinct(book))\n",
    "\n",
    "phil_tbl<-phil_words%>%left_join(wordlist)%>%\n",
    "  group_by(word,k)%>%\n",
    "  count()%>%\n",
    "  mutate(IDF=1+log(7/k),TF=log(1+n))%>%\n",
    "  mutate(TF_IDF=TF*IDF)%>%\n",
    "  ungroup%>%\n",
    "  arrange(desc(TF_IDF))\n",
    "\n",
    "chamber_tbl<-chamber_words%>%left_join(wordlist)%>%\n",
    "  group_by(word,k)%>%\n",
    "  count()%>%\n",
    "  mutate(IDF=1+log(7/k),TF=log(1+n))%>%\n",
    "  mutate(TF_IDF=TF*IDF)%>%\n",
    "  ungroup%>%\n",
    "  arrange(desc(TF_IDF))\n",
    "\n",
    "prisoner_tbl<-prisoner_words%>%left_join(wordlist)%>%\n",
    "  group_by(word,k)%>%\n",
    "  count()%>%\n",
    "  mutate(IDF=1+log(7/k),TF=log(1+n))%>%\n",
    "  mutate(TF_IDF=TF*IDF)%>%\n",
    "  ungroup%>%\n",
    "  arrange(desc(TF_IDF))\n",
    "\n",
    "goblet_tbl<-goblet_words%>%left_join(wordlist)%>%\n",
    "  group_by(word,k)%>%\n",
    "  count()%>%\n",
    "  mutate(IDF=1+log(7/k),TF=log(1+n))%>%\n",
    "  mutate(TF_IDF=TF*IDF)%>%\n",
    "  ungroup%>%\n",
    "  arrange(desc(TF_IDF))\n",
    "\n",
    "phoenix_tbl<-phoenix_words%>%left_join(wordlist)%>%\n",
    "  group_by(word,k)%>%\n",
    "  count()%>%\n",
    "  mutate(IDF=1+log(7/k),TF=log(1+n))%>%\n",
    "  mutate(TF_IDF=TF*IDF)%>%\n",
    "  ungroup%>%\n",
    "  arrange(desc(TF_IDF))\n",
    "\n",
    "prince_tbl<-prince_words%>%left_join(wordlist)%>%\n",
    "  group_by(word,k)%>%\n",
    "  count()%>%\n",
    "  mutate(IDF=1+log(7/k),TF=log(1+n))%>%\n",
    "  mutate(TF_IDF=TF*IDF)%>%\n",
    "  ungroup%>%\n",
    "  arrange(desc(TF_IDF))\n",
    "\n",
    "hallows_tbl<-hallows_words%>%left_join(wordlist)%>%\n",
    "  group_by(word,k)%>%\n",
    "  count()%>%\n",
    "  mutate(IDF=1+log(7/k),TF=log(1+n))%>%\n",
    "  mutate(TF_IDF=TF*IDF)%>%\n",
    "  ungroup%>%\n",
    "  arrange(desc(TF_IDF))\n",
    "\n",
    "phil_tbl%>%top_n(5,TF_IDF)\n",
    "chamber_tbl%>%top_n(5,TF_IDF)\n",
    "prisoner_tbl%>%top_n(5,TF_IDF)\n",
    "goblet_tbl%>%top_n(5,TF_IDF)\n",
    "phoenix_tbl%>%top_n(5,TF_IDF)\n",
    "prince_tbl%>%top_n(5,TF_IDF)\n",
    "hallows_tbl%>%top_n(5,TF_IDF)\n",
    "</pre>"
   ]
  },
  {
   "cell_type": "markdown",
   "metadata": {
    "slideshow": {
     "slide_type": "notes"
    }
   },
   "source": [
    "Let's think abstractly about how to solve this problem:"
   ]
  },
  {
   "cell_type": "code",
   "execution_count": 182,
   "metadata": {
    "slideshow": {
     "slide_type": "slide"
    }
   },
   "outputs": [
    {
     "name": "stdout",
     "output_type": "stream",
     "text": [
      "\u001b[90m# A tibble: 6 × 3\u001b[39m\n",
      "  book                text                                               chapter\n",
      "  \u001b[3m\u001b[90m<chr>\u001b[39m\u001b[23m               \u001b[3m\u001b[90m<chr>\u001b[39m\u001b[23m                                                \u001b[3m\u001b[90m<int>\u001b[39m\u001b[23m\n",
      "\u001b[90m1\u001b[39m prisoner_of_azkaban \u001b[90m\"\u001b[39m　　CAT, RAT, AND DOG　　Harry's mind had gone b…      17\n",
      "\u001b[90m2\u001b[39m prisoner_of_azkaban \u001b[90m\"\u001b[39m　　MOONY, WORMTAIL, PADDFOOT, AND PRONGS　　It …      18\n",
      "\u001b[90m3\u001b[39m prisoner_of_azkaban \u001b[90m\"\u001b[39m　　THE SERVANT OF LORD VOLDEMORT　　Hermione sc…      19\n",
      "\u001b[90m4\u001b[39m prisoner_of_azkaban \u001b[90m\"\u001b[39m　　THE DEMENTOR'S KISS　　Harry had never been …      20\n",
      "\u001b[90m5\u001b[39m prisoner_of_azkaban \u001b[90m\"\u001b[39m　　HERMIONE'S SECRET　　Shocking business... sh…      21\n",
      "\u001b[90m6\u001b[39m prisoner_of_azkaban \u001b[90m\"\u001b[39m　　OWL POST AGAIN　　Harry!\\\"　　Hermione was t…      22\n"
     ]
    }
   ],
   "source": [
    "hp_tbl <- ls(\"package:harrypotter\") %>% \n",
    "    map_dfr(~ tibble(book = ., text = getExportedValue('harrypotter', .), \n",
    "                     chapter = seq_along(text)))\n",
    "\n",
    "hp_tbl %>% tail %>% print"
   ]
  },
  {
   "cell_type": "code",
   "execution_count": 196,
   "metadata": {
    "slideshow": {
     "slide_type": "slide"
    }
   },
   "outputs": [
    {
     "name": "stderr",
     "output_type": "stream",
     "text": [
      "\u001b[1m\u001b[22mJoining with `by = join_by(word)`\n"
     ]
    }
   ],
   "source": [
    "# TF-IDF(t,d) = TF(t,d)×IDF(t)\n",
    "# TF(t,d) = log(1 + c(t,d))\n",
    "# IDF(t) = log(N/k)\n",
    "\n",
    "convert_to_words <- function(df) {\n",
    "    unnest_tokens(df, input=text, output=word)\n",
    "}\n",
    "\n",
    "number_of_books <- function(df) {\n",
    "    # return a new df with k=# of books each word appeared in\n",
    "    df %>% convert_to_words %>% group_by(word) %>% summarize(k = n_distinct(book))\n",
    "}\n",
    "\n",
    "tf <- hp_tbl %>% convert_to_words %>% count(book, word) %>% mutate(tf = log(1 + n))\n",
    "idf <- hp_tbl %>% number_of_books %>% mutate(idf = log(7 / k))\n",
    "\n",
    "tf_idf <- inner_join(tf, idf) %>% mutate(tf_idf = tf * idf)"
   ]
  },
  {
   "cell_type": "code",
   "execution_count": 197,
   "metadata": {
    "slideshow": {
     "slide_type": "slide"
    }
   },
   "outputs": [
    {
     "data": {
      "text/html": [
       "<table class=\"dataframe\">\n",
       "<caption>A tibble: 66877 × 7</caption>\n",
       "<thead>\n",
       "\t<tr><th scope=col>book</th><th scope=col>word</th><th scope=col>n</th><th scope=col>tf</th><th scope=col>k</th><th scope=col>idf</th><th scope=col>tf_idf</th></tr>\n",
       "\t<tr><th scope=col>&lt;chr&gt;</th><th scope=col>&lt;chr&gt;</th><th scope=col>&lt;int&gt;</th><th scope=col>&lt;dbl&gt;</th><th scope=col>&lt;int&gt;</th><th scope=col>&lt;dbl&gt;</th><th scope=col>&lt;dbl&gt;</th></tr>\n",
       "</thead>\n",
       "<tbody>\n",
       "\t<tr><td>chamber_of_secrets</td><td>0    </td><td>1</td><td>0.6931472</td><td>3</td><td>0.8472979</td><td>0.5873021</td></tr>\n",
       "\t<tr><td>chamber_of_secrets</td><td>1    </td><td>6</td><td>1.9459101</td><td>6</td><td>0.1541507</td><td>0.2999634</td></tr>\n",
       "\t<tr><td>chamber_of_secrets</td><td>1,5  </td><td>1</td><td>0.6931472</td><td>1</td><td>1.9459101</td><td>1.3488021</td></tr>\n",
       "\t<tr><td>chamber_of_secrets</td><td>1,520</td><td>1</td><td>0.6931472</td><td>1</td><td>1.9459101</td><td>1.3488021</td></tr>\n",
       "\t<tr><td>chamber_of_secrets</td><td>100  </td><td>1</td><td>0.6931472</td><td>1</td><td>1.9459101</td><td>1.3488021</td></tr>\n",
       "\t<tr><td>chamber_of_secrets</td><td>101  </td><td>1</td><td>0.6931472</td><td>1</td><td>1.9459101</td><td>1.3488021</td></tr>\n",
       "\t<tr><td>chamber_of_secrets</td><td>102  </td><td>1</td><td>0.6931472</td><td>1</td><td>1.9459101</td><td>1.3488021</td></tr>\n",
       "\t<tr><td>chamber_of_secrets</td><td>104  </td><td>1</td><td>0.6931472</td><td>1</td><td>1.9459101</td><td>1.3488021</td></tr>\n",
       "\t<tr><td>chamber_of_secrets</td><td>105  </td><td>1</td><td>0.6931472</td><td>1</td><td>1.9459101</td><td>1.3488021</td></tr>\n",
       "\t<tr><td>chamber_of_secrets</td><td>106  </td><td>1</td><td>0.6931472</td><td>1</td><td>1.9459101</td><td>1.3488021</td></tr>\n",
       "\t<tr><td>chamber_of_secrets</td><td>107  </td><td>1</td><td>0.6931472</td><td>1</td><td>1.9459101</td><td>1.3488021</td></tr>\n",
       "\t<tr><td>chamber_of_secrets</td><td>108  </td><td>1</td><td>0.6931472</td><td>1</td><td>1.9459101</td><td>1.3488021</td></tr>\n",
       "\t<tr><td>chamber_of_secrets</td><td>11   </td><td>1</td><td>0.6931472</td><td>4</td><td>0.5596158</td><td>0.3878961</td></tr>\n",
       "\t<tr><td>chamber_of_secrets</td><td>110  </td><td>1</td><td>0.6931472</td><td>1</td><td>1.9459101</td><td>1.3488021</td></tr>\n",
       "\t<tr><td>chamber_of_secrets</td><td>111  </td><td>1</td><td>0.6931472</td><td>1</td><td>1.9459101</td><td>1.3488021</td></tr>\n",
       "\t<tr><td>chamber_of_secrets</td><td>113  </td><td>1</td><td>0.6931472</td><td>1</td><td>1.9459101</td><td>1.3488021</td></tr>\n",
       "\t<tr><td>chamber_of_secrets</td><td>114  </td><td>1</td><td>0.6931472</td><td>1</td><td>1.9459101</td><td>1.3488021</td></tr>\n",
       "\t<tr><td>chamber_of_secrets</td><td>115  </td><td>1</td><td>0.6931472</td><td>1</td><td>1.9459101</td><td>1.3488021</td></tr>\n",
       "\t<tr><td>chamber_of_secrets</td><td>116  </td><td>1</td><td>0.6931472</td><td>1</td><td>1.9459101</td><td>1.3488021</td></tr>\n",
       "\t<tr><td>chamber_of_secrets</td><td>117  </td><td>1</td><td>0.6931472</td><td>1</td><td>1.9459101</td><td>1.3488021</td></tr>\n",
       "\t<tr><td>chamber_of_secrets</td><td>118  </td><td>1</td><td>0.6931472</td><td>1</td><td>1.9459101</td><td>1.3488021</td></tr>\n",
       "\t<tr><td>chamber_of_secrets</td><td>12   </td><td>3</td><td>1.3862944</td><td>2</td><td>1.2527630</td><td>1.7366982</td></tr>\n",
       "\t<tr><td>chamber_of_secrets</td><td>1289 </td><td>1</td><td>0.6931472</td><td>1</td><td>1.9459101</td><td>1.3488021</td></tr>\n",
       "\t<tr><td>chamber_of_secrets</td><td>13   </td><td>1</td><td>0.6931472</td><td>3</td><td>0.8472979</td><td>0.5873021</td></tr>\n",
       "\t<tr><td>chamber_of_secrets</td><td>14   </td><td>1</td><td>0.6931472</td><td>1</td><td>1.9459101</td><td>1.3488021</td></tr>\n",
       "\t<tr><td>chamber_of_secrets</td><td>140  </td><td>1</td><td>0.6931472</td><td>1</td><td>1.9459101</td><td>1.3488021</td></tr>\n",
       "\t<tr><td>chamber_of_secrets</td><td>141  </td><td>2</td><td>1.0986123</td><td>1</td><td>1.9459101</td><td>2.1378008</td></tr>\n",
       "\t<tr><td>chamber_of_secrets</td><td>142  </td><td>1</td><td>0.6931472</td><td>1</td><td>1.9459101</td><td>1.3488021</td></tr>\n",
       "\t<tr><td>chamber_of_secrets</td><td>143  </td><td>1</td><td>0.6931472</td><td>1</td><td>1.9459101</td><td>1.3488021</td></tr>\n",
       "\t<tr><td>chamber_of_secrets</td><td>144  </td><td>1</td><td>0.6931472</td><td>1</td><td>1.9459101</td><td>1.3488021</td></tr>\n",
       "\t<tr><td>⋮</td><td>⋮</td><td>⋮</td><td>⋮</td><td>⋮</td><td>⋮</td><td>⋮</td></tr>\n",
       "\t<tr><td>prisoner_of_azkaban</td><td>yep        </td><td>   2</td><td>1.0986123</td><td>4</td><td>0.5596158</td><td>0.6148008</td></tr>\n",
       "\t<tr><td>prisoner_of_azkaban</td><td>yer        </td><td>   7</td><td>2.0794415</td><td>7</td><td>0.0000000</td><td>0.0000000</td></tr>\n",
       "\t<tr><td>prisoner_of_azkaban</td><td>yes        </td><td>  65</td><td>4.1896547</td><td>7</td><td>0.0000000</td><td>0.0000000</td></tr>\n",
       "\t<tr><td>prisoner_of_azkaban</td><td>yesterday  </td><td>   4</td><td>1.6094379</td><td>7</td><td>0.0000000</td><td>0.0000000</td></tr>\n",
       "\t<tr><td>prisoner_of_azkaban</td><td>yesterday's</td><td>   2</td><td>1.0986123</td><td>1</td><td>1.9459101</td><td>2.1378008</td></tr>\n",
       "\t<tr><td>prisoner_of_azkaban</td><td>yet        </td><td>  49</td><td>3.9120230</td><td>7</td><td>0.0000000</td><td>0.0000000</td></tr>\n",
       "\t<tr><td>prisoner_of_azkaban</td><td>yield      </td><td>   1</td><td>0.6931472</td><td>2</td><td>1.2527630</td><td>0.8683491</td></tr>\n",
       "\t<tr><td>prisoner_of_azkaban</td><td>yielded    </td><td>   1</td><td>0.6931472</td><td>2</td><td>1.2527630</td><td>0.8683491</td></tr>\n",
       "\t<tr><td>prisoner_of_azkaban</td><td>yo         </td><td>   1</td><td>0.6931472</td><td>3</td><td>0.8472979</td><td>0.5873021</td></tr>\n",
       "\t<tr><td>prisoner_of_azkaban</td><td>yotm       </td><td>   1</td><td>0.6931472</td><td>1</td><td>1.9459101</td><td>1.3488021</td></tr>\n",
       "\t<tr><td>prisoner_of_azkaban</td><td>you        </td><td>1174</td><td>7.0690234</td><td>7</td><td>0.0000000</td><td>0.0000000</td></tr>\n",
       "\t<tr><td>prisoner_of_azkaban</td><td>you'd      </td><td>  35</td><td>3.5835189</td><td>7</td><td>0.0000000</td><td>0.0000000</td></tr>\n",
       "\t<tr><td>prisoner_of_azkaban</td><td>you'll     </td><td>  37</td><td>3.6375862</td><td>7</td><td>0.0000000</td><td>0.0000000</td></tr>\n",
       "\t<tr><td>prisoner_of_azkaban</td><td>you're     </td><td>  73</td><td>4.3040651</td><td>7</td><td>0.0000000</td><td>0.0000000</td></tr>\n",
       "\t<tr><td>prisoner_of_azkaban</td><td>you've     </td><td>  48</td><td>3.8918203</td><td>7</td><td>0.0000000</td><td>0.0000000</td></tr>\n",
       "\t<tr><td>prisoner_of_azkaban</td><td>young      </td><td>   9</td><td>2.3025851</td><td>7</td><td>0.0000000</td><td>0.0000000</td></tr>\n",
       "\t<tr><td>prisoner_of_azkaban</td><td>younger    </td><td>   2</td><td>1.0986123</td><td>7</td><td>0.0000000</td><td>0.0000000</td></tr>\n",
       "\t<tr><td>prisoner_of_azkaban</td><td>youngest   </td><td>   2</td><td>1.0986123</td><td>7</td><td>0.0000000</td><td>0.0000000</td></tr>\n",
       "\t<tr><td>prisoner_of_azkaban</td><td>your       </td><td> 203</td><td>5.3181200</td><td>7</td><td>0.0000000</td><td>0.0000000</td></tr>\n",
       "\t<tr><td>prisoner_of_azkaban</td><td>youre      </td><td>   2</td><td>1.0986123</td><td>1</td><td>1.9459101</td><td>2.1378008</td></tr>\n",
       "\t<tr><td>prisoner_of_azkaban</td><td>yours      </td><td>   8</td><td>2.1972246</td><td>7</td><td>0.0000000</td><td>0.0000000</td></tr>\n",
       "\t<tr><td>prisoner_of_azkaban</td><td>yourself   </td><td>  23</td><td>3.1780538</td><td>7</td><td>0.0000000</td><td>0.0000000</td></tr>\n",
       "\t<tr><td>prisoner_of_azkaban</td><td>youve      </td><td>   2</td><td>1.0986123</td><td>2</td><td>1.2527630</td><td>1.3763008</td></tr>\n",
       "\t<tr><td>prisoner_of_azkaban</td><td>ywve       </td><td>   1</td><td>0.6931472</td><td>1</td><td>1.9459101</td><td>1.3488021</td></tr>\n",
       "\t<tr><td>prisoner_of_azkaban</td><td>zero       </td><td>   6</td><td>1.9459101</td><td>5</td><td>0.3364722</td><td>0.6547447</td></tr>\n",
       "\t<tr><td>prisoner_of_azkaban</td><td>zombie     </td><td>   1</td><td>0.6931472</td><td>2</td><td>1.2527630</td><td>0.8683491</td></tr>\n",
       "\t<tr><td>prisoner_of_azkaban</td><td>zonko      </td><td>   1</td><td>0.6931472</td><td>1</td><td>1.9459101</td><td>1.3488021</td></tr>\n",
       "\t<tr><td>prisoner_of_azkaban</td><td>zonko's    </td><td>  10</td><td>2.3978953</td><td>4</td><td>0.5596158</td><td>1.3419001</td></tr>\n",
       "\t<tr><td>prisoner_of_azkaban</td><td>zoomed     </td><td>   9</td><td>2.3025851</td><td>7</td><td>0.0000000</td><td>0.0000000</td></tr>\n",
       "\t<tr><td>prisoner_of_azkaban</td><td>zooming    </td><td>   3</td><td>1.3862944</td><td>6</td><td>0.1541507</td><td>0.2136982</td></tr>\n",
       "</tbody>\n",
       "</table>\n"
      ],
      "text/latex": [
       "A tibble: 66877 × 7\n",
       "\\begin{tabular}{lllllll}\n",
       " book & word & n & tf & k & idf & tf\\_idf\\\\\n",
       " <chr> & <chr> & <int> & <dbl> & <int> & <dbl> & <dbl>\\\\\n",
       "\\hline\n",
       "\t chamber\\_of\\_secrets & 0     & 1 & 0.6931472 & 3 & 0.8472979 & 0.5873021\\\\\n",
       "\t chamber\\_of\\_secrets & 1     & 6 & 1.9459101 & 6 & 0.1541507 & 0.2999634\\\\\n",
       "\t chamber\\_of\\_secrets & 1,5   & 1 & 0.6931472 & 1 & 1.9459101 & 1.3488021\\\\\n",
       "\t chamber\\_of\\_secrets & 1,520 & 1 & 0.6931472 & 1 & 1.9459101 & 1.3488021\\\\\n",
       "\t chamber\\_of\\_secrets & 100   & 1 & 0.6931472 & 1 & 1.9459101 & 1.3488021\\\\\n",
       "\t chamber\\_of\\_secrets & 101   & 1 & 0.6931472 & 1 & 1.9459101 & 1.3488021\\\\\n",
       "\t chamber\\_of\\_secrets & 102   & 1 & 0.6931472 & 1 & 1.9459101 & 1.3488021\\\\\n",
       "\t chamber\\_of\\_secrets & 104   & 1 & 0.6931472 & 1 & 1.9459101 & 1.3488021\\\\\n",
       "\t chamber\\_of\\_secrets & 105   & 1 & 0.6931472 & 1 & 1.9459101 & 1.3488021\\\\\n",
       "\t chamber\\_of\\_secrets & 106   & 1 & 0.6931472 & 1 & 1.9459101 & 1.3488021\\\\\n",
       "\t chamber\\_of\\_secrets & 107   & 1 & 0.6931472 & 1 & 1.9459101 & 1.3488021\\\\\n",
       "\t chamber\\_of\\_secrets & 108   & 1 & 0.6931472 & 1 & 1.9459101 & 1.3488021\\\\\n",
       "\t chamber\\_of\\_secrets & 11    & 1 & 0.6931472 & 4 & 0.5596158 & 0.3878961\\\\\n",
       "\t chamber\\_of\\_secrets & 110   & 1 & 0.6931472 & 1 & 1.9459101 & 1.3488021\\\\\n",
       "\t chamber\\_of\\_secrets & 111   & 1 & 0.6931472 & 1 & 1.9459101 & 1.3488021\\\\\n",
       "\t chamber\\_of\\_secrets & 113   & 1 & 0.6931472 & 1 & 1.9459101 & 1.3488021\\\\\n",
       "\t chamber\\_of\\_secrets & 114   & 1 & 0.6931472 & 1 & 1.9459101 & 1.3488021\\\\\n",
       "\t chamber\\_of\\_secrets & 115   & 1 & 0.6931472 & 1 & 1.9459101 & 1.3488021\\\\\n",
       "\t chamber\\_of\\_secrets & 116   & 1 & 0.6931472 & 1 & 1.9459101 & 1.3488021\\\\\n",
       "\t chamber\\_of\\_secrets & 117   & 1 & 0.6931472 & 1 & 1.9459101 & 1.3488021\\\\\n",
       "\t chamber\\_of\\_secrets & 118   & 1 & 0.6931472 & 1 & 1.9459101 & 1.3488021\\\\\n",
       "\t chamber\\_of\\_secrets & 12    & 3 & 1.3862944 & 2 & 1.2527630 & 1.7366982\\\\\n",
       "\t chamber\\_of\\_secrets & 1289  & 1 & 0.6931472 & 1 & 1.9459101 & 1.3488021\\\\\n",
       "\t chamber\\_of\\_secrets & 13    & 1 & 0.6931472 & 3 & 0.8472979 & 0.5873021\\\\\n",
       "\t chamber\\_of\\_secrets & 14    & 1 & 0.6931472 & 1 & 1.9459101 & 1.3488021\\\\\n",
       "\t chamber\\_of\\_secrets & 140   & 1 & 0.6931472 & 1 & 1.9459101 & 1.3488021\\\\\n",
       "\t chamber\\_of\\_secrets & 141   & 2 & 1.0986123 & 1 & 1.9459101 & 2.1378008\\\\\n",
       "\t chamber\\_of\\_secrets & 142   & 1 & 0.6931472 & 1 & 1.9459101 & 1.3488021\\\\\n",
       "\t chamber\\_of\\_secrets & 143   & 1 & 0.6931472 & 1 & 1.9459101 & 1.3488021\\\\\n",
       "\t chamber\\_of\\_secrets & 144   & 1 & 0.6931472 & 1 & 1.9459101 & 1.3488021\\\\\n",
       "\t ⋮ & ⋮ & ⋮ & ⋮ & ⋮ & ⋮ & ⋮\\\\\n",
       "\t prisoner\\_of\\_azkaban & yep         &    2 & 1.0986123 & 4 & 0.5596158 & 0.6148008\\\\\n",
       "\t prisoner\\_of\\_azkaban & yer         &    7 & 2.0794415 & 7 & 0.0000000 & 0.0000000\\\\\n",
       "\t prisoner\\_of\\_azkaban & yes         &   65 & 4.1896547 & 7 & 0.0000000 & 0.0000000\\\\\n",
       "\t prisoner\\_of\\_azkaban & yesterday   &    4 & 1.6094379 & 7 & 0.0000000 & 0.0000000\\\\\n",
       "\t prisoner\\_of\\_azkaban & yesterday's &    2 & 1.0986123 & 1 & 1.9459101 & 2.1378008\\\\\n",
       "\t prisoner\\_of\\_azkaban & yet         &   49 & 3.9120230 & 7 & 0.0000000 & 0.0000000\\\\\n",
       "\t prisoner\\_of\\_azkaban & yield       &    1 & 0.6931472 & 2 & 1.2527630 & 0.8683491\\\\\n",
       "\t prisoner\\_of\\_azkaban & yielded     &    1 & 0.6931472 & 2 & 1.2527630 & 0.8683491\\\\\n",
       "\t prisoner\\_of\\_azkaban & yo          &    1 & 0.6931472 & 3 & 0.8472979 & 0.5873021\\\\\n",
       "\t prisoner\\_of\\_azkaban & yotm        &    1 & 0.6931472 & 1 & 1.9459101 & 1.3488021\\\\\n",
       "\t prisoner\\_of\\_azkaban & you         & 1174 & 7.0690234 & 7 & 0.0000000 & 0.0000000\\\\\n",
       "\t prisoner\\_of\\_azkaban & you'd       &   35 & 3.5835189 & 7 & 0.0000000 & 0.0000000\\\\\n",
       "\t prisoner\\_of\\_azkaban & you'll      &   37 & 3.6375862 & 7 & 0.0000000 & 0.0000000\\\\\n",
       "\t prisoner\\_of\\_azkaban & you're      &   73 & 4.3040651 & 7 & 0.0000000 & 0.0000000\\\\\n",
       "\t prisoner\\_of\\_azkaban & you've      &   48 & 3.8918203 & 7 & 0.0000000 & 0.0000000\\\\\n",
       "\t prisoner\\_of\\_azkaban & young       &    9 & 2.3025851 & 7 & 0.0000000 & 0.0000000\\\\\n",
       "\t prisoner\\_of\\_azkaban & younger     &    2 & 1.0986123 & 7 & 0.0000000 & 0.0000000\\\\\n",
       "\t prisoner\\_of\\_azkaban & youngest    &    2 & 1.0986123 & 7 & 0.0000000 & 0.0000000\\\\\n",
       "\t prisoner\\_of\\_azkaban & your        &  203 & 5.3181200 & 7 & 0.0000000 & 0.0000000\\\\\n",
       "\t prisoner\\_of\\_azkaban & youre       &    2 & 1.0986123 & 1 & 1.9459101 & 2.1378008\\\\\n",
       "\t prisoner\\_of\\_azkaban & yours       &    8 & 2.1972246 & 7 & 0.0000000 & 0.0000000\\\\\n",
       "\t prisoner\\_of\\_azkaban & yourself    &   23 & 3.1780538 & 7 & 0.0000000 & 0.0000000\\\\\n",
       "\t prisoner\\_of\\_azkaban & youve       &    2 & 1.0986123 & 2 & 1.2527630 & 1.3763008\\\\\n",
       "\t prisoner\\_of\\_azkaban & ywve        &    1 & 0.6931472 & 1 & 1.9459101 & 1.3488021\\\\\n",
       "\t prisoner\\_of\\_azkaban & zero        &    6 & 1.9459101 & 5 & 0.3364722 & 0.6547447\\\\\n",
       "\t prisoner\\_of\\_azkaban & zombie      &    1 & 0.6931472 & 2 & 1.2527630 & 0.8683491\\\\\n",
       "\t prisoner\\_of\\_azkaban & zonko       &    1 & 0.6931472 & 1 & 1.9459101 & 1.3488021\\\\\n",
       "\t prisoner\\_of\\_azkaban & zonko's     &   10 & 2.3978953 & 4 & 0.5596158 & 1.3419001\\\\\n",
       "\t prisoner\\_of\\_azkaban & zoomed      &    9 & 2.3025851 & 7 & 0.0000000 & 0.0000000\\\\\n",
       "\t prisoner\\_of\\_azkaban & zooming     &    3 & 1.3862944 & 6 & 0.1541507 & 0.2136982\\\\\n",
       "\\end{tabular}\n"
      ],
      "text/markdown": [
       "\n",
       "A tibble: 66877 × 7\n",
       "\n",
       "| book &lt;chr&gt; | word &lt;chr&gt; | n &lt;int&gt; | tf &lt;dbl&gt; | k &lt;int&gt; | idf &lt;dbl&gt; | tf_idf &lt;dbl&gt; |\n",
       "|---|---|---|---|---|---|---|\n",
       "| chamber_of_secrets | 0     | 1 | 0.6931472 | 3 | 0.8472979 | 0.5873021 |\n",
       "| chamber_of_secrets | 1     | 6 | 1.9459101 | 6 | 0.1541507 | 0.2999634 |\n",
       "| chamber_of_secrets | 1,5   | 1 | 0.6931472 | 1 | 1.9459101 | 1.3488021 |\n",
       "| chamber_of_secrets | 1,520 | 1 | 0.6931472 | 1 | 1.9459101 | 1.3488021 |\n",
       "| chamber_of_secrets | 100   | 1 | 0.6931472 | 1 | 1.9459101 | 1.3488021 |\n",
       "| chamber_of_secrets | 101   | 1 | 0.6931472 | 1 | 1.9459101 | 1.3488021 |\n",
       "| chamber_of_secrets | 102   | 1 | 0.6931472 | 1 | 1.9459101 | 1.3488021 |\n",
       "| chamber_of_secrets | 104   | 1 | 0.6931472 | 1 | 1.9459101 | 1.3488021 |\n",
       "| chamber_of_secrets | 105   | 1 | 0.6931472 | 1 | 1.9459101 | 1.3488021 |\n",
       "| chamber_of_secrets | 106   | 1 | 0.6931472 | 1 | 1.9459101 | 1.3488021 |\n",
       "| chamber_of_secrets | 107   | 1 | 0.6931472 | 1 | 1.9459101 | 1.3488021 |\n",
       "| chamber_of_secrets | 108   | 1 | 0.6931472 | 1 | 1.9459101 | 1.3488021 |\n",
       "| chamber_of_secrets | 11    | 1 | 0.6931472 | 4 | 0.5596158 | 0.3878961 |\n",
       "| chamber_of_secrets | 110   | 1 | 0.6931472 | 1 | 1.9459101 | 1.3488021 |\n",
       "| chamber_of_secrets | 111   | 1 | 0.6931472 | 1 | 1.9459101 | 1.3488021 |\n",
       "| chamber_of_secrets | 113   | 1 | 0.6931472 | 1 | 1.9459101 | 1.3488021 |\n",
       "| chamber_of_secrets | 114   | 1 | 0.6931472 | 1 | 1.9459101 | 1.3488021 |\n",
       "| chamber_of_secrets | 115   | 1 | 0.6931472 | 1 | 1.9459101 | 1.3488021 |\n",
       "| chamber_of_secrets | 116   | 1 | 0.6931472 | 1 | 1.9459101 | 1.3488021 |\n",
       "| chamber_of_secrets | 117   | 1 | 0.6931472 | 1 | 1.9459101 | 1.3488021 |\n",
       "| chamber_of_secrets | 118   | 1 | 0.6931472 | 1 | 1.9459101 | 1.3488021 |\n",
       "| chamber_of_secrets | 12    | 3 | 1.3862944 | 2 | 1.2527630 | 1.7366982 |\n",
       "| chamber_of_secrets | 1289  | 1 | 0.6931472 | 1 | 1.9459101 | 1.3488021 |\n",
       "| chamber_of_secrets | 13    | 1 | 0.6931472 | 3 | 0.8472979 | 0.5873021 |\n",
       "| chamber_of_secrets | 14    | 1 | 0.6931472 | 1 | 1.9459101 | 1.3488021 |\n",
       "| chamber_of_secrets | 140   | 1 | 0.6931472 | 1 | 1.9459101 | 1.3488021 |\n",
       "| chamber_of_secrets | 141   | 2 | 1.0986123 | 1 | 1.9459101 | 2.1378008 |\n",
       "| chamber_of_secrets | 142   | 1 | 0.6931472 | 1 | 1.9459101 | 1.3488021 |\n",
       "| chamber_of_secrets | 143   | 1 | 0.6931472 | 1 | 1.9459101 | 1.3488021 |\n",
       "| chamber_of_secrets | 144   | 1 | 0.6931472 | 1 | 1.9459101 | 1.3488021 |\n",
       "| ⋮ | ⋮ | ⋮ | ⋮ | ⋮ | ⋮ | ⋮ |\n",
       "| prisoner_of_azkaban | yep         |    2 | 1.0986123 | 4 | 0.5596158 | 0.6148008 |\n",
       "| prisoner_of_azkaban | yer         |    7 | 2.0794415 | 7 | 0.0000000 | 0.0000000 |\n",
       "| prisoner_of_azkaban | yes         |   65 | 4.1896547 | 7 | 0.0000000 | 0.0000000 |\n",
       "| prisoner_of_azkaban | yesterday   |    4 | 1.6094379 | 7 | 0.0000000 | 0.0000000 |\n",
       "| prisoner_of_azkaban | yesterday's |    2 | 1.0986123 | 1 | 1.9459101 | 2.1378008 |\n",
       "| prisoner_of_azkaban | yet         |   49 | 3.9120230 | 7 | 0.0000000 | 0.0000000 |\n",
       "| prisoner_of_azkaban | yield       |    1 | 0.6931472 | 2 | 1.2527630 | 0.8683491 |\n",
       "| prisoner_of_azkaban | yielded     |    1 | 0.6931472 | 2 | 1.2527630 | 0.8683491 |\n",
       "| prisoner_of_azkaban | yo          |    1 | 0.6931472 | 3 | 0.8472979 | 0.5873021 |\n",
       "| prisoner_of_azkaban | yotm        |    1 | 0.6931472 | 1 | 1.9459101 | 1.3488021 |\n",
       "| prisoner_of_azkaban | you         | 1174 | 7.0690234 | 7 | 0.0000000 | 0.0000000 |\n",
       "| prisoner_of_azkaban | you'd       |   35 | 3.5835189 | 7 | 0.0000000 | 0.0000000 |\n",
       "| prisoner_of_azkaban | you'll      |   37 | 3.6375862 | 7 | 0.0000000 | 0.0000000 |\n",
       "| prisoner_of_azkaban | you're      |   73 | 4.3040651 | 7 | 0.0000000 | 0.0000000 |\n",
       "| prisoner_of_azkaban | you've      |   48 | 3.8918203 | 7 | 0.0000000 | 0.0000000 |\n",
       "| prisoner_of_azkaban | young       |    9 | 2.3025851 | 7 | 0.0000000 | 0.0000000 |\n",
       "| prisoner_of_azkaban | younger     |    2 | 1.0986123 | 7 | 0.0000000 | 0.0000000 |\n",
       "| prisoner_of_azkaban | youngest    |    2 | 1.0986123 | 7 | 0.0000000 | 0.0000000 |\n",
       "| prisoner_of_azkaban | your        |  203 | 5.3181200 | 7 | 0.0000000 | 0.0000000 |\n",
       "| prisoner_of_azkaban | youre       |    2 | 1.0986123 | 1 | 1.9459101 | 2.1378008 |\n",
       "| prisoner_of_azkaban | yours       |    8 | 2.1972246 | 7 | 0.0000000 | 0.0000000 |\n",
       "| prisoner_of_azkaban | yourself    |   23 | 3.1780538 | 7 | 0.0000000 | 0.0000000 |\n",
       "| prisoner_of_azkaban | youve       |    2 | 1.0986123 | 2 | 1.2527630 | 1.3763008 |\n",
       "| prisoner_of_azkaban | ywve        |    1 | 0.6931472 | 1 | 1.9459101 | 1.3488021 |\n",
       "| prisoner_of_azkaban | zero        |    6 | 1.9459101 | 5 | 0.3364722 | 0.6547447 |\n",
       "| prisoner_of_azkaban | zombie      |    1 | 0.6931472 | 2 | 1.2527630 | 0.8683491 |\n",
       "| prisoner_of_azkaban | zonko       |    1 | 0.6931472 | 1 | 1.9459101 | 1.3488021 |\n",
       "| prisoner_of_azkaban | zonko's     |   10 | 2.3978953 | 4 | 0.5596158 | 1.3419001 |\n",
       "| prisoner_of_azkaban | zoomed      |    9 | 2.3025851 | 7 | 0.0000000 | 0.0000000 |\n",
       "| prisoner_of_azkaban | zooming     |    3 | 1.3862944 | 6 | 0.1541507 | 0.2136982 |\n",
       "\n"
      ],
      "text/plain": [
       "      book                word        n    tf        k idf       tf_idf   \n",
       "1     chamber_of_secrets  0           1    0.6931472 3 0.8472979 0.5873021\n",
       "2     chamber_of_secrets  1           6    1.9459101 6 0.1541507 0.2999634\n",
       "3     chamber_of_secrets  1,5         1    0.6931472 1 1.9459101 1.3488021\n",
       "4     chamber_of_secrets  1,520       1    0.6931472 1 1.9459101 1.3488021\n",
       "5     chamber_of_secrets  100         1    0.6931472 1 1.9459101 1.3488021\n",
       "6     chamber_of_secrets  101         1    0.6931472 1 1.9459101 1.3488021\n",
       "7     chamber_of_secrets  102         1    0.6931472 1 1.9459101 1.3488021\n",
       "8     chamber_of_secrets  104         1    0.6931472 1 1.9459101 1.3488021\n",
       "9     chamber_of_secrets  105         1    0.6931472 1 1.9459101 1.3488021\n",
       "10    chamber_of_secrets  106         1    0.6931472 1 1.9459101 1.3488021\n",
       "11    chamber_of_secrets  107         1    0.6931472 1 1.9459101 1.3488021\n",
       "12    chamber_of_secrets  108         1    0.6931472 1 1.9459101 1.3488021\n",
       "13    chamber_of_secrets  11          1    0.6931472 4 0.5596158 0.3878961\n",
       "14    chamber_of_secrets  110         1    0.6931472 1 1.9459101 1.3488021\n",
       "15    chamber_of_secrets  111         1    0.6931472 1 1.9459101 1.3488021\n",
       "16    chamber_of_secrets  113         1    0.6931472 1 1.9459101 1.3488021\n",
       "17    chamber_of_secrets  114         1    0.6931472 1 1.9459101 1.3488021\n",
       "18    chamber_of_secrets  115         1    0.6931472 1 1.9459101 1.3488021\n",
       "19    chamber_of_secrets  116         1    0.6931472 1 1.9459101 1.3488021\n",
       "20    chamber_of_secrets  117         1    0.6931472 1 1.9459101 1.3488021\n",
       "21    chamber_of_secrets  118         1    0.6931472 1 1.9459101 1.3488021\n",
       "22    chamber_of_secrets  12          3    1.3862944 2 1.2527630 1.7366982\n",
       "23    chamber_of_secrets  1289        1    0.6931472 1 1.9459101 1.3488021\n",
       "24    chamber_of_secrets  13          1    0.6931472 3 0.8472979 0.5873021\n",
       "25    chamber_of_secrets  14          1    0.6931472 1 1.9459101 1.3488021\n",
       "26    chamber_of_secrets  140         1    0.6931472 1 1.9459101 1.3488021\n",
       "27    chamber_of_secrets  141         2    1.0986123 1 1.9459101 2.1378008\n",
       "28    chamber_of_secrets  142         1    0.6931472 1 1.9459101 1.3488021\n",
       "29    chamber_of_secrets  143         1    0.6931472 1 1.9459101 1.3488021\n",
       "30    chamber_of_secrets  144         1    0.6931472 1 1.9459101 1.3488021\n",
       "⋮     ⋮                   ⋮           ⋮    ⋮         ⋮ ⋮         ⋮        \n",
       "66848 prisoner_of_azkaban yep            2 1.0986123 4 0.5596158 0.6148008\n",
       "66849 prisoner_of_azkaban yer            7 2.0794415 7 0.0000000 0.0000000\n",
       "66850 prisoner_of_azkaban yes           65 4.1896547 7 0.0000000 0.0000000\n",
       "66851 prisoner_of_azkaban yesterday      4 1.6094379 7 0.0000000 0.0000000\n",
       "66852 prisoner_of_azkaban yesterday's    2 1.0986123 1 1.9459101 2.1378008\n",
       "66853 prisoner_of_azkaban yet           49 3.9120230 7 0.0000000 0.0000000\n",
       "66854 prisoner_of_azkaban yield          1 0.6931472 2 1.2527630 0.8683491\n",
       "66855 prisoner_of_azkaban yielded        1 0.6931472 2 1.2527630 0.8683491\n",
       "66856 prisoner_of_azkaban yo             1 0.6931472 3 0.8472979 0.5873021\n",
       "66857 prisoner_of_azkaban yotm           1 0.6931472 1 1.9459101 1.3488021\n",
       "66858 prisoner_of_azkaban you         1174 7.0690234 7 0.0000000 0.0000000\n",
       "66859 prisoner_of_azkaban you'd         35 3.5835189 7 0.0000000 0.0000000\n",
       "66860 prisoner_of_azkaban you'll        37 3.6375862 7 0.0000000 0.0000000\n",
       "66861 prisoner_of_azkaban you're        73 4.3040651 7 0.0000000 0.0000000\n",
       "66862 prisoner_of_azkaban you've        48 3.8918203 7 0.0000000 0.0000000\n",
       "66863 prisoner_of_azkaban young          9 2.3025851 7 0.0000000 0.0000000\n",
       "66864 prisoner_of_azkaban younger        2 1.0986123 7 0.0000000 0.0000000\n",
       "66865 prisoner_of_azkaban youngest       2 1.0986123 7 0.0000000 0.0000000\n",
       "66866 prisoner_of_azkaban your         203 5.3181200 7 0.0000000 0.0000000\n",
       "66867 prisoner_of_azkaban youre          2 1.0986123 1 1.9459101 2.1378008\n",
       "66868 prisoner_of_azkaban yours          8 2.1972246 7 0.0000000 0.0000000\n",
       "66869 prisoner_of_azkaban yourself      23 3.1780538 7 0.0000000 0.0000000\n",
       "66870 prisoner_of_azkaban youve          2 1.0986123 2 1.2527630 1.3763008\n",
       "66871 prisoner_of_azkaban ywve           1 0.6931472 1 1.9459101 1.3488021\n",
       "66872 prisoner_of_azkaban zero           6 1.9459101 5 0.3364722 0.6547447\n",
       "66873 prisoner_of_azkaban zombie         1 0.6931472 2 1.2527630 0.8683491\n",
       "66874 prisoner_of_azkaban zonko          1 0.6931472 1 1.9459101 1.3488021\n",
       "66875 prisoner_of_azkaban zonko's       10 2.3978953 4 0.5596158 1.3419001\n",
       "66876 prisoner_of_azkaban zoomed         9 2.3025851 7 0.0000000 0.0000000\n",
       "66877 prisoner_of_azkaban zooming        3 1.3862944 6 0.1541507 0.2136982"
      ]
     },
     "metadata": {},
     "output_type": "display_data"
    }
   ],
   "source": [
    "tf_idf"
   ]
  },
  {
   "cell_type": "code",
   "execution_count": 95,
   "metadata": {
    "slideshow": {
     "slide_type": "slide"
    }
   },
   "outputs": [],
   "source": [
    "# TF-IDF(t,d) = TF(t,d)×IDF(t)\n",
    "# TF(t,d) = log(1 + c(t,d))\n",
    "# IDF(t) = log(N/k)\n",
    "\n",
    "tf_idf <- function(df, document_col, word_col) {\n",
    "    # fill in\n",
    "}"
   ]
  },
  {
   "cell_type": "markdown",
   "metadata": {
    "id": "zd8lUNBT1GUU"
   },
   "source": [
    "## Scope\n",
    "\n",
    "Scoping refers to how R looks up the value associated with an object referred to by name. There are two types of scoping – lexical and dynamic – but we will concern ourselves only with lexical scoping here. There are four keys to understanding scoping:\n",
    "\n",
    "- environments\n",
    "- name masking\n",
    "- variables vs functions\n",
    "- dynamic look up \n"
   ]
  },
  {
   "cell_type": "markdown",
   "metadata": {
    "id": "WKt7nGqZ1GUV"
   },
   "source": [
    "An environment can be thought of as a context in which names are associated with objects. Each time a function is called, it generates a new environment for the computation.\n",
    "\n",
    "Consider the following examples:"
   ]
  },
  {
   "cell_type": "code",
   "execution_count": 42,
   "metadata": {
    "colab": {
     "base_uri": "https://localhost:8080/",
     "height": 34
    },
    "executionInfo": {
     "elapsed": 144,
     "status": "ok",
     "timestamp": 1679154105090,
     "user": {
      "displayName": "Jayashree Ravi",
      "userId": "06933604785290521829"
     },
     "user_tz": 240
    },
    "id": "0wNRpFvV1GUV",
    "outputId": "3b6e279b-9f7f-4837-cdf9-2e42e0a717dc"
   },
   "outputs": [
    {
     "data": {
      "text/html": [
       "<style>\n",
       ".list-inline {list-style: none; margin:0; padding: 0}\n",
       ".list-inline>li {display: inline-block}\n",
       ".list-inline>li:not(:last-child)::after {content: \"\\00b7\"; padding: 0 .5ex}\n",
       "</style>\n",
       "<ol class=list-inline><li>'a'</li><li>'b'</li><li>'c'</li><li>'cty'</li><li>'cty_a'</li><li>'hwy_a'</li><li>'rescale'</li><li>'sum'</li><li>'u'</li><li>'w'</li><li>'x'</li><li>'x_centered'</li><li>'y'</li><li>'z'</li><li>'z_score1'</li><li>'z_score2'</li></ol>\n"
      ],
      "text/latex": [
       "\\begin{enumerate*}\n",
       "\\item 'a'\n",
       "\\item 'b'\n",
       "\\item 'c'\n",
       "\\item 'cty'\n",
       "\\item 'cty\\_a'\n",
       "\\item 'hwy\\_a'\n",
       "\\item 'rescale'\n",
       "\\item 'sum'\n",
       "\\item 'u'\n",
       "\\item 'w'\n",
       "\\item 'x'\n",
       "\\item 'x\\_centered'\n",
       "\\item 'y'\n",
       "\\item 'z'\n",
       "\\item 'z\\_score1'\n",
       "\\item 'z\\_score2'\n",
       "\\end{enumerate*}\n"
      ],
      "text/markdown": [
       "1. 'a'\n",
       "2. 'b'\n",
       "3. 'c'\n",
       "4. 'cty'\n",
       "5. 'cty_a'\n",
       "6. 'hwy_a'\n",
       "7. 'rescale'\n",
       "8. 'sum'\n",
       "9. 'u'\n",
       "10. 'w'\n",
       "11. 'x'\n",
       "12. 'x_centered'\n",
       "13. 'y'\n",
       "14. 'z'\n",
       "15. 'z_score1'\n",
       "16. 'z_score2'\n",
       "\n",
       "\n"
      ],
      "text/plain": [
       " [1] \"a\"          \"b\"          \"c\"          \"cty\"        \"cty_a\"     \n",
       " [6] \"hwy_a\"      \"rescale\"    \"sum\"        \"u\"          \"w\"         \n",
       "[11] \"x\"          \"x_centered\" \"y\"          \"z\"          \"z_score1\"  \n",
       "[16] \"z_score2\"  "
      ]
     },
     "metadata": {},
     "output_type": "display_data"
    }
   ],
   "source": [
    "ls()"
   ]
  },
  {
   "cell_type": "code",
   "execution_count": 43,
   "metadata": {
    "colab": {
     "base_uri": "https://localhost:8080/",
     "height": 34
    },
    "executionInfo": {
     "elapsed": 122,
     "status": "ok",
     "timestamp": 1679154118234,
     "user": {
      "displayName": "Jayashree Ravi",
      "userId": "06933604785290521829"
     },
     "user_tz": 240
    },
    "id": "qyf0VEhu1GUY",
    "outputId": "c026b229-56ad-40f8-d684-cf77f8965cf0"
   },
   "outputs": [
    {
     "data": {
      "text/html": [
       "'f1_message'"
      ],
      "text/latex": [
       "'f1\\_message'"
      ],
      "text/markdown": [
       "'f1_message'"
      ],
      "text/plain": [
       "[1] \"f1_message\""
      ]
     },
     "metadata": {},
     "output_type": "display_data"
    }
   ],
   "source": [
    "f1 = function() {\n",
    "  f1_message = \"I'm defined inside of f!\"  # `message` is a function in base\n",
    "  ls()\n",
    "}\n",
    "f1()"
   ]
  },
  {
   "cell_type": "code",
   "execution_count": 44,
   "metadata": {
    "colab": {
     "base_uri": "https://localhost:8080/",
     "height": 34
    },
    "executionInfo": {
     "elapsed": 233,
     "status": "ok",
     "timestamp": 1679154123836,
     "user": {
      "displayName": "Jayashree Ravi",
      "userId": "06933604785290521829"
     },
     "user_tz": 240
    },
    "id": "D_nbqpJY1GUZ",
    "outputId": "ef1263a4-4d41-4989-c853-af319b6ddd43"
   },
   "outputs": [
    {
     "data": {
      "text/html": [
       "TRUE"
      ],
      "text/latex": [
       "TRUE"
      ],
      "text/markdown": [
       "TRUE"
      ],
      "text/plain": [
       "[1] TRUE"
      ]
     },
     "metadata": {},
     "output_type": "display_data"
    }
   ],
   "source": [
    "exists('f1') # f1 %in% ls() "
   ]
  },
  {
   "cell_type": "code",
   "execution_count": 45,
   "metadata": {
    "colab": {
     "base_uri": "https://localhost:8080/",
     "height": 34
    },
    "executionInfo": {
     "elapsed": 153,
     "status": "ok",
     "timestamp": 1679154135541,
     "user": {
      "displayName": "Jayashree Ravi",
      "userId": "06933604785290521829"
     },
     "user_tz": 240
    },
    "id": "_QG0qrLD1GUa",
    "outputId": "c313c1a9-9589-409c-c786-d438bd729770"
   },
   "outputs": [
    {
     "data": {
      "text/html": [
       "FALSE"
      ],
      "text/latex": [
       "FALSE"
      ],
      "text/markdown": [
       "FALSE"
      ],
      "text/plain": [
       "[1] FALSE"
      ]
     },
     "metadata": {},
     "output_type": "display_data"
    }
   ],
   "source": [
    "exists('f1_message')"
   ]
  },
  {
   "cell_type": "code",
   "execution_count": 46,
   "metadata": {
    "colab": {
     "base_uri": "https://localhost:8080/",
     "height": 34
    },
    "executionInfo": {
     "elapsed": 147,
     "status": "ok",
     "timestamp": 1679154147603,
     "user": {
      "displayName": "Jayashree Ravi",
      "userId": "06933604785290521829"
     },
     "user_tz": 240
    },
    "id": "7olP1gHu1GUa",
    "outputId": "44c2ac4d-ca5c-4351-c31e-922513dde406"
   },
   "outputs": [
    {
     "data": {
      "text/plain": [
       "<environment: R_GlobalEnv>"
      ]
     },
     "metadata": {},
     "output_type": "display_data"
    }
   ],
   "source": [
    "environment() # here we are in the global environment"
   ]
  },
  {
   "cell_type": "code",
   "execution_count": 47,
   "metadata": {
    "colab": {
     "base_uri": "https://localhost:8080/",
     "height": 34
    },
    "executionInfo": {
     "elapsed": 180,
     "status": "ok",
     "timestamp": 1679154154727,
     "user": {
      "displayName": "Jayashree Ravi",
      "userId": "06933604785290521829"
     },
     "user_tz": 240
    },
    "id": "UvGiVtd91GUd",
    "outputId": "9c42860b-c195-487d-c2ec-3b7d61020bac"
   },
   "outputs": [
    {
     "data": {
      "text/plain": [
       "<environment: 0x564d05c250a0>"
      ]
     },
     "metadata": {},
     "output_type": "display_data"
    }
   ],
   "source": [
    "f2 = function(){\n",
    "  environment() # here we are in the local environment -- each time we get a different local environment\n",
    "    # created for the purpose of this function\n",
    "}\n",
    "f2()"
   ]
  },
  {
   "cell_type": "code",
   "execution_count": null,
   "metadata": {
    "id": "57mLeAoN1GUd"
   },
   "outputs": [],
   "source": [
    "rm(f1, f2)"
   ]
  },
  {
   "cell_type": "markdown",
   "metadata": {
    "id": "kG--gm7L1GUe"
   },
   "source": [
    "Name masking refers to where and in what order `R` looks for object names.\n",
    "When we call `f1` above, `R` first looks in the current environment which happens to be the global environment. The call to `ls()` however, happens within the environment created by the function call and hence returns only the objects defined in the local environment."
   ]
  },
  {
   "cell_type": "markdown",
   "metadata": {
    "id": "aCkUBwRM1GUg"
   },
   "source": [
    "When an environment is created, it gets nested within the current environment referred to as the “parent environment”. When an object is referenced we first look in the current environment and move recursively up through parent environments until we find a value bound to that name.\n",
    "\n"
   ]
  },
  {
   "cell_type": "markdown",
   "metadata": {
    "id": "kdykZtFW1GUh"
   },
   "source": [
    "Name masking refers to the notion that objects of the same name can exist in different environments. Consider these examples:\n",
    "\n"
   ]
  },
  {
   "cell_type": "code",
   "execution_count": 57,
   "metadata": {
    "colab": {
     "base_uri": "https://localhost:8080/"
    },
    "executionInfo": {
     "elapsed": 159,
     "status": "ok",
     "timestamp": 1679154552850,
     "user": {
      "displayName": "Jayashree Ravi",
      "userId": "06933604785290521829"
     },
     "user_tz": 240
    },
    "id": "Rqu63x6V1GUh",
    "outputId": "751eb2a6-168c-4eb2-f5b1-7f3b00edf650"
   },
   "outputs": [
    {
     "name": "stdout",
     "output_type": "stream",
     "text": [
      "[1] \"x = I came from inside of f! and y = I came from outside of f!\"\n",
      "[1] \"outside-x = I came from outside of f! and outside-y = I came from outside of f!\"\n"
     ]
    }
   ],
   "source": [
    "#  Example 3 -- lexical scoping\n",
    "y = x = 'I came from outside of f!'\n",
    "f3 = function(){\n",
    "  x =  'I came from inside of f!'\n",
    "  print(paste(\"x =\", x, \"and y =\", y))\n",
    "}\n",
    "f3()\n",
    "print(paste(\"outside-x =\", x, \"and outside-y =\", y))"
   ]
  },
  {
   "cell_type": "markdown",
   "metadata": {
    "id": "B4v1OFQzaYdN"
   },
   "source": [
    "* x is redefined inside the function enviornment\n",
    "* y is not, so R will search for y in the parent environment and keep moving up\n",
    "* x that is associated with f3, is not going to change the x in the global environment, unless we explicitly write the code to do that"
   ]
  },
  {
   "cell_type": "code",
   "execution_count": null,
   "metadata": {
    "id": "KsUNVcUK1GUk",
    "outputId": "14d6df42-b0e9-4ff8-a1f3-d2df36195791"
   },
   "outputs": [
    {
     "data": {
      "text/html": [
       "55"
      ],
      "text/latex": [
       "55"
      ],
      "text/markdown": [
       "55"
      ],
      "text/plain": [
       "[1] 55"
      ]
     },
     "metadata": {},
     "output_type": "display_data"
    }
   ],
   "source": [
    "#  Example 4 -- masking\n",
    "mean = function(x){ \n",
    "    sum(x)\n",
    "}\n",
    "mean(1:10)"
   ]
  },
  {
   "cell_type": "code",
   "execution_count": null,
   "metadata": {
    "id": "-UZUcOyz1GUl",
    "outputId": "0046da6a-4397-477b-e54f-4d00b49ad835"
   },
   "outputs": [
    {
     "data": {
      "text/html": [
       "5.5"
      ],
      "text/latex": [
       "5.5"
      ],
      "text/markdown": [
       "5.5"
      ],
      "text/plain": [
       "[1] 5.5"
      ]
     },
     "metadata": {},
     "output_type": "display_data"
    }
   ],
   "source": [
    "base::mean(1:10)\n",
    "\n"
   ]
  },
  {
   "cell_type": "code",
   "execution_count": null,
   "metadata": {
    "id": "Kgp1U3nd1GUm"
   },
   "outputs": [],
   "source": [
    "rm(mean)"
   ]
  },
  {
   "cell_type": "markdown",
   "metadata": {
    "id": "_sroTkw31GUo"
   },
   "source": [
    "R also uses dynamic look up, meaning values are searched for when a function is called, not when it is created. In the example above, y was defined in the global environment rather than within the function body. This means the value returned by f3 depends on the value of y in the global environment. You should generally avoid this, but there are occasions where it can be useful.\n",
    "\n"
   ]
  },
  {
   "cell_type": "code",
   "execution_count": null,
   "metadata": {
    "id": "9KRL-9jU1GUp",
    "outputId": "5817dde3-b739-43cf-ee25-8f1853de0741"
   },
   "outputs": [
    {
     "data": {
      "text/html": [
       "<dl>\n",
       "\t<dt>$x</dt>\n",
       "\t\t<dd>'I came from inside of f!'</dd>\n",
       "\t<dt>$y</dt>\n",
       "\t\t<dd>'I have been reinvented!'</dd>\n",
       "</dl>\n"
      ],
      "text/latex": [
       "\\begin{description}\n",
       "\\item[\\$x] 'I came from inside of f!'\n",
       "\\item[\\$y] 'I have been reinvented!'\n",
       "\\end{description}\n"
      ],
      "text/markdown": [
       "$x\n",
       ":   'I came from inside of f!'\n",
       "$y\n",
       ":   'I have been reinvented!'\n",
       "\n",
       "\n"
      ],
      "text/plain": [
       "$x\n",
       "[1] \"I came from inside of f!\"\n",
       "\n",
       "$y\n",
       "[1] \"I have been reinvented!\"\n"
      ]
     },
     "metadata": {},
     "output_type": "display_data"
    }
   ],
   "source": [
    "# Example 5 - dynamic lookup\n",
    "y = \"I have been reinvented!\"\n",
    "f3()"
   ]
  }
 ],
 "metadata": {
  "celltoolbar": "Slideshow",
  "colab": {
   "provenance": [
    {
     "file_id": "12VN_7ITQhKtYYhN7lZc102tA1bMJMEaW",
     "timestamp": 1679146009376
    }
   ]
  },
  "kernelspec": {
   "display_name": "R",
   "language": "R",
   "name": "ir"
  },
  "language_info": {
   "codemirror_mode": "r",
   "file_extension": ".r",
   "mimetype": "text/x-r-source",
   "name": "R",
   "pygments_lexer": "r",
   "version": "4.2.1"
  }
 },
 "nbformat": 4,
 "nbformat_minor": 1
}
