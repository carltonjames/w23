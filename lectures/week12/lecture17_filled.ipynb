{
 "cells": [
  {
   "cell_type": "code",
   "execution_count": 97,
   "metadata": {
    "colab": {
     "base_uri": "https://localhost:8080/"
    },
    "executionInfo": {
     "elapsed": 16530,
     "status": "ok",
     "timestamp": 1679173651536,
     "user": {
      "displayName": "Jayashree Ravi",
      "userId": "06933604785290521829"
     },
     "user_tz": 240
    },
    "id": "__szmnTH1lex",
    "outputId": "0c676323-5f72-4ce0-f2d6-e0c5f15a6d86",
    "slideshow": {
     "slide_type": "notes"
    }
   },
   "outputs": [
    {
     "name": "stderr",
     "output_type": "stream",
     "text": [
      "Installing package into ‘/home/terhorst/R/x86_64-pc-linux-gnu-library/4.2’\n",
      "(as ‘lib’ is unspecified)\n",
      "\n",
      "Skipping install of 'harrypotter' from a github remote, the SHA1 (51f71461) has not changed since last install.\n",
      "  Use `force = TRUE` to force installation\n",
      "\n",
      "Installing package into ‘/home/terhorst/R/x86_64-pc-linux-gnu-library/4.2’\n",
      "(as ‘lib’ is unspecified)\n",
      "\n"
     ]
    }
   ],
   "source": [
    "library(tidyverse)\n",
    "install.packages('nycflights13')\n",
    "library(nycflights13)\n",
    "\n",
    "remotes::install_github(\"bradleyboehmke/harrypotter\")\n",
    "install.packages(\"tidytext\")\n",
    "library(harrypotter)"
   ]
  },
  {
   "cell_type": "markdown",
   "metadata": {
    "id": "m-DHRmHF1lev",
    "slideshow": {
     "slide_type": "slide"
    }
   },
   "source": [
    "# Lecture 17: Iteration and Functional Programming\n",
    "<div style=\"border: 1px double black; padding: 10px; margin: 10px\">\n",
    "\n",
    "**After today's lecture you will understand:**\n",
    "- [Iteration](#Iteration): `for`/`while` loops.\n",
    "- [Functional programming](#Functional-programming) (FP): functions that operate on other functions.\n",
    "</div>\n",
    "\n",
    "These notes correspond to Chapter 27 of the book."
   ]
  },
  {
   "cell_type": "markdown",
   "metadata": {
    "slideshow": {
     "slide_type": "slide"
    }
   },
   "source": [
    "## Doing the same thing over and over again\n",
    "Very often in programming, it happens that you need to perform the same \"action\" on multiple \"things\". Examples we have already seen in this class:\n",
    "- `facet_wrap()`, `facet_grid()`: make the same plot for various combinations of factors.\n",
    "- `group_by()` + `summarize()`: compute the same statistic for various groups of data."
   ]
  },
  {
   "cell_type": "markdown",
   "metadata": {},
   "source": [
    "We've also encountered examples where we needed to do the same thing repeatedly, but didn't have a ready-made function (so probably resorted to copy-paste). E.g. HW7: bind together all the Harry Potter books into one data frame."
   ]
  },
  {
   "cell_type": "markdown",
   "metadata": {
    "slideshow": {
     "slide_type": "slide"
    }
   },
   "source": [
    "### Performing the same action on multiple columns\n",
    "Consider the following table with four columns `a`-`d`:"
   ]
  },
  {
   "cell_type": "code",
   "execution_count": 114,
   "metadata": {},
   "outputs": [],
   "source": [
    "df <- tibble(\n",
    "  a = rnorm(10),\n",
    "  b = rnorm(10),\n",
    "  c = rnorm(10),\n",
    "  d = rnorm(10)\n",
    ") "
   ]
  },
  {
   "cell_type": "markdown",
   "metadata": {
    "slideshow": {
     "slide_type": "slide"
    }
   },
   "source": [
    "Yesterday we wrote a `z_score()` function which standardizes a vector of data to have unit variance and zero mean:"
   ]
  },
  {
   "cell_type": "code",
   "execution_count": 115,
   "metadata": {},
   "outputs": [],
   "source": [
    "z_score <- function(x, na.rm = F) {\n",
    "    (x - mean(x, na.rm = na.rm)) / sd(x, na.rm = na.rm)\n",
    "}"
   ]
  },
  {
   "cell_type": "markdown",
   "metadata": {
    "slideshow": {
     "slide_type": "notes"
    }
   },
   "source": [
    "Let's say we want to standardize the four coulmns in our data frame. Up to now, we would probably write:"
   ]
  },
  {
   "cell_type": "code",
   "execution_count": 123,
   "metadata": {},
   "outputs": [
    {
     "data": {
      "text/html": [
       "<table class=\"dataframe\">\n",
       "<caption>A tibble: 10 × 4</caption>\n",
       "<thead>\n",
       "\t<tr><th scope=col>a</th><th scope=col>b</th><th scope=col>c</th><th scope=col>d</th></tr>\n",
       "\t<tr><th scope=col>&lt;dbl&gt;</th><th scope=col>&lt;dbl&gt;</th><th scope=col>&lt;dbl&gt;</th><th scope=col>&lt;dbl&gt;</th></tr>\n",
       "</thead>\n",
       "<tbody>\n",
       "\t<tr><td> 0.72409008</td><td>-0.70393143</td><td> 1.1924754</td><td>-0.29949827</td></tr>\n",
       "\t<tr><td>-1.56141654</td><td>-0.07890655</td><td>-1.1618429</td><td> 0.89801898</td></tr>\n",
       "\t<tr><td> 1.86022146</td><td> 0.93414487</td><td> 1.5561287</td><td> 1.32706682</td></tr>\n",
       "\t<tr><td>-0.56019743</td><td>-0.15215302</td><td>-0.3015393</td><td>-0.34896719</td></tr>\n",
       "\t<tr><td>-1.23747188</td><td>-2.05026789</td><td> 0.5334608</td><td> 1.40534872</td></tr>\n",
       "\t<tr><td> 0.67424650</td><td> 0.93353630</td><td>-0.8232924</td><td>-1.63661498</td></tr>\n",
       "\t<tr><td> 0.34006590</td><td> 0.88949916</td><td>-1.0047129</td><td>-0.07999729</td></tr>\n",
       "\t<tr><td> 0.03132767</td><td>-0.14920954</td><td> 1.0098690</td><td>-0.03483162</td></tr>\n",
       "\t<tr><td> 0.11373725</td><td> 1.09493961</td><td>-0.1660276</td><td> 0.01828132</td></tr>\n",
       "\t<tr><td>-0.38460302</td><td>-0.71765150</td><td>-0.8345189</td><td>-1.24880648</td></tr>\n",
       "</tbody>\n",
       "</table>\n"
      ],
      "text/latex": [
       "A tibble: 10 × 4\n",
       "\\begin{tabular}{llll}\n",
       " a & b & c & d\\\\\n",
       " <dbl> & <dbl> & <dbl> & <dbl>\\\\\n",
       "\\hline\n",
       "\t  0.72409008 & -0.70393143 &  1.1924754 & -0.29949827\\\\\n",
       "\t -1.56141654 & -0.07890655 & -1.1618429 &  0.89801898\\\\\n",
       "\t  1.86022146 &  0.93414487 &  1.5561287 &  1.32706682\\\\\n",
       "\t -0.56019743 & -0.15215302 & -0.3015393 & -0.34896719\\\\\n",
       "\t -1.23747188 & -2.05026789 &  0.5334608 &  1.40534872\\\\\n",
       "\t  0.67424650 &  0.93353630 & -0.8232924 & -1.63661498\\\\\n",
       "\t  0.34006590 &  0.88949916 & -1.0047129 & -0.07999729\\\\\n",
       "\t  0.03132767 & -0.14920954 &  1.0098690 & -0.03483162\\\\\n",
       "\t  0.11373725 &  1.09493961 & -0.1660276 &  0.01828132\\\\\n",
       "\t -0.38460302 & -0.71765150 & -0.8345189 & -1.24880648\\\\\n",
       "\\end{tabular}\n"
      ],
      "text/markdown": [
       "\n",
       "A tibble: 10 × 4\n",
       "\n",
       "| a &lt;dbl&gt; | b &lt;dbl&gt; | c &lt;dbl&gt; | d &lt;dbl&gt; |\n",
       "|---|---|---|---|\n",
       "|  0.72409008 | -0.70393143 |  1.1924754 | -0.29949827 |\n",
       "| -1.56141654 | -0.07890655 | -1.1618429 |  0.89801898 |\n",
       "|  1.86022146 |  0.93414487 |  1.5561287 |  1.32706682 |\n",
       "| -0.56019743 | -0.15215302 | -0.3015393 | -0.34896719 |\n",
       "| -1.23747188 | -2.05026789 |  0.5334608 |  1.40534872 |\n",
       "|  0.67424650 |  0.93353630 | -0.8232924 | -1.63661498 |\n",
       "|  0.34006590 |  0.88949916 | -1.0047129 | -0.07999729 |\n",
       "|  0.03132767 | -0.14920954 |  1.0098690 | -0.03483162 |\n",
       "|  0.11373725 |  1.09493961 | -0.1660276 |  0.01828132 |\n",
       "| -0.38460302 | -0.71765150 | -0.8345189 | -1.24880648 |\n",
       "\n"
      ],
      "text/plain": [
       "   a           b           c          d          \n",
       "1   0.72409008 -0.70393143  1.1924754 -0.29949827\n",
       "2  -1.56141654 -0.07890655 -1.1618429  0.89801898\n",
       "3   1.86022146  0.93414487  1.5561287  1.32706682\n",
       "4  -0.56019743 -0.15215302 -0.3015393 -0.34896719\n",
       "5  -1.23747188 -2.05026789  0.5334608  1.40534872\n",
       "6   0.67424650  0.93353630 -0.8232924 -1.63661498\n",
       "7   0.34006590  0.88949916 -1.0047129 -0.07999729\n",
       "8   0.03132767 -0.14920954  1.0098690 -0.03483162\n",
       "9   0.11373725  1.09493961 -0.1660276  0.01828132\n",
       "10 -0.38460302 -0.71765150 -0.8345189 -1.24880648"
      ]
     },
     "metadata": {},
     "output_type": "display_data"
    }
   ],
   "source": [
    "# mutate the manual way \n",
    "df %>% mutate(a = range01(a), b = z_score(b), c = range01(c), d = range01(d))"
   ]
  },
  {
   "cell_type": "markdown",
   "metadata": {
    "slideshow": {
     "slide_type": "notes"
    }
   },
   "source": [
    "In the preceding example, we just copy-pasted the same bit of code four times. From now on, we shall adopt a rule: \"never copy-paste more than twice!\" If you find yourself copy-pasting code more than two times, it pays to think of a better way to accomplish the task at hand."
   ]
  },
  {
   "cell_type": "markdown",
   "metadata": {
    "slideshow": {
     "slide_type": "slide"
    }
   },
   "source": [
    "### `across()`\n",
    "The better way in this case is to use a new `dplyr` verb called `across()`. It's easiest to explain with an example:"
   ]
  },
  {
   "cell_type": "code",
   "execution_count": 126,
   "metadata": {},
   "outputs": [
    {
     "data": {
      "text/html": [
       "<table class=\"dataframe\">\n",
       "<caption>A tibble: 10 × 4</caption>\n",
       "<thead>\n",
       "\t<tr><th scope=col>a</th><th scope=col>b</th><th scope=col>c</th><th scope=col>d</th></tr>\n",
       "\t<tr><th scope=col>&lt;dbl&gt;</th><th scope=col>&lt;dbl&gt;</th><th scope=col>&lt;dbl&gt;</th><th scope=col>&lt;dbl&gt;</th></tr>\n",
       "</thead>\n",
       "<tbody>\n",
       "\t<tr><td> 0.72409008</td><td>-0.70393143</td><td> 1.1924754</td><td>-0.29949827</td></tr>\n",
       "\t<tr><td>-1.56141654</td><td>-0.07890655</td><td>-1.1618429</td><td> 0.89801898</td></tr>\n",
       "\t<tr><td> 1.86022146</td><td> 0.93414487</td><td> 1.5561287</td><td> 1.32706682</td></tr>\n",
       "\t<tr><td>-0.56019743</td><td>-0.15215302</td><td>-0.3015393</td><td>-0.34896719</td></tr>\n",
       "\t<tr><td>-1.23747188</td><td>-2.05026789</td><td> 0.5334608</td><td> 1.40534872</td></tr>\n",
       "\t<tr><td> 0.67424650</td><td> 0.93353630</td><td>-0.8232924</td><td>-1.63661498</td></tr>\n",
       "\t<tr><td> 0.34006590</td><td> 0.88949916</td><td>-1.0047129</td><td>-0.07999729</td></tr>\n",
       "\t<tr><td> 0.03132767</td><td>-0.14920954</td><td> 1.0098690</td><td>-0.03483162</td></tr>\n",
       "\t<tr><td> 0.11373725</td><td> 1.09493961</td><td>-0.1660276</td><td> 0.01828132</td></tr>\n",
       "\t<tr><td>-0.38460302</td><td>-0.71765150</td><td>-0.8345189</td><td>-1.24880648</td></tr>\n",
       "</tbody>\n",
       "</table>\n"
      ],
      "text/latex": [
       "A tibble: 10 × 4\n",
       "\\begin{tabular}{llll}\n",
       " a & b & c & d\\\\\n",
       " <dbl> & <dbl> & <dbl> & <dbl>\\\\\n",
       "\\hline\n",
       "\t  0.72409008 & -0.70393143 &  1.1924754 & -0.29949827\\\\\n",
       "\t -1.56141654 & -0.07890655 & -1.1618429 &  0.89801898\\\\\n",
       "\t  1.86022146 &  0.93414487 &  1.5561287 &  1.32706682\\\\\n",
       "\t -0.56019743 & -0.15215302 & -0.3015393 & -0.34896719\\\\\n",
       "\t -1.23747188 & -2.05026789 &  0.5334608 &  1.40534872\\\\\n",
       "\t  0.67424650 &  0.93353630 & -0.8232924 & -1.63661498\\\\\n",
       "\t  0.34006590 &  0.88949916 & -1.0047129 & -0.07999729\\\\\n",
       "\t  0.03132767 & -0.14920954 &  1.0098690 & -0.03483162\\\\\n",
       "\t  0.11373725 &  1.09493961 & -0.1660276 &  0.01828132\\\\\n",
       "\t -0.38460302 & -0.71765150 & -0.8345189 & -1.24880648\\\\\n",
       "\\end{tabular}\n"
      ],
      "text/markdown": [
       "\n",
       "A tibble: 10 × 4\n",
       "\n",
       "| a &lt;dbl&gt; | b &lt;dbl&gt; | c &lt;dbl&gt; | d &lt;dbl&gt; |\n",
       "|---|---|---|---|\n",
       "|  0.72409008 | -0.70393143 |  1.1924754 | -0.29949827 |\n",
       "| -1.56141654 | -0.07890655 | -1.1618429 |  0.89801898 |\n",
       "|  1.86022146 |  0.93414487 |  1.5561287 |  1.32706682 |\n",
       "| -0.56019743 | -0.15215302 | -0.3015393 | -0.34896719 |\n",
       "| -1.23747188 | -2.05026789 |  0.5334608 |  1.40534872 |\n",
       "|  0.67424650 |  0.93353630 | -0.8232924 | -1.63661498 |\n",
       "|  0.34006590 |  0.88949916 | -1.0047129 | -0.07999729 |\n",
       "|  0.03132767 | -0.14920954 |  1.0098690 | -0.03483162 |\n",
       "|  0.11373725 |  1.09493961 | -0.1660276 |  0.01828132 |\n",
       "| -0.38460302 | -0.71765150 | -0.8345189 | -1.24880648 |\n",
       "\n"
      ],
      "text/plain": [
       "   a           b           c          d          \n",
       "1   0.72409008 -0.70393143  1.1924754 -0.29949827\n",
       "2  -1.56141654 -0.07890655 -1.1618429  0.89801898\n",
       "3   1.86022146  0.93414487  1.5561287  1.32706682\n",
       "4  -0.56019743 -0.15215302 -0.3015393 -0.34896719\n",
       "5  -1.23747188 -2.05026789  0.5334608  1.40534872\n",
       "6   0.67424650  0.93353630 -0.8232924 -1.63661498\n",
       "7   0.34006590  0.88949916 -1.0047129 -0.07999729\n",
       "8   0.03132767 -0.14920954  1.0098690 -0.03483162\n",
       "9   0.11373725  1.09493961 -0.1660276  0.01828132\n",
       "10 -0.38460302 -0.71765150 -0.8345189 -1.24880648"
      ]
     },
     "metadata": {},
     "output_type": "display_data"
    }
   ],
   "source": [
    "# use across instead\n",
    "df %>% mutate( across(c(a, b, c, d), range01) )"
   ]
  },
  {
   "cell_type": "markdown",
   "metadata": {
    "slideshow": {
     "slide_type": "slide"
    }
   },
   "source": [
    "The columns selected by `across()` work in the same way as `select`:"
   ]
  },
  {
   "cell_type": "code",
   "execution_count": 155,
   "metadata": {},
   "outputs": [
    {
     "data": {
      "text/html": [
       "<table class=\"dataframe\">\n",
       "<caption>A tibble: 1 × 4</caption>\n",
       "<thead>\n",
       "\t<tr><th scope=col>a</th><th scope=col>b</th><th scope=col>c</th><th scope=col>d</th></tr>\n",
       "\t<tr><th scope=col>&lt;dbl&gt;</th><th scope=col>&lt;dbl&gt;</th><th scope=col>&lt;dbl&gt;</th><th scope=col>&lt;dbl&gt;</th></tr>\n",
       "</thead>\n",
       "<tbody>\n",
       "\t<tr><td>0.656898</td><td>-2.637864e-17</td><td>8.05237e-17</td><td>-1.872417e-17</td></tr>\n",
       "</tbody>\n",
       "</table>\n"
      ],
      "text/latex": [
       "A tibble: 1 × 4\n",
       "\\begin{tabular}{llll}\n",
       " a & b & c & d\\\\\n",
       " <dbl> & <dbl> & <dbl> & <dbl>\\\\\n",
       "\\hline\n",
       "\t 0.656898 & -2.637864e-17 & 8.05237e-17 & -1.872417e-17\\\\\n",
       "\\end{tabular}\n"
      ],
      "text/markdown": [
       "\n",
       "A tibble: 1 × 4\n",
       "\n",
       "| a &lt;dbl&gt; | b &lt;dbl&gt; | c &lt;dbl&gt; | d &lt;dbl&gt; |\n",
       "|---|---|---|---|\n",
       "| 0.656898 | -2.637864e-17 | 8.05237e-17 | -1.872417e-17 |\n",
       "\n"
      ],
      "text/plain": [
       "  a        b             c           d            \n",
       "1 0.656898 -2.637864e-17 8.05237e-17 -1.872417e-17"
      ]
     },
     "metadata": {},
     "output_type": "display_data"
    }
   ],
   "source": [
    "# standardize everything except column a, then compute the mean\n",
    "\n",
    "df %>% mutate(across(-a, z_score) ) %>% \n",
    "   summarize(across(a:d, \\(vec) mean(vec, na.rm = T)))"
   ]
  },
  {
   "cell_type": "markdown",
   "metadata": {
    "slideshow": {
     "slide_type": "slide"
    }
   },
   "source": [
    "### Selecting columns based on their type\n",
    "It only makes sense to standardize a numerical random variable. Hence, the following won't work:\n",
    "\n",
    "    mpg %>% mutate(across(everything(), z_score))\n",
    "    \n",
    "    "
   ]
  },
  {
   "cell_type": "markdown",
   "metadata": {
    "slideshow": {
     "slide_type": "notes"
    }
   },
   "source": [
    "Instead, we can use `where()` to select columns that have a particular type:"
   ]
  },
  {
   "cell_type": "code",
   "execution_count": 151,
   "metadata": {
    "slideshow": {
     "slide_type": "slide"
    }
   },
   "outputs": [
    {
     "name": "stderr",
     "output_type": "stream",
     "text": [
      "Warning message:\n",
      "“\u001b[1m\u001b[22mThere was 1 warning in `mutate()`.\n",
      "\u001b[1m\u001b[22m\u001b[36mℹ\u001b[39m In argument: `across(is.numeric, z_score)`.\n",
      "Caused by warning:\n",
      "\u001b[1m\u001b[22m\u001b[33m!\u001b[39m Use of bare predicate functions was deprecated in tidyselect 1.1.0.\n",
      "\u001b[36mℹ\u001b[39m Please use wrap predicates in `where()` instead.\n",
      "  # Was:\n",
      "  data %>% select(is.numeric)\n",
      "\n",
      "  # Now:\n",
      "  data %>% select(where(is.numeric))”\n"
     ]
    },
    {
     "data": {
      "text/html": [
       "<table class=\"dataframe\">\n",
       "<caption>A tibble: 234 × 11</caption>\n",
       "<thead>\n",
       "\t<tr><th scope=col>manufacturer</th><th scope=col>model</th><th scope=col>displ</th><th scope=col>year</th><th scope=col>cyl</th><th scope=col>trans</th><th scope=col>drv</th><th scope=col>cty</th><th scope=col>hwy</th><th scope=col>fl</th><th scope=col>class</th></tr>\n",
       "\t<tr><th scope=col>&lt;chr&gt;</th><th scope=col>&lt;chr&gt;</th><th scope=col>&lt;dbl&gt;</th><th scope=col>&lt;dbl&gt;</th><th scope=col>&lt;dbl&gt;</th><th scope=col>&lt;chr&gt;</th><th scope=col>&lt;chr&gt;</th><th scope=col>&lt;dbl&gt;</th><th scope=col>&lt;dbl&gt;</th><th scope=col>&lt;chr&gt;</th><th scope=col>&lt;chr&gt;</th></tr>\n",
       "</thead>\n",
       "<tbody>\n",
       "\t<tr><td>audi     </td><td>a4                </td><td>-1.2939999</td><td>-0.997861</td><td>-1.1721058</td><td>auto(l5)  </td><td>f</td><td> 0.26810155</td><td> 0.93369639</td><td>p</td><td>compact</td></tr>\n",
       "\t<tr><td>audi     </td><td>a4                </td><td>-1.2939999</td><td>-0.997861</td><td>-1.1721058</td><td>manual(m5)</td><td>f</td><td> 0.97299777</td><td> 0.93369639</td><td>p</td><td>compact</td></tr>\n",
       "\t<tr><td>audi     </td><td>a4                </td><td>-1.1391962</td><td> 0.997861</td><td>-1.1721058</td><td>manual(m6)</td><td>f</td><td> 0.73803236</td><td> 1.26956872</td><td>p</td><td>compact</td></tr>\n",
       "\t<tr><td>audi     </td><td>a4                </td><td>-1.1391962</td><td> 0.997861</td><td>-1.1721058</td><td>auto(av)  </td><td>f</td><td> 0.97299777</td><td> 1.10163255</td><td>p</td><td>compact</td></tr>\n",
       "\t<tr><td>audi     </td><td>a4                </td><td>-0.5199816</td><td>-0.997861</td><td> 0.0689474</td><td>auto(l5)  </td><td>f</td><td>-0.20182926</td><td> 0.42988788</td><td>p</td><td>compact</td></tr>\n",
       "\t<tr><td>audi     </td><td>a4                </td><td>-0.5199816</td><td>-0.997861</td><td> 0.0689474</td><td>manual(m5)</td><td>f</td><td> 0.26810155</td><td> 0.42988788</td><td>p</td><td>compact</td></tr>\n",
       "\t<tr><td>audi     </td><td>a4                </td><td>-0.2877761</td><td> 0.997861</td><td> 0.0689474</td><td>auto(av)  </td><td>f</td><td> 0.26810155</td><td> 0.59782405</td><td>p</td><td>compact</td></tr>\n",
       "\t<tr><td>audi     </td><td>a4 quattro        </td><td>-1.2939999</td><td>-0.997861</td><td>-1.1721058</td><td>manual(m5)</td><td>4</td><td> 0.26810155</td><td> 0.42988788</td><td>p</td><td>compact</td></tr>\n",
       "\t<tr><td>audi     </td><td>a4 quattro        </td><td>-1.2939999</td><td>-0.997861</td><td>-1.1721058</td><td>auto(l5)  </td><td>4</td><td>-0.20182926</td><td> 0.26195171</td><td>p</td><td>compact</td></tr>\n",
       "\t<tr><td>audi     </td><td>a4 quattro        </td><td>-1.1391962</td><td> 0.997861</td><td>-1.1721058</td><td>manual(m6)</td><td>4</td><td> 0.73803236</td><td> 0.76576022</td><td>p</td><td>compact</td></tr>\n",
       "\t<tr><td>audi     </td><td>a4 quattro        </td><td>-1.1391962</td><td> 0.997861</td><td>-1.1721058</td><td>auto(s6)  </td><td>4</td><td> 0.50306696</td><td> 0.59782405</td><td>p</td><td>compact</td></tr>\n",
       "\t<tr><td>audi     </td><td>a4 quattro        </td><td>-0.5199816</td><td>-0.997861</td><td> 0.0689474</td><td>auto(l5)  </td><td>4</td><td>-0.43679466</td><td> 0.26195171</td><td>p</td><td>compact</td></tr>\n",
       "\t<tr><td>audi     </td><td>a4 quattro        </td><td>-0.5199816</td><td>-0.997861</td><td> 0.0689474</td><td>manual(m5)</td><td>4</td><td> 0.03313615</td><td> 0.26195171</td><td>p</td><td>compact</td></tr>\n",
       "\t<tr><td>audi     </td><td>a4 quattro        </td><td>-0.2877761</td><td> 0.997861</td><td> 0.0689474</td><td>auto(s6)  </td><td>4</td><td> 0.03313615</td><td> 0.26195171</td><td>p</td><td>compact</td></tr>\n",
       "\t<tr><td>audi     </td><td>a4 quattro        </td><td>-0.2877761</td><td> 0.997861</td><td> 0.0689474</td><td>manual(m6)</td><td>4</td><td>-0.43679466</td><td> 0.26195171</td><td>p</td><td>compact</td></tr>\n",
       "\t<tr><td>audi     </td><td>a6 quattro        </td><td>-0.5199816</td><td>-0.997861</td><td> 0.0689474</td><td>auto(l5)  </td><td>4</td><td>-0.43679466</td><td> 0.09401555</td><td>p</td><td>midsize</td></tr>\n",
       "\t<tr><td>audi     </td><td>a6 quattro        </td><td>-0.2877761</td><td> 0.997861</td><td> 0.0689474</td><td>auto(s6)  </td><td>4</td><td> 0.03313615</td><td> 0.26195171</td><td>p</td><td>midsize</td></tr>\n",
       "\t<tr><td>audi     </td><td>a6 quattro        </td><td> 0.5636441</td><td> 0.997861</td><td> 1.3100006</td><td>auto(s6)  </td><td>4</td><td>-0.20182926</td><td>-0.07392062</td><td>p</td><td>midsize</td></tr>\n",
       "\t<tr><td>chevrolet</td><td>c1500 suburban 2wd</td><td> 1.4150643</td><td> 0.997861</td><td> 1.3100006</td><td>auto(l4)  </td><td>r</td><td>-0.67176007</td><td>-0.57772912</td><td>r</td><td>suv    </td></tr>\n",
       "\t<tr><td>chevrolet</td><td>c1500 suburban 2wd</td><td> 1.4150643</td><td> 0.997861</td><td> 1.3100006</td><td>auto(l4)  </td><td>r</td><td>-1.37665628</td><td>-1.41740996</td><td>e</td><td>suv    </td></tr>\n",
       "\t<tr><td>chevrolet</td><td>c1500 suburban 2wd</td><td> 1.4150643</td><td> 0.997861</td><td> 1.3100006</td><td>auto(l4)  </td><td>r</td><td>-0.67176007</td><td>-0.57772912</td><td>r</td><td>suv    </td></tr>\n",
       "\t<tr><td>chevrolet</td><td>c1500 suburban 2wd</td><td> 1.7246717</td><td>-0.997861</td><td> 1.3100006</td><td>auto(l4)  </td><td>r</td><td>-0.90672547</td><td>-1.08153763</td><td>r</td><td>suv    </td></tr>\n",
       "\t<tr><td>chevrolet</td><td>c1500 suburban 2wd</td><td> 1.9568772</td><td> 0.997861</td><td> 1.3100006</td><td>auto(l4)  </td><td>r</td><td>-1.14169088</td><td>-1.08153763</td><td>r</td><td>suv    </td></tr>\n",
       "\t<tr><td>chevrolet</td><td>corvette          </td><td> 1.7246717</td><td>-0.997861</td><td> 1.3100006</td><td>manual(m6)</td><td>r</td><td>-0.20182926</td><td> 0.42988788</td><td>p</td><td>2seater</td></tr>\n",
       "\t<tr><td>chevrolet</td><td>corvette          </td><td> 1.7246717</td><td>-0.997861</td><td> 1.3100006</td><td>auto(l4)  </td><td>r</td><td>-0.43679466</td><td>-0.07392062</td><td>p</td><td>2seater</td></tr>\n",
       "\t<tr><td>chevrolet</td><td>corvette          </td><td> 2.1116808</td><td> 0.997861</td><td> 1.3100006</td><td>manual(m6)</td><td>r</td><td>-0.20182926</td><td> 0.42988788</td><td>p</td><td>2seater</td></tr>\n",
       "\t<tr><td>chevrolet</td><td>corvette          </td><td> 2.1116808</td><td> 0.997861</td><td> 1.3100006</td><td>auto(s6)  </td><td>r</td><td>-0.43679466</td><td> 0.26195171</td><td>p</td><td>2seater</td></tr>\n",
       "\t<tr><td>chevrolet</td><td>corvette          </td><td> 2.7308955</td><td> 0.997861</td><td> 1.3100006</td><td>manual(m6)</td><td>r</td><td>-0.43679466</td><td> 0.09401555</td><td>p</td><td>2seater</td></tr>\n",
       "\t<tr><td>chevrolet</td><td>k1500 tahoe 4wd   </td><td> 1.4150643</td><td> 0.997861</td><td> 1.3100006</td><td>auto(l4)  </td><td>4</td><td>-0.67176007</td><td>-0.74566529</td><td>r</td><td>suv    </td></tr>\n",
       "\t<tr><td>chevrolet</td><td>k1500 tahoe 4wd   </td><td> 1.4150643</td><td> 0.997861</td><td> 1.3100006</td><td>auto(l4)  </td><td>4</td><td>-1.37665628</td><td>-1.58534613</td><td>e</td><td>suv    </td></tr>\n",
       "\t<tr><td>⋮</td><td>⋮</td><td>⋮</td><td>⋮</td><td>⋮</td><td>⋮</td><td>⋮</td><td>⋮</td><td>⋮</td><td>⋮</td><td>⋮</td></tr>\n",
       "\t<tr><td>toyota    </td><td>toyota tacoma 4wd</td><td>-0.05557055</td><td>-0.997861</td><td> 0.0689474</td><td>auto(l4)  </td><td>4</td><td>-0.43679466</td><td>-0.74566529</td><td>r</td><td>pickup    </td></tr>\n",
       "\t<tr><td>toyota    </td><td>toyota tacoma 4wd</td><td> 0.40884046</td><td> 0.997861</td><td> 0.0689474</td><td>manual(m6)</td><td>4</td><td>-0.43679466</td><td>-0.91360146</td><td>r</td><td>pickup    </td></tr>\n",
       "\t<tr><td>toyota    </td><td>toyota tacoma 4wd</td><td> 0.40884046</td><td> 0.997861</td><td> 0.0689474</td><td>auto(l5)  </td><td>4</td><td>-0.20182926</td><td>-0.57772912</td><td>r</td><td>pickup    </td></tr>\n",
       "\t<tr><td>volkswagen</td><td>gti              </td><td>-1.13919624</td><td>-0.997861</td><td>-1.1721058</td><td>manual(m5)</td><td>f</td><td> 0.97299777</td><td> 0.93369639</td><td>r</td><td>compact   </td></tr>\n",
       "\t<tr><td>volkswagen</td><td>gti              </td><td>-1.13919624</td><td>-0.997861</td><td>-1.1721058</td><td>auto(l4)  </td><td>f</td><td> 0.50306696</td><td> 0.42988788</td><td>r</td><td>compact   </td></tr>\n",
       "\t<tr><td>volkswagen</td><td>gti              </td><td>-1.13919624</td><td> 0.997861</td><td>-1.1721058</td><td>manual(m6)</td><td>f</td><td> 0.97299777</td><td> 0.93369639</td><td>p</td><td>compact   </td></tr>\n",
       "\t<tr><td>volkswagen</td><td>gti              </td><td>-1.13919624</td><td> 0.997861</td><td>-1.1721058</td><td>auto(s6)  </td><td>f</td><td> 1.20796317</td><td> 0.93369639</td><td>p</td><td>compact   </td></tr>\n",
       "\t<tr><td>volkswagen</td><td>gti              </td><td>-0.51998156</td><td>-0.997861</td><td> 0.0689474</td><td>manual(m5)</td><td>f</td><td> 0.03313615</td><td> 0.09401555</td><td>r</td><td>compact   </td></tr>\n",
       "\t<tr><td>volkswagen</td><td>jetta            </td><td>-1.21659808</td><td>-0.997861</td><td>-1.1721058</td><td>manual(m5)</td><td>f</td><td> 3.79258263</td><td> 3.45273890</td><td>d</td><td>compact   </td></tr>\n",
       "\t<tr><td>volkswagen</td><td>jetta            </td><td>-1.13919624</td><td>-0.997861</td><td>-1.1721058</td><td>manual(m5)</td><td>f</td><td> 0.97299777</td><td> 0.93369639</td><td>r</td><td>compact   </td></tr>\n",
       "\t<tr><td>volkswagen</td><td>jetta            </td><td>-1.13919624</td><td>-0.997861</td><td>-1.1721058</td><td>auto(l4)  </td><td>f</td><td> 0.50306696</td><td> 0.42988788</td><td>r</td><td>compact   </td></tr>\n",
       "\t<tr><td>volkswagen</td><td>jetta            </td><td>-1.13919624</td><td> 0.997861</td><td>-1.1721058</td><td>auto(s6)  </td><td>f</td><td> 1.20796317</td><td> 0.93369639</td><td>p</td><td>compact   </td></tr>\n",
       "\t<tr><td>volkswagen</td><td>jetta            </td><td>-1.13919624</td><td> 0.997861</td><td>-1.1721058</td><td>manual(m6)</td><td>f</td><td> 0.97299777</td><td> 0.93369639</td><td>p</td><td>compact   </td></tr>\n",
       "\t<tr><td>volkswagen</td><td>jetta            </td><td>-0.75218707</td><td> 0.997861</td><td>-0.5515792</td><td>auto(s6)  </td><td>f</td><td> 0.97299777</td><td> 0.93369639</td><td>r</td><td>compact   </td></tr>\n",
       "\t<tr><td>volkswagen</td><td>jetta            </td><td>-0.75218707</td><td> 0.997861</td><td>-0.5515792</td><td>manual(m5)</td><td>f</td><td> 0.97299777</td><td> 0.93369639</td><td>r</td><td>compact   </td></tr>\n",
       "\t<tr><td>volkswagen</td><td>jetta            </td><td>-0.51998156</td><td>-0.997861</td><td> 0.0689474</td><td>auto(l4)  </td><td>f</td><td>-0.20182926</td><td>-0.07392062</td><td>r</td><td>compact   </td></tr>\n",
       "\t<tr><td>volkswagen</td><td>jetta            </td><td>-0.51998156</td><td>-0.997861</td><td> 0.0689474</td><td>manual(m5)</td><td>f</td><td> 0.03313615</td><td> 0.09401555</td><td>r</td><td>compact   </td></tr>\n",
       "\t<tr><td>volkswagen</td><td>new beetle       </td><td>-1.21659808</td><td>-0.997861</td><td>-1.1721058</td><td>manual(m5)</td><td>f</td><td> 4.26251344</td><td> 3.45273890</td><td>d</td><td>subcompact</td></tr>\n",
       "\t<tr><td>volkswagen</td><td>new beetle       </td><td>-1.21659808</td><td>-0.997861</td><td>-1.1721058</td><td>auto(l4)  </td><td>f</td><td> 2.85272101</td><td> 2.94893040</td><td>d</td><td>subcompact</td></tr>\n",
       "\t<tr><td>volkswagen</td><td>new beetle       </td><td>-1.13919624</td><td>-0.997861</td><td>-1.1721058</td><td>manual(m5)</td><td>f</td><td> 0.97299777</td><td> 0.93369639</td><td>r</td><td>subcompact</td></tr>\n",
       "\t<tr><td>volkswagen</td><td>new beetle       </td><td>-1.13919624</td><td>-0.997861</td><td>-1.1721058</td><td>auto(l4)  </td><td>f</td><td> 0.50306696</td><td> 0.42988788</td><td>r</td><td>subcompact</td></tr>\n",
       "\t<tr><td>volkswagen</td><td>new beetle       </td><td>-0.75218707</td><td> 0.997861</td><td>-0.5515792</td><td>manual(m5)</td><td>f</td><td> 0.73803236</td><td> 0.76576022</td><td>r</td><td>subcompact</td></tr>\n",
       "\t<tr><td>volkswagen</td><td>new beetle       </td><td>-0.75218707</td><td> 0.997861</td><td>-0.5515792</td><td>auto(s6)  </td><td>f</td><td> 0.73803236</td><td> 0.93369639</td><td>r</td><td>subcompact</td></tr>\n",
       "\t<tr><td>volkswagen</td><td>passat           </td><td>-1.29399991</td><td>-0.997861</td><td>-1.1721058</td><td>manual(m5)</td><td>f</td><td> 0.97299777</td><td> 0.93369639</td><td>p</td><td>midsize   </td></tr>\n",
       "\t<tr><td>volkswagen</td><td>passat           </td><td>-1.29399991</td><td>-0.997861</td><td>-1.1721058</td><td>auto(l5)  </td><td>f</td><td> 0.26810155</td><td> 0.93369639</td><td>p</td><td>midsize   </td></tr>\n",
       "\t<tr><td>volkswagen</td><td>passat           </td><td>-1.13919624</td><td> 0.997861</td><td>-1.1721058</td><td>auto(s6)  </td><td>f</td><td> 0.50306696</td><td> 0.76576022</td><td>p</td><td>midsize   </td></tr>\n",
       "\t<tr><td>volkswagen</td><td>passat           </td><td>-1.13919624</td><td> 0.997861</td><td>-1.1721058</td><td>manual(m6)</td><td>f</td><td> 0.97299777</td><td> 0.93369639</td><td>p</td><td>midsize   </td></tr>\n",
       "\t<tr><td>volkswagen</td><td>passat           </td><td>-0.51998156</td><td>-0.997861</td><td> 0.0689474</td><td>auto(l5)  </td><td>f</td><td>-0.20182926</td><td> 0.42988788</td><td>p</td><td>midsize   </td></tr>\n",
       "\t<tr><td>volkswagen</td><td>passat           </td><td>-0.51998156</td><td>-0.997861</td><td> 0.0689474</td><td>manual(m5)</td><td>f</td><td> 0.26810155</td><td> 0.42988788</td><td>p</td><td>midsize   </td></tr>\n",
       "\t<tr><td>volkswagen</td><td>passat           </td><td> 0.09923312</td><td> 0.997861</td><td> 0.0689474</td><td>auto(s6)  </td><td>f</td><td> 0.03313615</td><td> 0.42988788</td><td>p</td><td>midsize   </td></tr>\n",
       "</tbody>\n",
       "</table>\n"
      ],
      "text/latex": [
       "A tibble: 234 × 11\n",
       "\\begin{tabular}{lllllllllll}\n",
       " manufacturer & model & displ & year & cyl & trans & drv & cty & hwy & fl & class\\\\\n",
       " <chr> & <chr> & <dbl> & <dbl> & <dbl> & <chr> & <chr> & <dbl> & <dbl> & <chr> & <chr>\\\\\n",
       "\\hline\n",
       "\t audi      & a4                 & -1.2939999 & -0.997861 & -1.1721058 & auto(l5)   & f &  0.26810155 &  0.93369639 & p & compact\\\\\n",
       "\t audi      & a4                 & -1.2939999 & -0.997861 & -1.1721058 & manual(m5) & f &  0.97299777 &  0.93369639 & p & compact\\\\\n",
       "\t audi      & a4                 & -1.1391962 &  0.997861 & -1.1721058 & manual(m6) & f &  0.73803236 &  1.26956872 & p & compact\\\\\n",
       "\t audi      & a4                 & -1.1391962 &  0.997861 & -1.1721058 & auto(av)   & f &  0.97299777 &  1.10163255 & p & compact\\\\\n",
       "\t audi      & a4                 & -0.5199816 & -0.997861 &  0.0689474 & auto(l5)   & f & -0.20182926 &  0.42988788 & p & compact\\\\\n",
       "\t audi      & a4                 & -0.5199816 & -0.997861 &  0.0689474 & manual(m5) & f &  0.26810155 &  0.42988788 & p & compact\\\\\n",
       "\t audi      & a4                 & -0.2877761 &  0.997861 &  0.0689474 & auto(av)   & f &  0.26810155 &  0.59782405 & p & compact\\\\\n",
       "\t audi      & a4 quattro         & -1.2939999 & -0.997861 & -1.1721058 & manual(m5) & 4 &  0.26810155 &  0.42988788 & p & compact\\\\\n",
       "\t audi      & a4 quattro         & -1.2939999 & -0.997861 & -1.1721058 & auto(l5)   & 4 & -0.20182926 &  0.26195171 & p & compact\\\\\n",
       "\t audi      & a4 quattro         & -1.1391962 &  0.997861 & -1.1721058 & manual(m6) & 4 &  0.73803236 &  0.76576022 & p & compact\\\\\n",
       "\t audi      & a4 quattro         & -1.1391962 &  0.997861 & -1.1721058 & auto(s6)   & 4 &  0.50306696 &  0.59782405 & p & compact\\\\\n",
       "\t audi      & a4 quattro         & -0.5199816 & -0.997861 &  0.0689474 & auto(l5)   & 4 & -0.43679466 &  0.26195171 & p & compact\\\\\n",
       "\t audi      & a4 quattro         & -0.5199816 & -0.997861 &  0.0689474 & manual(m5) & 4 &  0.03313615 &  0.26195171 & p & compact\\\\\n",
       "\t audi      & a4 quattro         & -0.2877761 &  0.997861 &  0.0689474 & auto(s6)   & 4 &  0.03313615 &  0.26195171 & p & compact\\\\\n",
       "\t audi      & a4 quattro         & -0.2877761 &  0.997861 &  0.0689474 & manual(m6) & 4 & -0.43679466 &  0.26195171 & p & compact\\\\\n",
       "\t audi      & a6 quattro         & -0.5199816 & -0.997861 &  0.0689474 & auto(l5)   & 4 & -0.43679466 &  0.09401555 & p & midsize\\\\\n",
       "\t audi      & a6 quattro         & -0.2877761 &  0.997861 &  0.0689474 & auto(s6)   & 4 &  0.03313615 &  0.26195171 & p & midsize\\\\\n",
       "\t audi      & a6 quattro         &  0.5636441 &  0.997861 &  1.3100006 & auto(s6)   & 4 & -0.20182926 & -0.07392062 & p & midsize\\\\\n",
       "\t chevrolet & c1500 suburban 2wd &  1.4150643 &  0.997861 &  1.3100006 & auto(l4)   & r & -0.67176007 & -0.57772912 & r & suv    \\\\\n",
       "\t chevrolet & c1500 suburban 2wd &  1.4150643 &  0.997861 &  1.3100006 & auto(l4)   & r & -1.37665628 & -1.41740996 & e & suv    \\\\\n",
       "\t chevrolet & c1500 suburban 2wd &  1.4150643 &  0.997861 &  1.3100006 & auto(l4)   & r & -0.67176007 & -0.57772912 & r & suv    \\\\\n",
       "\t chevrolet & c1500 suburban 2wd &  1.7246717 & -0.997861 &  1.3100006 & auto(l4)   & r & -0.90672547 & -1.08153763 & r & suv    \\\\\n",
       "\t chevrolet & c1500 suburban 2wd &  1.9568772 &  0.997861 &  1.3100006 & auto(l4)   & r & -1.14169088 & -1.08153763 & r & suv    \\\\\n",
       "\t chevrolet & corvette           &  1.7246717 & -0.997861 &  1.3100006 & manual(m6) & r & -0.20182926 &  0.42988788 & p & 2seater\\\\\n",
       "\t chevrolet & corvette           &  1.7246717 & -0.997861 &  1.3100006 & auto(l4)   & r & -0.43679466 & -0.07392062 & p & 2seater\\\\\n",
       "\t chevrolet & corvette           &  2.1116808 &  0.997861 &  1.3100006 & manual(m6) & r & -0.20182926 &  0.42988788 & p & 2seater\\\\\n",
       "\t chevrolet & corvette           &  2.1116808 &  0.997861 &  1.3100006 & auto(s6)   & r & -0.43679466 &  0.26195171 & p & 2seater\\\\\n",
       "\t chevrolet & corvette           &  2.7308955 &  0.997861 &  1.3100006 & manual(m6) & r & -0.43679466 &  0.09401555 & p & 2seater\\\\\n",
       "\t chevrolet & k1500 tahoe 4wd    &  1.4150643 &  0.997861 &  1.3100006 & auto(l4)   & 4 & -0.67176007 & -0.74566529 & r & suv    \\\\\n",
       "\t chevrolet & k1500 tahoe 4wd    &  1.4150643 &  0.997861 &  1.3100006 & auto(l4)   & 4 & -1.37665628 & -1.58534613 & e & suv    \\\\\n",
       "\t ⋮ & ⋮ & ⋮ & ⋮ & ⋮ & ⋮ & ⋮ & ⋮ & ⋮ & ⋮ & ⋮\\\\\n",
       "\t toyota     & toyota tacoma 4wd & -0.05557055 & -0.997861 &  0.0689474 & auto(l4)   & 4 & -0.43679466 & -0.74566529 & r & pickup    \\\\\n",
       "\t toyota     & toyota tacoma 4wd &  0.40884046 &  0.997861 &  0.0689474 & manual(m6) & 4 & -0.43679466 & -0.91360146 & r & pickup    \\\\\n",
       "\t toyota     & toyota tacoma 4wd &  0.40884046 &  0.997861 &  0.0689474 & auto(l5)   & 4 & -0.20182926 & -0.57772912 & r & pickup    \\\\\n",
       "\t volkswagen & gti               & -1.13919624 & -0.997861 & -1.1721058 & manual(m5) & f &  0.97299777 &  0.93369639 & r & compact   \\\\\n",
       "\t volkswagen & gti               & -1.13919624 & -0.997861 & -1.1721058 & auto(l4)   & f &  0.50306696 &  0.42988788 & r & compact   \\\\\n",
       "\t volkswagen & gti               & -1.13919624 &  0.997861 & -1.1721058 & manual(m6) & f &  0.97299777 &  0.93369639 & p & compact   \\\\\n",
       "\t volkswagen & gti               & -1.13919624 &  0.997861 & -1.1721058 & auto(s6)   & f &  1.20796317 &  0.93369639 & p & compact   \\\\\n",
       "\t volkswagen & gti               & -0.51998156 & -0.997861 &  0.0689474 & manual(m5) & f &  0.03313615 &  0.09401555 & r & compact   \\\\\n",
       "\t volkswagen & jetta             & -1.21659808 & -0.997861 & -1.1721058 & manual(m5) & f &  3.79258263 &  3.45273890 & d & compact   \\\\\n",
       "\t volkswagen & jetta             & -1.13919624 & -0.997861 & -1.1721058 & manual(m5) & f &  0.97299777 &  0.93369639 & r & compact   \\\\\n",
       "\t volkswagen & jetta             & -1.13919624 & -0.997861 & -1.1721058 & auto(l4)   & f &  0.50306696 &  0.42988788 & r & compact   \\\\\n",
       "\t volkswagen & jetta             & -1.13919624 &  0.997861 & -1.1721058 & auto(s6)   & f &  1.20796317 &  0.93369639 & p & compact   \\\\\n",
       "\t volkswagen & jetta             & -1.13919624 &  0.997861 & -1.1721058 & manual(m6) & f &  0.97299777 &  0.93369639 & p & compact   \\\\\n",
       "\t volkswagen & jetta             & -0.75218707 &  0.997861 & -0.5515792 & auto(s6)   & f &  0.97299777 &  0.93369639 & r & compact   \\\\\n",
       "\t volkswagen & jetta             & -0.75218707 &  0.997861 & -0.5515792 & manual(m5) & f &  0.97299777 &  0.93369639 & r & compact   \\\\\n",
       "\t volkswagen & jetta             & -0.51998156 & -0.997861 &  0.0689474 & auto(l4)   & f & -0.20182926 & -0.07392062 & r & compact   \\\\\n",
       "\t volkswagen & jetta             & -0.51998156 & -0.997861 &  0.0689474 & manual(m5) & f &  0.03313615 &  0.09401555 & r & compact   \\\\\n",
       "\t volkswagen & new beetle        & -1.21659808 & -0.997861 & -1.1721058 & manual(m5) & f &  4.26251344 &  3.45273890 & d & subcompact\\\\\n",
       "\t volkswagen & new beetle        & -1.21659808 & -0.997861 & -1.1721058 & auto(l4)   & f &  2.85272101 &  2.94893040 & d & subcompact\\\\\n",
       "\t volkswagen & new beetle        & -1.13919624 & -0.997861 & -1.1721058 & manual(m5) & f &  0.97299777 &  0.93369639 & r & subcompact\\\\\n",
       "\t volkswagen & new beetle        & -1.13919624 & -0.997861 & -1.1721058 & auto(l4)   & f &  0.50306696 &  0.42988788 & r & subcompact\\\\\n",
       "\t volkswagen & new beetle        & -0.75218707 &  0.997861 & -0.5515792 & manual(m5) & f &  0.73803236 &  0.76576022 & r & subcompact\\\\\n",
       "\t volkswagen & new beetle        & -0.75218707 &  0.997861 & -0.5515792 & auto(s6)   & f &  0.73803236 &  0.93369639 & r & subcompact\\\\\n",
       "\t volkswagen & passat            & -1.29399991 & -0.997861 & -1.1721058 & manual(m5) & f &  0.97299777 &  0.93369639 & p & midsize   \\\\\n",
       "\t volkswagen & passat            & -1.29399991 & -0.997861 & -1.1721058 & auto(l5)   & f &  0.26810155 &  0.93369639 & p & midsize   \\\\\n",
       "\t volkswagen & passat            & -1.13919624 &  0.997861 & -1.1721058 & auto(s6)   & f &  0.50306696 &  0.76576022 & p & midsize   \\\\\n",
       "\t volkswagen & passat            & -1.13919624 &  0.997861 & -1.1721058 & manual(m6) & f &  0.97299777 &  0.93369639 & p & midsize   \\\\\n",
       "\t volkswagen & passat            & -0.51998156 & -0.997861 &  0.0689474 & auto(l5)   & f & -0.20182926 &  0.42988788 & p & midsize   \\\\\n",
       "\t volkswagen & passat            & -0.51998156 & -0.997861 &  0.0689474 & manual(m5) & f &  0.26810155 &  0.42988788 & p & midsize   \\\\\n",
       "\t volkswagen & passat            &  0.09923312 &  0.997861 &  0.0689474 & auto(s6)   & f &  0.03313615 &  0.42988788 & p & midsize   \\\\\n",
       "\\end{tabular}\n"
      ],
      "text/markdown": [
       "\n",
       "A tibble: 234 × 11\n",
       "\n",
       "| manufacturer &lt;chr&gt; | model &lt;chr&gt; | displ &lt;dbl&gt; | year &lt;dbl&gt; | cyl &lt;dbl&gt; | trans &lt;chr&gt; | drv &lt;chr&gt; | cty &lt;dbl&gt; | hwy &lt;dbl&gt; | fl &lt;chr&gt; | class &lt;chr&gt; |\n",
       "|---|---|---|---|---|---|---|---|---|---|---|\n",
       "| audi      | a4                 | -1.2939999 | -0.997861 | -1.1721058 | auto(l5)   | f |  0.26810155 |  0.93369639 | p | compact |\n",
       "| audi      | a4                 | -1.2939999 | -0.997861 | -1.1721058 | manual(m5) | f |  0.97299777 |  0.93369639 | p | compact |\n",
       "| audi      | a4                 | -1.1391962 |  0.997861 | -1.1721058 | manual(m6) | f |  0.73803236 |  1.26956872 | p | compact |\n",
       "| audi      | a4                 | -1.1391962 |  0.997861 | -1.1721058 | auto(av)   | f |  0.97299777 |  1.10163255 | p | compact |\n",
       "| audi      | a4                 | -0.5199816 | -0.997861 |  0.0689474 | auto(l5)   | f | -0.20182926 |  0.42988788 | p | compact |\n",
       "| audi      | a4                 | -0.5199816 | -0.997861 |  0.0689474 | manual(m5) | f |  0.26810155 |  0.42988788 | p | compact |\n",
       "| audi      | a4                 | -0.2877761 |  0.997861 |  0.0689474 | auto(av)   | f |  0.26810155 |  0.59782405 | p | compact |\n",
       "| audi      | a4 quattro         | -1.2939999 | -0.997861 | -1.1721058 | manual(m5) | 4 |  0.26810155 |  0.42988788 | p | compact |\n",
       "| audi      | a4 quattro         | -1.2939999 | -0.997861 | -1.1721058 | auto(l5)   | 4 | -0.20182926 |  0.26195171 | p | compact |\n",
       "| audi      | a4 quattro         | -1.1391962 |  0.997861 | -1.1721058 | manual(m6) | 4 |  0.73803236 |  0.76576022 | p | compact |\n",
       "| audi      | a4 quattro         | -1.1391962 |  0.997861 | -1.1721058 | auto(s6)   | 4 |  0.50306696 |  0.59782405 | p | compact |\n",
       "| audi      | a4 quattro         | -0.5199816 | -0.997861 |  0.0689474 | auto(l5)   | 4 | -0.43679466 |  0.26195171 | p | compact |\n",
       "| audi      | a4 quattro         | -0.5199816 | -0.997861 |  0.0689474 | manual(m5) | 4 |  0.03313615 |  0.26195171 | p | compact |\n",
       "| audi      | a4 quattro         | -0.2877761 |  0.997861 |  0.0689474 | auto(s6)   | 4 |  0.03313615 |  0.26195171 | p | compact |\n",
       "| audi      | a4 quattro         | -0.2877761 |  0.997861 |  0.0689474 | manual(m6) | 4 | -0.43679466 |  0.26195171 | p | compact |\n",
       "| audi      | a6 quattro         | -0.5199816 | -0.997861 |  0.0689474 | auto(l5)   | 4 | -0.43679466 |  0.09401555 | p | midsize |\n",
       "| audi      | a6 quattro         | -0.2877761 |  0.997861 |  0.0689474 | auto(s6)   | 4 |  0.03313615 |  0.26195171 | p | midsize |\n",
       "| audi      | a6 quattro         |  0.5636441 |  0.997861 |  1.3100006 | auto(s6)   | 4 | -0.20182926 | -0.07392062 | p | midsize |\n",
       "| chevrolet | c1500 suburban 2wd |  1.4150643 |  0.997861 |  1.3100006 | auto(l4)   | r | -0.67176007 | -0.57772912 | r | suv     |\n",
       "| chevrolet | c1500 suburban 2wd |  1.4150643 |  0.997861 |  1.3100006 | auto(l4)   | r | -1.37665628 | -1.41740996 | e | suv     |\n",
       "| chevrolet | c1500 suburban 2wd |  1.4150643 |  0.997861 |  1.3100006 | auto(l4)   | r | -0.67176007 | -0.57772912 | r | suv     |\n",
       "| chevrolet | c1500 suburban 2wd |  1.7246717 | -0.997861 |  1.3100006 | auto(l4)   | r | -0.90672547 | -1.08153763 | r | suv     |\n",
       "| chevrolet | c1500 suburban 2wd |  1.9568772 |  0.997861 |  1.3100006 | auto(l4)   | r | -1.14169088 | -1.08153763 | r | suv     |\n",
       "| chevrolet | corvette           |  1.7246717 | -0.997861 |  1.3100006 | manual(m6) | r | -0.20182926 |  0.42988788 | p | 2seater |\n",
       "| chevrolet | corvette           |  1.7246717 | -0.997861 |  1.3100006 | auto(l4)   | r | -0.43679466 | -0.07392062 | p | 2seater |\n",
       "| chevrolet | corvette           |  2.1116808 |  0.997861 |  1.3100006 | manual(m6) | r | -0.20182926 |  0.42988788 | p | 2seater |\n",
       "| chevrolet | corvette           |  2.1116808 |  0.997861 |  1.3100006 | auto(s6)   | r | -0.43679466 |  0.26195171 | p | 2seater |\n",
       "| chevrolet | corvette           |  2.7308955 |  0.997861 |  1.3100006 | manual(m6) | r | -0.43679466 |  0.09401555 | p | 2seater |\n",
       "| chevrolet | k1500 tahoe 4wd    |  1.4150643 |  0.997861 |  1.3100006 | auto(l4)   | 4 | -0.67176007 | -0.74566529 | r | suv     |\n",
       "| chevrolet | k1500 tahoe 4wd    |  1.4150643 |  0.997861 |  1.3100006 | auto(l4)   | 4 | -1.37665628 | -1.58534613 | e | suv     |\n",
       "| ⋮ | ⋮ | ⋮ | ⋮ | ⋮ | ⋮ | ⋮ | ⋮ | ⋮ | ⋮ | ⋮ |\n",
       "| toyota     | toyota tacoma 4wd | -0.05557055 | -0.997861 |  0.0689474 | auto(l4)   | 4 | -0.43679466 | -0.74566529 | r | pickup     |\n",
       "| toyota     | toyota tacoma 4wd |  0.40884046 |  0.997861 |  0.0689474 | manual(m6) | 4 | -0.43679466 | -0.91360146 | r | pickup     |\n",
       "| toyota     | toyota tacoma 4wd |  0.40884046 |  0.997861 |  0.0689474 | auto(l5)   | 4 | -0.20182926 | -0.57772912 | r | pickup     |\n",
       "| volkswagen | gti               | -1.13919624 | -0.997861 | -1.1721058 | manual(m5) | f |  0.97299777 |  0.93369639 | r | compact    |\n",
       "| volkswagen | gti               | -1.13919624 | -0.997861 | -1.1721058 | auto(l4)   | f |  0.50306696 |  0.42988788 | r | compact    |\n",
       "| volkswagen | gti               | -1.13919624 |  0.997861 | -1.1721058 | manual(m6) | f |  0.97299777 |  0.93369639 | p | compact    |\n",
       "| volkswagen | gti               | -1.13919624 |  0.997861 | -1.1721058 | auto(s6)   | f |  1.20796317 |  0.93369639 | p | compact    |\n",
       "| volkswagen | gti               | -0.51998156 | -0.997861 |  0.0689474 | manual(m5) | f |  0.03313615 |  0.09401555 | r | compact    |\n",
       "| volkswagen | jetta             | -1.21659808 | -0.997861 | -1.1721058 | manual(m5) | f |  3.79258263 |  3.45273890 | d | compact    |\n",
       "| volkswagen | jetta             | -1.13919624 | -0.997861 | -1.1721058 | manual(m5) | f |  0.97299777 |  0.93369639 | r | compact    |\n",
       "| volkswagen | jetta             | -1.13919624 | -0.997861 | -1.1721058 | auto(l4)   | f |  0.50306696 |  0.42988788 | r | compact    |\n",
       "| volkswagen | jetta             | -1.13919624 |  0.997861 | -1.1721058 | auto(s6)   | f |  1.20796317 |  0.93369639 | p | compact    |\n",
       "| volkswagen | jetta             | -1.13919624 |  0.997861 | -1.1721058 | manual(m6) | f |  0.97299777 |  0.93369639 | p | compact    |\n",
       "| volkswagen | jetta             | -0.75218707 |  0.997861 | -0.5515792 | auto(s6)   | f |  0.97299777 |  0.93369639 | r | compact    |\n",
       "| volkswagen | jetta             | -0.75218707 |  0.997861 | -0.5515792 | manual(m5) | f |  0.97299777 |  0.93369639 | r | compact    |\n",
       "| volkswagen | jetta             | -0.51998156 | -0.997861 |  0.0689474 | auto(l4)   | f | -0.20182926 | -0.07392062 | r | compact    |\n",
       "| volkswagen | jetta             | -0.51998156 | -0.997861 |  0.0689474 | manual(m5) | f |  0.03313615 |  0.09401555 | r | compact    |\n",
       "| volkswagen | new beetle        | -1.21659808 | -0.997861 | -1.1721058 | manual(m5) | f |  4.26251344 |  3.45273890 | d | subcompact |\n",
       "| volkswagen | new beetle        | -1.21659808 | -0.997861 | -1.1721058 | auto(l4)   | f |  2.85272101 |  2.94893040 | d | subcompact |\n",
       "| volkswagen | new beetle        | -1.13919624 | -0.997861 | -1.1721058 | manual(m5) | f |  0.97299777 |  0.93369639 | r | subcompact |\n",
       "| volkswagen | new beetle        | -1.13919624 | -0.997861 | -1.1721058 | auto(l4)   | f |  0.50306696 |  0.42988788 | r | subcompact |\n",
       "| volkswagen | new beetle        | -0.75218707 |  0.997861 | -0.5515792 | manual(m5) | f |  0.73803236 |  0.76576022 | r | subcompact |\n",
       "| volkswagen | new beetle        | -0.75218707 |  0.997861 | -0.5515792 | auto(s6)   | f |  0.73803236 |  0.93369639 | r | subcompact |\n",
       "| volkswagen | passat            | -1.29399991 | -0.997861 | -1.1721058 | manual(m5) | f |  0.97299777 |  0.93369639 | p | midsize    |\n",
       "| volkswagen | passat            | -1.29399991 | -0.997861 | -1.1721058 | auto(l5)   | f |  0.26810155 |  0.93369639 | p | midsize    |\n",
       "| volkswagen | passat            | -1.13919624 |  0.997861 | -1.1721058 | auto(s6)   | f |  0.50306696 |  0.76576022 | p | midsize    |\n",
       "| volkswagen | passat            | -1.13919624 |  0.997861 | -1.1721058 | manual(m6) | f |  0.97299777 |  0.93369639 | p | midsize    |\n",
       "| volkswagen | passat            | -0.51998156 | -0.997861 |  0.0689474 | auto(l5)   | f | -0.20182926 |  0.42988788 | p | midsize    |\n",
       "| volkswagen | passat            | -0.51998156 | -0.997861 |  0.0689474 | manual(m5) | f |  0.26810155 |  0.42988788 | p | midsize    |\n",
       "| volkswagen | passat            |  0.09923312 |  0.997861 |  0.0689474 | auto(s6)   | f |  0.03313615 |  0.42988788 | p | midsize    |\n",
       "\n"
      ],
      "text/plain": [
       "    manufacturer model              displ       year      cyl        trans     \n",
       "1   audi         a4                 -1.2939999  -0.997861 -1.1721058 auto(l5)  \n",
       "2   audi         a4                 -1.2939999  -0.997861 -1.1721058 manual(m5)\n",
       "3   audi         a4                 -1.1391962   0.997861 -1.1721058 manual(m6)\n",
       "4   audi         a4                 -1.1391962   0.997861 -1.1721058 auto(av)  \n",
       "5   audi         a4                 -0.5199816  -0.997861  0.0689474 auto(l5)  \n",
       "6   audi         a4                 -0.5199816  -0.997861  0.0689474 manual(m5)\n",
       "7   audi         a4                 -0.2877761   0.997861  0.0689474 auto(av)  \n",
       "8   audi         a4 quattro         -1.2939999  -0.997861 -1.1721058 manual(m5)\n",
       "9   audi         a4 quattro         -1.2939999  -0.997861 -1.1721058 auto(l5)  \n",
       "10  audi         a4 quattro         -1.1391962   0.997861 -1.1721058 manual(m6)\n",
       "11  audi         a4 quattro         -1.1391962   0.997861 -1.1721058 auto(s6)  \n",
       "12  audi         a4 quattro         -0.5199816  -0.997861  0.0689474 auto(l5)  \n",
       "13  audi         a4 quattro         -0.5199816  -0.997861  0.0689474 manual(m5)\n",
       "14  audi         a4 quattro         -0.2877761   0.997861  0.0689474 auto(s6)  \n",
       "15  audi         a4 quattro         -0.2877761   0.997861  0.0689474 manual(m6)\n",
       "16  audi         a6 quattro         -0.5199816  -0.997861  0.0689474 auto(l5)  \n",
       "17  audi         a6 quattro         -0.2877761   0.997861  0.0689474 auto(s6)  \n",
       "18  audi         a6 quattro          0.5636441   0.997861  1.3100006 auto(s6)  \n",
       "19  chevrolet    c1500 suburban 2wd  1.4150643   0.997861  1.3100006 auto(l4)  \n",
       "20  chevrolet    c1500 suburban 2wd  1.4150643   0.997861  1.3100006 auto(l4)  \n",
       "21  chevrolet    c1500 suburban 2wd  1.4150643   0.997861  1.3100006 auto(l4)  \n",
       "22  chevrolet    c1500 suburban 2wd  1.7246717  -0.997861  1.3100006 auto(l4)  \n",
       "23  chevrolet    c1500 suburban 2wd  1.9568772   0.997861  1.3100006 auto(l4)  \n",
       "24  chevrolet    corvette            1.7246717  -0.997861  1.3100006 manual(m6)\n",
       "25  chevrolet    corvette            1.7246717  -0.997861  1.3100006 auto(l4)  \n",
       "26  chevrolet    corvette            2.1116808   0.997861  1.3100006 manual(m6)\n",
       "27  chevrolet    corvette            2.1116808   0.997861  1.3100006 auto(s6)  \n",
       "28  chevrolet    corvette            2.7308955   0.997861  1.3100006 manual(m6)\n",
       "29  chevrolet    k1500 tahoe 4wd     1.4150643   0.997861  1.3100006 auto(l4)  \n",
       "30  chevrolet    k1500 tahoe 4wd     1.4150643   0.997861  1.3100006 auto(l4)  \n",
       "⋮   ⋮            ⋮                  ⋮           ⋮         ⋮          ⋮         \n",
       "205 toyota       toyota tacoma 4wd  -0.05557055 -0.997861  0.0689474 auto(l4)  \n",
       "206 toyota       toyota tacoma 4wd   0.40884046  0.997861  0.0689474 manual(m6)\n",
       "207 toyota       toyota tacoma 4wd   0.40884046  0.997861  0.0689474 auto(l5)  \n",
       "208 volkswagen   gti                -1.13919624 -0.997861 -1.1721058 manual(m5)\n",
       "209 volkswagen   gti                -1.13919624 -0.997861 -1.1721058 auto(l4)  \n",
       "210 volkswagen   gti                -1.13919624  0.997861 -1.1721058 manual(m6)\n",
       "211 volkswagen   gti                -1.13919624  0.997861 -1.1721058 auto(s6)  \n",
       "212 volkswagen   gti                -0.51998156 -0.997861  0.0689474 manual(m5)\n",
       "213 volkswagen   jetta              -1.21659808 -0.997861 -1.1721058 manual(m5)\n",
       "214 volkswagen   jetta              -1.13919624 -0.997861 -1.1721058 manual(m5)\n",
       "215 volkswagen   jetta              -1.13919624 -0.997861 -1.1721058 auto(l4)  \n",
       "216 volkswagen   jetta              -1.13919624  0.997861 -1.1721058 auto(s6)  \n",
       "217 volkswagen   jetta              -1.13919624  0.997861 -1.1721058 manual(m6)\n",
       "218 volkswagen   jetta              -0.75218707  0.997861 -0.5515792 auto(s6)  \n",
       "219 volkswagen   jetta              -0.75218707  0.997861 -0.5515792 manual(m5)\n",
       "220 volkswagen   jetta              -0.51998156 -0.997861  0.0689474 auto(l4)  \n",
       "221 volkswagen   jetta              -0.51998156 -0.997861  0.0689474 manual(m5)\n",
       "222 volkswagen   new beetle         -1.21659808 -0.997861 -1.1721058 manual(m5)\n",
       "223 volkswagen   new beetle         -1.21659808 -0.997861 -1.1721058 auto(l4)  \n",
       "224 volkswagen   new beetle         -1.13919624 -0.997861 -1.1721058 manual(m5)\n",
       "225 volkswagen   new beetle         -1.13919624 -0.997861 -1.1721058 auto(l4)  \n",
       "226 volkswagen   new beetle         -0.75218707  0.997861 -0.5515792 manual(m5)\n",
       "227 volkswagen   new beetle         -0.75218707  0.997861 -0.5515792 auto(s6)  \n",
       "228 volkswagen   passat             -1.29399991 -0.997861 -1.1721058 manual(m5)\n",
       "229 volkswagen   passat             -1.29399991 -0.997861 -1.1721058 auto(l5)  \n",
       "230 volkswagen   passat             -1.13919624  0.997861 -1.1721058 auto(s6)  \n",
       "231 volkswagen   passat             -1.13919624  0.997861 -1.1721058 manual(m6)\n",
       "232 volkswagen   passat             -0.51998156 -0.997861  0.0689474 auto(l5)  \n",
       "233 volkswagen   passat             -0.51998156 -0.997861  0.0689474 manual(m5)\n",
       "234 volkswagen   passat              0.09923312  0.997861  0.0689474 auto(s6)  \n",
       "    drv cty         hwy         fl class     \n",
       "1   f    0.26810155  0.93369639 p  compact   \n",
       "2   f    0.97299777  0.93369639 p  compact   \n",
       "3   f    0.73803236  1.26956872 p  compact   \n",
       "4   f    0.97299777  1.10163255 p  compact   \n",
       "5   f   -0.20182926  0.42988788 p  compact   \n",
       "6   f    0.26810155  0.42988788 p  compact   \n",
       "7   f    0.26810155  0.59782405 p  compact   \n",
       "8   4    0.26810155  0.42988788 p  compact   \n",
       "9   4   -0.20182926  0.26195171 p  compact   \n",
       "10  4    0.73803236  0.76576022 p  compact   \n",
       "11  4    0.50306696  0.59782405 p  compact   \n",
       "12  4   -0.43679466  0.26195171 p  compact   \n",
       "13  4    0.03313615  0.26195171 p  compact   \n",
       "14  4    0.03313615  0.26195171 p  compact   \n",
       "15  4   -0.43679466  0.26195171 p  compact   \n",
       "16  4   -0.43679466  0.09401555 p  midsize   \n",
       "17  4    0.03313615  0.26195171 p  midsize   \n",
       "18  4   -0.20182926 -0.07392062 p  midsize   \n",
       "19  r   -0.67176007 -0.57772912 r  suv       \n",
       "20  r   -1.37665628 -1.41740996 e  suv       \n",
       "21  r   -0.67176007 -0.57772912 r  suv       \n",
       "22  r   -0.90672547 -1.08153763 r  suv       \n",
       "23  r   -1.14169088 -1.08153763 r  suv       \n",
       "24  r   -0.20182926  0.42988788 p  2seater   \n",
       "25  r   -0.43679466 -0.07392062 p  2seater   \n",
       "26  r   -0.20182926  0.42988788 p  2seater   \n",
       "27  r   -0.43679466  0.26195171 p  2seater   \n",
       "28  r   -0.43679466  0.09401555 p  2seater   \n",
       "29  4   -0.67176007 -0.74566529 r  suv       \n",
       "30  4   -1.37665628 -1.58534613 e  suv       \n",
       "⋮   ⋮   ⋮           ⋮           ⋮  ⋮         \n",
       "205 4   -0.43679466 -0.74566529 r  pickup    \n",
       "206 4   -0.43679466 -0.91360146 r  pickup    \n",
       "207 4   -0.20182926 -0.57772912 r  pickup    \n",
       "208 f    0.97299777  0.93369639 r  compact   \n",
       "209 f    0.50306696  0.42988788 r  compact   \n",
       "210 f    0.97299777  0.93369639 p  compact   \n",
       "211 f    1.20796317  0.93369639 p  compact   \n",
       "212 f    0.03313615  0.09401555 r  compact   \n",
       "213 f    3.79258263  3.45273890 d  compact   \n",
       "214 f    0.97299777  0.93369639 r  compact   \n",
       "215 f    0.50306696  0.42988788 r  compact   \n",
       "216 f    1.20796317  0.93369639 p  compact   \n",
       "217 f    0.97299777  0.93369639 p  compact   \n",
       "218 f    0.97299777  0.93369639 r  compact   \n",
       "219 f    0.97299777  0.93369639 r  compact   \n",
       "220 f   -0.20182926 -0.07392062 r  compact   \n",
       "221 f    0.03313615  0.09401555 r  compact   \n",
       "222 f    4.26251344  3.45273890 d  subcompact\n",
       "223 f    2.85272101  2.94893040 d  subcompact\n",
       "224 f    0.97299777  0.93369639 r  subcompact\n",
       "225 f    0.50306696  0.42988788 r  subcompact\n",
       "226 f    0.73803236  0.76576022 r  subcompact\n",
       "227 f    0.73803236  0.93369639 r  subcompact\n",
       "228 f    0.97299777  0.93369639 p  midsize   \n",
       "229 f    0.26810155  0.93369639 p  midsize   \n",
       "230 f    0.50306696  0.76576022 p  midsize   \n",
       "231 f    0.97299777  0.93369639 p  midsize   \n",
       "232 f   -0.20182926  0.42988788 p  midsize   \n",
       "233 f    0.26810155  0.42988788 p  midsize   \n",
       "234 f    0.03313615  0.42988788 p  midsize   "
      ]
     },
     "metadata": {},
     "output_type": "display_data"
    }
   ],
   "source": [
    "# standardize only the numerical columns\n",
    "\n",
    "mpg %>% mutate(across(is.numeric, z_score))\n",
    "\n",
    "# is.numeric(mpg$cty)"
   ]
  },
  {
   "cell_type": "markdown",
   "metadata": {
    "slideshow": {
     "slide_type": "slide"
    }
   },
   "source": [
    "### Anonymous functions\n",
    "In the preceding example, we wrote a function, `z_score`, and then applied it to multiple columns using the `across()` verb. Often, we want to apply a relatively simple function that we are only going to use once. In these cases, we can define an \"anonymous\" function that only exists temporarily. "
   ]
  },
  {
   "cell_type": "code",
   "execution_count": 25,
   "metadata": {
    "slideshow": {
     "slide_type": "slide"
    }
   },
   "outputs": [
    {
     "data": {
      "text/html": [
       "<table class=\"dataframe\">\n",
       "<caption>A tibble: 1 × 4</caption>\n",
       "<thead>\n",
       "\t<tr><th scope=col>a</th><th scope=col>b</th><th scope=col>c</th><th scope=col>d</th></tr>\n",
       "\t<tr><th scope=col>&lt;dbl&gt;</th><th scope=col>&lt;dbl&gt;</th><th scope=col>&lt;dbl&gt;</th><th scope=col>&lt;dbl&gt;</th></tr>\n",
       "</thead>\n",
       "<tbody>\n",
       "\t<tr><td>-0.3486667</td><td>0.6316311</td><td>-0.003606294</td><td>-0.7484384</td></tr>\n",
       "</tbody>\n",
       "</table>\n"
      ],
      "text/latex": [
       "A tibble: 1 × 4\n",
       "\\begin{tabular}{llll}\n",
       " a & b & c & d\\\\\n",
       " <dbl> & <dbl> & <dbl> & <dbl>\\\\\n",
       "\\hline\n",
       "\t -0.3486667 & 0.6316311 & -0.003606294 & -0.7484384\\\\\n",
       "\\end{tabular}\n"
      ],
      "text/markdown": [
       "\n",
       "A tibble: 1 × 4\n",
       "\n",
       "| a &lt;dbl&gt; | b &lt;dbl&gt; | c &lt;dbl&gt; | d &lt;dbl&gt; |\n",
       "|---|---|---|---|\n",
       "| -0.3486667 | 0.6316311 | -0.003606294 | -0.7484384 |\n",
       "\n"
      ],
      "text/plain": [
       "  a          b         c            d         \n",
       "1 -0.3486667 0.6316311 -0.003606294 -0.7484384"
      ]
     },
     "metadata": {},
     "output_type": "display_data"
    }
   ],
   "source": [
    "#  df %>% summarize(across(a:d, median(na.rm = T))) won't work\n",
    "# use anonymous function instead"
   ]
  },
  {
   "cell_type": "markdown",
   "metadata": {
    "slideshow": {
     "slide_type": "slide"
    }
   },
   "source": [
    "### Multiple columns at once\n",
    "What if we want to use `across()` with multiple columns at once? "
   ]
  },
  {
   "cell_type": "code",
   "execution_count": 167,
   "metadata": {},
   "outputs": [
    {
     "data": {
      "text/html": [
       "<table class=\"dataframe\">\n",
       "<caption>A tibble: 1 × 8</caption>\n",
       "<thead>\n",
       "\t<tr><th scope=col>a_donuts</th><th scope=col>a_croissants</th><th scope=col>b_donuts</th><th scope=col>b_croissants</th><th scope=col>c_donuts</th><th scope=col>c_croissants</th><th scope=col>d_donuts</th><th scope=col>d_croissants</th></tr>\n",
       "\t<tr><th scope=col>&lt;dbl&gt;</th><th scope=col>&lt;dbl&gt;</th><th scope=col>&lt;dbl&gt;</th><th scope=col>&lt;dbl&gt;</th><th scope=col>&lt;dbl&gt;</th><th scope=col>&lt;dbl&gt;</th><th scope=col>&lt;dbl&gt;</th><th scope=col>&lt;dbl&gt;</th></tr>\n",
       "</thead>\n",
       "<tbody>\n",
       "\t<tr><td>0.656898</td><td>0.7341174</td><td>-0.1804716</td><td>-0.2547415</td><td>0.8885315</td><td>0.7414305</td><td>-0.4171823</td><td>-0.477242</td></tr>\n",
       "</tbody>\n",
       "</table>\n"
      ],
      "text/latex": [
       "A tibble: 1 × 8\n",
       "\\begin{tabular}{llllllll}\n",
       " a\\_donuts & a\\_croissants & b\\_donuts & b\\_croissants & c\\_donuts & c\\_croissants & d\\_donuts & d\\_croissants\\\\\n",
       " <dbl> & <dbl> & <dbl> & <dbl> & <dbl> & <dbl> & <dbl> & <dbl>\\\\\n",
       "\\hline\n",
       "\t 0.656898 & 0.7341174 & -0.1804716 & -0.2547415 & 0.8885315 & 0.7414305 & -0.4171823 & -0.477242\\\\\n",
       "\\end{tabular}\n"
      ],
      "text/markdown": [
       "\n",
       "A tibble: 1 × 8\n",
       "\n",
       "| a_donuts &lt;dbl&gt; | a_croissants &lt;dbl&gt; | b_donuts &lt;dbl&gt; | b_croissants &lt;dbl&gt; | c_donuts &lt;dbl&gt; | c_croissants &lt;dbl&gt; | d_donuts &lt;dbl&gt; | d_croissants &lt;dbl&gt; |\n",
       "|---|---|---|---|---|---|---|---|\n",
       "| 0.656898 | 0.7341174 | -0.1804716 | -0.2547415 | 0.8885315 | 0.7414305 | -0.4171823 | -0.477242 |\n",
       "\n"
      ],
      "text/plain": [
       "  a_donuts a_croissants b_donuts   b_croissants c_donuts  c_croissants\n",
       "1 0.656898 0.7341174    -0.1804716 -0.2547415   0.8885315 0.7414305   \n",
       "  d_donuts   d_croissants\n",
       "1 -0.4171823 -0.477242   "
      ]
     },
     "metadata": {},
     "output_type": "display_data"
    }
   ],
   "source": [
    "# df %>% summarize(across(a:d, median, mean)) won't work -- use a named list instead\n",
    "\n",
    "df %>% summarize(across(a:d, list(donuts = mean, croissants = median)))"
   ]
  },
  {
   "cell_type": "markdown",
   "metadata": {
    "slideshow": {
     "slide_type": "slide"
    }
   },
   "source": [
    "## `list()`\n",
    "\n",
    "In the previous example we used a new data type that we have not seen before:"
   ]
  },
  {
   "cell_type": "code",
   "execution_count": 170,
   "metadata": {},
   "outputs": [
    {
     "data": {
      "text/html": [
       "<ol>\n",
       "\t<li>'a'</li>\n",
       "\t<li>1</li>\n",
       "\t<li>FALSE</li>\n",
       "\t<li>3.14159265358979</li>\n",
       "\t<li><ol>\n",
       "\t<li><style>\n",
       ".list-inline {list-style: none; margin:0; padding: 0}\n",
       ".list-inline>li {display: inline-block}\n",
       ".list-inline>li:not(:last-child)::after {content: \"\\00b7\"; padding: 0 .5ex}\n",
       "</style>\n",
       "<ol class=list-inline><li>1</li><li>2</li><li>3</li></ol>\n",
       "</li>\n",
       "</ol>\n",
       "</li>\n",
       "</ol>\n"
      ],
      "text/latex": [
       "\\begin{enumerate}\n",
       "\\item 'a'\n",
       "\\item 1\n",
       "\\item FALSE\n",
       "\\item 3.14159265358979\n",
       "\\item \\begin{enumerate}\n",
       "\\item \\begin{enumerate*}\n",
       "\\item 1\n",
       "\\item 2\n",
       "\\item 3\n",
       "\\end{enumerate*}\n",
       "\n",
       "\\end{enumerate}\n",
       "\n",
       "\\end{enumerate}\n"
      ],
      "text/markdown": [
       "1. 'a'\n",
       "2. 1\n",
       "3. FALSE\n",
       "4. 3.14159265358979\n",
       "5. 1. 1. 1\n",
       "2. 2\n",
       "3. 3\n",
       "\n",
       "\n",
       "\n",
       "\n",
       "\n",
       "\n",
       "\n",
       "\n"
      ],
      "text/plain": [
       "[[1]]\n",
       "[1] \"a\"\n",
       "\n",
       "[[2]]\n",
       "[1] 1\n",
       "\n",
       "[[3]]\n",
       "[1] FALSE\n",
       "\n",
       "[[4]]\n",
       "[1] 3.141593\n",
       "\n",
       "[[5]]\n",
       "[[5]][[1]]\n",
       "[1] 1 2 3\n",
       "\n"
      ]
     },
     "metadata": {},
     "output_type": "display_data"
    }
   ],
   "source": [
    "x <- list('a', 1L, FALSE, pi, list(1:3))\n",
    "x"
   ]
  },
  {
   "cell_type": "markdown",
   "metadata": {
    "slideshow": {
     "slide_type": "notes"
    }
   },
   "source": [
    "As the printout suggests, you can think of a list as a \"vector of vectors\". For this reason, they are sometimes referred to as \"recursive vectors\"."
   ]
  },
  {
   "cell_type": "markdown",
   "metadata": {
    "slideshow": {
     "slide_type": "slide"
    }
   },
   "source": [
    "The `str` command will print out the **str**ucture of a vector:"
   ]
  },
  {
   "cell_type": "code",
   "execution_count": 171,
   "metadata": {},
   "outputs": [
    {
     "name": "stdout",
     "output_type": "stream",
     "text": [
      "List of 5\n",
      " $ : chr \"a\"\n",
      " $ : int 1\n",
      " $ : logi FALSE\n",
      " $ : num 3.14\n",
      " $ :List of 1\n",
      "  ..$ : int [1:3] 1 2 3\n"
     ]
    }
   ],
   "source": [
    "str(x)"
   ]
  },
  {
   "cell_type": "markdown",
   "metadata": {
    "slideshow": {
     "slide_type": "slide"
    }
   },
   "source": [
    "You can name each individual entry of a list:"
   ]
  },
  {
   "cell_type": "code",
   "execution_count": 39,
   "metadata": {},
   "outputs": [
    {
     "data": {
      "text/html": [
       "<style>\n",
       ".list-inline {list-style: none; margin:0; padding: 0}\n",
       ".list-inline>li {display: inline-block}\n",
       ".list-inline>li:not(:last-child)::after {content: \"\\00b7\"; padding: 0 .5ex}\n",
       "</style>\n",
       "<ol class=list-inline><li>'a'</li><li>'b'</li><li>'c'</li><li>''</li></ol>\n"
      ],
      "text/latex": [
       "\\begin{enumerate*}\n",
       "\\item 'a'\n",
       "\\item 'b'\n",
       "\\item 'c'\n",
       "\\item ''\n",
       "\\end{enumerate*}\n"
      ],
      "text/markdown": [
       "1. 'a'\n",
       "2. 'b'\n",
       "3. 'c'\n",
       "4. ''\n",
       "\n",
       "\n"
      ],
      "text/plain": [
       "[1] \"a\" \"b\" \"c\" \"\" "
      ]
     },
     "metadata": {},
     "output_type": "display_data"
    },
    {
     "name": "stdout",
     "output_type": "stream",
     "text": [
      "List of 4\n",
      " $ a: num 1\n",
      " $ b: num 2\n",
      " $ c: num 3\n",
      " $  : num 4\n"
     ]
    },
    {
     "data": {
      "text/html": [
       "1"
      ],
      "text/latex": [
       "1"
      ],
      "text/markdown": [
       "1"
      ],
      "text/plain": [
       "[1] 1"
      ]
     },
     "metadata": {},
     "output_type": "display_data"
    }
   ],
   "source": [
    "x_named <- list(a = 1, b = 2, c = 3, 4)\n",
    "names(x_named)\n",
    "str(x_named)\n",
    "x_named$a"
   ]
  },
  {
   "cell_type": "markdown",
   "metadata": {
    "slideshow": {
     "slide_type": "slide"
    }
   },
   "source": [
    "### Sub-setting lists\n",
    "Subsetting lists is a little more complex than subsetting atomic vectors. We will use the following example list:"
   ]
  },
  {
   "cell_type": "code",
   "execution_count": 47,
   "metadata": {},
   "outputs": [
    {
     "name": "stdout",
     "output_type": "stream",
     "text": [
      "List of 4\n",
      " $ a: int [1:3] 1 2 3\n",
      " $ b: chr \"a string\"\n",
      " $ c: num 3.14\n",
      " $ d:List of 2\n",
      "  ..$ : num -1\n",
      "  ..$ : num -5\n"
     ]
    }
   ],
   "source": [
    "str(example_list <- list(a = 1:3, b = \"a string\", c = pi, d = list(-1, -5)))"
   ]
  },
  {
   "cell_type": "markdown",
   "metadata": {
    "slideshow": {
     "slide_type": "slide"
    }
   },
   "source": [
    "#### `[]`\n",
    "The `[]` operator extracts a sub-list. That is, the return type will always be a list:"
   ]
  },
  {
   "cell_type": "code",
   "execution_count": 41,
   "metadata": {},
   "outputs": [
    {
     "name": "stdout",
     "output_type": "stream",
     "text": [
      "List of 1\n",
      " $ : chr \"a\"\n"
     ]
    }
   ],
   "source": [
    "x[1] %>% str"
   ]
  },
  {
   "cell_type": "markdown",
   "metadata": {
    "slideshow": {
     "slide_type": "slide"
    }
   },
   "source": [
    "#### `[[]]`\n",
    "The double-brackets will extract a single component from the list:"
   ]
  },
  {
   "cell_type": "code",
   "execution_count": 42,
   "metadata": {},
   "outputs": [
    {
     "name": "stdout",
     "output_type": "stream",
     "text": [
      " chr \"a\"\n"
     ]
    }
   ],
   "source": [
    "x[[1]] %>% str"
   ]
  },
  {
   "cell_type": "markdown",
   "metadata": {
    "slideshow": {
     "slide_type": "slide"
    }
   },
   "source": [
    "### Data frames are lists\n",
    "Many data types in R are actually lists plus some additional attributes. For example, tibbles and data frames are both lists:"
   ]
  },
  {
   "cell_type": "code",
   "execution_count": 173,
   "metadata": {},
   "outputs": [
    {
     "name": "stdout",
     "output_type": "stream",
     "text": [
      "tibble [234 × 11] (S3: tbl_df/tbl/data.frame)\n",
      " $ manufacturer: chr [1:234] \"audi\" \"audi\" \"audi\" \"audi\" ...\n",
      " $ model       : chr [1:234] \"a4\" \"a4\" \"a4\" \"a4\" ...\n",
      " $ displ       : num [1:234] 1.8 1.8 2 2 2.8 2.8 3.1 1.8 1.8 2 ...\n",
      " $ year        : int [1:234] 1999 1999 2008 2008 1999 1999 2008 1999 1999 2008 ...\n",
      " $ cyl         : int [1:234] 4 4 4 4 6 6 6 4 4 4 ...\n",
      " $ trans       : chr [1:234] \"auto(l5)\" \"manual(m5)\" \"manual(m6)\" \"auto(av)\" ...\n",
      " $ drv         : chr [1:234] \"f\" \"f\" \"f\" \"f\" ...\n",
      " $ cty         : int [1:234] 18 21 20 21 16 18 18 18 16 20 ...\n",
      " $ hwy         : int [1:234] 29 29 31 30 26 26 27 26 25 28 ...\n",
      " $ fl          : chr [1:234] \"p\" \"p\" \"p\" \"p\" ...\n",
      " $ class       : chr [1:234] \"compact\" \"compact\" \"compact\" \"compact\" ...\n"
     ]
    }
   ],
   "source": [
    "# typeof(mpg) \n",
    "str(mpg)"
   ]
  },
  {
   "cell_type": "markdown",
   "metadata": {
    "slideshow": {
     "slide_type": "slide"
    }
   },
   "source": [
    "The `names()` of a tibble/data frame correspond to columns. This means we can use the list indexing methods shown above to access columns:"
   ]
  },
  {
   "cell_type": "code",
   "execution_count": 84,
   "metadata": {},
   "outputs": [
    {
     "data": {
      "text/plain": [
       " [1] \"manufacturer\" \"model\"        \"displ\"        \"year\"         \"cyl\"         \n",
       " [6] \"trans\"        \"drv\"          \"cty\"          \"hwy\"          \"fl\"          \n",
       "[11] \"class\"       "
      ]
     },
     "metadata": {},
     "output_type": "display_data"
    }
   ],
   "source": [
    "names(mpg)"
   ]
  },
  {
   "cell_type": "markdown",
   "metadata": {
    "slideshow": {
     "slide_type": "slide"
    }
   },
   "source": [
    "## Lists and functional programming\n",
    "Lists are useful to use because they can represent a sequence of values. Let's see an example from HW7: combining all the Harry Potter books into one data frame:"
   ]
  },
  {
   "cell_type": "markdown",
   "metadata": {
    "slideshow": {
     "slide_type": "slide"
    }
   },
   "source": [
    "First, we need to load the library and get the names of all the books:"
   ]
  },
  {
   "cell_type": "code",
   "execution_count": 188,
   "metadata": {},
   "outputs": [
    {
     "data": {
      "text/html": [
       "<style>\n",
       ".list-inline {list-style: none; margin:0; padding: 0}\n",
       ".list-inline>li {display: inline-block}\n",
       ".list-inline>li:not(:last-child)::after {content: \"\\00b7\"; padding: 0 .5ex}\n",
       "</style>\n",
       "<ol class=list-inline><li>'chamber_of_secrets'</li><li>'deathly_hallows'</li><li>'goblet_of_fire'</li><li>'half_blood_prince'</li><li>'order_of_the_phoenix'</li><li>'philosophers_stone'</li><li>'prisoner_of_azkaban'</li></ol>\n"
      ],
      "text/latex": [
       "\\begin{enumerate*}\n",
       "\\item 'chamber\\_of\\_secrets'\n",
       "\\item 'deathly\\_hallows'\n",
       "\\item 'goblet\\_of\\_fire'\n",
       "\\item 'half\\_blood\\_prince'\n",
       "\\item 'order\\_of\\_the\\_phoenix'\n",
       "\\item 'philosophers\\_stone'\n",
       "\\item 'prisoner\\_of\\_azkaban'\n",
       "\\end{enumerate*}\n"
      ],
      "text/markdown": [
       "1. 'chamber_of_secrets'\n",
       "2. 'deathly_hallows'\n",
       "3. 'goblet_of_fire'\n",
       "4. 'half_blood_prince'\n",
       "5. 'order_of_the_phoenix'\n",
       "6. 'philosophers_stone'\n",
       "7. 'prisoner_of_azkaban'\n",
       "\n",
       "\n"
      ],
      "text/plain": [
       "[1] \"chamber_of_secrets\"   \"deathly_hallows\"      \"goblet_of_fire\"      \n",
       "[4] \"half_blood_prince\"    \"order_of_the_phoenix\" \"philosophers_stone\"  \n",
       "[7] \"prisoner_of_azkaban\" "
      ]
     },
     "metadata": {},
     "output_type": "display_data"
    }
   ],
   "source": [
    "hp_titles <- ls('package:harrypotter') \n",
    "hp_titles"
   ]
  },
  {
   "cell_type": "markdown",
   "metadata": {
    "slideshow": {
     "slide_type": "notes"
    }
   },
   "source": [
    "This has returned a character vector containing the seven titles in the database. To access any one of them, we can write:"
   ]
  },
  {
   "cell_type": "code",
   "execution_count": 190,
   "metadata": {
    "slideshow": {
     "slide_type": "slide"
    }
   },
   "outputs": [
    {
     "name": "stdout",
     "output_type": "stream",
     "text": [
      " chr [1:37] \"The two men appeared out of nowhere, a few yards apart in the narrow, moonlit lane. For a second they stood qui\"| __truncated__ ...\n"
     ]
    }
   ],
   "source": [
    " getExportedValue('harrypotter', hp_titles[2]) %>% str"
   ]
  },
  {
   "cell_type": "markdown",
   "metadata": {
    "id": "Xu5gvzD61le-",
    "slideshow": {
     "slide_type": "slide"
    }
   },
   "source": [
    "## Iteration\n",
    "Now let's think about how we can automate the process of joining all of these books into one data frame. \n",
    "\n",
    "If you're coming from a C++ or Java background, your first instinct is probably to use a `for()` loop. In R, for loops look like this:\n",
    "```{r}\n",
    "for (<index> in <vector>) {\n",
    "    [do something for each value of <index>]\n",
    "}\n",
    "```"
   ]
  },
  {
   "cell_type": "code",
   "execution_count": 207,
   "metadata": {
    "slideshow": {
     "slide_type": "slide"
    }
   },
   "outputs": [
    {
     "name": "stdout",
     "output_type": "stream",
     "text": [
      "[1] \"chamber_of_secrets\"\n",
      "[1] \"deathly_hallows\"\n",
      "[1] \"goblet_of_fire\"\n",
      "[1] \"half_blood_prince\"\n",
      "[1] \"order_of_the_phoenix\"\n",
      "[1] \"philosophers_stone\"\n",
      "[1] \"prisoner_of_azkaban\"\n",
      "\u001b[90m# A tibble: 200 × 1\u001b[39m\n",
      "   text                                                                         \n",
      "   \u001b[3m\u001b[90m<chr>\u001b[39m\u001b[23m                                                                        \n",
      "\u001b[90m 1\u001b[39m \u001b[90m\"\u001b[39mTHE WORST BIRTHDAY　　Not for the first time, an argument had broken out ov…\n",
      "\u001b[90m 2\u001b[39m \u001b[90m\"\u001b[39m　　DOBBY'S WARNING　　arry managed not to shout out, but it was a close th…\n",
      "\u001b[90m 3\u001b[39m \u001b[90m\"\u001b[39mTHE BURROW　　Ron.l\\\" breathed Harry, creeping to the window and pushing it…\n",
      "\u001b[90m 4\u001b[39m \u001b[90m\"\u001b[39mAT FL0VRR 11 $ HAND BLOTTS　　ife at the Burrow was as different as possibl…\n",
      "\u001b[90m 5\u001b[39m \u001b[90m\"\u001b[39mTHE WHOMPING　　WILLOW　　he end of the summer vacation came too quickly fo…\n",
      "\u001b[90m 6\u001b[39m \u001b[90m\"\u001b[39mGILDEROY LOCKHART　　he next day, however, Harry barely grinned once. Thing…\n",
      "\u001b[90m 7\u001b[39m \u001b[90m\"\u001b[39mHarry looked bemusedly at the photograph Colin was brandishing under his no…\n",
      "\u001b[90m 8\u001b[39m \u001b[90m\"\u001b[39m　　\\\"What are you talking about, Harry? Perhaps you're getting a litde dro…\n",
      "\u001b[90m 9\u001b[39m \u001b[90m\"\u001b[39mTHE WRTITING ON THE WALL　　What's going on here? What's going on?\\\" Attrac…\n",
      "\u001b[90m10\u001b[39m \u001b[90m\"\u001b[39m　　THE ROGUE BLUDGER　　ince the disastrous episode of the pixies, Profess…\n",
      "\u001b[90m# … with 190 more rows\u001b[39m\n"
     ]
    }
   ],
   "source": [
    "hp <- tibble()\n",
    "\n",
    "for (x in hp_titles) {\n",
    "    print(x)\n",
    "    text <- getExportedValue('harrypotter', x)\n",
    "    # make into data frame\n",
    "    hp <- bind_rows(hp, tibble(text = text))\n",
    "}\n",
    "\n",
    "hp %>% print"
   ]
  },
  {
   "cell_type": "markdown",
   "metadata": {
    "id": "GX2_Vz1c1le_",
    "outputId": "d56f8efa-49cc-4087-bc00-f50e2d929093",
    "slideshow": {
     "slide_type": "slide"
    }
   },
   "source": [
    "By tweaking this for loop, we could make it create a dataset of all the chapters in HP:"
   ]
  },
  {
   "cell_type": "code",
   "execution_count": 67,
   "metadata": {},
   "outputs": [
    {
     "name": "stdout",
     "output_type": "stream",
     "text": [
      "\u001b[90m# A tibble: 200 × 2\u001b[39m\n",
      "   title              text                                                      \n",
      "   \u001b[3m\u001b[90m<chr>\u001b[39m\u001b[23m              \u001b[3m\u001b[90m<chr>\u001b[39m\u001b[23m                                                     \n",
      "\u001b[90m 1\u001b[39m chamber_of_secrets \u001b[90m\"\u001b[39mTHE WORST BIRTHDAY　　Not for the first time, an argumen…\n",
      "\u001b[90m 2\u001b[39m chamber_of_secrets \u001b[90m\"\u001b[39m　　DOBBY'S WARNING　　arry managed not to shout out, bu…\n",
      "\u001b[90m 3\u001b[39m chamber_of_secrets \u001b[90m\"\u001b[39mTHE BURROW　　Ron.l\\\" breathed Harry, creeping to the wi…\n",
      "\u001b[90m 4\u001b[39m chamber_of_secrets \u001b[90m\"\u001b[39mAT FL0VRR 11 $ HAND BLOTTS　　ife at the Burrow was as d…\n",
      "\u001b[90m 5\u001b[39m chamber_of_secrets \u001b[90m\"\u001b[39mTHE WHOMPING　　WILLOW　　he end of the summer vacation …\n",
      "\u001b[90m 6\u001b[39m chamber_of_secrets \u001b[90m\"\u001b[39mGILDEROY LOCKHART　　he next day, however, Harry barely …\n",
      "\u001b[90m 7\u001b[39m chamber_of_secrets \u001b[90m\"\u001b[39mHarry looked bemusedly at the photograph Colin was brand…\n",
      "\u001b[90m 8\u001b[39m chamber_of_secrets \u001b[90m\"\u001b[39m　　\\\"What are you talking about, Harry? Perhaps you're …\n",
      "\u001b[90m 9\u001b[39m chamber_of_secrets \u001b[90m\"\u001b[39mTHE WRTITING ON THE WALL　　What's going on here? What's…\n",
      "\u001b[90m10\u001b[39m chamber_of_secrets \u001b[90m\"\u001b[39m　　THE ROGUE BLUDGER　　ince the disastrous episode of …\n",
      "\u001b[90m# … with 190 more rows\u001b[39m\n"
     ]
    }
   ],
   "source": [
    "df <- tibble()\n",
    "for (title in hp) {\n",
    "    df <- bind_rows(df, tibble(title=title, text=getExportedValue('harrypotter', title)))\n",
    "}\n",
    "df %>% print"
   ]
  },
  {
   "cell_type": "markdown",
   "metadata": {
    "slideshow": {
     "slide_type": "slide"
    }
   },
   "source": [
    "## `map()` \n",
    "An alternative to writing a for loop is to use the `map(f, seq)` function. This takes a function `f` and \"maps\" it over each element of a sequence (list or vector) `seq`.\n",
    "\n",
    "![map](https://d33wubrfki0l68.cloudfront.net/f0494d020aa517ae7b1011cea4c4a9f21702df8b/2577b/diagrams/functionals/map.png)"
   ]
  },
  {
   "cell_type": "code",
   "execution_count": 215,
   "metadata": {
    "slideshow": {
     "slide_type": "slide"
    }
   },
   "outputs": [
    {
     "name": "stdout",
     "output_type": "stream",
     "text": [
      "\u001b[90m# A tibble: 200 × 1\u001b[39m\n",
      "   text                                                                         \n",
      "   \u001b[3m\u001b[90m<chr>\u001b[39m\u001b[23m                                                                        \n",
      "\u001b[90m 1\u001b[39m \u001b[90m\"\u001b[39mTHE WORST BIRTHDAY　　Not for the first time, an argument had broken out ov…\n",
      "\u001b[90m 2\u001b[39m \u001b[90m\"\u001b[39m　　DOBBY'S WARNING　　arry managed not to shout out, but it was a close th…\n",
      "\u001b[90m 3\u001b[39m \u001b[90m\"\u001b[39mTHE BURROW　　Ron.l\\\" breathed Harry, creeping to the window and pushing it…\n",
      "\u001b[90m 4\u001b[39m \u001b[90m\"\u001b[39mAT FL0VRR 11 $ HAND BLOTTS　　ife at the Burrow was as different as possibl…\n",
      "\u001b[90m 5\u001b[39m \u001b[90m\"\u001b[39mTHE WHOMPING　　WILLOW　　he end of the summer vacation came too quickly fo…\n",
      "\u001b[90m 6\u001b[39m \u001b[90m\"\u001b[39mGILDEROY LOCKHART　　he next day, however, Harry barely grinned once. Thing…\n",
      "\u001b[90m 7\u001b[39m \u001b[90m\"\u001b[39mHarry looked bemusedly at the photograph Colin was brandishing under his no…\n",
      "\u001b[90m 8\u001b[39m \u001b[90m\"\u001b[39m　　\\\"What are you talking about, Harry? Perhaps you're getting a litde dro…\n",
      "\u001b[90m 9\u001b[39m \u001b[90m\"\u001b[39mTHE WRTITING ON THE WALL　　What's going on here? What's going on?\\\" Attrac…\n",
      "\u001b[90m10\u001b[39m \u001b[90m\"\u001b[39m　　THE ROGUE BLUDGER　　ince the disastrous episode of the pixies, Profess…\n",
      "\u001b[90m# … with 190 more rows\u001b[39m\n"
     ]
    }
   ],
   "source": [
    "hp_titles %>%\n",
    "    map(\\(title) getExportedValue('harrypotter', title)) %>% \n",
    "    map(\\(text) tibble(text)) %>% \n",
    "    list_rbind %>% print"
   ]
  },
  {
   "cell_type": "markdown",
   "metadata": {
    "slideshow": {
     "slide_type": "slide"
    }
   },
   "source": [
    "Finally, we need to take this list of dataframes and combine it into one large dataframe:"
   ]
  },
  {
   "cell_type": "code",
   "execution_count": 84,
   "metadata": {},
   "outputs": [
    {
     "name": "stdout",
     "output_type": "stream",
     "text": [
      "\u001b[90m# A tibble: 200 × 2\u001b[39m\n",
      "   title              text                                                      \n",
      "   \u001b[3m\u001b[90m<chr>\u001b[39m\u001b[23m              \u001b[3m\u001b[90m<chr>\u001b[39m\u001b[23m                                                     \n",
      "\u001b[90m 1\u001b[39m chamber_of_secrets \u001b[90m\"\u001b[39mTHE WORST BIRTHDAY　　Not for the first time, an argumen…\n",
      "\u001b[90m 2\u001b[39m chamber_of_secrets \u001b[90m\"\u001b[39m　　DOBBY'S WARNING　　arry managed not to shout out, bu…\n",
      "\u001b[90m 3\u001b[39m chamber_of_secrets \u001b[90m\"\u001b[39mTHE BURROW　　Ron.l\\\" breathed Harry, creeping to the wi…\n",
      "\u001b[90m 4\u001b[39m chamber_of_secrets \u001b[90m\"\u001b[39mAT FL0VRR 11 $ HAND BLOTTS　　ife at the Burrow was as d…\n",
      "\u001b[90m 5\u001b[39m chamber_of_secrets \u001b[90m\"\u001b[39mTHE WHOMPING　　WILLOW　　he end of the summer vacation …\n",
      "\u001b[90m 6\u001b[39m chamber_of_secrets \u001b[90m\"\u001b[39mGILDEROY LOCKHART　　he next day, however, Harry barely …\n",
      "\u001b[90m 7\u001b[39m chamber_of_secrets \u001b[90m\"\u001b[39mHarry looked bemusedly at the photograph Colin was brand…\n",
      "\u001b[90m 8\u001b[39m chamber_of_secrets \u001b[90m\"\u001b[39m　　\\\"What are you talking about, Harry? Perhaps you're …\n",
      "\u001b[90m 9\u001b[39m chamber_of_secrets \u001b[90m\"\u001b[39mTHE WRTITING ON THE WALL　　What's going on here? What's…\n",
      "\u001b[90m10\u001b[39m chamber_of_secrets \u001b[90m\"\u001b[39m　　THE ROGUE BLUDGER　　ince the disastrous episode of …\n",
      "\u001b[90m# … with 190 more rows\u001b[39m\n"
     ]
    }
   ],
   "source": [
    "hp %>% \n",
    "    setNames(hp) %>% \n",
    "    map(\\(title) tibble(text = getExportedValue('harrypotter', title))) %>%\n",
    "    list_rbind(names_to = \"title\") %>% print"
   ]
  },
  {
   "cell_type": "markdown",
   "metadata": {
    "slideshow": {
     "slide_type": "slide"
    }
   },
   "source": [
    "### Example: raw NCAA data\n",
    "On HW8 you are analysing NCAA data. These data actually came from a much larger dataset spread across many files. The you can load the raw data here:"
   ]
  },
  {
   "cell_type": "code",
   "execution_count": 223,
   "metadata": {},
   "outputs": [
    {
     "name": "stderr",
     "output_type": "stream",
     "text": [
      "\u001b[1mRows: \u001b[22m\u001b[34m27549\u001b[39m \u001b[1mColumns: \u001b[22m\u001b[34m11\u001b[39m\n",
      "\u001b[36m──\u001b[39m \u001b[1mColumn specification\u001b[22m \u001b[36m─────────────────────────────────────────────────────────────────────────────────────────────────────────────────────────────────────\u001b[39m\n",
      "\u001b[1mDelimiter:\u001b[22m \",\"\n",
      "\u001b[31mchr\u001b[39m (5): opponent_name, game_date, location, neutral_site_location, game_length\n",
      "\u001b[32mdbl\u001b[39m (6): score, opponent_score, attendence, opponent_id, year, school_id\n",
      "\n",
      "\u001b[36mℹ\u001b[39m Use `spec()` to retrieve the full column specification for this data.\n",
      "\u001b[36mℹ\u001b[39m Specify the column types or set `show_col_types = FALSE` to quiet this message.\n"
     ]
    },
    {
     "data": {
      "text/html": [
       "<table class=\"dataframe\">\n",
       "<caption>A spec_tbl_df: 27549 × 11</caption>\n",
       "<thead>\n",
       "\t<tr><th scope=col>opponent_name</th><th scope=col>game_date</th><th scope=col>score</th><th scope=col>opponent_score</th><th scope=col>location</th><th scope=col>neutral_site_location</th><th scope=col>game_length</th><th scope=col>attendence</th><th scope=col>opponent_id</th><th scope=col>year</th><th scope=col>school_id</th></tr>\n",
       "\t<tr><th scope=col>&lt;chr&gt;</th><th scope=col>&lt;chr&gt;</th><th scope=col>&lt;dbl&gt;</th><th scope=col>&lt;dbl&gt;</th><th scope=col>&lt;chr&gt;</th><th scope=col>&lt;chr&gt;</th><th scope=col>&lt;chr&gt;</th><th scope=col>&lt;dbl&gt;</th><th scope=col>&lt;dbl&gt;</th><th scope=col>&lt;dbl&gt;</th><th scope=col>&lt;dbl&gt;</th></tr>\n",
       "</thead>\n",
       "<tbody>\n",
       "\t<tr><td><span style=white-space:pre-wrap>Texas A&amp;M Int'l     </span></td><td>11/22/2003</td><td> 94</td><td>75</td><td>Home</td><td>NA</td><td><span style=white-space:pre-wrap>NA  </span></td><td>2023</td><td><span style=white-space:pre-wrap>  NA</span></td><td>2004</td><td>26172</td></tr>\n",
       "\t<tr><td>Alcorn St.          </td><td>11/25/2003</td><td> 99</td><td>59</td><td>Home</td><td>NA</td><td>NA  </td><td>1897</td><td>  17</td><td>2004</td><td>26172</td></tr>\n",
       "\t<tr><td>Baylor              </td><td>11/29/2003</td><td> 62</td><td>69</td><td>Away</td><td>NA</td><td>NA  </td><td>4378</td><td>  51</td><td>2004</td><td>26172</td></tr>\n",
       "\t<tr><td>Sam Houston St.     </td><td>12/03/2003</td><td> 76</td><td>66</td><td>Home</td><td>NA</td><td>NA  </td><td>1303</td><td> 624</td><td>2004</td><td>26172</td></tr>\n",
       "\t<tr><td>Morehead St.        </td><td>12/06/2003</td><td> 84</td><td>85</td><td>Away</td><td>NA</td><td>NA  </td><td>2418</td><td> 444</td><td>2004</td><td>26172</td></tr>\n",
       "\t<tr><td>Air Force           </td><td>12/09/2003</td><td> 53</td><td>56</td><td>Home</td><td>NA</td><td>NA  </td><td>1977</td><td> 721</td><td>2004</td><td>26172</td></tr>\n",
       "\t<tr><td><span style=white-space:pre-wrap>Texas A&amp;M           </span></td><td>12/13/2003</td><td> 82</td><td>80</td><td>Away</td><td>NA</td><td><span style=white-space:pre-wrap>NA  </span></td><td>4544</td><td> 697</td><td>2004</td><td>26172</td></tr>\n",
       "\t<tr><td>Kansas St.          </td><td>12/20/2003</td><td> 50</td><td>89</td><td>Away</td><td>NA</td><td>NA  </td><td>5762</td><td> 327</td><td>2004</td><td>26172</td></tr>\n",
       "\t<tr><td>Prairie View        </td><td>12/23/2003</td><td> 80</td><td>51</td><td>Home</td><td>NA</td><td>NA  </td><td>1274</td><td> 553</td><td>2004</td><td>26172</td></tr>\n",
       "\t<tr><td>Drake               </td><td>12/29/2003</td><td> 78</td><td>72</td><td>Home</td><td>NA</td><td>NA  </td><td>2022</td><td> 189</td><td>2004</td><td>26172</td></tr>\n",
       "\t<tr><td>Ga. Southern        </td><td>12/30/2003</td><td> 57</td><td>70</td><td>Home</td><td>NA</td><td>NA  </td><td>1866</td><td> 253</td><td>2004</td><td>26172</td></tr>\n",
       "\t<tr><td>Binghamton          </td><td>01/04/2004</td><td> 56</td><td>47</td><td>Away</td><td>NA</td><td>NA  </td><td>1538</td><td>  62</td><td>2004</td><td>26172</td></tr>\n",
       "\t<tr><td>Oklahoma St.        </td><td>01/06/2004</td><td> 52</td><td>84</td><td>Away</td><td>NA</td><td>NA  </td><td>8520</td><td> 521</td><td>2004</td><td>26172</td></tr>\n",
       "\t<tr><td>Texas Southern      </td><td>01/12/2004</td><td> 77</td><td>67</td><td>Home</td><td>NA</td><td>NA  </td><td>1990</td><td> 699</td><td>2004</td><td>26172</td></tr>\n",
       "\t<tr><td>IPFW                </td><td>01/17/2004</td><td> 77</td><td>73</td><td>Away</td><td>NA</td><td>NA  </td><td>3234</td><td> 308</td><td>2004</td><td>26172</td></tr>\n",
       "\t<tr><td>Chicago St.         </td><td>01/19/2004</td><td> 81</td><td>89</td><td>Away</td><td>NA</td><td>NA  </td><td> 558</td><td> 136</td><td>2004</td><td>26172</td></tr>\n",
       "\t<tr><td>Air Force           </td><td>01/21/2004</td><td> 37</td><td>61</td><td>Away</td><td>NA</td><td>NA  </td><td>2638</td><td> 721</td><td>2004</td><td>26172</td></tr>\n",
       "\t<tr><td>Murray St.          </td><td>01/26/2004</td><td> 80</td><td>68</td><td>Home</td><td>NA</td><td>NA  </td><td>1842</td><td> 454</td><td>2004</td><td>26172</td></tr>\n",
       "\t<tr><td>Alcorn St.          </td><td>01/29/2004</td><td> 84</td><td>73</td><td>Away</td><td>NA</td><td>NA  </td><td> 250</td><td>  17</td><td>2004</td><td>26172</td></tr>\n",
       "\t<tr><td>Schreiner           </td><td>02/02/2004</td><td> 90</td><td>69</td><td>Home</td><td>NA</td><td>NA  </td><td>1245</td><td>1355</td><td>2004</td><td>26172</td></tr>\n",
       "\t<tr><td>Northern Colo.      </td><td>02/07/2004</td><td> 88</td><td>70</td><td>Home</td><td>NA</td><td>NA  </td><td>2175</td><td> 502</td><td>2004</td><td>26172</td></tr>\n",
       "\t<tr><td>Tex.-Pan American   </td><td>02/14/2004</td><td> 72</td><td>90</td><td>Away</td><td>NA</td><td>NA  </td><td>1865</td><td> 536</td><td>2004</td><td>26172</td></tr>\n",
       "\t<tr><td>Central Baptist     </td><td>02/21/2004</td><td> 88</td><td>61</td><td>Home</td><td>NA</td><td>NA  </td><td>1979</td><td>  NA</td><td>2004</td><td>26172</td></tr>\n",
       "\t<tr><td>Murray St.          </td><td>02/23/2004</td><td> 53</td><td>73</td><td>Away</td><td>NA</td><td>NA  </td><td>3594</td><td> 454</td><td>2004</td><td>26172</td></tr>\n",
       "\t<tr><td>Savannah St.        </td><td>02/25/2004</td><td> 82</td><td>69</td><td>Away</td><td>NA</td><td>NA  </td><td> 621</td><td> 632</td><td>2004</td><td>26172</td></tr>\n",
       "\t<tr><td>Tex.-Pan American   </td><td>02/28/2004</td><td> 69</td><td>74</td><td>Home</td><td>NA</td><td>NA  </td><td>2110</td><td> 536</td><td>2004</td><td>26172</td></tr>\n",
       "\t<tr><td>Tex. Permian Basin  </td><td>11/15/2003</td><td> 96</td><td>75</td><td>Home</td><td>NA</td><td>NA  </td><td> 500</td><td>  NA</td><td>2004</td><td>    2</td></tr>\n",
       "\t<tr><td>Paul Quinn          </td><td>11/21/2003</td><td> 92</td><td>85</td><td>Home</td><td>NA</td><td>NA  </td><td> 500</td><td>  NA</td><td>2004</td><td>    2</td></tr>\n",
       "\t<tr><td>S'western Assemblies</td><td>11/22/2003</td><td> 75</td><td>54</td><td>Home</td><td>NA</td><td>NA  </td><td> 400</td><td>  NA</td><td>2004</td><td>    2</td></tr>\n",
       "\t<tr><td>St. Edward's        </td><td>11/25/2003</td><td>102</td><td>90</td><td>Away</td><td>NA</td><td>1 OT</td><td> 200</td><td>1334</td><td>2004</td><td>    2</td></tr>\n",
       "\t<tr><td>⋮</td><td>⋮</td><td>⋮</td><td>⋮</td><td>⋮</td><td>⋮</td><td>⋮</td><td>⋮</td><td>⋮</td><td>⋮</td><td>⋮</td></tr>\n",
       "\t<tr><td>St. Mary's (MD)   </td><td>02/24/2004</td><td> 60</td><td>50</td><td>Away</td><td>NA</td><td>NA  </td><td> 199</td><td> 611</td><td>2004</td><td>815</td></tr>\n",
       "\t<tr><td>Mary Washington   </td><td>02/26/2004</td><td> 64</td><td>68</td><td>Away</td><td>NA</td><td>NA  </td><td> 300</td><td> 390</td><td>2004</td><td>815</td></tr>\n",
       "\t<tr><td>Niagara           </td><td>11/22/2003</td><td> 80</td><td>89</td><td>Away</td><td>NA</td><td>NA  </td><td>2029</td><td> 482</td><td>2004</td><td>817</td></tr>\n",
       "\t<tr><td>Toledo            </td><td>11/26/2003</td><td> 74</td><td>78</td><td>Away</td><td>NA</td><td>NA  </td><td>3524</td><td> 709</td><td>2004</td><td>817</td></tr>\n",
       "\t<tr><td>Saint Francis (PA)</td><td>11/29/2003</td><td> 77</td><td>61</td><td>Home</td><td>NA</td><td>NA  </td><td>2345</td><td> 600</td><td>2004</td><td>817</td></tr>\n",
       "\t<tr><td>Boston U.         </td><td>12/01/2003</td><td> 61</td><td>83</td><td>Away</td><td>NA</td><td>NA  </td><td> 724</td><td>  68</td><td>2004</td><td>817</td></tr>\n",
       "\t<tr><td>Slippery Rock     </td><td>12/03/2003</td><td>106</td><td>69</td><td>Home</td><td>NA</td><td>NA  </td><td>1750</td><td> 643</td><td>2004</td><td>817</td></tr>\n",
       "\t<tr><td>Buffalo           </td><td>12/06/2003</td><td> 66</td><td>86</td><td>Away</td><td>NA</td><td>NA  </td><td>1889</td><td>  86</td><td>2004</td><td>817</td></tr>\n",
       "\t<tr><td>Pittsburgh        </td><td>12/13/2003</td><td> 42</td><td>57</td><td>Away</td><td>NA</td><td>NA  </td><td>7039</td><td> 545</td><td>2004</td><td>817</td></tr>\n",
       "\t<tr><td>Wright St.        </td><td>12/18/2003</td><td> 59</td><td>69</td><td>Home</td><td>NA</td><td>NA  </td><td>2367</td><td> 810</td><td>2004</td><td>817</td></tr>\n",
       "\t<tr><td>Oakland           </td><td>12/20/2003</td><td> 67</td><td>70</td><td>Home</td><td>NA</td><td>NA  </td><td>1689</td><td> 514</td><td>2004</td><td>817</td></tr>\n",
       "\t<tr><td>UMKC              </td><td>12/22/2003</td><td> 73</td><td>65</td><td>Home</td><td>NA</td><td>NA  </td><td>1644</td><td>2707</td><td>2004</td><td>817</td></tr>\n",
       "\t<tr><td>Loyola Chicago    </td><td>01/03/2004</td><td> 78</td><td>85</td><td>Away</td><td>NA</td><td>NA  </td><td>2304</td><td> 371</td><td>2004</td><td>817</td></tr>\n",
       "\t<tr><td>Ill.-Chicago      </td><td>01/05/2004</td><td> 47</td><td>66</td><td>Away</td><td>NA</td><td>NA  </td><td>1564</td><td> 302</td><td>2004</td><td>817</td></tr>\n",
       "\t<tr><td>Green Bay         </td><td>01/08/2004</td><td> 52</td><td>62</td><td>Away</td><td>NA</td><td>NA  </td><td>3630</td><td> 794</td><td>2004</td><td>817</td></tr>\n",
       "\t<tr><td>Cleveland St.     </td><td>01/10/2004</td><td> 86</td><td>82</td><td>Home</td><td>NA</td><td>NA  </td><td>4197</td><td> 148</td><td>2004</td><td>817</td></tr>\n",
       "\t<tr><td>Milwaukee         </td><td>01/15/2004</td><td> 74</td><td>80</td><td>Away</td><td>NA</td><td>NA  </td><td>2351</td><td> 797</td><td>2004</td><td>817</td></tr>\n",
       "\t<tr><td>Butler            </td><td>01/21/2004</td><td> 66</td><td>67</td><td>Home</td><td>NA</td><td>1 OT</td><td>3172</td><td>  87</td><td>2004</td><td>817</td></tr>\n",
       "\t<tr><td>Cleveland St.     </td><td>01/24/2004</td><td> 61</td><td>59</td><td>Away</td><td>NA</td><td>NA  </td><td>1790</td><td> 148</td><td>2004</td><td>817</td></tr>\n",
       "\t<tr><td>Loyola Chicago    </td><td>01/29/2004</td><td> 76</td><td>75</td><td>Home</td><td>NA</td><td>NA  </td><td>2275</td><td> 371</td><td>2004</td><td>817</td></tr>\n",
       "\t<tr><td>IPFW              </td><td>01/31/2004</td><td> 71</td><td>61</td><td>Home</td><td>NA</td><td>NA  </td><td>3471</td><td> 308</td><td>2004</td><td>817</td></tr>\n",
       "\t<tr><td>Detroit           </td><td>02/04/2004</td><td> 43</td><td>64</td><td>Away</td><td>NA</td><td>NA  </td><td>1310</td><td> 184</td><td>2004</td><td>817</td></tr>\n",
       "\t<tr><td>Green Bay         </td><td>02/07/2004</td><td> 70</td><td>73</td><td>Home</td><td>NA</td><td>1 OT</td><td>3866</td><td> 794</td><td>2004</td><td>817</td></tr>\n",
       "\t<tr><td>Ill.-Chicago      </td><td>02/12/2004</td><td> 58</td><td>62</td><td>Home</td><td>NA</td><td>NA  </td><td>1984</td><td> 302</td><td>2004</td><td>817</td></tr>\n",
       "\t<tr><td>Milwaukee         </td><td>02/14/2004</td><td> 85</td><td>84</td><td>Home</td><td>NA</td><td>NA  </td><td>2885</td><td> 797</td><td>2004</td><td>817</td></tr>\n",
       "\t<tr><td>Wright St.        </td><td>02/19/2004</td><td> 61</td><td>81</td><td>Away</td><td>NA</td><td>NA  </td><td>7085</td><td> 810</td><td>2004</td><td>817</td></tr>\n",
       "\t<tr><td>Bowling Green     </td><td>02/21/2004</td><td> 64</td><td>76</td><td>Away</td><td>NA</td><td>NA  </td><td>2353</td><td>  71</td><td>2004</td><td>817</td></tr>\n",
       "\t<tr><td>Butler            </td><td>02/25/2004</td><td> 76</td><td>81</td><td>Away</td><td>NA</td><td>NA  </td><td>3725</td><td>  87</td><td>2004</td><td>817</td></tr>\n",
       "\t<tr><td>Detroit           </td><td>02/28/2004</td><td> 46</td><td>56</td><td>Home</td><td>NA</td><td>NA  </td><td>4608</td><td> 184</td><td>2004</td><td>817</td></tr>\n",
       "\t<tr><td>Butler            </td><td>03/02/2004</td><td> 57</td><td>88</td><td>Away</td><td>NA</td><td>NA  </td><td>2301</td><td>  87</td><td>2004</td><td>817</td></tr>\n",
       "</tbody>\n",
       "</table>\n"
      ],
      "text/latex": [
       "A spec\\_tbl\\_df: 27549 × 11\n",
       "\\begin{tabular}{lllllllllll}\n",
       " opponent\\_name & game\\_date & score & opponent\\_score & location & neutral\\_site\\_location & game\\_length & attendence & opponent\\_id & year & school\\_id\\\\\n",
       " <chr> & <chr> & <dbl> & <dbl> & <chr> & <chr> & <chr> & <dbl> & <dbl> & <dbl> & <dbl>\\\\\n",
       "\\hline\n",
       "\t Texas A\\&M Int'l      & 11/22/2003 &  94 & 75 & Home & NA & NA   & 2023 &   NA & 2004 & 26172\\\\\n",
       "\t Alcorn St.           & 11/25/2003 &  99 & 59 & Home & NA & NA   & 1897 &   17 & 2004 & 26172\\\\\n",
       "\t Baylor               & 11/29/2003 &  62 & 69 & Away & NA & NA   & 4378 &   51 & 2004 & 26172\\\\\n",
       "\t Sam Houston St.      & 12/03/2003 &  76 & 66 & Home & NA & NA   & 1303 &  624 & 2004 & 26172\\\\\n",
       "\t Morehead St.         & 12/06/2003 &  84 & 85 & Away & NA & NA   & 2418 &  444 & 2004 & 26172\\\\\n",
       "\t Air Force            & 12/09/2003 &  53 & 56 & Home & NA & NA   & 1977 &  721 & 2004 & 26172\\\\\n",
       "\t Texas A\\&M            & 12/13/2003 &  82 & 80 & Away & NA & NA   & 4544 &  697 & 2004 & 26172\\\\\n",
       "\t Kansas St.           & 12/20/2003 &  50 & 89 & Away & NA & NA   & 5762 &  327 & 2004 & 26172\\\\\n",
       "\t Prairie View         & 12/23/2003 &  80 & 51 & Home & NA & NA   & 1274 &  553 & 2004 & 26172\\\\\n",
       "\t Drake                & 12/29/2003 &  78 & 72 & Home & NA & NA   & 2022 &  189 & 2004 & 26172\\\\\n",
       "\t Ga. Southern         & 12/30/2003 &  57 & 70 & Home & NA & NA   & 1866 &  253 & 2004 & 26172\\\\\n",
       "\t Binghamton           & 01/04/2004 &  56 & 47 & Away & NA & NA   & 1538 &   62 & 2004 & 26172\\\\\n",
       "\t Oklahoma St.         & 01/06/2004 &  52 & 84 & Away & NA & NA   & 8520 &  521 & 2004 & 26172\\\\\n",
       "\t Texas Southern       & 01/12/2004 &  77 & 67 & Home & NA & NA   & 1990 &  699 & 2004 & 26172\\\\\n",
       "\t IPFW                 & 01/17/2004 &  77 & 73 & Away & NA & NA   & 3234 &  308 & 2004 & 26172\\\\\n",
       "\t Chicago St.          & 01/19/2004 &  81 & 89 & Away & NA & NA   &  558 &  136 & 2004 & 26172\\\\\n",
       "\t Air Force            & 01/21/2004 &  37 & 61 & Away & NA & NA   & 2638 &  721 & 2004 & 26172\\\\\n",
       "\t Murray St.           & 01/26/2004 &  80 & 68 & Home & NA & NA   & 1842 &  454 & 2004 & 26172\\\\\n",
       "\t Alcorn St.           & 01/29/2004 &  84 & 73 & Away & NA & NA   &  250 &   17 & 2004 & 26172\\\\\n",
       "\t Schreiner            & 02/02/2004 &  90 & 69 & Home & NA & NA   & 1245 & 1355 & 2004 & 26172\\\\\n",
       "\t Northern Colo.       & 02/07/2004 &  88 & 70 & Home & NA & NA   & 2175 &  502 & 2004 & 26172\\\\\n",
       "\t Tex.-Pan American    & 02/14/2004 &  72 & 90 & Away & NA & NA   & 1865 &  536 & 2004 & 26172\\\\\n",
       "\t Central Baptist      & 02/21/2004 &  88 & 61 & Home & NA & NA   & 1979 &   NA & 2004 & 26172\\\\\n",
       "\t Murray St.           & 02/23/2004 &  53 & 73 & Away & NA & NA   & 3594 &  454 & 2004 & 26172\\\\\n",
       "\t Savannah St.         & 02/25/2004 &  82 & 69 & Away & NA & NA   &  621 &  632 & 2004 & 26172\\\\\n",
       "\t Tex.-Pan American    & 02/28/2004 &  69 & 74 & Home & NA & NA   & 2110 &  536 & 2004 & 26172\\\\\n",
       "\t Tex. Permian Basin   & 11/15/2003 &  96 & 75 & Home & NA & NA   &  500 &   NA & 2004 &     2\\\\\n",
       "\t Paul Quinn           & 11/21/2003 &  92 & 85 & Home & NA & NA   &  500 &   NA & 2004 &     2\\\\\n",
       "\t S'western Assemblies & 11/22/2003 &  75 & 54 & Home & NA & NA   &  400 &   NA & 2004 &     2\\\\\n",
       "\t St. Edward's         & 11/25/2003 & 102 & 90 & Away & NA & 1 OT &  200 & 1334 & 2004 &     2\\\\\n",
       "\t ⋮ & ⋮ & ⋮ & ⋮ & ⋮ & ⋮ & ⋮ & ⋮ & ⋮ & ⋮ & ⋮\\\\\n",
       "\t St. Mary's (MD)    & 02/24/2004 &  60 & 50 & Away & NA & NA   &  199 &  611 & 2004 & 815\\\\\n",
       "\t Mary Washington    & 02/26/2004 &  64 & 68 & Away & NA & NA   &  300 &  390 & 2004 & 815\\\\\n",
       "\t Niagara            & 11/22/2003 &  80 & 89 & Away & NA & NA   & 2029 &  482 & 2004 & 817\\\\\n",
       "\t Toledo             & 11/26/2003 &  74 & 78 & Away & NA & NA   & 3524 &  709 & 2004 & 817\\\\\n",
       "\t Saint Francis (PA) & 11/29/2003 &  77 & 61 & Home & NA & NA   & 2345 &  600 & 2004 & 817\\\\\n",
       "\t Boston U.          & 12/01/2003 &  61 & 83 & Away & NA & NA   &  724 &   68 & 2004 & 817\\\\\n",
       "\t Slippery Rock      & 12/03/2003 & 106 & 69 & Home & NA & NA   & 1750 &  643 & 2004 & 817\\\\\n",
       "\t Buffalo            & 12/06/2003 &  66 & 86 & Away & NA & NA   & 1889 &   86 & 2004 & 817\\\\\n",
       "\t Pittsburgh         & 12/13/2003 &  42 & 57 & Away & NA & NA   & 7039 &  545 & 2004 & 817\\\\\n",
       "\t Wright St.         & 12/18/2003 &  59 & 69 & Home & NA & NA   & 2367 &  810 & 2004 & 817\\\\\n",
       "\t Oakland            & 12/20/2003 &  67 & 70 & Home & NA & NA   & 1689 &  514 & 2004 & 817\\\\\n",
       "\t UMKC               & 12/22/2003 &  73 & 65 & Home & NA & NA   & 1644 & 2707 & 2004 & 817\\\\\n",
       "\t Loyola Chicago     & 01/03/2004 &  78 & 85 & Away & NA & NA   & 2304 &  371 & 2004 & 817\\\\\n",
       "\t Ill.-Chicago       & 01/05/2004 &  47 & 66 & Away & NA & NA   & 1564 &  302 & 2004 & 817\\\\\n",
       "\t Green Bay          & 01/08/2004 &  52 & 62 & Away & NA & NA   & 3630 &  794 & 2004 & 817\\\\\n",
       "\t Cleveland St.      & 01/10/2004 &  86 & 82 & Home & NA & NA   & 4197 &  148 & 2004 & 817\\\\\n",
       "\t Milwaukee          & 01/15/2004 &  74 & 80 & Away & NA & NA   & 2351 &  797 & 2004 & 817\\\\\n",
       "\t Butler             & 01/21/2004 &  66 & 67 & Home & NA & 1 OT & 3172 &   87 & 2004 & 817\\\\\n",
       "\t Cleveland St.      & 01/24/2004 &  61 & 59 & Away & NA & NA   & 1790 &  148 & 2004 & 817\\\\\n",
       "\t Loyola Chicago     & 01/29/2004 &  76 & 75 & Home & NA & NA   & 2275 &  371 & 2004 & 817\\\\\n",
       "\t IPFW               & 01/31/2004 &  71 & 61 & Home & NA & NA   & 3471 &  308 & 2004 & 817\\\\\n",
       "\t Detroit            & 02/04/2004 &  43 & 64 & Away & NA & NA   & 1310 &  184 & 2004 & 817\\\\\n",
       "\t Green Bay          & 02/07/2004 &  70 & 73 & Home & NA & 1 OT & 3866 &  794 & 2004 & 817\\\\\n",
       "\t Ill.-Chicago       & 02/12/2004 &  58 & 62 & Home & NA & NA   & 1984 &  302 & 2004 & 817\\\\\n",
       "\t Milwaukee          & 02/14/2004 &  85 & 84 & Home & NA & NA   & 2885 &  797 & 2004 & 817\\\\\n",
       "\t Wright St.         & 02/19/2004 &  61 & 81 & Away & NA & NA   & 7085 &  810 & 2004 & 817\\\\\n",
       "\t Bowling Green      & 02/21/2004 &  64 & 76 & Away & NA & NA   & 2353 &   71 & 2004 & 817\\\\\n",
       "\t Butler             & 02/25/2004 &  76 & 81 & Away & NA & NA   & 3725 &   87 & 2004 & 817\\\\\n",
       "\t Detroit            & 02/28/2004 &  46 & 56 & Home & NA & NA   & 4608 &  184 & 2004 & 817\\\\\n",
       "\t Butler             & 03/02/2004 &  57 & 88 & Away & NA & NA   & 2301 &   87 & 2004 & 817\\\\\n",
       "\\end{tabular}\n"
      ],
      "text/markdown": [
       "\n",
       "A spec_tbl_df: 27549 × 11\n",
       "\n",
       "| opponent_name &lt;chr&gt; | game_date &lt;chr&gt; | score &lt;dbl&gt; | opponent_score &lt;dbl&gt; | location &lt;chr&gt; | neutral_site_location &lt;chr&gt; | game_length &lt;chr&gt; | attendence &lt;dbl&gt; | opponent_id &lt;dbl&gt; | year &lt;dbl&gt; | school_id &lt;dbl&gt; |\n",
       "|---|---|---|---|---|---|---|---|---|---|---|\n",
       "| Texas A&amp;M Int'l      | 11/22/2003 |  94 | 75 | Home | NA | NA   | 2023 |   NA | 2004 | 26172 |\n",
       "| Alcorn St.           | 11/25/2003 |  99 | 59 | Home | NA | NA   | 1897 |   17 | 2004 | 26172 |\n",
       "| Baylor               | 11/29/2003 |  62 | 69 | Away | NA | NA   | 4378 |   51 | 2004 | 26172 |\n",
       "| Sam Houston St.      | 12/03/2003 |  76 | 66 | Home | NA | NA   | 1303 |  624 | 2004 | 26172 |\n",
       "| Morehead St.         | 12/06/2003 |  84 | 85 | Away | NA | NA   | 2418 |  444 | 2004 | 26172 |\n",
       "| Air Force            | 12/09/2003 |  53 | 56 | Home | NA | NA   | 1977 |  721 | 2004 | 26172 |\n",
       "| Texas A&amp;M            | 12/13/2003 |  82 | 80 | Away | NA | NA   | 4544 |  697 | 2004 | 26172 |\n",
       "| Kansas St.           | 12/20/2003 |  50 | 89 | Away | NA | NA   | 5762 |  327 | 2004 | 26172 |\n",
       "| Prairie View         | 12/23/2003 |  80 | 51 | Home | NA | NA   | 1274 |  553 | 2004 | 26172 |\n",
       "| Drake                | 12/29/2003 |  78 | 72 | Home | NA | NA   | 2022 |  189 | 2004 | 26172 |\n",
       "| Ga. Southern         | 12/30/2003 |  57 | 70 | Home | NA | NA   | 1866 |  253 | 2004 | 26172 |\n",
       "| Binghamton           | 01/04/2004 |  56 | 47 | Away | NA | NA   | 1538 |   62 | 2004 | 26172 |\n",
       "| Oklahoma St.         | 01/06/2004 |  52 | 84 | Away | NA | NA   | 8520 |  521 | 2004 | 26172 |\n",
       "| Texas Southern       | 01/12/2004 |  77 | 67 | Home | NA | NA   | 1990 |  699 | 2004 | 26172 |\n",
       "| IPFW                 | 01/17/2004 |  77 | 73 | Away | NA | NA   | 3234 |  308 | 2004 | 26172 |\n",
       "| Chicago St.          | 01/19/2004 |  81 | 89 | Away | NA | NA   |  558 |  136 | 2004 | 26172 |\n",
       "| Air Force            | 01/21/2004 |  37 | 61 | Away | NA | NA   | 2638 |  721 | 2004 | 26172 |\n",
       "| Murray St.           | 01/26/2004 |  80 | 68 | Home | NA | NA   | 1842 |  454 | 2004 | 26172 |\n",
       "| Alcorn St.           | 01/29/2004 |  84 | 73 | Away | NA | NA   |  250 |   17 | 2004 | 26172 |\n",
       "| Schreiner            | 02/02/2004 |  90 | 69 | Home | NA | NA   | 1245 | 1355 | 2004 | 26172 |\n",
       "| Northern Colo.       | 02/07/2004 |  88 | 70 | Home | NA | NA   | 2175 |  502 | 2004 | 26172 |\n",
       "| Tex.-Pan American    | 02/14/2004 |  72 | 90 | Away | NA | NA   | 1865 |  536 | 2004 | 26172 |\n",
       "| Central Baptist      | 02/21/2004 |  88 | 61 | Home | NA | NA   | 1979 |   NA | 2004 | 26172 |\n",
       "| Murray St.           | 02/23/2004 |  53 | 73 | Away | NA | NA   | 3594 |  454 | 2004 | 26172 |\n",
       "| Savannah St.         | 02/25/2004 |  82 | 69 | Away | NA | NA   |  621 |  632 | 2004 | 26172 |\n",
       "| Tex.-Pan American    | 02/28/2004 |  69 | 74 | Home | NA | NA   | 2110 |  536 | 2004 | 26172 |\n",
       "| Tex. Permian Basin   | 11/15/2003 |  96 | 75 | Home | NA | NA   |  500 |   NA | 2004 |     2 |\n",
       "| Paul Quinn           | 11/21/2003 |  92 | 85 | Home | NA | NA   |  500 |   NA | 2004 |     2 |\n",
       "| S'western Assemblies | 11/22/2003 |  75 | 54 | Home | NA | NA   |  400 |   NA | 2004 |     2 |\n",
       "| St. Edward's         | 11/25/2003 | 102 | 90 | Away | NA | 1 OT |  200 | 1334 | 2004 |     2 |\n",
       "| ⋮ | ⋮ | ⋮ | ⋮ | ⋮ | ⋮ | ⋮ | ⋮ | ⋮ | ⋮ | ⋮ |\n",
       "| St. Mary's (MD)    | 02/24/2004 |  60 | 50 | Away | NA | NA   |  199 |  611 | 2004 | 815 |\n",
       "| Mary Washington    | 02/26/2004 |  64 | 68 | Away | NA | NA   |  300 |  390 | 2004 | 815 |\n",
       "| Niagara            | 11/22/2003 |  80 | 89 | Away | NA | NA   | 2029 |  482 | 2004 | 817 |\n",
       "| Toledo             | 11/26/2003 |  74 | 78 | Away | NA | NA   | 3524 |  709 | 2004 | 817 |\n",
       "| Saint Francis (PA) | 11/29/2003 |  77 | 61 | Home | NA | NA   | 2345 |  600 | 2004 | 817 |\n",
       "| Boston U.          | 12/01/2003 |  61 | 83 | Away | NA | NA   |  724 |   68 | 2004 | 817 |\n",
       "| Slippery Rock      | 12/03/2003 | 106 | 69 | Home | NA | NA   | 1750 |  643 | 2004 | 817 |\n",
       "| Buffalo            | 12/06/2003 |  66 | 86 | Away | NA | NA   | 1889 |   86 | 2004 | 817 |\n",
       "| Pittsburgh         | 12/13/2003 |  42 | 57 | Away | NA | NA   | 7039 |  545 | 2004 | 817 |\n",
       "| Wright St.         | 12/18/2003 |  59 | 69 | Home | NA | NA   | 2367 |  810 | 2004 | 817 |\n",
       "| Oakland            | 12/20/2003 |  67 | 70 | Home | NA | NA   | 1689 |  514 | 2004 | 817 |\n",
       "| UMKC               | 12/22/2003 |  73 | 65 | Home | NA | NA   | 1644 | 2707 | 2004 | 817 |\n",
       "| Loyola Chicago     | 01/03/2004 |  78 | 85 | Away | NA | NA   | 2304 |  371 | 2004 | 817 |\n",
       "| Ill.-Chicago       | 01/05/2004 |  47 | 66 | Away | NA | NA   | 1564 |  302 | 2004 | 817 |\n",
       "| Green Bay          | 01/08/2004 |  52 | 62 | Away | NA | NA   | 3630 |  794 | 2004 | 817 |\n",
       "| Cleveland St.      | 01/10/2004 |  86 | 82 | Home | NA | NA   | 4197 |  148 | 2004 | 817 |\n",
       "| Milwaukee          | 01/15/2004 |  74 | 80 | Away | NA | NA   | 2351 |  797 | 2004 | 817 |\n",
       "| Butler             | 01/21/2004 |  66 | 67 | Home | NA | 1 OT | 3172 |   87 | 2004 | 817 |\n",
       "| Cleveland St.      | 01/24/2004 |  61 | 59 | Away | NA | NA   | 1790 |  148 | 2004 | 817 |\n",
       "| Loyola Chicago     | 01/29/2004 |  76 | 75 | Home | NA | NA   | 2275 |  371 | 2004 | 817 |\n",
       "| IPFW               | 01/31/2004 |  71 | 61 | Home | NA | NA   | 3471 |  308 | 2004 | 817 |\n",
       "| Detroit            | 02/04/2004 |  43 | 64 | Away | NA | NA   | 1310 |  184 | 2004 | 817 |\n",
       "| Green Bay          | 02/07/2004 |  70 | 73 | Home | NA | 1 OT | 3866 |  794 | 2004 | 817 |\n",
       "| Ill.-Chicago       | 02/12/2004 |  58 | 62 | Home | NA | NA   | 1984 |  302 | 2004 | 817 |\n",
       "| Milwaukee          | 02/14/2004 |  85 | 84 | Home | NA | NA   | 2885 |  797 | 2004 | 817 |\n",
       "| Wright St.         | 02/19/2004 |  61 | 81 | Away | NA | NA   | 7085 |  810 | 2004 | 817 |\n",
       "| Bowling Green      | 02/21/2004 |  64 | 76 | Away | NA | NA   | 2353 |   71 | 2004 | 817 |\n",
       "| Butler             | 02/25/2004 |  76 | 81 | Away | NA | NA   | 3725 |   87 | 2004 | 817 |\n",
       "| Detroit            | 02/28/2004 |  46 | 56 | Home | NA | NA   | 4608 |  184 | 2004 | 817 |\n",
       "| Butler             | 03/02/2004 |  57 | 88 | Away | NA | NA   | 2301 |   87 | 2004 | 817 |\n",
       "\n"
      ],
      "text/plain": [
       "      opponent_name        game_date  score opponent_score location\n",
       "1     Texas A&M Int'l      11/22/2003  94   75             Home    \n",
       "2     Alcorn St.           11/25/2003  99   59             Home    \n",
       "3     Baylor               11/29/2003  62   69             Away    \n",
       "4     Sam Houston St.      12/03/2003  76   66             Home    \n",
       "5     Morehead St.         12/06/2003  84   85             Away    \n",
       "6     Air Force            12/09/2003  53   56             Home    \n",
       "7     Texas A&M            12/13/2003  82   80             Away    \n",
       "8     Kansas St.           12/20/2003  50   89             Away    \n",
       "9     Prairie View         12/23/2003  80   51             Home    \n",
       "10    Drake                12/29/2003  78   72             Home    \n",
       "11    Ga. Southern         12/30/2003  57   70             Home    \n",
       "12    Binghamton           01/04/2004  56   47             Away    \n",
       "13    Oklahoma St.         01/06/2004  52   84             Away    \n",
       "14    Texas Southern       01/12/2004  77   67             Home    \n",
       "15    IPFW                 01/17/2004  77   73             Away    \n",
       "16    Chicago St.          01/19/2004  81   89             Away    \n",
       "17    Air Force            01/21/2004  37   61             Away    \n",
       "18    Murray St.           01/26/2004  80   68             Home    \n",
       "19    Alcorn St.           01/29/2004  84   73             Away    \n",
       "20    Schreiner            02/02/2004  90   69             Home    \n",
       "21    Northern Colo.       02/07/2004  88   70             Home    \n",
       "22    Tex.-Pan American    02/14/2004  72   90             Away    \n",
       "23    Central Baptist      02/21/2004  88   61             Home    \n",
       "24    Murray St.           02/23/2004  53   73             Away    \n",
       "25    Savannah St.         02/25/2004  82   69             Away    \n",
       "26    Tex.-Pan American    02/28/2004  69   74             Home    \n",
       "27    Tex. Permian Basin   11/15/2003  96   75             Home    \n",
       "28    Paul Quinn           11/21/2003  92   85             Home    \n",
       "29    S'western Assemblies 11/22/2003  75   54             Home    \n",
       "30    St. Edward's         11/25/2003 102   90             Away    \n",
       "⋮     ⋮                    ⋮          ⋮     ⋮              ⋮       \n",
       "27520 St. Mary's (MD)      02/24/2004  60   50             Away    \n",
       "27521 Mary Washington      02/26/2004  64   68             Away    \n",
       "27522 Niagara              11/22/2003  80   89             Away    \n",
       "27523 Toledo               11/26/2003  74   78             Away    \n",
       "27524 Saint Francis (PA)   11/29/2003  77   61             Home    \n",
       "27525 Boston U.            12/01/2003  61   83             Away    \n",
       "27526 Slippery Rock        12/03/2003 106   69             Home    \n",
       "27527 Buffalo              12/06/2003  66   86             Away    \n",
       "27528 Pittsburgh           12/13/2003  42   57             Away    \n",
       "27529 Wright St.           12/18/2003  59   69             Home    \n",
       "27530 Oakland              12/20/2003  67   70             Home    \n",
       "27531 UMKC                 12/22/2003  73   65             Home    \n",
       "27532 Loyola Chicago       01/03/2004  78   85             Away    \n",
       "27533 Ill.-Chicago         01/05/2004  47   66             Away    \n",
       "27534 Green Bay            01/08/2004  52   62             Away    \n",
       "27535 Cleveland St.        01/10/2004  86   82             Home    \n",
       "27536 Milwaukee            01/15/2004  74   80             Away    \n",
       "27537 Butler               01/21/2004  66   67             Home    \n",
       "27538 Cleveland St.        01/24/2004  61   59             Away    \n",
       "27539 Loyola Chicago       01/29/2004  76   75             Home    \n",
       "27540 IPFW                 01/31/2004  71   61             Home    \n",
       "27541 Detroit              02/04/2004  43   64             Away    \n",
       "27542 Green Bay            02/07/2004  70   73             Home    \n",
       "27543 Ill.-Chicago         02/12/2004  58   62             Home    \n",
       "27544 Milwaukee            02/14/2004  85   84             Home    \n",
       "27545 Wright St.           02/19/2004  61   81             Away    \n",
       "27546 Bowling Green        02/21/2004  64   76             Away    \n",
       "27547 Butler               02/25/2004  76   81             Away    \n",
       "27548 Detroit              02/28/2004  46   56             Home    \n",
       "27549 Butler               03/02/2004  57   88             Away    \n",
       "      neutral_site_location game_length attendence opponent_id year school_id\n",
       "1     NA                    NA          2023         NA        2004 26172    \n",
       "2     NA                    NA          1897         17        2004 26172    \n",
       "3     NA                    NA          4378         51        2004 26172    \n",
       "4     NA                    NA          1303        624        2004 26172    \n",
       "5     NA                    NA          2418        444        2004 26172    \n",
       "6     NA                    NA          1977        721        2004 26172    \n",
       "7     NA                    NA          4544        697        2004 26172    \n",
       "8     NA                    NA          5762        327        2004 26172    \n",
       "9     NA                    NA          1274        553        2004 26172    \n",
       "10    NA                    NA          2022        189        2004 26172    \n",
       "11    NA                    NA          1866        253        2004 26172    \n",
       "12    NA                    NA          1538         62        2004 26172    \n",
       "13    NA                    NA          8520        521        2004 26172    \n",
       "14    NA                    NA          1990        699        2004 26172    \n",
       "15    NA                    NA          3234        308        2004 26172    \n",
       "16    NA                    NA           558        136        2004 26172    \n",
       "17    NA                    NA          2638        721        2004 26172    \n",
       "18    NA                    NA          1842        454        2004 26172    \n",
       "19    NA                    NA           250         17        2004 26172    \n",
       "20    NA                    NA          1245       1355        2004 26172    \n",
       "21    NA                    NA          2175        502        2004 26172    \n",
       "22    NA                    NA          1865        536        2004 26172    \n",
       "23    NA                    NA          1979         NA        2004 26172    \n",
       "24    NA                    NA          3594        454        2004 26172    \n",
       "25    NA                    NA           621        632        2004 26172    \n",
       "26    NA                    NA          2110        536        2004 26172    \n",
       "27    NA                    NA           500         NA        2004     2    \n",
       "28    NA                    NA           500         NA        2004     2    \n",
       "29    NA                    NA           400         NA        2004     2    \n",
       "30    NA                    1 OT         200       1334        2004     2    \n",
       "⋮     ⋮                     ⋮           ⋮          ⋮           ⋮    ⋮        \n",
       "27520 NA                    NA           199        611        2004 815      \n",
       "27521 NA                    NA           300        390        2004 815      \n",
       "27522 NA                    NA          2029        482        2004 817      \n",
       "27523 NA                    NA          3524        709        2004 817      \n",
       "27524 NA                    NA          2345        600        2004 817      \n",
       "27525 NA                    NA           724         68        2004 817      \n",
       "27526 NA                    NA          1750        643        2004 817      \n",
       "27527 NA                    NA          1889         86        2004 817      \n",
       "27528 NA                    NA          7039        545        2004 817      \n",
       "27529 NA                    NA          2367        810        2004 817      \n",
       "27530 NA                    NA          1689        514        2004 817      \n",
       "27531 NA                    NA          1644       2707        2004 817      \n",
       "27532 NA                    NA          2304        371        2004 817      \n",
       "27533 NA                    NA          1564        302        2004 817      \n",
       "27534 NA                    NA          3630        794        2004 817      \n",
       "27535 NA                    NA          4197        148        2004 817      \n",
       "27536 NA                    NA          2351        797        2004 817      \n",
       "27537 NA                    1 OT        3172         87        2004 817      \n",
       "27538 NA                    NA          1790        148        2004 817      \n",
       "27539 NA                    NA          2275        371        2004 817      \n",
       "27540 NA                    NA          3471        308        2004 817      \n",
       "27541 NA                    NA          1310        184        2004 817      \n",
       "27542 NA                    1 OT        3866        794        2004 817      \n",
       "27543 NA                    NA          1984        302        2004 817      \n",
       "27544 NA                    NA          2885        797        2004 817      \n",
       "27545 NA                    NA          7085        810        2004 817      \n",
       "27546 NA                    NA          2353         71        2004 817      \n",
       "27547 NA                    NA          3725         87        2004 817      \n",
       "27548 NA                    NA          4608        184        2004 817      \n",
       "27549 NA                    NA          2301         87        2004 817      "
      ]
     },
     "metadata": {},
     "output_type": "display_data"
    }
   ],
   "source": [
    "u <- \"https://datasets.stats306.org/ncaa/ncaa_games_2004.csv.gz\"  # contains data for 2002-2019\n",
    "read_csv(u)"
   ]
  },
  {
   "cell_type": "markdown",
   "metadata": {
    "slideshow": {
     "slide_type": "notes"
    }
   },
   "source": [
    "Let's think about how we could combine these data into one big table for further analysis. First, we'll use a for loop:"
   ]
  },
  {
   "cell_type": "code",
   "execution_count": 231,
   "metadata": {
    "slideshow": {
     "slide_type": "slide"
    }
   },
   "outputs": [
    {
     "name": "stderr",
     "output_type": "stream",
     "text": [
      "\u001b[1mRows: \u001b[22m\u001b[34m27708\u001b[39m \u001b[1mColumns: \u001b[22m\u001b[34m11\u001b[39m\n",
      "\u001b[36m──\u001b[39m \u001b[1mColumn specification\u001b[22m \u001b[36m─────────────────────────────────────────────────────────────────────────────────────────────────────────────────────────────────────\u001b[39m\n",
      "\u001b[1mDelimiter:\u001b[22m \",\"\n",
      "\u001b[31mchr\u001b[39m (5): opponent_name, game_date, location, neutral_site_location, game_length\n",
      "\u001b[32mdbl\u001b[39m (6): score, opponent_score, attendence, opponent_id, year, school_id\n",
      "\n",
      "\u001b[36mℹ\u001b[39m Use `spec()` to retrieve the full column specification for this data.\n",
      "\u001b[36mℹ\u001b[39m Specify the column types or set `show_col_types = FALSE` to quiet this message.\n",
      "\u001b[1mRows: \u001b[22m\u001b[34m27253\u001b[39m \u001b[1mColumns: \u001b[22m\u001b[34m11\u001b[39m\n",
      "\u001b[36m──\u001b[39m \u001b[1mColumn specification\u001b[22m \u001b[36m─────────────────────────────────────────────────────────────────────────────────────────────────────────────────────────────────────\u001b[39m\n",
      "\u001b[1mDelimiter:\u001b[22m \",\"\n",
      "\u001b[31mchr\u001b[39m (5): opponent_name, game_date, location, neutral_site_location, game_length\n",
      "\u001b[32mdbl\u001b[39m (6): score, opponent_score, attendence, opponent_id, year, school_id\n",
      "\n",
      "\u001b[36mℹ\u001b[39m Use `spec()` to retrieve the full column specification for this data.\n",
      "\u001b[36mℹ\u001b[39m Specify the column types or set `show_col_types = FALSE` to quiet this message.\n",
      "\u001b[1mRows: \u001b[22m\u001b[34m27549\u001b[39m \u001b[1mColumns: \u001b[22m\u001b[34m11\u001b[39m\n",
      "\u001b[36m──\u001b[39m \u001b[1mColumn specification\u001b[22m \u001b[36m─────────────────────────────────────────────────────────────────────────────────────────────────────────────────────────────────────\u001b[39m\n",
      "\u001b[1mDelimiter:\u001b[22m \",\"\n",
      "\u001b[31mchr\u001b[39m (5): opponent_name, game_date, location, neutral_site_location, game_length\n",
      "\u001b[32mdbl\u001b[39m (6): score, opponent_score, attendence, opponent_id, year, school_id\n",
      "\n",
      "\u001b[36mℹ\u001b[39m Use `spec()` to retrieve the full column specification for this data.\n",
      "\u001b[36mℹ\u001b[39m Specify the column types or set `show_col_types = FALSE` to quiet this message.\n",
      "\u001b[1mRows: \u001b[22m\u001b[34m28181\u001b[39m \u001b[1mColumns: \u001b[22m\u001b[34m11\u001b[39m\n",
      "\u001b[36m──\u001b[39m \u001b[1mColumn specification\u001b[22m \u001b[36m─────────────────────────────────────────────────────────────────────────────────────────────────────────────────────────────────────\u001b[39m\n",
      "\u001b[1mDelimiter:\u001b[22m \",\"\n",
      "\u001b[31mchr\u001b[39m (5): opponent_name, game_date, location, neutral_site_location, game_length\n",
      "\u001b[32mdbl\u001b[39m (6): score, opponent_score, attendence, opponent_id, year, school_id\n",
      "\n",
      "\u001b[36mℹ\u001b[39m Use `spec()` to retrieve the full column specification for this data.\n",
      "\u001b[36mℹ\u001b[39m Specify the column types or set `show_col_types = FALSE` to quiet this message.\n",
      "\u001b[1mRows: \u001b[22m\u001b[34m28184\u001b[39m \u001b[1mColumns: \u001b[22m\u001b[34m11\u001b[39m\n",
      "\u001b[36m──\u001b[39m \u001b[1mColumn specification\u001b[22m \u001b[36m─────────────────────────────────────────────────────────────────────────────────────────────────────────────────────────────────────\u001b[39m\n",
      "\u001b[1mDelimiter:\u001b[22m \",\"\n",
      "\u001b[31mchr\u001b[39m (5): opponent_name, game_date, location, neutral_site_location, game_length\n",
      "\u001b[32mdbl\u001b[39m (6): score, opponent_score, attendence, opponent_id, year, school_id\n",
      "\n",
      "\u001b[36mℹ\u001b[39m Use `spec()` to retrieve the full column specification for this data.\n",
      "\u001b[36mℹ\u001b[39m Specify the column types or set `show_col_types = FALSE` to quiet this message.\n",
      "\u001b[1mRows: \u001b[22m\u001b[34m31579\u001b[39m \u001b[1mColumns: \u001b[22m\u001b[34m11\u001b[39m\n",
      "\u001b[36m──\u001b[39m \u001b[1mColumn specification\u001b[22m \u001b[36m─────────────────────────────────────────────────────────────────────────────────────────────────────────────────────────────────────\u001b[39m\n",
      "\u001b[1mDelimiter:\u001b[22m \",\"\n",
      "\u001b[31mchr\u001b[39m (5): opponent_name, game_date, location, neutral_site_location, game_length\n",
      "\u001b[32mdbl\u001b[39m (6): score, opponent_score, attendence, opponent_id, year, school_id\n",
      "\n",
      "\u001b[36mℹ\u001b[39m Use `spec()` to retrieve the full column specification for this data.\n",
      "\u001b[36mℹ\u001b[39m Specify the column types or set `show_col_types = FALSE` to quiet this message.\n",
      "\u001b[1mRows: \u001b[22m\u001b[34m30266\u001b[39m \u001b[1mColumns: \u001b[22m\u001b[34m11\u001b[39m\n",
      "\u001b[36m──\u001b[39m \u001b[1mColumn specification\u001b[22m \u001b[36m─────────────────────────────────────────────────────────────────────────────────────────────────────────────────────────────────────\u001b[39m\n",
      "\u001b[1mDelimiter:\u001b[22m \",\"\n",
      "\u001b[31mchr\u001b[39m (5): opponent_name, game_date, location, neutral_site_location, game_length\n",
      "\u001b[32mdbl\u001b[39m (6): score, opponent_score, attendence, opponent_id, year, school_id\n",
      "\n",
      "\u001b[36mℹ\u001b[39m Use `spec()` to retrieve the full column specification for this data.\n",
      "\u001b[36mℹ\u001b[39m Specify the column types or set `show_col_types = FALSE` to quiet this message.\n",
      "\u001b[1mRows: \u001b[22m\u001b[34m31315\u001b[39m \u001b[1mColumns: \u001b[22m\u001b[34m11\u001b[39m\n",
      "\u001b[36m──\u001b[39m \u001b[1mColumn specification\u001b[22m \u001b[36m─────────────────────────────────────────────────────────────────────────────────────────────────────────────────────────────────────\u001b[39m\n",
      "\u001b[1mDelimiter:\u001b[22m \",\"\n",
      "\u001b[31mchr\u001b[39m (5): opponent_name, game_date, location, neutral_site_location, game_length\n",
      "\u001b[32mdbl\u001b[39m (6): score, opponent_score, attendence, opponent_id, year, school_id\n",
      "\n",
      "\u001b[36mℹ\u001b[39m Use `spec()` to retrieve the full column specification for this data.\n",
      "\u001b[36mℹ\u001b[39m Specify the column types or set `show_col_types = FALSE` to quiet this message.\n",
      "\u001b[1mRows: \u001b[22m\u001b[34m30930\u001b[39m \u001b[1mColumns: \u001b[22m\u001b[34m11\u001b[39m\n",
      "\u001b[36m──\u001b[39m \u001b[1mColumn specification\u001b[22m \u001b[36m─────────────────────────────────────────────────────────────────────────────────────────────────────────────────────────────────────\u001b[39m\n",
      "\u001b[1mDelimiter:\u001b[22m \",\"\n",
      "\u001b[31mchr\u001b[39m (5): opponent_name, game_date, location, neutral_site_location, game_length\n",
      "\u001b[32mdbl\u001b[39m (6): score, opponent_score, attendence, opponent_id, year, school_id\n",
      "\n",
      "\u001b[36mℹ\u001b[39m Use `spec()` to retrieve the full column specification for this data.\n",
      "\u001b[36mℹ\u001b[39m Specify the column types or set `show_col_types = FALSE` to quiet this message.\n",
      "\u001b[1mRows: \u001b[22m\u001b[34m29840\u001b[39m \u001b[1mColumns: \u001b[22m\u001b[34m11\u001b[39m\n",
      "\u001b[36m──\u001b[39m \u001b[1mColumn specification\u001b[22m \u001b[36m─────────────────────────────────────────────────────────────────────────────────────────────────────────────────────────────────────\u001b[39m\n",
      "\u001b[1mDelimiter:\u001b[22m \",\"\n",
      "\u001b[31mchr\u001b[39m (5): opponent_name, game_date, location, neutral_site_location, game_length\n",
      "\u001b[32mdbl\u001b[39m (6): score, opponent_score, attendence, opponent_id, year, school_id\n",
      "\n",
      "\u001b[36mℹ\u001b[39m Use `spec()` to retrieve the full column specification for this data.\n",
      "\u001b[36mℹ\u001b[39m Specify the column types or set `show_col_types = FALSE` to quiet this message.\n",
      "\u001b[1mRows: \u001b[22m\u001b[34m30186\u001b[39m \u001b[1mColumns: \u001b[22m\u001b[34m11\u001b[39m\n",
      "\u001b[36m──\u001b[39m \u001b[1mColumn specification\u001b[22m \u001b[36m─────────────────────────────────────────────────────────────────────────────────────────────────────────────────────────────────────\u001b[39m\n",
      "\u001b[1mDelimiter:\u001b[22m \",\"\n",
      "\u001b[31mchr\u001b[39m (5): opponent_name, game_date, location, neutral_site_location, game_length\n",
      "\u001b[32mdbl\u001b[39m (6): score, opponent_score, attendence, opponent_id, year, school_id\n",
      "\n",
      "\u001b[36mℹ\u001b[39m Use `spec()` to retrieve the full column specification for this data.\n",
      "\u001b[36mℹ\u001b[39m Specify the column types or set `show_col_types = FALSE` to quiet this message.\n",
      "\u001b[1mRows: \u001b[22m\u001b[34m30610\u001b[39m \u001b[1mColumns: \u001b[22m\u001b[34m11\u001b[39m\n",
      "\u001b[36m──\u001b[39m \u001b[1mColumn specification\u001b[22m \u001b[36m─────────────────────────────────────────────────────────────────────────────────────────────────────────────────────────────────────\u001b[39m\n",
      "\u001b[1mDelimiter:\u001b[22m \",\"\n",
      "\u001b[31mchr\u001b[39m (5): opponent_name, game_date, location, neutral_site_location, game_length\n",
      "\u001b[32mdbl\u001b[39m (6): score, opponent_score, attendence, opponent_id, year, school_id\n",
      "\n",
      "\u001b[36mℹ\u001b[39m Use `spec()` to retrieve the full column specification for this data.\n",
      "\u001b[36mℹ\u001b[39m Specify the column types or set `show_col_types = FALSE` to quiet this message.\n",
      "\u001b[1mRows: \u001b[22m\u001b[34m31018\u001b[39m \u001b[1mColumns: \u001b[22m\u001b[34m11\u001b[39m\n",
      "\u001b[36m──\u001b[39m \u001b[1mColumn specification\u001b[22m \u001b[36m─────────────────────────────────────────────────────────────────────────────────────────────────────────────────────────────────────\u001b[39m\n",
      "\u001b[1mDelimiter:\u001b[22m \",\"\n",
      "\u001b[31mchr\u001b[39m (5): opponent_name, game_date, location, neutral_site_location, game_length\n",
      "\u001b[32mdbl\u001b[39m (6): score, opponent_score, attendence, opponent_id, year, school_id\n",
      "\n",
      "\u001b[36mℹ\u001b[39m Use `spec()` to retrieve the full column specification for this data.\n",
      "\u001b[36mℹ\u001b[39m Specify the column types or set `show_col_types = FALSE` to quiet this message.\n",
      "\u001b[1mRows: \u001b[22m\u001b[34m31327\u001b[39m \u001b[1mColumns: \u001b[22m\u001b[34m11\u001b[39m\n",
      "\u001b[36m──\u001b[39m \u001b[1mColumn specification\u001b[22m \u001b[36m─────────────────────────────────────────────────────────────────────────────────────────────────────────────────────────────────────\u001b[39m\n",
      "\u001b[1mDelimiter:\u001b[22m \",\"\n",
      "\u001b[31mchr\u001b[39m (5): opponent_name, game_date, location, neutral_site_location, game_length\n",
      "\u001b[32mdbl\u001b[39m (6): score, opponent_score, attendence, opponent_id, year, school_id\n"
     ]
    },
    {
     "name": "stderr",
     "output_type": "stream",
     "text": [
      "\n",
      "\u001b[36mℹ\u001b[39m Use `spec()` to retrieve the full column specification for this data.\n",
      "\u001b[36mℹ\u001b[39m Specify the column types or set `show_col_types = FALSE` to quiet this message.\n",
      "\u001b[1mRows: \u001b[22m\u001b[34m31576\u001b[39m \u001b[1mColumns: \u001b[22m\u001b[34m11\u001b[39m\n",
      "\u001b[36m──\u001b[39m \u001b[1mColumn specification\u001b[22m \u001b[36m─────────────────────────────────────────────────────────────────────────────────────────────────────────────────────────────────────\u001b[39m\n",
      "\u001b[1mDelimiter:\u001b[22m \",\"\n",
      "\u001b[31mchr\u001b[39m (5): opponent_name, game_date, location, neutral_site_location, game_length\n",
      "\u001b[32mdbl\u001b[39m (6): score, opponent_score, attendence, opponent_id, year, school_id\n",
      "\n",
      "\u001b[36mℹ\u001b[39m Use `spec()` to retrieve the full column specification for this data.\n",
      "\u001b[36mℹ\u001b[39m Specify the column types or set `show_col_types = FALSE` to quiet this message.\n",
      "\u001b[1mRows: \u001b[22m\u001b[34m31566\u001b[39m \u001b[1mColumns: \u001b[22m\u001b[34m11\u001b[39m\n",
      "\u001b[36m──\u001b[39m \u001b[1mColumn specification\u001b[22m \u001b[36m─────────────────────────────────────────────────────────────────────────────────────────────────────────────────────────────────────\u001b[39m\n",
      "\u001b[1mDelimiter:\u001b[22m \",\"\n",
      "\u001b[31mchr\u001b[39m (5): opponent_name, game_date, location, neutral_site_location, game_length\n",
      "\u001b[32mdbl\u001b[39m (6): score, opponent_score, attendence, opponent_id, year, school_id\n",
      "\n",
      "\u001b[36mℹ\u001b[39m Use `spec()` to retrieve the full column specification for this data.\n",
      "\u001b[36mℹ\u001b[39m Specify the column types or set `show_col_types = FALSE` to quiet this message.\n",
      "\u001b[1mRows: \u001b[22m\u001b[34m31753\u001b[39m \u001b[1mColumns: \u001b[22m\u001b[34m11\u001b[39m\n",
      "\u001b[36m──\u001b[39m \u001b[1mColumn specification\u001b[22m \u001b[36m─────────────────────────────────────────────────────────────────────────────────────────────────────────────────────────────────────\u001b[39m\n",
      "\u001b[1mDelimiter:\u001b[22m \",\"\n",
      "\u001b[31mchr\u001b[39m (5): opponent_name, game_date, location, neutral_site_location, game_length\n",
      "\u001b[32mdbl\u001b[39m (6): score, opponent_score, attendence, opponent_id, year, school_id\n",
      "\n",
      "\u001b[36mℹ\u001b[39m Use `spec()` to retrieve the full column specification for this data.\n",
      "\u001b[36mℹ\u001b[39m Specify the column types or set `show_col_types = FALSE` to quiet this message.\n",
      "\u001b[1mRows: \u001b[22m\u001b[34m31956\u001b[39m \u001b[1mColumns: \u001b[22m\u001b[34m11\u001b[39m\n",
      "\u001b[36m──\u001b[39m \u001b[1mColumn specification\u001b[22m \u001b[36m─────────────────────────────────────────────────────────────────────────────────────────────────────────────────────────────────────\u001b[39m\n",
      "\u001b[1mDelimiter:\u001b[22m \",\"\n",
      "\u001b[31mchr\u001b[39m (5): opponent_name, game_date, location, neutral_site_location, game_length\n",
      "\u001b[32mdbl\u001b[39m (6): score, opponent_score, attendence, opponent_id, year, school_id\n",
      "\n",
      "\u001b[36mℹ\u001b[39m Use `spec()` to retrieve the full column specification for this data.\n",
      "\u001b[36mℹ\u001b[39m Specify the column types or set `show_col_types = FALSE` to quiet this message.\n"
     ]
    }
   ],
   "source": [
    "# for loop way\n",
    "\n",
    "template <- \"https://datasets.stats306.org/ncaa/ncaa_games_{year}.csv.gz\" \n",
    "\n",
    "ncaa <- tibble()\n",
    "for (year in 2002:2019) {\n",
    "    # load data for year\n",
    "    u <- str_replace(template, fixed(\"{year}\"), as.character(year))\n",
    "    df.yr <- read_csv(u)\n",
    "    ncaa <- bind_rows(ncaa, df.yr)\n",
    "}"
   ]
  },
  {
   "cell_type": "markdown",
   "metadata": {
    "slideshow": {
     "slide_type": "notes"
    }
   },
   "source": [
    "Next, we will use map:"
   ]
  },
  {
   "cell_type": "code",
   "execution_count": 239,
   "metadata": {
    "slideshow": {
     "slide_type": "slide"
    }
   },
   "outputs": [
    {
     "name": "stderr",
     "output_type": "stream",
     "text": [
      "\u001b[1mRows: \u001b[22m\u001b[34m27708\u001b[39m \u001b[1mColumns: \u001b[22m\u001b[34m11\u001b[39m\n",
      "\u001b[36m──\u001b[39m \u001b[1mColumn specification\u001b[22m \u001b[36m─────────────────────────────────────────────────────────────────────────────────────────────────────────────────────────────────────\u001b[39m\n",
      "\u001b[1mDelimiter:\u001b[22m \",\"\n",
      "\u001b[31mchr\u001b[39m (5): opponent_name, game_date, location, neutral_site_location, game_length\n",
      "\u001b[32mdbl\u001b[39m (6): score, opponent_score, attendence, opponent_id, year, school_id\n",
      "\n",
      "\u001b[36mℹ\u001b[39m Use `spec()` to retrieve the full column specification for this data.\n",
      "\u001b[36mℹ\u001b[39m Specify the column types or set `show_col_types = FALSE` to quiet this message.\n",
      "\u001b[1mRows: \u001b[22m\u001b[34m27253\u001b[39m \u001b[1mColumns: \u001b[22m\u001b[34m11\u001b[39m\n",
      "\u001b[36m──\u001b[39m \u001b[1mColumn specification\u001b[22m \u001b[36m─────────────────────────────────────────────────────────────────────────────────────────────────────────────────────────────────────\u001b[39m\n",
      "\u001b[1mDelimiter:\u001b[22m \",\"\n",
      "\u001b[31mchr\u001b[39m (5): opponent_name, game_date, location, neutral_site_location, game_length\n",
      "\u001b[32mdbl\u001b[39m (6): score, opponent_score, attendence, opponent_id, year, school_id\n",
      "\n",
      "\u001b[36mℹ\u001b[39m Use `spec()` to retrieve the full column specification for this data.\n",
      "\u001b[36mℹ\u001b[39m Specify the column types or set `show_col_types = FALSE` to quiet this message.\n",
      "\u001b[1mRows: \u001b[22m\u001b[34m27549\u001b[39m \u001b[1mColumns: \u001b[22m\u001b[34m11\u001b[39m\n",
      "\u001b[36m──\u001b[39m \u001b[1mColumn specification\u001b[22m \u001b[36m─────────────────────────────────────────────────────────────────────────────────────────────────────────────────────────────────────\u001b[39m\n",
      "\u001b[1mDelimiter:\u001b[22m \",\"\n",
      "\u001b[31mchr\u001b[39m (5): opponent_name, game_date, location, neutral_site_location, game_length\n",
      "\u001b[32mdbl\u001b[39m (6): score, opponent_score, attendence, opponent_id, year, school_id\n",
      "\n",
      "\u001b[36mℹ\u001b[39m Use `spec()` to retrieve the full column specification for this data.\n",
      "\u001b[36mℹ\u001b[39m Specify the column types or set `show_col_types = FALSE` to quiet this message.\n",
      "\u001b[1mRows: \u001b[22m\u001b[34m28181\u001b[39m \u001b[1mColumns: \u001b[22m\u001b[34m11\u001b[39m\n",
      "\u001b[36m──\u001b[39m \u001b[1mColumn specification\u001b[22m \u001b[36m─────────────────────────────────────────────────────────────────────────────────────────────────────────────────────────────────────\u001b[39m\n",
      "\u001b[1mDelimiter:\u001b[22m \",\"\n",
      "\u001b[31mchr\u001b[39m (5): opponent_name, game_date, location, neutral_site_location, game_length\n",
      "\u001b[32mdbl\u001b[39m (6): score, opponent_score, attendence, opponent_id, year, school_id\n",
      "\n",
      "\u001b[36mℹ\u001b[39m Use `spec()` to retrieve the full column specification for this data.\n",
      "\u001b[36mℹ\u001b[39m Specify the column types or set `show_col_types = FALSE` to quiet this message.\n",
      "\u001b[1mRows: \u001b[22m\u001b[34m28184\u001b[39m \u001b[1mColumns: \u001b[22m\u001b[34m11\u001b[39m\n",
      "\u001b[36m──\u001b[39m \u001b[1mColumn specification\u001b[22m \u001b[36m─────────────────────────────────────────────────────────────────────────────────────────────────────────────────────────────────────\u001b[39m\n",
      "\u001b[1mDelimiter:\u001b[22m \",\"\n",
      "\u001b[31mchr\u001b[39m (5): opponent_name, game_date, location, neutral_site_location, game_length\n",
      "\u001b[32mdbl\u001b[39m (6): score, opponent_score, attendence, opponent_id, year, school_id\n",
      "\n",
      "\u001b[36mℹ\u001b[39m Use `spec()` to retrieve the full column specification for this data.\n",
      "\u001b[36mℹ\u001b[39m Specify the column types or set `show_col_types = FALSE` to quiet this message.\n",
      "\u001b[1mRows: \u001b[22m\u001b[34m31579\u001b[39m \u001b[1mColumns: \u001b[22m\u001b[34m11\u001b[39m\n",
      "\u001b[36m──\u001b[39m \u001b[1mColumn specification\u001b[22m \u001b[36m─────────────────────────────────────────────────────────────────────────────────────────────────────────────────────────────────────\u001b[39m\n",
      "\u001b[1mDelimiter:\u001b[22m \",\"\n",
      "\u001b[31mchr\u001b[39m (5): opponent_name, game_date, location, neutral_site_location, game_length\n",
      "\u001b[32mdbl\u001b[39m (6): score, opponent_score, attendence, opponent_id, year, school_id\n",
      "\n",
      "\u001b[36mℹ\u001b[39m Use `spec()` to retrieve the full column specification for this data.\n",
      "\u001b[36mℹ\u001b[39m Specify the column types or set `show_col_types = FALSE` to quiet this message.\n",
      "\u001b[1mRows: \u001b[22m\u001b[34m30266\u001b[39m \u001b[1mColumns: \u001b[22m\u001b[34m11\u001b[39m\n",
      "\u001b[36m──\u001b[39m \u001b[1mColumn specification\u001b[22m \u001b[36m─────────────────────────────────────────────────────────────────────────────────────────────────────────────────────────────────────\u001b[39m\n",
      "\u001b[1mDelimiter:\u001b[22m \",\"\n",
      "\u001b[31mchr\u001b[39m (5): opponent_name, game_date, location, neutral_site_location, game_length\n",
      "\u001b[32mdbl\u001b[39m (6): score, opponent_score, attendence, opponent_id, year, school_id\n",
      "\n",
      "\u001b[36mℹ\u001b[39m Use `spec()` to retrieve the full column specification for this data.\n",
      "\u001b[36mℹ\u001b[39m Specify the column types or set `show_col_types = FALSE` to quiet this message.\n",
      "\u001b[1mRows: \u001b[22m\u001b[34m31315\u001b[39m \u001b[1mColumns: \u001b[22m\u001b[34m11\u001b[39m\n",
      "\u001b[36m──\u001b[39m \u001b[1mColumn specification\u001b[22m \u001b[36m─────────────────────────────────────────────────────────────────────────────────────────────────────────────────────────────────────\u001b[39m\n",
      "\u001b[1mDelimiter:\u001b[22m \",\"\n",
      "\u001b[31mchr\u001b[39m (5): opponent_name, game_date, location, neutral_site_location, game_length\n",
      "\u001b[32mdbl\u001b[39m (6): score, opponent_score, attendence, opponent_id, year, school_id\n",
      "\n",
      "\u001b[36mℹ\u001b[39m Use `spec()` to retrieve the full column specification for this data.\n",
      "\u001b[36mℹ\u001b[39m Specify the column types or set `show_col_types = FALSE` to quiet this message.\n",
      "\u001b[1mRows: \u001b[22m\u001b[34m30930\u001b[39m \u001b[1mColumns: \u001b[22m\u001b[34m11\u001b[39m\n",
      "\u001b[36m──\u001b[39m \u001b[1mColumn specification\u001b[22m \u001b[36m─────────────────────────────────────────────────────────────────────────────────────────────────────────────────────────────────────\u001b[39m\n",
      "\u001b[1mDelimiter:\u001b[22m \",\"\n",
      "\u001b[31mchr\u001b[39m (5): opponent_name, game_date, location, neutral_site_location, game_length\n",
      "\u001b[32mdbl\u001b[39m (6): score, opponent_score, attendence, opponent_id, year, school_id\n",
      "\n",
      "\u001b[36mℹ\u001b[39m Use `spec()` to retrieve the full column specification for this data.\n",
      "\u001b[36mℹ\u001b[39m Specify the column types or set `show_col_types = FALSE` to quiet this message.\n",
      "\u001b[1mRows: \u001b[22m\u001b[34m29840\u001b[39m \u001b[1mColumns: \u001b[22m\u001b[34m11\u001b[39m\n",
      "\u001b[36m──\u001b[39m \u001b[1mColumn specification\u001b[22m \u001b[36m─────────────────────────────────────────────────────────────────────────────────────────────────────────────────────────────────────\u001b[39m\n",
      "\u001b[1mDelimiter:\u001b[22m \",\"\n",
      "\u001b[31mchr\u001b[39m (5): opponent_name, game_date, location, neutral_site_location, game_length\n",
      "\u001b[32mdbl\u001b[39m (6): score, opponent_score, attendence, opponent_id, year, school_id\n",
      "\n",
      "\u001b[36mℹ\u001b[39m Use `spec()` to retrieve the full column specification for this data.\n",
      "\u001b[36mℹ\u001b[39m Specify the column types or set `show_col_types = FALSE` to quiet this message.\n",
      "\u001b[1mRows: \u001b[22m\u001b[34m30186\u001b[39m \u001b[1mColumns: \u001b[22m\u001b[34m11\u001b[39m\n",
      "\u001b[36m──\u001b[39m \u001b[1mColumn specification\u001b[22m \u001b[36m─────────────────────────────────────────────────────────────────────────────────────────────────────────────────────────────────────\u001b[39m\n",
      "\u001b[1mDelimiter:\u001b[22m \",\"\n",
      "\u001b[31mchr\u001b[39m (5): opponent_name, game_date, location, neutral_site_location, game_length\n",
      "\u001b[32mdbl\u001b[39m (6): score, opponent_score, attendence, opponent_id, year, school_id\n",
      "\n",
      "\u001b[36mℹ\u001b[39m Use `spec()` to retrieve the full column specification for this data.\n",
      "\u001b[36mℹ\u001b[39m Specify the column types or set `show_col_types = FALSE` to quiet this message.\n",
      "\u001b[1mRows: \u001b[22m\u001b[34m30610\u001b[39m \u001b[1mColumns: \u001b[22m\u001b[34m11\u001b[39m\n",
      "\u001b[36m──\u001b[39m \u001b[1mColumn specification\u001b[22m \u001b[36m─────────────────────────────────────────────────────────────────────────────────────────────────────────────────────────────────────\u001b[39m\n",
      "\u001b[1mDelimiter:\u001b[22m \",\"\n",
      "\u001b[31mchr\u001b[39m (5): opponent_name, game_date, location, neutral_site_location, game_length\n",
      "\u001b[32mdbl\u001b[39m (6): score, opponent_score, attendence, opponent_id, year, school_id\n",
      "\n",
      "\u001b[36mℹ\u001b[39m Use `spec()` to retrieve the full column specification for this data.\n",
      "\u001b[36mℹ\u001b[39m Specify the column types or set `show_col_types = FALSE` to quiet this message.\n",
      "\u001b[1mRows: \u001b[22m\u001b[34m31018\u001b[39m \u001b[1mColumns: \u001b[22m\u001b[34m11\u001b[39m\n",
      "\u001b[36m──\u001b[39m \u001b[1mColumn specification\u001b[22m \u001b[36m─────────────────────────────────────────────────────────────────────────────────────────────────────────────────────────────────────\u001b[39m\n",
      "\u001b[1mDelimiter:\u001b[22m \",\"\n",
      "\u001b[31mchr\u001b[39m (5): opponent_name, game_date, location, neutral_site_location, game_length\n",
      "\u001b[32mdbl\u001b[39m (6): score, opponent_score, attendence, opponent_id, year, school_id\n",
      "\n",
      "\u001b[36mℹ\u001b[39m Use `spec()` to retrieve the full column specification for this data.\n",
      "\u001b[36mℹ\u001b[39m Specify the column types or set `show_col_types = FALSE` to quiet this message.\n",
      "\u001b[1mRows: \u001b[22m\u001b[34m31327\u001b[39m \u001b[1mColumns: \u001b[22m\u001b[34m11\u001b[39m\n",
      "\u001b[36m──\u001b[39m \u001b[1mColumn specification\u001b[22m \u001b[36m─────────────────────────────────────────────────────────────────────────────────────────────────────────────────────────────────────\u001b[39m\n",
      "\u001b[1mDelimiter:\u001b[22m \",\"\n",
      "\u001b[31mchr\u001b[39m (5): opponent_name, game_date, location, neutral_site_location, game_length\n",
      "\u001b[32mdbl\u001b[39m (6): score, opponent_score, attendence, opponent_id, year, school_id\n"
     ]
    },
    {
     "name": "stderr",
     "output_type": "stream",
     "text": [
      "\n",
      "\u001b[36mℹ\u001b[39m Use `spec()` to retrieve the full column specification for this data.\n",
      "\u001b[36mℹ\u001b[39m Specify the column types or set `show_col_types = FALSE` to quiet this message.\n",
      "\u001b[1mRows: \u001b[22m\u001b[34m31576\u001b[39m \u001b[1mColumns: \u001b[22m\u001b[34m11\u001b[39m\n",
      "\u001b[36m──\u001b[39m \u001b[1mColumn specification\u001b[22m \u001b[36m─────────────────────────────────────────────────────────────────────────────────────────────────────────────────────────────────────\u001b[39m\n",
      "\u001b[1mDelimiter:\u001b[22m \",\"\n",
      "\u001b[31mchr\u001b[39m (5): opponent_name, game_date, location, neutral_site_location, game_length\n",
      "\u001b[32mdbl\u001b[39m (6): score, opponent_score, attendence, opponent_id, year, school_id\n",
      "\n",
      "\u001b[36mℹ\u001b[39m Use `spec()` to retrieve the full column specification for this data.\n",
      "\u001b[36mℹ\u001b[39m Specify the column types or set `show_col_types = FALSE` to quiet this message.\n",
      "\u001b[1mRows: \u001b[22m\u001b[34m31566\u001b[39m \u001b[1mColumns: \u001b[22m\u001b[34m11\u001b[39m\n",
      "\u001b[36m──\u001b[39m \u001b[1mColumn specification\u001b[22m \u001b[36m─────────────────────────────────────────────────────────────────────────────────────────────────────────────────────────────────────\u001b[39m\n",
      "\u001b[1mDelimiter:\u001b[22m \",\"\n",
      "\u001b[31mchr\u001b[39m (5): opponent_name, game_date, location, neutral_site_location, game_length\n",
      "\u001b[32mdbl\u001b[39m (6): score, opponent_score, attendence, opponent_id, year, school_id\n",
      "\n",
      "\u001b[36mℹ\u001b[39m Use `spec()` to retrieve the full column specification for this data.\n",
      "\u001b[36mℹ\u001b[39m Specify the column types or set `show_col_types = FALSE` to quiet this message.\n",
      "\u001b[1mRows: \u001b[22m\u001b[34m31753\u001b[39m \u001b[1mColumns: \u001b[22m\u001b[34m11\u001b[39m\n",
      "\u001b[36m──\u001b[39m \u001b[1mColumn specification\u001b[22m \u001b[36m─────────────────────────────────────────────────────────────────────────────────────────────────────────────────────────────────────\u001b[39m\n",
      "\u001b[1mDelimiter:\u001b[22m \",\"\n",
      "\u001b[31mchr\u001b[39m (5): opponent_name, game_date, location, neutral_site_location, game_length\n",
      "\u001b[32mdbl\u001b[39m (6): score, opponent_score, attendence, opponent_id, year, school_id\n",
      "\n",
      "\u001b[36mℹ\u001b[39m Use `spec()` to retrieve the full column specification for this data.\n",
      "\u001b[36mℹ\u001b[39m Specify the column types or set `show_col_types = FALSE` to quiet this message.\n",
      "\u001b[1mRows: \u001b[22m\u001b[34m31956\u001b[39m \u001b[1mColumns: \u001b[22m\u001b[34m11\u001b[39m\n",
      "\u001b[36m──\u001b[39m \u001b[1mColumn specification\u001b[22m \u001b[36m─────────────────────────────────────────────────────────────────────────────────────────────────────────────────────────────────────\u001b[39m\n",
      "\u001b[1mDelimiter:\u001b[22m \",\"\n",
      "\u001b[31mchr\u001b[39m (5): opponent_name, game_date, location, neutral_site_location, game_length\n",
      "\u001b[32mdbl\u001b[39m (6): score, opponent_score, attendence, opponent_id, year, school_id\n",
      "\n",
      "\u001b[36mℹ\u001b[39m Use `spec()` to retrieve the full column specification for this data.\n",
      "\u001b[36mℹ\u001b[39m Specify the column types or set `show_col_types = FALSE` to quiet this message.\n"
     ]
    },
    {
     "name": "stdout",
     "output_type": "stream",
     "text": [
      "spc_tbl_ [542,797 × 11] (S3: spec_tbl_df/tbl_df/tbl/data.frame)\n",
      " $ opponent_name        : chr [1:542797] \"Sul Ross St.\" \"Texas St.\" \"Loyola Chicago\" \"Illinois\" ...\n",
      " $ game_date            : chr [1:542797] \"11/16/2001\" \"11/25/2001\" \"11/29/2001\" \"12/01/2001\" ...\n",
      " $ score                : num [1:542797] 93 89 66 56 64 56 67 80 81 92 ...\n",
      " $ opponent_score       : num [1:542797] 59 99 86 80 89 82 69 75 79 83 ...\n",
      " $ location             : chr [1:542797] \"Home\" \"Home\" \"Away\" \"Away\" ...\n",
      " $ neutral_site_location: chr [1:542797] NA NA NA NA ...\n",
      " $ game_length          : chr [1:542797] NA NA NA NA ...\n",
      " $ attendence           : num [1:542797] 2041 1493 1128 16500 6099 ...\n",
      " $ opponent_id          : num [1:542797] 1390 670 371 301 703 704 346 629 183 NA ...\n",
      " $ year                 : num [1:542797] 2002 2002 2002 2002 2002 ...\n",
      " $ school_id            : num [1:542797] 26172 26172 26172 26172 26172 ...\n",
      " - attr(*, \"spec\")=\n",
      "  .. cols(\n",
      "  ..   opponent_name = \u001b[31mcol_character()\u001b[39m,\n",
      "  ..   game_date = \u001b[31mcol_character()\u001b[39m,\n",
      "  ..   score = \u001b[32mcol_double()\u001b[39m,\n",
      "  ..   opponent_score = \u001b[32mcol_double()\u001b[39m,\n",
      "  ..   location = \u001b[31mcol_character()\u001b[39m,\n",
      "  ..   neutral_site_location = \u001b[31mcol_character()\u001b[39m,\n",
      "  ..   game_length = \u001b[31mcol_character()\u001b[39m,\n",
      "  ..   attendence = \u001b[32mcol_double()\u001b[39m,\n",
      "  ..   opponent_id = \u001b[32mcol_double()\u001b[39m,\n",
      "  ..   year = \u001b[32mcol_double()\u001b[39m,\n",
      "  ..   school_id = \u001b[32mcol_double()\u001b[39m\n",
      "  .. )\n",
      " - attr(*, \"problems\")=<externalptr> \n"
     ]
    }
   ],
   "source": [
    "str_c(\"https://datasets.stats306.org/ncaa/ncaa_games_\", 2002:2019, \".csv.gz\") %>% \n",
    "    map_dfr(read_csv) %>% str\n",
    "    "
   ]
  },
  {
   "cell_type": "markdown",
   "metadata": {
    "slideshow": {
     "slide_type": "notes"
    }
   },
   "source": [
    "Do you find the `map()` way easier to use? Easier to read? More enjoyable to write? (Hopefully at least one of the three.)"
   ]
  },
  {
   "cell_type": "markdown",
   "metadata": {
    "id": "yV-CdS2c1lfA",
    "slideshow": {
     "slide_type": "slide"
    }
   },
   "source": [
    "## `while`\n",
    "\n",
    "The last kind of loop we will consider is `while()`. \n",
    "\n",
    "A while statement can be useful when you aren’t sure how many iterations are needed. This happens sometimes in statistics or data science when you are simulating a random quantity. \n",
    "\n",
    "Here is an example that takes a random walk and terminates if the value is more than 10 units from 0."
   ]
  },
  {
   "cell_type": "code",
   "execution_count": 241,
   "metadata": {
    "slideshow": {
     "slide_type": "slide"
    }
   },
   "outputs": [
    {
     "name": "stdout",
     "output_type": "stream",
     "text": [
      "[1] 0\n",
      "[1] 1\n",
      "[1] 2\n",
      "[1] 3\n",
      "[1] 4\n",
      "[1] 5\n",
      "[1] 6\n",
      "[1] 7\n",
      "[1] 8\n",
      "[1] 9\n"
     ]
    }
   ],
   "source": [
    "i <- 0\n",
    "while (i < 10) {\n",
    "    print(i)\n",
    "}"
   ]
  },
  {
   "cell_type": "markdown",
   "metadata": {
    "slideshow": {
     "slide_type": "slide"
    }
   },
   "source": [
    "## Example: random walk\n",
    "A random walk is a "
   ]
  },
  {
   "cell_type": "code",
   "execution_count": 245,
   "metadata": {
    "colab": {
     "base_uri": "https://localhost:8080/",
     "height": 437
    },
    "executionInfo": {
     "elapsed": 257,
     "status": "ok",
     "timestamp": 1679170825629,
     "user": {
      "displayName": "Jayashree Ravi",
      "userId": "06933604785290521829"
     },
     "user_tz": 240
    },
    "id": "gQKfbPfE1lfB",
    "outputId": "cf29b403-28e2-47ec-c286-a0173b4af1e5",
    "slideshow": {
     "slide_type": "slide"
    }
   },
   "outputs": [
    {
     "data": {
      "image/png": "[encoded data removed]",
      "text/plain": [
       "plot without title"
      ]
     },
     "metadata": {
      "image/png": {
       "height": 420,
       "width": 420
      }
     },
     "output_type": "display_data"
    }
   ],
   "source": [
    "maxIter = 1e3 # always limit the total iterations allowed\n",
    "val = vector(mode = 'numeric', length = maxIter)\n",
    "val[1] = rnorm(1) ## initialize\n",
    "\n",
    "k = 1\n",
    "while (abs(val[k]) < 10 && k <= maxIter) {\n",
    "  val[k + 1] = val[k] + rnorm(1)\n",
    "  k = k + 1\n",
    "}\n",
    "val = val[1:k-1]\n",
    "\n",
    "plot(val, type = 'l')"
   ]
  },
  {
   "cell_type": "markdown",
   "metadata": {
    "id": "9ahuf46D1lfB",
    "slideshow": {
     "slide_type": "slide"
    }
   },
   "source": [
    "#### key words\n",
    "The following key words are useful within loops:\n",
    "\n",
    "- break - break out of the currently executing loop\n",
    "- next - move to the next iteration immediately, without executing the rest of this iteration (continue in other languages such as C++)\n",
    "\n",
    "Here is an example using next:\n",
    "\n"
   ]
  },
  {
   "cell_type": "code",
   "execution_count": null,
   "metadata": {
    "id": "jfwvQ6XI1lfC",
    "outputId": "5d3ff682-86a2-4178-d9aa-f7fa33c04920"
   },
   "outputs": [
    {
     "name": "stdout",
     "output_type": "stream",
     "text": [
      "1 \n",
      "3 \n",
      "5 \n",
      "7 \n",
      "9 \n"
     ]
    }
   ],
   "source": [
    "for ( i in 1:10 ) {\n",
    "  if (i %% 2 == 0) next\n",
    "  cat(i,'\\n')\n",
    "}"
   ]
  },
  {
   "cell_type": "markdown",
   "metadata": {
    "id": "IX8vabsh1lfC"
   },
   "source": [
    "## Conditional execution\n",
    "\n",
    "Often when writing functions we need to do different things depending on what data is passed in. This is known as conditional execution, and is accomplished using the if and/or else construct:\n",
    "\n",
    "```\n",
    "if (condition) {\n",
    "  # code executed when condition is TRUE\n",
    "} else {\n",
    "  # code executed when condition is FALSE\n",
    "}\n",
    "```\n",
    "\n"
   ]
  },
  {
   "cell_type": "markdown",
   "metadata": {
    "id": "UE6q3f6y1lfD"
   },
   "source": [
    "#### if statements\n",
    "\n",
    "The workhorse for conditional execution in `R` is the if statement.\n",
    "In the syntax below, note the spacing around the condition enclosed in the parentheses."
   ]
  },
  {
   "cell_type": "code",
   "execution_count": 21,
   "metadata": {
    "colab": {
     "base_uri": "https://localhost:8080/"
    },
    "executionInfo": {
     "elapsed": 238,
     "status": "ok",
     "timestamp": 1679167516070,
     "user": {
      "displayName": "Jayashree Ravi",
      "userId": "06933604785290521829"
     },
     "user_tz": 240
    },
    "id": "wSFPNGnE1lfE",
    "outputId": "b7649fb0-bf25-4ba4-acd0-898375df078a"
   },
   "outputs": [
    {
     "name": "stdout",
     "output_type": "stream",
     "text": [
      "[1] \"do something if true\"\n"
     ]
    }
   ],
   "source": [
    "if ( TRUE ) {  # this condition is hard-coded to TRUE and will also execute the if-block\n",
    "  print('do something if true')\n",
    "}"
   ]
  },
  {
   "cell_type": "markdown",
   "metadata": {
    "id": "gBXuD_Nw1lfE"
   },
   "source": [
    "## Optional `else` block\n",
    "\n",
    "Use an else to control the flow without separately checking the condition’s negation:\n",
    "\n"
   ]
  },
  {
   "cell_type": "code",
   "execution_count": 35,
   "metadata": {
    "colab": {
     "base_uri": "https://localhost:8080/"
    },
    "executionInfo": {
     "elapsed": 257,
     "status": "ok",
     "timestamp": 1679171096784,
     "user": {
      "displayName": "Jayashree Ravi",
      "userId": "06933604785290521829"
     },
     "user_tz": 240
    },
    "id": "OrzGXaXz1lfF",
    "outputId": "07fa56b0-5319-4d5d-f5e8-ecdab1b409c8"
   },
   "outputs": [
    {
     "name": "stdout",
     "output_type": "stream",
     "text": [
      "[1] \"the statement is false\"\n"
     ]
    }
   ],
   "source": [
    "if ((2 + 2) == 5 ) {\n",
    "  print('the statement is true')\n",
    "} else {\n",
    "  print('the statement is false')\n",
    "}"
   ]
  },
  {
   "cell_type": "markdown",
   "metadata": {
    "id": "KcXPZoVbbZ96"
   },
   "source": [
    "### `ifelse` function\n",
    "\n",
    "ifelse() is a function that takes three vector arguments and returns a new vector. As you can see this is not the same as above"
   ]
  },
  {
   "cell_type": "code",
   "execution_count": 32,
   "metadata": {
    "colab": {
     "base_uri": "https://localhost:8080/",
     "height": 34
    },
    "executionInfo": {
     "elapsed": 225,
     "status": "ok",
     "timestamp": 1679168236600,
     "user": {
      "displayName": "Jayashree Ravi",
      "userId": "06933604785290521829"
     },
     "user_tz": 240
    },
    "id": "F2oGqHgo1lfF",
    "outputId": "509215c5-be2f-42e7-9db9-014362570af8"
   },
   "outputs": [
    {
     "data": {
      "text/html": [
       "<style>\n",
       ".list-inline {list-style: none; margin:0; padding: 0}\n",
       ".list-inline>li {display: inline-block}\n",
       ".list-inline>li:not(:last-child)::after {content: \"\\00b7\"; padding: 0 .5ex}\n",
       "</style>\n",
       "<ol class=list-inline><li>'small'</li><li>'small'</li><li>'small'</li><li>'large'</li><li>'large'</li></ol>\n"
      ],
      "text/latex": [
       "\\begin{enumerate*}\n",
       "\\item 'small'\n",
       "\\item 'small'\n",
       "\\item 'small'\n",
       "\\item 'large'\n",
       "\\item 'large'\n",
       "\\end{enumerate*}\n"
      ],
      "text/markdown": [
       "1. 'small'\n",
       "2. 'small'\n",
       "3. 'small'\n",
       "4. 'large'\n",
       "5. 'large'\n",
       "\n",
       "\n"
      ],
      "text/plain": [
       "[1] \"small\" \"small\" \"small\" \"large\" \"large\""
      ]
     },
     "metadata": {},
     "output_type": "display_data"
    }
   ],
   "source": [
    "# Define a vector\n",
    "x <- c(1, 2, 3, 4, 5)\n",
    "\n",
    "# Use ifelse to create a new vector\n",
    "y <- ifelse(x > 3, \"large\", \"small\")\n",
    "\n",
    "y"
   ]
  },
  {
   "cell_type": "markdown",
   "metadata": {
    "id": "QNL14LdgZdAo"
   },
   "source": [
    "# What about if_else?\n",
    "\n",
    "`if_else` comes from dplyr and works the same as ifelse except the output from the if_else should be of the same type"
   ]
  },
  {
   "cell_type": "code",
   "execution_count": 39,
   "metadata": {
    "colab": {
     "base_uri": "https://localhost:8080/",
     "height": 617
    },
    "executionInfo": {
     "elapsed": 6,
     "status": "error",
     "timestamp": 1679171193773,
     "user": {
      "displayName": "Jayashree Ravi",
      "userId": "06933604785290521829"
     },
     "user_tz": 240
    },
    "id": "CjMS7Jr-ZotZ",
    "outputId": "1ce76824-8aca-49ae-f898-0152d0d07656"
   },
   "outputs": [
    {
     "ename": "ERROR",
     "evalue": "ignored",
     "output_type": "error",
     "traceback": [
      "\u001b[1m\u001b[33mError\u001b[39m in `if_else()`:\u001b[22m\n\u001b[33m!\u001b[39m Can't combine `true` <character> and `false` <double>.\nTraceback:\n",
      "1. if_else(x > 3, \"large\", 10)",
      "2. vec_case_when(conditions = conditions, values = values, conditions_arg = \"\", \n .     values_arg = \"\", default = missing, default_arg = \"missing\", \n .     ptype = ptype, size = size, call = current_env())",
      "3. vec_ptype_common(!!!everything, .ptype = ptype, .call = call)",
      "4. (function () \n . vec_default_ptype2(x = x, y = y, x_arg = x_arg, y_arg = y_arg, \n .     call = call, `vctrs:::from_dispatch` = `vctrs:::from_dispatch`, \n .     `vctrs:::s3_fallback` = `vctrs:::s3_fallback`))()",
      "5. vec_default_ptype2(x = x, y = y, x_arg = x_arg, y_arg = y_arg, \n .     call = call, `vctrs:::from_dispatch` = `vctrs:::from_dispatch`, \n .     `vctrs:::s3_fallback` = `vctrs:::s3_fallback`)",
      "6. withRestarts(stop_incompatible_type(x, y, x_arg = x_arg, y_arg = y_arg, \n .     `vctrs:::from_dispatch` = match_from_dispatch(...), call = call), \n .     vctrs_restart_ptype2 = function(ptype) {\n .         ptype\n .     })",
      "7. withOneRestart(expr, restarts[[1L]])",
      "8. doWithOneRestart(return(expr), restart)",
      "9. stop_incompatible_type(x, y, x_arg = x_arg, y_arg = y_arg, `vctrs:::from_dispatch` = match_from_dispatch(...), \n .     call = call)",
      "10. stop_incompatible(x, y, x_arg = x_arg, y_arg = y_arg, details = details, \n  .     ..., message = message, class = c(class, subclass, \"vctrs_error_incompatible_type\"), \n  .     call = call)",
      "11. stop_vctrs(message, class = c(class, \"vctrs_error_incompatible\"), \n  .     x = x, y = y, details = details, ..., call = call)",
      "12. abort(message, class = c(class, \"vctrs_error\"), ..., call = vctrs_error_call(call))",
      "13. signal_abort(cnd, .file)"
     ]
    }
   ],
   "source": [
    "y <- if_else(x > 3, \"large\", 10)\n",
    "y"
   ]
  },
  {
   "cell_type": "markdown",
   "metadata": {
    "id": "OMv0zdAYZ56b"
   },
   "source": [
    "### if-else chain\n",
    "\n",
    "For more complex cases, you may want to check multiple conditions:"
   ]
  },
  {
   "cell_type": "code",
   "execution_count": null,
   "metadata": {
    "id": "oBYAergA1lfG",
    "outputId": "e08ae221-4884-4536-de54-8a871c4bde2e"
   },
   "outputs": [
    {
     "data": {
      "text/html": [
       "<style>\n",
       ".list-inline {list-style: none; margin:0; padding: 0}\n",
       ".list-inline>li {display: inline-block}\n",
       ".list-inline>li:not(:last-child)::after {content: \"\\00b7\"; padding: 0 .5ex}\n",
       "</style>\n",
       "<ol class=list-inline><li>-1</li><li>1</li></ol>\n"
      ],
      "text/latex": [
       "\\begin{enumerate*}\n",
       "\\item -1\n",
       "\\item 1\n",
       "\\end{enumerate*}\n"
      ],
      "text/markdown": [
       "1. -1\n",
       "2. 1\n",
       "\n",
       "\n"
      ],
      "text/plain": [
       "[1] -1  1"
      ]
     },
     "metadata": {},
     "output_type": "display_data"
    }
   ],
   "source": [
    "a = -1\n",
    "b = 1\n",
    "\n",
    "if (a * b > 0) {\n",
    "  print('Zero is not between a and b')\n",
    "} else if ( a < b ) {\n",
    "    smaller = a\n",
    "    larger = b\n",
    "} else {\n",
    "    smaller = b\n",
    "    larger  = a\n",
    "}\n",
    "\n",
    "c(smaller, larger)"
   ]
  },
  {
   "cell_type": "markdown",
   "metadata": {
    "slideshow": {
     "slide_type": "slide"
    }
   },
   "source": [
    "## The wiki-link game\n",
    "To illustrate how and when to write functions, we will write a program that plays the [wiki-link game](https://en.wikipedia.org/wiki/Wikipedia:Wiki-Link_Game). An abbreviate version of the rules are:\n",
    "\n",
    "1. Pick a whole number between 1 and 8 -- call it $N$.\n",
    "2. Pick a random page on Wikipedia by visiting [the random page page](https://en.wikipedia.org/wiki/Special:Random).\n",
    "3. Now read the article until you reach the $N$th link.\n",
    "  -  If you arrive at a page you have already visited since the start of a run, then game over (the ''infinite loop ending''). \n",
    "  - If your page doesn't have $N$ links, then game over. (the ''short page ending'').\n",
    "  - If the $N$th link is a red link to edit a page which does not exist yet, then game over (the ''empty link ending'');\n",
    "  - If you arrive at an off-site, non-Wikipedia page, then game over (the ''off-site ending''); more commonly you can choose to skip over external links.\n",
    "  - ...otherwise, follow the link at go back to step 3...\n",
    "4. How many pages can you visit?\n"
   ]
  },
  {
   "cell_type": "markdown",
   "metadata": {
    "slideshow": {
     "slide_type": "notes"
    }
   },
   "source": [
    "Relative to what we have seen so far, this is advanced. To solve it, we will break the problem into smaller pieces which we can then tackle."
   ]
  },
  {
   "cell_type": "code",
   "execution_count": 266,
   "metadata": {
    "slideshow": {
     "slide_type": "slide"
    }
   },
   "outputs": [
    {
     "name": "stdout",
     "output_type": "stream",
     "text": [
      "{html_document}\n",
      "<html class=\"client-nojs vector-feature-language-in-header-enabled vector-feature-language-in-main-page-header-disabled vector-feature-language-alert-in-sidebar-enabled vector-feature-sticky-header-disabled vector-feature-page-tools-disabled vector-feature-page-tools-pinned-disabled vector-feature-toc-pinned-enabled vector-feature-main-menu-pinned-disabled vector-feature-limited-width-enabled vector-feature-limited-width-content-enabled\" lang=\"en\" dir=\"ltr\">\n",
      "[1] <head>\\n<meta http-equiv=\"Content-Type\" content=\"text/html; charset=UTF-8 ...\n",
      "[2] <body class=\"skin-vector skin-vector-search-vue mediawiki ltr sitedir-ltr ...\n",
      "[1] 0\n"
     ]
    },
    {
     "ename": "ERROR",
     "evalue": "Error in if (nth_link %in% seen_before) stop(str_c(\"infinite loop \", i)): the condition has length > 1\n",
     "output_type": "error",
     "traceback": [
      "Error in if (nth_link %in% seen_before) stop(str_c(\"infinite loop \", i)): the condition has length > 1\nTraceback:\n",
      "1. play_wiki_link(10)"
     ]
    }
   ],
   "source": [
    "play_wiki_link <- function(n) {\n",
    "    current_url <- get_random_page()\n",
    "    i <- 0\n",
    "    seen_before <- c()\n",
    "    while (TRUE) {\n",
    "        print(current_url)\n",
    "        print(i)\n",
    "        flush.console()\n",
    "        seen_before <- c(seen_before, current_url)\n",
    "        nth_link <- get_nth_link(current_url, n)\n",
    "        if (is.na(nth_link)) stop(str_c(\"no n-th link \", i))\n",
    "        if (nth_link %in% seen_before) stop(str_c(\"infinite loop \", i))\n",
    "        if (is_red_link(nth_link)) stop(str_c(\"red link \", i))\n",
    "        current_url <- str_c(\"https://en.wikipedia.org\", nth_link)\n",
    "        i <- i + 1\n",
    "    }\n",
    "}\n",
    "\n",
    "play_wiki_link(10)"
   ]
  },
  {
   "cell_type": "code",
   "execution_count": 265,
   "metadata": {
    "slideshow": {
     "slide_type": "slide"
    }
   },
   "outputs": [
    {
     "data": {
      "text/plain": [
       "{html_node}\n",
       "<a href=\"/wiki/Wikipedia:Community_portal\" title=\"The hub for editors\">\n",
       "[1] <span>Community portal</span>"
      ]
     },
     "metadata": {},
     "output_type": "display_data"
    }
   ],
   "source": [
    "library(rvest)\n",
    "\n",
    "get_random_page <- function() {\n",
    "    read_html('https://en.wikipedia.org/wiki/Special:Random')\n",
    "}\n",
    "\n",
    "get_nth_link <- function(page, n) {\n",
    "    links <- page %>% html_elements(\"a\")\n",
    "    return(links[[n]])\n",
    "}\n",
    "\n",
    "page <- get_random_page()\n",
    "get_nth_link(page, 20)"
   ]
  },
  {
   "cell_type": "code",
   "execution_count": null,
   "metadata": {
    "slideshow": {
     "slide_type": "slide"
    }
   },
   "outputs": [],
   "source": []
  },
  {
   "cell_type": "code",
   "execution_count": null,
   "metadata": {
    "slideshow": {
     "slide_type": "slide"
    }
   },
   "outputs": [],
   "source": []
  }
 ],
 "metadata": {
  "celltoolbar": "Slideshow",
  "colab": {
   "provenance": [
    {
     "file_id": "1JFUW3uUlU0V-mN4rs3dgs5svDFMLjDtR",
     "timestamp": 1679166722025
    }
   ]
  },
  "kernelspec": {
   "display_name": "R",
   "language": "R",
   "name": "ir"
  },
  "language_info": {
   "codemirror_mode": "r",
   "file_extension": ".r",
   "mimetype": "text/x-r-source",
   "name": "R",
   "pygments_lexer": "r",
   "version": "4.2.1"
  }
 },
 "nbformat": 4,
 "nbformat_minor": 1
}
