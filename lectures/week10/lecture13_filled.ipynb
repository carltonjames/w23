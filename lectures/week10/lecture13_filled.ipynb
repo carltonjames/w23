{
 "cells": [
  {
   "cell_type": "raw",
   "metadata": {
    "slideshow": {
     "slide_type": "notes"
    }
   },
   "source": [
    "IRdisplay::display_html(\"\n",
    "<style>\n",
    ".rendered_html table, .rendered_html th, .rendered_html tr, .rendered_html td {\n",
    "     font-size: 100%;\n",
    "}\n",
    "body.rise-enabled div.inner_cell>div.input_area {\n",
    "    font-size: 150%;\n",
    "}\n",
    "\n",
    "body.rise-enabled div.output_subarea.output_text.output_result {\n",
    "    font-size: 150%;\n",
    "}\n",
    "body.rise-enabled div.output_subarea.output_text.output_stream.output_stdout {\n",
    "  font-size: 150%;\n",
    "}\n",
    "</style>\n",
    "\")"
   ]
  },
  {
   "cell_type": "code",
   "execution_count": 82,
   "metadata": {
    "slideshow": {
     "slide_type": "notes"
    }
   },
   "outputs": [],
   "source": [
    "library(tidyverse)\n",
    "library(stringr)\n",
    "# remotes::install_github(\"bradleyboehmke/harrypotter\")\n",
    "library(harrypotter)\n",
    "\n",
    "ch1 <- philosophers_stone[[1]]"
   ]
  },
  {
   "cell_type": "markdown",
   "metadata": {
    "slideshow": {
     "slide_type": "slide"
    }
   },
   "source": [
    "## 🤔 Quiz\n",
    "\n",
    "This commands loads a list of 25,000 of the most popular words in the English language:"
   ]
  },
  {
   "cell_type": "code",
   "execution_count": 70,
   "metadata": {},
   "outputs": [],
   "source": [
    "pop_words <- scan(url('https://raw.githubusercontent.com/dolph/dictionary/master/popular.txt'), character())"
   ]
  },
  {
   "cell_type": "markdown",
   "metadata": {
    "slideshow": {
     "slide_type": "-"
    }
   },
   "source": [
    "How many words *contain* `qu` but don't *start* with `qu`? (Hint: `str_sub` and `str_detect`):\n",
    "\n",
    "<ol style=\"list-style-type: upper-alpha;\">\n",
    "    <li>9.3</li>\n",
    "    <li>93</li>\n",
    "    <li>193</li>\n",
    "    <li>293</li>\n",
    "    <li>393</li>\n",
    "</ol>\n"
   ]
  },
  {
   "cell_type": "code",
   "execution_count": 78,
   "metadata": {
    "slideshow": {
     "slide_type": "slide"
    }
   },
   "outputs": [
    {
     "data": {
      "text/html": [
       "<style>\n",
       ".list-inline {list-style: none; margin:0; padding: 0}\n",
       ".list-inline>li {display: inline-block}\n",
       ".list-inline>li:not(:last-child)::after {content: \"\\00b7\"; padding: 0 .5ex}\n",
       "</style>\n",
       "<ol class=list-inline><li>'acquaint'</li><li>'acquaintance'</li><li>'acquaintances'</li><li>'acquainted'</li><li>'acquire'</li><li>'acquired'</li><li>'acquisition'</li><li>'acquisitions'</li><li>'acquitted'</li><li>'adequate'</li><li>'adequately'</li><li>'antiquated'</li><li>'antique'</li><li>'antiques'</li><li>'antiquing'</li><li>'antiquities'</li><li>'antiquity'</li><li>'aqua'</li><li>'aquarium'</li><li>'aquatic'</li><li>'banquet'</li><li>'baroque'</li><li>'bequest'</li><li>'bisque'</li><li>'bouquet'</li><li>'bouquets'</li><li>'boutique'</li><li>'boutiques'</li><li>'cheque'</li><li>'clique'</li><li>'communique'</li><li>'conquer'</li><li>'conquered'</li><li>'conquering'</li><li>'conquers'</li><li>'conquest'</li><li>'consequence'</li><li>'consequences'</li><li>'consequently'</li><li>'croquet'</li><li>'daiquiri'</li><li>'delinquency'</li><li>'delinquent'</li><li>'discotheque'</li><li>'disqualified'</li><li>'disqualify'</li><li>'earthquake'</li><li>'earthquakes'</li><li>'eloquence'</li><li>'eloquent'</li><li>'eloquently'</li><li>'enquiries'</li><li>'equal'</li><li>'equality'</li><li>'equally'</li><li>'equals'</li><li>'equation'</li><li>'equator'</li><li>'equestrian'</li><li>'equilibrium'</li><li>'equinox'</li><li>'equipment'</li><li>'equipped'</li><li>'equitable'</li><li>'equity'</li><li>'equivalent'</li><li>'etiquette'</li><li>'exquisite'</li><li>'exquisitely'</li><li>'frequencies'</li><li>'frequency'</li><li>'frequent'</li><li>'frequently'</li><li>'grotesque'</li><li>'headquarters'</li><li>'inadequacy'</li><li>'inadequate'</li><li>'inquest'</li><li>'inquiries'</li><li>'inquiry'</li><li>'inquisition'</li><li>'inquisitor'</li><li>'lacquer'</li><li>'liquefy'</li><li>'liquid'</li><li>'liquidate'</li><li>'liquidated'</li><li>'liquidation'</li><li>'liquor'</li><li>'liquored'</li><li>'mannequin'</li><li>'mannequins'</li><li>'marquee'</li><li>'marquis'</li><li>'masquerade'</li><li>'masquerading'</li><li>'mesquite'</li><li>'mosque'</li><li>'mosquito'</li><li>'mosquitoes'</li><li>'mosquitos'</li><li>'oblique'</li><li>'overqualified'</li><li>'physique'</li><li>'piqued'</li><li>'plaque'</li><li>'prerequisite'</li><li>'racquet'</li><li>'racquetball'</li><li>'reacquaint'</li><li>'reacquainted'</li><li>'relinquish'</li><li>'relinquishing'</li><li>'request'</li><li>'requested'</li><li>'requesting'</li><li>'requests'</li><li>'requiem'</li><li>'require'</li><li>'required'</li><li>'requirement'</li><li>'requirements'</li><li>'requires'</li><li>'requiring'</li><li>'requisite'</li><li>'requisition'</li><li>'requisitions'</li><li>'sequel'</li><li>'sequence'</li><li>'sequences'</li><li>'sequencing'</li><li>'sequestered'</li><li>'sequined'</li><li>'sequins'</li><li>'squabble'</li><li>'squad'</li><li>'squadron'</li><li>'squads'</li><li>'squall'</li><li>'squalor'</li><li>'squander'</li><li>'squandered'</li><li>'square'</li><li>'squared'</li><li>'squarely'</li><li>'squares'</li><li>'squaring'</li><li>'squash'</li><li>'squashed'</li><li>'squashing'</li><li>'squat'</li><li>'squatter'</li><li>'squatters'</li><li>'squatting'</li><li>'squaw'</li><li>'squawk'</li><li>'squawking'</li><li>'squeak'</li><li>'squeaking'</li><li>'squeaks'</li><li>'squeaky'</li><li>'squeal'</li><li>'squealed'</li><li>'squeegee'</li><li>'squeeze'</li><li>'squeezed'</li><li>'squeezes'</li><li>'squeezing'</li><li>'squid'</li><li>'squiggle'</li><li>'squiggly'</li><li>'squinting'</li><li>'squire'</li><li>'squirm'</li><li>'squirrel'</li><li>'squirrels'</li><li>'squirt'</li><li>'squirts'</li><li>'squish'</li><li>'squished'</li><li>'squishing'</li><li>'subsequently'</li><li>'technique'</li><li>'techniques'</li><li>'tequila'</li><li>'torque'</li><li>'tranquil'</li><li>'tranquility'</li><li>'tranquilizer'</li><li>'turquoise'</li><li>'ubiquitous'</li><li>'unequivocally'</li><li>'unique'</li><li>'unqualified'</li><li>'unquenchable'</li><li>'unquote'</li><li>'vanquish'</li><li>'vanquished'</li><li>'vanquishing'</li><li>'ventriloquism'</li><li>'ventriloquist'</li></ol>\n"
      ],
      "text/latex": [
       "\\begin{enumerate*}\n",
       "\\item 'acquaint'\n",
       "\\item 'acquaintance'\n",
       "\\item 'acquaintances'\n",
       "\\item 'acquainted'\n",
       "\\item 'acquire'\n",
       "\\item 'acquired'\n",
       "\\item 'acquisition'\n",
       "\\item 'acquisitions'\n",
       "\\item 'acquitted'\n",
       "\\item 'adequate'\n",
       "\\item 'adequately'\n",
       "\\item 'antiquated'\n",
       "\\item 'antique'\n",
       "\\item 'antiques'\n",
       "\\item 'antiquing'\n",
       "\\item 'antiquities'\n",
       "\\item 'antiquity'\n",
       "\\item 'aqua'\n",
       "\\item 'aquarium'\n",
       "\\item 'aquatic'\n",
       "\\item 'banquet'\n",
       "\\item 'baroque'\n",
       "\\item 'bequest'\n",
       "\\item 'bisque'\n",
       "\\item 'bouquet'\n",
       "\\item 'bouquets'\n",
       "\\item 'boutique'\n",
       "\\item 'boutiques'\n",
       "\\item 'cheque'\n",
       "\\item 'clique'\n",
       "\\item 'communique'\n",
       "\\item 'conquer'\n",
       "\\item 'conquered'\n",
       "\\item 'conquering'\n",
       "\\item 'conquers'\n",
       "\\item 'conquest'\n",
       "\\item 'consequence'\n",
       "\\item 'consequences'\n",
       "\\item 'consequently'\n",
       "\\item 'croquet'\n",
       "\\item 'daiquiri'\n",
       "\\item 'delinquency'\n",
       "\\item 'delinquent'\n",
       "\\item 'discotheque'\n",
       "\\item 'disqualified'\n",
       "\\item 'disqualify'\n",
       "\\item 'earthquake'\n",
       "\\item 'earthquakes'\n",
       "\\item 'eloquence'\n",
       "\\item 'eloquent'\n",
       "\\item 'eloquently'\n",
       "\\item 'enquiries'\n",
       "\\item 'equal'\n",
       "\\item 'equality'\n",
       "\\item 'equally'\n",
       "\\item 'equals'\n",
       "\\item 'equation'\n",
       "\\item 'equator'\n",
       "\\item 'equestrian'\n",
       "\\item 'equilibrium'\n",
       "\\item 'equinox'\n",
       "\\item 'equipment'\n",
       "\\item 'equipped'\n",
       "\\item 'equitable'\n",
       "\\item 'equity'\n",
       "\\item 'equivalent'\n",
       "\\item 'etiquette'\n",
       "\\item 'exquisite'\n",
       "\\item 'exquisitely'\n",
       "\\item 'frequencies'\n",
       "\\item 'frequency'\n",
       "\\item 'frequent'\n",
       "\\item 'frequently'\n",
       "\\item 'grotesque'\n",
       "\\item 'headquarters'\n",
       "\\item 'inadequacy'\n",
       "\\item 'inadequate'\n",
       "\\item 'inquest'\n",
       "\\item 'inquiries'\n",
       "\\item 'inquiry'\n",
       "\\item 'inquisition'\n",
       "\\item 'inquisitor'\n",
       "\\item 'lacquer'\n",
       "\\item 'liquefy'\n",
       "\\item 'liquid'\n",
       "\\item 'liquidate'\n",
       "\\item 'liquidated'\n",
       "\\item 'liquidation'\n",
       "\\item 'liquor'\n",
       "\\item 'liquored'\n",
       "\\item 'mannequin'\n",
       "\\item 'mannequins'\n",
       "\\item 'marquee'\n",
       "\\item 'marquis'\n",
       "\\item 'masquerade'\n",
       "\\item 'masquerading'\n",
       "\\item 'mesquite'\n",
       "\\item 'mosque'\n",
       "\\item 'mosquito'\n",
       "\\item 'mosquitoes'\n",
       "\\item 'mosquitos'\n",
       "\\item 'oblique'\n",
       "\\item 'overqualified'\n",
       "\\item 'physique'\n",
       "\\item 'piqued'\n",
       "\\item 'plaque'\n",
       "\\item 'prerequisite'\n",
       "\\item 'racquet'\n",
       "\\item 'racquetball'\n",
       "\\item 'reacquaint'\n",
       "\\item 'reacquainted'\n",
       "\\item 'relinquish'\n",
       "\\item 'relinquishing'\n",
       "\\item 'request'\n",
       "\\item 'requested'\n",
       "\\item 'requesting'\n",
       "\\item 'requests'\n",
       "\\item 'requiem'\n",
       "\\item 'require'\n",
       "\\item 'required'\n",
       "\\item 'requirement'\n",
       "\\item 'requirements'\n",
       "\\item 'requires'\n",
       "\\item 'requiring'\n",
       "\\item 'requisite'\n",
       "\\item 'requisition'\n",
       "\\item 'requisitions'\n",
       "\\item 'sequel'\n",
       "\\item 'sequence'\n",
       "\\item 'sequences'\n",
       "\\item 'sequencing'\n",
       "\\item 'sequestered'\n",
       "\\item 'sequined'\n",
       "\\item 'sequins'\n",
       "\\item 'squabble'\n",
       "\\item 'squad'\n",
       "\\item 'squadron'\n",
       "\\item 'squads'\n",
       "\\item 'squall'\n",
       "\\item 'squalor'\n",
       "\\item 'squander'\n",
       "\\item 'squandered'\n",
       "\\item 'square'\n",
       "\\item 'squared'\n",
       "\\item 'squarely'\n",
       "\\item 'squares'\n",
       "\\item 'squaring'\n",
       "\\item 'squash'\n",
       "\\item 'squashed'\n",
       "\\item 'squashing'\n",
       "\\item 'squat'\n",
       "\\item 'squatter'\n",
       "\\item 'squatters'\n",
       "\\item 'squatting'\n",
       "\\item 'squaw'\n",
       "\\item 'squawk'\n",
       "\\item 'squawking'\n",
       "\\item 'squeak'\n",
       "\\item 'squeaking'\n",
       "\\item 'squeaks'\n",
       "\\item 'squeaky'\n",
       "\\item 'squeal'\n",
       "\\item 'squealed'\n",
       "\\item 'squeegee'\n",
       "\\item 'squeeze'\n",
       "\\item 'squeezed'\n",
       "\\item 'squeezes'\n",
       "\\item 'squeezing'\n",
       "\\item 'squid'\n",
       "\\item 'squiggle'\n",
       "\\item 'squiggly'\n",
       "\\item 'squinting'\n",
       "\\item 'squire'\n",
       "\\item 'squirm'\n",
       "\\item 'squirrel'\n",
       "\\item 'squirrels'\n",
       "\\item 'squirt'\n",
       "\\item 'squirts'\n",
       "\\item 'squish'\n",
       "\\item 'squished'\n",
       "\\item 'squishing'\n",
       "\\item 'subsequently'\n",
       "\\item 'technique'\n",
       "\\item 'techniques'\n",
       "\\item 'tequila'\n",
       "\\item 'torque'\n",
       "\\item 'tranquil'\n",
       "\\item 'tranquility'\n",
       "\\item 'tranquilizer'\n",
       "\\item 'turquoise'\n",
       "\\item 'ubiquitous'\n",
       "\\item 'unequivocally'\n",
       "\\item 'unique'\n",
       "\\item 'unqualified'\n",
       "\\item 'unquenchable'\n",
       "\\item 'unquote'\n",
       "\\item 'vanquish'\n",
       "\\item 'vanquished'\n",
       "\\item 'vanquishing'\n",
       "\\item 'ventriloquism'\n",
       "\\item 'ventriloquist'\n",
       "\\end{enumerate*}\n"
      ],
      "text/markdown": [
       "1. 'acquaint'\n",
       "2. 'acquaintance'\n",
       "3. 'acquaintances'\n",
       "4. 'acquainted'\n",
       "5. 'acquire'\n",
       "6. 'acquired'\n",
       "7. 'acquisition'\n",
       "8. 'acquisitions'\n",
       "9. 'acquitted'\n",
       "10. 'adequate'\n",
       "11. 'adequately'\n",
       "12. 'antiquated'\n",
       "13. 'antique'\n",
       "14. 'antiques'\n",
       "15. 'antiquing'\n",
       "16. 'antiquities'\n",
       "17. 'antiquity'\n",
       "18. 'aqua'\n",
       "19. 'aquarium'\n",
       "20. 'aquatic'\n",
       "21. 'banquet'\n",
       "22. 'baroque'\n",
       "23. 'bequest'\n",
       "24. 'bisque'\n",
       "25. 'bouquet'\n",
       "26. 'bouquets'\n",
       "27. 'boutique'\n",
       "28. 'boutiques'\n",
       "29. 'cheque'\n",
       "30. 'clique'\n",
       "31. 'communique'\n",
       "32. 'conquer'\n",
       "33. 'conquered'\n",
       "34. 'conquering'\n",
       "35. 'conquers'\n",
       "36. 'conquest'\n",
       "37. 'consequence'\n",
       "38. 'consequences'\n",
       "39. 'consequently'\n",
       "40. 'croquet'\n",
       "41. 'daiquiri'\n",
       "42. 'delinquency'\n",
       "43. 'delinquent'\n",
       "44. 'discotheque'\n",
       "45. 'disqualified'\n",
       "46. 'disqualify'\n",
       "47. 'earthquake'\n",
       "48. 'earthquakes'\n",
       "49. 'eloquence'\n",
       "50. 'eloquent'\n",
       "51. 'eloquently'\n",
       "52. 'enquiries'\n",
       "53. 'equal'\n",
       "54. 'equality'\n",
       "55. 'equally'\n",
       "56. 'equals'\n",
       "57. 'equation'\n",
       "58. 'equator'\n",
       "59. 'equestrian'\n",
       "60. 'equilibrium'\n",
       "61. 'equinox'\n",
       "62. 'equipment'\n",
       "63. 'equipped'\n",
       "64. 'equitable'\n",
       "65. 'equity'\n",
       "66. 'equivalent'\n",
       "67. 'etiquette'\n",
       "68. 'exquisite'\n",
       "69. 'exquisitely'\n",
       "70. 'frequencies'\n",
       "71. 'frequency'\n",
       "72. 'frequent'\n",
       "73. 'frequently'\n",
       "74. 'grotesque'\n",
       "75. 'headquarters'\n",
       "76. 'inadequacy'\n",
       "77. 'inadequate'\n",
       "78. 'inquest'\n",
       "79. 'inquiries'\n",
       "80. 'inquiry'\n",
       "81. 'inquisition'\n",
       "82. 'inquisitor'\n",
       "83. 'lacquer'\n",
       "84. 'liquefy'\n",
       "85. 'liquid'\n",
       "86. 'liquidate'\n",
       "87. 'liquidated'\n",
       "88. 'liquidation'\n",
       "89. 'liquor'\n",
       "90. 'liquored'\n",
       "91. 'mannequin'\n",
       "92. 'mannequins'\n",
       "93. 'marquee'\n",
       "94. 'marquis'\n",
       "95. 'masquerade'\n",
       "96. 'masquerading'\n",
       "97. 'mesquite'\n",
       "98. 'mosque'\n",
       "99. 'mosquito'\n",
       "100. 'mosquitoes'\n",
       "101. 'mosquitos'\n",
       "102. 'oblique'\n",
       "103. 'overqualified'\n",
       "104. 'physique'\n",
       "105. 'piqued'\n",
       "106. 'plaque'\n",
       "107. 'prerequisite'\n",
       "108. 'racquet'\n",
       "109. 'racquetball'\n",
       "110. 'reacquaint'\n",
       "111. 'reacquainted'\n",
       "112. 'relinquish'\n",
       "113. 'relinquishing'\n",
       "114. 'request'\n",
       "115. 'requested'\n",
       "116. 'requesting'\n",
       "117. 'requests'\n",
       "118. 'requiem'\n",
       "119. 'require'\n",
       "120. 'required'\n",
       "121. 'requirement'\n",
       "122. 'requirements'\n",
       "123. 'requires'\n",
       "124. 'requiring'\n",
       "125. 'requisite'\n",
       "126. 'requisition'\n",
       "127. 'requisitions'\n",
       "128. 'sequel'\n",
       "129. 'sequence'\n",
       "130. 'sequences'\n",
       "131. 'sequencing'\n",
       "132. 'sequestered'\n",
       "133. 'sequined'\n",
       "134. 'sequins'\n",
       "135. 'squabble'\n",
       "136. 'squad'\n",
       "137. 'squadron'\n",
       "138. 'squads'\n",
       "139. 'squall'\n",
       "140. 'squalor'\n",
       "141. 'squander'\n",
       "142. 'squandered'\n",
       "143. 'square'\n",
       "144. 'squared'\n",
       "145. 'squarely'\n",
       "146. 'squares'\n",
       "147. 'squaring'\n",
       "148. 'squash'\n",
       "149. 'squashed'\n",
       "150. 'squashing'\n",
       "151. 'squat'\n",
       "152. 'squatter'\n",
       "153. 'squatters'\n",
       "154. 'squatting'\n",
       "155. 'squaw'\n",
       "156. 'squawk'\n",
       "157. 'squawking'\n",
       "158. 'squeak'\n",
       "159. 'squeaking'\n",
       "160. 'squeaks'\n",
       "161. 'squeaky'\n",
       "162. 'squeal'\n",
       "163. 'squealed'\n",
       "164. 'squeegee'\n",
       "165. 'squeeze'\n",
       "166. 'squeezed'\n",
       "167. 'squeezes'\n",
       "168. 'squeezing'\n",
       "169. 'squid'\n",
       "170. 'squiggle'\n",
       "171. 'squiggly'\n",
       "172. 'squinting'\n",
       "173. 'squire'\n",
       "174. 'squirm'\n",
       "175. 'squirrel'\n",
       "176. 'squirrels'\n",
       "177. 'squirt'\n",
       "178. 'squirts'\n",
       "179. 'squish'\n",
       "180. 'squished'\n",
       "181. 'squishing'\n",
       "182. 'subsequently'\n",
       "183. 'technique'\n",
       "184. 'techniques'\n",
       "185. 'tequila'\n",
       "186. 'torque'\n",
       "187. 'tranquil'\n",
       "188. 'tranquility'\n",
       "189. 'tranquilizer'\n",
       "190. 'turquoise'\n",
       "191. 'ubiquitous'\n",
       "192. 'unequivocally'\n",
       "193. 'unique'\n",
       "194. 'unqualified'\n",
       "195. 'unquenchable'\n",
       "196. 'unquote'\n",
       "197. 'vanquish'\n",
       "198. 'vanquished'\n",
       "199. 'vanquishing'\n",
       "200. 'ventriloquism'\n",
       "201. 'ventriloquist'\n",
       "\n",
       "\n"
      ],
      "text/plain": [
       "  [1] \"acquaint\"      \"acquaintance\"  \"acquaintances\" \"acquainted\"   \n",
       "  [5] \"acquire\"       \"acquired\"      \"acquisition\"   \"acquisitions\" \n",
       "  [9] \"acquitted\"     \"adequate\"      \"adequately\"    \"antiquated\"   \n",
       " [13] \"antique\"       \"antiques\"      \"antiquing\"     \"antiquities\"  \n",
       " [17] \"antiquity\"     \"aqua\"          \"aquarium\"      \"aquatic\"      \n",
       " [21] \"banquet\"       \"baroque\"       \"bequest\"       \"bisque\"       \n",
       " [25] \"bouquet\"       \"bouquets\"      \"boutique\"      \"boutiques\"    \n",
       " [29] \"cheque\"        \"clique\"        \"communique\"    \"conquer\"      \n",
       " [33] \"conquered\"     \"conquering\"    \"conquers\"      \"conquest\"     \n",
       " [37] \"consequence\"   \"consequences\"  \"consequently\"  \"croquet\"      \n",
       " [41] \"daiquiri\"      \"delinquency\"   \"delinquent\"    \"discotheque\"  \n",
       " [45] \"disqualified\"  \"disqualify\"    \"earthquake\"    \"earthquakes\"  \n",
       " [49] \"eloquence\"     \"eloquent\"      \"eloquently\"    \"enquiries\"    \n",
       " [53] \"equal\"         \"equality\"      \"equally\"       \"equals\"       \n",
       " [57] \"equation\"      \"equator\"       \"equestrian\"    \"equilibrium\"  \n",
       " [61] \"equinox\"       \"equipment\"     \"equipped\"      \"equitable\"    \n",
       " [65] \"equity\"        \"equivalent\"    \"etiquette\"     \"exquisite\"    \n",
       " [69] \"exquisitely\"   \"frequencies\"   \"frequency\"     \"frequent\"     \n",
       " [73] \"frequently\"    \"grotesque\"     \"headquarters\"  \"inadequacy\"   \n",
       " [77] \"inadequate\"    \"inquest\"       \"inquiries\"     \"inquiry\"      \n",
       " [81] \"inquisition\"   \"inquisitor\"    \"lacquer\"       \"liquefy\"      \n",
       " [85] \"liquid\"        \"liquidate\"     \"liquidated\"    \"liquidation\"  \n",
       " [89] \"liquor\"        \"liquored\"      \"mannequin\"     \"mannequins\"   \n",
       " [93] \"marquee\"       \"marquis\"       \"masquerade\"    \"masquerading\" \n",
       " [97] \"mesquite\"      \"mosque\"        \"mosquito\"      \"mosquitoes\"   \n",
       "[101] \"mosquitos\"     \"oblique\"       \"overqualified\" \"physique\"     \n",
       "[105] \"piqued\"        \"plaque\"        \"prerequisite\"  \"racquet\"      \n",
       "[109] \"racquetball\"   \"reacquaint\"    \"reacquainted\"  \"relinquish\"   \n",
       "[113] \"relinquishing\" \"request\"       \"requested\"     \"requesting\"   \n",
       "[117] \"requests\"      \"requiem\"       \"require\"       \"required\"     \n",
       "[121] \"requirement\"   \"requirements\"  \"requires\"      \"requiring\"    \n",
       "[125] \"requisite\"     \"requisition\"   \"requisitions\"  \"sequel\"       \n",
       "[129] \"sequence\"      \"sequences\"     \"sequencing\"    \"sequestered\"  \n",
       "[133] \"sequined\"      \"sequins\"       \"squabble\"      \"squad\"        \n",
       "[137] \"squadron\"      \"squads\"        \"squall\"        \"squalor\"      \n",
       "[141] \"squander\"      \"squandered\"    \"square\"        \"squared\"      \n",
       "[145] \"squarely\"      \"squares\"       \"squaring\"      \"squash\"       \n",
       "[149] \"squashed\"      \"squashing\"     \"squat\"         \"squatter\"     \n",
       "[153] \"squatters\"     \"squatting\"     \"squaw\"         \"squawk\"       \n",
       "[157] \"squawking\"     \"squeak\"        \"squeaking\"     \"squeaks\"      \n",
       "[161] \"squeaky\"       \"squeal\"        \"squealed\"      \"squeegee\"     \n",
       "[165] \"squeeze\"       \"squeezed\"      \"squeezes\"      \"squeezing\"    \n",
       "[169] \"squid\"         \"squiggle\"      \"squiggly\"      \"squinting\"    \n",
       "[173] \"squire\"        \"squirm\"        \"squirrel\"      \"squirrels\"    \n",
       "[177] \"squirt\"        \"squirts\"       \"squish\"        \"squished\"     \n",
       "[181] \"squishing\"     \"subsequently\"  \"technique\"     \"techniques\"   \n",
       "[185] \"tequila\"       \"torque\"        \"tranquil\"      \"tranquility\"  \n",
       "[189] \"tranquilizer\"  \"turquoise\"     \"ubiquitous\"    \"unequivocally\"\n",
       "[193] \"unique\"        \"unqualified\"   \"unquenchable\"  \"unquote\"      \n",
       "[197] \"vanquish\"      \"vanquished\"    \"vanquishing\"   \"ventriloquism\"\n",
       "[201] \"ventriloquist\""
      ]
     },
     "metadata": {},
     "output_type": "display_data"
    }
   ],
   "source": [
    "# contain qu not start with qu\n",
    "qu <- str_sub(pop_words, 2) %>% str_detect(\"qu\")\n",
    "pop_words[qu] "
   ]
  },
  {
   "cell_type": "markdown",
   "metadata": {
    "slideshow": {
     "slide_type": "slide"
    }
   },
   "source": [
    "# Lecture 13: Regular expressions\n",
    "\n",
    "<div style=\"border: 1px double black; padding: 10px; margin: 10px\">\n",
    "\n",
    "**After today's lecture you will:**\n",
    "* Understand basic regular expressions.\n",
    "* Use regular expressions to extract data from text.\n",
    "</div>\n",
    "\n",
    "These notes correspond to Chapter 16 of your book.\n"
   ]
  },
  {
   "cell_type": "markdown",
   "metadata": {
    "slideshow": {
     "slide_type": "slide"
    }
   },
   "source": [
    "## Regular expressions\n",
    "Regular expressions (regex, regexps) are a programming language that allows you to describe patterns in strings. They have a steep learning curve but are very powerful for working with text data. In this class we will just focus on the basics of regexps. A good tool for learning regexps is [regex101](https://regex101.com/), which lets you interactively edit and debug your regular expressions."
   ]
  },
  {
   "cell_type": "markdown",
   "metadata": {
    "slideshow": {
     "slide_type": "slide"
    }
   },
   "source": [
    "> Some people, when confronted with a problem, think \"I know, I'll use regular expressions.\" Now they have two problems. \n",
    ">\n",
    "> — Jamie Zawinski (famous nerd)"
   ]
  },
  {
   "cell_type": "markdown",
   "metadata": {
    "slideshow": {
     "slide_type": "slide"
    }
   },
   "source": [
    "In these slides we will use the command `str_view` to understand how regular expressions work. To get `str_view` working on Colab you need to install the latest versions of `tidyverse` and `htmlwidgets`:"
   ]
  },
  {
   "cell_type": "code",
   "execution_count": 45,
   "metadata": {},
   "outputs": [],
   "source": [
    "#  install.packages(c(\"tidyverse\", \"htmlwidgets\")) if running on colab"
   ]
  },
  {
   "cell_type": "markdown",
   "metadata": {
    "slideshow": {
     "slide_type": "slide"
    }
   },
   "source": [
    "The most basic regular expression is a plain string. It will match if the other string contains it as a substring."
   ]
  },
  {
   "cell_type": "code",
   "execution_count": 79,
   "metadata": {},
   "outputs": [
    {
     "name": "stdout",
     "output_type": "stream",
     "text": [
      "[1] \"apple\"  \"banana\" \"pear\"  \n"
     ]
    },
    {
     "data": {
      "text/plain": [
       "\u001b[90m[2] │\u001b[39m b\u001b[36m<an>\u001b[39m\u001b[36m<an>\u001b[39ma"
      ]
     },
     "metadata": {},
     "output_type": "display_data"
    }
   ],
   "source": [
    "x = c(\"apple\", \"banana\", \"pear\") %>% print\n",
    "str_view(x, pattern = \"an\")"
   ]
  },
  {
   "cell_type": "markdown",
   "metadata": {
    "slideshow": {
     "slide_type": "notes"
    }
   },
   "source": [
    "Here `str_view` has matched our regexp (`\"an\"`) inside of the second string `banana` of the vector `x`."
   ]
  },
  {
   "cell_type": "code",
   "execution_count": 80,
   "metadata": {
    "slideshow": {
     "slide_type": "slide"
    }
   },
   "outputs": [
    {
     "data": {
      "text/html": [
       "<style>\n",
       ".list-inline {list-style: none; margin:0; padding: 0}\n",
       ".list-inline>li {display: inline-block}\n",
       ".list-inline>li:not(:last-child)::after {content: \"\\00b7\"; padding: 0 .5ex}\n",
       "</style>\n",
       "<ol class=list-inline><li>'apple'</li><li>'apricot'</li><li>'avocado'</li><li>'banana'</li><li>'bell pepper'</li><li>'bilberry'</li><li>'blackberry'</li><li>'blackcurrant'</li><li>'blood orange'</li><li>'blueberry'</li><li>'boysenberry'</li><li>'breadfruit'</li><li>'canary melon'</li><li>'cantaloupe'</li><li>'cherimoya'</li><li>'cherry'</li><li>'chili pepper'</li><li>'clementine'</li><li>'cloudberry'</li><li>'coconut'</li><li>'cranberry'</li><li>'cucumber'</li><li>'currant'</li><li>'damson'</li><li>'date'</li><li>'dragonfruit'</li><li>'durian'</li><li>'eggplant'</li><li>'elderberry'</li><li>'feijoa'</li><li>'fig'</li><li>'goji berry'</li><li>'gooseberry'</li><li>'grape'</li><li>'grapefruit'</li><li>'guava'</li><li>'honeydew'</li><li>'huckleberry'</li><li>'jackfruit'</li><li>'jambul'</li><li>'jujube'</li><li>'kiwi fruit'</li><li>'kumquat'</li><li>'lemon'</li><li>'lime'</li><li>'loquat'</li><li>'lychee'</li><li>'mandarine'</li><li>'mango'</li><li>'mulberry'</li><li>'nectarine'</li><li>'nut'</li><li>'olive'</li><li>'orange'</li><li>'pamelo'</li><li>'papaya'</li><li>'passionfruit'</li><li>'peach'</li><li>'pear'</li><li>'persimmon'</li><li>'physalis'</li><li>'pineapple'</li><li>'plum'</li><li>'pomegranate'</li><li>'pomelo'</li><li>'purple mangosteen'</li><li>'quince'</li><li>'raisin'</li><li>'rambutan'</li><li>'raspberry'</li><li>'redcurrant'</li><li>'rock melon'</li><li>'salal berry'</li><li>'satsuma'</li><li>'star fruit'</li><li>'strawberry'</li><li>'tamarillo'</li><li>'tangerine'</li><li>'ugli fruit'</li><li>'watermelon'</li></ol>\n"
      ],
      "text/latex": [
       "\\begin{enumerate*}\n",
       "\\item 'apple'\n",
       "\\item 'apricot'\n",
       "\\item 'avocado'\n",
       "\\item 'banana'\n",
       "\\item 'bell pepper'\n",
       "\\item 'bilberry'\n",
       "\\item 'blackberry'\n",
       "\\item 'blackcurrant'\n",
       "\\item 'blood orange'\n",
       "\\item 'blueberry'\n",
       "\\item 'boysenberry'\n",
       "\\item 'breadfruit'\n",
       "\\item 'canary melon'\n",
       "\\item 'cantaloupe'\n",
       "\\item 'cherimoya'\n",
       "\\item 'cherry'\n",
       "\\item 'chili pepper'\n",
       "\\item 'clementine'\n",
       "\\item 'cloudberry'\n",
       "\\item 'coconut'\n",
       "\\item 'cranberry'\n",
       "\\item 'cucumber'\n",
       "\\item 'currant'\n",
       "\\item 'damson'\n",
       "\\item 'date'\n",
       "\\item 'dragonfruit'\n",
       "\\item 'durian'\n",
       "\\item 'eggplant'\n",
       "\\item 'elderberry'\n",
       "\\item 'feijoa'\n",
       "\\item 'fig'\n",
       "\\item 'goji berry'\n",
       "\\item 'gooseberry'\n",
       "\\item 'grape'\n",
       "\\item 'grapefruit'\n",
       "\\item 'guava'\n",
       "\\item 'honeydew'\n",
       "\\item 'huckleberry'\n",
       "\\item 'jackfruit'\n",
       "\\item 'jambul'\n",
       "\\item 'jujube'\n",
       "\\item 'kiwi fruit'\n",
       "\\item 'kumquat'\n",
       "\\item 'lemon'\n",
       "\\item 'lime'\n",
       "\\item 'loquat'\n",
       "\\item 'lychee'\n",
       "\\item 'mandarine'\n",
       "\\item 'mango'\n",
       "\\item 'mulberry'\n",
       "\\item 'nectarine'\n",
       "\\item 'nut'\n",
       "\\item 'olive'\n",
       "\\item 'orange'\n",
       "\\item 'pamelo'\n",
       "\\item 'papaya'\n",
       "\\item 'passionfruit'\n",
       "\\item 'peach'\n",
       "\\item 'pear'\n",
       "\\item 'persimmon'\n",
       "\\item 'physalis'\n",
       "\\item 'pineapple'\n",
       "\\item 'plum'\n",
       "\\item 'pomegranate'\n",
       "\\item 'pomelo'\n",
       "\\item 'purple mangosteen'\n",
       "\\item 'quince'\n",
       "\\item 'raisin'\n",
       "\\item 'rambutan'\n",
       "\\item 'raspberry'\n",
       "\\item 'redcurrant'\n",
       "\\item 'rock melon'\n",
       "\\item 'salal berry'\n",
       "\\item 'satsuma'\n",
       "\\item 'star fruit'\n",
       "\\item 'strawberry'\n",
       "\\item 'tamarillo'\n",
       "\\item 'tangerine'\n",
       "\\item 'ugli fruit'\n",
       "\\item 'watermelon'\n",
       "\\end{enumerate*}\n"
      ],
      "text/markdown": [
       "1. 'apple'\n",
       "2. 'apricot'\n",
       "3. 'avocado'\n",
       "4. 'banana'\n",
       "5. 'bell pepper'\n",
       "6. 'bilberry'\n",
       "7. 'blackberry'\n",
       "8. 'blackcurrant'\n",
       "9. 'blood orange'\n",
       "10. 'blueberry'\n",
       "11. 'boysenberry'\n",
       "12. 'breadfruit'\n",
       "13. 'canary melon'\n",
       "14. 'cantaloupe'\n",
       "15. 'cherimoya'\n",
       "16. 'cherry'\n",
       "17. 'chili pepper'\n",
       "18. 'clementine'\n",
       "19. 'cloudberry'\n",
       "20. 'coconut'\n",
       "21. 'cranberry'\n",
       "22. 'cucumber'\n",
       "23. 'currant'\n",
       "24. 'damson'\n",
       "25. 'date'\n",
       "26. 'dragonfruit'\n",
       "27. 'durian'\n",
       "28. 'eggplant'\n",
       "29. 'elderberry'\n",
       "30. 'feijoa'\n",
       "31. 'fig'\n",
       "32. 'goji berry'\n",
       "33. 'gooseberry'\n",
       "34. 'grape'\n",
       "35. 'grapefruit'\n",
       "36. 'guava'\n",
       "37. 'honeydew'\n",
       "38. 'huckleberry'\n",
       "39. 'jackfruit'\n",
       "40. 'jambul'\n",
       "41. 'jujube'\n",
       "42. 'kiwi fruit'\n",
       "43. 'kumquat'\n",
       "44. 'lemon'\n",
       "45. 'lime'\n",
       "46. 'loquat'\n",
       "47. 'lychee'\n",
       "48. 'mandarine'\n",
       "49. 'mango'\n",
       "50. 'mulberry'\n",
       "51. 'nectarine'\n",
       "52. 'nut'\n",
       "53. 'olive'\n",
       "54. 'orange'\n",
       "55. 'pamelo'\n",
       "56. 'papaya'\n",
       "57. 'passionfruit'\n",
       "58. 'peach'\n",
       "59. 'pear'\n",
       "60. 'persimmon'\n",
       "61. 'physalis'\n",
       "62. 'pineapple'\n",
       "63. 'plum'\n",
       "64. 'pomegranate'\n",
       "65. 'pomelo'\n",
       "66. 'purple mangosteen'\n",
       "67. 'quince'\n",
       "68. 'raisin'\n",
       "69. 'rambutan'\n",
       "70. 'raspberry'\n",
       "71. 'redcurrant'\n",
       "72. 'rock melon'\n",
       "73. 'salal berry'\n",
       "74. 'satsuma'\n",
       "75. 'star fruit'\n",
       "76. 'strawberry'\n",
       "77. 'tamarillo'\n",
       "78. 'tangerine'\n",
       "79. 'ugli fruit'\n",
       "80. 'watermelon'\n",
       "\n",
       "\n"
      ],
      "text/plain": [
       " [1] \"apple\"             \"apricot\"           \"avocado\"          \n",
       " [4] \"banana\"            \"bell pepper\"       \"bilberry\"         \n",
       " [7] \"blackberry\"        \"blackcurrant\"      \"blood orange\"     \n",
       "[10] \"blueberry\"         \"boysenberry\"       \"breadfruit\"       \n",
       "[13] \"canary melon\"      \"cantaloupe\"        \"cherimoya\"        \n",
       "[16] \"cherry\"            \"chili pepper\"      \"clementine\"       \n",
       "[19] \"cloudberry\"        \"coconut\"           \"cranberry\"        \n",
       "[22] \"cucumber\"          \"currant\"           \"damson\"           \n",
       "[25] \"date\"              \"dragonfruit\"       \"durian\"           \n",
       "[28] \"eggplant\"          \"elderberry\"        \"feijoa\"           \n",
       "[31] \"fig\"               \"goji berry\"        \"gooseberry\"       \n",
       "[34] \"grape\"             \"grapefruit\"        \"guava\"            \n",
       "[37] \"honeydew\"          \"huckleberry\"       \"jackfruit\"        \n",
       "[40] \"jambul\"            \"jujube\"            \"kiwi fruit\"       \n",
       "[43] \"kumquat\"           \"lemon\"             \"lime\"             \n",
       "[46] \"loquat\"            \"lychee\"            \"mandarine\"        \n",
       "[49] \"mango\"             \"mulberry\"          \"nectarine\"        \n",
       "[52] \"nut\"               \"olive\"             \"orange\"           \n",
       "[55] \"pamelo\"            \"papaya\"            \"passionfruit\"     \n",
       "[58] \"peach\"             \"pear\"              \"persimmon\"        \n",
       "[61] \"physalis\"          \"pineapple\"         \"plum\"             \n",
       "[64] \"pomegranate\"       \"pomelo\"            \"purple mangosteen\"\n",
       "[67] \"quince\"            \"raisin\"            \"rambutan\"         \n",
       "[70] \"raspberry\"         \"redcurrant\"        \"rock melon\"       \n",
       "[73] \"salal berry\"       \"satsuma\"           \"star fruit\"       \n",
       "[76] \"strawberry\"        \"tamarillo\"         \"tangerine\"        \n",
       "[79] \"ugli fruit\"        \"watermelon\"       "
      ]
     },
     "metadata": {},
     "output_type": "display_data"
    }
   ],
   "source": [
    "fruit"
   ]
  },
  {
   "cell_type": "code",
   "execution_count": 81,
   "metadata": {
    "slideshow": {
     "slide_type": "slide"
    }
   },
   "outputs": [
    {
     "data": {
      "text/plain": [
       "\u001b[90m [6] │\u001b[39m bil\u001b[36m<berry>\u001b[39m\n",
       "\u001b[90m [7] │\u001b[39m black\u001b[36m<berry>\u001b[39m\n",
       "\u001b[90m[10] │\u001b[39m blue\u001b[36m<berry>\u001b[39m\n",
       "\u001b[90m[11] │\u001b[39m boysen\u001b[36m<berry>\u001b[39m\n",
       "\u001b[90m[19] │\u001b[39m cloud\u001b[36m<berry>\u001b[39m\n",
       "\u001b[90m[21] │\u001b[39m cran\u001b[36m<berry>\u001b[39m\n",
       "\u001b[90m[29] │\u001b[39m elder\u001b[36m<berry>\u001b[39m\n",
       "\u001b[90m[32] │\u001b[39m goji \u001b[36m<berry>\u001b[39m\n",
       "\u001b[90m[33] │\u001b[39m goose\u001b[36m<berry>\u001b[39m\n",
       "\u001b[90m[38] │\u001b[39m huckle\u001b[36m<berry>\u001b[39m\n",
       "\u001b[90m[50] │\u001b[39m mul\u001b[36m<berry>\u001b[39m\n",
       "\u001b[90m[70] │\u001b[39m rasp\u001b[36m<berry>\u001b[39m\n",
       "\u001b[90m[73] │\u001b[39m salal \u001b[36m<berry>\u001b[39m\n",
       "\u001b[90m[76] │\u001b[39m straw\u001b[36m<berry>\u001b[39m"
      ]
     },
     "metadata": {},
     "output_type": "display_data"
    }
   ],
   "source": [
    "str_view(fruit, 'berry')"
   ]
  },
  {
   "cell_type": "markdown",
   "metadata": {
    "slideshow": {
     "slide_type": "slide"
    }
   },
   "source": [
    "### Wildcards\n",
    "Our first non-trivial regular expression will use a wildcard: `.`. Used inside of a regular expression, the period matches any single character:"
   ]
  },
  {
   "cell_type": "code",
   "execution_count": 3,
   "metadata": {},
   "outputs": [
    {
     "data": {
      "text/plain": [
       "\u001b[90m[1] │\u001b[39m \u001b[36m<else>\u001b[39m every \u001b[36m<eele>\u001b[39m \u001b[36m<etce>\u001b[39mtera"
      ]
     },
     "metadata": {},
     "output_type": "display_data"
    }
   ],
   "source": [
    "str_view(\"else every eele etcetera\", \"e..e\") "
   ]
  },
  {
   "cell_type": "markdown",
   "metadata": {
    "slideshow": {
     "slide_type": "slide"
    }
   },
   "source": [
    "If we want to \"extract\" the first match we can use `str_extract()` instead:"
   ]
  },
  {
   "cell_type": "code",
   "execution_count": 19,
   "metadata": {},
   "outputs": [
    {
     "data": {
      "text/html": [
       "'else '"
      ],
      "text/latex": [
       "'else '"
      ],
      "text/markdown": [
       "'else '"
      ],
      "text/plain": [
       "[1] \"else \""
      ]
     },
     "metadata": {},
     "output_type": "display_data"
    }
   ],
   "source": [
    "str_extract(\"else every eele etcetera\", \"e..e \") "
   ]
  },
  {
   "cell_type": "markdown",
   "metadata": {},
   "source": [
    "Now let's return to another example from last lecture: finding all capitalized words."
   ]
  },
  {
   "cell_type": "markdown",
   "metadata": {
    "slideshow": {
     "slide_type": "slide"
    }
   },
   "source": [
    "### Exercise\n",
    "What is the first string that matches the pattern `H<any three characters>y` in Philosopher's Stone?"
   ]
  },
  {
   "cell_type": "code",
   "execution_count": 91,
   "metadata": {},
   "outputs": [
    {
     "data": {
      "text/html": [
       "'Harry'"
      ],
      "text/latex": [
       "'Harry'"
      ],
      "text/markdown": [
       "'Harry'"
      ],
      "text/plain": [
       "[1] \"Harry\""
      ]
     },
     "metadata": {},
     "output_type": "display_data"
    }
   ],
   "source": [
    "ch1 %>% str_extract(\"H\\\\w\\\\w\\\\wy\")"
   ]
  },
  {
   "cell_type": "markdown",
   "metadata": {
    "slideshow": {
     "slide_type": "slide"
    }
   },
   "source": [
    "### Character classes\n",
    "Instead of matching anything using `.`, we often want to match a class of things: words, numbers, spaces, etc.\n",
    "A \"character class\" is a special pattern that matches a collection of characters. There are four built-in character classes you should know:\n",
    "- `\\w`: match any word-like character.\n",
    "- `\\s`: match any whitespace character.\n",
    "- `\\d`: match any digit.\n",
    "- `\\b`: match a \"word boundary\" (more on this in a moment).\n",
    "\n"
   ]
  },
  {
   "cell_type": "markdown",
   "metadata": {
    "slideshow": {
     "slide_type": "slide"
    }
   },
   "source": [
    "`\\w` matches any word character:"
   ]
  },
  {
   "cell_type": "code",
   "execution_count": 88,
   "metadata": {},
   "outputs": [
    {
     "data": {
      "text/plain": [
       "\u001b[90m[1] │\u001b[39m \u001b[36m<t>\u001b[39m\u001b[36m<h>\u001b[39m\u001b[36m<i>\u001b[39m\u001b[36m<s>\u001b[39m \u001b[36m<i>\u001b[39m\u001b[36m<s>\u001b[39m \u001b[36m<a>\u001b[39m \u001b[36m<w>\u001b[39m\u001b[36m<o>\u001b[39m\u001b[36m<r>\u001b[39m\u001b[36m<d>\u001b[39m"
      ]
     },
     "metadata": {},
     "output_type": "display_data"
    }
   ],
   "source": [
    "str_view(\"this is a word\", \"\\\\w\")"
   ]
  },
  {
   "cell_type": "markdown",
   "metadata": {
    "slideshow": {
     "slide_type": "notes"
    }
   },
   "source": [
    "Note the additional level of escaping needed here: \"\\\\w\" gets parsed by R into the string `\\w`:"
   ]
  },
  {
   "cell_type": "code",
   "execution_count": 46,
   "metadata": {
    "slideshow": {
     "slide_type": "notes"
    }
   },
   "outputs": [
    {
     "name": "stdout",
     "output_type": "stream",
     "text": [
      "\\w\n"
     ]
    }
   ],
   "source": [
    "writeLines(\"\\\\w\")"
   ]
  },
  {
   "cell_type": "markdown",
   "metadata": {
    "slideshow": {
     "slide_type": "notes"
    }
   },
   "source": [
    "The `\\w` is then parsed again by the regular expression.\n",
    "\n",
    "The string \"\\w\" is not valid in R, because there is no escape code \"\\w\":\n",
    "\n",
    "```\n",
    "> \"\\w\"\n",
    "Error: '\\w' is an unrecognized escape in character string starting \"\"\\w\"\n",
    "Traceback:\n",
    "```"
   ]
  },
  {
   "cell_type": "markdown",
   "metadata": {
    "slideshow": {
     "slide_type": "slide"
    }
   },
   "source": [
    "`\\d` will match any digit:"
   ]
  },
  {
   "cell_type": "code",
   "execution_count": 32,
   "metadata": {},
   "outputs": [
    {
     "data": {
      "text/plain": [
       "\u001b[90m[1] │\u001b[39m number\u001b[36m<1>\u001b[39m\n",
       "\u001b[90m[3] │\u001b[39m \u001b[36m<3>\u001b[39mhree"
      ]
     },
     "metadata": {},
     "output_type": "display_data"
    }
   ],
   "source": [
    "str_view(c(\"number1\", \"two\", \"3hree\"), \"\\\\d\")"
   ]
  },
  {
   "cell_type": "markdown",
   "metadata": {
    "slideshow": {
     "slide_type": "slide"
    }
   },
   "source": [
    "Similarly, `\\s` will match whitespace (spaces, tabs and newlines):"
   ]
  },
  {
   "cell_type": "code",
   "execution_count": 93,
   "metadata": {},
   "outputs": [
    {
     "name": "stdout",
     "output_type": "stream",
     "text": [
      "spa ce\n",
      "hello\tworld\n",
      "multi\n",
      "line\n"
     ]
    },
    {
     "data": {
      "text/plain": [
       "\u001b[90m[1] │\u001b[39m spa\u001b[36m< >\u001b[39mce\n",
       "\u001b[90m[2] │\u001b[39m hello\u001b[36m<\u001b[36m{\\t}\u001b[39m>\u001b[39mworld\n",
       "\u001b[90m[3] │\u001b[39m multi\u001b[36m<\u001b[39m\n",
       "    \u001b[90m│\u001b[39m \u001b[36m>\u001b[39mline"
      ]
     },
     "metadata": {},
     "output_type": "display_data"
    }
   ],
   "source": [
    "y = c(\"spa ce\", \"hello\\tworld\", \"multi\\nline\")\n",
    "writeLines(y)\n",
    "str_view(y, \"\\\\s\")"
   ]
  },
  {
   "cell_type": "markdown",
   "metadata": {
    "slideshow": {
     "slide_type": "slide"
    }
   },
   "source": [
    "You can also create your own charecter class using square brackets: `[abc]` will match *one of* `a`, `b`, or `c`. In other words, the 'width' of a character class is one character by default."
   ]
  },
  {
   "cell_type": "code",
   "execution_count": 33,
   "metadata": {},
   "outputs": [
    {
     "data": {
      "text/plain": [
       "\u001b[90m [4] │\u001b[39m \u001b[36m<ba>\u001b[39mnana\n",
       "\u001b[90m[12] │\u001b[39m br\u001b[36m<ea>\u001b[39mdfruit\n",
       "\u001b[90m[58] │\u001b[39m p\u001b[36m<ea>\u001b[39mch\n",
       "\u001b[90m[59] │\u001b[39m p\u001b[36m<ea>\u001b[39mr\n",
       "\u001b[90m[62] │\u001b[39m pin\u001b[36m<ea>\u001b[39mpple"
      ]
     },
     "metadata": {},
     "output_type": "display_data"
    }
   ],
   "source": [
    "str_view(fruit, '[be]a')  # Match either 'b' or 'e' followed by a"
   ]
  },
  {
   "cell_type": "markdown",
   "metadata": {
    "slideshow": {
     "slide_type": "slide"
    }
   },
   "source": [
    "We can use character classes to match the first capital letter of a capitalized word:"
   ]
  },
  {
   "cell_type": "code",
   "execution_count": 94,
   "metadata": {},
   "outputs": [
    {
     "data": {
      "text/plain": [
       "\u001b[90m[1] │\u001b[39m \u001b[36m<T>\u001b[39mhese\n",
       "\u001b[90m[3] │\u001b[39m some \u001b[36m<C>\u001b[39mapitalized words"
      ]
     },
     "metadata": {},
     "output_type": "display_data"
    }
   ],
   "source": [
    "str_view(c(\"These\", \"are\", \"some Capitalized words\"),\n",
    "         \"[ABCDEFGHIJKLMNOPQRSTUVWXYZ]\")"
   ]
  },
  {
   "cell_type": "markdown",
   "metadata": {
    "slideshow": {
     "slide_type": "slide"
    }
   },
   "source": [
    "We do not need to go to all the trouble of typing each capital letter. We can use the shortcut `[A-Z]` instead."
   ]
  },
  {
   "cell_type": "code",
   "execution_count": 43,
   "metadata": {},
   "outputs": [
    {
     "data": {
      "text/plain": [
       "\u001b[90m[1] │\u001b[39m \u001b[36m<T>\u001b[39mhese\n",
       "\u001b[90m[3] │\u001b[39m some \u001b[36m<C>\u001b[39mapitalized words"
      ]
     },
     "metadata": {},
     "output_type": "display_data"
    }
   ],
   "source": [
    "str_view(c(\"These\", \"are\", \"some Capitalized words\"), \"[A-Z]\")"
   ]
  },
  {
   "cell_type": "markdown",
   "metadata": {
    "slideshow": {
     "slide_type": "slide"
    }
   },
   "source": [
    "### Word boundaries\n",
    "A final character class we'll use frequently is `\\b`, which stands for \"word boundary\". A word boundary matches the \"edges\" of a word:"
   ]
  },
  {
   "cell_type": "code",
   "execution_count": 96,
   "metadata": {
    "slideshow": {
     "slide_type": "-"
    }
   },
   "outputs": [
    {
     "data": {
      "text/plain": [
       "\u001b[90m[1] │\u001b[39m \u001b[36m<>\u001b[39mRafael\u001b[36m<>\u001b[39m \u001b[36m<>\u001b[39mNadal\u001b[36m<>\u001b[39m.\n",
       "\u001b[90m[2] │\u001b[39m \u001b[36m<>\u001b[39mRoger\u001b[36m<>\u001b[39m \u001b[36m<>\u001b[39mFederer\u001b[36m<>\u001b[39m\n",
       "\u001b[90m[3] │\u001b[39m \u001b[36m<>\u001b[39mNovak\u001b[36m<>\u001b[39m \u001b[36m<>\u001b[39mDjokovic\u001b[36m<>\u001b[39m"
      ]
     },
     "metadata": {},
     "output_type": "display_data"
    }
   ],
   "source": [
    "str_view(c(\"Rafael Nadal.\", \"Roger Federer\", \"Novak Djokovic\"), \"\\\\b\")"
   ]
  },
  {
   "cell_type": "markdown",
   "metadata": {
    "slideshow": {
     "slide_type": "notes"
    }
   },
   "source": [
    "Every word has a word boundary on either side, so we can use this in combination with other character classes to match certain kinds of words in text."
   ]
  },
  {
   "cell_type": "markdown",
   "metadata": {
    "slideshow": {
     "slide_type": "slide"
    }
   },
   "source": [
    "## 🤔 Quiz\n",
    "\n",
    "About how many 5-letter words are there in `ch1`?\n",
    "\n",
    "<ol style=\"list-style-type: upper-alpha;\">\n",
    "    <li>Less than 100</li>\n",
    "    <li>100-300</li>\n",
    "    <li>300-600</li>\n",
    "    <li>600 or more</li>\n",
    "</ol>\n"
   ]
  },
  {
   "cell_type": "code",
   "execution_count": 104,
   "metadata": {
    "slideshow": {
     "slide_type": "slide"
    }
   },
   "outputs": [
    {
     "data": {
      "text/plain": [
       "\u001b[90m[1] │\u001b[39m \u001b[36m<THE>\u001b[39m \u001b[36m<BOY>\u001b[39m \u001b[36m<WHO>\u001b[39m LIVED\u001b[36m{\\u3000\\u3000}\u001b[39mMr. \u001b[36m<and>\u001b[39m \u001b[36m<Mrs>\u001b[39m. Dursley, of number four, Privet Drive, were proud to \u001b[36m<say>\u001b[39m that they were perfectly normal, thank \u001b[36m<you>\u001b[39m very much. They were \u001b[36m<the>\u001b[39m last people \u001b[36m<you>\u001b[39m'd expect to be involved in anything strange or mysterious, because they just didn't hold with such nonsense.\u001b[36m{\\u3000\\u3000}\u001b[39mMr. Dursley \u001b[36m<was>\u001b[39m \u001b[36m<the>\u001b[39m director of a firm called Grunnings, which made drills. He \u001b[36m<was>\u001b[39m a \u001b[36m<big>\u001b[39m, beefy \u001b[36m<man>\u001b[39m with hardly \u001b[36m<any>\u001b[39m neck, although he \u001b[36m<did>\u001b[39m have a very large mustache. \u001b[36m<Mrs>\u001b[39m. Dursley \u001b[36m<was>\u001b[39m thin \u001b[36m<and>\u001b[39m blonde \u001b[36m<and>\u001b[39m \u001b[36m<had>\u001b[39m nearly twice \u001b[36m<the>\u001b[39m usual amount of neck, which came in very useful as \u001b[36m<she>\u001b[39m spent so much of \u001b[36m<her>\u001b[39m time craning over garden fences, spying on \u001b[36m<the>\u001b[39m neighbors. \u001b[36m<The>\u001b[39m Dursleys \u001b[36m<had>\u001b[39m a small \u001b[36m<son>\u001b[39m called Dudley \u001b[36m<and>\u001b[39m in their opinion there \u001b[36m<was>\u001b[39m no finer \u001b[36m<boy>\u001b[39m anywhere.\u001b[36m{\\u3000\\u3000}\u001b[39m\u001b[36m<The>\u001b[39m Dursleys \u001b[36m<had>\u001b[39m everything they wanted, \u001b[36m<but>\u001b[39m they also \u001b[36m<had>\u001b[39m a secret, \u001b[36m<and>\u001b[39m their greatest fear \u001b[36m<was>\u001b[39m that somebody would discover it. They didn't think they could bear it if anyone found \u001b[36m<out>\u001b[39m about \u001b[36m<the>\u001b[39m Potters. \u001b[36m<Mrs>\u001b[39m. Potter \u001b[36m<was>\u001b[39m \u001b[36m<Mrs>\u001b[39m. Dursley's sister, \u001b[36m<but>\u001b[39m they hadn't \u001b[36m<met>\u001b[39m \u001b[36m<for>\u001b[39m several years; in fact, \u001b[36m<Mrs>\u001b[39m. Dursley pretended \u001b[36m<she>\u001b[39m didn't have a sister, because \u001b[36m<her>\u001b[39m sister \u001b[36m<and>\u001b[39m \u001b[36m<her>\u001b[39m good-\u001b[36m<for>\u001b[39m-nothing husband were as unDursleyish as it \u001b[36m<was>\u001b[39m possible to be. \u001b[36m<The>\u001b[39m Dursleys shuddered to think what \u001b[36m<the>\u001b[39m neighbors would \u001b[36m<say>\u001b[39m if \u001b[36m<the>\u001b[39m Potters arrived in \u001b[36m<the>\u001b[39m street. \u001b[36m<The>\u001b[39m Dursleys knew that \u001b[36m<the>\u001b[39m Potters \u001b[36m<had>\u001b[39m a small \u001b[36m<son>\u001b[39m, \u001b[36m<too>\u001b[39m, \u001b[36m<but>\u001b[39m they \u001b[36m<had>\u001b[39m never even seen \u001b[36m<him>\u001b[39m. This \u001b[36m<boy>\u001b[39m \u001b[36m<was>\u001b[39m another good reason \u001b[36m<for>\u001b[39m keeping \u001b[36m<the>\u001b[39m Potters away; they didn't want Dudley mixing with a child like that.\u001b[36m{\\u3000\\u3000}\u001b[39mWhen Mr. \u001b[36m<and>\u001b[39m \u001b[36m<Mrs>\u001b[39m. Dursley woke up on \u001b[36m<the>\u001b[39m dull, gray Tuesday \u001b[36m<our>\u001b[39m story starts, there \u001b[36m<was>\u001b[39m nothing about \u001b[36m<the>\u001b[39m cloudy \u001b[36m<sky>\u001b[39m outside to suggest that strange \u001b[36m<and>\u001b[39m mysterious things would soon be happening \u001b[36m<all>\u001b[39m over \u001b[36m<the>\u001b[39m country. Mr. Dursley hummed as he picked \u001b[36m<out>\u001b[39m \u001b[36m<his>\u001b[39m most boring \u001b[36m<tie>\u001b[39m \u001b[36m<for>\u001b[39m work, \u001b[36m<and>\u001b[39m \u001b[36m<Mrs>\u001b[39m. Dursley gossiped away happily as \u001b[36m<she>\u001b[39m wrestled a screaming Dudley into \u001b[36m<his>\u001b[39m high chair.\u001b[36m{\\u3000\\u3000}\u001b[39mNone of them noticed a large, tawny \u001b[36m<owl>\u001b[39m flutter past \u001b[36m<the>\u001b[39m window.\u001b[36m{\\u3000\\u3000}\u001b[39mAt half past eight, Mr. Dursley picked up \u001b[36m<his>\u001b[39m briefcase, pecked \u001b[36m<Mrs>\u001b[39m. Dursley on \u001b[36m<the>\u001b[39m cheek, \u001b[36m<and>\u001b[39m tried to kiss Dudley good-\u001b[36m<bye>\u001b[39m \u001b[36m<but>\u001b[39m missed, because Dudley \u001b[36m<was>\u001b[39m \u001b[36m<now>\u001b[39m having a tantrum \u001b[36m<and>\u001b[39m throwing \u001b[36m<his>\u001b[39m cereal at \u001b[36m<the>\u001b[39m walls. \"Little tyke,\" chortled Mr. Dursley as he left \u001b[36m<the>\u001b[39m house. He \u001b[36m<got>\u001b[39m into \u001b[36m<his>\u001b[39m \u001b[36m<car>\u001b[39m \u001b[36m<and>\u001b[39m backed \u001b[36m<out>\u001b[39m of number four's drive.\u001b[36m{\\u3000\\u3000}\u001b[39mIt \u001b[36m<was>\u001b[39m on \u001b[36m<the>\u001b[39m corner of \u001b[36m<the>\u001b[39m street that he noticed \u001b[36m<the>\u001b[39m first sign of something peculiar -- a \u001b[36m<cat>\u001b[39m reading a \u001b[36m<map>\u001b[39m. \u001b[36m<For>\u001b[39m a second, Mr. Dursley didn't realize what he \u001b[36m<had>\u001b[39m seen -- then he jerked \u001b[36m<his>\u001b[39m head around to look again. There \u001b[36m<was>\u001b[39m a tabby \u001b[36m<cat>\u001b[39m standing on \u001b[36m<the>\u001b[39m corner of Privet Drive, \u001b[36m<but>\u001b[39m there wasn't a \u001b[36m<map>\u001b[39m in sight. What could he have been thinking of? It must have been a trick of \u001b[36m<the>\u001b[39m light. Mr. Dursley blinked \u001b[36m<and>\u001b[39m stared at \u001b[36m<the>\u001b[39m \u001b[36m<cat>\u001b[39m. It stared back. As Mr. Dursley drove around \u001b[36m<the>\u001b[39m corner \u001b[36m<and>\u001b[39m up \u001b[36m<the>\u001b[39m road, he watched \u001b[36m<the>\u001b[39m \u001b[36m<cat>\u001b[39m in \u001b[36m<his>\u001b[39m mirror. It \u001b[36m<was>\u001b[39m \u001b[36m<now>\u001b[39m reading \u001b[36m<the>\u001b[39m sign that said Privet Drive -- no, looking at \u001b[36m<the>\u001b[39m sign; cats couldn't read maps or signs. Mr. Dursley gave himself a little shake \u001b[36m<and>\u001b[39m \u001b[36m<put>\u001b[39m \u001b[36m<the>\u001b[39m \u001b[36m<cat>\u001b[39m \u001b[36m<out>\u001b[39m of \u001b[36m<his>\u001b[39m mind. As he drove toward town he thought of nothing except a large order of drills he \u001b[36m<was>\u001b[39m hoping to \u001b[36m<get>\u001b[39m that \u001b[36m<day>\u001b[39m.\u001b[36m{\\u3000\\u3000}\u001b[39m\u001b[36m<But>\u001b[39m on \u001b[36m<the>\u001b[39m edge of town, drills were driven \u001b[36m<out>\u001b[39m of \u001b[36m<his>\u001b[39m mind by something else. As he \u001b[36m<sat>\u001b[39m in \u001b[36m<the>\u001b[39m usual morning traffic \u001b[36m<jam>\u001b[39m, he couldn't help noticing that there seemed to be a \u001b[36m<lot>\u001b[39m of strangely dressed people about. People in cloaks. Mr. Dursley couldn't bear people \u001b[36m<who>\u001b[39m dressed in funny clothes -- \u001b[36m<the>\u001b[39m getups \u001b[36m<you>\u001b[39m \u001b[36m<saw>\u001b[39m on young people! He supposed this \u001b[36m<was>\u001b[39m some stupid \u001b[36m<new>\u001b[39m fashion. He drummed \u001b[36m<his>\u001b[39m fingers on \u001b[36m<the>\u001b[39m steering wheel \u001b[36m<and>\u001b[39m \u001b[36m<his>\u001b[39m eyes fell on a huddle of these weirdos standing quite close by. They were whispering excitedly together. Mr. Dursley \u001b[36m<was>\u001b[39m enraged to \u001b[36m<see>\u001b[39m that a couple of them weren't young at \u001b[36m<all>\u001b[39m; \u001b[36m<why>\u001b[39m, that \u001b[36m<man>\u001b[39m \u001b[36m<had>\u001b[39m to be older than he \u001b[36m<was>\u001b[39m, \u001b[36m<and>\u001b[39m wearing an emerald-green cloak! \u001b[36m<The>\u001b[39m nerve of \u001b[36m<him>\u001b[39m! \u001b[36m<But>\u001b[39m then it struck Mr. Dursley that this \u001b[36m<was>\u001b[39m probably some silly stunt -- these people were obviously collecting \u001b[36m<for>\u001b[39m something... \u001b[36m<yes>\u001b[39m, that would be it. \u001b[36m<The>\u001b[39m traffic moved on \u001b[36m<and>\u001b[39m a \u001b[36m<few>\u001b[39m minutes later, Mr. Dursley arrived in \u001b[36m<the>\u001b[39m Grunnings parking \u001b[36m<lot>\u001b[39m, \u001b[36m<his>\u001b[39m mind back on drills.\u001b[36m{\\u3000\\u3000}\u001b[39mMr. Dursley always \u001b[36m<sat>\u001b[39m with \u001b[36m<his>\u001b[39m back to \u001b[36m<the>\u001b[39m window in \u001b[36m<his>\u001b[39m office on \u001b[36m<the>\u001b[39m ninth floor. If he hadn't, he might have found it harder to concentrate on drills that morning. He didn't \u001b[36m<see>\u001b[39m \u001b[36m<the>\u001b[39m owls swoop \u001b[36m<ing>\u001b[39m past in broad daylight, though people down in \u001b[36m<the>\u001b[39m street \u001b[36m<did>\u001b[39m; they pointed \u001b[36m<and>\u001b[39m gazed open- mouthed as \u001b[36m<owl>\u001b[39m after \u001b[36m<owl>\u001b[39m sped overhead. Most of them \u001b[36m<had>\u001b[39m never seen an \u001b[36m<owl>\u001b[39m even at nighttime. Mr. Dursley, however, \u001b[36m<had>\u001b[39m a perfectly normal, \u001b[36m<owl>\u001b[39m-free morning. He yelled at five different people. He made several important telephone calls \u001b[36m<and>\u001b[39m shouted a \u001b[36m<bit>\u001b[39m more. He \u001b[36m<was>\u001b[39m in a very good mood until lunchtime, when he thought he'd stretch \u001b[36m<his>\u001b[39m legs \u001b[36m<and>\u001b[39m walk across \u001b[36m<the>\u001b[39m road to \u001b[36m<buy>\u001b[39m himself a \u001b[36m<bun>\u001b[39m from \u001b[36m<the>\u001b[39m bakery.\u001b[36m{\\u3000\\u3000}\u001b[39mHe'd forgotten \u001b[36m<all>\u001b[39m about \u001b[36m<the>\u001b[39m people in cloaks until he passed a group of them next to \u001b[36m<the>\u001b[39m baker's. He eyed them angrily as he passed. He didn't know \u001b[36m<why>\u001b[39m, \u001b[36m<but>\u001b[39m they made \u001b[36m<him>\u001b[39m uneasy. This bunch were whispering excitedly, \u001b[36m<too>\u001b[39m, \u001b[36m<and>\u001b[39m he couldn't \u001b[36m<see>\u001b[39m a single collecting \u001b[36m<tin>\u001b[39m. It \u001b[36m<was>\u001b[39m on \u001b[36m<his>\u001b[39m \u001b[36m<way>\u001b[39m back past them, clutching a large doughnut in a \u001b[36m<bag>\u001b[39m, that he caught a \u001b[36m<few>\u001b[39m words of what they were saying.\u001b[36m{\\u3000\\u3000}\u001b[39m \"\u001b[36m<The>\u001b[39m Potters, that's right, that's what I heard \u001b[36m<yes>\u001b[39m, their \u001b[36m<son>\u001b[39m, Harry\"\u001b[36m{\\u3000\\u3000}\u001b[39mMr. Dursley stopped dead. Fear flooded \u001b[36m<him>\u001b[39m. He looked back at \u001b[36m<the>\u001b[39m whisperers as if he wanted to \u001b[36m<say>\u001b[39m something to them, \u001b[36m<but>\u001b[39m thought better of it.\u001b[36m{\\u3000\\u3000}\u001b[39mHe dashed back across \u001b[36m<the>\u001b[39m road, hurried up to \u001b[36m<his>\u001b[39m office, snapped at \u001b[36m<his>\u001b[39m secretary \u001b[36m<not>\u001b[39m to disturb \u001b[36m<him>\u001b[39m, seized \u001b[36m<his>\u001b[39m telephone, \u001b[36m<and>\u001b[39m \u001b[36m<had>\u001b[39m almost finished dialing \u001b[36m<his>\u001b[39m home number when he changed \u001b[36m<his>\u001b[39m mind. He \u001b[36m<put>\u001b[39m \u001b[36m<the>\u001b[39m receiver back down \u001b[36m<and>\u001b[39m stroked \u001b[36m<his>\u001b[39m mustache, thinking... no, he \u001b[36m<was>\u001b[39m being stupid. Potter wasn't such an unusual name. He \u001b[36m<was>\u001b[39m sure there were lots of people called Potter \u001b[36m<who>\u001b[39m \u001b[36m<had>\u001b[39m a \u001b[36m<son>\u001b[39m called Harry. Come to think of it, he wasn't even sure \u001b[36m<his>\u001b[39m nephew \u001b[36m<was>\u001b[39m called Harry. He'd never even seen \u001b[36m<the>\u001b[39m \u001b[36m<boy>\u001b[39m. It might have been Harvey. Or Harold. There \u001b[36m<was>\u001b[39m no point in worrying \u001b[36m<Mrs>\u001b[39m. Dursley; \u001b[36m<she>\u001b[39m always \u001b[36m<got>\u001b[39m so upset at \u001b[36m<any>\u001b[39m mention of \u001b[36m<her>\u001b[39m sister. He didn't blame \u001b[36m<her>\u001b[39m -- if he'd \u001b[36m<had>\u001b[39m a sister like that... \u001b[36m<but>\u001b[39m \u001b[36m<all>\u001b[39m \u001b[36m<the>\u001b[39m same, those people in cloaks...\u001b[36m{\\u3000\\u3000}\u001b[39mHe found it a \u001b[36m<lot>\u001b[39m harder to concentrate on drills that afternoon \u001b[36m<and>\u001b[39m when he left \u001b[36m<the>\u001b[39m building at five o'clock, he \u001b[36m<was>\u001b[39m still so worried that he walked straight into someone just outside \u001b[36m<the>\u001b[39m door.\u001b[36m{\\u3000\\u3000}\u001b[39m\"Sorry,\" he grunted, as \u001b[36m<the>\u001b[39m tiny \u001b[36m<old>\u001b[39m \u001b[36m<man>\u001b[39m stumbled \u001b[36m<and>\u001b[39m almost fell. It \u001b[36m<was>\u001b[39m a \u001b[36m<few>\u001b[39m seconds before Mr. Dursley realized that \u001b[36m<the>\u001b[39m \u001b[36m<man>\u001b[39m \u001b[36m<was>\u001b[39m wearing a violet cloak. He didn't seem at \u001b[36m<all>\u001b[39m upset at being almost knocked to \u001b[36m<the>\u001b[39m ground. On \u001b[36m<the>\u001b[39m contrary, \u001b[36m<his>\u001b[39m face split into a wide smile \u001b[36m<and>\u001b[39m he said in a squeaky voice that made passersby stare, \"\u001b[36m<Don>\u001b[39m't be sorry, my dear \u001b[36m<sir>\u001b[39m, \u001b[36m<for>\u001b[39m nothing could upset me today! Rejoice, \u001b[36m<for>\u001b[39m \u001b[36m<You>\u001b[39m-Know-\u001b[36m<Who>\u001b[39m \u001b[36m<has>\u001b[39m gone at last! Even Muggles like yourself should be celebrating, this happy, happy \u001b[36m<day>\u001b[39m!\"\u001b[36m{\\u3000\\u3000}\u001b[39m\u001b[36m<And>\u001b[39m \u001b[36m<the>\u001b[39m \u001b[36m<old>\u001b[39m \u001b[36m<man>\u001b[39m hugged Mr. Dursley around \u001b[36m<the>\u001b[39m middle \u001b[36m<and>\u001b[39m walked \u001b[36m<off>\u001b[39m.\u001b[36m{\\u3000\\u3000}\u001b[39mMr. Dursley stood rooted to \u001b[36m<the>\u001b[39m spot. He \u001b[36m<had>\u001b[39m been hugged by a complete stranger. He also thought he \u001b[36m<had>\u001b[39m been called a Muggle, whatever that \u001b[36m<was>\u001b[39m. He \u001b[36m<was>\u001b[39m rattled. He hurried to \u001b[36m<his>\u001b[39m \u001b[36m<car>\u001b[39m \u001b[36m<and>\u001b[39m \u001b[36m<set>\u001b[39m \u001b[36m<off>\u001b[39m \u001b[36m<for>\u001b[39m home, hoping he \u001b[36m<was>\u001b[39m imagining things, which he \u001b[36m<had>\u001b[39m never hoped before, because he didn't approve of imagination.\u001b[36m{\\u3000\\u3000}\u001b[39mAs he pulled into \u001b[36m<the>\u001b[39m driveway of number four, \u001b[36m<the>\u001b[39m first thing he \u001b[36m<saw>\u001b[39m -- \u001b[36m<and>\u001b[39m it didn't improve \u001b[36m<his>\u001b[39m mood -- \u001b[36m<was>\u001b[39m \u001b[36m<the>\u001b[39m tabby \u001b[36m<cat>\u001b[39m he'd spotted that morning. It \u001b[36m<was>\u001b[39m \u001b[36m<now>\u001b[39m sitting on \u001b[36m<his>\u001b[39m garden wall. He \u001b[36m<was>\u001b[39m sure it \u001b[36m<was>\u001b[39m \u001b[36m<the>\u001b[39m same \u001b[36m<one>\u001b[39m; it \u001b[36m<had>\u001b[39m \u001b[36m<the>\u001b[39m same markings around \u001b[36m<its>\u001b[39m eyes.\u001b[36m{\\u3000\\u3000}\u001b[39m\"Shoo!\" said Mr. Dursley loudly. \u001b[36m<The>\u001b[39m \u001b[36m<cat>\u001b[39m didn't move. It just gave \u001b[36m<him>\u001b[39m a stern look. \u001b[36m<Was>\u001b[39m this normal \u001b[36m<cat>\u001b[39m behavior? Mr. Dursley wondered. Trying to pull himself together, he \u001b[36m<let>\u001b[39m himself into \u001b[36m<the>\u001b[39m house. He \u001b[36m<was>\u001b[39m still determined \u001b[36m<not>\u001b[39m to mention anything to \u001b[36m<his>\u001b[39m wife.\u001b[36m{\\u3000\\u3000}\u001b[39m\u001b[36m<Mrs>\u001b[39m. Dursley \u001b[36m<had>\u001b[39m \u001b[36m<had>\u001b[39m a nice, normal \u001b[36m<day>\u001b[39m. \u001b[36m<She>\u001b[39m told \u001b[36m<him>\u001b[39m over dinner \u001b[36m<all>\u001b[39m about \u001b[36m<Mrs>\u001b[39m. Next Door's problems with \u001b[36m<her>\u001b[39m daughter \u001b[36m<and>\u001b[39m \u001b[36m<how>\u001b[39m Dudley \u001b[36m<had>\u001b[39m learned a \u001b[36m<new>\u001b[39m word (\"\u001b[36m<Won>\u001b[39m't!\"). Mr. Dursley tried to \u001b[36m<act>\u001b[39m normally. When Dudley \u001b[36m<had>\u001b[39m been \u001b[36m<put>\u001b[39m to \u001b[36m<bed>\u001b[39m, he went into \u001b[36m<the>\u001b[39m living room in time to catch \u001b[36m<the>\u001b[39m last report on \u001b[36m<the>\u001b[39m evening news:\u001b[36m{\\u3000\\u3000}\u001b[39m\"\u001b[36m<And>\u001b[39m finally, bird-watchers everywhere have reported that \u001b[36m<the>\u001b[39m nation's owls have been behaving very unusually today. Although owls normally hunt at night \u001b[36m<and>\u001b[39m \u001b[36m<are>\u001b[39m hardly ever seen in daylight, there have been hundreds of sightings of these birds flying in every direction since sunrise. Experts \u001b[36m<are>\u001b[39m unable to explain \u001b[36m<why>\u001b[39m \u001b[36m<the>\u001b[39m owls have suddenly changed their sleeping pattern.\" \u001b[36m<The>\u001b[39m newscaster allowed himself a grin. \"Most mysterious. \u001b[36m<And>\u001b[39m \u001b[36m<now>\u001b[39m, over to \u001b[36m<Jim>\u001b[39m McGuffin with \u001b[36m<the>\u001b[39m weather. Going to be \u001b[36m<any>\u001b[39m more showers of owls tonight, \u001b[36m<Jim>\u001b[39m?\"\u001b[36m{\\u3000\\u3000}\u001b[39m\"Well, \u001b[36m<Ted>\u001b[39m,\" said \u001b[36m<the>\u001b[39m weatherman, \"I \u001b[36m<don>\u001b[39m't know about that, \u001b[36m<but>\u001b[39m it's \u001b[36m<not>\u001b[39m only \u001b[36m<the>\u001b[39m owls that have been acting oddly today. Viewers as \u001b[36m<far>\u001b[39m apart as Kent, Yorkshire, \u001b[36m<and>\u001b[39m Dundee have been phoning in to tell me that instead of \u001b[36m<the>\u001b[39m rain I promised yesterday, they've \u001b[36m<had>\u001b[39m a downpour of shooting stars! Perhaps people have been celebrating Bonfire Night early -- it's \u001b[36m<not>\u001b[39m until next week, folks! \u001b[36m<But>\u001b[39m I \u001b[36m<can>\u001b[39m promise a \u001b[36m<wet>\u001b[39m night tonight.\"\u001b[36m{\\u3000\\u3000}\u001b[39mMr. Dursley \u001b[36m<sat>\u001b[39m frozen in \u001b[36m<his>\u001b[39m armchair. Shooting stars \u001b[36m<all>\u001b[39m over Britain? Owls flying by daylight? Mysterious people in cloaks \u001b[36m<all>\u001b[39m over \u001b[36m<the>\u001b[39m place? \u001b[36m<And>\u001b[39m a whisper, a whisper about \u001b[36m<the>\u001b[39m Potters...\u001b[36m{\\u3000\\u3000}\u001b[39m\u001b[36m<Mrs>\u001b[39m. Dursley came into \u001b[36m<the>\u001b[39m living room carrying \u001b[36m<two>\u001b[39m cups of \u001b[36m<tea>\u001b[39m. It \u001b[36m<was>\u001b[39m no good. He'd have to \u001b[36m<say>\u001b[39m something to \u001b[36m<her>\u001b[39m. He cleared \u001b[36m<his>\u001b[39m throat nervously. \"Er -- Petunia, dear -- \u001b[36m<you>\u001b[39m haven't heard from your sister lately, have \u001b[36m<you>\u001b[39m?\"\u001b[36m{\\u3000\\u3000}\u001b[39mAs he \u001b[36m<had>\u001b[39m expected, \u001b[36m<Mrs>\u001b[39m. Dursley looked shocked \u001b[36m<and>\u001b[39m angry. After \u001b[36m<all>\u001b[39m, they normally pretended \u001b[36m<she>\u001b[39m didn't have a sister.\u001b[36m{\\u3000\\u3000}\u001b[39m\"No,\" \u001b[36m<she>\u001b[39m said sharply. \"\u001b[36m<Why>\u001b[39m?\"\u001b[36m{\\u3000\\u3000}\u001b[39m\"Funny stuff on \u001b[36m<the>\u001b[39m news,\" Mr. Dursley mumbled. \"Owls... shooting stars... \u001b[36m<and>\u001b[39m there were a \u001b[36m<lot>\u001b[39m of funny-looking people in town today...\"\u001b[36m{\\u3000\\u3000}\u001b[39m\"So?\" snapped \u001b[36m<Mrs>\u001b[39m. Dursley.\u001b[36m{\\u3000\\u3000}\u001b[39m\"Well, I just thought... maybe... it \u001b[36m<was>\u001b[39m something to do with... \u001b[36m<you>\u001b[39m know... \u001b[36m<her>\u001b[39m crowd.\"\u001b[36m{\\u3000\\u3000}\u001b[39m\u001b[36m<Mrs>\u001b[39m. Dursley sipped \u001b[36m<her>\u001b[39m \u001b[36m<tea>\u001b[39m through pursed lips. Mr. Dursley wondered whether he dared tell \u001b[36m<her>\u001b[39m he'd heard \u001b[36m<the>\u001b[39m name \"Potter.\" He decided he didn't dare. Instead he said, as casually as he could, \"Their \u001b[36m<son>\u001b[39m -- he'd be about Dudley's \u001b[36m<age>\u001b[39m \u001b[36m<now>\u001b[39m, wouldn't he?\"\u001b[36m{\\u3000\\u3000}\u001b[39m\"I suppose so,\" said \u001b[36m<Mrs>\u001b[39m. Dursley stiffly.\u001b[36m{\\u3000\\u3000}\u001b[39m\"What's \u001b[36m<his>\u001b[39m name again? Howard, \u001b[36m<isn>\u001b[39m't it?\"\u001b[36m{\\u3000\\u3000}\u001b[39m\"Harry. Nasty, common name, if \u001b[36m<you>\u001b[39m \u001b[36m<ask>\u001b[39m me.\"\u001b[36m{\\u3000\\u3000}\u001b[39m\"Oh, \u001b[36m<yes>\u001b[39m,\" said Mr. Dursley, \u001b[36m<his>\u001b[39m heart sinking horribly. \"\u001b[36m<Yes>\u001b[39m, I quite agree.\"\u001b[36m{\\u3000\\u3000}\u001b[39mHe didn't \u001b[36m<say>\u001b[39m another word on \u001b[36m<the>\u001b[39m subject as they went upstairs to \u001b[36m<bed>\u001b[39m. While \u001b[36m<Mrs>\u001b[39m. Dursley \u001b[36m<was>\u001b[39m in \u001b[36m<the>\u001b[39m bathroom, Mr. Dursley crept to \u001b[36m<the>\u001b[39m bedroom window \u001b[36m<and>\u001b[39m peered down into \u001b[36m<the>\u001b[39m front garden. \u001b[36m<The>\u001b[39m \u001b[36m<cat>\u001b[39m \u001b[36m<was>\u001b[39m still there. It \u001b[36m<was>\u001b[39m staring down Privet Drive as though it were waiting \u001b[36m<for>\u001b[39m something.\u001b[36m{\\u3000\\u3000}\u001b[39m\u001b[36m<Was>\u001b[39m he imagining things? Could \u001b[36m<all>\u001b[39m this have anything to do with \u001b[36m<the>\u001b[39m Potters? If it \u001b[36m<did>\u001b[39m... if it \u001b[36m<got>\u001b[39m \u001b[36m<out>\u001b[39m that they were related to a pair of -- well, he didn't think he could bear it.\u001b[36m{\\u3000\\u3000}\u001b[39m\u001b[36m<The>\u001b[39m Dursleys \u001b[36m<got>\u001b[39m into \u001b[36m<bed>\u001b[39m. \u001b[36m<Mrs>\u001b[39m. Dursley fell asleep quickly \u001b[36m<but>\u001b[39m Mr. Dursley \u001b[36m<lay>\u001b[39m awake, turning it \u001b[36m<all>\u001b[39m over in \u001b[36m<his>\u001b[39m mind. \u001b[36m<His>\u001b[39m last, comforting thought before he fell asleep \u001b[36m<was>\u001b[39m that even if \u001b[36m<the>\u001b[39m Potters were involved, there \u001b[36m<was>\u001b[39m no reason \u001b[36m<for>\u001b[39m them to come near \u001b[36m<him>\u001b[39m \u001b[36m<and>\u001b[39m \u001b[36m<Mrs>\u001b[39m. Dursley. \u001b[36m<The>\u001b[39m Potters knew very well what he \u001b[36m<and>\u001b[39m Petunia thought about them \u001b[36m<and>\u001b[39m their kind.... He couldn't \u001b[36m<see>\u001b[39m \u001b[36m<how>\u001b[39m he \u001b[36m<and>\u001b[39m Petunia could \u001b[36m<get>\u001b[39m mixed up in anything that might be going on -- he yawned \u001b[36m<and>\u001b[39m turned over -- it couldn't affect them....\u001b[36m{\\u3000\\u3000}\u001b[39m\u001b[36m<How>\u001b[39m very wrong he \u001b[36m<was>\u001b[39m.\u001b[36m{\\u3000\\u3000}\u001b[39mMr. Dursley might have been drifting into an uneasy sleep, \u001b[36m<but>\u001b[39m \u001b[36m<the>\u001b[39m \u001b[36m<cat>\u001b[39m on \u001b[36m<the>\u001b[39m wall outside \u001b[36m<was>\u001b[39m showing no sign of sleepiness. It \u001b[36m<was>\u001b[39m sitting as still as a statue, \u001b[36m<its>\u001b[39m eyes fixed unblinkingly on \u001b[36m<the>\u001b[39m \u001b[36m<far>\u001b[39m corner of Privet Drive. It didn't so much as quiver when a \u001b[36m<car>\u001b[39m door slammed on \u001b[36m<the>\u001b[39m next street, \u001b[36m<nor>\u001b[39m when \u001b[36m<two>\u001b[39m owls swooped overhead. In fact, it \u001b[36m<was>\u001b[39m nearly midnight before \u001b[36m<the>\u001b[39m \u001b[36m<cat>\u001b[39m moved at \u001b[36m<all>\u001b[39m.\u001b[36m{\\u3000\\u3000}\u001b[39mA \u001b[36m<man>\u001b[39m appeared on \u001b[36m<the>\u001b[39m corner \u001b[36m<the>\u001b[39m \u001b[36m<cat>\u001b[39m \u001b[36m<had>\u001b[39m been watching, appeared so suddenly \u001b[36m<and>\u001b[39m silently \u001b[36m<you>\u001b[39m'd have thought he'd just popped \u001b[36m<out>\u001b[39m of \u001b[36m<the>\u001b[39m ground. \u001b[36m<The>\u001b[39m \u001b[36m<cat>\u001b[39m's tail twitched \u001b[36m<and>\u001b[39m \u001b[36m<its>\u001b[39m eyes narrowed.\u001b[36m{\\u3000\\u3000}\u001b[39mNothing like this \u001b[36m<man>\u001b[39m \u001b[36m<had>\u001b[39m ever been seen on Privet Drive. He \u001b[36m<was>\u001b[39m tall, thin, \u001b[36m<and>\u001b[39m very \u001b[36m<old>\u001b[39m, judging by \u001b[36m<the>\u001b[39m silver of \u001b[36m<his>\u001b[39m hair \u001b[36m<and>\u001b[39m beard, which were both long enough to tuck into \u001b[36m<his>\u001b[39m belt. He \u001b[36m<was>\u001b[39m wearing long robes, a purple cloak that swept \u001b[36m<the>\u001b[39m ground, \u001b[36m<and>\u001b[39m high-heeled, buckled boots. \u001b[36m<His>\u001b[39m blue eyes were light, bright, \u001b[36m<and>\u001b[39m sparkling behind half-moon spectacles \u001b[36m<and>\u001b[39m \u001b[36m<his>\u001b[39m nose \u001b[36m<was>\u001b[39m very long \u001b[36m<and>\u001b[39m crooked, as though it \u001b[36m<had>\u001b[39m been broken at least twice. This \u001b[36m<man>\u001b[39m's name \u001b[36m<was>\u001b[39m Albus Dumbledore.\u001b[36m{\\u3000\\u3000}\u001b[39mAlbus Dumbledore didn't seem to realize that he \u001b[36m<had>\u001b[39m just arrived in a street where everything from \u001b[36m<his>\u001b[39m name to \u001b[36m<his>\u001b[39m boots \u001b[36m<was>\u001b[39m unwelcome. He \u001b[36m<was>\u001b[39m busy rummaging in \u001b[36m<his>\u001b[39m cloak, looking \u001b[36m<for>\u001b[39m something. \u001b[36m<But>\u001b[39m he \u001b[36m<did>\u001b[39m seem to realize he \u001b[36m<was>\u001b[39m being watched, because he looked up suddenly at \u001b[36m<the>\u001b[39m \u001b[36m<cat>\u001b[39m, which \u001b[36m<was>\u001b[39m still staring at \u001b[36m<him>\u001b[39m from \u001b[36m<the>\u001b[39m other \u001b[36m<end>\u001b[39m of \u001b[36m<the>\u001b[39m street. \u001b[36m<For>\u001b[39m some reason, \u001b[36m<the>\u001b[39m sight of \u001b[36m<the>\u001b[39m \u001b[36m<cat>\u001b[39m seemed to amuse \u001b[36m<him>\u001b[39m. He chuckled \u001b[36m<and>\u001b[39m muttered, \"I should have known.\"\u001b[36m{\\u3000\\u3000}\u001b[39mHe found what he \u001b[36m<was>\u001b[39m looking \u001b[36m<for>\u001b[39m in \u001b[36m<his>\u001b[39m inside pocket. It seemed to be a silver cigarette lighter. He flicked it open, held it up in \u001b[36m<the>\u001b[39m \u001b[36m<air>\u001b[39m, \u001b[36m<and>\u001b[39m clicked it. \u001b[36m<The>\u001b[39m nearest street lamp went \u001b[36m<out>\u001b[39m with a little \u001b[36m<pop>\u001b[39m. He clicked it again -- \u001b[36m<the>\u001b[39m next lamp flickered into darkness. Twelve times he clicked \u001b[36m<the>\u001b[39m \u001b[36m<Put>\u001b[39m-Outer, until \u001b[36m<the>\u001b[39m only lights left on \u001b[36m<the>\u001b[39m whole street were \u001b[36m<two>\u001b[39m tiny pinpricks in \u001b[36m<the>\u001b[39m distance, which were \u001b[36m<the>\u001b[39m eyes of \u001b[36m<the>\u001b[39m \u001b[36m<cat>\u001b[39m watching \u001b[36m<him>\u001b[39m. If anyone looked \u001b[36m<out>\u001b[39m of their window \u001b[36m<now>\u001b[39m, even beady-eyed \u001b[36m<Mrs>\u001b[39m. Dursley, they wouldn't be able to \u001b[36m<see>\u001b[39m anything that \u001b[36m<was>\u001b[39m happening down on \u001b[36m<the>\u001b[39m pavement. Dumbledore slipped \u001b[36m<the>\u001b[39m \u001b[36m<Put>\u001b[39m-Outer back inside \u001b[36m<his>\u001b[39m cloak \u001b[36m<and>\u001b[39m \u001b[36m<set>\u001b[39m \u001b[36m<off>\u001b[39m down \u001b[36m<the>\u001b[39m street toward number four, where he \u001b[36m<sat>\u001b[39m down on \u001b[36m<the>\u001b[39m wall next to \u001b[36m<the>\u001b[39m \u001b[36m<cat>\u001b[39m. He didn't look at it, \u001b[36m<but>\u001b[39m after a moment he spoke to it.\u001b[36m{\\u3000\\u3000}\u001b[39m\"Fancy seeing \u001b[36m<you>\u001b[39m here, Professor McGonagall.\"\u001b[36m{\\u3000\\u3000}\u001b[39mHe turned to smile at \u001b[36m<the>\u001b[39m tabby, \u001b[36m<but>\u001b[39m it \u001b[36m<had>\u001b[39m gone. Instead he \u001b[36m<was>\u001b[39m smiling at a rather severe-looking woman \u001b[36m<who>\u001b[39m \u001b[36m<was>\u001b[39m wearing square glasses exactly \u001b[36m<the>\u001b[39m shape of \u001b[36m<the>\u001b[39m markings \u001b[36m<the>\u001b[39m \u001b[36m<cat>\u001b[39m \u001b[36m<had>\u001b[39m \u001b[36m<had>\u001b[39m around \u001b[36m<its>\u001b[39m eyes. \u001b[36m<She>\u001b[39m, \u001b[36m<too>\u001b[39m, \u001b[36m<was>\u001b[39m wearing a cloak, an emerald \u001b[36m<one>\u001b[39m. \u001b[36m<Her>\u001b[39m black hair \u001b[36m<was>\u001b[39m drawn into a tight \u001b[36m<bun>\u001b[39m. \u001b[36m<She>\u001b[39m looked distinctly ruffled.\u001b[36m{\\u3000\\u3000}\u001b[39m\"\u001b[36m<How>\u001b[39m \u001b[36m<did>\u001b[39m \u001b[36m<you>\u001b[39m know it \u001b[36m<was>\u001b[39m me?\" \u001b[36m<she>\u001b[39m asked.\u001b[36m{\\u3000\\u3000}\u001b[39m\"My dear Professor, I 've never seen a \u001b[36m<cat>\u001b[39m \u001b[36m<sit>\u001b[39m so stiffly.\"\u001b[36m{\\u3000\\u3000}\u001b[39m\"\u001b[36m<You>\u001b[39m'd be stiff if \u001b[36m<you>\u001b[39m'd been sitting on a brick wall \u001b[36m<all>\u001b[39m \u001b[36m<day>\u001b[39m,\" said Professor McGonagall.\u001b[36m{\\u3000\\u3000}\u001b[39m\"\u001b[36m<All>\u001b[39m \u001b[36m<day>\u001b[39m? When \u001b[36m<you>\u001b[39m could have been celebrating? I must have passed a dozen feasts \u001b[36m<and>\u001b[39m parties on my \u001b[36m<way>\u001b[39m here.\"\u001b[36m{\\u3000\\u3000}\u001b[39mProfessor McGonagall sniffed angrily.\u001b[36m{\\u3000\\u3000}\u001b[39m\"Oh \u001b[36m<yes>\u001b[39m, everyone's celebrating, \u001b[36m<all>\u001b[39m right,\" \u001b[36m<she>\u001b[39m said impatiently. \"\u001b[36m<You>\u001b[39m'd think they'd be a \u001b[36m<bit>\u001b[39m more careful, \u001b[36m<but>\u001b[39m no -- even \u001b[36m<the>\u001b[39m Muggles have noticed something's going on. It \u001b[36m<was>\u001b[39m on their news.\" \u001b[36m<She>\u001b[39m jerked \u001b[36m<her>\u001b[39m head back at \u001b[36m<the>\u001b[39m Dursleys' dark living-room window. \"I heard it. Flocks of owls... shooting stars.... Well, they're \u001b[36m<not>\u001b[39m completely stupid. They were bound to notice something. Shooting stars down in Kent -- I'll \u001b[36m<bet>\u001b[39m that \u001b[36m<was>\u001b[39m Dedalus Diggle. He never \u001b[36m<had>\u001b[39m much sense.\"\u001b[36m{\\u3000\\u3000}\u001b[39m\"\u001b[36m<You>\u001b[39m \u001b[36m<can>\u001b[39m't blame them,\" said Dumbledore gently. \"We've \u001b[36m<had>\u001b[39m precious little to celebrate \u001b[36m<for>\u001b[39m eleven years.\"\u001b[36m{\\u3000\\u3000}\u001b[39m\"I know that,\" said Professor McGonagall irritably. \"\u001b[36m<But>\u001b[39m that's no reason to lose \u001b[36m<our>\u001b[39m heads. People \u001b[36m<are>\u001b[39m being downright careless, \u001b[36m<out>\u001b[39m on \u001b[36m<the>\u001b[39m streets in broad daylight, \u001b[36m<not>\u001b[39m even dressed in Muggle clothes, swapping rumors.\"\u001b[36m{\\u3000\\u3000}\u001b[39m\u001b[36m<She>\u001b[39m threw a sharp, sideways glance at Dumbledore here, as though hoping he \u001b[36m<was>\u001b[39m going to tell \u001b[36m<her>\u001b[39m something, \u001b[36m<but>\u001b[39m he didn't, so \u001b[36m<she>\u001b[39m went on. \"A fine thing it would be if, on \u001b[36m<the>\u001b[39m very \u001b[36m<day>\u001b[39m YouKnow-\u001b[36m<Who>\u001b[39m seems to have disappeared at last, \u001b[36m<the>\u001b[39m Muggles found \u001b[36m<out>\u001b[39m about us \u001b[36m<all>\u001b[39m. I suppose he really \u001b[36m<has>\u001b[39m gone, Dumbledore?\"\u001b[36m{\\u3000\\u3000}\u001b[39m\"It certainly seems so,\" said Dumbledore. \"We have much to be thankful \u001b[36m<for>\u001b[39m. Would \u001b[36m<you>\u001b[39m care \u001b[36m<for>\u001b[39m a lemon drop?\"\u001b[36m{\\u3000\\u3000}\u001b[39m\"A what?\"\u001b[36m{\\u3000\\u3000}\u001b[39m\"A lemon drop. They're a kind of Muggle sweet I'm rather fond of\"\u001b[36m{\\u3000\\u3000}\u001b[39m\"No, thank \u001b[36m<you>\u001b[39m,\" said Professor McGonagall coldly, as though \u001b[36m<she>\u001b[39m didn't think this \u001b[36m<was>\u001b[39m \u001b[36m<the>\u001b[39m moment \u001b[36m<for>\u001b[39m lemon drops. \"As I \u001b[36m<say>\u001b[39m, even if \u001b[36m<You>\u001b[39m-Know-\u001b[36m<Who>\u001b[39m \u001b[36m<has>\u001b[39m gone -\"\u001b[36m{\\u3000\\u3000}\u001b[39m\"My dear Professor, surely a sensible person like yourself \u001b[36m<can>\u001b[39m call \u001b[36m<him>\u001b[39m by \u001b[36m<his>\u001b[39m name? \u001b[36m<All>\u001b[39m this '\u001b[36m<You>\u001b[39m- Know-\u001b[36m<Who>\u001b[39m' nonsense -- \u001b[36m<for>\u001b[39m eleven years I have been trying to persuade people to call \u001b[36m<him>\u001b[39m by \u001b[36m<his>\u001b[39m proper name: Voldemort.\" Professor McGonagall flinched, \u001b[36m<but>\u001b[39m Dumbledore, \u001b[36m<who>\u001b[39m \u001b[36m<was>\u001b[39m unsticking \u001b[36m<two>\u001b[39m lemon drops, seemed \u001b[36m<not>\u001b[39m to notice. \"It \u001b[36m<all>\u001b[39m gets so confusing if we keep saying '\u001b[36m<You>\u001b[39m-Know-\u001b[36m<Who>\u001b[39m.' I have never seen \u001b[36m<any>\u001b[39m reason to be frightened of saying Voldemort's name.\u001b[36m{\\u3000\\u3000}\u001b[39m\"I know \u001b[36m<you>\u001b[39m haven 't, said Professor McGonagall, sounding half exasperated, half admiring. \"\u001b[36m<But>\u001b[39m \u001b[36m<you>\u001b[39m're different. Everyone knows \u001b[36m<you>\u001b[39m're \u001b[36m<the>\u001b[39m only \u001b[36m<one>\u001b[39m \u001b[36m<You>\u001b[39m-Know- oh, \u001b[36m<all>\u001b[39m right, Voldemort, \u001b[36m<was>\u001b[39m frightened of.\"\u001b[36m{\\u3000\\u3000}\u001b[39m\"\u001b[36m<You>\u001b[39m flatter me,\" said Dumbledore calmly. \"Voldemort \u001b[36m<had>\u001b[39m powers I will never have.\"\u001b[36m{\\u3000\\u3000}\u001b[39m\"Only because \u001b[36m<you>\u001b[39m're \u001b[36m<too>\u001b[39m -- well -- noble to \u001b[36m<use>\u001b[39m them.\"\u001b[36m{\\u3000\\u3000}\u001b[39m\"It's lucky it's dark. I haven't blushed so much since Madam Pomfrey told me \u001b[36m<she>\u001b[39m liked my \u001b[36m<new>\u001b[39m earmuffs.\"\u001b[36m{\\u3000\\u3000}\u001b[39mProfessor McGonagall shot a sharp look at Dumbledore \u001b[36m<and>\u001b[39m said, \"\u001b[36m<The>\u001b[39m owls \u001b[36m<are>\u001b[39m nothing next to \u001b[36m<the>\u001b[39m rumors that \u001b[36m<are>\u001b[39m flying around. \u001b[36m<You>\u001b[39m know what everyone's saying? About \u001b[36m<why>\u001b[39m he's disappeared? About what finally stopped \u001b[36m<him>\u001b[39m?\"\u001b[36m{\\u3000\\u3000}\u001b[39mIt seemed that Professor McGonagall \u001b[36m<had>\u001b[39m reached \u001b[36m<the>\u001b[39m point \u001b[36m<she>\u001b[39m \u001b[36m<was>\u001b[39m most anxious to discuss, \u001b[36m<the>\u001b[39m real reason \u001b[36m<she>\u001b[39m \u001b[36m<had>\u001b[39m been waiting on a cold, hard wall \u001b[36m<all>\u001b[39m \u001b[36m<day>\u001b[39m, \u001b[36m<for>\u001b[39m neither as a \u001b[36m<cat>\u001b[39m \u001b[36m<nor>\u001b[39m as a woman \u001b[36m<had>\u001b[39m \u001b[36m<she>\u001b[39m fixed Dumbledore with such a piercing stare as \u001b[36m<she>\u001b[39m \u001b[36m<did>\u001b[39m \u001b[36m<now>\u001b[39m. It \u001b[36m<was>\u001b[39m plain that whatever \"everyone\" \u001b[36m<was>\u001b[39m saying, \u001b[36m<she>\u001b[39m \u001b[36m<was>\u001b[39m \u001b[36m<not>\u001b[39m going to believe it until Dumbledore told \u001b[36m<her>\u001b[39m it \u001b[36m<was>\u001b[39m true. Dumbledore, however, \u001b[36m<was>\u001b[39m choosing another lemon drop \u001b[36m<and>\u001b[39m \u001b[36m<did>\u001b[39m \u001b[36m<not>\u001b[39m answer.\u001b[36m{\\u3000\\u3000}\u001b[39m\"What they're saying,\" \u001b[36m<she>\u001b[39m pressed on, \"is that last night Voldemort turned up in Godric's Hollow. He went to find \u001b[36m<the>\u001b[39m Potters. \u001b[36m<The>\u001b[39m rumor is that Lily \u001b[36m<and>\u001b[39m James Potter \u001b[36m<are>\u001b[39m -- \u001b[36m<are>\u001b[39m -- that they're -- dead. \"\u001b[36m{\\u3000\\u3000}\u001b[39mDumbledore bowed \u001b[36m<his>\u001b[39m head. Professor McGonagall gasped.\u001b[36m{\\u3000\\u3000}\u001b[39m\"Lily \u001b[36m<and>\u001b[39m James... I \u001b[36m<can>\u001b[39m't believe it... I didn't want to believe it... Oh, Albus...\"\u001b[36m{\\u3000\\u3000}\u001b[39mDumbledore reached \u001b[36m<out>\u001b[39m \u001b[36m<and>\u001b[39m patted \u001b[36m<her>\u001b[39m on \u001b[36m<the>\u001b[39m shoulder. \"I know... I know...\" he said heavily.\u001b[36m{\\u3000\\u3000}\u001b[39mProfessor McGonagall's voice trembled as \u001b[36m<she>\u001b[39m went on. \"That's \u001b[36m<not>\u001b[39m \u001b[36m<all>\u001b[39m. They're saying he tried to kill \u001b[36m<the>\u001b[39m Potter's \u001b[36m<son>\u001b[39m, Harry. \u001b[36m<But>\u001b[39m -- he couldn't. He couldn't kill that little \u001b[36m<boy>\u001b[39m. No \u001b[36m<one>\u001b[39m knows \u001b[36m<why>\u001b[39m, or \u001b[36m<how>\u001b[39m, \u001b[36m<but>\u001b[39m they're saying that when he couldn't kill Harry Potter, Voldemort's power somehow broke -- \u001b[36m<and>\u001b[39m that's \u001b[36m<why>\u001b[39m he's gone.\u001b[36m{\\u3000\\u3000}\u001b[39mDumbledore nodded glumly.\u001b[36m{\\u3000\\u3000}\u001b[39m\"It's -- it's true?\" faltered Professor McGonagall. \"After \u001b[36m<all>\u001b[39m he's done... \u001b[36m<all>\u001b[39m \u001b[36m<the>\u001b[39m people he's killed... he couldn't kill a little \u001b[36m<boy>\u001b[39m? It's just astounding... of \u001b[36m<all>\u001b[39m \u001b[36m<the>\u001b[39m things to stop \u001b[36m<him>\u001b[39m... \u001b[36m<but>\u001b[39m \u001b[36m<how>\u001b[39m in \u001b[36m<the>\u001b[39m name of heaven \u001b[36m<did>\u001b[39m Harry survive?\"\u001b[36m{\\u3000\\u3000}\u001b[39m\"We \u001b[36m<can>\u001b[39m only guess,\" said Dumbledore. \"We \u001b[36m<may>\u001b[39m never know.\"\u001b[36m{\\u3000\\u3000}\u001b[39mProfessor McGonagall pulled \u001b[36m<out>\u001b[39m a lace handkerchief \u001b[36m<and>\u001b[39m dabbed at \u001b[36m<her>\u001b[39m eyes beneath \u001b[36m<her>\u001b[39m spectacles. Dumbledore gave a great sniff as he took a golden watch from \u001b[36m<his>\u001b[39m pocket \u001b[36m<and>\u001b[39m examined it. It \u001b[36m<was>\u001b[39m a very \u001b[36m<odd>\u001b[39m watch. It \u001b[36m<had>\u001b[39m twelve hands \u001b[36m<but>\u001b[39m no numbers; instead, little planets were moving around \u001b[36m<the>\u001b[39m edge. It must have made sense to Dumbledore, though, because he \u001b[36m<put>\u001b[39m it back in \u001b[36m<his>\u001b[39m pocket \u001b[36m<and>\u001b[39m said, \"Hagrid's late. I suppose it \u001b[36m<was>\u001b[39m he \u001b[36m<who>\u001b[39m told \u001b[36m<you>\u001b[39m I'd be here, by \u001b[36m<the>\u001b[39m \u001b[36m<way>\u001b[39m?\"\u001b[36m{\\u3000\\u3000}\u001b[39m\"\u001b[36m<Yes>\u001b[39m,\" said Professor McGonagall. \"\u001b[36m<And>\u001b[39m I \u001b[36m<don>\u001b[39m't suppose \u001b[36m<you>\u001b[39m're going to tell me \u001b[36m<why>\u001b[39m \u001b[36m<you>\u001b[39m're here, of \u001b[36m<all>\u001b[39m places?\"\u001b[36m{\\u3000\\u3000}\u001b[39m\"I've come to bring Harry to \u001b[36m<his>\u001b[39m aunt \u001b[36m<and>\u001b[39m uncle. They're \u001b[36m<the>\u001b[39m only family he \u001b[36m<has>\u001b[39m left \u001b[36m<now>\u001b[39m.\"\u001b[36m{\\u3000\\u3000}\u001b[39m\"\u001b[36m<You>\u001b[39m \u001b[36m<don>\u001b[39m't mean -- \u001b[36m<you>\u001b[39m \u001b[36m<can>\u001b[39m't mean \u001b[36m<the>\u001b[39m people \u001b[36m<who>\u001b[39m live here?\" cried Professor McGonagall, jumping to \u001b[36m<her>\u001b[39m feet \u001b[36m<and>\u001b[39m pointing at number four. \"Dumbledore -- \u001b[36m<you>\u001b[39m \u001b[36m<can>\u001b[39m't. I've been watching them \u001b[36m<all>\u001b[39m \u001b[36m<day>\u001b[39m. \u001b[36m<You>\u001b[39m couldn't find \u001b[36m<two>\u001b[39m people \u001b[36m<who>\u001b[39m \u001b[36m<are>\u001b[39m less like us. \u001b[36m<And>\u001b[39m they've \u001b[36m<got>\u001b[39m this \u001b[36m<son>\u001b[39m -- I \u001b[36m<saw>\u001b[39m \u001b[36m<him>\u001b[39m kicking \u001b[36m<his>\u001b[39m mother \u001b[36m<all>\u001b[39m \u001b[36m<the>\u001b[39m \u001b[36m<way>\u001b[39m up \u001b[36m<the>\u001b[39m street, screaming \u001b[36m<for>\u001b[39m sweets. Harry Potter come \u001b[36m<and>\u001b[39m live here!\"\u001b[36m{\\u3000\\u3000}\u001b[39m\"It's \u001b[36m<the>\u001b[39m best place \u001b[36m<for>\u001b[39m \u001b[36m<him>\u001b[39m,\" said Dumbledore firmly. \"\u001b[36m<His>\u001b[39m aunt \u001b[36m<and>\u001b[39m uncle will be able to explain everything to \u001b[36m<him>\u001b[39m when he's older. I've written them a letter.\"\u001b[36m{\\u3000\\u3000}\u001b[39m\"A letter?\" repeated Professor McGonagall faintly, sitting back down on \u001b[36m<the>\u001b[39m wall. \"Really, Dumbledore, \u001b[36m<you>\u001b[39m think \u001b[36m<you>\u001b[39m \u001b[36m<can>\u001b[39m explain \u001b[36m<all>\u001b[39m this in a letter? These people will never understand \u001b[36m<him>\u001b[39m! He'll be famous -- a legend -- I wouldn't be surprised if today \u001b[36m<was>\u001b[39m known as Harry Potter \u001b[36m<day>\u001b[39m in \u001b[36m<the>\u001b[39m future -- there will be books written about Harry -- every child in \u001b[36m<our>\u001b[39m world will know \u001b[36m<his>\u001b[39m name!\"\u001b[36m{\\u3000\\u3000}\u001b[39m\"Exactly,\" said Dumbledore, looking very seriously over \u001b[36m<the>\u001b[39m \u001b[36m<top>\u001b[39m of \u001b[36m<his>\u001b[39m half-moon glasses. \"It would be enough to turn \u001b[36m<any>\u001b[39m \u001b[36m<boy>\u001b[39m's head. Famous before he \u001b[36m<can>\u001b[39m walk \u001b[36m<and>\u001b[39m talk! Famous \u001b[36m<for>\u001b[39m something he \u001b[36m<won>\u001b[39m't even remember! CarA \u001b[36m<you>\u001b[39m \u001b[36m<see>\u001b[39m \u001b[36m<how>\u001b[39m much better \u001b[36m<off>\u001b[39m he'll be, growing up away from \u001b[36m<all>\u001b[39m that until he's ready to take it?\"\u001b[36m{\\u3000\\u3000}\u001b[39mProfessor McGonagall opened \u001b[36m<her>\u001b[39m mouth, changed \u001b[36m<her>\u001b[39m mind, swallowed, \u001b[36m<and>\u001b[39m then said, \"\u001b[36m<Yes>\u001b[39m -- \u001b[36m<yes>\u001b[39m, \u001b[36m<you>\u001b[39m're right, of course. \u001b[36m<But>\u001b[39m \u001b[36m<how>\u001b[39m is \u001b[36m<the>\u001b[39m \u001b[36m<boy>\u001b[39m getting here, Dumbledore?\" \u001b[36m<She>\u001b[39m eyed \u001b[36m<his>\u001b[39m cloak suddenly as though \u001b[36m<she>\u001b[39m thought he might be hiding Harry underneath it.\u001b[36m{\\u3000\\u3000}\u001b[39m\"Hagrid's bringing \u001b[36m<him>\u001b[39m.\"\u001b[36m{\\u3000\\u3000}\u001b[39m\"\u001b[36m<You>\u001b[39m think it -- wise -- to trust Hagrid with something as important as this?\"\u001b[36m{\\u3000\\u3000}\u001b[39mI would trust Hagrid with my life,\" said Dumbledore.\u001b[36m{\\u3000\\u3000}\u001b[39m\"I'm \u001b[36m<not>\u001b[39m saying \u001b[36m<his>\u001b[39m heart \u001b[36m<isn>\u001b[39m't in \u001b[36m<the>\u001b[39m right place,\" said Professor McGonagall grudgingly, \"\u001b[36m<but>\u001b[39m \u001b[36m<you>\u001b[39m \u001b[36m<can>\u001b[39m't pretend he's \u001b[36m<not>\u001b[39m careless. He does tend to -- what \u001b[36m<was>\u001b[39m that?\"\u001b[36m{\\u3000\\u3000}\u001b[39mA \u001b[36m<low>\u001b[39m rumbling sound \u001b[36m<had>\u001b[39m broken \u001b[36m<the>\u001b[39m silence around them. It grew steadily louder as they looked up \u001b[36m<and>\u001b[39m down \u001b[36m<the>\u001b[39m street \u001b[36m<for>\u001b[39m some sign of a headlight; it swelled to a roar as they both looked up at \u001b[36m<the>\u001b[39m \u001b[36m<sky>\u001b[39m -- \u001b[36m<and>\u001b[39m a huge motorcycle fell \u001b[36m<out>\u001b[39m of \u001b[36m<the>\u001b[39m \u001b[36m<air>\u001b[39m \u001b[36m<and>\u001b[39m landed on \u001b[36m<the>\u001b[39m road in front of them.\u001b[36m{\\u3000\\u3000}\u001b[39mIf \u001b[36m<the>\u001b[39m motorcycle \u001b[36m<was>\u001b[39m huge, it \u001b[36m<was>\u001b[39m nothing to \u001b[36m<the>\u001b[39m \u001b[36m<man>\u001b[39m sitting astride it. He \u001b[36m<was>\u001b[39m almost twice as tall as a normal \u001b[36m<man>\u001b[39m \u001b[36m<and>\u001b[39m at least five times as wide. He looked simply \u001b[36m<too>\u001b[39m \u001b[36m<big>\u001b[39m to be allowed, \u001b[36m<and>\u001b[39m so wild - long tangles of bushy black hair \u001b[36m<and>\u001b[39m beard \u001b[36m<hid>\u001b[39m most of \u001b[36m<his>\u001b[39m face, he \u001b[36m<had>\u001b[39m hands \u001b[36m<the>\u001b[39m size of trash \u001b[36m<can>\u001b[39m lids, \u001b[36m<and>\u001b[39m \u001b[36m<his>\u001b[39m feet in their leather boots were like baby dolphins. In \u001b[36m<his>\u001b[39m vast, muscular arms he \u001b[36m<was>\u001b[39m holding a bundle of blankets.\u001b[36m{\\u3000\\u3000}\u001b[39m\"Hagrid,\" said Dumbledore, sounding relieved. \"At last. \u001b[36m<And>\u001b[39m where \u001b[36m<did>\u001b[39m \u001b[36m<you>\u001b[39m \u001b[36m<get>\u001b[39m that motorcycle?\"\u001b[36m{\\u3000\\u3000}\u001b[39m\"Borrowed it, Professor Dumbledore, \u001b[36m<sit>\u001b[39m,\" said \u001b[36m<the>\u001b[39m giant, climbing carefully \u001b[36m<off>\u001b[39m \u001b[36m<the>\u001b[39m motorcycle as he spoke. \"Young Sirius Black lent it to me. I've \u001b[36m<got>\u001b[39m \u001b[36m<him>\u001b[39m, \u001b[36m<sir>\u001b[39m.\"\u001b[36m{\\u3000\\u3000}\u001b[39m\"No problems, were there?\"\u001b[36m{\\u3000\\u3000}\u001b[39m\"No, \u001b[36m<sir>\u001b[39m -- house \u001b[36m<was>\u001b[39m almost destroyed, \u001b[36m<but>\u001b[39m I \u001b[36m<got>\u001b[39m \u001b[36m<him>\u001b[39m \u001b[36m<out>\u001b[39m \u001b[36m<all>\u001b[39m right before \u001b[36m<the>\u001b[39m Muggles started swarmin' around. He fell asleep as we \u001b[36m<was>\u001b[39m flyin' over Bristol.\"\u001b[36m{\\u3000\\u3000}\u001b[39mDumbledore \u001b[36m<and>\u001b[39m Professor McGonagall bent forward over \u001b[36m<the>\u001b[39m bundle of blankets. Inside, just visible, \u001b[36m<was>\u001b[39m a baby \u001b[36m<boy>\u001b[39m, fast asleep. Under a tuft of \u001b[36m<jet>\u001b[39m-black hair over \u001b[36m<his>\u001b[39m forehead they could \u001b[36m<see>\u001b[39m a curiously shaped \u001b[36m<cut>\u001b[39m, like a bolt of lightning.\u001b[36m{\\u3000\\u3000}\u001b[39m\"Is that where -?\" whispered Professor McGonagall.\u001b[36m{\\u3000\\u3000}\u001b[39m\"\u001b[36m<Yes>\u001b[39m,\" said Dumbledore. \"He'll have that scar forever.\"\u001b[36m{\\u3000\\u3000}\u001b[39m\"Couldn't \u001b[36m<you>\u001b[39m do something about it, Dumbledore?\"\u001b[36m{\\u3000\\u3000}\u001b[39m\"Even if I could, I wouldn't. Scars \u001b[36m<can>\u001b[39m come in handy. I have \u001b[36m<one>\u001b[39m myself above my left knee that is a perfect \u001b[36m<map>\u001b[39m of \u001b[36m<the>\u001b[39m London Underground. Well -- give \u001b[36m<him>\u001b[39m here, Hagrid -- we'd better \u001b[36m<get>\u001b[39m this over with.\"\u001b[36m{\\u3000\\u3000}\u001b[39mDumbledore took Harry in \u001b[36m<his>\u001b[39m arms \u001b[36m<and>\u001b[39m turned toward \u001b[36m<the>\u001b[39m Dursleys' house.\u001b[36m{\\u3000\\u3000}\u001b[39m\"Could I -- could I \u001b[36m<say>\u001b[39m good-\u001b[36m<bye>\u001b[39m to \u001b[36m<him>\u001b[39m, \u001b[36m<sir>\u001b[39m?\" asked Hagrid. He bent \u001b[36m<his>\u001b[39m great, shaggy head over Harry \u001b[36m<and>\u001b[39m gave \u001b[36m<him>\u001b[39m what must have been a very scratchy, whiskery kiss. Then, suddenly, Hagrid \u001b[36m<let>\u001b[39m \u001b[36m<out>\u001b[39m a howl like a wounded \u001b[36m<dog>\u001b[39m.\u001b[36m{\\u3000\\u3000}\u001b[39m\"Shhh!\" hissed Professor McGonagall, \"\u001b[36m<you>\u001b[39m'll wake \u001b[36m<the>\u001b[39m Muggles!\"\u001b[36m{\\u3000\\u3000}\u001b[39m\"S-s-sorry,\" sobbed Hagrid, taking \u001b[36m<out>\u001b[39m a large, spotted handkerchief \u001b[36m<and>\u001b[39m burying \u001b[36m<his>\u001b[39m face in it. \"\u001b[36m<But>\u001b[39m I c-c-\u001b[36m<can>\u001b[39m't stand it -- Lily an' James dead -- an' poor little Harry \u001b[36m<off>\u001b[39m \u001b[36m<ter>\u001b[39m live with Muggles -\"\u001b[36m{\\u3000\\u3000}\u001b[39m\"\u001b[36m<Yes>\u001b[39m, \u001b[36m<yes>\u001b[39m, it's \u001b[36m<all>\u001b[39m very \u001b[36m<sad>\u001b[39m, \u001b[36m<but>\u001b[39m \u001b[36m<get>\u001b[39m a grip on yourself, Hagrid, or we'll be found,\" Professor McGonagall whispered, patting Hagrid gingerly on \u001b[36m<the>\u001b[39m \u001b[36m<arm>\u001b[39m as Dumbledore stepped over \u001b[36m<the>\u001b[39m \u001b[36m<low>\u001b[39m garden wall \u001b[36m<and>\u001b[39m walked to \u001b[36m<the>\u001b[39m front door. He laid Harry gently on \u001b[36m<the>\u001b[39m doorstep, took a letter \u001b[36m<out>\u001b[39m of \u001b[36m<his>\u001b[39m cloak, tucked it inside Harry's blankets, \u001b[36m<and>\u001b[39m then came back to \u001b[36m<the>\u001b[39m other \u001b[36m<two>\u001b[39m. \u001b[36m<For>\u001b[39m a full minute \u001b[36m<the>\u001b[39m three of them stood \u001b[36m<and>\u001b[39m looked at \u001b[36m<the>\u001b[39m little bundle; Hagrid's shoulders shook, Professor McGonagall blinked furiously, \u001b[36m<and>\u001b[39m \u001b[36m<the>\u001b[39m twinkling light that usually shone from Dumbledore's eyes seemed to have gone \u001b[36m<out>\u001b[39m.\u001b[36m{\\u3000\\u3000}\u001b[39m\"Well,\" said Dumbledore finally, \"that's that. We've no business staying here. We \u001b[36m<may>\u001b[39m as well go \u001b[36m<and>\u001b[39m join \u001b[36m<the>\u001b[39m celebrations.\"\u001b[36m{\\u3000\\u3000}\u001b[39m\"Yeah,\" said Hagrid in a very muffled voice, \"I'll be takin' Sirius \u001b[36m<his>\u001b[39m bike back. G'night, Professor McGonagall -- Professor Dumbledore, \u001b[36m<sir>\u001b[39m.\"\u001b[36m{\\u3000\\u3000}\u001b[39mWiping \u001b[36m<his>\u001b[39m streaming eyes on \u001b[36m<his>\u001b[39m jacket sleeve, Hagrid swung himself onto \u001b[36m<the>\u001b[39m motorcycle \u001b[36m<and>\u001b[39m kicked \u001b[36m<the>\u001b[39m engine into life; with a roar it rose into \u001b[36m<the>\u001b[39m \u001b[36m<air>\u001b[39m \u001b[36m<and>\u001b[39m \u001b[36m<off>\u001b[39m into \u001b[36m<the>\u001b[39m night.\u001b[36m{\\u3000\\u3000}\u001b[39m\"I shall \u001b[36m<see>\u001b[39m \u001b[36m<you>\u001b[39m soon, I expect, Professor McGonagall,\" said Dumbledore, nodding to \u001b[36m<her>\u001b[39m. Professor McGonagall blew \u001b[36m<her>\u001b[39m nose in reply.\u001b[36m{\\u3000\\u3000}\u001b[39mDumbledore turned \u001b[36m<and>\u001b[39m walked back down \u001b[36m<the>\u001b[39m street. On \u001b[36m<the>\u001b[39m corner he stopped \u001b[36m<and>\u001b[39m took \u001b[36m<out>\u001b[39m \u001b[36m<the>\u001b[39m silver \u001b[36m<Put>\u001b[39m-Outer. He clicked it once, \u001b[36m<and>\u001b[39m twelve balls of light sped back to their street lamps so that Privet Drive glowed suddenly orange \u001b[36m<and>\u001b[39m he could make \u001b[36m<out>\u001b[39m a tabby \u001b[36m<cat>\u001b[39m slinking around \u001b[36m<the>\u001b[39m corner at \u001b[36m<the>\u001b[39m other \u001b[36m<end>\u001b[39m of \u001b[36m<the>\u001b[39m street. He could just \u001b[36m<see>\u001b[39m \u001b[36m<the>\u001b[39m bundle of blankets on \u001b[36m<the>\u001b[39m step of number four.\u001b[36m{\\u3000\\u3000}\u001b[39m\"Good luck, Harry,\" he murmured. He turned on \u001b[36m<his>\u001b[39m heel \u001b[36m<and>\u001b[39m with a swish of \u001b[36m<his>\u001b[39m cloak, he \u001b[36m<was>\u001b[39m gone.\u001b[36m{\\u3000\\u3000}\u001b[39mA breeze ruffled \u001b[36m<the>\u001b[39m neat hedges of Privet Drive, which \u001b[36m<lay>\u001b[39m silent \u001b[36m<and>\u001b[39m tidy under \u001b[36m<the>\u001b[39m inky \u001b[36m<sky>\u001b[39m, \u001b[36m<the>\u001b[39m very last place \u001b[36m<you>\u001b[39m would expect astonishing things to happen. Harry Potter rolled over inside \u001b[36m<his>\u001b[39m blankets without waking up. \u001b[36m<One>\u001b[39m small hand closed on \u001b[36m<the>\u001b[39m letter beside \u001b[36m<him>\u001b[39m \u001b[36m<and>\u001b[39m he slept on, \u001b[36m<not>\u001b[39m knowing he \u001b[36m<was>\u001b[39m special, \u001b[36m<not>\u001b[39m knowing he \u001b[36m<was>\u001b[39m famous, \u001b[36m<not>\u001b[39m knowing he would be woken in a \u001b[36m<few>\u001b[39m hours' time by \u001b[36m<Mrs>\u001b[39m. Dursley's scream as \u001b[36m<she>\u001b[39m opened \u001b[36m<the>\u001b[39m front door to \u001b[36m<put>\u001b[39m \u001b[36m<out>\u001b[39m \u001b[36m<the>\u001b[39m milk bottles, \u001b[36m<nor>\u001b[39m that he would spend \u001b[36m<the>\u001b[39m next \u001b[36m<few>\u001b[39m weeks being prodded \u001b[36m<and>\u001b[39m pinched by \u001b[36m<his>\u001b[39m cousin Dudley... He couldn't know that at this very moment, people meeting in secret \u001b[36m<all>\u001b[39m over \u001b[36m<the>\u001b[39m country were holding up their glasses \u001b[36m<and>\u001b[39m saying in hushed voices: \"To Harry Potter -- \u001b[36m<the>\u001b[39m \u001b[36m<boy>\u001b[39m \u001b[36m<who>\u001b[39m lived!"
      ]
     },
     "metadata": {},
     "output_type": "display_data"
    }
   ],
   "source": [
    "# 5-letter words\n",
    "\n",
    "str_view(ch1, \"\\\\b\\\\w\\\\w\\\\w\\\\b\")"
   ]
  },
  {
   "cell_type": "markdown",
   "metadata": {
    "slideshow": {
     "slide_type": "notes"
    }
   },
   "source": [
    "In this exercise, we matched the pattern \n",
    "\n",
    "    <word boundary><five word characters><word boundary>."
   ]
  },
  {
   "cell_type": "markdown",
   "metadata": {
    "slideshow": {
     "slide_type": "notes"
    }
   },
   "source": [
    "## Quantifiers\n",
    "Now we can return to a question that we asked in the previous lecture: how many words are there in `ch1`? We did a crude approximation by counting the number of spaces, but we saw that this double-counted certain words. A better way is to count how many times the following pattern matches:"
   ]
  },
  {
   "cell_type": "markdown",
   "metadata": {
    "slideshow": {
     "slide_type": "slide"
    }
   },
   "source": [
    "    <word boundary><any number of word characters><word boundary>"
   ]
  },
  {
   "cell_type": "markdown",
   "metadata": {
    "slideshow": {
     "slide_type": "slide"
    }
   },
   "source": [
    "The four quantifiers you should know are:\n",
    "- `?`: match zero or one of the preceding character.\n",
    "- `+`: match one or more of the preceding character.\n",
    "- `*`: match zero or more of the preceding character.\n",
    "- `{x}`: match exactly `x` of the preceding character.\n",
    "    - `{x,y}`: match between `x` and `y` of the preceding character.\n",
    "    - `{x,}`: match at least `x` of the preceding character."
   ]
  },
  {
   "cell_type": "markdown",
   "metadata": {
    "slideshow": {
     "slide_type": "slide"
    }
   },
   "source": [
    "So, to count the number of words using the pattern shown above:"
   ]
  },
  {
   "cell_type": "code",
   "execution_count": 106,
   "metadata": {},
   "outputs": [
    {
     "data": {
      "text/html": [
       "4778"
      ],
      "text/latex": [
       "4778"
      ],
      "text/markdown": [
       "4778"
      ],
      "text/plain": [
       "[1] 4778"
      ]
     },
     "metadata": {},
     "output_type": "display_data"
    }
   ],
   "source": [
    "# match any number of characters inside of word boundaries.\n",
    "\n",
    "str_count(ch1, \"\\\\b\\\\w+\\\\b\")"
   ]
  },
  {
   "cell_type": "markdown",
   "metadata": {
    "slideshow": {
     "slide_type": "slide"
    }
   },
   "source": [
    "## 🤔 Quiz\n",
    "\n",
    "How many words in `ch1` match the pattern:\n",
    "\n",
    "    <word boundary><capital letter><at least one lowercase letter><word boundary>\n",
    "\n",
    "(Example: `Harry.` matches but ` I ` does not.)\n",
    "\n",
    "<ol style=\"list-style-type: upper-alpha;\">\n",
    "    <li>Less than 100</li>\n",
    "    <li>100-300</li>\n",
    "    <li>300-600</li>\n",
    "    <li>600 or more</li>\n",
    "</ol>\n"
   ]
  },
  {
   "cell_type": "code",
   "execution_count": 110,
   "metadata": {
    "slideshow": {
     "slide_type": "slide"
    }
   },
   "outputs": [
    {
     "data": {
      "text/plain": [
       "\u001b[90m[1] │\u001b[39m THE BOY WHO LIVED\u001b[36m{\\u3000\\u3000}\u001b[39m\u001b[36m<Mr>\u001b[39m. and \u001b[36m<Mrs>\u001b[39m. \u001b[36m<Dursley>\u001b[39m, of number four, \u001b[36m<Privet>\u001b[39m \u001b[36m<Drive>\u001b[39m, were proud to say that they were perfectly normal, thank you very much. \u001b[36m<They>\u001b[39m were the last people you'd expect to be involved in anything strange or mysterious, because they just didn't hold with such nonsense.\u001b[36m{\\u3000\\u3000}\u001b[39m\u001b[36m<Mr>\u001b[39m. \u001b[36m<Dursley>\u001b[39m was the director of a firm called \u001b[36m<Grunnings>\u001b[39m, which made drills. \u001b[36m<He>\u001b[39m was a big, beefy man with hardly any neck, although he did have a very large mustache. \u001b[36m<Mrs>\u001b[39m. \u001b[36m<Dursley>\u001b[39m was thin and blonde and had nearly twice the usual amount of neck, which came in very useful as she spent so much of her time craning over garden fences, spying on the neighbors. \u001b[36m<The>\u001b[39m \u001b[36m<Dursleys>\u001b[39m had a small son called \u001b[36m<Dudley>\u001b[39m and in their opinion there was no finer boy anywhere.\u001b[36m{\\u3000\\u3000}\u001b[39m\u001b[36m<The>\u001b[39m \u001b[36m<Dursleys>\u001b[39m had everything they wanted, but they also had a secret, and their greatest fear was that somebody would discover it. \u001b[36m<They>\u001b[39m didn't think they could bear it if anyone found out about the \u001b[36m<Potters>\u001b[39m. \u001b[36m<Mrs>\u001b[39m. \u001b[36m<Potter>\u001b[39m was \u001b[36m<Mrs>\u001b[39m. \u001b[36m<Dursley>\u001b[39m's sister, but they hadn't met for several years; in fact, \u001b[36m<Mrs>\u001b[39m. \u001b[36m<Dursley>\u001b[39m pretended she didn't have a sister, because her sister and her good-for-nothing husband were as unDursleyish as it was possible to be. \u001b[36m<The>\u001b[39m \u001b[36m<Dursleys>\u001b[39m shuddered to think what the neighbors would say if the \u001b[36m<Potters>\u001b[39m arrived in the street. \u001b[36m<The>\u001b[39m \u001b[36m<Dursleys>\u001b[39m knew that the \u001b[36m<Potters>\u001b[39m had a small son, too, but they had never even seen him. \u001b[36m<This>\u001b[39m boy was another good reason for keeping the \u001b[36m<Potters>\u001b[39m away; they didn't want \u001b[36m<Dudley>\u001b[39m mixing with a child like that.\u001b[36m{\\u3000\\u3000}\u001b[39m\u001b[36m<When>\u001b[39m \u001b[36m<Mr>\u001b[39m. and \u001b[36m<Mrs>\u001b[39m. \u001b[36m<Dursley>\u001b[39m woke up on the dull, gray \u001b[36m<Tuesday>\u001b[39m our story starts, there was nothing about the cloudy sky outside to suggest that strange and mysterious things would soon be happening all over the country. \u001b[36m<Mr>\u001b[39m. \u001b[36m<Dursley>\u001b[39m hummed as he picked out his most boring tie for work, and \u001b[36m<Mrs>\u001b[39m. \u001b[36m<Dursley>\u001b[39m gossiped away happily as she wrestled a screaming \u001b[36m<Dudley>\u001b[39m into his high chair.\u001b[36m{\\u3000\\u3000}\u001b[39m\u001b[36m<None>\u001b[39m of them noticed a large, tawny owl flutter past the window.\u001b[36m{\\u3000\\u3000}\u001b[39m\u001b[36m<At>\u001b[39m half past eight, \u001b[36m<Mr>\u001b[39m. \u001b[36m<Dursley>\u001b[39m picked up his briefcase, pecked \u001b[36m<Mrs>\u001b[39m. \u001b[36m<Dursley>\u001b[39m on the cheek, and tried to kiss \u001b[36m<Dudley>\u001b[39m good-bye but missed, because \u001b[36m<Dudley>\u001b[39m was now having a tantrum and throwing his cereal at the walls. \"\u001b[36m<Little>\u001b[39m tyke,\" chortled \u001b[36m<Mr>\u001b[39m. \u001b[36m<Dursley>\u001b[39m as he left the house. \u001b[36m<He>\u001b[39m got into his car and backed out of number four's drive.\u001b[36m{\\u3000\\u3000}\u001b[39m\u001b[36m<It>\u001b[39m was on the corner of the street that he noticed the first sign of something peculiar -- a cat reading a map. \u001b[36m<For>\u001b[39m a second, \u001b[36m<Mr>\u001b[39m. \u001b[36m<Dursley>\u001b[39m didn't realize what he had seen -- then he jerked his head around to look again. \u001b[36m<There>\u001b[39m was a tabby cat standing on the corner of \u001b[36m<Privet>\u001b[39m \u001b[36m<Drive>\u001b[39m, but there wasn't a map in sight. \u001b[36m<What>\u001b[39m could he have been thinking of? \u001b[36m<It>\u001b[39m must have been a trick of the light. \u001b[36m<Mr>\u001b[39m. \u001b[36m<Dursley>\u001b[39m blinked and stared at the cat. \u001b[36m<It>\u001b[39m stared back. \u001b[36m<As>\u001b[39m \u001b[36m<Mr>\u001b[39m. \u001b[36m<Dursley>\u001b[39m drove around the corner and up the road, he watched the cat in his mirror. \u001b[36m<It>\u001b[39m was now reading the sign that said \u001b[36m<Privet>\u001b[39m \u001b[36m<Drive>\u001b[39m -- no, looking at the sign; cats couldn't read maps or signs. \u001b[36m<Mr>\u001b[39m. \u001b[36m<Dursley>\u001b[39m gave himself a little shake and put the cat out of his mind. \u001b[36m<As>\u001b[39m he drove toward town he thought of nothing except a large order of drills he was hoping to get that day.\u001b[36m{\\u3000\\u3000}\u001b[39m\u001b[36m<But>\u001b[39m on the edge of town, drills were driven out of his mind by something else. \u001b[36m<As>\u001b[39m he sat in the usual morning traffic jam, he couldn't help noticing that there seemed to be a lot of strangely dressed people about. \u001b[36m<People>\u001b[39m in cloaks. \u001b[36m<Mr>\u001b[39m. \u001b[36m<Dursley>\u001b[39m couldn't bear people who dressed in funny clothes -- the getups you saw on young people! \u001b[36m<He>\u001b[39m supposed this was some stupid new fashion. \u001b[36m<He>\u001b[39m drummed his fingers on the steering wheel and his eyes fell on a huddle of these weirdos standing quite close by. \u001b[36m<They>\u001b[39m were whispering excitedly together. \u001b[36m<Mr>\u001b[39m. \u001b[36m<Dursley>\u001b[39m was enraged to see that a couple of them weren't young at all; why, that man had to be older than he was, and wearing an emerald-green cloak! \u001b[36m<The>\u001b[39m nerve of him! \u001b[36m<But>\u001b[39m then it struck \u001b[36m<Mr>\u001b[39m. \u001b[36m<Dursley>\u001b[39m that this was probably some silly stunt -- these people were obviously collecting for something... yes, that would be it. \u001b[36m<The>\u001b[39m traffic moved on and a few minutes later, \u001b[36m<Mr>\u001b[39m. \u001b[36m<Dursley>\u001b[39m arrived in the \u001b[36m<Grunnings>\u001b[39m parking lot, his mind back on drills.\u001b[36m{\\u3000\\u3000}\u001b[39m\u001b[36m<Mr>\u001b[39m. \u001b[36m<Dursley>\u001b[39m always sat with his back to the window in his office on the ninth floor. \u001b[36m<If>\u001b[39m he hadn't, he might have found it harder to concentrate on drills that morning. \u001b[36m<He>\u001b[39m didn't see the owls swoop ing past in broad daylight, though people down in the street did; they pointed and gazed open- mouthed as owl after owl sped overhead. \u001b[36m<Most>\u001b[39m of them had never seen an owl even at nighttime. \u001b[36m<Mr>\u001b[39m. \u001b[36m<Dursley>\u001b[39m, however, had a perfectly normal, owl-free morning. \u001b[36m<He>\u001b[39m yelled at five different people. \u001b[36m<He>\u001b[39m made several important telephone calls and shouted a bit more. \u001b[36m<He>\u001b[39m was in a very good mood until lunchtime, when he thought he'd stretch his legs and walk across the road to buy himself a bun from the bakery.\u001b[36m{\\u3000\\u3000}\u001b[39m\u001b[36m<He>\u001b[39m'd forgotten all about the people in cloaks until he passed a group of them next to the baker's. \u001b[36m<He>\u001b[39m eyed them angrily as he passed. \u001b[36m<He>\u001b[39m didn't know why, but they made him uneasy. \u001b[36m<This>\u001b[39m bunch were whispering excitedly, too, and he couldn't see a single collecting tin. \u001b[36m<It>\u001b[39m was on his way back past them, clutching a large doughnut in a bag, that he caught a few words of what they were saying.\u001b[36m{\\u3000\\u3000}\u001b[39m \"\u001b[36m<The>\u001b[39m \u001b[36m<Potters>\u001b[39m, that's right, that's what I heard yes, their son, \u001b[36m<Harry>\u001b[39m\"\u001b[36m{\\u3000\\u3000}\u001b[39m\u001b[36m<Mr>\u001b[39m. \u001b[36m<Dursley>\u001b[39m stopped dead. \u001b[36m<Fear>\u001b[39m flooded him. \u001b[36m<He>\u001b[39m looked back at the whisperers as if he wanted to say something to them, but thought better of it.\u001b[36m{\\u3000\\u3000}\u001b[39m\u001b[36m<He>\u001b[39m dashed back across the road, hurried up to his office, snapped at his secretary not to disturb him, seized his telephone, and had almost finished dialing his home number when he changed his mind. \u001b[36m<He>\u001b[39m put the receiver back down and stroked his mustache, thinking... no, he was being stupid. \u001b[36m<Potter>\u001b[39m wasn't such an unusual name. \u001b[36m<He>\u001b[39m was sure there were lots of people called \u001b[36m<Potter>\u001b[39m who had a son called \u001b[36m<Harry>\u001b[39m. \u001b[36m<Come>\u001b[39m to think of it, he wasn't even sure his nephew was called \u001b[36m<Harry>\u001b[39m. \u001b[36m<He>\u001b[39m'd never even seen the boy. \u001b[36m<It>\u001b[39m might have been \u001b[36m<Harvey>\u001b[39m. \u001b[36m<Or>\u001b[39m \u001b[36m<Harold>\u001b[39m. \u001b[36m<There>\u001b[39m was no point in worrying \u001b[36m<Mrs>\u001b[39m. \u001b[36m<Dursley>\u001b[39m; she always got so upset at any mention of her sister. \u001b[36m<He>\u001b[39m didn't blame her -- if he'd had a sister like that... but all the same, those people in cloaks...\u001b[36m{\\u3000\\u3000}\u001b[39m\u001b[36m<He>\u001b[39m found it a lot harder to concentrate on drills that afternoon and when he left the building at five o'clock, he was still so worried that he walked straight into someone just outside the door.\u001b[36m{\\u3000\\u3000}\u001b[39m\"\u001b[36m<Sorry>\u001b[39m,\" he grunted, as the tiny old man stumbled and almost fell. \u001b[36m<It>\u001b[39m was a few seconds before \u001b[36m<Mr>\u001b[39m. \u001b[36m<Dursley>\u001b[39m realized that the man was wearing a violet cloak. \u001b[36m<He>\u001b[39m didn't seem at all upset at being almost knocked to the ground. \u001b[36m<On>\u001b[39m the contrary, his face split into a wide smile and he said in a squeaky voice that made passersby stare, \"\u001b[36m<Don>\u001b[39m't be sorry, my dear sir, for nothing could upset me today! \u001b[36m<Rejoice>\u001b[39m, for \u001b[36m<You>\u001b[39m-\u001b[36m<Know>\u001b[39m-\u001b[36m<Who>\u001b[39m has gone at last! \u001b[36m<Even>\u001b[39m \u001b[36m<Muggles>\u001b[39m like yourself should be celebrating, this happy, happy day!\"\u001b[36m{\\u3000\\u3000}\u001b[39m\u001b[36m<And>\u001b[39m the old man hugged \u001b[36m<Mr>\u001b[39m. \u001b[36m<Dursley>\u001b[39m around the middle and walked off.\u001b[36m{\\u3000\\u3000}\u001b[39m\u001b[36m<Mr>\u001b[39m. \u001b[36m<Dursley>\u001b[39m stood rooted to the spot. \u001b[36m<He>\u001b[39m had been hugged by a complete stranger. \u001b[36m<He>\u001b[39m also thought he had been called a \u001b[36m<Muggle>\u001b[39m, whatever that was. \u001b[36m<He>\u001b[39m was rattled. \u001b[36m<He>\u001b[39m hurried to his car and set off for home, hoping he was imagining things, which he had never hoped before, because he didn't approve of imagination.\u001b[36m{\\u3000\\u3000}\u001b[39m\u001b[36m<As>\u001b[39m he pulled into the driveway of number four, the first thing he saw -- and it didn't improve his mood -- was the tabby cat he'd spotted that morning. \u001b[36m<It>\u001b[39m was now sitting on his garden wall. \u001b[36m<He>\u001b[39m was sure it was the same one; it had the same markings around its eyes.\u001b[36m{\\u3000\\u3000}\u001b[39m\"\u001b[36m<Shoo>\u001b[39m!\" said \u001b[36m<Mr>\u001b[39m. \u001b[36m<Dursley>\u001b[39m loudly. \u001b[36m<The>\u001b[39m cat didn't move. \u001b[36m<It>\u001b[39m just gave him a stern look. \u001b[36m<Was>\u001b[39m this normal cat behavior? \u001b[36m<Mr>\u001b[39m. \u001b[36m<Dursley>\u001b[39m wondered. \u001b[36m<Trying>\u001b[39m to pull himself together, he let himself into the house. \u001b[36m<He>\u001b[39m was still determined not to mention anything to his wife.\u001b[36m{\\u3000\\u3000}\u001b[39m\u001b[36m<Mrs>\u001b[39m. \u001b[36m<Dursley>\u001b[39m had had a nice, normal day. \u001b[36m<She>\u001b[39m told him over dinner all about \u001b[36m<Mrs>\u001b[39m. \u001b[36m<Next>\u001b[39m \u001b[36m<Door>\u001b[39m's problems with her daughter and how \u001b[36m<Dudley>\u001b[39m had learned a new word (\"\u001b[36m<Won>\u001b[39m't!\"). \u001b[36m<Mr>\u001b[39m. \u001b[36m<Dursley>\u001b[39m tried to act normally. \u001b[36m<When>\u001b[39m \u001b[36m<Dudley>\u001b[39m had been put to bed, he went into the living room in time to catch the last report on the evening news:\u001b[36m{\\u3000\\u3000}\u001b[39m\"\u001b[36m<And>\u001b[39m finally, bird-watchers everywhere have reported that the nation's owls have been behaving very unusually today. \u001b[36m<Although>\u001b[39m owls normally hunt at night and are hardly ever seen in daylight, there have been hundreds of sightings of these birds flying in every direction since sunrise. \u001b[36m<Experts>\u001b[39m are unable to explain why the owls have suddenly changed their sleeping pattern.\" \u001b[36m<The>\u001b[39m newscaster allowed himself a grin. \"\u001b[36m<Most>\u001b[39m mysterious. \u001b[36m<And>\u001b[39m now, over to \u001b[36m<Jim>\u001b[39m McGuffin with the weather. \u001b[36m<Going>\u001b[39m to be any more showers of owls tonight, \u001b[36m<Jim>\u001b[39m?\"\u001b[36m{\\u3000\\u3000}\u001b[39m\"\u001b[36m<Well>\u001b[39m, \u001b[36m<Ted>\u001b[39m,\" said the weatherman, \"I don't know about that, but it's not only the owls that have been acting oddly today. \u001b[36m<Viewers>\u001b[39m as far apart as \u001b[36m<Kent>\u001b[39m, \u001b[36m<Yorkshire>\u001b[39m, and \u001b[36m<Dundee>\u001b[39m have been phoning in to tell me that instead of the rain I promised yesterday, they've had a downpour of shooting stars! \u001b[36m<Perhaps>\u001b[39m people have been celebrating \u001b[36m<Bonfire>\u001b[39m \u001b[36m<Night>\u001b[39m early -- it's not until next week, folks! \u001b[36m<But>\u001b[39m I can promise a wet night tonight.\"\u001b[36m{\\u3000\\u3000}\u001b[39m\u001b[36m<Mr>\u001b[39m. \u001b[36m<Dursley>\u001b[39m sat frozen in his armchair. \u001b[36m<Shooting>\u001b[39m stars all over \u001b[36m<Britain>\u001b[39m? \u001b[36m<Owls>\u001b[39m flying by daylight? \u001b[36m<Mysterious>\u001b[39m people in cloaks all over the place? \u001b[36m<And>\u001b[39m a whisper, a whisper about the \u001b[36m<Potters>\u001b[39m...\u001b[36m{\\u3000\\u3000}\u001b[39m\u001b[36m<Mrs>\u001b[39m. \u001b[36m<Dursley>\u001b[39m came into the living room carrying two cups of tea. \u001b[36m<It>\u001b[39m was no good. \u001b[36m<He>\u001b[39m'd have to say something to her. \u001b[36m<He>\u001b[39m cleared his throat nervously. \"\u001b[36m<Er>\u001b[39m -- \u001b[36m<Petunia>\u001b[39m, dear -- you haven't heard from your sister lately, have you?\"\u001b[36m{\\u3000\\u3000}\u001b[39m\u001b[36m<As>\u001b[39m he had expected, \u001b[36m<Mrs>\u001b[39m. \u001b[36m<Dursley>\u001b[39m looked shocked and angry. \u001b[36m<After>\u001b[39m all, they normally pretended she didn't have a sister.\u001b[36m{\\u3000\\u3000}\u001b[39m\"\u001b[36m<No>\u001b[39m,\" she said sharply. \"\u001b[36m<Why>\u001b[39m?\"\u001b[36m{\\u3000\\u3000}\u001b[39m\"\u001b[36m<Funny>\u001b[39m stuff on the news,\" \u001b[36m<Mr>\u001b[39m. \u001b[36m<Dursley>\u001b[39m mumbled. \"\u001b[36m<Owls>\u001b[39m... shooting stars... and there were a lot of funny-looking people in town today...\"\u001b[36m{\\u3000\\u3000}\u001b[39m\"\u001b[36m<So>\u001b[39m?\" snapped \u001b[36m<Mrs>\u001b[39m. \u001b[36m<Dursley>\u001b[39m.\u001b[36m{\\u3000\\u3000}\u001b[39m\"\u001b[36m<Well>\u001b[39m, I just thought... maybe... it was something to do with... you know... her crowd.\"\u001b[36m{\\u3000\\u3000}\u001b[39m\u001b[36m<Mrs>\u001b[39m. \u001b[36m<Dursley>\u001b[39m sipped her tea through pursed lips. \u001b[36m<Mr>\u001b[39m. \u001b[36m<Dursley>\u001b[39m wondered whether he dared tell her he'd heard the name \"\u001b[36m<Potter>\u001b[39m.\" \u001b[36m<He>\u001b[39m decided he didn't dare. \u001b[36m<Instead>\u001b[39m he said, as casually as he could, \"\u001b[36m<Their>\u001b[39m son -- he'd be about \u001b[36m<Dudley>\u001b[39m's age now, wouldn't he?\"\u001b[36m{\\u3000\\u3000}\u001b[39m\"I suppose so,\" said \u001b[36m<Mrs>\u001b[39m. \u001b[36m<Dursley>\u001b[39m stiffly.\u001b[36m{\\u3000\\u3000}\u001b[39m\"\u001b[36m<What>\u001b[39m's his name again? \u001b[36m<Howard>\u001b[39m, isn't it?\"\u001b[36m{\\u3000\\u3000}\u001b[39m\"\u001b[36m<Harry>\u001b[39m. \u001b[36m<Nasty>\u001b[39m, common name, if you ask me.\"\u001b[36m{\\u3000\\u3000}\u001b[39m\"\u001b[36m<Oh>\u001b[39m, yes,\" said \u001b[36m<Mr>\u001b[39m. \u001b[36m<Dursley>\u001b[39m, his heart sinking horribly. \"\u001b[36m<Yes>\u001b[39m, I quite agree.\"\u001b[36m{\\u3000\\u3000}\u001b[39m\u001b[36m<He>\u001b[39m didn't say another word on the subject as they went upstairs to bed. \u001b[36m<While>\u001b[39m \u001b[36m<Mrs>\u001b[39m. \u001b[36m<Dursley>\u001b[39m was in the bathroom, \u001b[36m<Mr>\u001b[39m. \u001b[36m<Dursley>\u001b[39m crept to the bedroom window and peered down into the front garden. \u001b[36m<The>\u001b[39m cat was still there. \u001b[36m<It>\u001b[39m was staring down \u001b[36m<Privet>\u001b[39m \u001b[36m<Drive>\u001b[39m as though it were waiting for something.\u001b[36m{\\u3000\\u3000}\u001b[39m\u001b[36m<Was>\u001b[39m he imagining things? \u001b[36m<Could>\u001b[39m all this have anything to do with the \u001b[36m<Potters>\u001b[39m? \u001b[36m<If>\u001b[39m it did... if it got out that they were related to a pair of -- well, he didn't think he could bear it.\u001b[36m{\\u3000\\u3000}\u001b[39m\u001b[36m<The>\u001b[39m \u001b[36m<Dursleys>\u001b[39m got into bed. \u001b[36m<Mrs>\u001b[39m. \u001b[36m<Dursley>\u001b[39m fell asleep quickly but \u001b[36m<Mr>\u001b[39m. \u001b[36m<Dursley>\u001b[39m lay awake, turning it all over in his mind. \u001b[36m<His>\u001b[39m last, comforting thought before he fell asleep was that even if the \u001b[36m<Potters>\u001b[39m were involved, there was no reason for them to come near him and \u001b[36m<Mrs>\u001b[39m. \u001b[36m<Dursley>\u001b[39m. \u001b[36m<The>\u001b[39m \u001b[36m<Potters>\u001b[39m knew very well what he and \u001b[36m<Petunia>\u001b[39m thought about them and their kind.... \u001b[36m<He>\u001b[39m couldn't see how he and \u001b[36m<Petunia>\u001b[39m could get mixed up in anything that might be going on -- he yawned and turned over -- it couldn't affect them....\u001b[36m{\\u3000\\u3000}\u001b[39m\u001b[36m<How>\u001b[39m very wrong he was.\u001b[36m{\\u3000\\u3000}\u001b[39m\u001b[36m<Mr>\u001b[39m. \u001b[36m<Dursley>\u001b[39m might have been drifting into an uneasy sleep, but the cat on the wall outside was showing no sign of sleepiness. \u001b[36m<It>\u001b[39m was sitting as still as a statue, its eyes fixed unblinkingly on the far corner of \u001b[36m<Privet>\u001b[39m \u001b[36m<Drive>\u001b[39m. \u001b[36m<It>\u001b[39m didn't so much as quiver when a car door slammed on the next street, nor when two owls swooped overhead. \u001b[36m<In>\u001b[39m fact, it was nearly midnight before the cat moved at all.\u001b[36m{\\u3000\\u3000}\u001b[39mA man appeared on the corner the cat had been watching, appeared so suddenly and silently you'd have thought he'd just popped out of the ground. \u001b[36m<The>\u001b[39m cat's tail twitched and its eyes narrowed.\u001b[36m{\\u3000\\u3000}\u001b[39m\u001b[36m<Nothing>\u001b[39m like this man had ever been seen on \u001b[36m<Privet>\u001b[39m \u001b[36m<Drive>\u001b[39m. \u001b[36m<He>\u001b[39m was tall, thin, and very old, judging by the silver of his hair and beard, which were both long enough to tuck into his belt. \u001b[36m<He>\u001b[39m was wearing long robes, a purple cloak that swept the ground, and high-heeled, buckled boots. \u001b[36m<His>\u001b[39m blue eyes were light, bright, and sparkling behind half-moon spectacles and his nose was very long and crooked, as though it had been broken at least twice. \u001b[36m<This>\u001b[39m man's name was \u001b[36m<Albus>\u001b[39m \u001b[36m<Dumbledore>\u001b[39m.\u001b[36m{\\u3000\\u3000}\u001b[39m\u001b[36m<Albus>\u001b[39m \u001b[36m<Dumbledore>\u001b[39m didn't seem to realize that he had just arrived in a street where everything from his name to his boots was unwelcome. \u001b[36m<He>\u001b[39m was busy rummaging in his cloak, looking for something. \u001b[36m<But>\u001b[39m he did seem to realize he was being watched, because he looked up suddenly at the cat, which was still staring at him from the other end of the street. \u001b[36m<For>\u001b[39m some reason, the sight of the cat seemed to amuse him. \u001b[36m<He>\u001b[39m chuckled and muttered, \"I should have known.\"\u001b[36m{\\u3000\\u3000}\u001b[39m\u001b[36m<He>\u001b[39m found what he was looking for in his inside pocket. \u001b[36m<It>\u001b[39m seemed to be a silver cigarette lighter. \u001b[36m<He>\u001b[39m flicked it open, held it up in the air, and clicked it. \u001b[36m<The>\u001b[39m nearest street lamp went out with a little pop. \u001b[36m<He>\u001b[39m clicked it again -- the next lamp flickered into darkness. \u001b[36m<Twelve>\u001b[39m times he clicked the \u001b[36m<Put>\u001b[39m-\u001b[36m<Outer>\u001b[39m, until the only lights left on the whole street were two tiny pinpricks in the distance, which were the eyes of the cat watching him. \u001b[36m<If>\u001b[39m anyone looked out of their window now, even beady-eyed \u001b[36m<Mrs>\u001b[39m. \u001b[36m<Dursley>\u001b[39m, they wouldn't be able to see anything that was happening down on the pavement. \u001b[36m<Dumbledore>\u001b[39m slipped the \u001b[36m<Put>\u001b[39m-\u001b[36m<Outer>\u001b[39m back inside his cloak and set off down the street toward number four, where he sat down on the wall next to the cat. \u001b[36m<He>\u001b[39m didn't look at it, but after a moment he spoke to it.\u001b[36m{\\u3000\\u3000}\u001b[39m\"\u001b[36m<Fancy>\u001b[39m seeing you here, \u001b[36m<Professor>\u001b[39m McGonagall.\"\u001b[36m{\\u3000\\u3000}\u001b[39m\u001b[36m<He>\u001b[39m turned to smile at the tabby, but it had gone. \u001b[36m<Instead>\u001b[39m he was smiling at a rather severe-looking woman who was wearing square glasses exactly the shape of the markings the cat had had around its eyes. \u001b[36m<She>\u001b[39m, too, was wearing a cloak, an emerald one. \u001b[36m<Her>\u001b[39m black hair was drawn into a tight bun. \u001b[36m<She>\u001b[39m looked distinctly ruffled.\u001b[36m{\\u3000\\u3000}\u001b[39m\"\u001b[36m<How>\u001b[39m did you know it was me?\" she asked.\u001b[36m{\\u3000\\u3000}\u001b[39m\"\u001b[36m<My>\u001b[39m dear \u001b[36m<Professor>\u001b[39m, I 've never seen a cat sit so stiffly.\"\u001b[36m{\\u3000\\u3000}\u001b[39m\"\u001b[36m<You>\u001b[39m'd be stiff if you'd been sitting on a brick wall all day,\" said \u001b[36m<Professor>\u001b[39m McGonagall.\u001b[36m{\\u3000\\u3000}\u001b[39m\"\u001b[36m<All>\u001b[39m day? \u001b[36m<When>\u001b[39m you could have been celebrating? I must have passed a dozen feasts and parties on my way here.\"\u001b[36m{\\u3000\\u3000}\u001b[39m\u001b[36m<Professor>\u001b[39m McGonagall sniffed angrily.\u001b[36m{\\u3000\\u3000}\u001b[39m\"\u001b[36m<Oh>\u001b[39m yes, everyone's celebrating, all right,\" she said impatiently. \"\u001b[36m<You>\u001b[39m'd think they'd be a bit more careful, but no -- even the \u001b[36m<Muggles>\u001b[39m have noticed something's going on. \u001b[36m<It>\u001b[39m was on their news.\" \u001b[36m<She>\u001b[39m jerked her head back at the \u001b[36m<Dursleys>\u001b[39m' dark living-room window. \"I heard it. \u001b[36m<Flocks>\u001b[39m of owls... shooting stars.... \u001b[36m<Well>\u001b[39m, they're not completely stupid. \u001b[36m<They>\u001b[39m were bound to notice something. \u001b[36m<Shooting>\u001b[39m stars down in \u001b[36m<Kent>\u001b[39m -- I'll bet that was \u001b[36m<Dedalus>\u001b[39m \u001b[36m<Diggle>\u001b[39m. \u001b[36m<He>\u001b[39m never had much sense.\"\u001b[36m{\\u3000\\u3000}\u001b[39m\"\u001b[36m<You>\u001b[39m can't blame them,\" said \u001b[36m<Dumbledore>\u001b[39m gently. \"\u001b[36m<We>\u001b[39m've had precious little to celebrate for eleven years.\"\u001b[36m{\\u3000\\u3000}\u001b[39m\"I know that,\" said \u001b[36m<Professor>\u001b[39m McGonagall irritably. \"\u001b[36m<But>\u001b[39m that's no reason to lose our heads. \u001b[36m<People>\u001b[39m are being downright careless, out on the streets in broad daylight, not even dressed in \u001b[36m<Muggle>\u001b[39m clothes, swapping rumors.\"\u001b[36m{\\u3000\\u3000}\u001b[39m\u001b[36m<She>\u001b[39m threw a sharp, sideways glance at \u001b[36m<Dumbledore>\u001b[39m here, as though hoping he was going to tell her something, but he didn't, so she went on. \"A fine thing it would be if, on the very day YouKnow-\u001b[36m<Who>\u001b[39m seems to have disappeared at last, the \u001b[36m<Muggles>\u001b[39m found out about us all. I suppose he really has gone, \u001b[36m<Dumbledore>\u001b[39m?\"\u001b[36m{\\u3000\\u3000}\u001b[39m\"\u001b[36m<It>\u001b[39m certainly seems so,\" said \u001b[36m<Dumbledore>\u001b[39m. \"\u001b[36m<We>\u001b[39m have much to be thankful for. \u001b[36m<Would>\u001b[39m you care for a lemon drop?\"\u001b[36m{\\u3000\\u3000}\u001b[39m\"A what?\"\u001b[36m{\\u3000\\u3000}\u001b[39m\"A lemon drop. \u001b[36m<They>\u001b[39m're a kind of \u001b[36m<Muggle>\u001b[39m sweet I'm rather fond of\"\u001b[36m{\\u3000\\u3000}\u001b[39m\"\u001b[36m<No>\u001b[39m, thank you,\" said \u001b[36m<Professor>\u001b[39m McGonagall coldly, as though she didn't think this was the moment for lemon drops. \"\u001b[36m<As>\u001b[39m I say, even if \u001b[36m<You>\u001b[39m-\u001b[36m<Know>\u001b[39m-\u001b[36m<Who>\u001b[39m has gone -\"\u001b[36m{\\u3000\\u3000}\u001b[39m\"\u001b[36m<My>\u001b[39m dear \u001b[36m<Professor>\u001b[39m, surely a sensible person like yourself can call him by his name? \u001b[36m<All>\u001b[39m this '\u001b[36m<You>\u001b[39m- \u001b[36m<Know>\u001b[39m-\u001b[36m<Who>\u001b[39m' nonsense -- for eleven years I have been trying to persuade people to call him by his proper name: \u001b[36m<Voldemort>\u001b[39m.\" \u001b[36m<Professor>\u001b[39m McGonagall flinched, but \u001b[36m<Dumbledore>\u001b[39m, who was unsticking two lemon drops, seemed not to notice. \"\u001b[36m<It>\u001b[39m all gets so confusing if we keep saying '\u001b[36m<You>\u001b[39m-\u001b[36m<Know>\u001b[39m-\u001b[36m<Who>\u001b[39m.' I have never seen any reason to be frightened of saying \u001b[36m<Voldemort>\u001b[39m's name.\u001b[36m{\\u3000\\u3000}\u001b[39m\"I know you haven 't, said \u001b[36m<Professor>\u001b[39m McGonagall, sounding half exasperated, half admiring. \"\u001b[36m<But>\u001b[39m you're different. \u001b[36m<Everyone>\u001b[39m knows you're the only one \u001b[36m<You>\u001b[39m-\u001b[36m<Know>\u001b[39m- oh, all right, \u001b[36m<Voldemort>\u001b[39m, was frightened of.\"\u001b[36m{\\u3000\\u3000}\u001b[39m\"\u001b[36m<You>\u001b[39m flatter me,\" said \u001b[36m<Dumbledore>\u001b[39m calmly. \"\u001b[36m<Voldemort>\u001b[39m had powers I will never have.\"\u001b[36m{\\u3000\\u3000}\u001b[39m\"\u001b[36m<Only>\u001b[39m because you're too -- well -- noble to use them.\"\u001b[36m{\\u3000\\u3000}\u001b[39m\"\u001b[36m<It>\u001b[39m's lucky it's dark. I haven't blushed so much since \u001b[36m<Madam>\u001b[39m \u001b[36m<Pomfrey>\u001b[39m told me she liked my new earmuffs.\"\u001b[36m{\\u3000\\u3000}\u001b[39m\u001b[36m<Professor>\u001b[39m McGonagall shot a sharp look at \u001b[36m<Dumbledore>\u001b[39m and said, \"\u001b[36m<The>\u001b[39m owls are nothing next to the rumors that are flying around. \u001b[36m<You>\u001b[39m know what everyone's saying? \u001b[36m<About>\u001b[39m why he's disappeared? \u001b[36m<About>\u001b[39m what finally stopped him?\"\u001b[36m{\\u3000\\u3000}\u001b[39m\u001b[36m<It>\u001b[39m seemed that \u001b[36m<Professor>\u001b[39m McGonagall had reached the point she was most anxious to discuss, the real reason she had been waiting on a cold, hard wall all day, for neither as a cat nor as a woman had she fixed \u001b[36m<Dumbledore>\u001b[39m with such a piercing stare as she did now. \u001b[36m<It>\u001b[39m was plain that whatever \"everyone\" was saying, she was not going to believe it until \u001b[36m<Dumbledore>\u001b[39m told her it was true. \u001b[36m<Dumbledore>\u001b[39m, however, was choosing another lemon drop and did not answer.\u001b[36m{\\u3000\\u3000}\u001b[39m\"\u001b[36m<What>\u001b[39m they're saying,\" she pressed on, \"is that last night \u001b[36m<Voldemort>\u001b[39m turned up in \u001b[36m<Godric>\u001b[39m's \u001b[36m<Hollow>\u001b[39m. \u001b[36m<He>\u001b[39m went to find the \u001b[36m<Potters>\u001b[39m. \u001b[36m<The>\u001b[39m rumor is that \u001b[36m<Lily>\u001b[39m and \u001b[36m<James>\u001b[39m \u001b[36m<Potter>\u001b[39m are -- are -- that they're -- dead. \"\u001b[36m{\\u3000\\u3000}\u001b[39m\u001b[36m<Dumbledore>\u001b[39m bowed his head. \u001b[36m<Professor>\u001b[39m McGonagall gasped.\u001b[36m{\\u3000\\u3000}\u001b[39m\"\u001b[36m<Lily>\u001b[39m and \u001b[36m<James>\u001b[39m... I can't believe it... I didn't want to believe it... \u001b[36m<Oh>\u001b[39m, \u001b[36m<Albus>\u001b[39m...\"\u001b[36m{\\u3000\\u3000}\u001b[39m\u001b[36m<Dumbledore>\u001b[39m reached out and patted her on the shoulder. \"I know... I know...\" he said heavily.\u001b[36m{\\u3000\\u3000}\u001b[39m\u001b[36m<Professor>\u001b[39m McGonagall's voice trembled as she went on. \"\u001b[36m<That>\u001b[39m's not all. \u001b[36m<They>\u001b[39m're saying he tried to kill the \u001b[36m<Potter>\u001b[39m's son, \u001b[36m<Harry>\u001b[39m. \u001b[36m<But>\u001b[39m -- he couldn't. \u001b[36m<He>\u001b[39m couldn't kill that little boy. \u001b[36m<No>\u001b[39m one knows why, or how, but they're saying that when he couldn't kill \u001b[36m<Harry>\u001b[39m \u001b[36m<Potter>\u001b[39m, \u001b[36m<Voldemort>\u001b[39m's power somehow broke -- and that's why he's gone.\u001b[36m{\\u3000\\u3000}\u001b[39m\u001b[36m<Dumbledore>\u001b[39m nodded glumly.\u001b[36m{\\u3000\\u3000}\u001b[39m\"\u001b[36m<It>\u001b[39m's -- it's true?\" faltered \u001b[36m<Professor>\u001b[39m McGonagall. \"\u001b[36m<After>\u001b[39m all he's done... all the people he's killed... he couldn't kill a little boy? \u001b[36m<It>\u001b[39m's just astounding... of all the things to stop him... but how in the name of heaven did \u001b[36m<Harry>\u001b[39m survive?\"\u001b[36m{\\u3000\\u3000}\u001b[39m\"\u001b[36m<We>\u001b[39m can only guess,\" said \u001b[36m<Dumbledore>\u001b[39m. \"\u001b[36m<We>\u001b[39m may never know.\"\u001b[36m{\\u3000\\u3000}\u001b[39m\u001b[36m<Professor>\u001b[39m McGonagall pulled out a lace handkerchief and dabbed at her eyes beneath her spectacles. \u001b[36m<Dumbledore>\u001b[39m gave a great sniff as he took a golden watch from his pocket and examined it. \u001b[36m<It>\u001b[39m was a very odd watch. \u001b[36m<It>\u001b[39m had twelve hands but no numbers; instead, little planets were moving around the edge. \u001b[36m<It>\u001b[39m must have made sense to \u001b[36m<Dumbledore>\u001b[39m, though, because he put it back in his pocket and said, \"\u001b[36m<Hagrid>\u001b[39m's late. I suppose it was he who told you I'd be here, by the way?\"\u001b[36m{\\u3000\\u3000}\u001b[39m\"\u001b[36m<Yes>\u001b[39m,\" said \u001b[36m<Professor>\u001b[39m McGonagall. \"\u001b[36m<And>\u001b[39m I don't suppose you're going to tell me why you're here, of all places?\"\u001b[36m{\\u3000\\u3000}\u001b[39m\"I've come to bring \u001b[36m<Harry>\u001b[39m to his aunt and uncle. \u001b[36m<They>\u001b[39m're the only family he has left now.\"\u001b[36m{\\u3000\\u3000}\u001b[39m\"\u001b[36m<You>\u001b[39m don't mean -- you can't mean the people who live here?\" cried \u001b[36m<Professor>\u001b[39m McGonagall, jumping to her feet and pointing at number four. \"\u001b[36m<Dumbledore>\u001b[39m -- you can't. I've been watching them all day. \u001b[36m<You>\u001b[39m couldn't find two people who are less like us. \u001b[36m<And>\u001b[39m they've got this son -- I saw him kicking his mother all the way up the street, screaming for sweets. \u001b[36m<Harry>\u001b[39m \u001b[36m<Potter>\u001b[39m come and live here!\"\u001b[36m{\\u3000\\u3000}\u001b[39m\"\u001b[36m<It>\u001b[39m's the best place for him,\" said \u001b[36m<Dumbledore>\u001b[39m firmly. \"\u001b[36m<His>\u001b[39m aunt and uncle will be able to explain everything to him when he's older. I've written them a letter.\"\u001b[36m{\\u3000\\u3000}\u001b[39m\"A letter?\" repeated \u001b[36m<Professor>\u001b[39m McGonagall faintly, sitting back down on the wall. \"\u001b[36m<Really>\u001b[39m, \u001b[36m<Dumbledore>\u001b[39m, you think you can explain all this in a letter? \u001b[36m<These>\u001b[39m people will never understand him! \u001b[36m<He>\u001b[39m'll be famous -- a legend -- I wouldn't be surprised if today was known as \u001b[36m<Harry>\u001b[39m \u001b[36m<Potter>\u001b[39m day in the future -- there will be books written about \u001b[36m<Harry>\u001b[39m -- every child in our world will know his name!\"\u001b[36m{\\u3000\\u3000}\u001b[39m\"\u001b[36m<Exactly>\u001b[39m,\" said \u001b[36m<Dumbledore>\u001b[39m, looking very seriously over the top of his half-moon glasses. \"\u001b[36m<It>\u001b[39m would be enough to turn any boy's head. \u001b[36m<Famous>\u001b[39m before he can walk and talk! \u001b[36m<Famous>\u001b[39m for something he won't even remember! CarA you see how much better off he'll be, growing up away from all that until he's ready to take it?\"\u001b[36m{\\u3000\\u3000}\u001b[39m\u001b[36m<Professor>\u001b[39m McGonagall opened her mouth, changed her mind, swallowed, and then said, \"\u001b[36m<Yes>\u001b[39m -- yes, you're right, of course. \u001b[36m<But>\u001b[39m how is the boy getting here, \u001b[36m<Dumbledore>\u001b[39m?\" \u001b[36m<She>\u001b[39m eyed his cloak suddenly as though she thought he might be hiding \u001b[36m<Harry>\u001b[39m underneath it.\u001b[36m{\\u3000\\u3000}\u001b[39m\"\u001b[36m<Hagrid>\u001b[39m's bringing him.\"\u001b[36m{\\u3000\\u3000}\u001b[39m\"\u001b[36m<You>\u001b[39m think it -- wise -- to trust \u001b[36m<Hagrid>\u001b[39m with something as important as this?\"\u001b[36m{\\u3000\\u3000}\u001b[39mI would trust \u001b[36m<Hagrid>\u001b[39m with my life,\" said \u001b[36m<Dumbledore>\u001b[39m.\u001b[36m{\\u3000\\u3000}\u001b[39m\"I'm not saying his heart isn't in the right place,\" said \u001b[36m<Professor>\u001b[39m McGonagall grudgingly, \"but you can't pretend he's not careless. \u001b[36m<He>\u001b[39m does tend to -- what was that?\"\u001b[36m{\\u3000\\u3000}\u001b[39mA low rumbling sound had broken the silence around them. \u001b[36m<It>\u001b[39m grew steadily louder as they looked up and down the street for some sign of a headlight; it swelled to a roar as they both looked up at the sky -- and a huge motorcycle fell out of the air and landed on the road in front of them.\u001b[36m{\\u3000\\u3000}\u001b[39m\u001b[36m<If>\u001b[39m the motorcycle was huge, it was nothing to the man sitting astride it. \u001b[36m<He>\u001b[39m was almost twice as tall as a normal man and at least five times as wide. \u001b[36m<He>\u001b[39m looked simply too big to be allowed, and so wild - long tangles of bushy black hair and beard hid most of his face, he had hands the size of trash can lids, and his feet in their leather boots were like baby dolphins. \u001b[36m<In>\u001b[39m his vast, muscular arms he was holding a bundle of blankets.\u001b[36m{\\u3000\\u3000}\u001b[39m\"\u001b[36m<Hagrid>\u001b[39m,\" said \u001b[36m<Dumbledore>\u001b[39m, sounding relieved. \"\u001b[36m<At>\u001b[39m last. \u001b[36m<And>\u001b[39m where did you get that motorcycle?\"\u001b[36m{\\u3000\\u3000}\u001b[39m\"\u001b[36m<Borrowed>\u001b[39m it, \u001b[36m<Professor>\u001b[39m \u001b[36m<Dumbledore>\u001b[39m, sit,\" said the giant, climbing carefully off the motorcycle as he spoke. \"\u001b[36m<Young>\u001b[39m \u001b[36m<Sirius>\u001b[39m \u001b[36m<Black>\u001b[39m lent it to me. I've got him, sir.\"\u001b[36m{\\u3000\\u3000}\u001b[39m\"\u001b[36m<No>\u001b[39m problems, were there?\"\u001b[36m{\\u3000\\u3000}\u001b[39m\"\u001b[36m<No>\u001b[39m, sir -- house was almost destroyed, but I got him out all right before the \u001b[36m<Muggles>\u001b[39m started swarmin' around. \u001b[36m<He>\u001b[39m fell asleep as we was flyin' over \u001b[36m<Bristol>\u001b[39m.\"\u001b[36m{\\u3000\\u3000}\u001b[39m\u001b[36m<Dumbledore>\u001b[39m and \u001b[36m<Professor>\u001b[39m McGonagall bent forward over the bundle of blankets. \u001b[36m<Inside>\u001b[39m, just visible, was a baby boy, fast asleep. \u001b[36m<Under>\u001b[39m a tuft of jet-black hair over his forehead they could see a curiously shaped cut, like a bolt of lightning.\u001b[36m{\\u3000\\u3000}\u001b[39m\"\u001b[36m<Is>\u001b[39m that where -?\" whispered \u001b[36m<Professor>\u001b[39m McGonagall.\u001b[36m{\\u3000\\u3000}\u001b[39m\"\u001b[36m<Yes>\u001b[39m,\" said \u001b[36m<Dumbledore>\u001b[39m. \"\u001b[36m<He>\u001b[39m'll have that scar forever.\"\u001b[36m{\\u3000\\u3000}\u001b[39m\"\u001b[36m<Couldn>\u001b[39m't you do something about it, \u001b[36m<Dumbledore>\u001b[39m?\"\u001b[36m{\\u3000\\u3000}\u001b[39m\"\u001b[36m<Even>\u001b[39m if I could, I wouldn't. \u001b[36m<Scars>\u001b[39m can come in handy. I have one myself above my left knee that is a perfect map of the \u001b[36m<London>\u001b[39m \u001b[36m<Underground>\u001b[39m. \u001b[36m<Well>\u001b[39m -- give him here, \u001b[36m<Hagrid>\u001b[39m -- we'd better get this over with.\"\u001b[36m{\\u3000\\u3000}\u001b[39m\u001b[36m<Dumbledore>\u001b[39m took \u001b[36m<Harry>\u001b[39m in his arms and turned toward the \u001b[36m<Dursleys>\u001b[39m' house.\u001b[36m{\\u3000\\u3000}\u001b[39m\"\u001b[36m<Could>\u001b[39m I -- could I say good-bye to him, sir?\" asked \u001b[36m<Hagrid>\u001b[39m. \u001b[36m<He>\u001b[39m bent his great, shaggy head over \u001b[36m<Harry>\u001b[39m and gave him what must have been a very scratchy, whiskery kiss. \u001b[36m<Then>\u001b[39m, suddenly, \u001b[36m<Hagrid>\u001b[39m let out a howl like a wounded dog.\u001b[36m{\\u3000\\u3000}\u001b[39m\"\u001b[36m<Shhh>\u001b[39m!\" hissed \u001b[36m<Professor>\u001b[39m McGonagall, \"you'll wake the \u001b[36m<Muggles>\u001b[39m!\"\u001b[36m{\\u3000\\u3000}\u001b[39m\"S-s-sorry,\" sobbed \u001b[36m<Hagrid>\u001b[39m, taking out a large, spotted handkerchief and burying his face in it. \"\u001b[36m<But>\u001b[39m I c-c-can't stand it -- \u001b[36m<Lily>\u001b[39m an' \u001b[36m<James>\u001b[39m dead -- an' poor little \u001b[36m<Harry>\u001b[39m off ter live with \u001b[36m<Muggles>\u001b[39m -\"\u001b[36m{\\u3000\\u3000}\u001b[39m\"\u001b[36m<Yes>\u001b[39m, yes, it's all very sad, but get a grip on yourself, \u001b[36m<Hagrid>\u001b[39m, or we'll be found,\" \u001b[36m<Professor>\u001b[39m McGonagall whispered, patting \u001b[36m<Hagrid>\u001b[39m gingerly on the arm as \u001b[36m<Dumbledore>\u001b[39m stepped over the low garden wall and walked to the front door. \u001b[36m<He>\u001b[39m laid \u001b[36m<Harry>\u001b[39m gently on the doorstep, took a letter out of his cloak, tucked it inside \u001b[36m<Harry>\u001b[39m's blankets, and then came back to the other two. \u001b[36m<For>\u001b[39m a full minute the three of them stood and looked at the little bundle; \u001b[36m<Hagrid>\u001b[39m's shoulders shook, \u001b[36m<Professor>\u001b[39m McGonagall blinked furiously, and the twinkling light that usually shone from \u001b[36m<Dumbledore>\u001b[39m's eyes seemed to have gone out.\u001b[36m{\\u3000\\u3000}\u001b[39m\"\u001b[36m<Well>\u001b[39m,\" said \u001b[36m<Dumbledore>\u001b[39m finally, \"that's that. \u001b[36m<We>\u001b[39m've no business staying here. \u001b[36m<We>\u001b[39m may as well go and join the celebrations.\"\u001b[36m{\\u3000\\u3000}\u001b[39m\"\u001b[36m<Yeah>\u001b[39m,\" said \u001b[36m<Hagrid>\u001b[39m in a very muffled voice, \"I'll be takin' \u001b[36m<Sirius>\u001b[39m his bike back. G'night, \u001b[36m<Professor>\u001b[39m McGonagall -- \u001b[36m<Professor>\u001b[39m \u001b[36m<Dumbledore>\u001b[39m, sir.\"\u001b[36m{\\u3000\\u3000}\u001b[39m\u001b[36m<Wiping>\u001b[39m his streaming eyes on his jacket sleeve, \u001b[36m<Hagrid>\u001b[39m swung himself onto the motorcycle and kicked the engine into life; with a roar it rose into the air and off into the night.\u001b[36m{\\u3000\\u3000}\u001b[39m\"I shall see you soon, I expect, \u001b[36m<Professor>\u001b[39m McGonagall,\" said \u001b[36m<Dumbledore>\u001b[39m, nodding to her. \u001b[36m<Professor>\u001b[39m McGonagall blew her nose in reply.\u001b[36m{\\u3000\\u3000}\u001b[39m\u001b[36m<Dumbledore>\u001b[39m turned and walked back down the street. \u001b[36m<On>\u001b[39m the corner he stopped and took out the silver \u001b[36m<Put>\u001b[39m-\u001b[36m<Outer>\u001b[39m. \u001b[36m<He>\u001b[39m clicked it once, and twelve balls of light sped back to their street lamps so that \u001b[36m<Privet>\u001b[39m \u001b[36m<Drive>\u001b[39m glowed suddenly orange and he could make out a tabby cat slinking around the corner at the other end of the street. \u001b[36m<He>\u001b[39m could just see the bundle of blankets on the step of number four.\u001b[36m{\\u3000\\u3000}\u001b[39m\"\u001b[36m<Good>\u001b[39m luck, \u001b[36m<Harry>\u001b[39m,\" he murmured. \u001b[36m<He>\u001b[39m turned on his heel and with a swish of his cloak, he was gone.\u001b[36m{\\u3000\\u3000}\u001b[39mA breeze ruffled the neat hedges of \u001b[36m<Privet>\u001b[39m \u001b[36m<Drive>\u001b[39m, which lay silent and tidy under the inky sky, the very last place you would expect astonishing things to happen. \u001b[36m<Harry>\u001b[39m \u001b[36m<Potter>\u001b[39m rolled over inside his blankets without waking up. \u001b[36m<One>\u001b[39m small hand closed on the letter beside him and he slept on, not knowing he was special, not knowing he was famous, not knowing he would be woken in a few hours' time by \u001b[36m<Mrs>\u001b[39m. \u001b[36m<Dursley>\u001b[39m's scream as she opened the front door to put out the milk bottles, nor that he would spend the next few weeks being prodded and pinched by his cousin \u001b[36m<Dudley>\u001b[39m... \u001b[36m<He>\u001b[39m couldn't know that at this very moment, people meeting in secret all over the country were holding up their glasses and saying in hushed voices: \"\u001b[36m<To>\u001b[39m \u001b[36m<Harry>\u001b[39m \u001b[36m<Potter>\u001b[39m -- the boy who lived!"
      ]
     },
     "metadata": {},
     "output_type": "display_data"
    }
   ],
   "source": [
    "# cap words\n",
    "# <word boundary>\n",
    "\n",
    "str_view(ch1, \"\\\\b[A-Z][a-z]+\\\\b\")"
   ]
  },
  {
   "cell_type": "markdown",
   "metadata": {
    "slideshow": {
     "slide_type": "notes"
    }
   },
   "source": [
    "Let's return to an example from last lecture: find all the character names in Harry Potter. By matching all words that start with capital letters, we're off to a good start. But we pick up the beginning word of any sentence, resulting in a lot of false matches. Let's use quantifiers to restrict to only longer words, say capitalized words that are at least six characters long."
   ]
  },
  {
   "cell_type": "markdown",
   "metadata": {
    "slideshow": {
     "slide_type": "slide"
    }
   },
   "source": [
    "Our pattern becomes:\n",
    "\n",
    "    <word boundary><Capital letter><at least five lowercase letters><word boundary>"
   ]
  },
  {
   "cell_type": "code",
   "execution_count": 117,
   "metadata": {
    "slideshow": {
     "slide_type": "-"
    }
   },
   "outputs": [
    {
     "data": {
      "text/plain": [
       ".\n",
       "   Although     Bonfire    Borrowed     Bristol     Britain      Couldn \n",
       "          1           1           1           1           1           1 \n",
       "    Dedalus      Diggle      Dudley  Dumbledore      Dundee     Dursley \n",
       "          1           1           9          37           1          47 \n",
       "   Dursleys    Everyone     Exactly     Experts      Famous      Flocks \n",
       "          7           1           1           1           2           1 \n",
       "     Godric   Grunnings      Hagrid      Harold      Harvey      Hollow \n",
       "          1           2          14           1           1           1 \n",
       "     Howard      Inside     Instead      Little      London      Muggle \n",
       "          1           1           2           1           1           3 \n",
       "    Muggles  Mysterious     Nothing      People     Perhaps     Petunia \n",
       "          6           1           1           2           1           3 \n",
       "    Pomfrey      Potter     Potters      Privet   Professor      Really \n",
       "          1          11          10           8          30           1 \n",
       "    Rejoice    Shooting      Sirius      Trying     Tuesday      Twelve \n",
       "          1           2           2           1           1           1 \n",
       "Underground     Viewers   Voldemort      Wiping   Yorkshire \n",
       "          1           1           6           1           1 "
      ]
     },
     "metadata": {},
     "output_type": "display_data"
    }
   ],
   "source": [
    "# all cap words that have at least six characters\n",
    "\n",
    "str_extract_all(ch1, \"\\\\b[A-Z][a-z]{5,}\\\\b\") %>% table"
   ]
  },
  {
   "cell_type": "markdown",
   "metadata": {
    "slideshow": {
     "slide_type": "slide"
    }
   },
   "source": [
    "## Grouping\n",
    "In the previous exercise we found that \"Professor\" is one of the most common capitalized words. Is there a character named Professor, or is it just a title? Now let us try to match one or more capitalized words in a row. We can accomplish this by creating a *group*, and then applying a quantifier to it. "
   ]
  },
  {
   "cell_type": "markdown",
   "metadata": {
    "slideshow": {
     "slide_type": "slide"
    }
   },
   "source": [
    "To create a group, I surround a part of my regexp with parentheses:"
   ]
  },
  {
   "cell_type": "code",
   "execution_count": null,
   "metadata": {},
   "outputs": [],
   "source": [
    "str_view(\"this will be grouped\", \"[a-z]+ ?\")\n",
    "str_view(\"this will be grouped\", \"([a-z]+ ?)\")"
   ]
  },
  {
   "cell_type": "markdown",
   "metadata": {
    "slideshow": {
     "slide_type": "slide"
    }
   },
   "source": [
    "The parentheses do not change the regular expression (but they are doing something else, which we will discuss shortly.) But now I can apply a quantifier to the whole group:"
   ]
  },
  {
   "cell_type": "code",
   "execution_count": null,
   "metadata": {},
   "outputs": [],
   "source": [
    "str_view(\"this will be grouped\", \"([a-z]+ ?)+\")"
   ]
  },
  {
   "cell_type": "markdown",
   "metadata": {
    "slideshow": {
     "slide_type": "slide"
    }
   },
   "source": [
    "So now we take the previous pattern and group it:\n",
    "\n",
    "    (<word boundary><Capital letter><at least five lowercase letters><word boundary>){match 1+ times}"
   ]
  },
  {
   "cell_type": "code",
   "execution_count": 125,
   "metadata": {
    "slideshow": {
     "slide_type": "slide"
    }
   },
   "outputs": [
    {
     "data": {
      "text/plain": [
       ".\n",
       "            Although               Bonfire              Borrowed  \n",
       "                    1                     1                     1 \n",
       "              Bristol               Britain                Couldn \n",
       "                    1                     1                     1 \n",
       "       Dedalus Diggle                Dudley               Dudley  \n",
       "                    1                     2                     7 \n",
       "           Dumbledore           Dumbledore                Dundee  \n",
       "                   16                    19                     1 \n",
       "              Dursley              Dursley               Dursleys \n",
       "                    9                    38                     2 \n",
       "            Dursleys              Everyone                Exactly \n",
       "                    5                     1                     1 \n",
       "             Experts                Famous                Flocks  \n",
       "                    1                     2                     1 \n",
       "               Godric             Grunnings            Grunnings  \n",
       "                    1                     1                     1 \n",
       "               Hagrid               Hagrid                 Harold \n",
       "                    7                     7                     1 \n",
       "               Harvey                Hollow                Howard \n",
       "                    1                     1                     1 \n",
       "               Inside              Instead                Little  \n",
       "                    1                     2                     1 \n",
       "   London Underground             McGuffin                 Muggle \n",
       "                    1                     1                     1 \n",
       "              Muggle                Muggles              Muggles  \n",
       "                    2                     1                     5 \n",
       "          Mysterious               Nothing                People  \n",
       "                    1                     1                     2 \n",
       "             Perhaps                Petunia              Petunia  \n",
       "                    1                     1                     2 \n",
       "             Pomfrey                 Potter               Potter  \n",
       "                    1                     3                     8 \n",
       "              Potters              Potters                Privet  \n",
       "                    5                     5                     8 \n",
       "            Professor  Professor Dumbledore  Professor McGonagall \n",
       "                    2                     2                    10 \n",
       "Professor McGonagall                 Really               Rejoice \n",
       "                   16                     1                     1 \n",
       "            Shooting                Sirius                Trying  \n",
       "                    2                     2                     1 \n",
       "             Tuesday                Twelve               Viewers  \n",
       "                    1                     1                     1 \n",
       "            Voldemort            Voldemort                Wiping  \n",
       "                    4                     2                     1 \n",
       "            Yorkshire               YouKnow \n",
       "                    1                     1 "
      ]
     },
     "metadata": {},
     "output_type": "display_data"
    }
   ],
   "source": [
    "# match one or more cap words in a row\n",
    "\n",
    "str_extract_all(ch1, \"(\\\\b[A-Z]\\\\w{5,} ?)+\") %>% table"
   ]
  },
  {
   "cell_type": "markdown",
   "metadata": {
    "slideshow": {
     "slide_type": "slide"
    }
   },
   "source": [
    "## 🤔 Quiz\n",
    "\n",
    "Besides Professor McGonagall, who is the other Professor mentioned in ch1?\n",
    "\n",
    "<ol style=\"list-style-type: upper-alpha;\">\n",
    "    <li>Prof. Muggles</li>\n",
    "    <li>Prof. Terhorst</li>\n",
    "    <li>Prof. Dumbledore</li>\n",
    "    <li>Prof. Dursley</li>\n",
    "</ol>\n"
   ]
  },
  {
   "cell_type": "code",
   "execution_count": 65,
   "metadata": {
    "slideshow": {
     "slide_type": "slide"
    }
   },
   "outputs": [],
   "source": [
    "# other professor"
   ]
  },
  {
   "cell_type": "markdown",
   "metadata": {
    "slideshow": {
     "slide_type": "slide"
    }
   },
   "source": [
    "## Negations\n",
    "Earlier we looked at quotations. The first quotation in chapter 1 is:"
   ]
  },
  {
   "cell_type": "code",
   "execution_count": 126,
   "metadata": {},
   "outputs": [
    {
     "data": {
      "text/html": [
       "'\"Little tyke,\"'"
      ],
      "text/latex": [
       "'\"Little tyke,\"'"
      ],
      "text/markdown": [
       "'\"Little tyke,\"'"
      ],
      "text/plain": [
       "[1] \"\\\"Little tyke,\\\"\""
      ]
     },
     "metadata": {},
     "output_type": "display_data"
    }
   ],
   "source": [
    "str_sub(ch1, 2150, 2163)"
   ]
  },
  {
   "cell_type": "markdown",
   "metadata": {
    "slideshow": {
     "slide_type": "slide"
    }
   },
   "source": [
    "How can we find other quotes? The pattern for a quote is a quotation mark, followed by any number of things that are not a quotation mark, followed by another quotation mark:\n",
    "\n",
    "    <quotation mark><anything that is not a quotation mark><quotation mark>\n"
   ]
  },
  {
   "cell_type": "markdown",
   "metadata": {
    "slideshow": {
     "slide_type": "slide"
    }
   },
   "source": [
    "To match this, we will use a *negation*. A negation is a character class that begins with the character \"^\". It matches anything that in *not* inside the character class:"
   ]
  },
  {
   "cell_type": "code",
   "execution_count": 59,
   "metadata": {},
   "outputs": [
    {
     "data": {
      "text/plain": [
       "\u001b[90m[1] │\u001b[39m \u001b[36m<m>\u001b[39ma\u001b[36m<tch d>\u001b[39moe\u001b[36m<sn't m>\u001b[39ma\u001b[36m<tch>\u001b[39m"
      ]
     },
     "metadata": {},
     "output_type": "display_data"
    }
   ],
   "source": [
    "str_view_all(\"match doesn't match\", \"[^aeiou]+\")"
   ]
  },
  {
   "cell_type": "markdown",
   "metadata": {
    "slideshow": {
     "slide_type": "slide"
    }
   },
   "source": [
    "To match a quotation, we'll input the pattern that we specified above:"
   ]
  },
  {
   "cell_type": "code",
   "execution_count": 60,
   "metadata": {},
   "outputs": [
    {
     "data": {
      "text/plain": [
       "\u001b[90m[1] │\u001b[39m \u001b[36m<\"Here is a quotation\">\u001b[39m, said the professor. \u001b[36m<\"And here is another.\">\u001b[39m"
      ]
     },
     "metadata": {},
     "output_type": "display_data"
    }
   ],
   "source": [
    "str_view_all('\"Here is a quotation\", said the professor. \"And here is another.\"',\n",
    "             '\"[^\"]+\"')"
   ]
  },
  {
   "cell_type": "markdown",
   "metadata": {
    "slideshow": {
     "slide_type": "slide"
    }
   },
   "source": [
    "## 🤔 Quiz\n",
    "\n",
    "How many quotations are there in Ch. 1? (Use the pattern shown above.)\n",
    "\n",
    "<ol style=\"list-style-type: upper-alpha;\">\n",
    "    <li>Less than 50</li>\n",
    "    <li>50-100</li>\n",
    "    <li>100-150</li>\n",
    "    <li>150-200</li>\n",
    "</ol>\n"
   ]
  },
  {
   "cell_type": "code",
   "execution_count": 131,
   "metadata": {
    "slideshow": {
     "slide_type": "slide"
    }
   },
   "outputs": [
    {
     "data": {
      "text/html": [
       "<ol>\n",
       "\t<li><style>\n",
       ".list-inline {list-style: none; margin:0; padding: 0}\n",
       ".list-inline>li {display: inline-block}\n",
       ".list-inline>li:not(:last-child)::after {content: \"\\00b7\"; padding: 0 .5ex}\n",
       "</style>\n",
       "<ol class=list-inline><li>'\"Little tyke,\"'</li><li>'\"The Potters, that\\'s right, that\\'s what I heard yes, their son, Harry\"'</li><li>'\"Sorry,\"'</li><li>'\"Don\\'t be sorry, my dear sir, for nothing could upset me today! Rejoice, for You-Know-Who has gone at last! Even Muggles like yourself should be celebrating, this happy, happy day!\"'</li><li>'\"Shoo!\"'</li><li>'\"Won\\'t!\"'</li><li>'\"And finally, bird-watchers everywhere have reported that the nation\\'s owls have been behaving very unusually today. Although owls normally hunt at night and are hardly ever seen in daylight, there have been hundreds of sightings of these birds flying in every direction since sunrise. Experts are unable to explain why the owls have suddenly changed their sleeping pattern.\"'</li><li>'\"Most mysterious. And now, over to Jim McGuffin with the weather. Going to be any more showers of owls tonight, Jim?\"'</li><li>'\"Well, Ted,\"'</li><li>'\"I don\\'t know about that, but it\\'s not only the owls that have been acting oddly today. Viewers as far apart as Kent, Yorkshire, and Dundee have been phoning in to tell me that instead of the rain I promised yesterday, they\\'ve had a downpour of shooting stars! Perhaps people have been celebrating Bonfire Night early -- it\\'s not until next week, folks! But I can promise a wet night tonight.\"'</li><li>'\"Er -- Petunia, dear -- you haven\\'t heard from your sister lately, have you?\"'</li><li>'\"No,\"'</li><li>'\"Why?\"'</li><li>'\"Funny stuff on the news,\"'</li><li>'\"Owls... shooting stars... and there were a lot of funny-looking people in town today...\"'</li><li>'\"So?\"'</li><li>'\"Well, I just thought... maybe... it was something to do with... you know... her crowd.\"'</li><li>'\"Potter.\"'</li><li>'\"Their son -- he\\'d be about Dudley\\'s age now, wouldn\\'t he?\"'</li><li>'\"I suppose so,\"'</li><li>'\"What\\'s his name again? Howard, isn\\'t it?\"'</li><li>'\"Harry. Nasty, common name, if you ask me.\"'</li><li>'\"Oh, yes,\"'</li><li>'\"Yes, I quite agree.\"'</li><li>'\"I should have known.\"'</li><li>'\"Fancy seeing you here, Professor McGonagall.\"'</li><li>'\"How did you know it was me?\"'</li><li>'\"My dear Professor, I \\'ve never seen a cat sit so stiffly.\"'</li><li>'\"You\\'d be stiff if you\\'d been sitting on a brick wall all day,\"'</li><li>'\"All day? When you could have been celebrating? I must have passed a dozen feasts and parties on my way here.\"'</li><li>'\"Oh yes, everyone\\'s celebrating, all right,\"'</li><li>'\"You\\'d think they\\'d be a bit more careful, but no -- even the Muggles have noticed something\\'s going on. It was on their news.\"'</li><li>'\"I heard it. Flocks of owls... shooting stars.... Well, they\\'re not completely stupid. They were bound to notice something. Shooting stars down in Kent -- I\\'ll bet that was Dedalus Diggle. He never had much sense.\"'</li><li>'\"You can\\'t blame them,\"'</li><li>'\"We\\'ve had precious little to celebrate for eleven years.\"'</li><li>'\"I know that,\"'</li><li>'\"But that\\'s no reason to lose our heads. People are being downright careless, out on the streets in broad daylight, not even dressed in Muggle clothes, swapping rumors.\"'</li><li>'\"A fine thing it would be if, on the very day YouKnow-Who seems to have disappeared at last, the Muggles found out about us all. I suppose he really has gone, Dumbledore?\"'</li><li>'\"It certainly seems so,\"'</li><li>'\"We have much to be thankful for. Would you care for a lemon drop?\"'</li><li>'\"A what?\"'</li><li>'\"A lemon drop. They\\'re a kind of Muggle sweet I\\'m rather fond of\"'</li><li>'\"No, thank you,\"'</li><li>'\"As I say, even if You-Know-Who has gone -\"'</li><li>'\"My dear Professor, surely a sensible person like yourself can call him by his name? All this \\'You- Know-Who\\' nonsense -- for eleven years I have been trying to persuade people to call him by his proper name: Voldemort.\"'</li><li>'\"It all gets so confusing if we keep saying \\'You-Know-Who.\\' I have never seen any reason to be frightened of saying Voldemort\\'s name.　　\"'</li><li>'\"But you\\'re different. Everyone knows you\\'re the only one You-Know- oh, all right, Voldemort, was frightened of.\"'</li><li>'\"You flatter me,\"'</li><li>'\"Voldemort had powers I will never have.\"'</li><li>'\"Only because you\\'re too -- well -- noble to use them.\"'</li><li>'\"It\\'s lucky it\\'s dark. I haven\\'t blushed so much since Madam Pomfrey told me she liked my new earmuffs.\"'</li><li>'\"The owls are nothing next to the rumors that are flying around. You know what everyone\\'s saying? About why he\\'s disappeared? About what finally stopped him?\"'</li><li>'\"everyone\"'</li><li>'\"What they\\'re saying,\"'</li><li>'\"is that last night Voldemort turned up in Godric\\'s Hollow. He went to find the Potters. The rumor is that Lily and James Potter are -- are -- that they\\'re -- dead. \"'</li><li>'\"Lily and James... I can\\'t believe it... I didn\\'t want to believe it... Oh, Albus...\"'</li><li>'\"I know... I know...\"'</li><li>'\"That\\'s not all. They\\'re saying he tried to kill the Potter\\'s son, Harry. But -- he couldn\\'t. He couldn\\'t kill that little boy. No one knows why, or how, but they\\'re saying that when he couldn\\'t kill Harry Potter, Voldemort\\'s power somehow broke -- and that\\'s why he\\'s gone.　　Dumbledore nodded glumly.　　\"'</li><li>'\" faltered Professor McGonagall. \"'</li><li>'\"　　\"'</li><li>'\" said Dumbledore. \"'</li><li>'\"　　Professor McGonagall pulled out a lace handkerchief and dabbed at her eyes beneath her spectacles. Dumbledore gave a great sniff as he took a golden watch from his pocket and examined it. It was a very odd watch. It had twelve hands but no numbers; instead, little planets were moving around the edge. It must have made sense to Dumbledore, though, because he put it back in his pocket and said, \"'</li><li>'\"　　\"'</li><li>'\" said Professor McGonagall. \"'</li><li>'\"　　\"'</li><li>'\"　　\"'</li><li>'\" cried Professor McGonagall, jumping to her feet and pointing at number four. \"'</li><li>'\"　　\"'</li><li>'\" said Dumbledore firmly. \"'</li><li>'\"　　\"'</li><li>'\" repeated Professor McGonagall faintly, sitting back down on the wall. \"'</li><li>'\"　　\"'</li><li>'\" said Dumbledore, looking very seriously over the top of his half-moon glasses. \"'</li><li>'\"　　Professor McGonagall opened her mouth, changed her mind, swallowed, and then said, \"'</li><li>'\" She eyed his cloak suddenly as though she thought he might be hiding Harry underneath it.　　\"'</li><li>'\"　　\"'</li><li>'\"　　I would trust Hagrid with my life,\"'</li><li>'\"I\\'m not saying his heart isn\\'t in the right place,\"'</li><li>'\"but you can\\'t pretend he\\'s not careless. He does tend to -- what was that?\"'</li><li>'\"Hagrid,\"'</li><li>'\"At last. And where did you get that motorcycle?\"'</li><li>'\"Borrowed it, Professor Dumbledore, sit,\"'</li><li>'\"Young Sirius Black lent it to me. I\\'ve got him, sir.\"'</li><li>'\"No problems, were there?\"'</li><li>'\"No, sir -- house was almost destroyed, but I got him out all right before the Muggles started swarmin\\' around. He fell asleep as we was flyin\\' over Bristol.\"'</li><li>'\"Is that where -?\"'</li><li>'\"Yes,\"'</li><li>'\"He\\'ll have that scar forever.\"'</li><li>'\"Couldn\\'t you do something about it, Dumbledore?\"'</li><li>'\"Even if I could, I wouldn\\'t. Scars can come in handy. I have one myself above my left knee that is a perfect map of the London Underground. Well -- give him here, Hagrid -- we\\'d better get this over with.\"'</li><li>'\"Could I -- could I say good-bye to him, sir?\"'</li><li>'\"Shhh!\"'</li><li>'\"you\\'ll wake the Muggles!\"'</li><li>'\"S-s-sorry,\"'</li><li>'\"But I c-c-can\\'t stand it -- Lily an\\' James dead -- an\\' poor little Harry off ter live with Muggles -\"'</li><li>'\"Yes, yes, it\\'s all very sad, but get a grip on yourself, Hagrid, or we\\'ll be found,\"'</li><li>'\"Well,\"'</li><li>'\"that\\'s that. We\\'ve no business staying here. We may as well go and join the celebrations.\"'</li><li>'\"Yeah,\"'</li><li>'\"I\\'ll be takin\\' Sirius his bike back. G\\'night, Professor McGonagall -- Professor Dumbledore, sir.\"'</li><li>'\"I shall see you soon, I expect, Professor McGonagall,\"'</li><li>'\"Good luck, Harry,\"'</li></ol>\n",
       "</li>\n",
       "</ol>\n"
      ],
      "text/latex": [
       "\\begin{enumerate}\n",
       "\\item \\begin{enumerate*}\n",
       "\\item '\"Little tyke,\"'\n",
       "\\item '\"The Potters, that\\textbackslash{}'s right, that\\textbackslash{}'s what I heard yes, their son, Harry\"'\n",
       "\\item '\"Sorry,\"'\n",
       "\\item '\"Don\\textbackslash{}'t be sorry, my dear sir, for nothing could upset me today! Rejoice, for You-Know-Who has gone at last! Even Muggles like yourself should be celebrating, this happy, happy day!\"'\n",
       "\\item '\"Shoo!\"'\n",
       "\\item '\"Won\\textbackslash{}'t!\"'\n",
       "\\item '\"And finally, bird-watchers everywhere have reported that the nation\\textbackslash{}'s owls have been behaving very unusually today. Although owls normally hunt at night and are hardly ever seen in daylight, there have been hundreds of sightings of these birds flying in every direction since sunrise. Experts are unable to explain why the owls have suddenly changed their sleeping pattern.\"'\n",
       "\\item '\"Most mysterious. And now, over to Jim McGuffin with the weather. Going to be any more showers of owls tonight, Jim?\"'\n",
       "\\item '\"Well, Ted,\"'\n",
       "\\item '\"I don\\textbackslash{}'t know about that, but it\\textbackslash{}'s not only the owls that have been acting oddly today. Viewers as far apart as Kent, Yorkshire, and Dundee have been phoning in to tell me that instead of the rain I promised yesterday, they\\textbackslash{}'ve had a downpour of shooting stars! Perhaps people have been celebrating Bonfire Night early -- it\\textbackslash{}'s not until next week, folks! But I can promise a wet night tonight.\"'\n",
       "\\item '\"Er -- Petunia, dear -- you haven\\textbackslash{}'t heard from your sister lately, have you?\"'\n",
       "\\item '\"No,\"'\n",
       "\\item '\"Why?\"'\n",
       "\\item '\"Funny stuff on the news,\"'\n",
       "\\item '\"Owls... shooting stars... and there were a lot of funny-looking people in town today...\"'\n",
       "\\item '\"So?\"'\n",
       "\\item '\"Well, I just thought... maybe... it was something to do with... you know... her crowd.\"'\n",
       "\\item '\"Potter.\"'\n",
       "\\item '\"Their son -- he\\textbackslash{}'d be about Dudley\\textbackslash{}'s age now, wouldn\\textbackslash{}'t he?\"'\n",
       "\\item '\"I suppose so,\"'\n",
       "\\item '\"What\\textbackslash{}'s his name again? Howard, isn\\textbackslash{}'t it?\"'\n",
       "\\item '\"Harry. Nasty, common name, if you ask me.\"'\n",
       "\\item '\"Oh, yes,\"'\n",
       "\\item '\"Yes, I quite agree.\"'\n",
       "\\item '\"I should have known.\"'\n",
       "\\item '\"Fancy seeing you here, Professor McGonagall.\"'\n",
       "\\item '\"How did you know it was me?\"'\n",
       "\\item '\"My dear Professor, I \\textbackslash{}'ve never seen a cat sit so stiffly.\"'\n",
       "\\item '\"You\\textbackslash{}'d be stiff if you\\textbackslash{}'d been sitting on a brick wall all day,\"'\n",
       "\\item '\"All day? When you could have been celebrating? I must have passed a dozen feasts and parties on my way here.\"'\n",
       "\\item '\"Oh yes, everyone\\textbackslash{}'s celebrating, all right,\"'\n",
       "\\item '\"You\\textbackslash{}'d think they\\textbackslash{}'d be a bit more careful, but no -- even the Muggles have noticed something\\textbackslash{}'s going on. It was on their news.\"'\n",
       "\\item '\"I heard it. Flocks of owls... shooting stars.... Well, they\\textbackslash{}'re not completely stupid. They were bound to notice something. Shooting stars down in Kent -- I\\textbackslash{}'ll bet that was Dedalus Diggle. He never had much sense.\"'\n",
       "\\item '\"You can\\textbackslash{}'t blame them,\"'\n",
       "\\item '\"We\\textbackslash{}'ve had precious little to celebrate for eleven years.\"'\n",
       "\\item '\"I know that,\"'\n",
       "\\item '\"But that\\textbackslash{}'s no reason to lose our heads. People are being downright careless, out on the streets in broad daylight, not even dressed in Muggle clothes, swapping rumors.\"'\n",
       "\\item '\"A fine thing it would be if, on the very day YouKnow-Who seems to have disappeared at last, the Muggles found out about us all. I suppose he really has gone, Dumbledore?\"'\n",
       "\\item '\"It certainly seems so,\"'\n",
       "\\item '\"We have much to be thankful for. Would you care for a lemon drop?\"'\n",
       "\\item '\"A what?\"'\n",
       "\\item '\"A lemon drop. They\\textbackslash{}'re a kind of Muggle sweet I\\textbackslash{}'m rather fond of\"'\n",
       "\\item '\"No, thank you,\"'\n",
       "\\item '\"As I say, even if You-Know-Who has gone -\"'\n",
       "\\item '\"My dear Professor, surely a sensible person like yourself can call him by his name? All this \\textbackslash{}'You- Know-Who\\textbackslash{}' nonsense -- for eleven years I have been trying to persuade people to call him by his proper name: Voldemort.\"'\n",
       "\\item '\"It all gets so confusing if we keep saying \\textbackslash{}'You-Know-Who.\\textbackslash{}' I have never seen any reason to be frightened of saying Voldemort\\textbackslash{}'s name.　　\"'\n",
       "\\item '\"But you\\textbackslash{}'re different. Everyone knows you\\textbackslash{}'re the only one You-Know- oh, all right, Voldemort, was frightened of.\"'\n",
       "\\item '\"You flatter me,\"'\n",
       "\\item '\"Voldemort had powers I will never have.\"'\n",
       "\\item '\"Only because you\\textbackslash{}'re too -- well -- noble to use them.\"'\n",
       "\\item '\"It\\textbackslash{}'s lucky it\\textbackslash{}'s dark. I haven\\textbackslash{}'t blushed so much since Madam Pomfrey told me she liked my new earmuffs.\"'\n",
       "\\item '\"The owls are nothing next to the rumors that are flying around. You know what everyone\\textbackslash{}'s saying? About why he\\textbackslash{}'s disappeared? About what finally stopped him?\"'\n",
       "\\item '\"everyone\"'\n",
       "\\item '\"What they\\textbackslash{}'re saying,\"'\n",
       "\\item '\"is that last night Voldemort turned up in Godric\\textbackslash{}'s Hollow. He went to find the Potters. The rumor is that Lily and James Potter are -- are -- that they\\textbackslash{}'re -- dead. \"'\n",
       "\\item '\"Lily and James... I can\\textbackslash{}'t believe it... I didn\\textbackslash{}'t want to believe it... Oh, Albus...\"'\n",
       "\\item '\"I know... I know...\"'\n",
       "\\item '\"That\\textbackslash{}'s not all. They\\textbackslash{}'re saying he tried to kill the Potter\\textbackslash{}'s son, Harry. But -- he couldn\\textbackslash{}'t. He couldn\\textbackslash{}'t kill that little boy. No one knows why, or how, but they\\textbackslash{}'re saying that when he couldn\\textbackslash{}'t kill Harry Potter, Voldemort\\textbackslash{}'s power somehow broke -- and that\\textbackslash{}'s why he\\textbackslash{}'s gone.　　Dumbledore nodded glumly.　　\"'\n",
       "\\item '\" faltered Professor McGonagall. \"'\n",
       "\\item '\"　　\"'\n",
       "\\item '\" said Dumbledore. \"'\n",
       "\\item '\"　　Professor McGonagall pulled out a lace handkerchief and dabbed at her eyes beneath her spectacles. Dumbledore gave a great sniff as he took a golden watch from his pocket and examined it. It was a very odd watch. It had twelve hands but no numbers; instead, little planets were moving around the edge. It must have made sense to Dumbledore, though, because he put it back in his pocket and said, \"'\n",
       "\\item '\"　　\"'\n",
       "\\item '\" said Professor McGonagall. \"'\n",
       "\\item '\"　　\"'\n",
       "\\item '\"　　\"'\n",
       "\\item '\" cried Professor McGonagall, jumping to her feet and pointing at number four. \"'\n",
       "\\item '\"　　\"'\n",
       "\\item '\" said Dumbledore firmly. \"'\n",
       "\\item '\"　　\"'\n",
       "\\item '\" repeated Professor McGonagall faintly, sitting back down on the wall. \"'\n",
       "\\item '\"　　\"'\n",
       "\\item '\" said Dumbledore, looking very seriously over the top of his half-moon glasses. \"'\n",
       "\\item '\"　　Professor McGonagall opened her mouth, changed her mind, swallowed, and then said, \"'\n",
       "\\item '\" She eyed his cloak suddenly as though she thought he might be hiding Harry underneath it.　　\"'\n",
       "\\item '\"　　\"'\n",
       "\\item '\"　　I would trust Hagrid with my life,\"'\n",
       "\\item '\"I\\textbackslash{}'m not saying his heart isn\\textbackslash{}'t in the right place,\"'\n",
       "\\item '\"but you can\\textbackslash{}'t pretend he\\textbackslash{}'s not careless. He does tend to -- what was that?\"'\n",
       "\\item '\"Hagrid,\"'\n",
       "\\item '\"At last. And where did you get that motorcycle?\"'\n",
       "\\item '\"Borrowed it, Professor Dumbledore, sit,\"'\n",
       "\\item '\"Young Sirius Black lent it to me. I\\textbackslash{}'ve got him, sir.\"'\n",
       "\\item '\"No problems, were there?\"'\n",
       "\\item '\"No, sir -- house was almost destroyed, but I got him out all right before the Muggles started swarmin\\textbackslash{}' around. He fell asleep as we was flyin\\textbackslash{}' over Bristol.\"'\n",
       "\\item '\"Is that where -?\"'\n",
       "\\item '\"Yes,\"'\n",
       "\\item '\"He\\textbackslash{}'ll have that scar forever.\"'\n",
       "\\item '\"Couldn\\textbackslash{}'t you do something about it, Dumbledore?\"'\n",
       "\\item '\"Even if I could, I wouldn\\textbackslash{}'t. Scars can come in handy. I have one myself above my left knee that is a perfect map of the London Underground. Well -- give him here, Hagrid -- we\\textbackslash{}'d better get this over with.\"'\n",
       "\\item '\"Could I -- could I say good-bye to him, sir?\"'\n",
       "\\item '\"Shhh!\"'\n",
       "\\item '\"you\\textbackslash{}'ll wake the Muggles!\"'\n",
       "\\item '\"S-s-sorry,\"'\n",
       "\\item '\"But I c-c-can\\textbackslash{}'t stand it -- Lily an\\textbackslash{}' James dead -- an\\textbackslash{}' poor little Harry off ter live with Muggles -\"'\n",
       "\\item '\"Yes, yes, it\\textbackslash{}'s all very sad, but get a grip on yourself, Hagrid, or we\\textbackslash{}'ll be found,\"'\n",
       "\\item '\"Well,\"'\n",
       "\\item '\"that\\textbackslash{}'s that. We\\textbackslash{}'ve no business staying here. We may as well go and join the celebrations.\"'\n",
       "\\item '\"Yeah,\"'\n",
       "\\item '\"I\\textbackslash{}'ll be takin\\textbackslash{}' Sirius his bike back. G\\textbackslash{}'night, Professor McGonagall -- Professor Dumbledore, sir.\"'\n",
       "\\item '\"I shall see you soon, I expect, Professor McGonagall,\"'\n",
       "\\item '\"Good luck, Harry,\"'\n",
       "\\end{enumerate*}\n",
       "\n",
       "\\end{enumerate}\n"
      ],
      "text/markdown": [
       "1. 1. '\"Little tyke,\"'\n",
       "2. '\"The Potters, that\\'s right, that\\'s what I heard yes, their son, Harry\"'\n",
       "3. '\"Sorry,\"'\n",
       "4. '\"Don\\'t be sorry, my dear sir, for nothing could upset me today! Rejoice, for You-Know-Who has gone at last! Even Muggles like yourself should be celebrating, this happy, happy day!\"'\n",
       "5. '\"Shoo!\"'\n",
       "6. '\"Won\\'t!\"'\n",
       "7. '\"And finally, bird-watchers everywhere have reported that the nation\\'s owls have been behaving very unusually today. Although owls normally hunt at night and are hardly ever seen in daylight, there have been hundreds of sightings of these birds flying in every direction since sunrise. Experts are unable to explain why the owls have suddenly changed their sleeping pattern.\"'\n",
       "8. '\"Most mysterious. And now, over to Jim McGuffin with the weather. Going to be any more showers of owls tonight, Jim?\"'\n",
       "9. '\"Well, Ted,\"'\n",
       "10. '\"I don\\'t know about that, but it\\'s not only the owls that have been acting oddly today. Viewers as far apart as Kent, Yorkshire, and Dundee have been phoning in to tell me that instead of the rain I promised yesterday, they\\'ve had a downpour of shooting stars! Perhaps people have been celebrating Bonfire Night early -- it\\'s not until next week, folks! But I can promise a wet night tonight.\"'\n",
       "11. '\"Er -- Petunia, dear -- you haven\\'t heard from your sister lately, have you?\"'\n",
       "12. '\"No,\"'\n",
       "13. '\"Why?\"'\n",
       "14. '\"Funny stuff on the news,\"'\n",
       "15. '\"Owls... shooting stars... and there were a lot of funny-looking people in town today...\"'\n",
       "16. '\"So?\"'\n",
       "17. '\"Well, I just thought... maybe... it was something to do with... you know... her crowd.\"'\n",
       "18. '\"Potter.\"'\n",
       "19. '\"Their son -- he\\'d be about Dudley\\'s age now, wouldn\\'t he?\"'\n",
       "20. '\"I suppose so,\"'\n",
       "21. '\"What\\'s his name again? Howard, isn\\'t it?\"'\n",
       "22. '\"Harry. Nasty, common name, if you ask me.\"'\n",
       "23. '\"Oh, yes,\"'\n",
       "24. '\"Yes, I quite agree.\"'\n",
       "25. '\"I should have known.\"'\n",
       "26. '\"Fancy seeing you here, Professor McGonagall.\"'\n",
       "27. '\"How did you know it was me?\"'\n",
       "28. '\"My dear Professor, I \\'ve never seen a cat sit so stiffly.\"'\n",
       "29. '\"You\\'d be stiff if you\\'d been sitting on a brick wall all day,\"'\n",
       "30. '\"All day? When you could have been celebrating? I must have passed a dozen feasts and parties on my way here.\"'\n",
       "31. '\"Oh yes, everyone\\'s celebrating, all right,\"'\n",
       "32. '\"You\\'d think they\\'d be a bit more careful, but no -- even the Muggles have noticed something\\'s going on. It was on their news.\"'\n",
       "33. '\"I heard it. Flocks of owls... shooting stars.... Well, they\\'re not completely stupid. They were bound to notice something. Shooting stars down in Kent -- I\\'ll bet that was Dedalus Diggle. He never had much sense.\"'\n",
       "34. '\"You can\\'t blame them,\"'\n",
       "35. '\"We\\'ve had precious little to celebrate for eleven years.\"'\n",
       "36. '\"I know that,\"'\n",
       "37. '\"But that\\'s no reason to lose our heads. People are being downright careless, out on the streets in broad daylight, not even dressed in Muggle clothes, swapping rumors.\"'\n",
       "38. '\"A fine thing it would be if, on the very day YouKnow-Who seems to have disappeared at last, the Muggles found out about us all. I suppose he really has gone, Dumbledore?\"'\n",
       "39. '\"It certainly seems so,\"'\n",
       "40. '\"We have much to be thankful for. Would you care for a lemon drop?\"'\n",
       "41. '\"A what?\"'\n",
       "42. '\"A lemon drop. They\\'re a kind of Muggle sweet I\\'m rather fond of\"'\n",
       "43. '\"No, thank you,\"'\n",
       "44. '\"As I say, even if You-Know-Who has gone -\"'\n",
       "45. '\"My dear Professor, surely a sensible person like yourself can call him by his name? All this \\'You- Know-Who\\' nonsense -- for eleven years I have been trying to persuade people to call him by his proper name: Voldemort.\"'\n",
       "46. '\"It all gets so confusing if we keep saying \\'You-Know-Who.\\' I have never seen any reason to be frightened of saying Voldemort\\'s name.　　\"'\n",
       "47. '\"But you\\'re different. Everyone knows you\\'re the only one You-Know- oh, all right, Voldemort, was frightened of.\"'\n",
       "48. '\"You flatter me,\"'\n",
       "49. '\"Voldemort had powers I will never have.\"'\n",
       "50. '\"Only because you\\'re too -- well -- noble to use them.\"'\n",
       "51. '\"It\\'s lucky it\\'s dark. I haven\\'t blushed so much since Madam Pomfrey told me she liked my new earmuffs.\"'\n",
       "52. '\"The owls are nothing next to the rumors that are flying around. You know what everyone\\'s saying? About why he\\'s disappeared? About what finally stopped him?\"'\n",
       "53. '\"everyone\"'\n",
       "54. '\"What they\\'re saying,\"'\n",
       "55. '\"is that last night Voldemort turned up in Godric\\'s Hollow. He went to find the Potters. The rumor is that Lily and James Potter are -- are -- that they\\'re -- dead. \"'\n",
       "56. '\"Lily and James... I can\\'t believe it... I didn\\'t want to believe it... Oh, Albus...\"'\n",
       "57. '\"I know... I know...\"'\n",
       "58. '\"That\\'s not all. They\\'re saying he tried to kill the Potter\\'s son, Harry. But -- he couldn\\'t. He couldn\\'t kill that little boy. No one knows why, or how, but they\\'re saying that when he couldn\\'t kill Harry Potter, Voldemort\\'s power somehow broke -- and that\\'s why he\\'s gone.　　Dumbledore nodded glumly.　　\"'\n",
       "59. '\" faltered Professor McGonagall. \"'\n",
       "60. '\"　　\"'\n",
       "61. '\" said Dumbledore. \"'\n",
       "62. '\"　　Professor McGonagall pulled out a lace handkerchief and dabbed at her eyes beneath her spectacles. Dumbledore gave a great sniff as he took a golden watch from his pocket and examined it. It was a very odd watch. It had twelve hands but no numbers; instead, little planets were moving around the edge. It must have made sense to Dumbledore, though, because he put it back in his pocket and said, \"'\n",
       "63. '\"　　\"'\n",
       "64. '\" said Professor McGonagall. \"'\n",
       "65. '\"　　\"'\n",
       "66. '\"　　\"'\n",
       "67. '\" cried Professor McGonagall, jumping to her feet and pointing at number four. \"'\n",
       "68. '\"　　\"'\n",
       "69. '\" said Dumbledore firmly. \"'\n",
       "70. '\"　　\"'\n",
       "71. '\" repeated Professor McGonagall faintly, sitting back down on the wall. \"'\n",
       "72. '\"　　\"'\n",
       "73. '\" said Dumbledore, looking very seriously over the top of his half-moon glasses. \"'\n",
       "74. '\"　　Professor McGonagall opened her mouth, changed her mind, swallowed, and then said, \"'\n",
       "75. '\" She eyed his cloak suddenly as though she thought he might be hiding Harry underneath it.　　\"'\n",
       "76. '\"　　\"'\n",
       "77. '\"　　I would trust Hagrid with my life,\"'\n",
       "78. '\"I\\'m not saying his heart isn\\'t in the right place,\"'\n",
       "79. '\"but you can\\'t pretend he\\'s not careless. He does tend to -- what was that?\"'\n",
       "80. '\"Hagrid,\"'\n",
       "81. '\"At last. And where did you get that motorcycle?\"'\n",
       "82. '\"Borrowed it, Professor Dumbledore, sit,\"'\n",
       "83. '\"Young Sirius Black lent it to me. I\\'ve got him, sir.\"'\n",
       "84. '\"No problems, were there?\"'\n",
       "85. '\"No, sir -- house was almost destroyed, but I got him out all right before the Muggles started swarmin\\' around. He fell asleep as we was flyin\\' over Bristol.\"'\n",
       "86. '\"Is that where -?\"'\n",
       "87. '\"Yes,\"'\n",
       "88. '\"He\\'ll have that scar forever.\"'\n",
       "89. '\"Couldn\\'t you do something about it, Dumbledore?\"'\n",
       "90. '\"Even if I could, I wouldn\\'t. Scars can come in handy. I have one myself above my left knee that is a perfect map of the London Underground. Well -- give him here, Hagrid -- we\\'d better get this over with.\"'\n",
       "91. '\"Could I -- could I say good-bye to him, sir?\"'\n",
       "92. '\"Shhh!\"'\n",
       "93. '\"you\\'ll wake the Muggles!\"'\n",
       "94. '\"S-s-sorry,\"'\n",
       "95. '\"But I c-c-can\\'t stand it -- Lily an\\' James dead -- an\\' poor little Harry off ter live with Muggles -\"'\n",
       "96. '\"Yes, yes, it\\'s all very sad, but get a grip on yourself, Hagrid, or we\\'ll be found,\"'\n",
       "97. '\"Well,\"'\n",
       "98. '\"that\\'s that. We\\'ve no business staying here. We may as well go and join the celebrations.\"'\n",
       "99. '\"Yeah,\"'\n",
       "100. '\"I\\'ll be takin\\' Sirius his bike back. G\\'night, Professor McGonagall -- Professor Dumbledore, sir.\"'\n",
       "101. '\"I shall see you soon, I expect, Professor McGonagall,\"'\n",
       "102. '\"Good luck, Harry,\"'\n",
       "\n",
       "\n",
       "\n",
       "\n",
       "\n"
      ],
      "text/plain": [
       "[[1]]\n",
       "  [1] \"\\\"Little tyke,\\\"\"                                                                                                                                                                                                                                                                                                                                                                                                    \n",
       "  [2] \"\\\"The Potters, that's right, that's what I heard yes, their son, Harry\\\"\"                                                                                                                                                                                                                                                                                                                                            \n",
       "  [3] \"\\\"Sorry,\\\"\"                                                                                                                                                                                                                                                                                                                                                                                                          \n",
       "  [4] \"\\\"Don't be sorry, my dear sir, for nothing could upset me today! Rejoice, for You-Know-Who has gone at last! Even Muggles like yourself should be celebrating, this happy, happy day!\\\"\"                                                                                                                                                                                                                             \n",
       "  [5] \"\\\"Shoo!\\\"\"                                                                                                                                                                                                                                                                                                                                                                                                           \n",
       "  [6] \"\\\"Won't!\\\"\"                                                                                                                                                                                                                                                                                                                                                                                                          \n",
       "  [7] \"\\\"And finally, bird-watchers everywhere have reported that the nation's owls have been behaving very unusually today. Although owls normally hunt at night and are hardly ever seen in daylight, there have been hundreds of sightings of these birds flying in every direction since sunrise. Experts are unable to explain why the owls have suddenly changed their sleeping pattern.\\\"\"                           \n",
       "  [8] \"\\\"Most mysterious. And now, over to Jim McGuffin with the weather. Going to be any more showers of owls tonight, Jim?\\\"\"                                                                                                                                                                                                                                                                                             \n",
       "  [9] \"\\\"Well, Ted,\\\"\"                                                                                                                                                                                                                                                                                                                                                                                                      \n",
       " [10] \"\\\"I don't know about that, but it's not only the owls that have been acting oddly today. Viewers as far apart as Kent, Yorkshire, and Dundee have been phoning in to tell me that instead of the rain I promised yesterday, they've had a downpour of shooting stars! Perhaps people have been celebrating Bonfire Night early -- it's not until next week, folks! But I can promise a wet night tonight.\\\"\"         \n",
       " [11] \"\\\"Er -- Petunia, dear -- you haven't heard from your sister lately, have you?\\\"\"                                                                                                                                                                                                                                                                                                                                     \n",
       " [12] \"\\\"No,\\\"\"                                                                                                                                                                                                                                                                                                                                                                                                             \n",
       " [13] \"\\\"Why?\\\"\"                                                                                                                                                                                                                                                                                                                                                                                                            \n",
       " [14] \"\\\"Funny stuff on the news,\\\"\"                                                                                                                                                                                                                                                                                                                                                                                        \n",
       " [15] \"\\\"Owls... shooting stars... and there were a lot of funny-looking people in town today...\\\"\"                                                                                                                                                                                                                                                                                                                         \n",
       " [16] \"\\\"So?\\\"\"                                                                                                                                                                                                                                                                                                                                                                                                             \n",
       " [17] \"\\\"Well, I just thought... maybe... it was something to do with... you know... her crowd.\\\"\"                                                                                                                                                                                                                                                                                                                          \n",
       " [18] \"\\\"Potter.\\\"\"                                                                                                                                                                                                                                                                                                                                                                                                         \n",
       " [19] \"\\\"Their son -- he'd be about Dudley's age now, wouldn't he?\\\"\"                                                                                                                                                                                                                                                                                                                                                       \n",
       " [20] \"\\\"I suppose so,\\\"\"                                                                                                                                                                                                                                                                                                                                                                                                   \n",
       " [21] \"\\\"What's his name again? Howard, isn't it?\\\"\"                                                                                                                                                                                                                                                                                                                                                                        \n",
       " [22] \"\\\"Harry. Nasty, common name, if you ask me.\\\"\"                                                                                                                                                                                                                                                                                                                                                                       \n",
       " [23] \"\\\"Oh, yes,\\\"\"                                                                                                                                                                                                                                                                                                                                                                                                        \n",
       " [24] \"\\\"Yes, I quite agree.\\\"\"                                                                                                                                                                                                                                                                                                                                                                                             \n",
       " [25] \"\\\"I should have known.\\\"\"                                                                                                                                                                                                                                                                                                                                                                                            \n",
       " [26] \"\\\"Fancy seeing you here, Professor McGonagall.\\\"\"                                                                                                                                                                                                                                                                                                                                                                    \n",
       " [27] \"\\\"How did you know it was me?\\\"\"                                                                                                                                                                                                                                                                                                                                                                                     \n",
       " [28] \"\\\"My dear Professor, I 've never seen a cat sit so stiffly.\\\"\"                                                                                                                                                                                                                                                                                                                                                       \n",
       " [29] \"\\\"You'd be stiff if you'd been sitting on a brick wall all day,\\\"\"                                                                                                                                                                                                                                                                                                                                                   \n",
       " [30] \"\\\"All day? When you could have been celebrating? I must have passed a dozen feasts and parties on my way here.\\\"\"                                                                                                                                                                                                                                                                                                    \n",
       " [31] \"\\\"Oh yes, everyone's celebrating, all right,\\\"\"                                                                                                                                                                                                                                                                                                                                                                      \n",
       " [32] \"\\\"You'd think they'd be a bit more careful, but no -- even the Muggles have noticed something's going on. It was on their news.\\\"\"                                                                                                                                                                                                                                                                                   \n",
       " [33] \"\\\"I heard it. Flocks of owls... shooting stars.... Well, they're not completely stupid. They were bound to notice something. Shooting stars down in Kent -- I'll bet that was Dedalus Diggle. He never had much sense.\\\"\"                                                                                                                                                                                            \n",
       " [34] \"\\\"You can't blame them,\\\"\"                                                                                                                                                                                                                                                                                                                                                                                           \n",
       " [35] \"\\\"We've had precious little to celebrate for eleven years.\\\"\"                                                                                                                                                                                                                                                                                                                                                        \n",
       " [36] \"\\\"I know that,\\\"\"                                                                                                                                                                                                                                                                                                                                                                                                    \n",
       " [37] \"\\\"But that's no reason to lose our heads. People are being downright careless, out on the streets in broad daylight, not even dressed in Muggle clothes, swapping rumors.\\\"\"                                                                                                                                                                                                                                         \n",
       " [38] \"\\\"A fine thing it would be if, on the very day YouKnow-Who seems to have disappeared at last, the Muggles found out about us all. I suppose he really has gone, Dumbledore?\\\"\"                                                                                                                                                                                                                                       \n",
       " [39] \"\\\"It certainly seems so,\\\"\"                                                                                                                                                                                                                                                                                                                                                                                          \n",
       " [40] \"\\\"We have much to be thankful for. Would you care for a lemon drop?\\\"\"                                                                                                                                                                                                                                                                                                                                               \n",
       " [41] \"\\\"A what?\\\"\"                                                                                                                                                                                                                                                                                                                                                                                                         \n",
       " [42] \"\\\"A lemon drop. They're a kind of Muggle sweet I'm rather fond of\\\"\"                                                                                                                                                                                                                                                                                                                                                 \n",
       " [43] \"\\\"No, thank you,\\\"\"                                                                                                                                                                                                                                                                                                                                                                                                  \n",
       " [44] \"\\\"As I say, even if You-Know-Who has gone -\\\"\"                                                                                                                                                                                                                                                                                                                                                                       \n",
       " [45] \"\\\"My dear Professor, surely a sensible person like yourself can call him by his name? All this 'You- Know-Who' nonsense -- for eleven years I have been trying to persuade people to call him by his proper name: Voldemort.\\\"\"                                                                                                                                                                                      \n",
       " [46] \"\\\"It all gets so confusing if we keep saying 'You-Know-Who.' I have never seen any reason to be frightened of saying Voldemort's name.　　\\\"\"                                                                                                                                                                                                                                                                        \n",
       " [47] \"\\\"But you're different. Everyone knows you're the only one You-Know- oh, all right, Voldemort, was frightened of.\\\"\"                                                                                                                                                                                                                                                                                                 \n",
       " [48] \"\\\"You flatter me,\\\"\"                                                                                                                                                                                                                                                                                                                                                                                                 \n",
       " [49] \"\\\"Voldemort had powers I will never have.\\\"\"                                                                                                                                                                                                                                                                                                                                                                         \n",
       " [50] \"\\\"Only because you're too -- well -- noble to use them.\\\"\"                                                                                                                                                                                                                                                                                                                                                           \n",
       " [51] \"\\\"It's lucky it's dark. I haven't blushed so much since Madam Pomfrey told me she liked my new earmuffs.\\\"\"                                                                                                                                                                                                                                                                                                          \n",
       " [52] \"\\\"The owls are nothing next to the rumors that are flying around. You know what everyone's saying? About why he's disappeared? About what finally stopped him?\\\"\"                                                                                                                                                                                                                                                    \n",
       " [53] \"\\\"everyone\\\"\"                                                                                                                                                                                                                                                                                                                                                                                                        \n",
       " [54] \"\\\"What they're saying,\\\"\"                                                                                                                                                                                                                                                                                                                                                                                            \n",
       " [55] \"\\\"is that last night Voldemort turned up in Godric's Hollow. He went to find the Potters. The rumor is that Lily and James Potter are -- are -- that they're -- dead. \\\"\"                                                                                                                                                                                                                                            \n",
       " [56] \"\\\"Lily and James... I can't believe it... I didn't want to believe it... Oh, Albus...\\\"\"                                                                                                                                                                                                                                                                                                                             \n",
       " [57] \"\\\"I know... I know...\\\"\"                                                                                                                                                                                                                                                                                                                                                                                             \n",
       " [58] \"\\\"That's not all. They're saying he tried to kill the Potter's son, Harry. But -- he couldn't. He couldn't kill that little boy. No one knows why, or how, but they're saying that when he couldn't kill Harry Potter, Voldemort's power somehow broke -- and that's why he's gone.　　Dumbledore nodded glumly.　　\\\"\"                                                                                              \n",
       " [59] \"\\\" faltered Professor McGonagall. \\\"\"                                                                                                                                                                                                                                                                                                                                                                                \n",
       " [60] \"\\\"　　\\\"\"                                                                                                                                                                                                                                                                                                                                                                                                            \n",
       " [61] \"\\\" said Dumbledore. \\\"\"                                                                                                                                                                                                                                                                                                                                                                                              \n",
       " [62] \"\\\"　　Professor McGonagall pulled out a lace handkerchief and dabbed at her eyes beneath her spectacles. Dumbledore gave a great sniff as he took a golden watch from his pocket and examined it. It was a very odd watch. It had twelve hands but no numbers; instead, little planets were moving around the edge. It must have made sense to Dumbledore, though, because he put it back in his pocket and said, \\\"\"\n",
       " [63] \"\\\"　　\\\"\"                                                                                                                                                                                                                                                                                                                                                                                                            \n",
       " [64] \"\\\" said Professor McGonagall. \\\"\"                                                                                                                                                                                                                                                                                                                                                                                    \n",
       " [65] \"\\\"　　\\\"\"                                                                                                                                                                                                                                                                                                                                                                                                            \n",
       " [66] \"\\\"　　\\\"\"                                                                                                                                                                                                                                                                                                                                                                                                            \n",
       " [67] \"\\\" cried Professor McGonagall, jumping to her feet and pointing at number four. \\\"\"                                                                                                                                                                                                                                                                                                                                  \n",
       " [68] \"\\\"　　\\\"\"                                                                                                                                                                                                                                                                                                                                                                                                            \n",
       " [69] \"\\\" said Dumbledore firmly. \\\"\"                                                                                                                                                                                                                                                                                                                                                                                       \n",
       " [70] \"\\\"　　\\\"\"                                                                                                                                                                                                                                                                                                                                                                                                            \n",
       " [71] \"\\\" repeated Professor McGonagall faintly, sitting back down on the wall. \\\"\"                                                                                                                                                                                                                                                                                                                                         \n",
       " [72] \"\\\"　　\\\"\"                                                                                                                                                                                                                                                                                                                                                                                                            \n",
       " [73] \"\\\" said Dumbledore, looking very seriously over the top of his half-moon glasses. \\\"\"                                                                                                                                                                                                                                                                                                                                \n",
       " [74] \"\\\"　　Professor McGonagall opened her mouth, changed her mind, swallowed, and then said, \\\"\"                                                                                                                                                                                                                                                                                                                         \n",
       " [75] \"\\\" She eyed his cloak suddenly as though she thought he might be hiding Harry underneath it.　　\\\"\"                                                                                                                                                                                                                                                                                                                  \n",
       " [76] \"\\\"　　\\\"\"                                                                                                                                                                                                                                                                                                                                                                                                            \n",
       " [77] \"\\\"　　I would trust Hagrid with my life,\\\"\"                                                                                                                                                                                                                                                                                                                                                                          \n",
       " [78] \"\\\"I'm not saying his heart isn't in the right place,\\\"\"                                                                                                                                                                                                                                                                                                                                                              \n",
       " [79] \"\\\"but you can't pretend he's not careless. He does tend to -- what was that?\\\"\"                                                                                                                                                                                                                                                                                                                                      \n",
       " [80] \"\\\"Hagrid,\\\"\"                                                                                                                                                                                                                                                                                                                                                                                                         \n",
       " [81] \"\\\"At last. And where did you get that motorcycle?\\\"\"                                                                                                                                                                                                                                                                                                                                                                 \n",
       " [82] \"\\\"Borrowed it, Professor Dumbledore, sit,\\\"\"                                                                                                                                                                                                                                                                                                                                                                         \n",
       " [83] \"\\\"Young Sirius Black lent it to me. I've got him, sir.\\\"\"                                                                                                                                                                                                                                                                                                                                                            \n",
       " [84] \"\\\"No problems, were there?\\\"\"                                                                                                                                                                                                                                                                                                                                                                                        \n",
       " [85] \"\\\"No, sir -- house was almost destroyed, but I got him out all right before the Muggles started swarmin' around. He fell asleep as we was flyin' over Bristol.\\\"\"                                                                                                                                                                                                                                                    \n",
       " [86] \"\\\"Is that where -?\\\"\"                                                                                                                                                                                                                                                                                                                                                                                                \n",
       " [87] \"\\\"Yes,\\\"\"                                                                                                                                                                                                                                                                                                                                                                                                            \n",
       " [88] \"\\\"He'll have that scar forever.\\\"\"                                                                                                                                                                                                                                                                                                                                                                                   \n",
       " [89] \"\\\"Couldn't you do something about it, Dumbledore?\\\"\"                                                                                                                                                                                                                                                                                                                                                                 \n",
       " [90] \"\\\"Even if I could, I wouldn't. Scars can come in handy. I have one myself above my left knee that is a perfect map of the London Underground. Well -- give him here, Hagrid -- we'd better get this over with.\\\"\"                                                                                                                                                                                                    \n",
       " [91] \"\\\"Could I -- could I say good-bye to him, sir?\\\"\"                                                                                                                                                                                                                                                                                                                                                                    \n",
       " [92] \"\\\"Shhh!\\\"\"                                                                                                                                                                                                                                                                                                                                                                                                           \n",
       " [93] \"\\\"you'll wake the Muggles!\\\"\"                                                                                                                                                                                                                                                                                                                                                                                        \n",
       " [94] \"\\\"S-s-sorry,\\\"\"                                                                                                                                                                                                                                                                                                                                                                                                      \n",
       " [95] \"\\\"But I c-c-can't stand it -- Lily an' James dead -- an' poor little Harry off ter live with Muggles -\\\"\"                                                                                                                                                                                                                                                                                                            \n",
       " [96] \"\\\"Yes, yes, it's all very sad, but get a grip on yourself, Hagrid, or we'll be found,\\\"\"                                                                                                                                                                                                                                                                                                                             \n",
       " [97] \"\\\"Well,\\\"\"                                                                                                                                                                                                                                                                                                                                                                                                           \n",
       " [98] \"\\\"that's that. We've no business staying here. We may as well go and join the celebrations.\\\"\"                                                                                                                                                                                                                                                                                                                       \n",
       " [99] \"\\\"Yeah,\\\"\"                                                                                                                                                                                                                                                                                                                                                                                                           \n",
       "[100] \"\\\"I'll be takin' Sirius his bike back. G'night, Professor McGonagall -- Professor Dumbledore, sir.\\\"\"                                                                                                                                                                                                                                                                                                                \n",
       "[101] \"\\\"I shall see you soon, I expect, Professor McGonagall,\\\"\"                                                                                                                                                                                                                                                                                                                                                           \n",
       "[102] \"\\\"Good luck, Harry,\\\"\"                                                                                                                                                                                                                                                                                                                                                                                               \n"
      ]
     },
     "metadata": {},
     "output_type": "display_data"
    }
   ],
   "source": [
    "# number of quotes\n",
    "\n",
    "str_extract_all(ch1, \"\\\"[^\\\"]+\\\"\")"
   ]
  },
  {
   "cell_type": "markdown",
   "metadata": {
    "slideshow": {
     "slide_type": "slide"
    }
   },
   "source": [
    "## Backreferences\n",
    "Parentheses define groups that can be referred to later in the match as `\\1`, `\\2` etc. This is called a backreference. For example:\n",
    "\n",
    "    (.)\\1\n",
    "\n",
    "will match the same character repeated twice in a row:"
   ]
  },
  {
   "cell_type": "code",
   "execution_count": 26,
   "metadata": {
    "scrolled": true
   },
   "outputs": [
    {
     "data": {
      "text/plain": [
       "\u001b[90m[1] │\u001b[39m \u001b[36m<ee>\u001b[39ml"
      ]
     },
     "metadata": {},
     "output_type": "display_data"
    }
   ],
   "source": [
    "\"eel\"  %>% str_view(\"(.)\\\\1\", match = T)"
   ]
  },
  {
   "cell_type": "markdown",
   "metadata": {
    "slideshow": {
     "slide_type": "slide"
    }
   },
   "source": [
    "## 🤔 Quiz\n",
    "\n",
    "What does this regular expression match?:\n",
    "\n",
    "```\n",
    "(..).*\\1\n",
    "```\n",
    "\n",
    "\n",
    "<ol style=\"list-style-type: upper-alpha;\">\n",
    "    <li>Any word that starts and ends with the same character, e.g. `alpha`</li>\n",
    "    <li>Any word that starts and ends with the same two characters, e.g. `church`</li>\n",
    "    <li>Any word that has two characters that are found earlier in the string, e.g. `therefore`</li>\n",
    "    <li>I hate regular expressions.</li>\n",
    "</ol>"
   ]
  },
  {
   "cell_type": "code",
   "execution_count": 74,
   "metadata": {},
   "outputs": [],
   "source": [
    "# what's it match?"
   ]
  },
  {
   "cell_type": "markdown",
   "metadata": {
    "slideshow": {
     "slide_type": "slide"
    }
   },
   "source": [
    "## Anchors\n",
    "Sometimes we want a match to occur at a particular position in the string. For example, \"all words which start with b\". For this we have the special anchor characters: `^` and `$`. The caret `^` matches the beginning of a string. The `$` matches the end."
   ]
  },
  {
   "cell_type": "code",
   "execution_count": 76,
   "metadata": {},
   "outputs": [
    {
     "data": {
      "text/html": [
       "<!doctype html>\n",
       "<html>\n",
       "\t<head>\n",
       "\t\t<meta charset=\"utf-8\">\n",
       "\t\t<script title=\"htmlwidgets\" src=\"data:application/javascript;base64,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\"></script>\n",
       "<link href=\"data:text/css;charset-utf-8;base64,LnN0cl92aWV3IHVsLCAuc3RyX3ZpZXcgbGkgewogIGxpc3Qtc3R5bGU6IG5vbmU7CiAgcGFkZGluZzogMDsKICBtYXJnaW46IDAuNWVtIDA7CiAgZm9udC1mYW1pbHk6IG1vbm9zcGFjZTsKfQoKLnN0cl92aWV3IC5tYXRjaCB7CiAgYm9yZGVyOiAxcHggc29saWQgI2NjYzsKICBiYWNrZ3JvdW5kLWNvbG9yOiAjZWVlOwp9Cg==\" rel=\"stylesheet\" />\n",
       "<script title=\"str_view-binding\" src=\"data:application/javascript;base64,SFRNTFdpZGdldHMud2lkZ2V0KHsKCiAgbmFtZTogJ3N0cl92aWV3JywKCiAgdHlwZTogJ291dHB1dCcsCgogIGluaXRpYWxpemU6IGZ1bmN0aW9uKGVsLCB3aWR0aCwgaGVpZ2h0KSB7CiAgfSwKCiAgcmVuZGVyVmFsdWU6IGZ1bmN0aW9uKGVsLCB4LCBpbnN0YW5jZSkgewogICAgZWwuaW5uZXJIVE1MID0geC5odG1sOwogIH0sCgogIHJlc2l6ZTogZnVuY3Rpb24oZWwsIHdpZHRoLCBoZWlnaHQsIGluc3RhbmNlKSB7CiAgfQoKfSk7Cg==\"></script>\n",
       "\t</head>\n",
       "\t<body>\n",
       "\t\t<div id=\"htmlwidget-0f1b612b4c31412e7ac5\" style=\"width:960px;height:30px;\" class=\"str_view html-widget\"></div>\n",
       "<script type=\"application/json\" data-for=\"htmlwidget-0f1b612b4c31412e7ac5\">{\"x\":{\"html\":\"<ul>\\n  <li>apple<\\/li>\\n  <li><span class='match'>b<\\/span>anana<\\/li>\\n  <li>pear<\\/li>\\n<\\/ul>\"},\"evals\":[],\"jsHooks\":[]}</script>\n",
       "\t</body>\n",
       "</html>\n"
      ],
      "text/plain": [
       "HTML widgets cannot be represented in plain text (need html)"
      ]
     },
     "metadata": {
      "text/html": {
       "isolated": true
      }
     },
     "output_type": "display_data"
    },
    {
     "data": {
      "text/html": [
       "<!doctype html>\n",
       "<html>\n",
       "\t<head>\n",
       "\t\t<meta charset=\"utf-8\">\n",
       "\t\t<script title=\"htmlwidgets\" src=\"data:application/javascript;base64,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\"></script>\n",
       "<link href=\"data:text/css;charset-utf-8;base64,LnN0cl92aWV3IHVsLCAuc3RyX3ZpZXcgbGkgewogIGxpc3Qtc3R5bGU6IG5vbmU7CiAgcGFkZGluZzogMDsKICBtYXJnaW46IDAuNWVtIDA7CiAgZm9udC1mYW1pbHk6IG1vbm9zcGFjZTsKfQoKLnN0cl92aWV3IC5tYXRjaCB7CiAgYm9yZGVyOiAxcHggc29saWQgI2NjYzsKICBiYWNrZ3JvdW5kLWNvbG9yOiAjZWVlOwp9Cg==\" rel=\"stylesheet\" />\n",
       "<script title=\"str_view-binding\" src=\"data:application/javascript;base64,SFRNTFdpZGdldHMud2lkZ2V0KHsKCiAgbmFtZTogJ3N0cl92aWV3JywKCiAgdHlwZTogJ291dHB1dCcsCgogIGluaXRpYWxpemU6IGZ1bmN0aW9uKGVsLCB3aWR0aCwgaGVpZ2h0KSB7CiAgfSwKCiAgcmVuZGVyVmFsdWU6IGZ1bmN0aW9uKGVsLCB4LCBpbnN0YW5jZSkgewogICAgZWwuaW5uZXJIVE1MID0geC5odG1sOwogIH0sCgogIHJlc2l6ZTogZnVuY3Rpb24oZWwsIHdpZHRoLCBoZWlnaHQsIGluc3RhbmNlKSB7CiAgfQoKfSk7Cg==\"></script>\n",
       "\t</head>\n",
       "\t<body>\n",
       "\t\t<div id=\"htmlwidget-0786e15f0c2352272138\" style=\"width:960px;height:30px;\" class=\"str_view html-widget\"></div>\n",
       "<script type=\"application/json\" data-for=\"htmlwidget-0786e15f0c2352272138\">{\"x\":{\"html\":\"<ul>\\n  <li>apple<\\/li>\\n  <li>banana<\\/li>\\n  <li>pea<span class='match'>r<\\/span><\\/li>\\n<\\/ul>\"},\"evals\":[],\"jsHooks\":[]}</script>\n",
       "\t</body>\n",
       "</html>\n"
      ],
      "text/plain": [
       "HTML widgets cannot be represented in plain text (need html)"
      ]
     },
     "metadata": {
      "text/html": {
       "isolated": true
      }
     },
     "output_type": "display_data"
    }
   ],
   "source": [
    "x <- c('apple', 'banana', 'pear')\n",
    "str_view(x, '^b')\n",
    "str_view(x, 'r$')"
   ]
  },
  {
   "cell_type": "markdown",
   "metadata": {
    "slideshow": {
     "slide_type": "slide"
    }
   },
   "source": [
    "## 🤔 Quiz\n",
    "\n",
    "What does this regular expression match?:\n",
    "\n",
    "```\n",
    "^(.).*\\\\1$\n",
    "```\n",
    "\n",
    "\n",
    "<ol style=\"list-style-type: upper-alpha;\">\n",
    "    <li>Any word that starts and ends with the same character, e.g. `alpha`</li>\n",
    "    <li>Any word that starts and ends with the same two characters, e.g. `church`</li>\n",
    "    <li>Any word that ends with a character that is found earlier in the string, e.g. `therefore`</li></li>\n",
    "    <li>I hate regular expressions.</li>\n",
    "</ol>"
   ]
  },
  {
   "cell_type": "code",
   "execution_count": 76,
   "metadata": {
    "slideshow": {
     "slide_type": "slide"
    }
   },
   "outputs": [],
   "source": [
    "# solution"
   ]
  },
  {
   "cell_type": "code",
   "execution_count": null,
   "metadata": {
    "slideshow": {
     "slide_type": "slide"
    }
   },
   "outputs": [],
   "source": [
    "### Challenge Question\n",
    "This command loads the text of Hamlet:"
   ]
  },
  {
   "cell_type": "code",
   "execution_count": 59,
   "metadata": {},
   "outputs": [
    {
     "name": "stdout",
     "output_type": "stream",
     "text": [
      "\n",
      "1604\n",
      "\n",
      "\n",
      "THE TRAGEDY OF HAMLET, PRINCE OF DENMARK\n",
      "\n",
      "\n",
      "by William Shakespeare\n",
      "\n",
      "\n",
      "\n",
      "Dramatis Personae\n",
      "\n",
      "  Claudius, King of Denmark.\n",
      "  Marcellus, Officer.\n"
     ]
    }
   ],
   "source": [
    "hamlet <- readLines(url(\"http://erdani.com/tdpl/hamlet.txt\"))\n",
    "writeLines(hamlet[1:15])"
   ]
  },
  {
   "cell_type": "code",
   "execution_count": null,
   "metadata": {
    "slideshow": {
     "slide_type": "slide"
    }
   },
   "outputs": [],
   "source": [
    "### Exercise\n",
    "\n",
    "Shakespeare used a lot of [poetic contractions](https://en.wikipedia.org/wiki/Poetic_contraction): `'tis`, `'twas`, `o'er`, etc.\n",
    "\n",
    "**Beginner** Write a regexp that matches all such contractions\n",
    "\n",
    "**Advanced** Print a frequency table of the top 10 most common."
   ]
  },
  {
   "cell_type": "code",
   "execution_count": 67,
   "metadata": {
    "slideshow": {
     "slide_type": "slide"
    }
   },
   "outputs": [
    {
     "name": "stdout",
     "output_type": "stream",
     "text": [
      "   [1] \"hamlet's\"       \"who's\"          \"'tis\"           \"'tis\"          \n",
      "   [5] \"reliev'd\"       \"appear'd\"       \"'tis\"           \"'twill\"        \n",
      "   [9] \"that's\"         \"that's\"         \"usurp'st\"       \"'tis\"          \n",
      "  [13] \"on't\"           \"frown'd\"        \"'tis\"           \"is't\"          \n",
      "  [17] \"appear'd\"       \"prick'd\"        \"dar'd\"          \"esteem'd\"      \n",
      "  [21] \"seal'd\"         \"seiz'd\"         \"return'd\"       \"design'd\"      \n",
      "  [25] \"shark'd\"        \"in't\"           \"e'en\"           \"mind's\"        \n",
      "  [29] \"neptune's\"      \"i'll\"           \"country's\"      \"'tis\"          \n",
      "  [33] \"'tis\"           \"'tis\"           \"'gainst\"        \"saviour's\"     \n",
      "  [37] \"hallow'd\"       \"o'er\"           \"let's\"          \"do't\"          \n",
      "  [41] \"brother's\"      \"'twere\"         \"barr'd\"         \"brother's\"     \n",
      "  [45] \"fail'd\"         \"nephew's\"       \"what's\"         \"is't\"          \n",
      "  [49] \"father's\"       \"seal'd\"         \"know'st\"        \"'tis\"          \n",
      "  [53] \"'seems\"         \"'tis\"           \"forc'd\"         \"'that\"         \n",
      "  [57] \"'tis\"           \"'tis\"           \"unschool'd\"     \"'tis\"          \n",
      "  [61] \"'this\"          \"'tis\"           \"unforc'd\"       \"king's\"        \n",
      "  [65] \"fix'd\"          \"'gainst\"        \"on't\"           \"'tis\"          \n",
      "  [69] \"on't\"           \"father's\"       \"mourn'd\"        \"father's\"      \n",
      "  [73] \"i'll\"           \"we'll\"          \"father's\"       \"mother's\"      \n",
      "  [77] \"bak'd\"          \"mind's\"         \"god's\"          \"encount'red\"   \n",
      "  [81] \"walk'd\"         \"oppress'd\"      \"truncheon's\"    \"distill'd\"     \n",
      "  [85] \"deliver'd\"      \"watch'd\"        \"vanish'd\"       \"'tis\"          \n",
      "  [89] \"honour'd\"       \"'tis\"           \"arm'd\"          \"arm'd\"         \n",
      "  [93] \"look'd\"         \"fix'd\"          \"amaz'd\"         \"stay'd\"        \n",
      "  [97] \"saw't\"          \"silver'd\"       \"'twill\"         \"warr'nt\"       \n",
      " [101] \"father's\"       \"i'll\"           \"conceal'd\"      \"'twixt\"        \n",
      " [105] \"i'll\"           \"father's\"       \"o'erwhelm\"      \"men's\"         \n",
      " [109] \"embark'd\"       \"weigh'd\"        \"circumscrib'd\"  \"unmast'red\"    \n",
      " [113] \"disclos'd\"      \"puff'd\"         \"stay'd\"         \"unproportion'd\"\n",
      " [117] \"hatch'd\"        \"unfledg'd\"      \"bear't\"         \"man's\"         \n",
      " [121] \"express'd\"      \"'tis\"           \"lock'd\"         \"is't\"          \n",
      " [125] \"'tis\"           \"'tis\"           \"ta'en\"          \"you'll\"        \n",
      " [129] \"importun'd\"     \"to't\"           \"swagg'ring\"     \"is't\"          \n",
      " [133] \"honour'd\"       \"traduc'd\"       \"tax'd\"          \"perform'd\"     \n",
      " [137] \"o'ergrowth\"     \"o'erleavens\"    \"nature's\"       \"fortune's\"     \n",
      " [141] \"e'il\"           \"damn'd\"         \"com'st\"         \"i'll\"          \n",
      " [145] \"canoniz'd\"      \"inurn'd\"        \"op'd\"           \"pin's\"         \n",
      " [149] \"i'll\"           \"o'er\"           \"i'll\"           \"rul'd\"         \n",
      " [153] \"lion's\"         \"call'd\"         \"i'll\"           \"i'll\"          \n",
      " [157] \"let's\"          \"'tis\"           \"let's\"          \"i'll\"          \n",
      " [161] \"sulph'rous\"     \"father's\"       \"doom'd\"         \"confin'd\"      \n",
      " [165] \"purg'd\"         \"know't\"         \"'tis\"           \"abus'd\"        \n",
      " [169] \"father's\"       \"mov'd\"          \"link'd\"         \"bark'd\"        \n",
      " [173] \"brother's\"      \"dispatch'd\"     \"unhous'led\"     \"unanel'd\"      \n",
      " [177] \"i'll\"           \"unmix'd\"        \"'adieu\"         \"sworn't\"       \n",
      " [181] \"is't\"           \"you'll\"         \"there's\"        \"he's\"          \n",
      " [185] \"i'll\"           \"there's\"        \"o'ermaster\"     \"'t\"            \n",
      " [189] \"is't\"           \"swear't\"        \"say'st\"         \"we'll\"         \n",
      " [193] \"soe'er\"         \"encumb'red\"     \"'well\"          \"'we\"           \n",
      " [197] \"'if\"            \"'there\"         \"let's\"          \"marvell's\"     \n",
      " [201] \"'twere\"         \"'i\"             \"'and\"           \"'not\"          \n",
      " [205] \"if't\"           \"he's\"           \"that's\"         \"here's\"        \n",
      " [209] \"'twere\"         \"soil'd\"         \"assur'd\"        \"'good\"         \n",
      " [213] \"'friend\"        \"'gentleman\"     \"'a\"             \"'a\"            \n",
      " [217] \"'closes\"        \"'friend\"        \"'closes\"        \"'i\"            \n",
      " [221] \"t'other\"        \"'a\"             \"o'ertook\"       \"in's\"          \n",
      " [225] \"'i\"             \"what's\"         \"unbrac'd\"       \"foul'd\"        \n",
      " [229] \"ungart'red\"     \"o'er\"           \"stay'd\"         \"rais'd\"        \n",
      " [233] \"turn'd\"         \"seem'd\"         \"fear'd\"         \"hamlet's\"      \n",
      " [237] \"father's\"       \"neighbour'd\"    \"open'd\"         \"talk'd\"        \n",
      " [241] \"king's\"         \"return'd\"       \"us'd\"           \"hamlet's\"      \n",
      " [245] \"son's\"          \"father's\"       \"o'erhasty\"      \"nephew's\"      \n",
      " [249] \"appear'd\"       \"'gainst\"        \"look'd\"         \"griev'd\"       \n",
      " [253] \"consider'd\"     \"we'll\"          \"we'll\"          \"is't\"          \n",
      " [257] \"'tis\"           \"'tis\"           \"'tis\"           \"'tis\"          \n",
      " [261] \"'tis\"           \"'to\"            \"soul's\"         \"that's\"        \n",
      " [265] \"'beautified\"    \"'in\"            \"'doubt\"         \"'o\"            \n",
      " [269] \"'thine\"         \"receiv'd\"       \"perceiv'd\"      \"play'd\"        \n",
      " [273] \"look'd\"         \"'lord\"          \"'tis\"           \"'tis\"          \n",
      " [277] \"prov'd\"         \"i'll\"           \"fall'n\"         \"i'll\"          \n",
      " [281] \"pick'd\"         \"that's\"         \"to't\"           \"suff'red\"      \n",
      " [285] \"i'll\"           \"in't\"           \"honour'd\"       \"fortune's\"     \n",
      " [289] \"world's\"        \"denmark's\"      \"'tis\"           \"'tis\"          \n",
      " [293] \"shadow's\"       \"outstretch'd\"   \"we'll\"          \"o'erhanging\"   \n",
      " [297] \"'man\"           \"follow'd\"       \"clapp'd\"        \"'em\"           \n",
      " [301] \"is't\"           \"'sblood\"        \"deceiv'd\"       \"he's\"          \n",
      " [305] \"'one\"           \"'as\"            \"'it\"            \"valanc'd\"      \n",
      " [309] \"com'st\"         \"by'r\"           \"crack'd\"        \"we'll\"         \n",
      " [313] \"e'en\"           \"to't\"           \"we'll\"          \"pleas'd\"       \n",
      " [317] \"'twas\"          \"receiv'd\"       \"call'd\"         \"in't\"          \n",
      " [321] \"lov'd\"          \"'twas\"          \"priam's\"        \"'the\"          \n",
      " [325] \"'tis\"           \"'the\"           \"smear'd\"        \"trick'd\"       \n",
      " [329] \"bak'd\"          \"lord's\"         \"o'ersized\"      \"'anon\"         \n",
      " [333] \"match'd\"        \"seem'd\"         \"mars's\"         \"forg'd\"        \n",
      " [337] \"barber's\"       \"he's\"           \"'but\"           \"'the\"          \n",
      " [341] \"that's\"         \"'mobled\"        \"'run\"           \"threat'ning\"   \n",
      " [345] \"o'erteemed\"     \"steep'd\"        \"'gainst\"        \"fortune's\"     \n",
      " [349] \"pronounc'd\"     \"husband's\"      \"whe'r\"          \"turn'd\"        \n",
      " [353] \"in's\"           \"'tis\"           \"i'll\"           \"bestow'd\"      \n",
      " [357] \"us'd\"           \"god's\"          \"we'll\"          \"'the\"          \n",
      " [361] \"we'll\"          \"ha't\"           \"in't\"           \"i'll\"          \n",
      " [365] \"wann'd\"         \"in's\"           \"what's\"         \"damn'd\"        \n",
      " [369] \"'swounds\"       \"liver'd\"        \"slave's\"        \"murther'd\"     \n",
      " [373] \"upon't\"         \"proclaim'd\"     \"i'll\"           \"i'll\"          \n",
      " [377] \"i'll\"           \"i'll\"           \"play's\"         \"i'll\"          \n",
      " [381] \"o'erraught\"     \"'tis\"           \"beseech'd\"      \"inclin'd\"      \n",
      " [385] \"'twere\"         \"behav'd\"        \"if't\"           \"hamlet's\"      \n",
      " [389] \"'tis\"           \"prov'd\"         \"devotion's\"     \"o'er\"          \n",
      " [393] \"'tis\"           \"harlot's\"       \"plast'ring\"     \"let's\"         \n",
      " [397] \"'tis\"           \"'tis\"           \"wish'd\"         \"there's\"       \n",
      " [401] \"there's\"        \"oppressor's\"    \"man's\"          \"despis'd\"      \n",
      " [405] \"law's\"          \"undiscover'd\"   \"o'er\"           \"rememb'red\"    \n",
      " [409] \"honour'd\"       \"compos'd\"       \"believ'd\"       \"where's\"       \n",
      " [413] \"in's\"           \"i'll\"           \"god's\"          \"i'll\"          \n",
      " [417] \"on't\"           \"o'erthrown\"     \"courtier's\"     \"scholar's\"     \n",
      " [421] \"soldier's\"      \"observ'd\"       \"suck'd\"         \"unmatch'd\"     \n",
      " [425] \"lack'd\"         \"there's\"        \"o'er\"           \"on't\"          \n",
      " [429] \"i'll\"           \"plac'd\"         \"unwatch'd\"      \"pronounc'd\"    \n",
      " [433] \"whipp'd\"        \"o'erdoing\"      \"o'erstep\"       \"'twere\"        \n",
      " [437] \"o'erweigh\"      \"nature's\"       \"reform'd\"       \"that's\"        \n",
      " [441] \"e'en\"           \"e'er\"           \"cop'd\"          \"flatter'd\"     \n",
      " [445] \"suff'ring\"      \"fortune's\"      \"ta'en\"          \"fortune's\"     \n",
      " [449] \"passion's\"      \"heart's\"        \"father's\"       \"vulcan's\"      \n",
      " [453] \"chameleon's\"    \"cramm'd\"        \"play'd\"         \"kill'd\"        \n",
      " [457] \"kill'd\"         \"here's\"         \"ophelia's\"      \"that's\"        \n",
      " [461] \"'s\"             \"'tis\"           \"i'll\"           \"there's\"       \n",
      " [465] \"man's\"          \"by'r\"           \"'for\"           \"sleeper's\"     \n",
      " [469] \"they'll\"        \"you'll\"         \"asham'd\"        \"he'll\"         \n",
      " [473] \"i'll\"           \"'tis\"           \"woman's\"        \"neptune's\"     \n",
      " [477] \"o'er\"           \"women's\"        \"siz'd\"          \"honour'd\"      \n",
      " [481] \"belov'd\"        \"'tis\"           \"'tis\"           \"'tis\"          \n",
      " [485] \"advanc'd\"       \"anchor's\"       \"'tis\"           \"she'll\"        \n",
      " [489] \"in't\"           \"'the\"           \"duke's\"         \"'tis\"          \n",
      " [493] \"gall'd\"         \"hecate's\"       \"for's\"          \"name's\"        \n",
      " [497] \"gonzago's\"      \"o'er\"           \"raz'd\"          \"rhym'd\"        \n",
      " [501] \"i'll\"           \"ghost's\"        \"distemper'd\"    \"mother's\"      \n",
      " [505] \"wit's\"          \"diseas'd\"       \"mother's\"       \"'while\"        \n",
      " [509] \"utt'rance\"      \"'sblood\"        \"play'd\"         \"that's\"        \n",
      " [513] \"'tis\"           \"back'd\"         \"'by\"            \"'tis\"          \n",
      " [517] \"what's\"         \"fix'd\"          \"mortis'd\"       \"adjoin'd\"      \n",
      " [521] \"boist'rous\"     \"he's\"           \"mother's\"       \"i'll\"          \n",
      " [525] \"i'll\"           \"she'll\"         \"'tis\"           \"o'erhear\"      \n",
      " [529] \"i'll\"           \"upon't\"         \"brother's\"      \"brother's\"     \n",
      " [533] \"what's\"         \"pardon'd\"       \"i'll\"           \"'forgive\"      \n",
      " [537] \"possess'd\"      \"pardon'd\"       \"offence's\"      \"'tis\"          \n",
      " [541] \"'tis\"           \"compell'd\"      \"engag'd\"        \"i'll\"          \n",
      " [545] \"do't\"           \"reveng'd\"       \"scann'd\"        \"'tis\"          \n",
      " [549] \"reveng'd\"       \"in't\"           \"damn'd\"         \"queen's\"       \n",
      " [553] \"screen'd\"       \"i'll\"           \"i'll\"           \"what's\"        \n",
      " [557] \"what's\"         \"husband's\"      \"brother's\"      \"i'll\"          \n",
      " [561] \"find'st\"        \"braz'd\"         \"dar'st\"         \"heaven's\"      \n",
      " [565] \"th's\"           \"hyperion's\"     \"mildew'd\"       \"it's\"          \n",
      " [569] \"apoplex'd\"      \"ne'er\"          \"thrall'd\"       \"reserv'd\"      \n",
      " [573] \"was't\"          \"cozen'd\"        \"matron's\"       \"turn'st\"       \n",
      " [577] \"stew'd\"         \"o'er\"           \"he's\"           \"laps'd\"        \n",
      " [581] \"is't\"           \"conjoin'd\"      \"liv'd\"          \"utt'red\"       \n",
      " [585] \"what's\"         \"uncle's\"        \"i'll\"           \"pleas'd\"       \n",
      " [589] \"damn'd\"         \"'twere\"         \"that's\"         \"house's\"       \n",
      " [593] \"assur'd\"        \"'tis\"           \"there's\"        \"seal'd\"        \n",
      " [597] \"fang'd\"         \"'tis\"           \"'t\"             \"'tis\"          \n",
      " [601] \"i'll\"           \"there's\"        \"'tis\"           \"'a\"            \n",
      " [605] \"answer'd\"       \"restrain'd\"     \"kill'd\"         \"o'er\"          \n",
      " [609] \"mother's\"       \"dragg'd\"        \"we'll\"          \"what's\"        \n",
      " [613] \"o'er\"           \"world's\"        \"stow'd\"         \"'tis\"          \n",
      " [617] \"'tis\"           \"king's\"         \"mouth'd\"        \"glean'd\"       \n",
      " [621] \"he's\"           \"lov'd\"          \"'tis\"           \"offender's\"    \n",
      " [625] \"weigh'd\"        \"reliev'd\"       \"befall'n\"       \"bestow'd\"      \n",
      " [629] \"where's\"        \"e'en\"           \"that's\"         \"knew'st\"       \n",
      " [633] \"i'll\"           \"seal'd\"         \"hold'st\"        \"'tis\"          \n",
      " [637] \"howe'er\"        \"ne'er\"          \"promis'd\"       \"do't\"          \n",
      " [641] \"purpos'd\"       \"garrison'd\"     \"will't\"         \"i'll\"          \n",
      " [645] \"unus'd\"         \"quarter'd\"      \"'this\"          \"thing's\"       \n",
      " [649] \"do't\"           \"puff'd\"         \"honour's\"       \"klll'd\"        \n",
      " [653] \"stain'd\"        \"there's\"        \"'twere\"         \"sin's\"         \n",
      " [657] \"baker's\"        \"let's\"          \"valentine's\"    \"donn'd\"        \n",
      " [661] \"clo'es\"         \"dupp'd\"         \"i'll\"           \"on't\"          \n",
      " [665] \"do't\"           \"to't\"           \"'before\"        \"promis'd\"      \n",
      " [669] \"'so\"            \"'a\"             \"father's\"       \"father's\"      \n",
      " [673] \"beggar'd\"       \"murd'ring\"      \"o'erbears\"      \"'choose\"       \n",
      " [677] \"'laertes\"       \"let's\"          \"that's\"         \"there's\"       \n",
      " [681] \"incens'd\"       \"i'll\"           \"i'll\"           \"reveng'd\"      \n",
      " [685] \"i'll\"           \"father's\"       \"is't\"           \"i'll\"          \n",
      " [689] \"rend'ring\"      \"father's\"       \"'let\"           \"is't\"          \n",
      " [693] \"maid's\"         \"man's\"          \"'tis\"           \"barefac'd\"     \n",
      " [697] \"rain'd\"         \"'a\"             \"master's\"       \"nothing's\"     \n",
      " [701] \"there's\"        \"that's\"         \"that's\"         \"there's\"       \n",
      " [705] \"there's\"        \"here's\"         \"there's\"        \"wither'd\"      \n",
      " [709] \"'a\"             \"'mercy\"         \"'twixt\"         \"touch'd\"       \n",
      " [713] \"o'er\"           \"'twere\"         \"call't\"         \"'a\"            \n",
      " [717] \"an't\"           \"there's\"        \"'horatio\"       \"overlook'd\"    \n",
      " [721] \"'he\"            \"do't\"           \"stirr'd\"        \"unsinew'd\"     \n",
      " [725] \"she's\"          \"timber'd\"       \"aim'd\"          \"desp'rate\"     \n",
      " [729] \"lov'd\"          \"receiv'd\"       \"'high\"          \"'hamlet\"       \n",
      " [733] \"'tis\"           \"hamlet's\"       \"'naked\"         \"'alone\"        \n",
      " [737] \"'thus\"          \"rul'd\"          \"o'errule\"       \"return'd\"      \n",
      " [741] \"rul'd\"          \"talk'd\"         \"hamlet's\"       \"serv'd\"        \n",
      " [745] \"in't\"           \"incorps'd\"      \"natur'd\"        \"topp'd\"        \n",
      " [749] \"was't\"          \"'twould\"        \"oppos'd\"        \"o'er\"          \n",
      " [753] \"'would\"         \"'should\"        \"father's\"       \"return'd\"      \n",
      " [757] \"we'll\"          \"do't\"           \"i'll\"           \"scratch'd\"     \n",
      " [761] \"i'll\"           \"let's\"          \"'twere\"         \"assay'd\"       \n",
      " [765] \"we'll\"          \"ha't\"           \"i'll\"           \"prepar'd\"      \n",
      " [769] \"venom'd\"        \"another's\"      \"sister's\"       \"drown'd\"       \n",
      " [773] \"drown'd\"        \"men's\"          \"clamb'ring\"     \"pull'd\"        \n",
      " [777] \"drown'd\"        \"drown'd\"        \"drown'd\"        \"let's\"         \n",
      " [781] \"let's\"          \"drown'd\"        \"'tis\"           \"drown'd\"       \n",
      " [785] \"is't\"           \"crowner's\"      \"an't\"           \"say'st\"        \n",
      " [789] \"count'nance\"    \"gard'ners\"      \"adam's\"         \"'a\"            \n",
      " [793] \"digg'd\"         \"i'll\"           \"to't\"           \"to't\"          \n",
      " [797] \"ask'd\"          \"'a\"             \"'tis\"           \"e'en\"          \n",
      " [801] \"'twere\"         \"cain's\"         \"o'erreaches\"    \"'good\"         \n",
      " [805] \"prais'd\"        \"one's\"          \"e'en\"           \"worm's\"        \n",
      " [809] \"knock'd\"        \"sexton's\"       \"here's\"         \"see't\"         \n",
      " [813] \"'em\"            \"on't\"           \"there's\"        \"in's\"          \n",
      " [817] \"grave's\"        \"in't\"           \"on't\"           \"'tis\"          \n",
      " [821] \"in't\"           \"in't\"           \"in't\"           \"'tis\"          \n",
      " [825] \"'tis\"           \"'twill\"         \"in't\"           \"she's\"         \n",
      " [829] \"to't\"           \"'a\"             \"'a\"             \"'a\"            \n",
      " [833] \"'tis\"           \"'twill\"         \"e'en\"           \"'a\"            \n",
      " [837] \"'a\"             \"tann'd\"         \"'a\"             \"here's\"        \n",
      " [841] \"fellow's\"       \"'a\"             \"pour'd\"         \"yorick's\"      \n",
      " [845] \"king's\"         \"e'en\"           \"kiss'd\"         \"fall'n\"        \n",
      " [849] \"lady's\"         \"what's\"         \"look'd\"         \"e'en\"          \n",
      " [853] \"e'en\"           \"'twere\"         \"turn'd\"         \"winter's\"      \n",
      " [857] \"desp'rate\"      \"'twas\"          \"enlarg'd\"       \"o'ersways\"     \n",
      " [861] \"lodg'd\"         \"allow'd\"        \"minist'ring\"    \"hop'd\"         \n",
      " [865] \"hamlet's\"       \"deck'd\"         \"strew'd\"        \"depriv'd\"      \n",
      " [869] \"o'ertop\"        \"wand'ring\"      \"pray'st\"        \"lov'd\"         \n",
      " [873] \"'swounds\"       \"thou't\"         \"woo't\"          \"woo't\"         \n",
      " [877] \"woo't\"          \"woo't\"          \"woo't\"          \"i'll\"          \n",
      " [881] \"do't\"           \"thou'lt\"        \"i'll\"           \"disclos'd\"     \n",
      " [885] \"lov'd\"          \"night's\"        \"we'll\"          \"prais'd\"       \n",
      " [889] \"there's\"        \"scarf'd\"        \"grop'd\"         \"finger'd\"      \n",
      " [893] \"denmark's\"      \"england's\"      \"is't\"           \"here's\"        \n",
      " [897] \"devis'd\"        \"labour'd\"       \"yeoman's\"       \"'tween\"        \n",
      " [901] \"as's\"           \"allow'd\"        \"seal'd\"         \"father's\"      \n",
      " [905] \"subscrib'd\"     \"gave't\"         \"plac'd\"         \"know'st\"       \n",
      " [909] \"to't\"           \"'tis\"           \"thinks't\"       \"kill'd\"        \n",
      " [913] \"whor'd\"         \"popp'd\"         \"coz'nage\"       \"is't\"          \n",
      " [917] \"is't\"           \"damn'd\"         \"man's\"          \"'one\"          \n",
      " [921] \"i'll\"           \"tow'ring\"       \"'tis\"           \"king's\"        \n",
      " [925] \"'tis\"           \"'tis\"           \"'tis\"           \"'twere\"        \n",
      " [929] \"is't\"           \"do't\"           \"all's\"          \"he's\"          \n",
      " [933] \"what's\"         \"that's\"         \"wager'd\"        \"impon'd\"       \n",
      " [937] \"that's\"         \"impon'd\"        \"e'en\"           \"for's\"         \n",
      " [941] \"suck'd\"         \"fann'd\"         \"king's\"         \"all's\"         \n",
      " [945] \"there's\"        \"'tis\"           \"is't\"           \"hamlet's\"      \n",
      " [949] \"pardon't\"       \"punish'd\"       \"was't\"          \"wrong'd\"       \n",
      " [953] \"he's\"           \"if't\"           \"wrong'd\"        \"hamlet's\"      \n",
      " [957] \"purpos'd\"       \"o'er\"           \"ungor'd\"        \"offer'd\"       \n",
      " [961] \"brother's\"      \"i'll\"           \"better'd\"       \"hamlet's\"      \n",
      " [965] \"denmark's\"      \"'now\"           \"here's\"         \"i'll\"          \n",
      " [969] \"confess't\"      \"he's\"           \"poison'd\"       \"i'll\"          \n",
      " [973] \"think't\"        \"incens'd\"       \"is't\"           \"kill'd\"        \n",
      " [977] \"poison'd\"       \"lock'd\"         \"envenom'd\"      \"turn'd\"        \n",
      " [981] \"mother's\"       \"poison'd\"       \"king's\"         \"envenom'd\"     \n",
      " [985] \"murd'rous\"      \"serv'd\"         \"temper'd\"       \"father's\"      \n",
      " [989] \"liv'st\"         \"here's\"         \"th'art\"         \"i'll\"          \n",
      " [993] \"ha't\"           \"o'ercrows\"      \"fulfill'd\"      \"arriv'd\"       \n",
      " [997] \"forc'd\"         \"fall'n\"         \"perform'd\"      \"men's\"         \n",
      "[1001] \"prov'd\"        \n"
     ]
    }
   ],
   "source": [
    "str_extract_all(\n",
    "        str_to_lower(hamlet), \"[a-z]*'[a-z]+\") %>% unlist %>% \n",
    "    print"
   ]
  },
  {
   "cell_type": "code",
   "execution_count": null,
   "metadata": {
    "slideshow": {
     "slide_type": "slide"
    }
   },
   "outputs": [],
   "source": [
    "### `str_extract`\n",
    "`str_extract(v, re)` extracts substring matched by `re` from each element of `v`. Another way to think of this is as returning the portion of the string which is highlighted by `str_view`:"
   ]
  },
  {
   "cell_type": "code",
   "execution_count": 91,
   "metadata": {},
   "outputs": [],
   "source": [
    "q = 'Research is formalized curiosity. It is poking and prying with a purpose.'\n",
    "# re to match capitalized words\n",
    "# re = NA\n",
    "# str_view(q, re)\n",
    "# str_extract(q, re)"
   ]
  },
  {
   "cell_type": "code",
   "execution_count": null,
   "metadata": {
    "slideshow": {
     "slide_type": "slide"
    }
   },
   "outputs": [],
   "source": [
    "Analogous to `str_view_all` we have `str_extract_all`:"
   ]
  },
  {
   "cell_type": "code",
   "execution_count": 92,
   "metadata": {
    "scrolled": true
   },
   "outputs": [
    {
     "data": {
      "text/html": [
       "<!doctype html>\n",
       "<html>\n",
       "\t<head>\n",
       "\t\t<meta charset=\"utf-8\">\n",
       "\t\t<script src=\"data:application/javascript;base64,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\"></script>\n",
       "<link href=\"data:text/css;charset-utf-8;base64,LnN0cl92aWV3IHVsLCAuc3RyX3ZpZXcgbGkgewogIGxpc3Qtc3R5bGU6IG5vbmU7CiAgcGFkZGluZzogMDsKICBtYXJnaW46IDAuNWVtIDA7CiAgZm9udC1mYW1pbHk6IG1vbm9zcGFjZTsKfQoKLnN0cl92aWV3IC5tYXRjaCB7CiAgYm9yZGVyOiAxcHggc29saWQgI2NjYzsKICBiYWNrZ3JvdW5kLWNvbG9yOiAjZWVlOwp9Cg==\" rel=\"stylesheet\" />\n",
       "<script src=\"data:application/javascript;base64,SFRNTFdpZGdldHMud2lkZ2V0KHsKCiAgbmFtZTogJ3N0cl92aWV3JywKCiAgdHlwZTogJ291dHB1dCcsCgogIGluaXRpYWxpemU6IGZ1bmN0aW9uKGVsLCB3aWR0aCwgaGVpZ2h0KSB7CiAgfSwKCiAgcmVuZGVyVmFsdWU6IGZ1bmN0aW9uKGVsLCB4LCBpbnN0YW5jZSkgewogICAgZWwuaW5uZXJIVE1MID0geC5odG1sOwogIH0sCgogIHJlc2l6ZTogZnVuY3Rpb24oZWwsIHdpZHRoLCBoZWlnaHQsIGluc3RhbmNlKSB7CiAgfQoKfSk7Cg==\"></script>\n",
       "\t<head>\n",
       "\t<body>\n",
       "\t\t<div id=\"htmlwidget-510bd2d2bc4890fe0f51\" style=\"width:960px;height:auto;\" class=\"str_view html-widget\"></div>\n",
       "<script type=\"application/json\" data-for=\"htmlwidget-510bd2d2bc4890fe0f51\">{\"x\":{\"html\":\"<ul>\\n  <li><span class='match'>Research<\\/span> <span class='match'>is<\\/span> <span class='match'>formalized<\\/span> <span class='match'>curiosity<\\/span>. <span class='match'>It<\\/span> <span class='match'>is<\\/span> <span class='match'>poking<\\/span> <span class='match'>and<\\/span> <span class='match'>prying<\\/span> <span class='match'>with<\\/span> <span class='match'>a<\\/span> <span class='match'>purpose<\\/span>.<\\/li>\\n<\\/ul>\"},\"evals\":[],\"jsHooks\":[]}</script>\n",
       "\t</body>\n",
       "</html>\n"
      ],
      "text/plain": [
       "HTML widgets cannot be represented in plain text (need html)"
      ]
     },
     "metadata": {
      "text/html": {
       "isolated": true
      }
     },
     "output_type": "display_data"
    },
    {
     "data": {
      "text/html": [
       "<ol>\n",
       "\t<li><ol class=list-inline>\n",
       "\t<li>'Research'</li>\n",
       "\t<li>'is'</li>\n",
       "\t<li>'formalized'</li>\n",
       "\t<li>'curiosity'</li>\n",
       "\t<li>'It'</li>\n",
       "\t<li>'is'</li>\n",
       "\t<li>'poking'</li>\n",
       "\t<li>'and'</li>\n",
       "\t<li>'prying'</li>\n",
       "\t<li>'with'</li>\n",
       "\t<li>'a'</li>\n",
       "\t<li>'purpose'</li>\n",
       "</ol>\n",
       "</li>\n",
       "</ol>\n"
      ],
      "text/latex": [
       "\\begin{enumerate}\n",
       "\\item \\begin{enumerate*}\n",
       "\\item 'Research'\n",
       "\\item 'is'\n",
       "\\item 'formalized'\n",
       "\\item 'curiosity'\n",
       "\\item 'It'\n",
       "\\item 'is'\n",
       "\\item 'poking'\n",
       "\\item 'and'\n",
       "\\item 'prying'\n",
       "\\item 'with'\n",
       "\\item 'a'\n",
       "\\item 'purpose'\n",
       "\\end{enumerate*}\n",
       "\n",
       "\\end{enumerate}\n"
      ],
      "text/markdown": [
       "1. 1. 'Research'\n",
       "2. 'is'\n",
       "3. 'formalized'\n",
       "4. 'curiosity'\n",
       "5. 'It'\n",
       "6. 'is'\n",
       "7. 'poking'\n",
       "8. 'and'\n",
       "9. 'prying'\n",
       "10. 'with'\n",
       "11. 'a'\n",
       "12. 'purpose'\n",
       "\n",
       "\n",
       "\n",
       "\n",
       "\n"
      ],
      "text/plain": [
       "[[1]]\n",
       " [1] \"Research\"   \"is\"         \"formalized\" \"curiosity\"  \"It\"        \n",
       " [6] \"is\"         \"poking\"     \"and\"        \"prying\"     \"with\"      \n",
       "[11] \"a\"          \"purpose\"   \n"
      ]
     },
     "metadata": {},
     "output_type": "display_data"
    }
   ],
   "source": [
    "str_view_all(q, re)\n",
    "str_extract_all(q, re)"
   ]
  },
  {
   "cell_type": "code",
   "execution_count": null,
   "metadata": {
    "slideshow": {
     "slide_type": "slide"
    }
   },
   "outputs": [],
   "source": [
    "### `str_match`\n",
    "`str_match(v, re)` will create a matrix out of the grouped matches in `re`. The first column has the whole match, and additional columns are added for each character group. If the pattern does not match, you will get `NA`s."
   ]
  },
  {
   "cell_type": "code",
   "execution_count": 47,
   "metadata": {},
   "outputs": [
    {
     "data": {
      "text/html": [
       "<table>\n",
       "<tbody>\n",
       "\t<tr><td>NA      </td><td>NA      </td><td>NA      </td></tr>\n",
       "\t<tr><td>able    </td><td>a       </td><td>e       </td></tr>\n",
       "\t<tr><td>about   </td><td>a       </td><td>t       </td></tr>\n",
       "\t<tr><td>absolute</td><td>a       </td><td>e       </td></tr>\n",
       "\t<tr><td>accept  </td><td>a       </td><td>t       </td></tr>\n",
       "\t<tr><td>account </td><td>a       </td><td>t       </td></tr>\n",
       "</tbody>\n",
       "</table>\n"
      ],
      "text/latex": [
       "\\begin{tabular}{lll}\n",
       "\t NA       & NA       & NA      \\\\\n",
       "\t able     & a        & e       \\\\\n",
       "\t about    & a        & t       \\\\\n",
       "\t absolute & a        & e       \\\\\n",
       "\t accept   & a        & t       \\\\\n",
       "\t account  & a        & t       \\\\\n",
       "\\end{tabular}\n"
      ],
      "text/markdown": [
       "\n",
       "| NA       | NA       | NA       | \n",
       "| able     | a        | e        | \n",
       "| about    | a        | t        | \n",
       "| absolute | a        | e        | \n",
       "| accept   | a        | t        | \n",
       "| account  | a        | t        | \n",
       "\n",
       "\n"
      ],
      "text/plain": [
       "     [,1]     [,2] [,3]\n",
       "[1,] NA       NA   NA  \n",
       "[2,] able     a    e   \n",
       "[3,] about    a    t   \n",
       "[4,] absolute a    e   \n",
       "[5,] accept   a    t   \n",
       "[6,] account  a    t   "
      ]
     },
     "metadata": {},
     "output_type": "display_data"
    }
   ],
   "source": [
    "head(str_match(words, '^(.).*(.)$'))"
   ]
  },
  {
   "cell_type": "code",
   "execution_count": null,
   "metadata": {
    "slideshow": {
     "slide_type": "slide"
    }
   },
   "outputs": [],
   "source": [
    "### `str_replace`\n",
    "`str_replace(v, re, rep)` will replace each match of `re` in `v` with `rep`. The most basic usage is as a sort of find and replace:"
   ]
  },
  {
   "cell_type": "code",
   "execution_count": 50,
   "metadata": {},
   "outputs": [
    {
     "data": {
      "text/html": [
       "'Give me liberty or give me pizza'"
      ],
      "text/latex": [
       "'Give me liberty or give me pizza'"
      ],
      "text/markdown": [
       "'Give me liberty or give me pizza'"
      ],
      "text/plain": [
       "[1] \"Give me liberty or give me pizza\""
      ]
     },
     "metadata": {},
     "output_type": "display_data"
    }
   ],
   "source": [
    "str_replace('Give me liberty or give me death', '\\\\w+$', 'pizza')"
   ]
  },
  {
   "cell_type": "code",
   "execution_count": null,
   "metadata": {
    "slideshow": {
     "slide_type": "slide"
    }
   },
   "outputs": [],
   "source": [
    "A very useful feature of regexp replacements is the ability to use backreferences:"
   ]
  },
  {
   "cell_type": "code",
   "execution_count": null,
   "metadata": {
    "slideshow": {
     "slide_type": "slide"
    }
   },
   "outputs": [],
   "source": [
    "# Your code here"
   ]
  }
 ],
 "metadata": {
  "celltoolbar": "Slideshow",
  "kernelspec": {
   "display_name": "R",
   "language": "R",
   "name": "ir"
  },
  "language_info": {
   "codemirror_mode": "r",
   "file_extension": ".r",
   "mimetype": "text/x-r-source",
   "name": "R",
   "pygments_lexer": "r",
   "version": "4.2.2"
  }
 },
 "nbformat": 4,
 "nbformat_minor": 1
}
