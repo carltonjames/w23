{
 "cells": [
  {
   "cell_type": "code",
   "execution_count": 67,
   "metadata": {
    "slideshow": {
     "slide_type": "notes"
    }
   },
   "outputs": [],
   "source": [
    "library(tidyverse)\n",
    "library(nycflights13)\n",
    "# this lecture uses some additional packages:\n",
    "# install.packages(c(\"Lahman\", \"priceR\", \"DBI\", \"RSQLite\", \"priceR\"))"
   ]
  },
  {
   "cell_type": "markdown",
   "metadata": {
    "slideshow": {
     "slide_type": "slide"
    }
   },
   "source": [
    "# Lecture 09: More on relational data; SQL\n",
    "<div style=\"border: 1px double black; padding: 10px; margin: 10px\">\n",
    "\n",
    "**After today's lecture you will:**\n",
    "* Understand how to [filter data using joins](#Filtering-joins)\n",
    "* Know to execute basic [SQL commands](#SQL-Commands)\n",
    "</div>\n"
   ]
  },
  {
   "cell_type": "markdown",
   "metadata": {
    "slideshow": {
     "slide_type": "slide"
    }
   },
   "source": [
    "## Review of last lecture\n",
    "Last lecture we learned how to join data from one table to another. The main function we care about is `left_join(x, y, by=<key>)`, which tries to find a matching key in the `y` table for every row in the `x` table.\n",
    "\n",
    "![match example](https://r4ds.hadley.nz/diagrams/join/left.png)"
   ]
  },
  {
   "cell_type": "markdown",
   "metadata": {
    "slideshow": {
     "slide_type": "slide"
    }
   },
   "source": [
    "## Exercise\n",
    "Let's refresh our memory about how joins work. Say I wanted to compare the distribution of departure delay when the weather was a) above or b) below freezing (32F/0C). "
   ]
  },
  {
   "cell_type": "code",
   "execution_count": 54,
   "metadata": {
    "slideshow": {
     "slide_type": "slide"
    }
   },
   "outputs": [],
   "source": [
    "# departure delay by freezing weather"
   ]
  },
  {
   "cell_type": "markdown",
   "metadata": {
    "slideshow": {
     "slide_type": "slide"
    }
   },
   "source": [
    "## 🤔 Quiz\n",
    "Assume every flight is full. The busiest travel day in terms of total # of passengers scheduled to depart is:\n",
    "\n",
    "<ol style=\"list-style-type: upper-alpha;\">\n",
    "    <li> Jul. 3 </li>\n",
    "    <li> Nov. 26</li>\n",
    "    <li>Nov. 27</li>\n",
    "    <li>Dec. 26</li>\n",
    "    <li>Dec. 27</li>\n",
    "</ol>\n",
    "\n",
    "(Hint: the `planes` table tells you how many passengers each airplane holds.)"
   ]
  },
  {
   "cell_type": "code",
   "execution_count": 72,
   "metadata": {
    "slideshow": {
     "slide_type": "slide"
    }
   },
   "outputs": [],
   "source": [
    "# total number of passengers"
   ]
  },
  {
   "cell_type": "markdown",
   "metadata": {
    "slideshow": {
     "slide_type": "slide"
    }
   },
   "source": [
    "## Exercise\n",
    "Another relational database we have seen in this class is the Lahman dataset on baseball stats:"
   ]
  },
  {
   "cell_type": "code",
   "execution_count": 73,
   "metadata": {},
   "outputs": [],
   "source": [
    "library(Lahman)"
   ]
  },
  {
   "cell_type": "markdown",
   "metadata": {
    "slideshow": {
     "slide_type": "slide"
    }
   },
   "source": [
    "The `Salaries` table contains information on player salaries, where they are available:"
   ]
  },
  {
   "cell_type": "code",
   "execution_count": 74,
   "metadata": {},
   "outputs": [],
   "source": [
    "?Salaries"
   ]
  },
  {
   "cell_type": "markdown",
   "metadata": {
    "slideshow": {
     "slide_type": "slide"
    }
   },
   "source": [
    "## Exercise\n",
    "How does a player's salary compare with their career batting average (or some other stat)?"
   ]
  },
  {
   "cell_type": "code",
   "execution_count": 71,
   "metadata": {
    "slideshow": {
     "slide_type": "slide"
    }
   },
   "outputs": [],
   "source": [
    "# salary vs batting average"
   ]
  },
  {
   "cell_type": "markdown",
   "metadata": {
    "slideshow": {
     "slide_type": "slide"
    }
   },
   "source": [
    "## Filtering joins\n",
    "\n",
    "Filtering joins allow us to filter rows on one table based on their presence or absence in another table. We've already seen some examples of this on the problem sets:"
   ]
  },
  {
   "cell_type": "code",
   "execution_count": 50,
   "metadata": {
    "slideshow": {
     "slide_type": "slide"
    }
   },
   "outputs": [
    {
     "name": "stderr",
     "output_type": "stream",
     "text": [
      "Selecting by n\n"
     ]
    },
    {
     "name": "stdout",
     "output_type": "stream",
     "text": [
      "# A tibble: 5 x 2\n",
      "  carrier     n\n",
      "  <chr>   <int>\n",
      "1 AA      32729\n",
      "2 B6      54635\n",
      "3 DL      48110\n",
      "4 EV      54173\n",
      "5 UA      58665\n"
     ]
    },
    {
     "data": {
      "text/plain": [
       "[1] \"AA\" \"B6\" \"DL\" \"EV\" \"UA\""
      ]
     },
     "metadata": {},
     "output_type": "display_data"
    },
    {
     "name": "stdout",
     "output_type": "stream",
     "text": [
      "# A tibble: 248,312 x 19\n",
      "    year month   day dep_time sched_dep_time dep_delay arr_time sched_arr_time\n",
      "   <int> <int> <int>    <int>          <int>     <dbl>    <int>          <int>\n",
      " 1  2013     1     1      517            515         2      830            819\n",
      " 2  2013     1     1      533            529         4      850            830\n",
      " 3  2013     1     1      542            540         2      923            850\n",
      " 4  2013     1     1      544            545        -1     1004           1022\n",
      " 5  2013     1     1      554            600        -6      812            837\n",
      " 6  2013     1     1      554            558        -4      740            728\n",
      " 7  2013     1     1      555            600        -5      913            854\n",
      " 8  2013     1     1      557            600        -3      709            723\n",
      " 9  2013     1     1      557            600        -3      838            846\n",
      "10  2013     1     1      558            600        -2      753            745\n",
      "# … with 248,302 more rows, and 11 more variables: arr_delay <dbl>,\n",
      "#   carrier <chr>, flight <int>, tailnum <chr>, origin <chr>, dest <chr>,\n",
      "#   air_time <dbl>, distance <dbl>, hour <dbl>, minute <dbl>, time_hour <dttm>\n"
     ]
    }
   ],
   "source": [
    "top5 = count(flights, carrier) %>% top_n(5) %>% print\n",
    "top5$carrier\n",
    "flights_top5 = filter(flights, carrier %in% top5$carrier) %>% print"
   ]
  },
  {
   "cell_type": "markdown",
   "metadata": {
    "slideshow": {
     "slide_type": "slide"
    }
   },
   "source": [
    "What if we wanted to filter based on more than one variable? For example, based on busiest days of the year:"
   ]
  },
  {
   "cell_type": "code",
   "execution_count": 57,
   "metadata": {},
   "outputs": [
    {
     "name": "stderr",
     "output_type": "stream",
     "text": [
      "Selecting by n\n"
     ]
    },
    {
     "name": "stdout",
     "output_type": "stream",
     "text": [
      "# A tibble: 7 x 4\n",
      "   year month   day     n\n",
      "  <int> <int> <int> <int>\n",
      "1  2013     7    18  1003\n",
      "2  2013     7    25  1003\n",
      "3  2013     7     8  1004\n",
      "4  2013     7    10  1004\n",
      "5  2013    12     2  1004\n",
      "6  2013     7    11  1006\n",
      "7  2013    11    27  1014\n"
     ]
    }
   ],
   "source": [
    "top6_days = count(flights, year, month, day) %>% top_n(6) %>% \n",
    "    arrange(n) %>% print"
   ]
  },
  {
   "cell_type": "code",
   "execution_count": 1,
   "metadata": {
    "slideshow": {
     "slide_type": "slide"
    }
   },
   "outputs": [],
   "source": [
    "# manual filter join"
   ]
  },
  {
   "cell_type": "markdown",
   "metadata": {
    "slideshow": {
     "slide_type": "slide"
    }
   },
   "source": [
    "### Semi-join\n",
    "`semi_join(x, y)` keeps all the observations in `x` that are also in `y`.\n",
    "![semi join](http://r4ds.had.co.nz/diagrams/join-semi.png)"
   ]
  },
  {
   "cell_type": "markdown",
   "metadata": {
    "slideshow": {
     "slide_type": "slide"
    }
   },
   "source": [
    "`semi_join()` takes the same `key=` options as the other join commands."
   ]
  },
  {
   "cell_type": "code",
   "execution_count": 56,
   "metadata": {
    "slideshow": {
     "slide_type": "-"
    }
   },
   "outputs": [
    {
     "name": "stderr",
     "output_type": "stream",
     "text": [
      "Joining, by = c(\"year\", \"month\", \"day\")\n"
     ]
    },
    {
     "name": "stdout",
     "output_type": "stream",
     "text": [
      "# A tibble: 7,038 x 19\n",
      "    year month   day dep_time sched_dep_time dep_delay arr_time sched_arr_time\n",
      "   <int> <int> <int>    <int>          <int>     <dbl>    <int>          <int>\n",
      " 1  2013    11    27       28           1930       298      129           2049\n",
      " 2  2013    11    27      505            500         5      703            651\n",
      " 3  2013    11    27      514            515        -1      743            808\n",
      " 4  2013    11    27      535            540        -5      907            850\n",
      " 5  2013    11    27      540            545        -5      815            835\n",
      " 6  2013    11    27      551            600        -9      920            854\n",
      " 7  2013    11    27      551            600        -9      918            849\n",
      " 8  2013    11    27      554            600        -6      719            719\n",
      " 9  2013    11    27      554            600        -6      707            717\n",
      "10  2013    11    27      554            600        -6      907            846\n",
      "# … with 7,028 more rows, and 11 more variables: arr_delay <dbl>,\n",
      "#   carrier <chr>, flight <int>, tailnum <chr>, origin <chr>, dest <chr>,\n",
      "#   air_time <dbl>, distance <dbl>, hour <dbl>, minute <dbl>, time_hour <dttm>\n"
     ]
    }
   ],
   "source": [
    "# All flights in 6 busiest days of year:\n",
    "semi_join(flights, top6_days, key = c(\"year\", \"month\", \"day\")) %>% print"
   ]
  },
  {
   "cell_type": "markdown",
   "metadata": {
    "slideshow": {
     "slide_type": "slide"
    }
   },
   "source": [
    "### Exercise\n",
    "Of the 336,776 flights in `flights`, what % of them departed on one of the 20 busiest days of the year?"
   ]
  },
  {
   "cell_type": "code",
   "execution_count": 13,
   "metadata": {
    "slideshow": {
     "slide_type": "slide"
    }
   },
   "outputs": [],
   "source": [
    "# flights departing in the 20 top busiest days"
   ]
  },
  {
   "cell_type": "markdown",
   "metadata": {
    "slideshow": {
     "slide_type": "slide"
    }
   },
   "source": [
    "### Anti-join\n",
    "The opposite of a semi-join is an anti-join:\n",
    "![anti-join](http://r4ds.had.co.nz/diagrams/join-anti.png)"
   ]
  },
  {
   "cell_type": "markdown",
   "metadata": {
    "slideshow": {
     "slide_type": "slide"
    }
   },
   "source": [
    "## Filtering joins\n",
    "\n",
    "Filtering joins allow us to filter rows on one table based on their presence or absence in another table. We've already seen some examples of this on the problem sets:"
   ]
  },
  {
   "cell_type": "code",
   "execution_count": 61,
   "metadata": {},
   "outputs": [
    {
     "name": "stderr",
     "output_type": "stream",
     "text": [
      "\u001b[1m\u001b[22mSelecting by n\n"
     ]
    },
    {
     "data": {
      "text/html": [
       "94326"
      ],
      "text/latex": [
       "94326"
      ],
      "text/markdown": [
       "94326"
      ],
      "text/plain": [
       "[1] 94326"
      ]
     },
     "metadata": {},
     "output_type": "display_data"
    }
   ],
   "source": [
    "dest_top6 <- count(flights, dest) %>% top_n(6)\n",
    "filter(flights, dest %in% dest_top6$dest) %>% nrow"
   ]
  },
  {
   "cell_type": "markdown",
   "metadata": {
    "slideshow": {
     "slide_type": "slide"
    }
   },
   "source": [
    "### Semi-join\n",
    "`semi_join(x, y)` keeps all the observations in `x` that are also in `y`.\n",
    "![semi join](http://r4ds.had.co.nz/diagrams/join-semi.png)"
   ]
  },
  {
   "cell_type": "code",
   "execution_count": 74,
   "metadata": {
    "slideshow": {
     "slide_type": "slide"
    }
   },
   "outputs": [],
   "source": [
    "# find all the flight with destinations in the top 6"
   ]
  },
  {
   "cell_type": "markdown",
   "metadata": {
    "slideshow": {
     "slide_type": "slide"
    }
   },
   "source": [
    "## 🤔 Quiz\n",
    "The top ten most popular days to fly were:\n",
    "\n",
    "```count(flights, year, month, day) %>% top_n(10)```\n",
    "\n",
    "What is the overall fraction of flights that left on these ten days?\n",
    "\n",
    "<ol style=\"list-style-type: upper-alpha;\">\n",
    "    <li>0.024</li>\n",
    "    <li>0.042</li>\n",
    "    <li>1.000</li>\n",
    "    <li>0.001</li>\n",
    "    <li>0.039</li>\n",
    "</ol>"
   ]
  },
  {
   "cell_type": "markdown",
   "metadata": {
    "slideshow": {
     "slide_type": "slide"
    }
   },
   "source": [
    "### Anti-join\n",
    "`anti_join(x, y)` does the opposite of `semi_join`: it *drops* all the observations in `x` that are also in `y`.\n",
    "![anti join](https://r4ds.hadley.nz/diagrams/join/anti.png)"
   ]
  },
  {
   "cell_type": "markdown",
   "metadata": {
    "slideshow": {
     "slide_type": "slide"
    }
   },
   "source": [
    "Anti-joins are useful for finding mismatches in joins. Last lecture we saw that some 50k entries in `flights` have `tailnum`s that do not exist in the `planes` table. To find out more about these flights we could use an anti-join to select only those rows:"
   ]
  },
  {
   "cell_type": "code",
   "execution_count": 10,
   "metadata": {},
   "outputs": [
    {
     "name": "stdout",
     "output_type": "stream",
     "text": [
      "# A tibble: 50,094 x 19\n",
      "    year month   day dep_time sched_dep_time dep_delay arr_time sched_arr_time\n",
      "   <int> <int> <int>    <int>          <int>     <dbl>    <int>          <int>\n",
      " 1  2013     1     1      558            600        -2      753            745\n",
      " 2  2013     1     1      559            600        -1      941            910\n",
      " 3  2013     1     1      600            600         0      837            825\n",
      " 4  2013     1     1      602            605        -3      821            805\n",
      " 5  2013     1     1      608            600         8      807            735\n",
      " 6  2013     1     1      611            600        11      945            931\n",
      " 7  2013     1     1      623            610        13      920            915\n",
      " 8  2013     1     1      624            630        -6      840            830\n",
      " 9  2013     1     1      628            630        -2     1137           1140\n",
      "10  2013     1     1      629            630        -1      824            810\n",
      "# … with 50,084 more rows, and 11 more variables: arr_delay <dbl>,\n",
      "#   carrier <chr>, flight <int>, tailnum <chr>, origin <chr>, dest <chr>,\n",
      "#   air_time <dbl>, distance <dbl>, hour <dbl>, minute <dbl>, time_hour <dttm>\n"
     ]
    }
   ],
   "source": [
    "missing_planes = anti_join(flights, planes, by=\"tailnum\") %>% \n",
    "                 filter(!is.na(tailnum)) %>% print"
   ]
  },
  {
   "cell_type": "markdown",
   "metadata": {
    "slideshow": {
     "slide_type": "slide"
    }
   },
   "source": [
    "Do we see any pattern in this table that could explain the missing tail numbers?"
   ]
  },
  {
   "cell_type": "code",
   "execution_count": 11,
   "metadata": {},
   "outputs": [
    {
     "name": "stdout",
     "output_type": "stream",
     "text": [
      "# A tibble: 100 x 19\n",
      "    year month   day dep_time sched_dep_time dep_delay arr_time sched_arr_time\n",
      "   <int> <int> <int>    <int>          <int>     <dbl>    <int>          <int>\n",
      " 1  2013    12     7     1551           1515        36     1723           1705\n",
      " 2  2013     2    16      915            920        -5     1207           1245\n",
      " 3  2013     4    29      858            900        -2     1143           1203\n",
      " 4  2013     8    27     1932           1930         2     2238           2250\n",
      " 5  2013    11    13     1504           1510        -6     2019           2020\n",
      " 6  2013     8    24      943            950        -7     1201           1205\n",
      " 7  2013     9    10     1421           1425        -4     1629           1650\n",
      " 8  2013     5    31      733            740        -7     1025           1040\n",
      " 9  2013     5    19     1846           1800        46     1959           1950\n",
      "10  2013     1    23     1041           1050        -9     1229           1250\n",
      "   arr_delay carrier flight tailnum origin dest  air_time distance  hour minute\n",
      "       <dbl> <chr>    <int> <chr>   <chr>  <chr>    <dbl>    <dbl> <dbl>  <dbl>\n",
      " 1        18 MQ        3231 N639MQ  JFK    PIT         74      340    15     15\n",
      " 2       -38 AA         721 N539AA  LGA    DFW        199     1389     9     20\n",
      " 3       -20 UA        1665 N76153  EWR    LAX        317     2454     9      0\n",
      " 4       -12 AA         269 N3AHAA  JFK    SEA        322     2422    19     30\n",
      " 5        -1 AA          95 N5FMAA  JFK    SJU        198     1598    15     10\n",
      " 6        -4 MQ        3644 N537MQ  LGA    ATL        102      762     9     50\n",
      " 7       -21 MQ        3669 N534MQ  LGA    ATL        104      762    14     25\n",
      " 8       -15 AA         715 N504AA  LGA    DFW        201     1389     7     40\n",
      " 9         9 AA         353 N483AA  LGA    ORD        109      733    18      0\n",
      "10       -21 MQ        4589 N3AEMQ  LGA    DTW         88      502    10     50\n",
      "   time_hour          \n",
      "   <dttm>             \n",
      " 1 2013-12-07 15:00:00\n",
      " 2 2013-02-16 09:00:00\n",
      " 3 2013-04-29 09:00:00\n",
      " 4 2013-08-27 19:00:00\n",
      " 5 2013-11-13 15:00:00\n",
      " 6 2013-08-24 09:00:00\n",
      " 7 2013-09-10 14:00:00\n",
      " 8 2013-05-31 07:00:00\n",
      " 9 2013-05-19 18:00:00\n",
      "10 2013-01-23 10:00:00\n",
      "# … with 90 more rows\n"
     ]
    }
   ],
   "source": [
    "missing_planes %>% sample_n(100) %>% print(width = Inf)"
   ]
  },
  {
   "cell_type": "markdown",
   "metadata": {
    "slideshow": {
     "slide_type": "slide"
    }
   },
   "source": [
    "Interestingly, the top 5 most frequent `tailnum`s in the overall data are almost the same:"
   ]
  },
  {
   "cell_type": "code",
   "execution_count": 12,
   "metadata": {
    "scrolled": true
   },
   "outputs": [
    {
     "name": "stderr",
     "output_type": "stream",
     "text": [
      "Selecting by n\n"
     ]
    },
    {
     "data": {
      "text/plain": [
       "  tailnum model  n  \n",
       "1 N711MQ  G1159B 486\n",
       "2 N713MQ  NA     483\n",
       "3 N722MQ  NA     513\n",
       "4 N723MQ  NA     507\n",
       "5 N725MQ  NA     575"
      ]
     },
     "metadata": {},
     "output_type": "display_data"
    }
   ],
   "source": [
    "flights %>% drop_na(tailnum) %>% left_join(planes, by = \"tailnum\") %>% \n",
    "    count(tailnum, model) %>% top_n(5)"
   ]
  },
  {
   "cell_type": "code",
   "execution_count": 13,
   "metadata": {},
   "outputs": [
    {
     "data": {
      "text/plain": [
       "  tailnum year type                    manufacturer         model  engines\n",
       "1 N711MQ  1976 Fixed wing multi engine GULFSTREAM AEROSPACE G1159B 2      \n",
       "  seats speed engine   \n",
       "1 22    NA    Turbo-jet"
      ]
     },
     "metadata": {},
     "output_type": "display_data"
    }
   ],
   "source": [
    "planes %>% filter(tailnum == \"N711MQ\")"
   ]
  },
  {
   "cell_type": "markdown",
   "metadata": {
    "slideshow": {
     "slide_type": "notes"
    }
   },
   "source": [
    "The one plane that is represented is N711M. You can [look it up](https://flightaware.com/resources/registration/N711MQ) in an online database and find out it's a private jet. My guess is the others are private jets too."
   ]
  },
  {
   "cell_type": "markdown",
   "metadata": {},
   "source": [
    "<td>How many planes flew to destinations which are <i>not</i> found in the <code>airports</code> table?</td>"
   ]
  },
  {
   "cell_type": "markdown",
   "metadata": {
    "slideshow": {
     "slide_type": "slide"
    }
   },
   "source": [
    "# SQL\n",
    "\n",
    "SQL stands for \"Structured Query Language\". Many large databases are stored in SQL format, and you will probably encounter one if you work on big data and/or at a large company. "
   ]
  },
  {
   "cell_type": "code",
   "execution_count": 8,
   "metadata": {
    "slideshow": {
     "slide_type": "notes"
    }
   },
   "outputs": [],
   "source": [
    "# SQLite database\n",
    "library(nycflights13)\n",
    "library(DBI)\n",
    "library(RSQLite)\n",
    "con <- dbConnect(SQLite(), \":memory:\")\n",
    "copy_to(con, flights, \"flights\")\n",
    "copy_to(con, airports, \"airports\")\n",
    "copy_to(con, airlines, \"airlines\")\n",
    "copy_to(con, weather, \"weather\")\n",
    "q <- function(...) dbGetQuery(con, ...) %>% as_tibble"
   ]
  },
  {
   "cell_type": "markdown",
   "metadata": {
    "slideshow": {
     "slide_type": "slide"
    }
   },
   "source": [
    "### Selecting data from a table\n",
    "The SQL syntax for selecting column(s) from a table is\n",
    "```{sql}\n",
    "SELECT <col1>, <col2>, ..., <coln> FROM <table>\n",
    "```\n",
    "Note the similarity to the corresponding `tidyverse` command:\n",
    "```{r}\n",
    "select(<table>, <col1>, <col2>, ..., <coln>)\n",
    "```"
   ]
  },
  {
   "cell_type": "code",
   "execution_count": 10,
   "metadata": {
    "slideshow": {
     "slide_type": "slide"
    }
   },
   "outputs": [],
   "source": [
    "# select one column"
   ]
  },
  {
   "cell_type": "markdown",
   "metadata": {
    "slideshow": {
     "slide_type": "slide"
    }
   },
   "source": [
    "The special keyword `*` means \"select everything\" and is equivalent to `dplyr`'s `everything()`:"
   ]
  },
  {
   "cell_type": "code",
   "execution_count": 35,
   "metadata": {
    "slideshow": {
     "slide_type": "slide"
    }
   },
   "outputs": [],
   "source": [
    "# select all columns"
   ]
  },
  {
   "cell_type": "markdown",
   "metadata": {
    "slideshow": {
     "slide_type": "slide"
    }
   },
   "source": [
    "If you have a really big table, SQL allows you to `LIMIT` the number of rows it returns."
   ]
  },
  {
   "cell_type": "code",
   "execution_count": 36,
   "metadata": {},
   "outputs": [],
   "source": [
    "# query first ten rows of flights"
   ]
  },
  {
   "cell_type": "markdown",
   "metadata": {
    "slideshow": {
     "slide_type": "slide"
    }
   },
   "source": [
    "### Distinct rows\n",
    "Writing `SELECT DISTINCT` instead of `SELECT` will give every unique row in the data set:"
   ]
  },
  {
   "cell_type": "code",
   "execution_count": 48,
   "metadata": {},
   "outputs": [],
   "source": [
    "# distinct year, month, day in flights"
   ]
  },
  {
   "cell_type": "markdown",
   "metadata": {
    "slideshow": {
     "slide_type": "slide"
    }
   },
   "source": [
    "### Filtering\n",
    "\n",
    "The SQL syntax for filtering rows in a table uses the `WHERE` clause:\n",
    "```{sql}\n",
    "SELECT * FROM <table> WHERE dest = \"IAH\"\n",
    "```\n",
    "This is the same as:\n",
    "```{r}\n",
    "filter(<table>, dest == \"IAH\")\n",
    "```\n",
    "Note that SQL uses a single `=` to check equality!"
   ]
  },
  {
   "cell_type": "code",
   "execution_count": 37,
   "metadata": {
    "slideshow": {
     "slide_type": "slide"
    }
   },
   "outputs": [],
   "source": [
    "# select where"
   ]
  },
  {
   "cell_type": "markdown",
   "metadata": {
    "slideshow": {
     "slide_type": "slide"
    }
   },
   "source": [
    "### Inequality in SQL\n",
    "The write that something is *not equal* in SQL, we traditionally use the `<>` operator:"
   ]
  },
  {
   "cell_type": "code",
   "execution_count": 53,
   "metadata": {},
   "outputs": [],
   "source": [
    "# all flights that are not destined for LAX"
   ]
  },
  {
   "cell_type": "markdown",
   "metadata": {
    "slideshow": {
     "slide_type": "notes"
    }
   },
   "source": [
    "Newer dialects of SQL (including SQLite) seem to let you use `!=` as well though."
   ]
  },
  {
   "cell_type": "markdown",
   "metadata": {
    "slideshow": {
     "slide_type": "slide"
    }
   },
   "source": [
    "### Missing data\n",
    "In SQL, missing data is coded as `NULL`. This is a special value which is analogous to `NA` in R. "
   ]
  },
  {
   "cell_type": "code",
   "execution_count": 39,
   "metadata": {
    "slideshow": {
     "slide_type": "slide"
    }
   },
   "outputs": [],
   "source": [
    "# select non-null dep time"
   ]
  },
  {
   "cell_type": "markdown",
   "metadata": {
    "slideshow": {
     "slide_type": "slide"
    }
   },
   "source": [
    "### Summarizing\n",
    "\n",
    "The SQL syntax for summarizing is using the `GROUP BY` clause:\n",
    "```{sql}\n",
    "SELECT AVG(<col>) AS avg_col FROM <table> GROUP BY(<group cols>)\n",
    "```\n",
    "This is the same as:\n",
    "```{r}\n",
    "<table> %>% group_by(<group cols>) %>% summarize(avg_col = mean(<col>))\n",
    "```"
   ]
  },
  {
   "cell_type": "code",
   "execution_count": 40,
   "metadata": {
    "slideshow": {
     "slide_type": "slide"
    }
   },
   "outputs": [],
   "source": [
    "# select average distance and count for each flight"
   ]
  },
  {
   "cell_type": "markdown",
   "metadata": {
    "slideshow": {
     "slide_type": "slide"
    }
   },
   "source": [
    "You can find a list of the aggregation functions that SQLite supports [here](https://www.sqlite.org/lang_aggfunc.html). This is a somewhat limited set compared to richer SQL engines like MySQL."
   ]
  },
  {
   "cell_type": "markdown",
   "metadata": {
    "slideshow": {
     "slide_type": "slide"
    }
   },
   "source": [
    "### Joins\n",
    "\n",
    "The SQL syntax for joins:\n",
    "```{sql}\n",
    "SELECT * FROM <table> LEFT JOIN <other_table> ON <left_key_col> = <right_key_col>\n",
    "```\n",
    "This is the same as:\n",
    "```{r}\n",
    "left_join(<table>, <other_table>, by = c(\"<left_key_col>\" = \"<right_key_col>\"))\n",
    "```"
   ]
  },
  {
   "cell_type": "code",
   "execution_count": 41,
   "metadata": {
    "slideshow": {
     "slide_type": "slide"
    }
   },
   "outputs": [],
   "source": [
    "# join planes by tailnum"
   ]
  },
  {
   "cell_type": "markdown",
   "metadata": {
    "slideshow": {
     "slide_type": "notes"
    }
   },
   "source": [
    "Note here that SQL requires us to be explicit about which columns we are `SELECT`ing when joining multiple tables. Each column name must be prefixed with the name of the table in which it resides."
   ]
  },
  {
   "cell_type": "markdown",
   "metadata": {
    "slideshow": {
     "slide_type": "slide"
    }
   },
   "source": [
    "### Ranking\n",
    "\n",
    "Ranking operates slightly differently in SQL than dplyr. The overall syntax is:\n",
    "\n",
    "\n",
    "    SELECT RANK() OVER (\n",
    "\t    PARTITION BY <columns>\n",
    "\t    ORDER BY <expression1> [ASC|DESC], ...\n",
    "    ) RankedCol FROM <table>\n",
    "    \n",
    "    \n",
    "The easiest way to learn it is to see some examples."
   ]
  },
  {
   "cell_type": "code",
   "execution_count": 20,
   "metadata": {
    "slideshow": {
     "slide_type": "slide"
    }
   },
   "outputs": [],
   "source": [
    "# rank based on departure delay"
   ]
  },
  {
   "cell_type": "markdown",
   "metadata": {
    "slideshow": {
     "slide_type": "slide"
    }
   },
   "source": [
    "## Subqueries\n",
    "\n",
    "An aspect of SQL I find confusing is that you can filter (`WHERE ...`) based on a ranking condition:"
   ]
  },
  {
   "cell_type": "code",
   "execution_count": null,
   "metadata": {},
   "outputs": [],
   "source": [
    "# filtering a rank, won't work"
   ]
  },
  {
   "cell_type": "markdown",
   "metadata": {
    "slideshow": {
     "slide_type": "slide"
    }
   },
   "source": [
    "Instead, you can write a *subquery*, basically stitching two SQL calls together:\n",
    "\n",
    "    WITH (<a SQL query>) AS table\n",
    "    SELECT <stuff> FROM table WHERE <conditions>\n",
    "    "
   ]
  },
  {
   "cell_type": "code",
   "execution_count": 44,
   "metadata": {
    "slideshow": {
     "slide_type": "slide"
    }
   },
   "outputs": [],
   "source": [
    "# filtering with rank"
   ]
  },
  {
   "cell_type": "markdown",
   "metadata": {
    "slideshow": {
     "slide_type": "slide"
    }
   },
   "source": [
    "## Advanced joins in SQL\n",
    "SQL is more general in specifying the join condition. Whereas in tidyverse it must be a key, in\n",
    "SQL it can be a general logical condition."
   ]
  },
  {
   "cell_type": "markdown",
   "metadata": {
    "slideshow": {
     "slide_type": "slide"
    }
   },
   "source": [
    "## Example\n",
    "What is the closest airport to `DTW`?"
   ]
  },
  {
   "cell_type": "code",
   "execution_count": 42,
   "metadata": {},
   "outputs": [],
   "source": [
    "# find the nearest neighbor to each airport"
   ]
  },
  {
   "cell_type": "markdown",
   "metadata": {
    "slideshow": {
     "slide_type": "slide"
    }
   },
   "source": [
    "Let's use this to build a map of every airport's nearest neighbor:"
   ]
  },
  {
   "cell_type": "code",
   "execution_count": 45,
   "metadata": {},
   "outputs": [],
   "source": [
    "# compute air_nn, every airport's nearest neighbor\n",
    "\n"
   ]
  },
  {
   "cell_type": "code",
   "execution_count": 43,
   "metadata": {
    "scrolled": true,
    "slideshow": {
     "slide_type": "slide"
    }
   },
   "outputs": [
    {
     "ename": "ERROR",
     "evalue": "Error in filter(., lat < 50, lat > 23): object 'air_nn' not found\n",
     "output_type": "error",
     "traceback": [
      "Error in filter(., lat < 50, lat > 23): object 'air_nn' not found\nTraceback:\n",
      "1. air_nn %>% filter(lat < 50, lat > 23) %>% ggplot",
      "2. ggplot(.)",
      "3. filter(., lat < 50, lat > 23)"
     ]
    }
   ],
   "source": [
    "air_nn  %>% filter(lat < 50, lat > 23) %>%\n",
    "    ggplot + \n",
    "    geom_segment(aes(x = lon, y = lat, xend = lon2, yend = lat2), color=\"blue\") +\n",
    "    geom_point(aes(x = lon, y = lat)) + \n",
    "    coord_quickmap()"
   ]
  },
  {
   "cell_type": "markdown",
   "metadata": {
    "slideshow": {
     "slide_type": "slide"
    }
   },
   "source": [
    "## Exercise\n",
    "In 1985 a hurricane made landfall on Long Island, NY between JFK Airport and Islip.\n",
    "What was the name of that hurricane?"
   ]
  },
  {
   "cell_type": "code",
   "execution_count": 156,
   "metadata": {
    "slideshow": {
     "slide_type": "slide"
    }
   },
   "outputs": [
    {
     "data": {
      "text/plain": [
       "[1] -73.77893"
      ]
     },
     "metadata": {},
     "output_type": "display_data"
    },
    {
     "data": {
      "text/plain": [
       "[1] 40.63975"
      ]
     },
     "metadata": {},
     "output_type": "display_data"
    },
    {
     "data": {
      "text/plain": [
       "  dist      name   year month day hour lat  long  status              category\n",
       "1 0.2817433 Floyd  1999 9     17   0   40.6 -73.5 tropical storm      0       \n",
       "2 0.4805718 Gloria 1985 9     27  16   40.6 -73.3 hurricane           1       \n",
       "3 0.5881268 Chris  1988 8     30   0   41.2 -73.6 tropical depression -1      \n",
       "  wind pressure ts_diameter hu_diameter\n",
       "1 50    980     NA          NA         \n",
       "2 75    961     NA          NA         \n",
       "3 20   1008     NA          NA         "
      ]
     },
     "metadata": {},
     "output_type": "display_data"
    }
   ],
   "source": [
    "jfk <- airports %>% filter(faa == \"JFK\")\n",
    "jfk$lon\n",
    "jfk$lat\n",
    "storms %>% mutate(dist = sqrt((lat -+ jfk$lat)^2 + (long - jfk$lon)^2)) %>% select(dist, everything()) %>%\n",
    "    arrange(dist) %>% slice(1:3)"
   ]
  }
 ],
 "metadata": {
  "celltoolbar": "Slideshow",
  "kernelspec": {
   "display_name": "R",
   "language": "R",
   "name": "ir"
  },
  "language_info": {
   "codemirror_mode": "r",
   "file_extension": ".r",
   "mimetype": "text/x-r-source",
   "name": "R",
   "pygments_lexer": "r",
   "version": "4.2.1"
  }
 },
 "nbformat": 4,
 "nbformat_minor": 2
}
