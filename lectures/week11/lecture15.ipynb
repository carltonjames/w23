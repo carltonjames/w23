{
 "cells": [
  {
   "cell_type": "code",
   "execution_count": 84,
   "metadata": {},
   "outputs": [],
   "source": [
    "library(tidyverse)\n",
    "library(lubridate)\n",
    "library(forcats)\n",
    "library(nycflights13)\n",
    "# install.packages(\"tidytext\")\n",
    "library(tidytext)"
   ]
  },
  {
   "cell_type": "markdown",
   "metadata": {
    "slideshow": {
     "slide_type": "slide"
    }
   },
   "source": [
    "# Lecture 15: Dates"
   ]
  },
  {
   "cell_type": "markdown",
   "metadata": {
    "slideshow": {
     "slide_type": "slide"
    }
   },
   "source": [
    "## 🤔 Quiz\n",
    "\n",
    "Every year has 365 days:\n",
    "\n",
    "<ol style=\"list-style-type: upper-alpha;\">\n",
    "    <li>True</li>\n",
    "    <li>False</li>\n",
    "    <li>I am not physically present in this room.</li>\n",
    "</ol>"
   ]
  },
  {
   "cell_type": "code",
   "execution_count": null,
   "metadata": {},
   "outputs": [],
   "source": [
    "# year"
   ]
  },
  {
   "cell_type": "markdown",
   "metadata": {
    "slideshow": {
     "slide_type": "slide"
    }
   },
   "source": [
    "## 🤔 Quiz\n",
    "\n",
    "Every day has 24 hours:\n",
    "\n",
    "<ol style=\"list-style-type: upper-alpha;\">\n",
    "    <li>True</li>\n",
    "    <li>False</li>\n",
    "\n",
    "</ol>"
   ]
  },
  {
   "cell_type": "code",
   "execution_count": 64,
   "metadata": {},
   "outputs": [],
   "source": [
    "# day"
   ]
  },
  {
   "cell_type": "markdown",
   "metadata": {
    "slideshow": {
     "slide_type": "slide"
    }
   },
   "source": [
    "## 🤔 Quiz\n",
    "\n",
    "Every minute has 60 seconds:\n",
    "\n",
    "<ol style=\"list-style-type: upper-alpha;\">\n",
    "    <li>True</li>\n",
    "    <li>False</li>\n",
    "</ol>"
   ]
  },
  {
   "cell_type": "markdown",
   "metadata": {
    "slideshow": {
     "slide_type": "slide"
    }
   },
   "source": [
    "## Dates\n",
    "Most of us have a pretty firm grasp on dates. But they can be more complicated than you might think. Consider these three questions from the book:\n",
    "* Does every year have 365 days?\n",
    "* Does every day have 24 hours?\n",
    "* Does every minute have 60 seconds?\n",
    "\n",
    "The answer to all three is \"no\"."
   ]
  },
  {
   "cell_type": "markdown",
   "metadata": {
    "slideshow": {
     "slide_type": "notes"
    }
   },
   "source": [
    "As before, we'll rely on the `lubridate` package to work with dates:"
   ]
  },
  {
   "cell_type": "code",
   "execution_count": 72,
   "metadata": {},
   "outputs": [],
   "source": [
    "library(lubridate)"
   ]
  },
  {
   "cell_type": "markdown",
   "metadata": {
    "slideshow": {
     "slide_type": "slide"
    }
   },
   "source": [
    "There are three different date classes in R:\n",
    "\n",
    "* A date, printed in tibble as `<date>`, represents a full day on the calendar.\n",
    "* A time within a day, printed as `<time>`, represents a specific time within an (unspecified) day.\n",
    "* A date-time is a date plus a time (tibble: `<dttm>`). A date-time uniquely identifies an instant in time (up to a given precision, usually 1 second.)"
   ]
  },
  {
   "cell_type": "markdown",
   "metadata": {
    "slideshow": {
     "slide_type": "slide"
    }
   },
   "source": [
    "We've already seen examples of date-times in the `flights` tibble:"
   ]
  },
  {
   "cell_type": "code",
   "execution_count": 73,
   "metadata": {},
   "outputs": [
    {
     "name": "stdout",
     "output_type": "stream",
     "text": [
      "# A tibble: 336,776 x 1\n",
      "   time_hour          \n",
      "   <dttm>             \n",
      " 1 2013-01-01 05:00:00\n",
      " 2 2013-01-01 05:00:00\n",
      " 3 2013-01-01 05:00:00\n",
      " 4 2013-01-01 05:00:00\n",
      " 5 2013-01-01 06:00:00\n",
      " 6 2013-01-01 05:00:00\n",
      " 7 2013-01-01 06:00:00\n",
      " 8 2013-01-01 06:00:00\n",
      " 9 2013-01-01 06:00:00\n",
      "10 2013-01-01 06:00:00\n",
      "# … with 336,766 more rows\n"
     ]
    }
   ],
   "source": [
    "select(flights, time_hour) %>% print"
   ]
  },
  {
   "cell_type": "markdown",
   "metadata": {
    "slideshow": {
     "slide_type": "notes"
    }
   },
   "source": [
    "You should tend to favor working with dates over date-times if possible. The latter are more complicated because of the need to handle time zones.\n",
    "\n"
   ]
  },
  {
   "cell_type": "markdown",
   "metadata": {
    "slideshow": {
     "slide_type": "slide"
    }
   },
   "source": [
    "We can get the current date and date-time using the `today()` and `now()` commands:"
   ]
  },
  {
   "cell_type": "code",
   "execution_count": 74,
   "metadata": {},
   "outputs": [
    {
     "data": {
      "text/plain": [
       "[1] \"2019-10-29\""
      ]
     },
     "metadata": {},
     "output_type": "display_data"
    }
   ],
   "source": [
    "today()"
   ]
  },
  {
   "cell_type": "code",
   "execution_count": 75,
   "metadata": {},
   "outputs": [
    {
     "data": {
      "text/plain": [
       "[1] \"2019-10-29 10:07:01 EDT\""
      ]
     },
     "metadata": {},
     "output_type": "display_data"
    }
   ],
   "source": [
    "now()"
   ]
  },
  {
   "cell_type": "markdown",
   "metadata": {
    "slideshow": {
     "slide_type": "slide"
    }
   },
   "source": [
    "### Converting strings to dates and times\n",
    "Frequently you will be encounter date and/or time data stored as text. You will need to convert these data into the native R date classes in order to use date functions on them. The `mdy/ymd/dmy` functions accomplish this."
   ]
  },
  {
   "cell_type": "code",
   "execution_count": 83,
   "metadata": {
    "slideshow": {
     "slide_type": "slide"
    }
   },
   "outputs": [
    {
     "data": {
      "text/plain": [
       "[1] \"2017-01-31\""
      ]
     },
     "metadata": {},
     "output_type": "display_data"
    }
   ],
   "source": [
    "ymd(\"2017 01 31\")"
   ]
  },
  {
   "cell_type": "code",
   "execution_count": 84,
   "metadata": {},
   "outputs": [
    {
     "data": {
      "text/plain": [
       "[1] \"2017-01-31\""
      ]
     },
     "metadata": {},
     "output_type": "display_data"
    },
    {
     "data": {
      "text/plain": [
       "[1] \"2017-01-31\""
      ]
     },
     "metadata": {},
     "output_type": "display_data"
    }
   ],
   "source": [
    "mdy(\"1 31 2017\")\n",
    "\n",
    "dmy(\"31 1 2017\")"
   ]
  },
  {
   "cell_type": "markdown",
   "metadata": {
    "slideshow": {
     "slide_type": "slide"
    }
   },
   "source": [
    "### Other languages\n",
    "You might find yourself needing to parse dates in other languages. This will fail if the dates are in a language which is different from your system's language:"
   ]
  },
  {
   "cell_type": "code",
   "execution_count": 65,
   "metadata": {},
   "outputs": [
    {
     "name": "stderr",
     "output_type": "stream",
     "text": [
      "Warning message:\n",
      "“All formats failed to parse. No formats found.”\n"
     ]
    },
    {
     "data": {
      "text/html": [
       "<time datetime=\"&lt;NA&gt;\">&lt;NA&gt;</time>"
      ],
      "text/latex": [
       "<NA>"
      ],
      "text/markdown": [
       "&lt;NA&gt;"
      ],
      "text/plain": [
       "[1] NA"
      ]
     },
     "metadata": {},
     "output_type": "display_data"
    }
   ],
   "source": [
    "dmy(\"31 agosto 2017\")"
   ]
  },
  {
   "cell_type": "markdown",
   "metadata": {
    "slideshow": {
     "slide_type": "slide"
    }
   },
   "source": [
    "Fix this by specifying the *locale* option:"
   ]
  },
  {
   "cell_type": "code",
   "execution_count": 69,
   "metadata": {},
   "outputs": [
    {
     "name": "stderr",
     "output_type": "stream",
     "text": [
      "Warning message in Sys.setlocale(\"LC_TIME\", locale):\n",
      "“OS reports request to set locale to \"fr_FR\" cannot be honored”\n"
     ]
    },
    {
     "ename": "ERROR",
     "evalue": "Error in Sys.setlocale(\"LC_TIME\", locale): (converted from warning) OS reports request to set locale to \"fr_FR\" cannot be honored\n",
     "output_type": "error",
     "traceback": [
      "Error in Sys.setlocale(\"LC_TIME\", locale): (converted from warning) OS reports request to set locale to \"fr_FR\" cannot be honored\nTraceback:\n",
      "1. dmy(\"31 août 2017\", locale = \"fr_FR\")",
      "2. .parse_xxx(..., orders = \"dmy\", quiet = quiet, tz = tz, locale = locale, \n .     truncated = truncated)",
      "3. as.Date.POSIXct(parse_date_time(dates, orders, quiet = quiet, \n .     tz = \"UTC\", locale = locale, truncated = truncated))",
      "4. parse_date_time(dates, orders, quiet = quiet, tz = \"UTC\", locale = locale, \n .     truncated = truncated)",
      "5. .local_parse(x[to_parse], TRUE)",
      "6. .best_formats(train, orders, locale = locale, select_formats, \n .     drop = drop)",
      "7. unique(guess_formats(x, orders, locale = locale, preproc_wday = TRUE))",
      "8. guess_formats(x, orders, locale = locale, preproc_wday = TRUE)",
      "9. .get_locale_regs(locale)",
      "10. Sys.setlocale(\"LC_TIME\", locale)",
      "11. .signalSimpleWarning(\"OS reports request to set locale to \\\"fr_FR\\\" cannot be honored\", \n  .     base::quote(Sys.setlocale(\"LC_TIME\", locale)))",
      "12. withRestarts({\n  .     .Internal(.signalCondition(simpleWarning(msg, call), msg, \n  .         call))\n  .     .Internal(.dfltWarn(msg, call))\n  . }, muffleWarning = function() NULL)",
      "13. withOneRestart(expr, restarts[[1L]])",
      "14. doWithOneRestart(return(expr), restart)"
     ]
    }
   ],
   "source": [
    "dmy(\"31 août 2017\", locale = \"fr_FR\")"
   ]
  },
  {
   "cell_type": "code",
   "execution_count": 34,
   "metadata": {},
   "outputs": [
    {
     "data": {
      "text/plain": [
       "[1] \"2017-01-31\""
      ]
     },
     "metadata": {},
     "output_type": "display_data"
    }
   ],
   "source": [
    "dmy(\"31-Jan-2017\")"
   ]
  },
  {
   "cell_type": "markdown",
   "metadata": {
    "slideshow": {
     "slide_type": "slide"
    }
   },
   "source": [
    "#### Date-time parsers\n",
    "There are also equivalent functions for parsing date-times:"
   ]
  },
  {
   "cell_type": "code",
   "execution_count": 88,
   "metadata": {
    "slideshow": {
     "slide_type": "-"
    }
   },
   "outputs": [
    {
     "data": {
      "text/plain": [
       "[1] \"2017-01-31 20:11:59 UTC\""
      ]
     },
     "metadata": {},
     "output_type": "display_data"
    }
   ],
   "source": [
    "ymd_hms(\"2017-01-31 20:11:59\")"
   ]
  },
  {
   "cell_type": "code",
   "execution_count": 89,
   "metadata": {},
   "outputs": [
    {
     "data": {
      "text/plain": [
       "[1] \"2017-01-31 08:01:00 UTC\""
      ]
     },
     "metadata": {},
     "output_type": "display_data"
    }
   ],
   "source": [
    "mdy_hm(\"01/31/2017 08:01\")"
   ]
  },
  {
   "cell_type": "markdown",
   "metadata": {
    "slideshow": {
     "slide_type": "slide"
    }
   },
   "source": [
    "Sometimes you can get away with calling `as_datetime()`:"
   ]
  },
  {
   "cell_type": "code",
   "execution_count": 70,
   "metadata": {},
   "outputs": [
    {
     "data": {
      "text/plain": [
       "[1] \"2017-01-31 20:11:59 UTC\""
      ]
     },
     "metadata": {},
     "output_type": "display_data"
    }
   ],
   "source": [
    "as_datetime(\"2017-01-31 20:11:59\")\n"
   ]
  },
  {
   "cell_type": "markdown",
   "metadata": {},
   "source": [
    "But not always:"
   ]
  },
  {
   "cell_type": "code",
   "execution_count": 71,
   "metadata": {},
   "outputs": [
    {
     "name": "stderr",
     "output_type": "stream",
     "text": [
      "Warning message:\n",
      "“All formats failed to parse. No formats found.”\n"
     ]
    },
    {
     "data": {
      "text/plain": [
       "[1] NA"
      ]
     },
     "metadata": {},
     "output_type": "display_data"
    }
   ],
   "source": [
    "as_datetime(\"01/31/2017 08:01\")"
   ]
  },
  {
   "cell_type": "markdown",
   "metadata": {
    "slideshow": {
     "slide_type": "slide"
    }
   },
   "source": [
    "### Making a date-time from components\n",
    "We saw in the `flights` table that date information can be spread across multiple columns. The `make_date` and `make_datetime` functions can make dates from these:"
   ]
  },
  {
   "cell_type": "code",
   "execution_count": 95,
   "metadata": {},
   "outputs": [
    {
     "name": "stdout",
     "output_type": "stream",
     "text": [
      "# A tibble: 336,776 x 4\n",
      "    year month   day dep_time\n",
      "   <int> <int> <int>    <int>\n",
      " 1  2013     1     1      517\n",
      " 2  2013     1     1      533\n",
      " 3  2013     1     1      542\n",
      " 4  2013     1     1      544\n",
      " 5  2013     1     1      554\n",
      " 6  2013     1     1      554\n",
      " 7  2013     1     1      555\n",
      " 8  2013     1     1      557\n",
      " 9  2013     1     1      557\n",
      "10  2013     1     1      558\n",
      "# … with 336,766 more rows\n"
     ]
    }
   ],
   "source": [
    "flights %>% select(year, month, day, dep_time) %>% print"
   ]
  },
  {
   "cell_type": "markdown",
   "metadata": {
    "slideshow": {
     "slide_type": "slide"
    }
   },
   "source": [
    "#### Example\n",
    "The `flights` table has scheduled as well as actual arrival and departure times. Let's create a date-time variable from the actual departure time:"
   ]
  },
  {
   "cell_type": "code",
   "execution_count": 98,
   "metadata": {
    "scrolled": true,
    "slideshow": {
     "slide_type": "slide"
    }
   },
   "outputs": [
    {
     "name": "stdout",
     "output_type": "stream",
     "text": [
      "# A tibble: 328,063 x 9\n",
      "   origin dest  dep_delay arr_delay dep_time            sched_dep_time     \n",
      "   <chr>  <chr>     <dbl>     <dbl> <dttm>              <dttm>             \n",
      " 1 EWR    IAH           2        11 2013-01-01 05:17:00 2013-01-01 05:15:00\n",
      " 2 LGA    IAH           4        20 2013-01-01 05:33:00 2013-01-01 05:29:00\n",
      " 3 JFK    MIA           2        33 2013-01-01 05:42:00 2013-01-01 05:40:00\n",
      " 4 JFK    BQN          -1       -18 2013-01-01 05:44:00 2013-01-01 05:45:00\n",
      " 5 LGA    ATL          -6       -25 2013-01-01 05:54:00 2013-01-01 06:00:00\n",
      " 6 EWR    ORD          -4        12 2013-01-01 05:54:00 2013-01-01 05:58:00\n",
      " 7 EWR    FLL          -5        19 2013-01-01 05:55:00 2013-01-01 06:00:00\n",
      " 8 LGA    IAD          -3       -14 2013-01-01 05:57:00 2013-01-01 06:00:00\n",
      " 9 JFK    MCO          -3        -8 2013-01-01 05:57:00 2013-01-01 06:00:00\n",
      "10 LGA    ORD          -2         8 2013-01-01 05:58:00 2013-01-01 06:00:00\n",
      "# … with 328,053 more rows, and 3 more variables: arr_time <dttm>,\n",
      "#   sched_arr_time <dttm>, air_time <dbl>\n"
     ]
    }
   ],
   "source": [
    "make_datetime_100 = function(year, month, day, time) {\n",
    "  make_datetime(year, month, day, time %/% 100, time %% 100)\n",
    "}\n",
    "\n",
    "flights_dt = flights %>% \n",
    "  filter(!is.na(dep_time), !is.na(arr_time)) %>% \n",
    "  mutate(\n",
    "    dep_time = make_datetime_100(year, month, day, dep_time),\n",
    "    arr_time = make_datetime_100(year, month, day, arr_time),\n",
    "    sched_dep_time = make_datetime_100(year, month, day, sched_dep_time),\n",
    "    sched_arr_time = make_datetime_100(year, month, day, sched_arr_time)\n",
    "  ) %>% \n",
    "  select(origin, dest, ends_with(\"delay\"), ends_with(\"time\"))  %>% print"
   ]
  },
  {
   "cell_type": "markdown",
   "metadata": {
    "slideshow": {
     "slide_type": "slide"
    }
   },
   "source": [
    "Now we can use built in R command to query and plot these data based on actual departure time:"
   ]
  },
  {
   "cell_type": "code",
   "execution_count": 112,
   "metadata": {},
   "outputs": [
    {
     "data": {
      "image/png": "[encoded data removed]"
     },
     "metadata": {},
     "output_type": "display_data"
    }
   ],
   "source": [
    "flights_dt %>% \n",
    "  filter(dep_time < ymd(20130130), dep_time >= ymd(20130120)) %>% \n",
    "  ggplot(aes(x=dep_time)) + \n",
    "  geom_histogram(binwidth = 24 * 60 * 60)"
   ]
  },
  {
   "cell_type": "markdown",
   "metadata": {
    "slideshow": {
     "slide_type": "slide"
    }
   },
   "source": [
    "Notice that this command and resulting graph looks much nicer than if we did not use the date classes:\n",
    "* The filter on `dep_time` looks more natural than `filter(day<2, month==1, year==2013)`.\n",
    "* We can easily express the bin-width of 600 seconds in `geom_freqpoly(binwidth = 600)`. When you use date-times in a numeric context (like in a histogram), 1 means 1 second; for dates, 1 means 1 day.\n",
    "* The plot x axis has nice readable labels."
   ]
  },
  {
   "cell_type": "markdown",
   "metadata": {
    "slideshow": {
     "slide_type": "slide"
    }
   },
   "source": [
    "### The epoch\n",
    "UNIX systems sometimes represent time as \"the number of seconds which have elapsed since 1-1-1970.\" This date is known as \"the epoch\". So you may occasionally come across date-times that look like:"
   ]
  },
  {
   "cell_type": "code",
   "execution_count": 115,
   "metadata": {},
   "outputs": [
    {
     "data": {
      "text/plain": [
       "[1] 1572358737"
      ]
     },
     "metadata": {},
     "output_type": "display_data"
    }
   ],
   "source": [
    "now() %>% as.integer() "
   ]
  },
  {
   "cell_type": "markdown",
   "metadata": {
    "slideshow": {
     "slide_type": "slide"
    }
   },
   "source": [
    "To convert these to date format you can use `as_datetime`:"
   ]
  },
  {
   "cell_type": "code",
   "execution_count": 72,
   "metadata": {},
   "outputs": [
    {
     "data": {
      "text/plain": [
       "[1] \"1970-01-02 UTC\""
      ]
     },
     "metadata": {},
     "output_type": "display_data"
    }
   ],
   "source": [
    "as_datetime(3600 * 24)  # 24 hours after the epoch"
   ]
  },
  {
   "cell_type": "markdown",
   "metadata": {
    "slideshow": {
     "slide_type": "slide"
    }
   },
   "source": [
    "## 🤔 Quiz\n",
    "\n",
    "Julian was born on September 22, 2019 at 1:05PM EDT. How many seconds old is Julian?\n",
    "\n",
    "<ol style=\"list-style-type: upper-alpha;\">\n",
    "    <li>About $10^7$</li>\n",
    "    <li>About $10^8$</li>\n",
    "    <li>About $10^9$</li>\n",
    "    <li>About $10^{10}$</li>\n",
    "</ol>"
   ]
  },
  {
   "cell_type": "code",
   "execution_count": 78,
   "metadata": {},
   "outputs": [],
   "source": [
    "# second old"
   ]
  },
  {
   "cell_type": "markdown",
   "metadata": {
    "slideshow": {
     "slide_type": "slide"
    }
   },
   "source": [
    "### Date-time components\n",
    "The functions `year()`, `month()`, `mday()` (day of the month), `yday()` (day of the year), `wday()` (day of the week), `hour()`, `minute()`, and `second()` can extract components from dates and times:"
   ]
  },
  {
   "cell_type": "code",
   "execution_count": 149,
   "metadata": {},
   "outputs": [
    {
     "data": {
      "text/plain": [
       "[1] \"2018-03-12 12:00:00 UTC\""
      ]
     },
     "metadata": {},
     "output_type": "display_data"
    }
   ],
   "source": [
    "mdy_hms(c(\"March 12, 2018 12:00:00\")) "
   ]
  },
  {
   "cell_type": "markdown",
   "metadata": {
    "slideshow": {
     "slide_type": "slide"
    }
   },
   "source": [
    "By extracting the minute component of scheduled departure time, we uncover a surprising pattern:"
   ]
  },
  {
   "cell_type": "code",
   "execution_count": 49,
   "metadata": {},
   "outputs": [
    {
     "data": {
      "image/png": "[encoded data removed]"
     },
     "metadata": {},
     "output_type": "display_data"
    }
   ],
   "source": [
    "flights_dt %>% \n",
    "  mutate(minute = minute(dep_time)) %>% \n",
    "  group_by(minute) %>% \n",
    "  summarise(\n",
    "    avg_delay = mean(arr_delay, na.rm = TRUE),\n",
    "    n = n()) %>% \n",
    "  ggplot(aes(minute, avg_delay)) +\n",
    "    geom_line()"
   ]
  },
  {
   "cell_type": "markdown",
   "metadata": {
    "slideshow": {
     "slide_type": "slide"
    }
   },
   "source": [
    "On the other hand, when grouped by scheduled departure time the delays seem to be random:"
   ]
  },
  {
   "cell_type": "code",
   "execution_count": 50,
   "metadata": {},
   "outputs": [
    {
     "data": {
      "image/png": "[encoded data removed]"
     },
     "metadata": {},
     "output_type": "display_data"
    }
   ],
   "source": [
    "sched_dep <- flights_dt %>% \n",
    "  mutate(minute = minute(sched_dep_time)) %>% \n",
    "  group_by(minute) %>% \n",
    "  summarise(\n",
    "    avg_delay = mean(arr_delay, na.rm = TRUE),\n",
    "    n = n())\n",
    "\n",
    "ggplot(sched_dep, aes(minute, avg_delay)) +\n",
    "  geom_line()"
   ]
  },
  {
   "cell_type": "markdown",
   "metadata": {
    "slideshow": {
     "slide_type": "slide"
    }
   },
   "source": [
    "As explained by the book, there is a bias in scheduled departure times towards nice round numbers:"
   ]
  },
  {
   "cell_type": "code",
   "execution_count": 51,
   "metadata": {},
   "outputs": [
    {
     "data": {
      "image/png": "[encoded data removed]"
     },
     "metadata": {},
     "output_type": "display_data"
    }
   ],
   "source": [
    "ggplot(sched_dep, aes(minute, n)) + geom_col()"
   ]
  },
  {
   "cell_type": "markdown",
   "metadata": {
    "slideshow": {
     "slide_type": "slide"
    }
   },
   "source": [
    "#### As accessors\n",
    "The component functions also work as accessors, meaning they can be used on the left-hand side of an assignment:"
   ]
  },
  {
   "cell_type": "code",
   "execution_count": 52,
   "metadata": {},
   "outputs": [
    {
     "data": {
      "text/plain": [
       "[1] \"2019-10-29\""
      ]
     },
     "metadata": {},
     "output_type": "display_data"
    },
    {
     "data": {
      "text/plain": [
       "[1] \"2019-10-24\""
      ]
     },
     "metadata": {},
     "output_type": "display_data"
    }
   ],
   "source": [
    "(d = today())\n",
    "mday(d) = 24\n",
    "d"
   ]
  },
  {
   "cell_type": "markdown",
   "metadata": {
    "slideshow": {
     "slide_type": "slide"
    }
   },
   "source": [
    "To return a new (date)time rather than modifying in place, you can use the `update` command:"
   ]
  },
  {
   "cell_type": "code",
   "execution_count": 53,
   "metadata": {},
   "outputs": [
    {
     "data": {
      "text/plain": [
       "[1] \"2020-10-29\""
      ]
     },
     "metadata": {},
     "output_type": "display_data"
    }
   ],
   "source": [
    "update(today(), year=2020)"
   ]
  },
  {
   "cell_type": "markdown",
   "metadata": {
    "slideshow": {
     "slide_type": "slide"
    }
   },
   "source": [
    "### Time spans\n",
    "Time spans are the difference between two time points. These are represented in R by the `difftime` class:"
   ]
  },
  {
   "cell_type": "code",
   "execution_count": 54,
   "metadata": {},
   "outputs": [
    {
     "data": {
      "text/plain": [
       "Time difference of 3287 days"
      ]
     },
     "metadata": {},
     "output_type": "display_data"
    },
    {
     "data": {
      "text/plain": [
       "[1] \"difftime\""
      ]
     },
     "metadata": {},
     "output_type": "display_data"
    }
   ],
   "source": [
    "(d = today() - update(today(), year=2010))\n",
    "class(d)"
   ]
  },
  {
   "cell_type": "markdown",
   "metadata": {
    "slideshow": {
     "slide_type": "slide"
    }
   },
   "source": [
    "Because it is usually simpler to reason about time differences in terms of a single number, `lubridate` also provides a `duration` class which is stored in terms of seconds:"
   ]
  },
  {
   "cell_type": "code",
   "execution_count": 55,
   "metadata": {},
   "outputs": [
    {
     "data": {
      "text/plain": [
       "[1] \"1234s (~20.57 minutes)\""
      ]
     },
     "metadata": {},
     "output_type": "display_data"
    }
   ],
   "source": [
    "as.duration(1234)"
   ]
  },
  {
   "cell_type": "code",
   "execution_count": 56,
   "metadata": {},
   "outputs": [
    {
     "data": {
      "text/plain": [
       "[1] \"10s\""
      ]
     },
     "metadata": {},
     "output_type": "display_data"
    }
   ],
   "source": [
    "dseconds(10)"
   ]
  },
  {
   "cell_type": "code",
   "execution_count": 57,
   "metadata": {},
   "outputs": [
    {
     "data": {
      "text/plain": [
       "[1] \"1814400s (~3 weeks)\""
      ]
     },
     "metadata": {},
     "output_type": "display_data"
    }
   ],
   "source": [
    "dweeks(3)"
   ]
  },
  {
   "cell_type": "markdown",
   "metadata": {
    "slideshow": {
     "slide_type": "slide"
    }
   },
   "source": [
    "Arithmetic with durations works as you would expect:"
   ]
  },
  {
   "cell_type": "code",
   "execution_count": 58,
   "metadata": {
    "slideshow": {
     "slide_type": "slide"
    }
   },
   "outputs": [
    {
     "data": {
      "text/plain": [
       "[1] \"63072000s (~2 years)\""
      ]
     },
     "metadata": {},
     "output_type": "display_data"
    }
   ],
   "source": [
    "2 * dyears(1)"
   ]
  },
  {
   "cell_type": "code",
   "execution_count": 59,
   "metadata": {},
   "outputs": [
    {
     "data": {
      "text/plain": [
       "[1] \"38847600s (~1.23 years)\""
      ]
     },
     "metadata": {},
     "output_type": "display_data"
    }
   ],
   "source": [
    "dyears(1) + dweeks(12) + dhours(15)"
   ]
  },
  {
   "cell_type": "markdown",
   "metadata": {
    "slideshow": {
     "slide_type": "slide"
    }
   },
   "source": [
    "You have to be careful when adding durations and dates. What is 1 day after this Saturday at 1pm?"
   ]
  },
  {
   "cell_type": "code",
   "execution_count": 158,
   "metadata": {},
   "outputs": [
    {
     "data": {
      "text/plain": [
       "[1] \"2019-11-03 12:00:00 EST\""
      ]
     },
     "metadata": {},
     "output_type": "display_data"
    }
   ],
   "source": [
    "next_saturday = mdy_hm(\"Nov. 2, 2019 13:00PM\", tz=\"America/Detroit\")\n",
    "next_saturday + ddays(1)"
   ]
  },
  {
   "cell_type": "markdown",
   "metadata": {
    "slideshow": {
     "slide_type": "slide"
    }
   },
   "source": [
    "To prevent this sort of thing from happening, `lubridate` also offers objects called \"periods\":"
   ]
  },
  {
   "cell_type": "code",
   "execution_count": 61,
   "metadata": {},
   "outputs": [
    {
     "data": {
      "text/plain": [
       "[1] \"1d 0H 0M 0S\""
      ]
     },
     "metadata": {},
     "output_type": "display_data"
    },
    {
     "data": {
      "text/plain": [
       "[1] \"Period\"\n",
       "attr(,\"package\")\n",
       "[1] \"lubridate\""
      ]
     },
     "metadata": {},
     "output_type": "display_data"
    }
   ],
   "source": [
    "days(1)\n",
    "class(days(1))"
   ]
  },
  {
   "cell_type": "markdown",
   "metadata": {
    "slideshow": {
     "slide_type": "slide"
    }
   },
   "source": [
    "Similarly, periouds have the expected behaviour if you add one year to a leap year:"
   ]
  },
  {
   "cell_type": "code",
   "execution_count": 159,
   "metadata": {},
   "outputs": [
    {
     "data": {
      "text/plain": [
       "[1] \"2016-12-31\""
      ]
     },
     "metadata": {},
     "output_type": "display_data"
    }
   ],
   "source": [
    "ymd(\"2016-01-01\") + dyears(1)"
   ]
  },
  {
   "cell_type": "code",
   "execution_count": 66,
   "metadata": {},
   "outputs": [
    {
     "data": {
      "text/plain": [
       "[1] \"2017-01-01\""
      ]
     },
     "metadata": {},
     "output_type": "display_data"
    }
   ],
   "source": [
    "ymd(\"2016-01-01\") + years(1)"
   ]
  },
  {
   "cell_type": "markdown",
   "metadata": {
    "slideshow": {
     "slide_type": "slide"
    }
   },
   "source": [
    "### Exercise\n",
    "Jack is 20,000 days old today. What is Jack's birthday?"
   ]
  },
  {
   "cell_type": "code",
   "execution_count": 67,
   "metadata": {},
   "outputs": [
    {
     "data": {
      "text/plain": [
       "[1] \"1965-01-25\""
      ]
     },
     "metadata": {},
     "output_type": "display_data"
    }
   ],
   "source": [
    "today() - ddays(20000)"
   ]
  },
  {
   "cell_type": "markdown",
   "metadata": {
    "slideshow": {
     "slide_type": "slide"
    }
   },
   "source": [
    "#### Example\n",
    "Earlier in the semester we saw how some flights seem to have arrived before they departed:"
   ]
  },
  {
   "cell_type": "code",
   "execution_count": 68,
   "metadata": {},
   "outputs": [
    {
     "name": "stdout",
     "output_type": "stream",
     "text": [
      "# A tibble: 6 x 19\n",
      "   year month   day dep_time sched_dep_time dep_delay arr_time sched_arr_time\n",
      "  <int> <int> <int>    <int>          <int>     <dbl>    <int>          <int>\n",
      "1  2013     1     1     1929           1920         9        3              7\n",
      "2  2013     1     1     1939           1840        59       29           2151\n",
      "3  2013     1     1     2058           2100        -2        8           2359\n",
      "4  2013     1     1     2102           2108        -6      146            158\n",
      "5  2013     1     1     2108           2057        11       25             39\n",
      "6  2013     1     1     2120           2130       -10       16             18\n",
      "# … with 11 more variables: arr_delay <dbl>, carrier <chr>, flight <int>,\n",
      "#   tailnum <chr>, origin <chr>, dest <chr>, air_time <dbl>, distance <dbl>,\n",
      "#   hour <dbl>, minute <dbl>, time_hour <dttm>\n"
     ]
    }
   ],
   "source": [
    "filter(flights, arr_time < dep_time) %>% head %>% print"
   ]
  },
  {
   "cell_type": "markdown",
   "metadata": {
    "slideshow": {
     "slide_type": "slide"
    }
   },
   "source": [
    "This is because these are overnight flights. To fix this, we can now simply add one day to `arr_time`:"
   ]
  },
  {
   "cell_type": "code",
   "execution_count": 69,
   "metadata": {},
   "outputs": [
    {
     "name": "stdout",
     "output_type": "stream",
     "text": [
      "# A tibble: 328,063 x 10\n",
      "   origin dest  dep_delay arr_delay dep_time            sched_dep_time     \n",
      "   <chr>  <chr>     <dbl>     <dbl> <dttm>              <dttm>             \n",
      " 1 EWR    IAH           2        11 2013-01-01 05:17:00 2013-01-01 05:15:00\n",
      " 2 LGA    IAH           4        20 2013-01-01 05:33:00 2013-01-01 05:29:00\n",
      " 3 JFK    MIA           2        33 2013-01-01 05:42:00 2013-01-01 05:40:00\n",
      " 4 JFK    BQN          -1       -18 2013-01-01 05:44:00 2013-01-01 05:45:00\n",
      " 5 LGA    ATL          -6       -25 2013-01-01 05:54:00 2013-01-01 06:00:00\n",
      " 6 EWR    ORD          -4        12 2013-01-01 05:54:00 2013-01-01 05:58:00\n",
      " 7 EWR    FLL          -5        19 2013-01-01 05:55:00 2013-01-01 06:00:00\n",
      " 8 LGA    IAD          -3       -14 2013-01-01 05:57:00 2013-01-01 06:00:00\n",
      " 9 JFK    MCO          -3        -8 2013-01-01 05:57:00 2013-01-01 06:00:00\n",
      "10 LGA    ORD          -2         8 2013-01-01 05:58:00 2013-01-01 06:00:00\n",
      "# … with 328,053 more rows, and 4 more variables: arr_time <dttm>,\n",
      "#   sched_arr_time <dttm>, air_time <dbl>, overnight <lgl>\n"
     ]
    }
   ],
   "source": [
    "flights_dt = flights_dt %>% \n",
    "  mutate(\n",
    "    overnight = arr_time < dep_time,\n",
    "    arr_time = arr_time + days(overnight * 1),\n",
    "    sched_arr_time = sched_arr_time + days(overnight * 1)\n",
    "  ) %>% print"
   ]
  },
  {
   "cell_type": "markdown",
   "metadata": {
    "slideshow": {
     "slide_type": "slide"
    }
   },
   "source": [
    "### Time zones\n",
    "When we create a date-time, the default time zone is \"UTC\":"
   ]
  },
  {
   "cell_type": "code",
   "execution_count": 70,
   "metadata": {
    "slideshow": {
     "slide_type": "-"
    }
   },
   "outputs": [
    {
     "data": {
      "text/plain": [
       "[1] \"2000-01-30 UTC\""
      ]
     },
     "metadata": {},
     "output_type": "display_data"
    }
   ],
   "source": [
    "ymd_hm(\"2000-01-30 00:00\")"
   ]
  },
  {
   "cell_type": "markdown",
   "metadata": {},
   "source": [
    "This is a standard time zone which is, for historical reasons, equal to time in Greenwich, England."
   ]
  },
  {
   "cell_type": "markdown",
   "metadata": {
    "slideshow": {
     "slide_type": "slide"
    }
   },
   "source": [
    "If your times are coming from a different time zone you must specify using the `tz=` option:"
   ]
  },
  {
   "cell_type": "code",
   "execution_count": 71,
   "metadata": {},
   "outputs": [
    {
     "ename": "ERROR",
     "evalue": "Error in C_force_tz(time, tz = tzone, roll): CCTZ: Unrecognized output timezone: \"America/Ann_Arbor\"\n",
     "output_type": "error",
     "traceback": [
      "Error in C_force_tz(time, tz = tzone, roll): CCTZ: Unrecognized output timezone: \"America/Ann_Arbor\"\nTraceback:\n",
      "1. ymd_hms(\"2017-6-30 20:11:59\", tz = \"America/Ann_Arbor\")",
      "2. .parse_xxx_hms(..., orders = c(\"ymdTz\", \"ymdT\"), quiet = quiet, \n .     tz = tz, locale = locale, truncated = truncated)",
      "3. parse_date_time(dates, orders, tz = tz, quiet = quiet, locale = locale)",
      "4. .local_parse(x[to_parse], TRUE)",
      "5. .parse_date_time(x, formats, tz = tz, quiet = quiet, locale = locale)",
      "6. .strptime(x, formats[[1]], tz = tz, quiet = quiet, locale = locale)",
      "7. force_tz(out, tzone = tz)",
      "8. C_force_tz(time, tz = tzone, roll)"
     ]
    }
   ],
   "source": [
    "ymd_hms(\"2017-6-30 20:11:59\", tz=\"America/Ann_Arbor\")\n",
    "ymd_hms(\"2017-6-30 20:11:59\", tz=\"America/Los_Angeles\")"
   ]
  },
  {
   "cell_type": "markdown",
   "metadata": {
    "slideshow": {
     "slide_type": "slide"
    }
   },
   "source": [
    "You can find your local time zone using:"
   ]
  },
  {
   "cell_type": "code",
   "execution_count": null,
   "metadata": {},
   "outputs": [],
   "source": [
    "Sys.timezone()"
   ]
  },
  {
   "cell_type": "markdown",
   "metadata": {
    "slideshow": {
     "slide_type": "slide"
    }
   },
   "source": [
    "The command `OlsonNames()` will list all the possible time zones:"
   ]
  },
  {
   "cell_type": "code",
   "execution_count": null,
   "metadata": {},
   "outputs": [],
   "source": [
    "length(OlsonNames())\n",
    "sample(OlsonNames(), 10)"
   ]
  },
  {
   "cell_type": "markdown",
   "metadata": {
    "slideshow": {
     "slide_type": "slide"
    }
   },
   "source": [
    "## Trump Twitter data\n",
    "Let's use what we learned in the past two classes to analyze some real data. "
   ]
  },
  {
   "cell_type": "code",
   "execution_count": 81,
   "metadata": {
    "slideshow": {
     "slide_type": "notes"
    }
   },
   "outputs": [
    {
     "name": "stderr",
     "output_type": "stream",
     "text": [
      "Warning message:\n",
      "“\u001b[1m\u001b[22mOne or more parsing issues, call `problems()` on your data frame for details, e.g.:\n",
      "  dat <- vroom(...)\n",
      "  problems(dat)”\n",
      "\u001b[1mRows: \u001b[22m\u001b[34m23073\u001b[39m \u001b[1mColumns: \u001b[22m\u001b[34m4\u001b[39m\n",
      "\u001b[36m──\u001b[39m \u001b[1mColumn specification\u001b[22m \u001b[36m─────────────────────────────────────────────────────────────────────────────────────────────\u001b[39m\n",
      "\u001b[1mDelimiter:\u001b[22m \",\"\n",
      "\u001b[31mchr\u001b[39m  (3): ID, Tweet URL, Tweet Text\n",
      "\u001b[34mdttm\u001b[39m (1): Time\n",
      "\n",
      "\u001b[36mℹ\u001b[39m Use `spec()` to retrieve the full column specification for this data.\n",
      "\u001b[36mℹ\u001b[39m Specify the column types or set `show_col_types = FALSE` to quiet this message.\n"
     ]
    }
   ],
   "source": [
    "trump_tweets <- read_csv(\"https://github.com/MarkHershey/CompleteTrumpTweetsArchive/blob/master/data/realDonaldTrump_in_office.csv?raw=true\")"
   ]
  },
  {
   "cell_type": "markdown",
   "metadata": {
    "slideshow": {
     "slide_type": "notes"
    }
   },
   "source": [
    "`trump_tweets` is a dataset of all 23,073 Tweets that Donald Trump sent between taking office and getting kicked off Twitter in Jan 2021."
   ]
  },
  {
   "cell_type": "code",
   "execution_count": 85,
   "metadata": {},
   "outputs": [
    {
     "data": {
      "text/html": [
       "<table class=\"dataframe\">\n",
       "<caption>A tibble: 6 × 4</caption>\n",
       "<thead>\n",
       "\t<tr><th scope=col>ID</th><th scope=col>Time</th><th scope=col>Tweet URL</th><th scope=col>Tweet Text</th></tr>\n",
       "\t<tr><th scope=col>&lt;chr&gt;</th><th scope=col>&lt;dttm&gt;</th><th scope=col>&lt;chr&gt;</th><th scope=col>&lt;chr&gt;</th></tr>\n",
       "</thead>\n",
       "<tbody>\n",
       "\t<tr><td>@realDonaldTrump</td><td>2021-01-07 03:38:00</td><td>https://twitter.com/realDonaldTrump/status/1346904110969315332</td><td>Please support our Capitol Police and Law Enforcement. They are truly on the side of our Country. Stay peaceful!                                                                                                                  </td></tr>\n",
       "\t<tr><td>@realDonaldTrump</td><td>2021-01-07 04:13:00</td><td>https://twitter.com/realDonaldTrump/status/1346912780700577792</td><td><span style=white-space:pre-wrap>I am asking for everyone at the U.S. Capitol to remain peaceful. No violence! Remember, WE are the Party of Law &amp;amp; Order – respect the Law and our great men and women in Blue. Thank you!                                     </span></td></tr>\n",
       "\t<tr><td>@realDonaldTrump</td><td>2021-01-07 05:17:00</td><td>https://twitter.com/realDonaldTrump/status/1346928882595885058</td><td>https://t.co/Pm2PKV0Fp3                                                                                                                                                                                                           </td></tr>\n",
       "\t<tr><td>@realDonaldTrump</td><td>2021-01-08 08:10:00</td><td>https://twitter.com/realDonaldTrump/status/1347334804052844550</td><td>https://t.co/csX07ZVWGe                                                                                                                                                                                                           </td></tr>\n",
       "\t<tr><td>@realDonaldTrump</td><td>2021-01-08 22:46:00</td><td>https://twitter.com/realDonaldTrump/status/1347555316863553542</td><td>The 75,000,000 great American Patriots who voted for me, AMERICA FIRST, and MAKE AMERICA GREAT AGAIN, will have a GIANT VOICE long into the future. They will not be disrespected or treated unfairly in any way, shape or form!!!</td></tr>\n",
       "\t<tr><td>@realDonaldTrump</td><td>2021-01-08 23:44:00</td><td>https://twitter.com/realDonaldTrump/status/1347569870578266115</td><td>To all of those who have asked                                                                                                                                                                                                    </td></tr>\n",
       "</tbody>\n",
       "</table>\n"
      ],
      "text/latex": [
       "A tibble: 6 × 4\n",
       "\\begin{tabular}{llll}\n",
       " ID & Time & Tweet URL & Tweet Text\\\\\n",
       " <chr> & <dttm> & <chr> & <chr>\\\\\n",
       "\\hline\n",
       "\t @realDonaldTrump & 2021-01-07 03:38:00 & https://twitter.com/realDonaldTrump/status/1346904110969315332 & Please support our Capitol Police and Law Enforcement. They are truly on the side of our Country. Stay peaceful!                                                                                                                  \\\\\n",
       "\t @realDonaldTrump & 2021-01-07 04:13:00 & https://twitter.com/realDonaldTrump/status/1346912780700577792 & I am asking for everyone at the U.S. Capitol to remain peaceful. No violence! Remember, WE are the Party of Law \\&amp; Order – respect the Law and our great men and women in Blue. Thank you!                                     \\\\\n",
       "\t @realDonaldTrump & 2021-01-07 05:17:00 & https://twitter.com/realDonaldTrump/status/1346928882595885058 & https://t.co/Pm2PKV0Fp3                                                                                                                                                                                                           \\\\\n",
       "\t @realDonaldTrump & 2021-01-08 08:10:00 & https://twitter.com/realDonaldTrump/status/1347334804052844550 & https://t.co/csX07ZVWGe                                                                                                                                                                                                           \\\\\n",
       "\t @realDonaldTrump & 2021-01-08 22:46:00 & https://twitter.com/realDonaldTrump/status/1347555316863553542 & The 75,000,000 great American Patriots who voted for me, AMERICA FIRST, and MAKE AMERICA GREAT AGAIN, will have a GIANT VOICE long into the future. They will not be disrespected or treated unfairly in any way, shape or form!!!\\\\\n",
       "\t @realDonaldTrump & 2021-01-08 23:44:00 & https://twitter.com/realDonaldTrump/status/1347569870578266115 & To all of those who have asked                                                                                                                                                                                                    \\\\\n",
       "\\end{tabular}\n"
      ],
      "text/markdown": [
       "\n",
       "A tibble: 6 × 4\n",
       "\n",
       "| ID &lt;chr&gt; | Time &lt;dttm&gt; | Tweet URL &lt;chr&gt; | Tweet Text &lt;chr&gt; |\n",
       "|---|---|---|---|\n",
       "| @realDonaldTrump | 2021-01-07 03:38:00 | https://twitter.com/realDonaldTrump/status/1346904110969315332 | Please support our Capitol Police and Law Enforcement. They are truly on the side of our Country. Stay peaceful!                                                                                                                   |\n",
       "| @realDonaldTrump | 2021-01-07 04:13:00 | https://twitter.com/realDonaldTrump/status/1346912780700577792 | I am asking for everyone at the U.S. Capitol to remain peaceful. No violence! Remember, WE are the Party of Law &amp;amp; Order – respect the Law and our great men and women in Blue. Thank you!                                      |\n",
       "| @realDonaldTrump | 2021-01-07 05:17:00 | https://twitter.com/realDonaldTrump/status/1346928882595885058 | https://t.co/Pm2PKV0Fp3                                                                                                                                                                                                            |\n",
       "| @realDonaldTrump | 2021-01-08 08:10:00 | https://twitter.com/realDonaldTrump/status/1347334804052844550 | https://t.co/csX07ZVWGe                                                                                                                                                                                                            |\n",
       "| @realDonaldTrump | 2021-01-08 22:46:00 | https://twitter.com/realDonaldTrump/status/1347555316863553542 | The 75,000,000 great American Patriots who voted for me, AMERICA FIRST, and MAKE AMERICA GREAT AGAIN, will have a GIANT VOICE long into the future. They will not be disrespected or treated unfairly in any way, shape or form!!! |\n",
       "| @realDonaldTrump | 2021-01-08 23:44:00 | https://twitter.com/realDonaldTrump/status/1347569870578266115 | To all of those who have asked                                                                                                                                                                                                     |\n",
       "\n"
      ],
      "text/plain": [
       "  ID               Time               \n",
       "1 @realDonaldTrump 2021-01-07 03:38:00\n",
       "2 @realDonaldTrump 2021-01-07 04:13:00\n",
       "3 @realDonaldTrump 2021-01-07 05:17:00\n",
       "4 @realDonaldTrump 2021-01-08 08:10:00\n",
       "5 @realDonaldTrump 2021-01-08 22:46:00\n",
       "6 @realDonaldTrump 2021-01-08 23:44:00\n",
       "  Tweet URL                                                     \n",
       "1 https://twitter.com/realDonaldTrump/status/1346904110969315332\n",
       "2 https://twitter.com/realDonaldTrump/status/1346912780700577792\n",
       "3 https://twitter.com/realDonaldTrump/status/1346928882595885058\n",
       "4 https://twitter.com/realDonaldTrump/status/1347334804052844550\n",
       "5 https://twitter.com/realDonaldTrump/status/1347555316863553542\n",
       "6 https://twitter.com/realDonaldTrump/status/1347569870578266115\n",
       "  Tweet Text                                                                                                                                                                                                                        \n",
       "1 Please support our Capitol Police and Law Enforcement. They are truly on the side of our Country. Stay peaceful!                                                                                                                  \n",
       "2 I am asking for everyone at the U.S. Capitol to remain peaceful. No violence! Remember, WE are the Party of Law &amp; Order – respect the Law and our great men and women in Blue. Thank you!                                     \n",
       "3 https://t.co/Pm2PKV0Fp3                                                                                                                                                                                                           \n",
       "4 https://t.co/csX07ZVWGe                                                                                                                                                                                                           \n",
       "5 The 75,000,000 great American Patriots who voted for me, AMERICA FIRST, and MAKE AMERICA GREAT AGAIN, will have a GIANT VOICE long into the future. They will not be disrespected or treated unfairly in any way, shape or form!!!\n",
       "6 To all of those who have asked                                                                                                                                                                                                    "
      ]
     },
     "metadata": {},
     "output_type": "display_data"
    }
   ],
   "source": [
    "tail(trump_tweets)"
   ]
  },
  {
   "attachments": {
    "image.png": {
     "image/png": "[encoded data removed]"
    }
   },
   "cell_type": "markdown",
   "metadata": {
    "slideshow": {
     "slide_type": "slide"
    }
   },
   "source": [
    "### Task #2\n",
    "Plot the number of Tweets that Donald Trump has made for each quarter of the year from 2010 to present.\n",
    "![image.png](attachment:image.png)"
   ]
  },
  {
   "cell_type": "code",
   "execution_count": 65,
   "metadata": {
    "slideshow": {
     "slide_type": "slide"
    }
   },
   "outputs": [
    {
     "data": {
      "image/png": "[encoded data removed]"
     },
     "metadata": {},
     "output_type": "display_data"
    }
   ],
   "source": [
    "trump_tweets2 %>% mutate(year = year(dt), \n",
    "                         qtr = quarter(dt, with_year = T)) %>% \n",
    "    ggplot + geom_bar(aes(x=factor(qtr))) + coord_flip()"
   ]
  },
  {
   "cell_type": "markdown",
   "metadata": {
    "slideshow": {
     "slide_type": "slide"
    }
   },
   "source": [
    "### Task #3\n",
    "Recall that `words` contains common English words. After filtering out these words, and all words that were shorter than six characters, the most common words that the President used in 2018 were:\n",
    "\n",
    "```\n",
    "# A tibble: 11 x 2\n",
    "   words               n\n",
    "   <chr>           <int>\n",
    " 1 american          161\n",
    " 2 border            269\n",
    " 3 collusion         133\n",
    " 4 democrats         291\n",
    " 5 military          183\n",
    " 6 president         356\n",
    " 7 realdonaldtrump   182\n",
    " 8 russia            133\n",
    " 9 security          151\n",
    "10 states            150\n",
    "11 united            150\n",
    "\n",
    "```\n",
    "\n",
    "What about for 2012?"
   ]
  },
  {
   "cell_type": "code",
   "execution_count": 85,
   "metadata": {
    "slideshow": {
     "slide_type": "slide"
    }
   },
   "outputs": [
    {
     "name": "stderr",
     "output_type": "stream",
     "text": [
      "Selecting by n\n"
     ]
    },
    {
     "data": {
      "text/plain": [
       "   word            n  \n",
       "1  america         236\n",
       "2  american        232\n",
       "3  because         182\n",
       "4  border          384\n",
       "5  country         390\n",
       "6  democrats       512\n",
       "7  mueller         191\n",
       "8  nothing         196\n",
       "9  people          512\n",
       "10 president       746\n",
       "11 realdonaldtrump 486\n",
       "12 should          274\n",
       "13 states          239\n",
       "14 united          252\n",
       "15 whitehouse      184"
      ]
     },
     "metadata": {},
     "output_type": "display_data"
    }
   ],
   "source": [
    "filter(trump_tweets2, year(dt) == 2019) %>% \n",
    "    unnest_tokens(output = word, input = text) %>%\n",
    "    select(created_at, word) %>% \n",
    "    count(word) %>% \n",
    "    filter(str_length(word) >= 6) %>% top_n(15)\n",
    "\n",
    "\n"
   ]
  },
  {
   "cell_type": "markdown",
   "metadata": {
    "slideshow": {
     "slide_type": "slide"
    }
   },
   "source": [
    "### Task #4\n",
    "What were the president's favorite #hashtags in 2018? 2012?"
   ]
  },
  {
   "cell_type": "code",
   "execution_count": 113,
   "metadata": {
    "scrolled": true
   },
   "outputs": [
    {
     "name": "stderr",
     "output_type": "stream",
     "text": [
      "Selecting by n\n"
     ]
    },
    {
     "data": {
      "text/plain": [
       "   year(dt) word                   n  \n",
       "1  2015     #trump2016             415\n",
       "2  2016     #trump2016             347\n",
       "3  2015     #makeamericagreatagain 279\n",
       "4  2016     #makeamericagreatagain 275\n",
       "5  2013     #celebapprentice       140\n",
       "6  2015     #celebapprentice       139\n",
       "7  2016     #maga                  108\n",
       "8  2014     #trump2016             107\n",
       "9  2015     #celebrityapprentice   102\n",
       "10 2016     #americafirst           86\n",
       "11 2016     #draintheswamp          78\n",
       "12 2016     #votetrump              69\n",
       "13 2018     #maga                   67\n",
       "14 2011     #timetogettough         62\n",
       "15 2016     #imwithyou              62\n",
       "16 2016     #bigleaguetruth         58\n",
       "17 2015     #trump                  53\n",
       "18 2019     #maga                   46\n",
       "19 2016     #debate                 45\n",
       "20 2011     #trumpvlog              43"
      ]
     },
     "metadata": {},
     "output_type": "display_data"
    }
   ],
   "source": [
    "library(tidytext)\n",
    "\n",
    "filter(trump_tweets2, str_detect(text, \"#\")) %>% \n",
    "    unnest_tokens(input=text, output=word, token=\"tweets\") %>% \n",
    "    filter(str_detect(word, \"^#\")) %>% \n",
    "    count(year(dt), word) %>% top_n(20) %>% arrange(desc(n))"
   ]
  },
  {
   "cell_type": "markdown",
   "metadata": {
    "slideshow": {
     "slide_type": "slide"
    }
   },
   "source": [
    "### Task #5\n",
    "At what hour of the day (or night) is the Donald Trump most likely to tweet, and how has this changed over time?"
   ]
  },
  {
   "cell_type": "code",
   "execution_count": 21,
   "metadata": {},
   "outputs": [],
   "source": [
    "# Solution"
   ]
  },
  {
   "cell_type": "markdown",
   "metadata": {
    "slideshow": {
     "slide_type": "slide"
    }
   },
   "source": [
    "### Task #6\n",
    "\"Sentiment analysis\" refers to the act of assigning a label such as \"positive\" or \"negative\" to a piece of text. We will perform a simple type of sentiment analysis by assigning a numerical score to certain words in each tweet, using the `sentiments` table:"
   ]
  },
  {
   "cell_type": "code",
   "execution_count": 115,
   "metadata": {},
   "outputs": [
    {
     "name": "stdout",
     "output_type": "stream",
     "text": [
      "# A tibble: 27,314 x 4\n",
      "   word        sentiment lexicon score\n",
      "   <chr>       <chr>     <chr>   <int>\n",
      " 1 abacus      trust     nrc        NA\n",
      " 2 abandon     fear      nrc        NA\n",
      " 3 abandon     negative  nrc        NA\n",
      " 4 abandon     sadness   nrc        NA\n",
      " 5 abandoned   anger     nrc        NA\n",
      " 6 abandoned   fear      nrc        NA\n",
      " 7 abandoned   negative  nrc        NA\n",
      " 8 abandoned   sadness   nrc        NA\n",
      " 9 abandonment anger     nrc        NA\n",
      "10 abandonment fear      nrc        NA\n",
      "# … with 27,304 more rows\n"
     ]
    }
   ],
   "source": [
    "library(tidytext)\n",
    "sentiments %>% print"
   ]
  },
  {
   "cell_type": "markdown",
   "metadata": {
    "slideshow": {
     "slide_type": "slide"
    }
   },
   "source": [
    "An example of how this works:"
   ]
  },
  {
   "cell_type": "code",
   "execution_count": 126,
   "metadata": {},
   "outputs": [
    {
     "name": "stderr",
     "output_type": "stream",
     "text": [
      "Joining, by = \"word\"\n"
     ]
    }
   ],
   "source": [
    "trump_sentiments <- trump_tweets2 %>%\n",
    "    mutate(month = month(dt), year = year(dt)) %>%\n",
    "    unnest_tokens(input=text, output=word, token=\"tweets\") %>% \n",
    "    inner_join(sentiments) %>% drop_na(score)"
   ]
  },
  {
   "cell_type": "markdown",
   "metadata": {
    "slideshow": {
     "slide_type": "slide"
    }
   },
   "source": [
    "Average the sentiment by month for the full data set, and make a plot of the monthly average from 2014 to 2018. \n",
    "\n",
    "President Trump declared his candidacy in June of 2015. Notice anything?"
   ]
  },
  {
   "cell_type": "code",
   "execution_count": 130,
   "metadata": {
    "slideshow": {
     "slide_type": "slide"
    }
   },
   "outputs": [
    {
     "data": {
      "image/png": "[encoded data removed]"
     },
     "metadata": {},
     "output_type": "display_data"
    }
   ],
   "source": [
    "trump_sentiments %>% group_by(year, month) %>% \n",
    "    summarize(m = mean(score), n = n()) %>% ungroup %>%\n",
    "    mutate(dev = m - mean(m), dt = make_date(year, month, 1)) %>% \n",
    "    ggplot + geom_col(aes(x = dt, y = dev))"
   ]
  },
  {
   "cell_type": "code",
   "execution_count": null,
   "metadata": {},
   "outputs": [],
   "source": []
  },
  {
   "cell_type": "code",
   "execution_count": null,
   "metadata": {},
   "outputs": [],
   "source": [
    "## Trump Twitter data\n",
    "We will now use what we have learned in the past two classes to analyze some real data. \n",
    "\n",
    "load(\"tt.RData\")  # see tt/load_tweets.ipynb for code that produces this data.\n",
    "\n",
    "trump_tweets %>% slice(1)\n",
    "\n",
    "`trump_tweets` is a dataset of all ~~37,169~~ 41,958 Tweets that Donald Trump has sent since 2010.\n",
    "\n",
    "# print(trump_tweets)\n",
    "dttm <- \"Thu Dec 30 21:42:01 +0000 2010\"\n",
    "splitted <- str_split(dttm, \" \")[[1]] %>% print\n",
    "make_date()\n",
    "ymd(str_c(splitted[6], splitted[2], splitted[3], sep=\" \"))\n",
    "\n",
    "### Task #1\n",
    "Each tweet has a timestamp in the `created_at` column. We want to convert this column to a proper date-time object so that we can analyze the time component of these tweets.\n",
    "\n",
    "trump_tweets2 <- trump_tweets %>% mutate(\n",
    "    dt=str_replace(created_at,\n",
    "    \"\\\\w+ (\\\\w+ \\\\d+) ([\\\\d:]+) \\\\+0000 (\\\\d{4})\",\n",
    "    \"\\\\1 \\\\3 \\\\2\") %>% mdy_hms) %>% print\n",
    "\n",
    "### Task #2\n",
    "Plot the number of Tweets that Donald Trump has made for each quarter of the year from 2010 to present.\n",
    "![image.png](attachment:image.png)\n",
    "\n",
    "trump_tweets2 %>% mutate(year = year(dt), \n",
    "                         qtr = quarter(dt, with_year = T)) %>% \n",
    "    ggplot + geom_bar(aes(x=factor(qtr))) + coord_flip()\n",
    "\n",
    "### Task #3\n",
    "Recall that `words` contains common English words. After filtering out these words, and all words that were shorter than six characters, the most common words that the President used in 2018 were:\n",
    "\n",
    "```\n",
    "# A tibble: 11 x 2\n",
    "   words               n\n",
    "   <chr>           <int>\n",
    " 1 american          161\n",
    " 2 border            269\n",
    " 3 collusion         133\n",
    " 4 democrats         291\n",
    " 5 military          183\n",
    " 6 president         356\n",
    " 7 realdonaldtrump   182\n",
    " 8 russia            133\n",
    " 9 security          151\n",
    "10 states            150\n",
    "11 united            150\n",
    "\n",
    "```\n",
    "\n",
    "What about for 2012?\n",
    "\n",
    "filter(trump_tweets2, year(dt) == 2019) %>% \n",
    "    unnest_tokens(output = word, input = text) %>%\n",
    "    select(created_at, word) %>% \n",
    "    count(word) %>% \n",
    "    filter(str_length(word) >= 6) %>% top_n(15)\n",
    "\n",
    "\n",
    "\n",
    "\n",
    "### Task #4\n",
    "What were the president's favorite #hashtags in 2018? 2012?\n",
    "\n",
    "library(tidytext)\n",
    "\n",
    "filter(trump_tweets2, str_detect(text, \"#\")) %>% \n",
    "    unnest_tokens(input=text, output=word, token=\"tweets\") %>% \n",
    "    filter(str_detect(word, \"^#\")) %>% \n",
    "    count(year(dt), word) %>% top_n(20) %>% arrange(desc(n))\n",
    "\n",
    "### Task #5\n",
    "At what hour of the day (or night) is the Donald Trump most likely to tweet, and how has this changed over time?\n",
    "\n",
    "# Solution\n",
    "\n",
    "### Task #6\n",
    "\"Sentiment analysis\" refers to the act of assigning a label such as \"positive\" or \"negative\" to a piece of text. We will perform a simple type of sentiment analysis by assigning a numerical score to certain words in each tweet, using the `sentiments` table:\n",
    "\n",
    "library(tidytext)\n",
    "sentiments %>% print\n",
    "\n",
    "An example of how this works:\n",
    "\n",
    "trump_sentiments <- trump_tweets2 %>%\n",
    "    mutate(month = month(dt), year = year(dt)) %>%\n",
    "    unnest_tokens(input=text, output=word, token=\"tweets\") %>% \n",
    "    inner_join(sentiments) %>% drop_na(score)\n",
    "\n",
    "Average the sentiment by month for the full data set, and make a plot of the monthly average from 2014 to 2018. \n",
    "\n",
    "President Trump declared his candidacy in June of 2015. Notice anything?\n",
    "\n",
    "trump_sentiments %>% group_by(year, month) %>% \n",
    "    summarize(m = mean(score), n = n()) %>% ungroup %>%\n",
    "    mutate(dev = m - mean(m), dt = make_date(year, month, 1)) %>% \n",
    "    ggplot + geom_col(aes(x = dt, y = dev))"
   ]
  }
 ],
 "metadata": {
  "celltoolbar": "Slideshow",
  "kernelspec": {
   "display_name": "R",
   "language": "R",
   "name": "ir"
  },
  "language_info": {
   "codemirror_mode": "r",
   "file_extension": ".r",
   "mimetype": "text/x-r-source",
   "name": "R",
   "pygments_lexer": "r",
   "version": "4.2.1"
  },
  "toc": {
   "nav_menu": {},
   "number_sections": true,
   "sideBar": true,
   "skip_h1_title": true,
   "toc_cell": false,
   "toc_position": {},
   "toc_section_display": "block",
   "toc_window_display": true
  }
 },
 "nbformat": 4,
 "nbformat_minor": 2
}
