{
 "cells": [
  {
   "cell_type": "code",
   "execution_count": 182,
   "metadata": {},
   "outputs": [],
   "source": [
    "library(tidyverse)\n",
    "library(lubridate)\n",
    "library(forcats)\n",
    "library(nycflights13)\n",
    "# install.packages(\"tidytext\")\n",
    "library(tidytext)\n",
    "theme_set(theme_classic())\n",
    "options(repr.plot.width=8, repr.plot.height=5, repr.plot.res=150)"
   ]
  },
  {
   "cell_type": "markdown",
   "metadata": {
    "slideshow": {
     "slide_type": "slide"
    }
   },
   "source": [
    "# Lecture 15: Dates"
   ]
  },
  {
   "cell_type": "markdown",
   "metadata": {
    "slideshow": {
     "slide_type": "slide"
    }
   },
   "source": [
    "## 🤔 Quiz\n",
    "\n",
    "Every year has 365 days:\n",
    "\n",
    "<ol style=\"list-style-type: upper-alpha;\">\n",
    "    <li>True</li>\n",
    "    <li>False</li>\n",
    "</ol>"
   ]
  },
  {
   "cell_type": "markdown",
   "metadata": {
    "slideshow": {
     "slide_type": "slide"
    }
   },
   "source": [
    "## 🤔 Quiz\n",
    "\n",
    "Every day has 24 hours:\n",
    "\n",
    "<ol style=\"list-style-type: upper-alpha;\">\n",
    "    <li>True</li>\n",
    "    <li>False</li>\n",
    "\n",
    "</ol>"
   ]
  },
  {
   "cell_type": "markdown",
   "metadata": {
    "slideshow": {
     "slide_type": "slide"
    }
   },
   "source": [
    "## 🤔 Quiz\n",
    "\n",
    "Every minute has 60 seconds:\n",
    "\n",
    "&nbsp;A.&nbsp;&nbsp;True<br />\n",
    "&nbsp;B.&nbsp;&nbsp;False<br />\n",
    "&nbsp;C-E:&nbsp;I am not physically present in this room."
   ]
  },
  {
   "cell_type": "code",
   "execution_count": 86,
   "metadata": {
    "slideshow": {
     "slide_type": "slide"
    }
   },
   "outputs": [],
   "source": [
    "# answers"
   ]
  },
  {
   "cell_type": "markdown",
   "metadata": {
    "slideshow": {
     "slide_type": "notes"
    }
   },
   "source": [
    "## Dates\n",
    "Most of us have a pretty firm grasp on dates. But they can be more complicated than you might think. Consider these three questions from the book:\n",
    "* Does every year have 365 days?\n",
    "* Does every day have 24 hours?\n",
    "* Does every minute have 60 seconds?\n",
    "\n",
    "The answer to all three is \"no\"."
   ]
  },
  {
   "cell_type": "markdown",
   "metadata": {
    "slideshow": {
     "slide_type": "notes"
    }
   },
   "source": [
    "As before, we'll rely on the `lubridate` package to work with dates:"
   ]
  },
  {
   "cell_type": "markdown",
   "metadata": {
    "slideshow": {
     "slide_type": "slide"
    }
   },
   "source": [
    "There are three different date classes in R:\n",
    "\n",
    "* A date, printed in tibble as `<date>`, represents a full day on the calendar.\n",
    "* A time within a day, printed as `<time>`, represents a specific time within an (unspecified) day.\n",
    "* A date-time is a date plus a time (tibble: `<dttm>`). A date-time uniquely identifies an instant in time (up to a given precision, usually 1 second.)"
   ]
  },
  {
   "cell_type": "markdown",
   "metadata": {
    "slideshow": {
     "slide_type": "slide"
    }
   },
   "source": [
    "We've already seen examples of date-times in the `flights` tibble:"
   ]
  },
  {
   "cell_type": "code",
   "execution_count": 73,
   "metadata": {},
   "outputs": [
    {
     "name": "stdout",
     "output_type": "stream",
     "text": [
      "# A tibble: 336,776 x 1\n",
      "   time_hour          \n",
      "   <dttm>             \n",
      " 1 2013-01-01 05:00:00\n",
      " 2 2013-01-01 05:00:00\n",
      " 3 2013-01-01 05:00:00\n",
      " 4 2013-01-01 05:00:00\n",
      " 5 2013-01-01 06:00:00\n",
      " 6 2013-01-01 05:00:00\n",
      " 7 2013-01-01 06:00:00\n",
      " 8 2013-01-01 06:00:00\n",
      " 9 2013-01-01 06:00:00\n",
      "10 2013-01-01 06:00:00\n",
      "# … with 336,766 more rows\n"
     ]
    }
   ],
   "source": [
    "select(flights, time_hour) %>% print"
   ]
  },
  {
   "cell_type": "markdown",
   "metadata": {
    "slideshow": {
     "slide_type": "notes"
    }
   },
   "source": [
    "You should tend to favor working with dates over date-times if possible. The latter are more complicated because of the need to handle time zones.\n",
    "\n"
   ]
  },
  {
   "cell_type": "markdown",
   "metadata": {
    "slideshow": {
     "slide_type": "slide"
    }
   },
   "source": [
    "We can get the current date and date-time using the `today()` and `now()` commands:"
   ]
  },
  {
   "cell_type": "code",
   "execution_count": 186,
   "metadata": {},
   "outputs": [
    {
     "name": "stdout",
     "output_type": "stream",
     "text": [
      " Date[1:1], format: \"2023-03-15\"\n"
     ]
    }
   ],
   "source": [
    "today() %>% str"
   ]
  },
  {
   "cell_type": "code",
   "execution_count": 187,
   "metadata": {},
   "outputs": [
    {
     "name": "stdout",
     "output_type": "stream",
     "text": [
      " POSIXct[1:1], format: \"2023-03-15 10:11:02\"\n"
     ]
    }
   ],
   "source": [
    "now() %>% str\n"
   ]
  },
  {
   "cell_type": "markdown",
   "metadata": {
    "slideshow": {
     "slide_type": "slide"
    }
   },
   "source": [
    "### Converting strings to dates and times\n",
    "Frequently you will be encounter date and/or time data stored as text. You will need to convert these data into the native R date classes in order to use date functions on them. The `mdy/ymd/dmy` functions accomplish this."
   ]
  },
  {
   "cell_type": "code",
   "execution_count": 192,
   "metadata": {
    "slideshow": {
     "slide_type": "slide"
    }
   },
   "outputs": [
    {
     "data": {
      "text/html": [
       "<time datetime=\"2017-01-31\">2017-01-31</time>"
      ],
      "text/latex": [
       "2017-01-31"
      ],
      "text/markdown": [
       "2017-01-31"
      ],
      "text/plain": [
       "[1] \"2017-01-31\""
      ]
     },
     "metadata": {},
     "output_type": "display_data"
    },
    {
     "data": {
      "text/html": [
       "<time datetime=\"2017-01-31\">2017-01-31</time>"
      ],
      "text/latex": [
       "2017-01-31"
      ],
      "text/markdown": [
       "2017-01-31"
      ],
      "text/plain": [
       "[1] \"2017-01-31\""
      ]
     },
     "metadata": {},
     "output_type": "display_data"
    },
    {
     "data": {
      "text/html": [
       "<time datetime=\"2017-01-31\">2017-01-31</time>"
      ],
      "text/latex": [
       "2017-01-31"
      ],
      "text/markdown": [
       "2017-01-31"
      ],
      "text/plain": [
       "[1] \"2017-01-31\""
      ]
     },
     "metadata": {},
     "output_type": "display_data"
    }
   ],
   "source": [
    "mdy(\"1 31 2017\")\n",
    "dmy(\"31 1 2017\")\n",
    "dmy(\"31-Jan-2017\")"
   ]
  },
  {
   "cell_type": "markdown",
   "metadata": {
    "slideshow": {
     "slide_type": "slide"
    }
   },
   "source": [
    "#### Date-time parsers\n",
    "There are also equivalent functions for parsing date-times:"
   ]
  },
  {
   "cell_type": "code",
   "execution_count": 88,
   "metadata": {
    "slideshow": {
     "slide_type": "-"
    }
   },
   "outputs": [
    {
     "data": {
      "text/plain": [
       "[1] \"2017-01-31 20:11:59 UTC\""
      ]
     },
     "metadata": {},
     "output_type": "display_data"
    }
   ],
   "source": [
    "ymd_hms(\"2017-01-31 20:11:59\")"
   ]
  },
  {
   "cell_type": "code",
   "execution_count": 193,
   "metadata": {},
   "outputs": [
    {
     "data": {
      "text/plain": [
       "[1] \"2017-01-31 08:01:00 UTC\""
      ]
     },
     "metadata": {},
     "output_type": "display_data"
    }
   ],
   "source": [
    "mdy_hm(\"01/31/2017 08:01\")"
   ]
  },
  {
   "cell_type": "markdown",
   "metadata": {
    "slideshow": {
     "slide_type": "slide"
    }
   },
   "source": [
    "Sometimes you can get away with calling `as_datetime()`:"
   ]
  },
  {
   "cell_type": "code",
   "execution_count": 195,
   "metadata": {},
   "outputs": [
    {
     "data": {
      "text/plain": [
       "[1] \"2017-01-31 20:11:59 UTC\""
      ]
     },
     "metadata": {},
     "output_type": "display_data"
    }
   ],
   "source": [
    "as_datetime(\"2017-01-31 20:11:59\")"
   ]
  },
  {
   "cell_type": "markdown",
   "metadata": {},
   "source": [
    "But not always:"
   ]
  },
  {
   "cell_type": "code",
   "execution_count": 196,
   "metadata": {},
   "outputs": [
    {
     "name": "stderr",
     "output_type": "stream",
     "text": [
      "Warning message:\n",
      "“All formats failed to parse. No formats found.”\n"
     ]
    },
    {
     "data": {
      "text/plain": [
       "[1] NA"
      ]
     },
     "metadata": {},
     "output_type": "display_data"
    }
   ],
   "source": [
    "as_datetime(\"01/31/2017 08:01\")"
   ]
  },
  {
   "cell_type": "markdown",
   "metadata": {
    "slideshow": {
     "slide_type": "slide"
    }
   },
   "source": [
    "### Time zones\n",
    "When we create a date-time, the default time zone is \"UTC\":"
   ]
  },
  {
   "cell_type": "code",
   "execution_count": 201,
   "metadata": {
    "slideshow": {
     "slide_type": "-"
    }
   },
   "outputs": [
    {
     "data": {
      "text/plain": [
       "[1] \"2000-01-30 EST\""
      ]
     },
     "metadata": {},
     "output_type": "display_data"
    }
   ],
   "source": [
    "ymd_hm(\"2000-01-30 00:00\", tz=\"America/Detroit\")"
   ]
  },
  {
   "cell_type": "markdown",
   "metadata": {},
   "source": [
    "This is a standard time zone which is, for historical reasons, equal to time in Greenwich, England."
   ]
  },
  {
   "cell_type": "markdown",
   "metadata": {
    "slideshow": {
     "slide_type": "slide"
    }
   },
   "source": [
    "If your times are coming from a different time zone you must specify using the `tz=` option:"
   ]
  },
  {
   "cell_type": "code",
   "execution_count": 204,
   "metadata": {},
   "outputs": [
    {
     "data": {
      "text/plain": [
       "Time difference of 0 secs"
      ]
     },
     "metadata": {},
     "output_type": "display_data"
    }
   ],
   "source": [
    "t1 <- ymd_hms(\"2017-6-30 20:11:59\")\n",
    "t2 <- ymd_hms(\"2017-6-30 20:11:59\")\n",
    "\n",
    "t2 - t1 "
   ]
  },
  {
   "cell_type": "markdown",
   "metadata": {
    "slideshow": {
     "slide_type": "slide"
    }
   },
   "source": [
    "You can find your local time zone using:"
   ]
  },
  {
   "cell_type": "code",
   "execution_count": 205,
   "metadata": {},
   "outputs": [
    {
     "data": {
      "text/html": [
       "'America/Detroit'"
      ],
      "text/latex": [
       "'America/Detroit'"
      ],
      "text/markdown": [
       "'America/Detroit'"
      ],
      "text/plain": [
       "[1] \"America/Detroit\""
      ]
     },
     "metadata": {},
     "output_type": "display_data"
    }
   ],
   "source": [
    "Sys.timezone()"
   ]
  },
  {
   "cell_type": "markdown",
   "metadata": {
    "slideshow": {
     "slide_type": "slide"
    }
   },
   "source": [
    "### `strptime()`\n",
    "Sometimes you are given a weird date format that can't be automatically recognized by any of the preceding methods. As a last resort, you have the `strptime()` function for low-level date parsing."
   ]
  },
  {
   "cell_type": "code",
   "execution_count": 215,
   "metadata": {},
   "outputs": [],
   "source": [
    "# date format: (year(month(day))) \n",
    "tdy <- \"March 15th, 2023\"\n",
    "# mdy(tdy)\n",
    "help(strptime)"
   ]
  },
  {
   "cell_type": "markdown",
   "metadata": {
    "slideshow": {
     "slide_type": "slide"
    }
   },
   "source": [
    "### The epoch\n",
    "UNIX systems sometimes represent time as \"the number of seconds which have elapsed since 1-1-1970.\" This date is known as \"[the epoch](https://en.wikipedia.org/wiki/Unix_time)\". So you may occasionally come across date-times that look like:"
   ]
  },
  {
   "cell_type": "code",
   "execution_count": 217,
   "metadata": {},
   "outputs": [
    {
     "data": {
      "text/html": [
       "1678890099"
      ],
      "text/latex": [
       "1678890099"
      ],
      "text/markdown": [
       "1678890099"
      ],
      "text/plain": [
       "[1] 1678890099"
      ]
     },
     "metadata": {},
     "output_type": "display_data"
    }
   ],
   "source": [
    "now() %>% as.integer()"
   ]
  },
  {
   "cell_type": "markdown",
   "metadata": {
    "slideshow": {
     "slide_type": "slide"
    }
   },
   "source": [
    "To convert these to date format you can use `as_datetime`:"
   ]
  },
  {
   "cell_type": "code",
   "execution_count": 227,
   "metadata": {},
   "outputs": [
    {
     "data": {
      "text/html": [
       "1678838400"
      ],
      "text/latex": [
       "1678838400"
      ],
      "text/markdown": [
       "1678838400"
      ],
      "text/plain": [
       "[1] 1678838400"
      ]
     },
     "metadata": {},
     "output_type": "display_data"
    }
   ],
   "source": [
    "as_datetime(today())  %>% as.integer() # 24 hours after the epoch"
   ]
  },
  {
   "cell_type": "markdown",
   "metadata": {
    "slideshow": {
     "slide_type": "slide"
    }
   },
   "source": [
    "## 🤔 Quiz\n",
    "\n",
    "Julian was born on September 22, 2019 at 1:05PM EDT. How many seconds old is Julian?\n",
    "\n",
    "<ol style=\"list-style-type: upper-alpha;\">\n",
    "    <li>About $10^7$</li>\n",
    "    <li>About $10^8$</li>\n",
    "    <li>About $10^9$</li>\n",
    "    <li>About $10^{10}$</li>\n",
    "</ol>"
   ]
  },
  {
   "cell_type": "code",
   "execution_count": 230,
   "metadata": {},
   "outputs": [
    {
     "data": {
      "text/html": [
       "8.0400739832078"
      ],
      "text/latex": [
       "8.0400739832078"
      ],
      "text/markdown": [
       "8.0400739832078"
      ],
      "text/plain": [
       "[1] 8.040074"
      ]
     },
     "metadata": {},
     "output_type": "display_data"
    }
   ],
   "source": [
    "# second old\n",
    "# make_datetime(2019, 9, 22, 13, 05, tz=\"EDT\") %>% as.integer()\n",
    "\n",
    "log10(1678838400 - 1569171900 )"
   ]
  },
  {
   "cell_type": "markdown",
   "metadata": {
    "slideshow": {
     "slide_type": "slide"
    }
   },
   "source": [
    "### Making a date-time from components\n",
    "The `make_date` and `make_datetime` functions can make dates from individual (numerical) components:"
   ]
  },
  {
   "cell_type": "code",
   "execution_count": 107,
   "metadata": {},
   "outputs": [
    {
     "data": {
      "text/plain": [
       "[1] \"2023-03-15 14:00:59 EDT\""
      ]
     },
     "metadata": {},
     "output_type": "display_data"
    }
   ],
   "source": [
    "make_datetime(2023, 3, 15, 10, 00, 59, tz=\"EDT\")"
   ]
  },
  {
   "cell_type": "markdown",
   "metadata": {
    "slideshow": {
     "slide_type": "slide"
    }
   },
   "source": [
    "#### Example: departure and arrival times in `flights`\n",
    "The `flights` table has scheduled as well as actual arrival and departure times. Let's create a date-time variable from the actual departure time. First we need to take note of the fact that `dep_time` and `arr_time` are in a weird format:"
   ]
  },
  {
   "cell_type": "code",
   "execution_count": 238,
   "metadata": {
    "slideshow": {
     "slide_type": "-"
    }
   },
   "outputs": [
    {
     "data": {
      "text/html": [
       "<table class=\"dataframe\">\n",
       "<caption>A tibble: 1 × 19</caption>\n",
       "<thead>\n",
       "\t<tr><th scope=col>year</th><th scope=col>month</th><th scope=col>day</th><th scope=col>dep_time</th><th scope=col>sched_dep_time</th><th scope=col>dep_delay</th><th scope=col>arr_time</th><th scope=col>sched_arr_time</th><th scope=col>arr_delay</th><th scope=col>carrier</th><th scope=col>flight</th><th scope=col>tailnum</th><th scope=col>origin</th><th scope=col>dest</th><th scope=col>air_time</th><th scope=col>distance</th><th scope=col>hour</th><th scope=col>minute</th><th scope=col>time_hour</th></tr>\n",
       "\t<tr><th scope=col>&lt;int&gt;</th><th scope=col>&lt;int&gt;</th><th scope=col>&lt;int&gt;</th><th scope=col>&lt;int&gt;</th><th scope=col>&lt;int&gt;</th><th scope=col>&lt;dbl&gt;</th><th scope=col>&lt;int&gt;</th><th scope=col>&lt;int&gt;</th><th scope=col>&lt;dbl&gt;</th><th scope=col>&lt;chr&gt;</th><th scope=col>&lt;int&gt;</th><th scope=col>&lt;chr&gt;</th><th scope=col>&lt;chr&gt;</th><th scope=col>&lt;chr&gt;</th><th scope=col>&lt;dbl&gt;</th><th scope=col>&lt;dbl&gt;</th><th scope=col>&lt;dbl&gt;</th><th scope=col>&lt;dbl&gt;</th><th scope=col>&lt;dttm&gt;</th></tr>\n",
       "</thead>\n",
       "<tbody>\n",
       "\t<tr><td>2013</td><td>1</td><td>1</td><td>517</td><td>515</td><td>2</td><td>830</td><td>819</td><td>11</td><td>UA</td><td>1545</td><td>N14228</td><td>EWR</td><td>IAH</td><td>227</td><td>1400</td><td>5</td><td>15</td><td>2013-01-01 05:00:00</td></tr>\n",
       "</tbody>\n",
       "</table>\n"
      ],
      "text/latex": [
       "A tibble: 1 × 19\n",
       "\\begin{tabular}{lllllllllllllllllll}\n",
       " year & month & day & dep\\_time & sched\\_dep\\_time & dep\\_delay & arr\\_time & sched\\_arr\\_time & arr\\_delay & carrier & flight & tailnum & origin & dest & air\\_time & distance & hour & minute & time\\_hour\\\\\n",
       " <int> & <int> & <int> & <int> & <int> & <dbl> & <int> & <int> & <dbl> & <chr> & <int> & <chr> & <chr> & <chr> & <dbl> & <dbl> & <dbl> & <dbl> & <dttm>\\\\\n",
       "\\hline\n",
       "\t 2013 & 1 & 1 & 517 & 515 & 2 & 830 & 819 & 11 & UA & 1545 & N14228 & EWR & IAH & 227 & 1400 & 5 & 15 & 2013-01-01 05:00:00\\\\\n",
       "\\end{tabular}\n"
      ],
      "text/markdown": [
       "\n",
       "A tibble: 1 × 19\n",
       "\n",
       "| year &lt;int&gt; | month &lt;int&gt; | day &lt;int&gt; | dep_time &lt;int&gt; | sched_dep_time &lt;int&gt; | dep_delay &lt;dbl&gt; | arr_time &lt;int&gt; | sched_arr_time &lt;int&gt; | arr_delay &lt;dbl&gt; | carrier &lt;chr&gt; | flight &lt;int&gt; | tailnum &lt;chr&gt; | origin &lt;chr&gt; | dest &lt;chr&gt; | air_time &lt;dbl&gt; | distance &lt;dbl&gt; | hour &lt;dbl&gt; | minute &lt;dbl&gt; | time_hour &lt;dttm&gt; |\n",
       "|---|---|---|---|---|---|---|---|---|---|---|---|---|---|---|---|---|---|---|\n",
       "| 2013 | 1 | 1 | 517 | 515 | 2 | 830 | 819 | 11 | UA | 1545 | N14228 | EWR | IAH | 227 | 1400 | 5 | 15 | 2013-01-01 05:00:00 |\n",
       "\n"
      ],
      "text/plain": [
       "  year month day dep_time sched_dep_time dep_delay arr_time sched_arr_time\n",
       "1 2013 1     1   517      515            2         830      819           \n",
       "  arr_delay carrier flight tailnum origin dest air_time distance hour minute\n",
       "1 11        UA      1545   N14228  EWR    IAH  227      1400     5    15    \n",
       "  time_hour          \n",
       "1 2013-01-01 05:00:00"
      ]
     },
     "metadata": {},
     "output_type": "display_data"
    }
   ],
   "source": [
    "flights %>% slice(1)"
   ]
  },
  {
   "cell_type": "code",
   "execution_count": 255,
   "metadata": {
    "scrolled": true,
    "slideshow": {
     "slide_type": "slide"
    }
   },
   "outputs": [],
   "source": [
    "# create datetime and sched_dep_time from flights\n",
    "# print(flights_dt)\n",
    "\n",
    "flights_dt <- flights %>% mutate(across(c(dep_time, sched_dep_time, arr_time, sched_arr_time),\n",
    "                   ~ make_datetime(year, month, day, . %/% 100, . %% 100)))"
   ]
  },
  {
   "cell_type": "markdown",
   "metadata": {
    "slideshow": {
     "slide_type": "slide"
    }
   },
   "source": [
    "Now we can use built in R command to query and plot these data based on actual departure time:"
   ]
  },
  {
   "cell_type": "code",
   "execution_count": 256,
   "metadata": {},
   "outputs": [
    {
     "data": {
      "image/png": "[encoded data removed]",
      "text/plain": [
       "plot without title"
      ]
     },
     "metadata": {
      "image/png": {
       "height": 375,
       "width": 600
      }
     },
     "output_type": "display_data"
    }
   ],
   "source": [
    "flights_dt %>% \n",
    "  filter(dep_time < ymd(20130130), dep_time >= ymd(20130120)) %>% \n",
    "  ggplot(aes(x=dep_time)) + \n",
    "  geom_density(bw=3*3600) "
   ]
  },
  {
   "cell_type": "code",
   "execution_count": 128,
   "metadata": {},
   "outputs": [],
   "source": [
    "?geom_density"
   ]
  },
  {
   "cell_type": "markdown",
   "metadata": {
    "slideshow": {
     "slide_type": "slide"
    }
   },
   "source": [
    "Notice that this command and resulting graph looks much nicer than if we did not use the date classes:\n",
    "* The filter on `dep_time` looks more natural than `filter(day<2, month==1, year==2013)`.\n",
    "* We can easily express the bin-width of 600 seconds in `geom_freqpoly(binwidth = 600)`. When you use date-times in a numeric context (like in a histogram), 1 means 1 second; for dates, 1 means 1 day.\n",
    "* The plot x axis has nice readable labels."
   ]
  },
  {
   "cell_type": "markdown",
   "metadata": {
    "slideshow": {
     "slide_type": "slide"
    }
   },
   "source": [
    "### Date-time components\n",
    "The functions `year()`, `month()`, `mday()` (day of the month), `yday()` (day of the year), `wday()` (day of the week), `hour()`, `minute()`, and `second()` can extract components from dates and times:"
   ]
  },
  {
   "cell_type": "code",
   "execution_count": 268,
   "metadata": {},
   "outputs": [
    {
     "data": {
      "text/html": [
       "74"
      ],
      "text/latex": [
       "74"
      ],
      "text/markdown": [
       "74"
      ],
      "text/plain": [
       "[1] 74"
      ]
     },
     "metadata": {},
     "output_type": "display_data"
    }
   ],
   "source": [
    "yday(mdy_hms(c(\"March 15, 2023 12:00:00\")))"
   ]
  },
  {
   "cell_type": "markdown",
   "metadata": {
    "slideshow": {
     "slide_type": "slide"
    }
   },
   "source": [
    "### Example\n",
    "By extracting the minute component of scheduled departure time, we uncover a surprising pattern:"
   ]
  },
  {
   "cell_type": "code",
   "execution_count": 273,
   "metadata": {
    "slideshow": {
     "slide_type": "slide"
    }
   },
   "outputs": [
    {
     "name": "stderr",
     "output_type": "stream",
     "text": [
      "Warning message:\n",
      "“\u001b[1m\u001b[22mRemoved 1 row containing missing values (`geom_line()`).”\n"
     ]
    },
    {
     "data": {
      "image/png": "[encoded data removed]",
      "text/plain": [
       "plot without title"
      ]
     },
     "metadata": {
      "image/png": {
       "height": 375,
       "width": 600
      }
     },
     "output_type": "display_data"
    }
   ],
   "source": [
    "flights_dt %>% mutate(mdep = minute(dep_time)) %>% \n",
    "    group_by(mdep) %>% summarize(avg_dep_delay=mean(dep_delay, na.rm=T)) %>% \n",
    "    ggplot + geom_line(aes(x=mdep, avg_dep_delay))\n",
    "    "
   ]
  },
  {
   "cell_type": "markdown",
   "metadata": {
    "slideshow": {
     "slide_type": "slide"
    }
   },
   "source": [
    "But when grouped by *scheduled departure*, time the delays seem to be random:"
   ]
  },
  {
   "cell_type": "code",
   "execution_count": 139,
   "metadata": {},
   "outputs": [
    {
     "data": {
      "image/png": "[encoded data removed]",
      "text/plain": [
       "plot without title"
      ]
     },
     "metadata": {
      "image/png": {
       "height": 375,
       "width": 600
      }
     },
     "output_type": "display_data"
    }
   ],
   "source": [
    "sched_dep <- flights_dt %>% \n",
    "  mutate(minute = minute(sched_dep_time)) %>% \n",
    "  group_by(minute) %>% \n",
    "  summarise(\n",
    "    avg_delay = mean(dep_delay, na.rm = TRUE),\n",
    "    n = n())\n",
    "\n",
    "ggplot(sched_dep, aes(minute, avg_delay)) +\n",
    "  geom_line()"
   ]
  },
  {
   "cell_type": "markdown",
   "metadata": {
    "slideshow": {
     "slide_type": "slide"
    }
   },
   "source": [
    "What explains this odd pattern? Hint:"
   ]
  },
  {
   "cell_type": "code",
   "execution_count": 281,
   "metadata": {},
   "outputs": [
    {
     "data": {
      "image/png": "[encoded data removed]",
      "text/plain": [
       "plot without title"
      ]
     },
     "metadata": {
      "image/png": {
       "height": 375,
       "width": 600
      }
     },
     "output_type": "display_data"
    }
   ],
   "source": [
    "flights_dt %>% count(m=minute(sched_dep_time)) %>% ggplot + geom_col(aes(m, y=n))"
   ]
  },
  {
   "cell_type": "markdown",
   "metadata": {
    "slideshow": {
     "slide_type": "slide"
    }
   },
   "source": [
    "### Time spans\n",
    "Time spans are the difference between two time points. These are represented in R by the `difftime` class:"
   ]
  },
  {
   "cell_type": "code",
   "execution_count": 284,
   "metadata": {},
   "outputs": [
    {
     "data": {
      "text/plain": [
       "Time difference of 1 days"
      ]
     },
     "metadata": {},
     "output_type": "display_data"
    }
   ],
   "source": [
    "today() - make_date(2023, 03, 14)"
   ]
  },
  {
   "cell_type": "markdown",
   "metadata": {
    "slideshow": {
     "slide_type": "slide"
    }
   },
   "source": [
    "Because it is usually simpler to reason about time differences in terms of a single number, `lubridate` also provides a `duration` class which is stored in terms of seconds:"
   ]
  },
  {
   "cell_type": "code",
   "execution_count": 55,
   "metadata": {},
   "outputs": [
    {
     "data": {
      "text/plain": [
       "[1] \"1234s (~20.57 minutes)\""
      ]
     },
     "metadata": {},
     "output_type": "display_data"
    }
   ],
   "source": [
    "as.duration(1234)"
   ]
  },
  {
   "cell_type": "code",
   "execution_count": 56,
   "metadata": {},
   "outputs": [
    {
     "data": {
      "text/plain": [
       "[1] \"10s\""
      ]
     },
     "metadata": {},
     "output_type": "display_data"
    }
   ],
   "source": [
    "dseconds(10)"
   ]
  },
  {
   "cell_type": "code",
   "execution_count": 57,
   "metadata": {},
   "outputs": [
    {
     "data": {
      "text/plain": [
       "[1] \"1814400s (~3 weeks)\""
      ]
     },
     "metadata": {},
     "output_type": "display_data"
    }
   ],
   "source": [
    "dweeks(3)"
   ]
  },
  {
   "cell_type": "markdown",
   "metadata": {
    "slideshow": {
     "slide_type": "slide"
    }
   },
   "source": [
    "Arithmetic with durations works as you would expect:"
   ]
  },
  {
   "cell_type": "code",
   "execution_count": 58,
   "metadata": {
    "slideshow": {
     "slide_type": "slide"
    }
   },
   "outputs": [
    {
     "data": {
      "text/plain": [
       "[1] \"63072000s (~2 years)\""
      ]
     },
     "metadata": {},
     "output_type": "display_data"
    }
   ],
   "source": [
    "2 * dyears(1)"
   ]
  },
  {
   "cell_type": "code",
   "execution_count": 59,
   "metadata": {},
   "outputs": [
    {
     "data": {
      "text/plain": [
       "[1] \"38847600s (~1.23 years)\""
      ]
     },
     "metadata": {},
     "output_type": "display_data"
    }
   ],
   "source": [
    "dyears(1) + dweeks(12) + dhours(15)"
   ]
  },
  {
   "cell_type": "markdown",
   "metadata": {
    "slideshow": {
     "slide_type": "slide"
    }
   },
   "source": [
    "You have to be careful when adding durations and dates. What is 1 day after last Saturday at 1pm?"
   ]
  },
  {
   "cell_type": "code",
   "execution_count": 288,
   "metadata": {},
   "outputs": [
    {
     "data": {
      "text/plain": [
       "[1] \"2023-03-12 14:00:00 EDT\""
      ]
     },
     "metadata": {},
     "output_type": "display_data"
    }
   ],
   "source": [
    "next_saturday = mdy_hm(\"Mar. 11, 2023 13:00PM\", tz=\"America/Detroit\")\n",
    "next_saturday + ddays(1)"
   ]
  },
  {
   "cell_type": "markdown",
   "metadata": {
    "slideshow": {
     "slide_type": "slide"
    }
   },
   "source": [
    "To prevent this sort of thing from happening, `lubridate` also offers objects called \"periods\":"
   ]
  },
  {
   "cell_type": "code",
   "execution_count": 61,
   "metadata": {},
   "outputs": [
    {
     "data": {
      "text/plain": [
       "[1] \"1d 0H 0M 0S\""
      ]
     },
     "metadata": {},
     "output_type": "display_data"
    },
    {
     "data": {
      "text/plain": [
       "[1] \"Period\"\n",
       "attr(,\"package\")\n",
       "[1] \"lubridate\""
      ]
     },
     "metadata": {},
     "output_type": "display_data"
    }
   ],
   "source": [
    "days(1)\n",
    "class(days(1))"
   ]
  },
  {
   "cell_type": "markdown",
   "metadata": {
    "slideshow": {
     "slide_type": "slide"
    }
   },
   "source": [
    "Similarly, periods have the expected behaviour if you add one year to a leap year:"
   ]
  },
  {
   "cell_type": "code",
   "execution_count": 149,
   "metadata": {},
   "outputs": [
    {
     "data": {
      "text/plain": [
       "[1] \"2020-12-31 06:00:00 UTC\""
      ]
     },
     "metadata": {},
     "output_type": "display_data"
    },
    {
     "data": {
      "text/html": [
       "<time datetime=\"2021-01-01\">2021-01-01</time>"
      ],
      "text/latex": [
       "2021-01-01"
      ],
      "text/markdown": [
       "2021-01-01"
      ],
      "text/plain": [
       "[1] \"2021-01-01\""
      ]
     },
     "metadata": {},
     "output_type": "display_data"
    }
   ],
   "source": [
    "ymd(\"2020-01-01\") + dyears(1)\n",
    "ymd(\"2020-01-01\") + years(1)"
   ]
  },
  {
   "cell_type": "markdown",
   "metadata": {
    "slideshow": {
     "slide_type": "slide"
    }
   },
   "source": [
    "## 🤔 Quiz\n",
    "\n",
    "Leo was born on May 16, 2022. When will Leo be 1000 days old?\n",
    "\n",
    "<ol style=\"list-style-type: upper-alpha;\">\n",
    "    <li>Today</li>\n",
    "    <li>January 8, 2024</li>\n",
    "    <li>February 9, 2025</li>\n",
    "    <li>March 10, 2026</li>\n",
    "</ol>"
   ]
  },
  {
   "cell_type": "code",
   "execution_count": 292,
   "metadata": {},
   "outputs": [
    {
     "data": {
      "text/html": [
       "<time datetime=\"2025-02-09\">2025-02-09</time>"
      ],
      "text/latex": [
       "2025-02-09"
      ],
      "text/markdown": [
       "2025-02-09"
      ],
      "text/plain": [
       "[1] \"2025-02-09\""
      ]
     },
     "metadata": {},
     "output_type": "display_data"
    }
   ],
   "source": [
    "# 1k days old\n",
    "\n",
    "make_date(2022, 5, 16) + ddays(1000)"
   ]
  },
  {
   "cell_type": "markdown",
   "metadata": {
    "slideshow": {
     "slide_type": "slide"
    }
   },
   "source": [
    "#### Using time spans\n",
    "Earlier in the semester we saw how some flights seem to have arrived before they departed:"
   ]
  },
  {
   "cell_type": "code",
   "execution_count": 154,
   "metadata": {},
   "outputs": [
    {
     "name": "stdout",
     "output_type": "stream",
     "text": [
      "\u001b[90m# A tibble: 6 × 19\u001b[39m\n",
      "   year month   day dep_time sched_dep…¹ dep_d…² arr_t…³ sched…⁴ arr_d…⁵ carrier\n",
      "  \u001b[3m\u001b[90m<int>\u001b[39m\u001b[23m \u001b[3m\u001b[90m<int>\u001b[39m\u001b[23m \u001b[3m\u001b[90m<int>\u001b[39m\u001b[23m    \u001b[3m\u001b[90m<int>\u001b[39m\u001b[23m       \u001b[3m\u001b[90m<int>\u001b[39m\u001b[23m   \u001b[3m\u001b[90m<dbl>\u001b[39m\u001b[23m   \u001b[3m\u001b[90m<int>\u001b[39m\u001b[23m   \u001b[3m\u001b[90m<int>\u001b[39m\u001b[23m   \u001b[3m\u001b[90m<dbl>\u001b[39m\u001b[23m \u001b[3m\u001b[90m<chr>\u001b[39m\u001b[23m  \n",
      "\u001b[90m1\u001b[39m  \u001b[4m2\u001b[24m013     1     1     \u001b[4m1\u001b[24m929        \u001b[4m1\u001b[24m920       9       3       7      -\u001b[31m4\u001b[39m UA     \n",
      "\u001b[90m2\u001b[39m  \u001b[4m2\u001b[24m013     1     1     \u001b[4m1\u001b[24m939        \u001b[4m1\u001b[24m840      59      29    \u001b[4m2\u001b[24m151      \u001b[31mNA\u001b[39m 9E     \n",
      "\u001b[90m3\u001b[39m  \u001b[4m2\u001b[24m013     1     1     \u001b[4m2\u001b[24m058        \u001b[4m2\u001b[24m100      -\u001b[31m2\u001b[39m       8    \u001b[4m2\u001b[24m359       9 UA     \n",
      "\u001b[90m4\u001b[39m  \u001b[4m2\u001b[24m013     1     1     \u001b[4m2\u001b[24m102        \u001b[4m2\u001b[24m108      -\u001b[31m6\u001b[39m     146     158     -\u001b[31m12\u001b[39m UA     \n",
      "\u001b[90m5\u001b[39m  \u001b[4m2\u001b[24m013     1     1     \u001b[4m2\u001b[24m108        \u001b[4m2\u001b[24m057      11      25      39     -\u001b[31m14\u001b[39m UA     \n",
      "\u001b[90m6\u001b[39m  \u001b[4m2\u001b[24m013     1     1     \u001b[4m2\u001b[24m120        \u001b[4m2\u001b[24m130     -\u001b[31m10\u001b[39m      16      18      -\u001b[31m2\u001b[39m B6     \n",
      "\u001b[90m# … with 9 more variables: flight <int>, tailnum <chr>, origin <chr>,\u001b[39m\n",
      "\u001b[90m#   dest <chr>, air_time <dbl>, distance <dbl>, hour <dbl>, minute <dbl>,\u001b[39m\n",
      "\u001b[90m#   time_hour <dttm>, and abbreviated variable names ¹​sched_dep_time,\u001b[39m\n",
      "\u001b[90m#   ²​dep_delay, ³​arr_time, ⁴​sched_arr_time, ⁵​arr_delay\u001b[39m\n"
     ]
    }
   ],
   "source": [
    "filter(flights, arr_time < dep_time) %>% head %>% print"
   ]
  },
  {
   "cell_type": "markdown",
   "metadata": {
    "slideshow": {
     "slide_type": "slide"
    }
   },
   "source": [
    "This is because these are overnight flights. To fix this, we can now simply add one day to `arr_time`:"
   ]
  },
  {
   "cell_type": "code",
   "execution_count": 69,
   "metadata": {},
   "outputs": [
    {
     "name": "stdout",
     "output_type": "stream",
     "text": [
      "# A tibble: 328,063 x 10\n",
      "   origin dest  dep_delay arr_delay dep_time            sched_dep_time     \n",
      "   <chr>  <chr>     <dbl>     <dbl> <dttm>              <dttm>             \n",
      " 1 EWR    IAH           2        11 2013-01-01 05:17:00 2013-01-01 05:15:00\n",
      " 2 LGA    IAH           4        20 2013-01-01 05:33:00 2013-01-01 05:29:00\n",
      " 3 JFK    MIA           2        33 2013-01-01 05:42:00 2013-01-01 05:40:00\n",
      " 4 JFK    BQN          -1       -18 2013-01-01 05:44:00 2013-01-01 05:45:00\n",
      " 5 LGA    ATL          -6       -25 2013-01-01 05:54:00 2013-01-01 06:00:00\n",
      " 6 EWR    ORD          -4        12 2013-01-01 05:54:00 2013-01-01 05:58:00\n",
      " 7 EWR    FLL          -5        19 2013-01-01 05:55:00 2013-01-01 06:00:00\n",
      " 8 LGA    IAD          -3       -14 2013-01-01 05:57:00 2013-01-01 06:00:00\n",
      " 9 JFK    MCO          -3        -8 2013-01-01 05:57:00 2013-01-01 06:00:00\n",
      "10 LGA    ORD          -2         8 2013-01-01 05:58:00 2013-01-01 06:00:00\n",
      "# … with 328,053 more rows, and 4 more variables: arr_time <dttm>,\n",
      "#   sched_arr_time <dttm>, air_time <dbl>, overnight <lgl>\n"
     ]
    }
   ],
   "source": [
    "# add one day to arr time"
   ]
  },
  {
   "cell_type": "code",
   "execution_count": null,
   "metadata": {},
   "outputs": [],
   "source": [
    "How does this affect calculations like average departure delay?"
   ]
  },
  {
   "cell_type": "markdown",
   "metadata": {
    "slideshow": {
     "slide_type": "slide"
    }
   },
   "source": [
    "## Trump Twitter data\n",
    "Let's use what we learned in the past two classes to analyze some real data. "
   ]
  },
  {
   "cell_type": "code",
   "execution_count": 293,
   "metadata": {
    "slideshow": {
     "slide_type": "notes"
    }
   },
   "outputs": [
    {
     "name": "stderr",
     "output_type": "stream",
     "text": [
      "Warning message:\n",
      "“\u001b[1m\u001b[22mOne or more parsing issues, call `problems()` on your data frame for details, e.g.:\n",
      "  dat <- vroom(...)\n",
      "  problems(dat)”\n",
      "\u001b[1mRows: \u001b[22m\u001b[34m23073\u001b[39m \u001b[1mColumns: \u001b[22m\u001b[34m4\u001b[39m\n",
      "\u001b[36m──\u001b[39m \u001b[1mColumn specification\u001b[22m \u001b[36m─────────────────────────────────────────────────────────────────────────────────────────────\u001b[39m\n",
      "\u001b[1mDelimiter:\u001b[22m \",\"\n",
      "\u001b[31mchr\u001b[39m  (3): ID, Tweet URL, Tweet Text\n",
      "\u001b[34mdttm\u001b[39m (1): Time\n",
      "\n",
      "\u001b[36mℹ\u001b[39m Use `spec()` to retrieve the full column specification for this data.\n",
      "\u001b[36mℹ\u001b[39m Specify the column types or set `show_col_types = FALSE` to quiet this message.\n"
     ]
    }
   ],
   "source": [
    "trump_tweets <- read_csv(\"https://github.com/MarkHershey/CompleteTrumpTweetsArchive/blob/master/data/realDonaldTrump_in_office.csv?raw=true\")"
   ]
  },
  {
   "cell_type": "markdown",
   "metadata": {
    "slideshow": {
     "slide_type": "notes"
    }
   },
   "source": [
    "`trump_tweets` is a dataset of all 23,073 Tweets that Donald Trump sent between taking office and getting kicked off Twitter in Jan 2021."
   ]
  },
  {
   "cell_type": "code",
   "execution_count": 294,
   "metadata": {},
   "outputs": [
    {
     "data": {
      "text/html": [
       "<table class=\"dataframe\">\n",
       "<caption>A tibble: 6 × 4</caption>\n",
       "<thead>\n",
       "\t<tr><th scope=col>ID</th><th scope=col>Time</th><th scope=col>Tweet URL</th><th scope=col>Tweet Text</th></tr>\n",
       "\t<tr><th scope=col>&lt;chr&gt;</th><th scope=col>&lt;dttm&gt;</th><th scope=col>&lt;chr&gt;</th><th scope=col>&lt;chr&gt;</th></tr>\n",
       "</thead>\n",
       "<tbody>\n",
       "\t<tr><td>@realDonaldTrump</td><td>2021-01-07 03:38:00</td><td>https://twitter.com/realDonaldTrump/status/1346904110969315332</td><td>Please support our Capitol Police and Law Enforcement. They are truly on the side of our Country. Stay peaceful!                                                                                                                  </td></tr>\n",
       "\t<tr><td>@realDonaldTrump</td><td>2021-01-07 04:13:00</td><td>https://twitter.com/realDonaldTrump/status/1346912780700577792</td><td><span style=white-space:pre-wrap>I am asking for everyone at the U.S. Capitol to remain peaceful. No violence! Remember, WE are the Party of Law &amp;amp; Order – respect the Law and our great men and women in Blue. Thank you!                                     </span></td></tr>\n",
       "\t<tr><td>@realDonaldTrump</td><td>2021-01-07 05:17:00</td><td>https://twitter.com/realDonaldTrump/status/1346928882595885058</td><td>https://t.co/Pm2PKV0Fp3                                                                                                                                                                                                           </td></tr>\n",
       "\t<tr><td>@realDonaldTrump</td><td>2021-01-08 08:10:00</td><td>https://twitter.com/realDonaldTrump/status/1347334804052844550</td><td>https://t.co/csX07ZVWGe                                                                                                                                                                                                           </td></tr>\n",
       "\t<tr><td>@realDonaldTrump</td><td>2021-01-08 22:46:00</td><td>https://twitter.com/realDonaldTrump/status/1347555316863553542</td><td>The 75,000,000 great American Patriots who voted for me, AMERICA FIRST, and MAKE AMERICA GREAT AGAIN, will have a GIANT VOICE long into the future. They will not be disrespected or treated unfairly in any way, shape or form!!!</td></tr>\n",
       "\t<tr><td>@realDonaldTrump</td><td>2021-01-08 23:44:00</td><td>https://twitter.com/realDonaldTrump/status/1347569870578266115</td><td>To all of those who have asked                                                                                                                                                                                                    </td></tr>\n",
       "</tbody>\n",
       "</table>\n"
      ],
      "text/latex": [
       "A tibble: 6 × 4\n",
       "\\begin{tabular}{llll}\n",
       " ID & Time & Tweet URL & Tweet Text\\\\\n",
       " <chr> & <dttm> & <chr> & <chr>\\\\\n",
       "\\hline\n",
       "\t @realDonaldTrump & 2021-01-07 03:38:00 & https://twitter.com/realDonaldTrump/status/1346904110969315332 & Please support our Capitol Police and Law Enforcement. They are truly on the side of our Country. Stay peaceful!                                                                                                                  \\\\\n",
       "\t @realDonaldTrump & 2021-01-07 04:13:00 & https://twitter.com/realDonaldTrump/status/1346912780700577792 & I am asking for everyone at the U.S. Capitol to remain peaceful. No violence! Remember, WE are the Party of Law \\&amp; Order – respect the Law and our great men and women in Blue. Thank you!                                     \\\\\n",
       "\t @realDonaldTrump & 2021-01-07 05:17:00 & https://twitter.com/realDonaldTrump/status/1346928882595885058 & https://t.co/Pm2PKV0Fp3                                                                                                                                                                                                           \\\\\n",
       "\t @realDonaldTrump & 2021-01-08 08:10:00 & https://twitter.com/realDonaldTrump/status/1347334804052844550 & https://t.co/csX07ZVWGe                                                                                                                                                                                                           \\\\\n",
       "\t @realDonaldTrump & 2021-01-08 22:46:00 & https://twitter.com/realDonaldTrump/status/1347555316863553542 & The 75,000,000 great American Patriots who voted for me, AMERICA FIRST, and MAKE AMERICA GREAT AGAIN, will have a GIANT VOICE long into the future. They will not be disrespected or treated unfairly in any way, shape or form!!!\\\\\n",
       "\t @realDonaldTrump & 2021-01-08 23:44:00 & https://twitter.com/realDonaldTrump/status/1347569870578266115 & To all of those who have asked                                                                                                                                                                                                    \\\\\n",
       "\\end{tabular}\n"
      ],
      "text/markdown": [
       "\n",
       "A tibble: 6 × 4\n",
       "\n",
       "| ID &lt;chr&gt; | Time &lt;dttm&gt; | Tweet URL &lt;chr&gt; | Tweet Text &lt;chr&gt; |\n",
       "|---|---|---|---|\n",
       "| @realDonaldTrump | 2021-01-07 03:38:00 | https://twitter.com/realDonaldTrump/status/1346904110969315332 | Please support our Capitol Police and Law Enforcement. They are truly on the side of our Country. Stay peaceful!                                                                                                                   |\n",
       "| @realDonaldTrump | 2021-01-07 04:13:00 | https://twitter.com/realDonaldTrump/status/1346912780700577792 | I am asking for everyone at the U.S. Capitol to remain peaceful. No violence! Remember, WE are the Party of Law &amp;amp; Order – respect the Law and our great men and women in Blue. Thank you!                                      |\n",
       "| @realDonaldTrump | 2021-01-07 05:17:00 | https://twitter.com/realDonaldTrump/status/1346928882595885058 | https://t.co/Pm2PKV0Fp3                                                                                                                                                                                                            |\n",
       "| @realDonaldTrump | 2021-01-08 08:10:00 | https://twitter.com/realDonaldTrump/status/1347334804052844550 | https://t.co/csX07ZVWGe                                                                                                                                                                                                            |\n",
       "| @realDonaldTrump | 2021-01-08 22:46:00 | https://twitter.com/realDonaldTrump/status/1347555316863553542 | The 75,000,000 great American Patriots who voted for me, AMERICA FIRST, and MAKE AMERICA GREAT AGAIN, will have a GIANT VOICE long into the future. They will not be disrespected or treated unfairly in any way, shape or form!!! |\n",
       "| @realDonaldTrump | 2021-01-08 23:44:00 | https://twitter.com/realDonaldTrump/status/1347569870578266115 | To all of those who have asked                                                                                                                                                                                                     |\n",
       "\n"
      ],
      "text/plain": [
       "  ID               Time               \n",
       "1 @realDonaldTrump 2021-01-07 03:38:00\n",
       "2 @realDonaldTrump 2021-01-07 04:13:00\n",
       "3 @realDonaldTrump 2021-01-07 05:17:00\n",
       "4 @realDonaldTrump 2021-01-08 08:10:00\n",
       "5 @realDonaldTrump 2021-01-08 22:46:00\n",
       "6 @realDonaldTrump 2021-01-08 23:44:00\n",
       "  Tweet URL                                                     \n",
       "1 https://twitter.com/realDonaldTrump/status/1346904110969315332\n",
       "2 https://twitter.com/realDonaldTrump/status/1346912780700577792\n",
       "3 https://twitter.com/realDonaldTrump/status/1346928882595885058\n",
       "4 https://twitter.com/realDonaldTrump/status/1347334804052844550\n",
       "5 https://twitter.com/realDonaldTrump/status/1347555316863553542\n",
       "6 https://twitter.com/realDonaldTrump/status/1347569870578266115\n",
       "  Tweet Text                                                                                                                                                                                                                        \n",
       "1 Please support our Capitol Police and Law Enforcement. They are truly on the side of our Country. Stay peaceful!                                                                                                                  \n",
       "2 I am asking for everyone at the U.S. Capitol to remain peaceful. No violence! Remember, WE are the Party of Law &amp; Order – respect the Law and our great men and women in Blue. Thank you!                                     \n",
       "3 https://t.co/Pm2PKV0Fp3                                                                                                                                                                                                           \n",
       "4 https://t.co/csX07ZVWGe                                                                                                                                                                                                           \n",
       "5 The 75,000,000 great American Patriots who voted for me, AMERICA FIRST, and MAKE AMERICA GREAT AGAIN, will have a GIANT VOICE long into the future. They will not be disrespected or treated unfairly in any way, shape or form!!!\n",
       "6 To all of those who have asked                                                                                                                                                                                                    "
      ]
     },
     "metadata": {},
     "output_type": "display_data"
    }
   ],
   "source": [
    "tail(trump_tweets)"
   ]
  },
  {
   "cell_type": "markdown",
   "metadata": {
    "slideshow": {
     "slide_type": "slide"
    }
   },
   "source": [
    "The number of Tweets that Donald Trump has made for each quarter of the year from 2010 to present."
   ]
  },
  {
   "cell_type": "code",
   "execution_count": 307,
   "metadata": {
    "slideshow": {
     "slide_type": "-"
    }
   },
   "outputs": [
    {
     "data": {
      "image/png": "[encoded data removed]",
      "text/plain": [
       "plot without title"
      ]
     },
     "metadata": {
      "image/png": {
       "height": 375,
       "width": 600
      }
     },
     "output_type": "display_data"
    }
   ],
   "source": [
    "# number of tweets\n",
    "\n",
    "trump_tweets %>% count(q = quarter(Time, with_year = T)) %>% ggplot + \n",
    "    geom_col(aes(x = as.factor(q), y = n))"
   ]
  },
  {
   "cell_type": "markdown",
   "metadata": {
    "slideshow": {
     "slide_type": "slide"
    }
   },
   "source": [
    "Recall that `words` contains common English words. After filtering out these words, and all words that were shorter than six characters, the most common words that the President used were:"
   ]
  },
  {
   "cell_type": "code",
   "execution_count": 319,
   "metadata": {
    "slideshow": {
     "slide_type": "-"
    }
   },
   "outputs": [
    {
     "name": "stderr",
     "output_type": "stream",
     "text": [
      "\u001b[1m\u001b[22mJoining with `by = join_by(word)`\n"
     ]
    },
    {
     "data": {
      "text/html": [
       "<table class=\"dataframe\">\n",
       "<caption>A spec_tbl_df: 34516 × 2</caption>\n",
       "<thead>\n",
       "\t<tr><th scope=col>word</th><th scope=col>n</th></tr>\n",
       "\t<tr><th scope=col>&lt;chr&gt;</th><th scope=col>&lt;int&gt;</th></tr>\n",
       "</thead>\n",
       "<tbody>\n",
       "\t<tr><td>https          </td><td>12225</td></tr>\n",
       "\t<tr><td>rt             </td><td> 7582</td></tr>\n",
       "\t<tr><td>amp            </td><td> 3468</td></tr>\n",
       "\t<tr><td>president      </td><td> 2883</td></tr>\n",
       "\t<tr><td>realdonaldtrump</td><td> 2371</td></tr>\n",
       "\t<tr><td>trump          </td><td> 2249</td></tr>\n",
       "\t<tr><td>people         </td><td> 2219</td></tr>\n",
       "\t<tr><td>democrats      </td><td> 1717</td></tr>\n",
       "\t<tr><td>news           </td><td> 1526</td></tr>\n",
       "\t<tr><td>country        </td><td> 1404</td></tr>\n",
       "\t<tr><td>fake           </td><td> 1228</td></tr>\n",
       "\t<tr><td>american       </td><td> 1194</td></tr>\n",
       "\t<tr><td>america        </td><td> 1130</td></tr>\n",
       "\t<tr><td>time           </td><td> 1028</td></tr>\n",
       "\t<tr><td>vote           </td><td>  980</td></tr>\n",
       "\t<tr><td>biden          </td><td>  946</td></tr>\n",
       "\t<tr><td>election       </td><td>  922</td></tr>\n",
       "\t<tr><td>media          </td><td>  902</td></tr>\n",
       "\t<tr><td>border         </td><td>  878</td></tr>\n",
       "\t<tr><td>house          </td><td>  868</td></tr>\n",
       "\t<tr><td>whitehouse     </td><td>  765</td></tr>\n",
       "\t<tr><td>job            </td><td>  746</td></tr>\n",
       "\t<tr><td>united         </td><td>  742</td></tr>\n",
       "\t<tr><td>china          </td><td>  733</td></tr>\n",
       "\t<tr><td>joe            </td><td>  724</td></tr>\n",
       "\t<tr><td>jobs           </td><td>  696</td></tr>\n",
       "\t<tr><td>day            </td><td>  671</td></tr>\n",
       "\t<tr><td>win            </td><td>  668</td></tr>\n",
       "\t<tr><td>military       </td><td>  665</td></tr>\n",
       "\t<tr><td>don’t          </td><td>  646</td></tr>\n",
       "\t<tr><td>⋮</td><td>⋮</td></tr>\n",
       "\t<tr><td>기리며    </td><td>1</td></tr>\n",
       "\t<tr><td>대화하는  </td><td>1</td></tr>\n",
       "\t<tr><td>떨어지지  </td><td>1</td></tr>\n",
       "\t<tr><td>모습      </td><td>1</td></tr>\n",
       "\t<tr><td>미        </td><td>1</td></tr>\n",
       "\t<tr><td>바라보며  </td><td>1</td></tr>\n",
       "\t<tr><td>밖에      </td><td>1</td></tr>\n",
       "\t<tr><td>받고      </td><td>1</td></tr>\n",
       "\t<tr><td>북측을    </td><td>1</td></tr>\n",
       "\t<tr><td>불과      </td><td>1</td></tr>\n",
       "\t<tr><td>브리핑을  </td><td>1</td></tr>\n",
       "\t<tr><td>않은      </td><td>1</td></tr>\n",
       "\t<tr><td>오울렛의  </td><td>1</td></tr>\n",
       "\t<tr><td>이름붙여진</td><td>1</td></tr>\n",
       "\t<tr><td>정상의    </td><td>1</td></tr>\n",
       "\t<tr><td>조셉      </td><td>1</td></tr>\n",
       "\t<tr><td>참전용사인</td><td>1</td></tr>\n",
       "\t<tr><td>초소는    </td><td>1</td></tr>\n",
       "\t<tr><td>초소에서  </td><td>1</td></tr>\n",
       "\t<tr><td>초소입니다</td><td>1</td></tr>\n",
       "\t<tr><td>최전방    </td><td>1</td></tr>\n",
       "\t<tr><td>한        </td><td>1</td></tr>\n",
       "\t<tr><td>한국전쟁  </td><td>1</td></tr>\n",
       "\t<tr><td>희생정신을</td><td>1</td></tr>\n",
       "\t<tr><td>ｇ２０    </td><td>1</td></tr>\n",
       "\t<tr><td>𝐁𝐫𝐚𝐧𝐝𝐨𝐧   </td><td>1</td></tr>\n",
       "\t<tr><td>𝐇𝐀𝐏𝐏𝐄𝐍𝐈𝐍𝐆 </td><td>1</td></tr>\n",
       "\t<tr><td>𝐉𝐮𝐝𝐝      </td><td>1</td></tr>\n",
       "\t<tr><td>𝐍𝐎𝐖       </td><td>1</td></tr>\n",
       "\t<tr><td>𝐽𝑢𝑠𝑡𝑖𝑐𝑒   </td><td>1</td></tr>\n",
       "</tbody>\n",
       "</table>\n"
      ],
      "text/latex": [
       "A spec\\_tbl\\_df: 34516 × 2\n",
       "\\begin{tabular}{ll}\n",
       " word & n\\\\\n",
       " <chr> & <int>\\\\\n",
       "\\hline\n",
       "\t https           & 12225\\\\\n",
       "\t rt              &  7582\\\\\n",
       "\t amp             &  3468\\\\\n",
       "\t president       &  2883\\\\\n",
       "\t realdonaldtrump &  2371\\\\\n",
       "\t trump           &  2249\\\\\n",
       "\t people          &  2219\\\\\n",
       "\t democrats       &  1717\\\\\n",
       "\t news            &  1526\\\\\n",
       "\t country         &  1404\\\\\n",
       "\t fake            &  1228\\\\\n",
       "\t american        &  1194\\\\\n",
       "\t america         &  1130\\\\\n",
       "\t time            &  1028\\\\\n",
       "\t vote            &   980\\\\\n",
       "\t biden           &   946\\\\\n",
       "\t election        &   922\\\\\n",
       "\t media           &   902\\\\\n",
       "\t border          &   878\\\\\n",
       "\t house           &   868\\\\\n",
       "\t whitehouse      &   765\\\\\n",
       "\t job             &   746\\\\\n",
       "\t united          &   742\\\\\n",
       "\t china           &   733\\\\\n",
       "\t joe             &   724\\\\\n",
       "\t jobs            &   696\\\\\n",
       "\t day             &   671\\\\\n",
       "\t win             &   668\\\\\n",
       "\t military        &   665\\\\\n",
       "\t don’t           &   646\\\\\n",
       "\t ⋮ & ⋮\\\\\n",
       "\t 기리며     & 1\\\\\n",
       "\t 대화하는   & 1\\\\\n",
       "\t 떨어지지   & 1\\\\\n",
       "\t 모습       & 1\\\\\n",
       "\t 미         & 1\\\\\n",
       "\t 바라보며   & 1\\\\\n",
       "\t 밖에       & 1\\\\\n",
       "\t 받고       & 1\\\\\n",
       "\t 북측을     & 1\\\\\n",
       "\t 불과       & 1\\\\\n",
       "\t 브리핑을   & 1\\\\\n",
       "\t 않은       & 1\\\\\n",
       "\t 오울렛의   & 1\\\\\n",
       "\t 이름붙여진 & 1\\\\\n",
       "\t 정상의     & 1\\\\\n",
       "\t 조셉       & 1\\\\\n",
       "\t 참전용사인 & 1\\\\\n",
       "\t 초소는     & 1\\\\\n",
       "\t 초소에서   & 1\\\\\n",
       "\t 초소입니다 & 1\\\\\n",
       "\t 최전방     & 1\\\\\n",
       "\t 한         & 1\\\\\n",
       "\t 한국전쟁   & 1\\\\\n",
       "\t 희생정신을 & 1\\\\\n",
       "\t ｇ２０     & 1\\\\\n",
       "\t 𝐁𝐫𝐚𝐧𝐝𝐨𝐧    & 1\\\\\n",
       "\t 𝐇𝐀𝐏𝐏𝐄𝐍𝐈𝐍𝐆  & 1\\\\\n",
       "\t 𝐉𝐮𝐝𝐝       & 1\\\\\n",
       "\t 𝐍𝐎𝐖        & 1\\\\\n",
       "\t 𝐽𝑢𝑠𝑡𝑖𝑐𝑒    & 1\\\\\n",
       "\\end{tabular}\n"
      ],
      "text/markdown": [
       "\n",
       "A spec_tbl_df: 34516 × 2\n",
       "\n",
       "| word &lt;chr&gt; | n &lt;int&gt; |\n",
       "|---|---|\n",
       "| https           | 12225 |\n",
       "| rt              |  7582 |\n",
       "| amp             |  3468 |\n",
       "| president       |  2883 |\n",
       "| realdonaldtrump |  2371 |\n",
       "| trump           |  2249 |\n",
       "| people          |  2219 |\n",
       "| democrats       |  1717 |\n",
       "| news            |  1526 |\n",
       "| country         |  1404 |\n",
       "| fake            |  1228 |\n",
       "| american        |  1194 |\n",
       "| america         |  1130 |\n",
       "| time            |  1028 |\n",
       "| vote            |   980 |\n",
       "| biden           |   946 |\n",
       "| election        |   922 |\n",
       "| media           |   902 |\n",
       "| border          |   878 |\n",
       "| house           |   868 |\n",
       "| whitehouse      |   765 |\n",
       "| job             |   746 |\n",
       "| united          |   742 |\n",
       "| china           |   733 |\n",
       "| joe             |   724 |\n",
       "| jobs            |   696 |\n",
       "| day             |   671 |\n",
       "| win             |   668 |\n",
       "| military        |   665 |\n",
       "| don’t           |   646 |\n",
       "| ⋮ | ⋮ |\n",
       "| 기리며     | 1 |\n",
       "| 대화하는   | 1 |\n",
       "| 떨어지지   | 1 |\n",
       "| 모습       | 1 |\n",
       "| 미         | 1 |\n",
       "| 바라보며   | 1 |\n",
       "| 밖에       | 1 |\n",
       "| 받고       | 1 |\n",
       "| 북측을     | 1 |\n",
       "| 불과       | 1 |\n",
       "| 브리핑을   | 1 |\n",
       "| 않은       | 1 |\n",
       "| 오울렛의   | 1 |\n",
       "| 이름붙여진 | 1 |\n",
       "| 정상의     | 1 |\n",
       "| 조셉       | 1 |\n",
       "| 참전용사인 | 1 |\n",
       "| 초소는     | 1 |\n",
       "| 초소에서   | 1 |\n",
       "| 초소입니다 | 1 |\n",
       "| 최전방     | 1 |\n",
       "| 한         | 1 |\n",
       "| 한국전쟁   | 1 |\n",
       "| 희생정신을 | 1 |\n",
       "| ｇ２０     | 1 |\n",
       "| 𝐁𝐫𝐚𝐧𝐝𝐨𝐧    | 1 |\n",
       "| 𝐇𝐀𝐏𝐏𝐄𝐍𝐈𝐍𝐆  | 1 |\n",
       "| 𝐉𝐮𝐝𝐝       | 1 |\n",
       "| 𝐍𝐎𝐖        | 1 |\n",
       "| 𝐽𝑢𝑠𝑡𝑖𝑐𝑒    | 1 |\n",
       "\n"
      ],
      "text/plain": [
       "      word            n    \n",
       "1     https           12225\n",
       "2     rt               7582\n",
       "3     amp              3468\n",
       "4     president        2883\n",
       "5     realdonaldtrump  2371\n",
       "6     trump            2249\n",
       "7     people           2219\n",
       "8     democrats        1717\n",
       "9     news             1526\n",
       "10    country          1404\n",
       "11    fake             1228\n",
       "12    american         1194\n",
       "13    america          1130\n",
       "14    time             1028\n",
       "15    vote              980\n",
       "16    biden             946\n",
       "17    election          922\n",
       "18    media             902\n",
       "19    border            878\n",
       "20    house             868\n",
       "21    whitehouse        765\n",
       "22    job               746\n",
       "23    united            742\n",
       "24    china             733\n",
       "25    joe               724\n",
       "26    jobs              696\n",
       "27    day               671\n",
       "28    win               668\n",
       "29    military          665\n",
       "30    don’t             646\n",
       "⋮     ⋮               ⋮    \n",
       "34487 기리며          1    \n",
       "34488 대화하는        1    \n",
       "34489 떨어지지        1    \n",
       "34490 모습            1    \n",
       "34491 미              1    \n",
       "34492 바라보며        1    \n",
       "34493 밖에            1    \n",
       "34494 받고            1    \n",
       "34495 북측을          1    \n",
       "34496 불과            1    \n",
       "34497 브리핑을        1    \n",
       "34498 않은            1    \n",
       "34499 오울렛의        1    \n",
       "34500 이름붙여진      1    \n",
       "34501 정상의          1    \n",
       "34502 조셉            1    \n",
       "34503 참전용사인      1    \n",
       "34504 초소는          1    \n",
       "34505 초소에서        1    \n",
       "34506 초소입니다      1    \n",
       "34507 최전방          1    \n",
       "34508 한              1    \n",
       "34509 한국전쟁        1    \n",
       "34510 희생정신을      1    \n",
       "34511 ｇ２０          1    \n",
       "34512 𝐁𝐫𝐚𝐧𝐝𝐨𝐧         1    \n",
       "34513 𝐇𝐀𝐏𝐏𝐄𝐍𝐈𝐍𝐆       1    \n",
       "34514 𝐉𝐮𝐝𝐝            1    \n",
       "34515 𝐍𝐎𝐖             1    \n",
       "34516 𝐽𝑢𝑠𝑡𝑖𝑐𝑒         1    "
      ]
     },
     "metadata": {},
     "output_type": "display_data"
    }
   ],
   "source": [
    "library(tidytext)\n",
    "trump_tweets %>% unnest_tokens(\"word\", `Tweet Text`) %>% count(word)  %>% \n",
    "    anti_join(stop_words) %>% arrange(desc(n))"
   ]
  },
  {
   "cell_type": "markdown",
   "metadata": {
    "slideshow": {
     "slide_type": "slide"
    }
   },
   "source": [
    "What were the president's favorite #hashtags?"
   ]
  },
  {
   "cell_type": "code",
   "execution_count": 346,
   "metadata": {
    "scrolled": true
   },
   "outputs": [
    {
     "name": "stderr",
     "output_type": "stream",
     "text": [
      "\u001b[1m\u001b[22mSelecting by n\n"
     ]
    },
    {
     "data": {
      "text/html": [
       "<table class=\"dataframe\">\n",
       "<caption>A tibble: 10 × 2</caption>\n",
       "<thead>\n",
       "\t<tr><th scope=col>hashtag</th><th scope=col>n</th></tr>\n",
       "\t<tr><th scope=col>&lt;chr&gt;</th><th scope=col>&lt;int&gt;</th></tr>\n",
       "</thead>\n",
       "<tbody>\n",
       "\t<tr><td>#1           </td><td>   26</td></tr>\n",
       "\t<tr><td>#AmericaFirst</td><td>   32</td></tr>\n",
       "\t<tr><td>#COVID19     </td><td>   49</td></tr>\n",
       "\t<tr><td>#Dorian      </td><td>   36</td></tr>\n",
       "\t<tr><td>#FakeNews    </td><td>   25</td></tr>\n",
       "\t<tr><td>#KAG2020     </td><td>   52</td></tr>\n",
       "\t<tr><td>#MAGA        </td><td>  392</td></tr>\n",
       "\t<tr><td>#USMCA       </td><td>   31</td></tr>\n",
       "\t<tr><td>#coronavirus </td><td>   24</td></tr>\n",
       "\t<tr><td>NA           </td><td>20139</td></tr>\n",
       "</tbody>\n",
       "</table>\n"
      ],
      "text/latex": [
       "A tibble: 10 × 2\n",
       "\\begin{tabular}{ll}\n",
       " hashtag & n\\\\\n",
       " <chr> & <int>\\\\\n",
       "\\hline\n",
       "\t \\#1            &    26\\\\\n",
       "\t \\#AmericaFirst &    32\\\\\n",
       "\t \\#COVID19      &    49\\\\\n",
       "\t \\#Dorian       &    36\\\\\n",
       "\t \\#FakeNews     &    25\\\\\n",
       "\t \\#KAG2020      &    52\\\\\n",
       "\t \\#MAGA         &   392\\\\\n",
       "\t \\#USMCA        &    31\\\\\n",
       "\t \\#coronavirus  &    24\\\\\n",
       "\t NA            & 20139\\\\\n",
       "\\end{tabular}\n"
      ],
      "text/markdown": [
       "\n",
       "A tibble: 10 × 2\n",
       "\n",
       "| hashtag &lt;chr&gt; | n &lt;int&gt; |\n",
       "|---|---|\n",
       "| #1            |    26 |\n",
       "| #AmericaFirst |    32 |\n",
       "| #COVID19      |    49 |\n",
       "| #Dorian       |    36 |\n",
       "| #FakeNews     |    25 |\n",
       "| #KAG2020      |    52 |\n",
       "| #MAGA         |   392 |\n",
       "| #USMCA        |    31 |\n",
       "| #coronavirus  |    24 |\n",
       "| NA            | 20139 |\n",
       "\n"
      ],
      "text/plain": [
       "   hashtag       n    \n",
       "1  #1               26\n",
       "2  #AmericaFirst    32\n",
       "3  #COVID19         49\n",
       "4  #Dorian          36\n",
       "5  #FakeNews        25\n",
       "6  #KAG2020         52\n",
       "7  #MAGA           392\n",
       "8  #USMCA           31\n",
       "9  #coronavirus     24\n",
       "10 NA            20139"
      ]
     },
     "metadata": {},
     "output_type": "display_data"
    }
   ],
   "source": [
    "trump_tweets %>% \n",
    "    mutate(hashtag=str_extract(`Tweet Text`, regex(\"# ?\\\\w+\\\\b\"))) %>% \n",
    "    count(hashtag) %>% top_n(10)"
   ]
  },
  {
   "cell_type": "markdown",
   "metadata": {
    "slideshow": {
     "slide_type": "slide"
    }
   },
   "source": [
    "At what hour of the day (or night) is the Donald Trump most likely to tweet, and how has this changed over time?"
   ]
  },
  {
   "cell_type": "code",
   "execution_count": 349,
   "metadata": {},
   "outputs": [
    {
     "data": {
      "image/png": "[encoded data removed]",
      "text/plain": [
       "plot without title"
      ]
     },
     "metadata": {
      "image/png": {
       "height": 375,
       "width": 600
      }
     },
     "output_type": "display_data"
    }
   ],
   "source": [
    "# Solution\n",
    "\n",
    "trump_tweets %>% count(hour = hour(Time)) %>% ggplot + geom_line(aes(x=hour, y=n))"
   ]
  },
  {
   "cell_type": "markdown",
   "metadata": {
    "slideshow": {
     "slide_type": "slide"
    }
   },
   "source": [
    "\"Sentiment analysis\" refers to the act of assigning a label such as \"positive\" or \"negative\" to a piece of text. We will perform a simple type of sentiment analysis by assigning a numerical score to certain words in each tweet, using the `sentiments` table:"
   ]
  },
  {
   "cell_type": "code",
   "execution_count": 115,
   "metadata": {},
   "outputs": [
    {
     "name": "stdout",
     "output_type": "stream",
     "text": [
      "# A tibble: 27,314 x 4\n",
      "   word        sentiment lexicon score\n",
      "   <chr>       <chr>     <chr>   <int>\n",
      " 1 abacus      trust     nrc        NA\n",
      " 2 abandon     fear      nrc        NA\n",
      " 3 abandon     negative  nrc        NA\n",
      " 4 abandon     sadness   nrc        NA\n",
      " 5 abandoned   anger     nrc        NA\n",
      " 6 abandoned   fear      nrc        NA\n",
      " 7 abandoned   negative  nrc        NA\n",
      " 8 abandoned   sadness   nrc        NA\n",
      " 9 abandonment anger     nrc        NA\n",
      "10 abandonment fear      nrc        NA\n",
      "# … with 27,304 more rows\n"
     ]
    }
   ],
   "source": [
    "library(tidytext)\n",
    "sentiments %>% print"
   ]
  },
  {
   "cell_type": "markdown",
   "metadata": {
    "slideshow": {
     "slide_type": "slide"
    }
   },
   "source": [
    "An example of how this works:"
   ]
  },
  {
   "cell_type": "code",
   "execution_count": 126,
   "metadata": {},
   "outputs": [
    {
     "name": "stderr",
     "output_type": "stream",
     "text": [
      "Joining, by = \"word\"\n"
     ]
    }
   ],
   "source": [
    "trump_sentiments <- trump_tweets2 %>%\n",
    "    mutate(month = month(dt), year = year(dt)) %>%\n",
    "    unnest_tokens(input=text, output=word, token=\"tweets\") %>% \n",
    "    inner_join(sentiments) %>% drop_na(score)"
   ]
  },
  {
   "cell_type": "markdown",
   "metadata": {
    "slideshow": {
     "slide_type": "slide"
    }
   },
   "source": [
    "Average the sentiment by month for the full data set, and make a plot of the monthly average from 2014 to 2018. \n",
    "\n",
    "President Trump declared his candidacy in June of 2015. Notice anything?"
   ]
  },
  {
   "cell_type": "code",
   "execution_count": 130,
   "metadata": {
    "slideshow": {
     "slide_type": "slide"
    }
   },
   "outputs": [
    {
     "data": {
      "image/png": "[encoded data removed]"
     },
     "metadata": {},
     "output_type": "display_data"
    }
   ],
   "source": [
    "trump_sentiments %>% group_by(year, month) %>% \n",
    "    summarize(m = mean(score), n = n()) %>% ungroup %>%\n",
    "    mutate(dev = m - mean(m), dt = make_date(year, month, 1)) %>% \n",
    "    ggplot + geom_col(aes(x = dt, y = dev))"
   ]
  },
  {
   "cell_type": "code",
   "execution_count": null,
   "metadata": {},
   "outputs": [],
   "source": []
  },
  {
   "cell_type": "code",
   "execution_count": null,
   "metadata": {},
   "outputs": [],
   "source": [
    "## Trump Twitter data\n",
    "We will now use what we have learned in the past two classes to analyze some real data. \n",
    "\n",
    "load(\"tt.RData\")  # see tt/load_tweets.ipynb for code that produces this data.\n",
    "\n",
    "trump_tweets %>% slice(1)\n",
    "\n",
    "`trump_tweets` is a dataset of all ~~37,169~~ 41,958 Tweets that Donald Trump has sent since 2010.\n",
    "\n",
    "# print(trump_tweets)\n",
    "dttm <- \"Thu Dec 30 21:42:01 +0000 2010\"\n",
    "splitted <- str_split(dttm, \" \")[[1]] %>% print\n",
    "make_date()\n",
    "ymd(str_c(splitted[6], splitted[2], splitted[3], sep=\" \"))\n",
    "\n",
    "### Task #1\n",
    "Each tweet has a timestamp in the `created_at` column. We want to convert this column to a proper date-time object so that we can analyze the time component of these tweets.\n",
    "\n",
    "trump_tweets2 <- trump_tweets %>% mutate(\n",
    "    dt=str_replace(created_at,\n",
    "    \"\\\\w+ (\\\\w+ \\\\d+) ([\\\\d:]+) \\\\+0000 (\\\\d{4})\",\n",
    "    \"\\\\1 \\\\3 \\\\2\") %>% mdy_hms) %>% print\n",
    "\n",
    "### Task #2\n",
    "Plot the number of Tweets that Donald Trump has made for each quarter of the year from 2010 to present.\n",
    "![image.png](attachment:image.png)\n",
    "\n",
    "trump_tweets2 %>% mutate(year = year(dt), \n",
    "                         qtr = quarter(dt, with_year = T)) %>% \n",
    "    ggplot + geom_bar(aes(x=factor(qtr))) + coord_flip()\n",
    "\n",
    "### Task #3\n",
    "Recall that `words` contains common English words. After filtering out these words, and all words that were shorter than six characters, the most common words that the President used in 2018 were:\n",
    "\n",
    "```\n",
    "# A tibble: 11 x 2\n",
    "   words               n\n",
    "   <chr>           <int>\n",
    " 1 american          161\n",
    " 2 border            269\n",
    " 3 collusion         133\n",
    " 4 democrats         291\n",
    " 5 military          183\n",
    " 6 president         356\n",
    " 7 realdonaldtrump   182\n",
    " 8 russia            133\n",
    " 9 security          151\n",
    "10 states            150\n",
    "11 united            150\n",
    "\n",
    "```\n",
    "\n",
    "What about for 2012?\n",
    "\n",
    "filter(trump_tweets2, year(dt) == 2019) %>% \n",
    "    unnest_tokens(output = word, input = text) %>%\n",
    "    select(created_at, word) %>% \n",
    "    count(word) %>% \n",
    "    filter(str_length(word) >= 6) %>% top_n(15)\n",
    "\n",
    "\n",
    "\n",
    "\n",
    "### Task #4\n",
    "What were the president's favorite #hashtags in 2018? 2012?\n",
    "\n",
    "library(tidytext)\n",
    "\n",
    "filter(trump_tweets2, str_detect(text, \"#\")) %>% \n",
    "    unnest_tokens(input=text, output=word, token=\"tweets\") %>% \n",
    "    filter(str_detect(word, \"^#\")) %>% \n",
    "    count(year(dt), word) %>% top_n(20) %>% arrange(desc(n))\n",
    "\n",
    "### Task #5\n",
    "At what hour of the day (or night) is the Donald Trump most likely to tweet, and how has this changed over time?\n",
    "\n",
    "# Solution\n",
    "\n",
    "### Task #6\n",
    "\"Sentiment analysis\" refers to the act of assigning a label such as \"positive\" or \"negative\" to a piece of text. We will perform a simple type of sentiment analysis by assigning a numerical score to certain words in each tweet, using the `sentiments` table:\n",
    "\n",
    "library(tidytext)\n",
    "sentiments %>% print\n",
    "\n",
    "An example of how this works:\n",
    "\n",
    "trump_sentiments <- trump_tweets2 %>%\n",
    "    mutate(month = month(dt), year = year(dt)) %>%\n",
    "    unnest_tokens(input=text, output=word, token=\"tweets\") %>% \n",
    "    inner_join(sentiments) %>% drop_na(score)\n",
    "\n",
    "Average the sentiment by month for the full data set, and make a plot of the monthly average from 2014 to 2018. \n",
    "\n",
    "President Trump declared his candidacy in June of 2015. Notice anything?\n",
    "\n",
    "trump_sentiments %>% group_by(year, month) %>% \n",
    "    summarize(m = mean(score), n = n()) %>% ungroup %>%\n",
    "    mutate(dev = m - mean(m), dt = make_date(year, month, 1)) %>% \n",
    "    ggplot + geom_col(aes(x = dt, y = dev))"
   ]
  }
 ],
 "metadata": {
  "celltoolbar": "Slideshow",
  "kernelspec": {
   "display_name": "R",
   "language": "R",
   "name": "ir"
  },
  "language_info": {
   "codemirror_mode": "r",
   "file_extension": ".r",
   "mimetype": "text/x-r-source",
   "name": "R",
   "pygments_lexer": "r",
   "version": "4.2.1"
  },
  "toc": {
   "nav_menu": {},
   "number_sections": true,
   "sideBar": true,
   "skip_h1_title": true,
   "toc_cell": false,
   "toc_position": {},
   "toc_section_display": "block",
   "toc_window_display": true
  }
 },
 "nbformat": 4,
 "nbformat_minor": 2
}
