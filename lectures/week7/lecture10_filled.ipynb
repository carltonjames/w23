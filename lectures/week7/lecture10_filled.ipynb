{
 "cells": [
  {
   "cell_type": "code",
   "execution_count": 23,
   "metadata": {
    "scrolled": true,
    "slideshow": {
     "slide_type": "notes"
    }
   },
   "outputs": [
    {
     "name": "stderr",
     "output_type": "stream",
     "text": [
      "\n",
      "Attaching package: ‘lubridate’\n",
      "\n",
      "\n",
      "The following objects are masked from ‘package:base’:\n",
      "\n",
      "    date, intersect, setdiff, union\n",
      "\n",
      "\n"
     ]
    }
   ],
   "source": [
    "library(tidyverse)\n",
    "library(nycflights13)\n",
    "library(lubridate)\n",
    "options(repr.plot.width=8, repr.plot.height=5)"
   ]
  },
  {
   "cell_type": "markdown",
   "metadata": {
    "slideshow": {
     "slide_type": "slide"
    }
   },
   "source": [
    "# Lecture 10: Importing data\n",
    "\n",
    "<div style=\"border: 1px double black; padding: 10px; margin: 10px\">\n",
    "\n",
    "**After today's lecture you will:**\n",
    "* Understand how to import data from CSV files and Excel spreadsheets.\n",
    "</div>\n",
    "\n",
    "These notes correspond to Chapters 8 and 22 of your book.\n"
   ]
  },
  {
   "cell_type": "markdown",
   "metadata": {
    "slideshow": {
     "slide_type": "slide"
    }
   },
   "source": [
    "## Types of data\n",
    "You will encounter data in many different formats. Here are a few of the most common ones:"
   ]
  },
  {
   "cell_type": "markdown",
   "metadata": {
    "slideshow": {
     "slide_type": "slide"
    }
   },
   "source": [
    "### Comma-separated value data\n",
    "Comma-separated value (CSV) is one of the most common formats for sharing data. It has the advantage of being human-readable. The disadvantage is that there is no actual standard for reading or writing these files!"
   ]
  },
  {
   "cell_type": "markdown",
   "metadata": {
    "slideshow": {
     "slide_type": "slide"
    }
   },
   "source": [
    "Here's an example of CSV data on heights, education, and earnings:\n",
    "    \n",
    "    \"earn\",\"height\",\"sex\",\"ed\",\"age\",\"race\"\n",
    "    50000,74.4244387818035,\"male\",16,45,\"white\"\n",
    "    60000,65.5375428255647,\"female\",16,58,\"white\"\n",
    "    30000,63.6291977374349,\"female\",16,29,\"white\"\n",
    "    50000,63.1085616752971,\"female\",16,91,\"other\"\n",
    "    51000,63.4024835710879,\"female\",17,39,\"white\"\n",
    "    9000,64.3995075440034,\"female\",15,26,\"white\"\n",
    "    \n",
    "The first row (usually) has a *header* giving the column names. Subsequent rows give the actual data. Strings are (usually) quoted."
   ]
  },
  {
   "cell_type": "markdown",
   "metadata": {
    "slideshow": {
     "slide_type": "slide"
    }
   },
   "source": [
    "You might also see these data come in the format:\n",
    "    \n",
    "    earn,height,sex,ed,age,race\n",
    "    50000,74.4244387818035,male,16,45,white\n",
    "    60000,65.5375428255647,female,16,58,white\n",
    "    30000,63.6291977374349,female,16,29,white\n",
    "    50000,63.1085616752971,female,16,91,other\n",
    "    51000,63.4024835710879,female,17,39,white\n",
    "    9000,64.3995075440034,female,15,26,white\n",
    "    \n",
    "No quotes!"
   ]
  },
  {
   "cell_type": "markdown",
   "metadata": {
    "slideshow": {
     "slide_type": "slide"
    }
   },
   "source": [
    "Or even:\n",
    "\n",
    "    50000,74.4244387818035,male,16,45,white\n",
    "    60000,65.5375428255647,female,16,58,white\n",
    "    30000,63.6291977374349,female,16,29,white\n",
    "    50000,63.1085616752971,female,16,91,other\n",
    "    51000,63.4024835710879,female,17,39,white\n",
    "    9000,64.3995075440034,female,15,26,white\n",
    "    \n",
    "No column names!"
   ]
  },
  {
   "cell_type": "markdown",
   "metadata": {
    "slideshow": {
     "slide_type": "notes"
    }
   },
   "source": [
    "The `read_csv` command is designed to read this type of file. Note that this command is part of `tidyverse` and is different from `read.csv` in R! You generally want to use `read_csv` over `read.csv` since:\n",
    "- It is much faster.\n",
    "- It outputs nicely formatted `tibble`s which you can pass into other tidyverse functions."
   ]
  },
  {
   "cell_type": "code",
   "execution_count": 29,
   "metadata": {
    "code_folding": [],
    "slideshow": {
     "slide_type": "slide"
    }
   },
   "outputs": [
    {
     "name": "stderr",
     "output_type": "stream",
     "text": [
      "\u001b[1mRows: \u001b[22m\u001b[34m1192\u001b[39m \u001b[1mColumns: \u001b[22m\u001b[34m6\u001b[39m\n",
      "\u001b[36m──\u001b[39m \u001b[1mColumn specification\u001b[22m \u001b[36m──────────────────────────────────────────────────────────────────────────────────────────────────────────────────────\u001b[39m\n",
      "\u001b[1mDelimiter:\u001b[22m \",\"\n",
      "\u001b[31mchr\u001b[39m (2): sex, race\n",
      "\u001b[32mdbl\u001b[39m (4): earn, height, ed, age\n",
      "\n",
      "\u001b[36mℹ\u001b[39m Use `spec()` to retrieve the full column specification for this data.\n",
      "\u001b[36mℹ\u001b[39m Specify the column types or set `show_col_types = FALSE` to quiet this message.\n"
     ]
    },
    {
     "name": "stdout",
     "output_type": "stream",
     "text": [
      "\u001b[90m# A tibble: 1,192 × 6\u001b[39m\n",
      "    earn height sex       ed   age race    \n",
      "   \u001b[3m\u001b[90m<dbl>\u001b[39m\u001b[23m  \u001b[3m\u001b[90m<dbl>\u001b[39m\u001b[23m \u001b[3m\u001b[90m<chr>\u001b[39m\u001b[23m  \u001b[3m\u001b[90m<dbl>\u001b[39m\u001b[23m \u001b[3m\u001b[90m<dbl>\u001b[39m\u001b[23m \u001b[3m\u001b[90m<chr>\u001b[39m\u001b[23m   \n",
      "\u001b[90m 1\u001b[39m \u001b[4m5\u001b[24m\u001b[4m0\u001b[24m000   74.4 male      16    45 white   \n",
      "\u001b[90m 2\u001b[39m \u001b[4m6\u001b[24m\u001b[4m0\u001b[24m000   65.5 female    16    58 white   \n",
      "\u001b[90m 3\u001b[39m \u001b[4m3\u001b[24m\u001b[4m0\u001b[24m000   63.6 female    16    29 white   \n",
      "\u001b[90m 4\u001b[39m \u001b[4m5\u001b[24m\u001b[4m0\u001b[24m000   63.1 female    16    91 other   \n",
      "\u001b[90m 5\u001b[39m \u001b[4m5\u001b[24m\u001b[4m1\u001b[24m000   63.4 female    17    39 white   \n",
      "\u001b[90m 6\u001b[39m  \u001b[4m9\u001b[24m000   64.4 female    15    26 white   \n",
      "\u001b[90m 7\u001b[39m \u001b[4m2\u001b[24m\u001b[4m9\u001b[24m000   61.7 female    12    49 white   \n",
      "\u001b[90m 8\u001b[39m \u001b[4m3\u001b[24m\u001b[4m2\u001b[24m000   72.7 male      17    46 white   \n",
      "\u001b[90m 9\u001b[39m  \u001b[4m2\u001b[24m000   72.0 male      15    21 hispanic\n",
      "\u001b[90m10\u001b[39m \u001b[4m2\u001b[24m\u001b[4m7\u001b[24m000   72.2 male      12    26 white   \n",
      "\u001b[90m# … with 1,182 more rows\u001b[39m\n"
     ]
    }
   ],
   "source": [
    "# download.file(\"https://datasets.stats306.org/heights.csv\", \"heights.csv\")\n",
    "heights <- read_csv(\"heights.csv\") %>% print"
   ]
  },
  {
   "cell_type": "markdown",
   "metadata": {
    "slideshow": {
     "slide_type": "notes"
    }
   },
   "source": [
    "Here `read_csv` has told us what columns it found, and also what the data types it found for them are. Generally these will be correct but we will see examples later where it guesses wrongly and we have to manually override them."
   ]
  },
  {
   "cell_type": "markdown",
   "metadata": {
    "slideshow": {
     "slide_type": "slide"
    }
   },
   "source": [
    "Here is another version of `heights`, where we are not lucky enough to have a header telling us which columns came from where:"
   ]
  },
  {
   "cell_type": "code",
   "execution_count": 30,
   "metadata": {
    "slideshow": {
     "slide_type": "-"
    }
   },
   "outputs": [
    {
     "name": "stderr",
     "output_type": "stream",
     "text": [
      "\u001b[1mRows: \u001b[22m\u001b[34m1191\u001b[39m \u001b[1mColumns: \u001b[22m\u001b[34m6\u001b[39m\n",
      "\u001b[36m──\u001b[39m \u001b[1mColumn specification\u001b[22m \u001b[36m──────────────────────────────────────────────────────────────────────────────────────────────────────────────────────\u001b[39m\n",
      "\u001b[1mDelimiter:\u001b[22m \",\"\n",
      "\u001b[31mchr\u001b[39m (2): male, white\n",
      "\u001b[32mdbl\u001b[39m (4): 50000, 74.4244387818035, 16, 45\n",
      "\n",
      "\u001b[36mℹ\u001b[39m Use `spec()` to retrieve the full column specification for this data.\n",
      "\u001b[36mℹ\u001b[39m Specify the column types or set `show_col_types = FALSE` to quiet this message.\n"
     ]
    },
    {
     "name": "stdout",
     "output_type": "stream",
     "text": [
      "\u001b[90m# A tibble: 1,191 × 6\u001b[39m\n",
      "   `50000` `74.4244387818035` male    `16`  `45` white   \n",
      "     \u001b[3m\u001b[90m<dbl>\u001b[39m\u001b[23m              \u001b[3m\u001b[90m<dbl>\u001b[39m\u001b[23m \u001b[3m\u001b[90m<chr>\u001b[39m\u001b[23m  \u001b[3m\u001b[90m<dbl>\u001b[39m\u001b[23m \u001b[3m\u001b[90m<dbl>\u001b[39m\u001b[23m \u001b[3m\u001b[90m<chr>\u001b[39m\u001b[23m   \n",
      "\u001b[90m 1\u001b[39m   \u001b[4m6\u001b[24m\u001b[4m0\u001b[24m000               65.5 female    16    58 white   \n",
      "\u001b[90m 2\u001b[39m   \u001b[4m3\u001b[24m\u001b[4m0\u001b[24m000               63.6 female    16    29 white   \n",
      "\u001b[90m 3\u001b[39m   \u001b[4m5\u001b[24m\u001b[4m0\u001b[24m000               63.1 female    16    91 other   \n",
      "\u001b[90m 4\u001b[39m   \u001b[4m5\u001b[24m\u001b[4m1\u001b[24m000               63.4 female    17    39 white   \n",
      "\u001b[90m 5\u001b[39m    \u001b[4m9\u001b[24m000               64.4 female    15    26 white   \n",
      "\u001b[90m 6\u001b[39m   \u001b[4m2\u001b[24m\u001b[4m9\u001b[24m000               61.7 female    12    49 white   \n",
      "\u001b[90m 7\u001b[39m   \u001b[4m3\u001b[24m\u001b[4m2\u001b[24m000               72.7 male      17    46 white   \n",
      "\u001b[90m 8\u001b[39m    \u001b[4m2\u001b[24m000               72.0 male      15    21 hispanic\n",
      "\u001b[90m 9\u001b[39m   \u001b[4m2\u001b[24m\u001b[4m7\u001b[24m000               72.2 male      12    26 white   \n",
      "\u001b[90m10\u001b[39m    \u001b[4m6\u001b[24m530               69.5 male      16    65 white   \n",
      "\u001b[90m# … with 1,181 more rows\u001b[39m\n"
     ]
    }
   ],
   "source": [
    "# download.file(\"https://datasets.stats306.org/heights_no_hdr.csv\", \"heights_no_hdr.csv\")\n",
    "read_csv(\"heights_no_hdr.csv\") %>% print"
   ]
  },
  {
   "cell_type": "markdown",
   "metadata": {
    "slideshow": {
     "slide_type": "slide"
    }
   },
   "source": [
    "Now `read_csv()` has erroneously assumed that the first row of data are the header names. To override this behavior we need to specify the column names by hand:"
   ]
  },
  {
   "cell_type": "code",
   "execution_count": 39,
   "metadata": {
    "slideshow": {
     "slide_type": "slide"
    }
   },
   "outputs": [
    {
     "name": "stderr",
     "output_type": "stream",
     "text": [
      "\u001b[1mRows: \u001b[22m\u001b[34m1192\u001b[39m \u001b[1mColumns: \u001b[22m\u001b[34m6\u001b[39m\n",
      "\u001b[36m──\u001b[39m \u001b[1mColumn specification\u001b[22m \u001b[36m──────────────────────────────────────────────────────────────────────────────────────────────────────────────────────\u001b[39m\n",
      "\u001b[1mDelimiter:\u001b[22m \",\"\n",
      "\u001b[31mchr\u001b[39m (2): sex, race\n",
      "\u001b[32mdbl\u001b[39m (4): earn, height, educ, age\n",
      "\n",
      "\u001b[36mℹ\u001b[39m Use `spec()` to retrieve the full column specification for this data.\n",
      "\u001b[36mℹ\u001b[39m Specify the column types or set `show_col_types = FALSE` to quiet this message.\n"
     ]
    },
    {
     "data": {
      "text/html": [
       "<table class=\"dataframe\">\n",
       "<caption>A spec_tbl_df: 1192 × 6</caption>\n",
       "<thead>\n",
       "\t<tr><th scope=col>earn</th><th scope=col>height</th><th scope=col>sex</th><th scope=col>educ</th><th scope=col>age</th><th scope=col>race</th></tr>\n",
       "\t<tr><th scope=col>&lt;dbl&gt;</th><th scope=col>&lt;dbl&gt;</th><th scope=col>&lt;chr&gt;</th><th scope=col>&lt;dbl&gt;</th><th scope=col>&lt;dbl&gt;</th><th scope=col>&lt;chr&gt;</th></tr>\n",
       "</thead>\n",
       "<tbody>\n",
       "\t<tr><td>50000</td><td>74.42444</td><td>male  </td><td>16</td><td>45</td><td>white   </td></tr>\n",
       "\t<tr><td>60000</td><td>65.53754</td><td>female</td><td>16</td><td>58</td><td>white   </td></tr>\n",
       "\t<tr><td>30000</td><td>63.62920</td><td>female</td><td>16</td><td>29</td><td>white   </td></tr>\n",
       "\t<tr><td>50000</td><td>63.10856</td><td>female</td><td>16</td><td>91</td><td>other   </td></tr>\n",
       "\t<tr><td>51000</td><td>63.40248</td><td>female</td><td>17</td><td>39</td><td>white   </td></tr>\n",
       "\t<tr><td> 9000</td><td>64.39951</td><td>female</td><td>15</td><td>26</td><td>white   </td></tr>\n",
       "\t<tr><td>29000</td><td>61.65633</td><td>female</td><td>12</td><td>49</td><td>white   </td></tr>\n",
       "\t<tr><td>32000</td><td>72.69854</td><td>male  </td><td>17</td><td>46</td><td>white   </td></tr>\n",
       "\t<tr><td> 2000</td><td>72.03947</td><td>male  </td><td>15</td><td>21</td><td>hispanic</td></tr>\n",
       "\t<tr><td>27000</td><td>72.23493</td><td>male  </td><td>12</td><td>26</td><td>white   </td></tr>\n",
       "\t<tr><td> 6530</td><td>69.51215</td><td>male  </td><td>16</td><td>65</td><td>white   </td></tr>\n",
       "\t<tr><td>30000</td><td>68.03161</td><td>male  </td><td>11</td><td>34</td><td>white   </td></tr>\n",
       "\t<tr><td>12000</td><td>67.55693</td><td>male  </td><td>12</td><td>27</td><td>white   </td></tr>\n",
       "\t<tr><td>12000</td><td>65.43059</td><td>female</td><td>12</td><td>51</td><td>white   </td></tr>\n",
       "\t<tr><td>22000</td><td>65.66285</td><td>female</td><td>16</td><td>35</td><td>white   </td></tr>\n",
       "\t<tr><td>17000</td><td>67.75877</td><td>male  </td><td>12</td><td>58</td><td>white   </td></tr>\n",
       "\t<tr><td>40000</td><td>68.35184</td><td>female</td><td>14</td><td>29</td><td>white   </td></tr>\n",
       "\t<tr><td>44000</td><td>69.60957</td><td>male  </td><td>13</td><td>44</td><td>white   </td></tr>\n",
       "\t<tr><td> 7000</td><td>64.18457</td><td>female</td><td>12</td><td>55</td><td>black   </td></tr>\n",
       "\t<tr><td>53000</td><td>73.07461</td><td>male  </td><td>13</td><td>35</td><td>black   </td></tr>\n",
       "\t<tr><td> 5000</td><td>62.37553</td><td>female</td><td>13</td><td>51</td><td>white   </td></tr>\n",
       "\t<tr><td>14000</td><td>63.02393</td><td>female</td><td>14</td><td>21</td><td>white   </td></tr>\n",
       "\t<tr><td> 5500</td><td>67.22990</td><td>male  </td><td>14</td><td>22</td><td>white   </td></tr>\n",
       "\t<tr><td>40000</td><td>65.55111</td><td>female</td><td>12</td><td>41</td><td>white   </td></tr>\n",
       "\t<tr><td>34000</td><td>72.07965</td><td>male  </td><td>12</td><td>45</td><td>white   </td></tr>\n",
       "\t<tr><td>10000</td><td>63.09113</td><td>female</td><td>12</td><td>35</td><td>black   </td></tr>\n",
       "\t<tr><td>27000</td><td>64.32355</td><td>female</td><td>16</td><td>60</td><td>white   </td></tr>\n",
       "\t<tr><td>50000</td><td>71.64285</td><td>male  </td><td>16</td><td>38</td><td>white   </td></tr>\n",
       "\t<tr><td>41000</td><td>76.79309</td><td>male  </td><td>16</td><td>33</td><td>white   </td></tr>\n",
       "\t<tr><td>15000</td><td>63.89391</td><td>female</td><td>14</td><td>25</td><td>white   </td></tr>\n",
       "\t<tr><td>⋮</td><td>⋮</td><td>⋮</td><td>⋮</td><td>⋮</td><td>⋮</td></tr>\n",
       "\t<tr><td> 20000</td><td>66.01494</td><td>female</td><td>14</td><td>43</td><td>white   </td></tr>\n",
       "\t<tr><td> 40000</td><td>65.76547</td><td>female</td><td>16</td><td>59</td><td>white   </td></tr>\n",
       "\t<tr><td> 10000</td><td>66.74771</td><td>male  </td><td>12</td><td>77</td><td>white   </td></tr>\n",
       "\t<tr><td> 16000</td><td>66.14089</td><td>male  </td><td>12</td><td>37</td><td>white   </td></tr>\n",
       "\t<tr><td> 11000</td><td>63.30037</td><td>female</td><td> 9</td><td>51</td><td>white   </td></tr>\n",
       "\t<tr><td> 16000</td><td>67.61928</td><td>female</td><td>13</td><td>43</td><td>white   </td></tr>\n",
       "\t<tr><td> 18000</td><td>70.42987</td><td>male  </td><td>12</td><td>27</td><td>white   </td></tr>\n",
       "\t<tr><td> 12000</td><td>62.62478</td><td>female</td><td>16</td><td>26</td><td>white   </td></tr>\n",
       "\t<tr><td>  4000</td><td>69.98806</td><td>male  </td><td>14</td><td>21</td><td>black   </td></tr>\n",
       "\t<tr><td> 60000</td><td>71.81932</td><td>male  </td><td>12</td><td>45</td><td>white   </td></tr>\n",
       "\t<tr><td> 43000</td><td>74.77192</td><td>male  </td><td>17</td><td>40</td><td>white   </td></tr>\n",
       "\t<tr><td> 31000</td><td>61.96560</td><td>female</td><td>14</td><td>39</td><td>white   </td></tr>\n",
       "\t<tr><td> 50000</td><td>68.21042</td><td>female</td><td>17</td><td>39</td><td>white   </td></tr>\n",
       "\t<tr><td> 27000</td><td>68.04935</td><td>female</td><td>14</td><td>29</td><td>white   </td></tr>\n",
       "\t<tr><td> 30000</td><td>70.49075</td><td>male  </td><td>17</td><td>56</td><td>white   </td></tr>\n",
       "\t<tr><td> 12000</td><td>73.38321</td><td>male  </td><td>13</td><td>21</td><td>black   </td></tr>\n",
       "\t<tr><td> 20000</td><td>62.13713</td><td>female</td><td>17</td><td>30</td><td>white   </td></tr>\n",
       "\t<tr><td> 15000</td><td>59.77629</td><td>female</td><td>12</td><td>76</td><td>black   </td></tr>\n",
       "\t<tr><td> 25000</td><td>64.15965</td><td>female</td><td>16</td><td>37</td><td>other   </td></tr>\n",
       "\t<tr><td>  2000</td><td>60.19710</td><td>female</td><td> 6</td><td>67</td><td>hispanic</td></tr>\n",
       "\t<tr><td>  3000</td><td>73.26521</td><td>male  </td><td>15</td><td>20</td><td>hispanic</td></tr>\n",
       "\t<tr><td>110000</td><td>66.31204</td><td>female</td><td>18</td><td>48</td><td>other   </td></tr>\n",
       "\t<tr><td> 55000</td><td>68.99589</td><td>male  </td><td>18</td><td>71</td><td>white   </td></tr>\n",
       "\t<tr><td> 58000</td><td>70.34337</td><td>male  </td><td>18</td><td>53</td><td>white   </td></tr>\n",
       "\t<tr><td> 10000</td><td>70.05628</td><td>female</td><td>16</td><td>36</td><td>white   </td></tr>\n",
       "\t<tr><td> 19000</td><td>72.16573</td><td>male  </td><td>12</td><td>29</td><td>white   </td></tr>\n",
       "\t<tr><td> 15000</td><td>61.13580</td><td>female</td><td>18</td><td>82</td><td>white   </td></tr>\n",
       "\t<tr><td>  8000</td><td>63.66416</td><td>female</td><td>12</td><td>33</td><td>white   </td></tr>\n",
       "\t<tr><td> 60000</td><td>71.92584</td><td>male  </td><td>12</td><td>50</td><td>white   </td></tr>\n",
       "\t<tr><td>  6000</td><td>68.36849</td><td>male  </td><td>12</td><td>27</td><td>white   </td></tr>\n",
       "</tbody>\n",
       "</table>\n"
      ],
      "text/latex": [
       "A spec\\_tbl\\_df: 1192 × 6\n",
       "\\begin{tabular}{llllll}\n",
       " earn & height & sex & educ & age & race\\\\\n",
       " <dbl> & <dbl> & <chr> & <dbl> & <dbl> & <chr>\\\\\n",
       "\\hline\n",
       "\t 50000 & 74.42444 & male   & 16 & 45 & white   \\\\\n",
       "\t 60000 & 65.53754 & female & 16 & 58 & white   \\\\\n",
       "\t 30000 & 63.62920 & female & 16 & 29 & white   \\\\\n",
       "\t 50000 & 63.10856 & female & 16 & 91 & other   \\\\\n",
       "\t 51000 & 63.40248 & female & 17 & 39 & white   \\\\\n",
       "\t  9000 & 64.39951 & female & 15 & 26 & white   \\\\\n",
       "\t 29000 & 61.65633 & female & 12 & 49 & white   \\\\\n",
       "\t 32000 & 72.69854 & male   & 17 & 46 & white   \\\\\n",
       "\t  2000 & 72.03947 & male   & 15 & 21 & hispanic\\\\\n",
       "\t 27000 & 72.23493 & male   & 12 & 26 & white   \\\\\n",
       "\t  6530 & 69.51215 & male   & 16 & 65 & white   \\\\\n",
       "\t 30000 & 68.03161 & male   & 11 & 34 & white   \\\\\n",
       "\t 12000 & 67.55693 & male   & 12 & 27 & white   \\\\\n",
       "\t 12000 & 65.43059 & female & 12 & 51 & white   \\\\\n",
       "\t 22000 & 65.66285 & female & 16 & 35 & white   \\\\\n",
       "\t 17000 & 67.75877 & male   & 12 & 58 & white   \\\\\n",
       "\t 40000 & 68.35184 & female & 14 & 29 & white   \\\\\n",
       "\t 44000 & 69.60957 & male   & 13 & 44 & white   \\\\\n",
       "\t  7000 & 64.18457 & female & 12 & 55 & black   \\\\\n",
       "\t 53000 & 73.07461 & male   & 13 & 35 & black   \\\\\n",
       "\t  5000 & 62.37553 & female & 13 & 51 & white   \\\\\n",
       "\t 14000 & 63.02393 & female & 14 & 21 & white   \\\\\n",
       "\t  5500 & 67.22990 & male   & 14 & 22 & white   \\\\\n",
       "\t 40000 & 65.55111 & female & 12 & 41 & white   \\\\\n",
       "\t 34000 & 72.07965 & male   & 12 & 45 & white   \\\\\n",
       "\t 10000 & 63.09113 & female & 12 & 35 & black   \\\\\n",
       "\t 27000 & 64.32355 & female & 16 & 60 & white   \\\\\n",
       "\t 50000 & 71.64285 & male   & 16 & 38 & white   \\\\\n",
       "\t 41000 & 76.79309 & male   & 16 & 33 & white   \\\\\n",
       "\t 15000 & 63.89391 & female & 14 & 25 & white   \\\\\n",
       "\t ⋮ & ⋮ & ⋮ & ⋮ & ⋮ & ⋮\\\\\n",
       "\t  20000 & 66.01494 & female & 14 & 43 & white   \\\\\n",
       "\t  40000 & 65.76547 & female & 16 & 59 & white   \\\\\n",
       "\t  10000 & 66.74771 & male   & 12 & 77 & white   \\\\\n",
       "\t  16000 & 66.14089 & male   & 12 & 37 & white   \\\\\n",
       "\t  11000 & 63.30037 & female &  9 & 51 & white   \\\\\n",
       "\t  16000 & 67.61928 & female & 13 & 43 & white   \\\\\n",
       "\t  18000 & 70.42987 & male   & 12 & 27 & white   \\\\\n",
       "\t  12000 & 62.62478 & female & 16 & 26 & white   \\\\\n",
       "\t   4000 & 69.98806 & male   & 14 & 21 & black   \\\\\n",
       "\t  60000 & 71.81932 & male   & 12 & 45 & white   \\\\\n",
       "\t  43000 & 74.77192 & male   & 17 & 40 & white   \\\\\n",
       "\t  31000 & 61.96560 & female & 14 & 39 & white   \\\\\n",
       "\t  50000 & 68.21042 & female & 17 & 39 & white   \\\\\n",
       "\t  27000 & 68.04935 & female & 14 & 29 & white   \\\\\n",
       "\t  30000 & 70.49075 & male   & 17 & 56 & white   \\\\\n",
       "\t  12000 & 73.38321 & male   & 13 & 21 & black   \\\\\n",
       "\t  20000 & 62.13713 & female & 17 & 30 & white   \\\\\n",
       "\t  15000 & 59.77629 & female & 12 & 76 & black   \\\\\n",
       "\t  25000 & 64.15965 & female & 16 & 37 & other   \\\\\n",
       "\t   2000 & 60.19710 & female &  6 & 67 & hispanic\\\\\n",
       "\t   3000 & 73.26521 & male   & 15 & 20 & hispanic\\\\\n",
       "\t 110000 & 66.31204 & female & 18 & 48 & other   \\\\\n",
       "\t  55000 & 68.99589 & male   & 18 & 71 & white   \\\\\n",
       "\t  58000 & 70.34337 & male   & 18 & 53 & white   \\\\\n",
       "\t  10000 & 70.05628 & female & 16 & 36 & white   \\\\\n",
       "\t  19000 & 72.16573 & male   & 12 & 29 & white   \\\\\n",
       "\t  15000 & 61.13580 & female & 18 & 82 & white   \\\\\n",
       "\t   8000 & 63.66416 & female & 12 & 33 & white   \\\\\n",
       "\t  60000 & 71.92584 & male   & 12 & 50 & white   \\\\\n",
       "\t   6000 & 68.36849 & male   & 12 & 27 & white   \\\\\n",
       "\\end{tabular}\n"
      ],
      "text/markdown": [
       "\n",
       "A spec_tbl_df: 1192 × 6\n",
       "\n",
       "| earn &lt;dbl&gt; | height &lt;dbl&gt; | sex &lt;chr&gt; | educ &lt;dbl&gt; | age &lt;dbl&gt; | race &lt;chr&gt; |\n",
       "|---|---|---|---|---|---|\n",
       "| 50000 | 74.42444 | male   | 16 | 45 | white    |\n",
       "| 60000 | 65.53754 | female | 16 | 58 | white    |\n",
       "| 30000 | 63.62920 | female | 16 | 29 | white    |\n",
       "| 50000 | 63.10856 | female | 16 | 91 | other    |\n",
       "| 51000 | 63.40248 | female | 17 | 39 | white    |\n",
       "|  9000 | 64.39951 | female | 15 | 26 | white    |\n",
       "| 29000 | 61.65633 | female | 12 | 49 | white    |\n",
       "| 32000 | 72.69854 | male   | 17 | 46 | white    |\n",
       "|  2000 | 72.03947 | male   | 15 | 21 | hispanic |\n",
       "| 27000 | 72.23493 | male   | 12 | 26 | white    |\n",
       "|  6530 | 69.51215 | male   | 16 | 65 | white    |\n",
       "| 30000 | 68.03161 | male   | 11 | 34 | white    |\n",
       "| 12000 | 67.55693 | male   | 12 | 27 | white    |\n",
       "| 12000 | 65.43059 | female | 12 | 51 | white    |\n",
       "| 22000 | 65.66285 | female | 16 | 35 | white    |\n",
       "| 17000 | 67.75877 | male   | 12 | 58 | white    |\n",
       "| 40000 | 68.35184 | female | 14 | 29 | white    |\n",
       "| 44000 | 69.60957 | male   | 13 | 44 | white    |\n",
       "|  7000 | 64.18457 | female | 12 | 55 | black    |\n",
       "| 53000 | 73.07461 | male   | 13 | 35 | black    |\n",
       "|  5000 | 62.37553 | female | 13 | 51 | white    |\n",
       "| 14000 | 63.02393 | female | 14 | 21 | white    |\n",
       "|  5500 | 67.22990 | male   | 14 | 22 | white    |\n",
       "| 40000 | 65.55111 | female | 12 | 41 | white    |\n",
       "| 34000 | 72.07965 | male   | 12 | 45 | white    |\n",
       "| 10000 | 63.09113 | female | 12 | 35 | black    |\n",
       "| 27000 | 64.32355 | female | 16 | 60 | white    |\n",
       "| 50000 | 71.64285 | male   | 16 | 38 | white    |\n",
       "| 41000 | 76.79309 | male   | 16 | 33 | white    |\n",
       "| 15000 | 63.89391 | female | 14 | 25 | white    |\n",
       "| ⋮ | ⋮ | ⋮ | ⋮ | ⋮ | ⋮ |\n",
       "|  20000 | 66.01494 | female | 14 | 43 | white    |\n",
       "|  40000 | 65.76547 | female | 16 | 59 | white    |\n",
       "|  10000 | 66.74771 | male   | 12 | 77 | white    |\n",
       "|  16000 | 66.14089 | male   | 12 | 37 | white    |\n",
       "|  11000 | 63.30037 | female |  9 | 51 | white    |\n",
       "|  16000 | 67.61928 | female | 13 | 43 | white    |\n",
       "|  18000 | 70.42987 | male   | 12 | 27 | white    |\n",
       "|  12000 | 62.62478 | female | 16 | 26 | white    |\n",
       "|   4000 | 69.98806 | male   | 14 | 21 | black    |\n",
       "|  60000 | 71.81932 | male   | 12 | 45 | white    |\n",
       "|  43000 | 74.77192 | male   | 17 | 40 | white    |\n",
       "|  31000 | 61.96560 | female | 14 | 39 | white    |\n",
       "|  50000 | 68.21042 | female | 17 | 39 | white    |\n",
       "|  27000 | 68.04935 | female | 14 | 29 | white    |\n",
       "|  30000 | 70.49075 | male   | 17 | 56 | white    |\n",
       "|  12000 | 73.38321 | male   | 13 | 21 | black    |\n",
       "|  20000 | 62.13713 | female | 17 | 30 | white    |\n",
       "|  15000 | 59.77629 | female | 12 | 76 | black    |\n",
       "|  25000 | 64.15965 | female | 16 | 37 | other    |\n",
       "|   2000 | 60.19710 | female |  6 | 67 | hispanic |\n",
       "|   3000 | 73.26521 | male   | 15 | 20 | hispanic |\n",
       "| 110000 | 66.31204 | female | 18 | 48 | other    |\n",
       "|  55000 | 68.99589 | male   | 18 | 71 | white    |\n",
       "|  58000 | 70.34337 | male   | 18 | 53 | white    |\n",
       "|  10000 | 70.05628 | female | 16 | 36 | white    |\n",
       "|  19000 | 72.16573 | male   | 12 | 29 | white    |\n",
       "|  15000 | 61.13580 | female | 18 | 82 | white    |\n",
       "|   8000 | 63.66416 | female | 12 | 33 | white    |\n",
       "|  60000 | 71.92584 | male   | 12 | 50 | white    |\n",
       "|   6000 | 68.36849 | male   | 12 | 27 | white    |\n",
       "\n"
      ],
      "text/plain": [
       "     earn   height   sex    educ age race    \n",
       "1    50000  74.42444 male   16   45  white   \n",
       "2    60000  65.53754 female 16   58  white   \n",
       "3    30000  63.62920 female 16   29  white   \n",
       "4    50000  63.10856 female 16   91  other   \n",
       "5    51000  63.40248 female 17   39  white   \n",
       "6     9000  64.39951 female 15   26  white   \n",
       "7    29000  61.65633 female 12   49  white   \n",
       "8    32000  72.69854 male   17   46  white   \n",
       "9     2000  72.03947 male   15   21  hispanic\n",
       "10   27000  72.23493 male   12   26  white   \n",
       "11    6530  69.51215 male   16   65  white   \n",
       "12   30000  68.03161 male   11   34  white   \n",
       "13   12000  67.55693 male   12   27  white   \n",
       "14   12000  65.43059 female 12   51  white   \n",
       "15   22000  65.66285 female 16   35  white   \n",
       "16   17000  67.75877 male   12   58  white   \n",
       "17   40000  68.35184 female 14   29  white   \n",
       "18   44000  69.60957 male   13   44  white   \n",
       "19    7000  64.18457 female 12   55  black   \n",
       "20   53000  73.07461 male   13   35  black   \n",
       "21    5000  62.37553 female 13   51  white   \n",
       "22   14000  63.02393 female 14   21  white   \n",
       "23    5500  67.22990 male   14   22  white   \n",
       "24   40000  65.55111 female 12   41  white   \n",
       "25   34000  72.07965 male   12   45  white   \n",
       "26   10000  63.09113 female 12   35  black   \n",
       "27   27000  64.32355 female 16   60  white   \n",
       "28   50000  71.64285 male   16   38  white   \n",
       "29   41000  76.79309 male   16   33  white   \n",
       "30   15000  63.89391 female 14   25  white   \n",
       "⋮    ⋮      ⋮        ⋮      ⋮    ⋮   ⋮       \n",
       "1163  20000 66.01494 female 14   43  white   \n",
       "1164  40000 65.76547 female 16   59  white   \n",
       "1165  10000 66.74771 male   12   77  white   \n",
       "1166  16000 66.14089 male   12   37  white   \n",
       "1167  11000 63.30037 female  9   51  white   \n",
       "1168  16000 67.61928 female 13   43  white   \n",
       "1169  18000 70.42987 male   12   27  white   \n",
       "1170  12000 62.62478 female 16   26  white   \n",
       "1171   4000 69.98806 male   14   21  black   \n",
       "1172  60000 71.81932 male   12   45  white   \n",
       "1173  43000 74.77192 male   17   40  white   \n",
       "1174  31000 61.96560 female 14   39  white   \n",
       "1175  50000 68.21042 female 17   39  white   \n",
       "1176  27000 68.04935 female 14   29  white   \n",
       "1177  30000 70.49075 male   17   56  white   \n",
       "1178  12000 73.38321 male   13   21  black   \n",
       "1179  20000 62.13713 female 17   30  white   \n",
       "1180  15000 59.77629 female 12   76  black   \n",
       "1181  25000 64.15965 female 16   37  other   \n",
       "1182   2000 60.19710 female  6   67  hispanic\n",
       "1183   3000 73.26521 male   15   20  hispanic\n",
       "1184 110000 66.31204 female 18   48  other   \n",
       "1185  55000 68.99589 male   18   71  white   \n",
       "1186  58000 70.34337 male   18   53  white   \n",
       "1187  10000 70.05628 female 16   36  white   \n",
       "1188  19000 72.16573 male   12   29  white   \n",
       "1189  15000 61.13580 female 18   82  white   \n",
       "1190   8000 63.66416 female 12   33  white   \n",
       "1191  60000 71.92584 male   12   50  white   \n",
       "1192   6000 68.36849 male   12   27  white   "
      ]
     },
     "metadata": {},
     "output_type": "display_data"
    }
   ],
   "source": [
    "read_csv(\"heights_no_hdr.csv\", col_names = c('earn', 'height', 'sex', 'educ', 'age', 'race'))"
   ]
  },
  {
   "cell_type": "code",
   "execution_count": 15,
   "metadata": {
    "slideshow": {
     "slide_type": "slide"
    }
   },
   "outputs": [
    {
     "name": "stderr",
     "output_type": "stream",
     "text": [
      "Parsed with column specification:\n",
      "cols(\n",
      "  earn = col_double(),\n",
      "  height = col_double(),\n",
      "  sex = col_character(),\n",
      "  ed = col_double(),\n",
      "  age = col_double(),\n",
      "  race = col_character()\n",
      ")\n"
     ]
    },
    {
     "name": "stdout",
     "output_type": "stream",
     "text": [
      "# A tibble: 1,192 x 6\n",
      "    earn height sex       ed   age race    \n",
      "   <dbl>  <dbl> <chr>  <dbl> <dbl> <chr>   \n",
      " 1 50000   74.4 male      16    45 white   \n",
      " 2 60000   65.5 female    16    58 white   \n",
      " 3 30000   63.6 female    16    29 white   \n",
      " 4 50000   63.1 female    16    91 other   \n",
      " 5 51000   63.4 female    17    39 white   \n",
      " 6  9000   64.4 female    15    26 white   \n",
      " 7 29000   61.7 female    12    49 white   \n",
      " 8 32000   72.7 male      17    46 white   \n",
      " 9  2000   72.0 male      15    21 hispanic\n",
      "10 27000   72.2 male      12    26 white   \n",
      "# ... with 1,182 more rows\n"
     ]
    }
   ],
   "source": [
    "read_csv(\"heights_no_hdr.csv\", \n",
    "         col_names = c(\"earn\", \"height\", \"sex\", \"ed\", \"age\", \"race\")) %>% print"
   ]
  },
  {
   "cell_type": "markdown",
   "metadata": {
    "slideshow": {
     "slide_type": "slide"
    }
   },
   "source": [
    "To create short examples illustrating `read_csv`'s behavior, we can specify the contents of a csv file inline."
   ]
  },
  {
   "cell_type": "code",
   "execution_count": 40,
   "metadata": {},
   "outputs": [
    {
     "name": "stderr",
     "output_type": "stream",
     "text": [
      "\u001b[1mRows: \u001b[22m\u001b[34m2\u001b[39m \u001b[1mColumns: \u001b[22m\u001b[34m3\u001b[39m\n",
      "\u001b[36m──\u001b[39m \u001b[1mColumn specification\u001b[22m \u001b[36m──────────────────────────────────────────────────────────────────────────────────────────────────────────────────────\u001b[39m\n",
      "\u001b[1mDelimiter:\u001b[22m \",\"\n",
      "\u001b[32mdbl\u001b[39m (3): a, b, c\n",
      "\n",
      "\u001b[36mℹ\u001b[39m Use `spec()` to retrieve the full column specification for this data.\n",
      "\u001b[36mℹ\u001b[39m Specify the column types or set `show_col_types = FALSE` to quiet this message.\n"
     ]
    },
    {
     "data": {
      "text/html": [
       "<table class=\"dataframe\">\n",
       "<caption>A spec_tbl_df: 2 × 3</caption>\n",
       "<thead>\n",
       "\t<tr><th scope=col>a</th><th scope=col>b</th><th scope=col>c</th></tr>\n",
       "\t<tr><th scope=col>&lt;dbl&gt;</th><th scope=col>&lt;dbl&gt;</th><th scope=col>&lt;dbl&gt;</th></tr>\n",
       "</thead>\n",
       "<tbody>\n",
       "\t<tr><td>1</td><td>2</td><td>3</td></tr>\n",
       "\t<tr><td>4</td><td>5</td><td>6</td></tr>\n",
       "</tbody>\n",
       "</table>\n"
      ],
      "text/latex": [
       "A spec\\_tbl\\_df: 2 × 3\n",
       "\\begin{tabular}{lll}\n",
       " a & b & c\\\\\n",
       " <dbl> & <dbl> & <dbl>\\\\\n",
       "\\hline\n",
       "\t 1 & 2 & 3\\\\\n",
       "\t 4 & 5 & 6\\\\\n",
       "\\end{tabular}\n"
      ],
      "text/markdown": [
       "\n",
       "A spec_tbl_df: 2 × 3\n",
       "\n",
       "| a &lt;dbl&gt; | b &lt;dbl&gt; | c &lt;dbl&gt; |\n",
       "|---|---|---|\n",
       "| 1 | 2 | 3 |\n",
       "| 4 | 5 | 6 |\n",
       "\n"
      ],
      "text/plain": [
       "  a b c\n",
       "1 1 2 3\n",
       "2 4 5 6"
      ]
     },
     "metadata": {},
     "output_type": "display_data"
    }
   ],
   "source": [
    "read_csv(\n",
    "    \"a, b, c\n",
    "     1, 2, 3\n",
    "     4, 5, 6\n",
    "\")"
   ]
  },
  {
   "cell_type": "markdown",
   "metadata": {
    "slideshow": {
     "slide_type": "slide"
    }
   },
   "source": [
    "You might want to skip a few rows in the beginning that have metadata."
   ]
  },
  {
   "cell_type": "code",
   "execution_count": 42,
   "metadata": {},
   "outputs": [
    {
     "name": "stderr",
     "output_type": "stream",
     "text": [
      "\u001b[1mRows: \u001b[22m\u001b[34m2\u001b[39m \u001b[1mColumns: \u001b[22m\u001b[34m3\u001b[39m\n",
      "\u001b[36m──\u001b[39m \u001b[1mColumn specification\u001b[22m \u001b[36m──────────────────────────────────────────────────────────────────────────────────────────────────────────────────────\u001b[39m\n",
      "\u001b[1mDelimiter:\u001b[22m \",\"\n",
      "\u001b[32mdbl\u001b[39m (3): a, b, c\n",
      "\n",
      "\u001b[36mℹ\u001b[39m Use `spec()` to retrieve the full column specification for this data.\n",
      "\u001b[36mℹ\u001b[39m Specify the column types or set `show_col_types = FALSE` to quiet this message.\n"
     ]
    },
    {
     "data": {
      "text/html": [
       "<table class=\"dataframe\">\n",
       "<caption>A spec_tbl_df: 2 × 3</caption>\n",
       "<thead>\n",
       "\t<tr><th scope=col>a</th><th scope=col>b</th><th scope=col>c</th></tr>\n",
       "\t<tr><th scope=col>&lt;dbl&gt;</th><th scope=col>&lt;dbl&gt;</th><th scope=col>&lt;dbl&gt;</th></tr>\n",
       "</thead>\n",
       "<tbody>\n",
       "\t<tr><td>1</td><td>2</td><td>3</td></tr>\n",
       "\t<tr><td>4</td><td>5</td><td>6</td></tr>\n",
       "</tbody>\n",
       "</table>\n"
      ],
      "text/latex": [
       "A spec\\_tbl\\_df: 2 × 3\n",
       "\\begin{tabular}{lll}\n",
       " a & b & c\\\\\n",
       " <dbl> & <dbl> & <dbl>\\\\\n",
       "\\hline\n",
       "\t 1 & 2 & 3\\\\\n",
       "\t 4 & 5 & 6\\\\\n",
       "\\end{tabular}\n"
      ],
      "text/markdown": [
       "\n",
       "A spec_tbl_df: 2 × 3\n",
       "\n",
       "| a &lt;dbl&gt; | b &lt;dbl&gt; | c &lt;dbl&gt; |\n",
       "|---|---|---|\n",
       "| 1 | 2 | 3 |\n",
       "| 4 | 5 | 6 |\n",
       "\n"
      ],
      "text/plain": [
       "  a b c\n",
       "1 1 2 3\n",
       "2 4 5 6"
      ]
     },
     "metadata": {},
     "output_type": "display_data"
    }
   ],
   "source": [
    "read_csv(\n",
    "\"# First row to skip\n",
    "// Second row to skip\n",
    "% Third row to skip\n",
    "a, b, c\n",
    "1, 2, 3\n",
    "4, 5, 6\n",
    "\", skip = 3)"
   ]
  },
  {
   "cell_type": "markdown",
   "metadata": {
    "slideshow": {
     "slide_type": "slide"
    }
   },
   "source": [
    "Some CSVs will come with comments, typically in the form of lines prefaced by `#`. You can also skip comments line by specifying a comment character."
   ]
  },
  {
   "cell_type": "code",
   "execution_count": 44,
   "metadata": {},
   "outputs": [
    {
     "name": "stderr",
     "output_type": "stream",
     "text": [
      "\u001b[1mRows: \u001b[22m\u001b[34m2\u001b[39m \u001b[1mColumns: \u001b[22m\u001b[34m3\u001b[39m\n",
      "\u001b[36m──\u001b[39m \u001b[1mColumn specification\u001b[22m \u001b[36m──────────────────────────────────────────────────────────────────────────────────────────────────────────────────────\u001b[39m\n",
      "\u001b[1mDelimiter:\u001b[22m \",\"\n",
      "\u001b[32mdbl\u001b[39m (3): a, b, c\n",
      "\n",
      "\u001b[36mℹ\u001b[39m Use `spec()` to retrieve the full column specification for this data.\n",
      "\u001b[36mℹ\u001b[39m Specify the column types or set `show_col_types = FALSE` to quiet this message.\n"
     ]
    },
    {
     "data": {
      "text/html": [
       "<table class=\"dataframe\">\n",
       "<caption>A spec_tbl_df: 2 × 3</caption>\n",
       "<thead>\n",
       "\t<tr><th scope=col>a</th><th scope=col>b</th><th scope=col>c</th></tr>\n",
       "\t<tr><th scope=col>&lt;dbl&gt;</th><th scope=col>&lt;dbl&gt;</th><th scope=col>&lt;dbl&gt;</th></tr>\n",
       "</thead>\n",
       "<tbody>\n",
       "\t<tr><td>1</td><td>2</td><td>3</td></tr>\n",
       "\t<tr><td>4</td><td>5</td><td>6</td></tr>\n",
       "</tbody>\n",
       "</table>\n"
      ],
      "text/latex": [
       "A spec\\_tbl\\_df: 2 × 3\n",
       "\\begin{tabular}{lll}\n",
       " a & b & c\\\\\n",
       " <dbl> & <dbl> & <dbl>\\\\\n",
       "\\hline\n",
       "\t 1 & 2 & 3\\\\\n",
       "\t 4 & 5 & 6\\\\\n",
       "\\end{tabular}\n"
      ],
      "text/markdown": [
       "\n",
       "A spec_tbl_df: 2 × 3\n",
       "\n",
       "| a &lt;dbl&gt; | b &lt;dbl&gt; | c &lt;dbl&gt; |\n",
       "|---|---|---|\n",
       "| 1 | 2 | 3 |\n",
       "| 4 | 5 | 6 |\n",
       "\n"
      ],
      "text/plain": [
       "  a b c\n",
       "1 1 2 3\n",
       "2 4 5 6"
      ]
     },
     "metadata": {},
     "output_type": "display_data"
    }
   ],
   "source": [
    "read_csv(\"\n",
    "# First comment line\n",
    "a, b, c\n",
    "# This separate the header from the data\n",
    "1, 2, 3\n",
    "4, 5, 6\n",
    "# Another comment line\n",
    "\", comment = \"#\")"
   ]
  },
  {
   "cell_type": "markdown",
   "metadata": {
    "slideshow": {
     "slide_type": "slide"
    }
   },
   "source": [
    "Set `col_names = FALSE` when you don't have column names in the file. The column names are then set to X1, X2, ..."
   ]
  },
  {
   "cell_type": "code",
   "execution_count": 35,
   "metadata": {},
   "outputs": [
    {
     "name": "stdout",
     "output_type": "stream",
     "text": [
      "# A tibble: 1 x 3\n",
      "    `1`   `2`   `3`\n",
      "  <dbl> <dbl> <dbl>\n",
      "1     4     5     6\n"
     ]
    }
   ],
   "source": [
    "read_csv(\"\n",
    "1, 2, 3\n",
    "4, 5, 6\n",
    "\") %>% print"
   ]
  },
  {
   "cell_type": "markdown",
   "metadata": {
    "slideshow": {
     "slide_type": "slide"
    }
   },
   "source": [
    "You can specify your own column names."
   ]
  },
  {
   "cell_type": "code",
   "execution_count": 101,
   "metadata": {},
   "outputs": [
    {
     "data": {
      "text/plain": [
       "  a b c\n",
       "1 1 2 3\n",
       "2 4 5 6"
      ]
     },
     "metadata": {},
     "output_type": "display_data"
    }
   ],
   "source": [
    "read_csv(\"\n",
    "1, 2, 3\n",
    "4, 5, 6\n",
    "\", col_names = c(\"a\", \"b\", \"c\"))"
   ]
  },
  {
   "cell_type": "markdown",
   "metadata": {
    "slideshow": {
     "slide_type": "slide"
    }
   },
   "source": [
    "You can specify how missing values are represented in the file."
   ]
  },
  {
   "cell_type": "code",
   "execution_count": 45,
   "metadata": {
    "scrolled": true
   },
   "outputs": [
    {
     "name": "stderr",
     "output_type": "stream",
     "text": [
      "\u001b[1mRows: \u001b[22m\u001b[34m2\u001b[39m \u001b[1mColumns: \u001b[22m\u001b[34m3\u001b[39m\n",
      "\u001b[36m──\u001b[39m \u001b[1mColumn specification\u001b[22m \u001b[36m──────────────────────────────────────────────────────────────────────────────────────────────────────────────────────\u001b[39m\n",
      "\u001b[1mDelimiter:\u001b[22m \",\"\n",
      "\u001b[32mdbl\u001b[39m (3): a, b, c\n",
      "\n",
      "\u001b[36mℹ\u001b[39m Use `spec()` to retrieve the full column specification for this data.\n",
      "\u001b[36mℹ\u001b[39m Specify the column types or set `show_col_types = FALSE` to quiet this message.\n"
     ]
    },
    {
     "name": "stdout",
     "output_type": "stream",
     "text": [
      "\u001b[90m# A tibble: 2 × 3\u001b[39m\n",
      "      a     b     c\n",
      "  \u001b[3m\u001b[90m<dbl>\u001b[39m\u001b[23m \u001b[3m\u001b[90m<dbl>\u001b[39m\u001b[23m \u001b[3m\u001b[90m<dbl>\u001b[39m\u001b[23m\n",
      "\u001b[90m1\u001b[39m     1     2     3\n",
      "\u001b[90m2\u001b[39m     4    \u001b[31mNA\u001b[39m     6\n"
     ]
    }
   ],
   "source": [
    "read_csv(\n",
    "    \"a,b,c\n",
    "     1,2,3\n",
    "     4,,6\n",
    "\") %>% print"
   ]
  },
  {
   "cell_type": "code",
   "execution_count": 47,
   "metadata": {
    "slideshow": {
     "slide_type": "slide"
    }
   },
   "outputs": [
    {
     "name": "stderr",
     "output_type": "stream",
     "text": [
      "\u001b[1mRows: \u001b[22m\u001b[34m2\u001b[39m \u001b[1mColumns: \u001b[22m\u001b[34m3\u001b[39m\n",
      "\u001b[36m──\u001b[39m \u001b[1mColumn specification\u001b[22m \u001b[36m──────────────────────────────────────────────────────────────────────────────────────────────────────────────────────\u001b[39m\n",
      "\u001b[1mDelimiter:\u001b[22m \",\"\n",
      "\u001b[32mdbl\u001b[39m (3): a, b, c\n",
      "\n",
      "\u001b[36mℹ\u001b[39m Use `spec()` to retrieve the full column specification for this data.\n",
      "\u001b[36mℹ\u001b[39m Specify the column types or set `show_col_types = FALSE` to quiet this message.\n"
     ]
    },
    {
     "name": "stdout",
     "output_type": "stream",
     "text": [
      "\u001b[90m# A tibble: 2 × 3\u001b[39m\n",
      "      a     b     c\n",
      "  \u001b[3m\u001b[90m<dbl>\u001b[39m\u001b[23m \u001b[3m\u001b[90m<dbl>\u001b[39m\u001b[23m \u001b[3m\u001b[90m<dbl>\u001b[39m\u001b[23m\n",
      "\u001b[90m1\u001b[39m     1     2     3\n",
      "\u001b[90m2\u001b[39m     4    \u001b[31mNA\u001b[39m     6\n"
     ]
    }
   ],
   "source": [
    "read_csv(\n",
    "    \"a, b, c\n",
    "     1, 2, 3\n",
    "     4, -1, 6\n",
    "\", na = \"-1\") %>% print"
   ]
  },
  {
   "cell_type": "markdown",
   "metadata": {
    "slideshow": {
     "slide_type": "slide"
    }
   },
   "source": [
    "## Exercises\n",
    "\n",
    "What's wrong with each of the following CSV files?"
   ]
  },
  {
   "cell_type": "code",
   "execution_count": 52,
   "metadata": {},
   "outputs": [
    {
     "name": "stderr",
     "output_type": "stream",
     "text": [
      "Warning message:\n",
      "“\u001b[1m\u001b[22mOne or more parsing issues, call `problems()` on your data frame for details, e.g.:\n",
      "  dat <- vroom(...)\n",
      "  problems(dat)”\n",
      "\u001b[1mRows: \u001b[22m\u001b[34m2\u001b[39m \u001b[1mColumns: \u001b[22m\u001b[34m2\u001b[39m\n",
      "\u001b[36m──\u001b[39m \u001b[1mColumn specification\u001b[22m \u001b[36m──────────────────────────────────────────────────────────────────────────────────────────────────────────────────────\u001b[39m\n",
      "\u001b[1mDelimiter:\u001b[22m \",\"\n",
      "\u001b[32mdbl\u001b[39m (1): a\n",
      "\u001b[32mnum\u001b[39m (1): b\n",
      "\n",
      "\u001b[36mℹ\u001b[39m Use `spec()` to retrieve the full column specification for this data.\n",
      "\u001b[36mℹ\u001b[39m Specify the column types or set `show_col_types = FALSE` to quiet this message.\n"
     ]
    },
    {
     "data": {
      "text/html": [
       "<table class=\"dataframe\">\n",
       "<caption>A spec_tbl_df: 2 × 2</caption>\n",
       "<thead>\n",
       "\t<tr><th scope=col>a</th><th scope=col>b</th></tr>\n",
       "\t<tr><th scope=col>&lt;dbl&gt;</th><th scope=col>&lt;dbl&gt;</th></tr>\n",
       "</thead>\n",
       "<tbody>\n",
       "\t<tr><td>1</td><td>23</td></tr>\n",
       "\t<tr><td>4</td><td>56</td></tr>\n",
       "</tbody>\n",
       "</table>\n"
      ],
      "text/latex": [
       "A spec\\_tbl\\_df: 2 × 2\n",
       "\\begin{tabular}{ll}\n",
       " a & b\\\\\n",
       " <dbl> & <dbl>\\\\\n",
       "\\hline\n",
       "\t 1 & 23\\\\\n",
       "\t 4 & 56\\\\\n",
       "\\end{tabular}\n"
      ],
      "text/markdown": [
       "\n",
       "A spec_tbl_df: 2 × 2\n",
       "\n",
       "| a &lt;dbl&gt; | b &lt;dbl&gt; |\n",
       "|---|---|\n",
       "| 1 | 23 |\n",
       "| 4 | 56 |\n",
       "\n"
      ],
      "text/plain": [
       "  a b \n",
       "1 1 23\n",
       "2 4 56"
      ]
     },
     "metadata": {},
     "output_type": "display_data"
    }
   ],
   "source": [
    "csv <- \"\n",
    "a,b\n",
    "1,2,3\n",
    "4,5,6\"\n",
    "\n",
    "read_csv(csv)"
   ]
  },
  {
   "cell_type": "code",
   "execution_count": 55,
   "metadata": {
    "slideshow": {
     "slide_type": "slide"
    }
   },
   "outputs": [
    {
     "name": "stderr",
     "output_type": "stream",
     "text": [
      "Warning message:\n",
      "“\u001b[1m\u001b[22mOne or more parsing issues, call `problems()` on your data frame for details, e.g.:\n",
      "  dat <- vroom(...)\n",
      "  problems(dat)”\n",
      "\u001b[1mRows: \u001b[22m\u001b[34m2\u001b[39m \u001b[1mColumns: \u001b[22m\u001b[34m3\u001b[39m\n",
      "\u001b[36m──\u001b[39m \u001b[1mColumn specification\u001b[22m \u001b[36m──────────────────────────────────────────────────────────────────────────────────────────────────────────────────────\u001b[39m\n",
      "\u001b[1mDelimiter:\u001b[22m \",\"\n",
      "\u001b[32mdbl\u001b[39m (2): a, b\n",
      "\u001b[32mnum\u001b[39m (1): c\n",
      "\n",
      "\u001b[36mℹ\u001b[39m Use `spec()` to retrieve the full column specification for this data.\n",
      "\u001b[36mℹ\u001b[39m Specify the column types or set `show_col_types = FALSE` to quiet this message.\n"
     ]
    },
    {
     "data": {
      "text/html": [
       "<table class=\"dataframe\">\n",
       "<caption>A tibble: 2 × 5</caption>\n",
       "<thead>\n",
       "\t<tr><th scope=col>row</th><th scope=col>col</th><th scope=col>expected</th><th scope=col>actual</th><th scope=col>file</th></tr>\n",
       "\t<tr><th scope=col>&lt;int&gt;</th><th scope=col>&lt;int&gt;</th><th scope=col>&lt;chr&gt;</th><th scope=col>&lt;chr&gt;</th><th scope=col>&lt;chr&gt;</th></tr>\n",
       "</thead>\n",
       "<tbody>\n",
       "\t<tr><td>2</td><td>2</td><td>3 columns</td><td>2 columns</td><td>/tmp/Rtmp5oewRD/file13461e6d23b2aa</td></tr>\n",
       "\t<tr><td>3</td><td>4</td><td>3 columns</td><td>4 columns</td><td>/tmp/Rtmp5oewRD/file13461e6d23b2aa</td></tr>\n",
       "</tbody>\n",
       "</table>\n"
      ],
      "text/latex": [
       "A tibble: 2 × 5\n",
       "\\begin{tabular}{lllll}\n",
       " row & col & expected & actual & file\\\\\n",
       " <int> & <int> & <chr> & <chr> & <chr>\\\\\n",
       "\\hline\n",
       "\t 2 & 2 & 3 columns & 2 columns & /tmp/Rtmp5oewRD/file13461e6d23b2aa\\\\\n",
       "\t 3 & 4 & 3 columns & 4 columns & /tmp/Rtmp5oewRD/file13461e6d23b2aa\\\\\n",
       "\\end{tabular}\n"
      ],
      "text/markdown": [
       "\n",
       "A tibble: 2 × 5\n",
       "\n",
       "| row &lt;int&gt; | col &lt;int&gt; | expected &lt;chr&gt; | actual &lt;chr&gt; | file &lt;chr&gt; |\n",
       "|---|---|---|---|---|\n",
       "| 2 | 2 | 3 columns | 2 columns | /tmp/Rtmp5oewRD/file13461e6d23b2aa |\n",
       "| 3 | 4 | 3 columns | 4 columns | /tmp/Rtmp5oewRD/file13461e6d23b2aa |\n",
       "\n"
      ],
      "text/plain": [
       "  row col expected  actual    file                              \n",
       "1 2   2   3 columns 2 columns /tmp/Rtmp5oewRD/file13461e6d23b2aa\n",
       "2 3   4   3 columns 4 columns /tmp/Rtmp5oewRD/file13461e6d23b2aa"
      ]
     },
     "metadata": {},
     "output_type": "display_data"
    }
   ],
   "source": [
    "csv <- \"\n",
    "a,b,c\n",
    "1,2\n",
    "1,2,3,4\"\n",
    "\n",
    "df <- read_csv(csv)\n",
    "problems(df)"
   ]
  },
  {
   "cell_type": "code",
   "execution_count": 59,
   "metadata": {
    "slideshow": {
     "slide_type": "slide"
    }
   },
   "outputs": [
    {
     "name": "stdout",
     "output_type": "stream",
     "text": [
      "a,b\n",
      "\"1\n"
     ]
    },
    {
     "name": "stderr",
     "output_type": "stream",
     "text": [
      "\u001b[1mRows: \u001b[22m\u001b[34m0\u001b[39m \u001b[1mColumns: \u001b[22m\u001b[34m2\u001b[39m\n",
      "\u001b[36m──\u001b[39m \u001b[1mColumn specification\u001b[22m \u001b[36m──────────────────────────────────────────────────────────────────────────────────────────────────────────────────────\u001b[39m\n",
      "\u001b[1mDelimiter:\u001b[22m \",\"\n",
      "\u001b[31mchr\u001b[39m (2): a, b\n",
      "\n",
      "\u001b[36mℹ\u001b[39m Use `spec()` to retrieve the full column specification for this data.\n",
      "\u001b[36mℹ\u001b[39m Specify the column types or set `show_col_types = FALSE` to quiet this message.\n"
     ]
    },
    {
     "data": {
      "text/html": [
       "<table class=\"dataframe\">\n",
       "<caption>A spec_tbl_df: 0 × 2</caption>\n",
       "<thead>\n",
       "\t<tr><th scope=col>a</th><th scope=col>b</th></tr>\n",
       "\t<tr><th scope=col>&lt;chr&gt;</th><th scope=col>&lt;chr&gt;</th></tr>\n",
       "</thead>\n",
       "<tbody>\n",
       "</tbody>\n",
       "</table>\n"
      ],
      "text/latex": [
       "A spec\\_tbl\\_df: 0 × 2\n",
       "\\begin{tabular}{ll}\n",
       " a & b\\\\\n",
       " <chr> & <chr>\\\\\n",
       "\\hline\n",
       "\\end{tabular}\n"
      ],
      "text/markdown": [
       "\n",
       "A spec_tbl_df: 0 × 2\n",
       "\n",
       "| a &lt;chr&gt; | b &lt;chr&gt; |\n",
       "|---|---|\n",
       "\n"
      ],
      "text/plain": [
       "     a b"
      ]
     },
     "metadata": {},
     "output_type": "display_data"
    }
   ],
   "source": [
    "csv <- \"a,b\\n\\\"1\"\n",
    "\n",
    "writeLines(csv)\n",
    "\n",
    "read_csv(csv)"
   ]
  },
  {
   "cell_type": "code",
   "execution_count": 61,
   "metadata": {
    "slideshow": {
     "slide_type": "slide"
    }
   },
   "outputs": [
    {
     "name": "stderr",
     "output_type": "stream",
     "text": [
      "\u001b[1mRows: \u001b[22m\u001b[34m2\u001b[39m \u001b[1mColumns: \u001b[22m\u001b[34m2\u001b[39m\n",
      "\u001b[36m──\u001b[39m \u001b[1mColumn specification\u001b[22m \u001b[36m──────────────────────────────────────────────────────────────────────────────────────────────────────────────────────\u001b[39m\n",
      "\u001b[1mDelimiter:\u001b[22m \",\"\n",
      "\u001b[31mchr\u001b[39m (2): a, b\n",
      "\n",
      "\u001b[36mℹ\u001b[39m Use `spec()` to retrieve the full column specification for this data.\n",
      "\u001b[36mℹ\u001b[39m Specify the column types or set `show_col_types = FALSE` to quiet this message.\n",
      "Warning message:\n",
      "“\u001b[1m\u001b[22mThere was 1 warning in `mutate()`.\n",
      "\u001b[1m\u001b[22m\u001b[36mℹ\u001b[39m In argument: `a = as.integer(a)`.\n",
      "Caused by warning:\n",
      "\u001b[33m!\u001b[39m NAs introduced by coercion”\n"
     ]
    },
    {
     "data": {
      "text/html": [
       "<table class=\"dataframe\">\n",
       "<caption>A tibble: 2 × 2</caption>\n",
       "<thead>\n",
       "\t<tr><th scope=col>a</th><th scope=col>b</th></tr>\n",
       "\t<tr><th scope=col>&lt;int&gt;</th><th scope=col>&lt;chr&gt;</th></tr>\n",
       "</thead>\n",
       "<tbody>\n",
       "\t<tr><td> 1</td><td>2</td></tr>\n",
       "\t<tr><td>NA</td><td>b</td></tr>\n",
       "</tbody>\n",
       "</table>\n"
      ],
      "text/latex": [
       "A tibble: 2 × 2\n",
       "\\begin{tabular}{ll}\n",
       " a & b\\\\\n",
       " <int> & <chr>\\\\\n",
       "\\hline\n",
       "\t  1 & 2\\\\\n",
       "\t NA & b\\\\\n",
       "\\end{tabular}\n"
      ],
      "text/markdown": [
       "\n",
       "A tibble: 2 × 2\n",
       "\n",
       "| a &lt;int&gt; | b &lt;chr&gt; |\n",
       "|---|---|\n",
       "|  1 | 2 |\n",
       "| NA | b |\n",
       "\n"
      ],
      "text/plain": [
       "  a  b\n",
       "1  1 2\n",
       "2 NA b"
      ]
     },
     "metadata": {},
     "output_type": "display_data"
    }
   ],
   "source": [
    "csv <- \"\n",
    "a,b\n",
    "1,2\n",
    "a,b\"\n",
    "\n",
    "read_csv(csv) %>% mutate(a = as.integer(a))"
   ]
  },
  {
   "cell_type": "code",
   "execution_count": 68,
   "metadata": {
    "slideshow": {
     "slide_type": "slide"
    }
   },
   "outputs": [
    {
     "name": "stderr",
     "output_type": "stream",
     "text": [
      "\u001b[1mRows: \u001b[22m\u001b[34m1\u001b[39m \u001b[1mColumns: \u001b[22m\u001b[34m2\u001b[39m\n",
      "\u001b[36m──\u001b[39m \u001b[1mColumn specification\u001b[22m \u001b[36m──────────────────────────────────────────────────────────────────────────────────────────────────────────────────────\u001b[39m\n",
      "\u001b[1mDelimiter:\u001b[22m \"\\t\"\n",
      "\u001b[32mdbl\u001b[39m (2): a, b\n",
      "\n",
      "\u001b[36mℹ\u001b[39m Use `spec()` to retrieve the full column specification for this data.\n",
      "\u001b[36mℹ\u001b[39m Specify the column types or set `show_col_types = FALSE` to quiet this message.\n"
     ]
    },
    {
     "data": {
      "text/html": [
       "<table class=\"dataframe\">\n",
       "<caption>A spec_tbl_df: 1 × 2</caption>\n",
       "<thead>\n",
       "\t<tr><th scope=col>a</th><th scope=col>b</th></tr>\n",
       "\t<tr><th scope=col>&lt;dbl&gt;</th><th scope=col>&lt;dbl&gt;</th></tr>\n",
       "</thead>\n",
       "<tbody>\n",
       "\t<tr><td>1</td><td>3</td></tr>\n",
       "</tbody>\n",
       "</table>\n"
      ],
      "text/latex": [
       "A spec\\_tbl\\_df: 1 × 2\n",
       "\\begin{tabular}{ll}\n",
       " a & b\\\\\n",
       " <dbl> & <dbl>\\\\\n",
       "\\hline\n",
       "\t 1 & 3\\\\\n",
       "\\end{tabular}\n"
      ],
      "text/markdown": [
       "\n",
       "A spec_tbl_df: 1 × 2\n",
       "\n",
       "| a &lt;dbl&gt; | b &lt;dbl&gt; |\n",
       "|---|---|\n",
       "| 1 | 3 |\n",
       "\n"
      ],
      "text/plain": [
       "  a b\n",
       "1 1 3"
      ]
     },
     "metadata": {},
     "output_type": "display_data"
    }
   ],
   "source": [
    "tsv <- \"\n",
    "a\\tb\n",
    "1\\t3\n",
    "\"\n",
    "\n",
    "# writeLines(tsv)\n",
    "\n",
    "read_delim(tsv)"
   ]
  },
  {
   "cell_type": "markdown",
   "metadata": {
    "slideshow": {
     "slide_type": "slide"
    }
   },
   "source": [
    "## Example of a real-world CSV"
   ]
  },
  {
   "cell_type": "markdown",
   "metadata": {},
   "source": [
    "![nytimes china story](https://i.imgur.com/c0KGOZ8.png)\n"
   ]
  },
  {
   "cell_type": "markdown",
   "metadata": {
    "slideshow": {
     "slide_type": "notes"
    }
   },
   "source": [
    "Recently we saw in the news that the population of China shrank for the first time in more than sixty years. This has major implications for China and the world as a whole. \n",
    "\n",
    "Let's study this phenomenon in data, which will give us a chance to practice importing CSV and Excel files."
   ]
  },
  {
   "cell_type": "markdown",
   "metadata": {
    "slideshow": {
     "slide_type": "slide"
    }
   },
   "source": [
    "First I visited the World Bank. They have data on total population size as well as fertility rates across all countries, from about the 1950s to present:\n",
    "- [Population](https://data.worldbank.org/indicator/SP.POP.TOTL)\n",
    "- [Fertility rate](https://data.worldbank.org/indicator/SP.DYN.TFRT.IN)\n"
   ]
  },
  {
   "cell_type": "markdown",
   "metadata": {
    "slideshow": {
     "slide_type": "notes"
    }
   },
   "source": [
    "Each of these web pages contains a link to a downloadable CSV file. You can download them to your local computer by running the following code:"
   ]
  },
  {
   "cell_type": "code",
   "execution_count": 27,
   "metadata": {},
   "outputs": [],
   "source": [
    "for(x in c('fert', 'pop')) {\n",
    "    fn <- paste0('wb_', x, '.csv')\n",
    "    download.file(paste0('https://datasets.stats306.org/', fn), fn)\n",
    "}"
   ]
  },
  {
   "cell_type": "markdown",
   "metadata": {
    "slideshow": {
     "slide_type": "slide"
    }
   },
   "source": [
    "First let's try loading the population dataset into R using `read_csv`:"
   ]
  },
  {
   "cell_type": "code",
   "execution_count": 84,
   "metadata": {},
   "outputs": [
    {
     "name": "stderr",
     "output_type": "stream",
     "text": [
      "\u001b[1m\u001b[22mNew names:\n",
      "\u001b[36m•\u001b[39m `` -> `...67`\n",
      "\u001b[1mRows: \u001b[22m\u001b[34m266\u001b[39m \u001b[1mColumns: \u001b[22m\u001b[34m67\u001b[39m\n",
      "\u001b[36m──\u001b[39m \u001b[1mColumn specification\u001b[22m \u001b[36m──────────────────────────────────────────────────────────────────────────────────────────────────────────────────────\u001b[39m\n",
      "\u001b[1mDelimiter:\u001b[22m \",\"\n",
      "\u001b[31mchr\u001b[39m  (4): Country Name, Country Code, Indicator Name, Indicator Code\n",
      "\u001b[32mdbl\u001b[39m (62): 1960, 1961, 1962, 1963, 1964, 1965, 1966, 1967, 1968, 1969, 1970, ...\n",
      "\u001b[33mlgl\u001b[39m  (1): ...67\n",
      "\n",
      "\u001b[36mℹ\u001b[39m Use `spec()` to retrieve the full column specification for this data.\n",
      "\u001b[36mℹ\u001b[39m Specify the column types or set `show_col_types = FALSE` to quiet this message.\n"
     ]
    },
    {
     "data": {
      "image/png": "[encoded data removed]",
      "text/plain": [
       "plot without title"
      ]
     },
     "metadata": {
      "image/png": {
       "height": 300,
       "width": 480
      }
     },
     "output_type": "display_data"
    }
   ],
   "source": [
    "read_csv('wb_pop.csv', skip=4) %>% pivot_longer(`1960`:`2021`, names_to = \"year\", values_to = \"pop\") %>% \n",
    "    filter(`Country Name` == \"China\") %>% ggplot(aes(x = as.integer(year), y = pop, group = `Country Name`)) + geom_line()\n",
    "\n",
    "# problems(wb_pop)"
   ]
  },
  {
   "cell_type": "markdown",
   "metadata": {
    "slideshow": {
     "slide_type": "notes"
    }
   },
   "source": [
    "We can see that R generated some warning messages when loading the CSV. And the data frame itself does not appear to have loaded correctly:"
   ]
  },
  {
   "cell_type": "markdown",
   "metadata": {
    "slideshow": {
     "slide_type": "slide"
    }
   },
   "source": [
    "The `problems()` function can be helpful for diagnosing what went wrong:"
   ]
  },
  {
   "cell_type": "code",
   "execution_count": 11,
   "metadata": {
    "slideshow": {
     "slide_type": "slide"
    }
   },
   "outputs": [],
   "source": [
    "# problems loading wb_pop"
   ]
  },
  {
   "cell_type": "markdown",
   "metadata": {
    "slideshow": {
     "slide_type": "slide"
    }
   },
   "source": [
    "Let's try examining the [raw CSV file](wb_pop.csv):"
   ]
  },
  {
   "cell_type": "markdown",
   "metadata": {
    "slideshow": {
     "slide_type": "notes"
    }
   },
   "source": [
    "We can see that the first three lines of the file contain metadata about the source of the data. We need to tell R to skip those so that the first row it considers contains the column names:"
   ]
  },
  {
   "cell_type": "code",
   "execution_count": 31,
   "metadata": {
    "slideshow": {
     "slide_type": "slide"
    }
   },
   "outputs": [
    {
     "name": "stderr",
     "output_type": "stream",
     "text": [
      "\u001b[1m\u001b[22mNew names:\n",
      "\u001b[36m•\u001b[39m `` -> `...67`\n",
      "\u001b[1mRows: \u001b[22m\u001b[34m266\u001b[39m \u001b[1mColumns: \u001b[22m\u001b[34m67\u001b[39m\n",
      "\u001b[36m──\u001b[39m \u001b[1mColumn specification\u001b[22m \u001b[36m──────────────────────────────────────────────────────────────────────────────────────────────────────────────────────\u001b[39m\n",
      "\u001b[1mDelimiter:\u001b[22m \",\"\n",
      "\u001b[31mchr\u001b[39m  (4): Country Name, Country Code, Indicator Name, Indicator Code\n",
      "\u001b[32mdbl\u001b[39m (62): 1960, 1961, 1962, 1963, 1964, 1965, 1966, 1967, 1968, 1969, 1970, ...\n",
      "\u001b[33mlgl\u001b[39m  (1): ...67\n",
      "\n",
      "\u001b[36mℹ\u001b[39m Use `spec()` to retrieve the full column specification for this data.\n",
      "\u001b[36mℹ\u001b[39m Specify the column types or set `show_col_types = FALSE` to quiet this message.\n"
     ]
    }
   ],
   "source": [
    "# read in the csv, skip first rows\n",
    "wb.pop <- read_csv(\"wb_pop.csv\", skip=3)"
   ]
  },
  {
   "cell_type": "markdown",
   "metadata": {
    "slideshow": {
     "slide_type": "notes"
    }
   },
   "source": [
    "Notice that there is also an extraneous 67-th column added to the very end of the data frame. This is because the rows of `wb_pop` all end in a comma."
   ]
  },
  {
   "cell_type": "code",
   "execution_count": 53,
   "metadata": {
    "slideshow": {
     "slide_type": "slide"
    }
   },
   "outputs": [],
   "source": [
    "# load fertility dataset, using same ideas"
   ]
  },
  {
   "cell_type": "markdown",
   "metadata": {
    "slideshow": {
     "slide_type": "notes"
    }
   },
   "source": [
    "What do these data tell us about falling birth rates in China?"
   ]
  },
  {
   "cell_type": "code",
   "execution_count": 131,
   "metadata": {
    "slideshow": {
     "slide_type": "slide"
    }
   },
   "outputs": [
    {
     "name": "stderr",
     "output_type": "stream",
     "text": [
      "Warning message:\n",
      "“\u001b[1m\u001b[22mRemoved 1 row containing missing values (`geom_line()`).”\n"
     ]
    },
    {
     "data": {
      "image/png": "[encoded data removed]",
      "text/plain": [
       "plot without title"
      ]
     },
     "metadata": {
      "image/png": {
       "height": 300,
       "width": 480
      }
     },
     "output_type": "display_data"
    }
   ],
   "source": [
    "# fertility over time in China"
   ]
  },
  {
   "cell_type": "code",
   "execution_count": 55,
   "metadata": {
    "slideshow": {
     "slide_type": "slide"
    }
   },
   "outputs": [],
   "source": [
    "# plot china population and fertility using sec.axis()"
   ]
  },
  {
   "cell_type": "markdown",
   "metadata": {
    "slideshow": {
     "slide_type": "slide"
    }
   },
   "source": [
    "## Reading data from spreadsheets\n",
    "\n",
    "Next we will continue our investigation in the population in China by turning to a different data source. The United Nations maintains a database called the [World Population Prospects](https://population.un.org/wpp/) which contains very detailed historical and forecasted demographic information for every country. We will use this dataset to learn more about the demographics of China."
   ]
  },
  {
   "cell_type": "markdown",
   "metadata": {
    "slideshow": {
     "slide_type": "slide"
    }
   },
   "source": [
    "The main file we are interested is the \"compact\" version of the dataset. You can download it into your R workspace by running:"
   ]
  },
  {
   "cell_type": "code",
   "execution_count": null,
   "metadata": {},
   "outputs": [],
   "source": [
    "wpp.url <- \"https://population.un.org/wpp/Download/Files/1_Indicators%20(Standard)/EXCEL_FILES/1_General/WPP2022_GEN_F01_DEMOGRAPHIC_INDICATORS_COMPACT_REV1.xlsx\",\n",
    "download.file(wpp.url, \"WPP2022_GEN_F01_DEMOGRAPHIC_INDICATORS_COMPACT_REV1.xlsx\")"
   ]
  },
  {
   "cell_type": "markdown",
   "metadata": {
    "slideshow": {
     "slide_type": "notes"
    }
   },
   "source": [
    "The `readxl` package (part of tidyverse) is used to read Excel files. It provides a command called `read_excel` which we will use to read Excel spreadsheet data into R."
   ]
  },
  {
   "cell_type": "code",
   "execution_count": 76,
   "metadata": {
    "slideshow": {
     "slide_type": "slide"
    }
   },
   "outputs": [
    {
     "name": "stderr",
     "output_type": "stream",
     "text": [
      "\u001b[1m\u001b[22mNew names:\n",
      "\u001b[36m•\u001b[39m `` -> `...1`\n",
      "\u001b[36m•\u001b[39m `` -> `...2`\n",
      "\u001b[36m•\u001b[39m `` -> `...3`\n",
      "\u001b[36m•\u001b[39m `` -> `...4`\n",
      "\u001b[36m•\u001b[39m `` -> `...6`\n",
      "\u001b[36m•\u001b[39m `` -> `...7`\n",
      "\u001b[36m•\u001b[39m `` -> `...8`\n",
      "\u001b[36m•\u001b[39m `` -> `...9`\n",
      "\u001b[36m•\u001b[39m `` -> `...10`\n",
      "\u001b[36m•\u001b[39m `` -> `...11`\n",
      "\u001b[36m•\u001b[39m `` -> `...12`\n",
      "\u001b[36m•\u001b[39m `` -> `...13`\n",
      "\u001b[36m•\u001b[39m `` -> `...14`\n",
      "\u001b[36m•\u001b[39m `` -> `...15`\n",
      "\u001b[36m•\u001b[39m `` -> `...16`\n",
      "\u001b[36m•\u001b[39m `` -> `...17`\n",
      "\u001b[36m•\u001b[39m `` -> `...18`\n",
      "\u001b[36m•\u001b[39m `` -> `...19`\n",
      "\u001b[36m•\u001b[39m `` -> `...20`\n",
      "\u001b[36m•\u001b[39m `` -> `...21`\n",
      "\u001b[36m•\u001b[39m `` -> `...22`\n",
      "\u001b[36m•\u001b[39m `` -> `...23`\n",
      "\u001b[36m•\u001b[39m `` -> `...24`\n",
      "\u001b[36m•\u001b[39m `` -> `...25`\n",
      "\u001b[36m•\u001b[39m `` -> `...26`\n",
      "\u001b[36m•\u001b[39m `` -> `...27`\n",
      "\u001b[36m•\u001b[39m `` -> `...28`\n",
      "\u001b[36m•\u001b[39m `` -> `...29`\n",
      "\u001b[36m•\u001b[39m `` -> `...30`\n",
      "\u001b[36m•\u001b[39m `` -> `...31`\n",
      "\u001b[36m•\u001b[39m `` -> `...32`\n",
      "\u001b[36m•\u001b[39m `` -> `...33`\n",
      "\u001b[36m•\u001b[39m `` -> `...34`\n",
      "\u001b[36m•\u001b[39m `` -> `...35`\n",
      "\u001b[36m•\u001b[39m `` -> `...36`\n",
      "\u001b[36m•\u001b[39m `` -> `...37`\n",
      "\u001b[36m•\u001b[39m `` -> `...38`\n",
      "\u001b[36m•\u001b[39m `` -> `...39`\n",
      "\u001b[36m•\u001b[39m `` -> `...40`\n",
      "\u001b[36m•\u001b[39m `` -> `...41`\n",
      "\u001b[36m•\u001b[39m `` -> `...42`\n",
      "\u001b[36m•\u001b[39m `` -> `...43`\n",
      "\u001b[36m•\u001b[39m `` -> `...44`\n",
      "\u001b[36m•\u001b[39m `` -> `...45`\n",
      "\u001b[36m•\u001b[39m `` -> `...46`\n",
      "\u001b[36m•\u001b[39m `` -> `...47`\n",
      "\u001b[36m•\u001b[39m `` -> `...48`\n",
      "\u001b[36m•\u001b[39m `` -> `...49`\n",
      "\u001b[36m•\u001b[39m `` -> `...50`\n",
      "\u001b[36m•\u001b[39m `` -> `...51`\n",
      "\u001b[36m•\u001b[39m `` -> `...52`\n",
      "\u001b[36m•\u001b[39m `` -> `...53`\n",
      "\u001b[36m•\u001b[39m `` -> `...54`\n",
      "\u001b[36m•\u001b[39m `` -> `...55`\n",
      "\u001b[36m•\u001b[39m `` -> `...56`\n",
      "\u001b[36m•\u001b[39m `` -> `...57`\n",
      "\u001b[36m•\u001b[39m `` -> `...58`\n",
      "\u001b[36m•\u001b[39m `` -> `...59`\n",
      "\u001b[36m•\u001b[39m `` -> `...60`\n",
      "\u001b[36m•\u001b[39m `` -> `...61`\n",
      "\u001b[36m•\u001b[39m `` -> `...62`\n",
      "\u001b[36m•\u001b[39m `` -> `...63`\n",
      "\u001b[36m•\u001b[39m `` -> `...64`\n",
      "\u001b[36m•\u001b[39m `` -> `...65`\n"
     ]
    }
   ],
   "source": [
    "library(readxl)\n",
    "wpp <- read_excel(\"WPP2022_GEN_F01_DEMOGRAPHIC_INDICATORS_COMPACT_REV1.xlsx\")"
   ]
  },
  {
   "cell_type": "markdown",
   "metadata": {
    "slideshow": {
     "slide_type": "slide"
    }
   },
   "source": [
    "It's clear that this import did not work well:"
   ]
  },
  {
   "cell_type": "code",
   "execution_count": 77,
   "metadata": {},
   "outputs": [
    {
     "data": {
      "text/html": [
       "<table class=\"dataframe\">\n",
       "<caption>A tibble: 6 × 65</caption>\n",
       "<thead>\n",
       "\t<tr><th scope=col>...1</th><th scope=col>...2</th><th scope=col>...3</th><th scope=col>...4</th><th scope=col>United Nations</th><th scope=col>...6</th><th scope=col>...7</th><th scope=col>...8</th><th scope=col>...9</th><th scope=col>...10</th><th scope=col>⋯</th><th scope=col>...56</th><th scope=col>...57</th><th scope=col>...58</th><th scope=col>...59</th><th scope=col>...60</th><th scope=col>...61</th><th scope=col>...62</th><th scope=col>...63</th><th scope=col>...64</th><th scope=col>...65</th></tr>\n",
       "\t<tr><th scope=col>&lt;chr&gt;</th><th scope=col>&lt;chr&gt;</th><th scope=col>&lt;chr&gt;</th><th scope=col>&lt;chr&gt;</th><th scope=col>&lt;chr&gt;</th><th scope=col>&lt;chr&gt;</th><th scope=col>&lt;chr&gt;</th><th scope=col>&lt;chr&gt;</th><th scope=col>&lt;chr&gt;</th><th scope=col>&lt;chr&gt;</th><th scope=col>⋯</th><th scope=col>&lt;chr&gt;</th><th scope=col>&lt;chr&gt;</th><th scope=col>&lt;chr&gt;</th><th scope=col>&lt;chr&gt;</th><th scope=col>&lt;chr&gt;</th><th scope=col>&lt;chr&gt;</th><th scope=col>&lt;chr&gt;</th><th scope=col>&lt;chr&gt;</th><th scope=col>&lt;chr&gt;</th><th scope=col>&lt;chr&gt;</th></tr>\n",
       "</thead>\n",
       "<tbody>\n",
       "\t<tr><td>NA</td><td>NA</td><td>NA</td><td>NA</td><td>Population Division                                                                              </td><td>NA</td><td>NA</td><td>NA</td><td>NA</td><td>NA</td><td>⋯</td><td>NA</td><td>NA</td><td>NA</td><td>NA</td><td>NA</td><td>NA</td><td>NA</td><td>NA</td><td>NA</td><td>NA</td></tr>\n",
       "\t<tr><td>NA</td><td>NA</td><td>NA</td><td>NA</td><td>Department of Economic and Social Affairs                                                        </td><td>NA</td><td>NA</td><td>NA</td><td>NA</td><td>NA</td><td>⋯</td><td>NA</td><td>NA</td><td>NA</td><td>NA</td><td>NA</td><td>NA</td><td>NA</td><td>NA</td><td>NA</td><td>NA</td></tr>\n",
       "\t<tr><td>NA</td><td>NA</td><td>NA</td><td>NA</td><td>NA                                                                                               </td><td>NA</td><td>NA</td><td>NA</td><td>NA</td><td>NA</td><td>⋯</td><td>NA</td><td>NA</td><td>NA</td><td>NA</td><td>NA</td><td>NA</td><td>NA</td><td>NA</td><td>NA</td><td>NA</td></tr>\n",
       "\t<tr><td>NA</td><td>NA</td><td>NA</td><td>NA</td><td>World Population Prospects 2022                                                                  </td><td>NA</td><td>NA</td><td>NA</td><td>NA</td><td>NA</td><td>⋯</td><td>NA</td><td>NA</td><td>NA</td><td>NA</td><td>NA</td><td>NA</td><td>NA</td><td>NA</td><td>NA</td><td>NA</td></tr>\n",
       "\t<tr><td>NA</td><td>NA</td><td>NA</td><td>NA</td><td>File GEN/01/REV1: Demographic indicators by region, subregion and country, annually for 1950-2100</td><td>NA</td><td>NA</td><td>NA</td><td>NA</td><td>NA</td><td>⋯</td><td>NA</td><td>NA</td><td>NA</td><td>NA</td><td>NA</td><td>NA</td><td>NA</td><td>NA</td><td>NA</td><td>NA</td></tr>\n",
       "\t<tr><td>NA</td><td>NA</td><td>NA</td><td>NA</td><td>Estimates, 1950 - 2021                                                                           </td><td>NA</td><td>NA</td><td>NA</td><td>NA</td><td>NA</td><td>⋯</td><td>NA</td><td>NA</td><td>NA</td><td>NA</td><td>NA</td><td>NA</td><td>NA</td><td>NA</td><td>NA</td><td>NA</td></tr>\n",
       "</tbody>\n",
       "</table>\n"
      ],
      "text/latex": [
       "A tibble: 6 × 65\n",
       "\\begin{tabular}{lllllllllllllllllllll}\n",
       " ...1 & ...2 & ...3 & ...4 & United Nations & ...6 & ...7 & ...8 & ...9 & ...10 & ⋯ & ...56 & ...57 & ...58 & ...59 & ...60 & ...61 & ...62 & ...63 & ...64 & ...65\\\\\n",
       " <chr> & <chr> & <chr> & <chr> & <chr> & <chr> & <chr> & <chr> & <chr> & <chr> & ⋯ & <chr> & <chr> & <chr> & <chr> & <chr> & <chr> & <chr> & <chr> & <chr> & <chr>\\\\\n",
       "\\hline\n",
       "\t NA & NA & NA & NA & Population Division                                                                               & NA & NA & NA & NA & NA & ⋯ & NA & NA & NA & NA & NA & NA & NA & NA & NA & NA\\\\\n",
       "\t NA & NA & NA & NA & Department of Economic and Social Affairs                                                         & NA & NA & NA & NA & NA & ⋯ & NA & NA & NA & NA & NA & NA & NA & NA & NA & NA\\\\\n",
       "\t NA & NA & NA & NA & NA                                                                                                & NA & NA & NA & NA & NA & ⋯ & NA & NA & NA & NA & NA & NA & NA & NA & NA & NA\\\\\n",
       "\t NA & NA & NA & NA & World Population Prospects 2022                                                                   & NA & NA & NA & NA & NA & ⋯ & NA & NA & NA & NA & NA & NA & NA & NA & NA & NA\\\\\n",
       "\t NA & NA & NA & NA & File GEN/01/REV1: Demographic indicators by region, subregion and country, annually for 1950-2100 & NA & NA & NA & NA & NA & ⋯ & NA & NA & NA & NA & NA & NA & NA & NA & NA & NA\\\\\n",
       "\t NA & NA & NA & NA & Estimates, 1950 - 2021                                                                            & NA & NA & NA & NA & NA & ⋯ & NA & NA & NA & NA & NA & NA & NA & NA & NA & NA\\\\\n",
       "\\end{tabular}\n"
      ],
      "text/markdown": [
       "\n",
       "A tibble: 6 × 65\n",
       "\n",
       "| ...1 &lt;chr&gt; | ...2 &lt;chr&gt; | ...3 &lt;chr&gt; | ...4 &lt;chr&gt; | United Nations &lt;chr&gt; | ...6 &lt;chr&gt; | ...7 &lt;chr&gt; | ...8 &lt;chr&gt; | ...9 &lt;chr&gt; | ...10 &lt;chr&gt; | ⋯ ⋯ | ...56 &lt;chr&gt; | ...57 &lt;chr&gt; | ...58 &lt;chr&gt; | ...59 &lt;chr&gt; | ...60 &lt;chr&gt; | ...61 &lt;chr&gt; | ...62 &lt;chr&gt; | ...63 &lt;chr&gt; | ...64 &lt;chr&gt; | ...65 &lt;chr&gt; |\n",
       "|---|---|---|---|---|---|---|---|---|---|---|---|---|---|---|---|---|---|---|---|---|\n",
       "| NA | NA | NA | NA | Population Division                                                                               | NA | NA | NA | NA | NA | ⋯ | NA | NA | NA | NA | NA | NA | NA | NA | NA | NA |\n",
       "| NA | NA | NA | NA | Department of Economic and Social Affairs                                                         | NA | NA | NA | NA | NA | ⋯ | NA | NA | NA | NA | NA | NA | NA | NA | NA | NA |\n",
       "| NA | NA | NA | NA | NA                                                                                                | NA | NA | NA | NA | NA | ⋯ | NA | NA | NA | NA | NA | NA | NA | NA | NA | NA |\n",
       "| NA | NA | NA | NA | World Population Prospects 2022                                                                   | NA | NA | NA | NA | NA | ⋯ | NA | NA | NA | NA | NA | NA | NA | NA | NA | NA |\n",
       "| NA | NA | NA | NA | File GEN/01/REV1: Demographic indicators by region, subregion and country, annually for 1950-2100 | NA | NA | NA | NA | NA | ⋯ | NA | NA | NA | NA | NA | NA | NA | NA | NA | NA |\n",
       "| NA | NA | NA | NA | Estimates, 1950 - 2021                                                                            | NA | NA | NA | NA | NA | ⋯ | NA | NA | NA | NA | NA | NA | NA | NA | NA | NA |\n",
       "\n"
      ],
      "text/plain": [
       "  ...1 ...2 ...3 ...4\n",
       "1 NA   NA   NA   NA  \n",
       "2 NA   NA   NA   NA  \n",
       "3 NA   NA   NA   NA  \n",
       "4 NA   NA   NA   NA  \n",
       "5 NA   NA   NA   NA  \n",
       "6 NA   NA   NA   NA  \n",
       "  United Nations                                                                                   \n",
       "1 Population Division                                                                              \n",
       "2 Department of Economic and Social Affairs                                                        \n",
       "3 NA                                                                                               \n",
       "4 World Population Prospects 2022                                                                  \n",
       "5 File GEN/01/REV1: Demographic indicators by region, subregion and country, annually for 1950-2100\n",
       "6 Estimates, 1950 - 2021                                                                           \n",
       "  ...6 ...7 ...8 ...9 ...10 ⋯ ...56 ...57 ...58 ...59 ...60 ...61 ...62 ...63\n",
       "1 NA   NA   NA   NA   NA    ⋯ NA    NA    NA    NA    NA    NA    NA    NA   \n",
       "2 NA   NA   NA   NA   NA    ⋯ NA    NA    NA    NA    NA    NA    NA    NA   \n",
       "3 NA   NA   NA   NA   NA    ⋯ NA    NA    NA    NA    NA    NA    NA    NA   \n",
       "4 NA   NA   NA   NA   NA    ⋯ NA    NA    NA    NA    NA    NA    NA    NA   \n",
       "5 NA   NA   NA   NA   NA    ⋯ NA    NA    NA    NA    NA    NA    NA    NA   \n",
       "6 NA   NA   NA   NA   NA    ⋯ NA    NA    NA    NA    NA    NA    NA    NA   \n",
       "  ...64 ...65\n",
       "1 NA    NA   \n",
       "2 NA    NA   \n",
       "3 NA    NA   \n",
       "4 NA    NA   \n",
       "5 NA    NA   \n",
       "6 NA    NA   "
      ]
     },
     "metadata": {},
     "output_type": "display_data"
    }
   ],
   "source": [
    "head(wpp)"
   ]
  },
  {
   "cell_type": "markdown",
   "metadata": {
    "slideshow": {
     "slide_type": "notes"
    }
   },
   "source": [
    "It turns out that this is a really big spreadsheet containing a lot of data, and it's not in a format we can easily import. To understand how best to import it, it helps to look at it in Excel for a time:"
   ]
  },
  {
   "cell_type": "markdown",
   "metadata": {
    "slideshow": {
     "slide_type": "slide"
    }
   },
   "source": [
    "We can see that:\n",
    "- The column names are spread across multiple rows.\n",
    "- There are thousands of rows of data, but we only care about a small number of them (those pertaining to China).\n",
    "- Similarly, there are hundreds of columns of data, but we only care about a small number of them. "
   ]
  },
  {
   "cell_type": "markdown",
   "metadata": {
    "slideshow": {
     "slide_type": "slide"
    }
   },
   "source": [
    "First, we need to skip a large number of initial rows which contain sourcing information. We can do that using the `skip=` option."
   ]
  },
  {
   "cell_type": "code",
   "execution_count": 101,
   "metadata": {},
   "outputs": [
    {
     "data": {
      "text/html": [
       "<style>\n",
       ".list-inline {list-style: none; margin:0; padding: 0}\n",
       ".list-inline>li {display: inline-block}\n",
       ".list-inline>li:not(:last-child)::after {content: \"\\00b7\"; padding: 0 .5ex}\n",
       "</style>\n",
       "<ol class=list-inline><li>'Index'</li><li>'Variant'</li><li>'Region, subregion, country or area *'</li><li>'Notes'</li><li>'Location code'</li><li>'ISO3 Alpha-code'</li><li>'ISO2 Alpha-code'</li><li>'SDMX code**'</li><li>'Type'</li><li>'Parent code'</li><li>'Year'</li><li>'Total Population, as of 1 January (thousands)'</li><li>'Total Population, as of 1 July (thousands)'</li><li>'Male Population, as of 1 July (thousands)'</li><li>'Female Population, as of 1 July (thousands)'</li><li>'Population Density, as of 1 July (persons per square km)'</li><li>'Population Sex Ratio, as of 1 July (males per 100 females)'</li><li>'Median Age, as of 1 July (years)'</li><li>'Natural Change, Births minus Deaths (thousands)'</li><li>'Rate of Natural Change (per 1,000 population)'</li><li>'Population Change (thousands)'</li><li>'Population Growth Rate (percentage)'</li><li>'Population Annual Doubling Time (years)'</li><li>'Births (thousands)'</li><li>'Births by women aged 15 to 19 (thousands)'</li><li>'Crude Birth Rate (births per 1,000 population)'</li><li>'Total Fertility Rate (live births per woman)'</li><li>'Net Reproduction Rate (surviving daughters per woman)'</li><li>'Mean Age Childbearing (years)'</li><li>'Sex Ratio at Birth (males per 100 female births)'</li><li>'Total Deaths (thousands)'</li><li>'Male Deaths (thousands)'</li><li>'Female Deaths (thousands)'</li><li>'Crude Death Rate (deaths per 1,000 population)'</li><li>'Life Expectancy at Birth, both sexes (years)'</li><li>'Male Life Expectancy at Birth (years)'</li><li>'Female Life Expectancy at Birth (years)'</li><li>'Life Expectancy at Age 15, both sexes (years)'</li><li>'Male Life Expectancy at Age 15 (years)'</li><li>'Female Life Expectancy at Age 15 (years)'</li><li>'Life Expectancy at Age 65, both sexes (years)'</li><li>'Male Life Expectancy at Age 65 (years)'</li><li>'Female Life Expectancy at Age 65 (years)'</li><li>'Life Expectancy at Age 80, both sexes (years)'</li><li>'Male Life Expectancy at Age 80 (years)'</li><li>'Female Life Expectancy at Age 80 (years)'</li><li>'Infant Deaths, under age 1 (thousands)'</li><li>'Infant Mortality Rate (infant deaths per 1,000 live births)'</li><li>'Live Births Surviving to Age 1 (thousands)'</li><li>'Under-Five Deaths, under age 5 (thousands)'</li><li>'Under-Five Mortality (deaths under age 5 per 1,000 live births)'</li><li>'Mortality before Age 40, both sexes (deaths under age 40 per 1,000 live births)'</li><li>'Male Mortality before Age 40 (deaths under age 40 per 1,000 male live births)'</li><li>'Female Mortality before Age 40 (deaths under age 40 per 1,000 female live births)'</li><li>'Mortality before Age 60, both sexes (deaths under age 60 per 1,000 live births)'</li><li>'Male Mortality before Age 60 (deaths under age 60 per 1,000 male live births)'</li><li>'Female Mortality before Age 60 (deaths under age 60 per 1,000 female live births)'</li><li>'Mortality between Age 15 and 50, both sexes (deaths under age 50 per 1,000 alive at age 15)'</li><li>'Male Mortality between Age 15 and 50 (deaths under age 50 per 1,000 males alive at age 15)'</li><li>'Female Mortality between Age 15 and 50 (deaths under age 50 per 1,000 females alive at age 15)'</li><li>'Mortality between Age 15 and 60, both sexes (deaths under age 60 per 1,000 alive at age 15)'</li><li>'Male Mortality between Age 15 and 60 (deaths under age 60 per 1,000 males alive at age 15)'</li><li>'Female Mortality between Age 15 and 60 (deaths under age 60 per 1,000 females alive at age 15)'</li><li>'Net Number of Migrants (thousands)'</li><li>'Net Migration Rate (per 1,000 population)'</li></ol>\n"
      ],
      "text/latex": [
       "\\begin{enumerate*}\n",
       "\\item 'Index'\n",
       "\\item 'Variant'\n",
       "\\item 'Region, subregion, country or area *'\n",
       "\\item 'Notes'\n",
       "\\item 'Location code'\n",
       "\\item 'ISO3 Alpha-code'\n",
       "\\item 'ISO2 Alpha-code'\n",
       "\\item 'SDMX code**'\n",
       "\\item 'Type'\n",
       "\\item 'Parent code'\n",
       "\\item 'Year'\n",
       "\\item 'Total Population, as of 1 January (thousands)'\n",
       "\\item 'Total Population, as of 1 July (thousands)'\n",
       "\\item 'Male Population, as of 1 July (thousands)'\n",
       "\\item 'Female Population, as of 1 July (thousands)'\n",
       "\\item 'Population Density, as of 1 July (persons per square km)'\n",
       "\\item 'Population Sex Ratio, as of 1 July (males per 100 females)'\n",
       "\\item 'Median Age, as of 1 July (years)'\n",
       "\\item 'Natural Change, Births minus Deaths (thousands)'\n",
       "\\item 'Rate of Natural Change (per 1,000 population)'\n",
       "\\item 'Population Change (thousands)'\n",
       "\\item 'Population Growth Rate (percentage)'\n",
       "\\item 'Population Annual Doubling Time (years)'\n",
       "\\item 'Births (thousands)'\n",
       "\\item 'Births by women aged 15 to 19 (thousands)'\n",
       "\\item 'Crude Birth Rate (births per 1,000 population)'\n",
       "\\item 'Total Fertility Rate (live births per woman)'\n",
       "\\item 'Net Reproduction Rate (surviving daughters per woman)'\n",
       "\\item 'Mean Age Childbearing (years)'\n",
       "\\item 'Sex Ratio at Birth (males per 100 female births)'\n",
       "\\item 'Total Deaths (thousands)'\n",
       "\\item 'Male Deaths (thousands)'\n",
       "\\item 'Female Deaths (thousands)'\n",
       "\\item 'Crude Death Rate (deaths per 1,000 population)'\n",
       "\\item 'Life Expectancy at Birth, both sexes (years)'\n",
       "\\item 'Male Life Expectancy at Birth (years)'\n",
       "\\item 'Female Life Expectancy at Birth (years)'\n",
       "\\item 'Life Expectancy at Age 15, both sexes (years)'\n",
       "\\item 'Male Life Expectancy at Age 15 (years)'\n",
       "\\item 'Female Life Expectancy at Age 15 (years)'\n",
       "\\item 'Life Expectancy at Age 65, both sexes (years)'\n",
       "\\item 'Male Life Expectancy at Age 65 (years)'\n",
       "\\item 'Female Life Expectancy at Age 65 (years)'\n",
       "\\item 'Life Expectancy at Age 80, both sexes (years)'\n",
       "\\item 'Male Life Expectancy at Age 80 (years)'\n",
       "\\item 'Female Life Expectancy at Age 80 (years)'\n",
       "\\item 'Infant Deaths, under age 1 (thousands)'\n",
       "\\item 'Infant Mortality Rate (infant deaths per 1,000 live births)'\n",
       "\\item 'Live Births Surviving to Age 1 (thousands)'\n",
       "\\item 'Under-Five Deaths, under age 5 (thousands)'\n",
       "\\item 'Under-Five Mortality (deaths under age 5 per 1,000 live births)'\n",
       "\\item 'Mortality before Age 40, both sexes (deaths under age 40 per 1,000 live births)'\n",
       "\\item 'Male Mortality before Age 40 (deaths under age 40 per 1,000 male live births)'\n",
       "\\item 'Female Mortality before Age 40 (deaths under age 40 per 1,000 female live births)'\n",
       "\\item 'Mortality before Age 60, both sexes (deaths under age 60 per 1,000 live births)'\n",
       "\\item 'Male Mortality before Age 60 (deaths under age 60 per 1,000 male live births)'\n",
       "\\item 'Female Mortality before Age 60 (deaths under age 60 per 1,000 female live births)'\n",
       "\\item 'Mortality between Age 15 and 50, both sexes (deaths under age 50 per 1,000 alive at age 15)'\n",
       "\\item 'Male Mortality between Age 15 and 50 (deaths under age 50 per 1,000 males alive at age 15)'\n",
       "\\item 'Female Mortality between Age 15 and 50 (deaths under age 50 per 1,000 females alive at age 15)'\n",
       "\\item 'Mortality between Age 15 and 60, both sexes (deaths under age 60 per 1,000 alive at age 15)'\n",
       "\\item 'Male Mortality between Age 15 and 60 (deaths under age 60 per 1,000 males alive at age 15)'\n",
       "\\item 'Female Mortality between Age 15 and 60 (deaths under age 60 per 1,000 females alive at age 15)'\n",
       "\\item 'Net Number of Migrants (thousands)'\n",
       "\\item 'Net Migration Rate (per 1,000 population)'\n",
       "\\end{enumerate*}\n"
      ],
      "text/markdown": [
       "1. 'Index'\n",
       "2. 'Variant'\n",
       "3. 'Region, subregion, country or area *'\n",
       "4. 'Notes'\n",
       "5. 'Location code'\n",
       "6. 'ISO3 Alpha-code'\n",
       "7. 'ISO2 Alpha-code'\n",
       "8. 'SDMX code**'\n",
       "9. 'Type'\n",
       "10. 'Parent code'\n",
       "11. 'Year'\n",
       "12. 'Total Population, as of 1 January (thousands)'\n",
       "13. 'Total Population, as of 1 July (thousands)'\n",
       "14. 'Male Population, as of 1 July (thousands)'\n",
       "15. 'Female Population, as of 1 July (thousands)'\n",
       "16. 'Population Density, as of 1 July (persons per square km)'\n",
       "17. 'Population Sex Ratio, as of 1 July (males per 100 females)'\n",
       "18. 'Median Age, as of 1 July (years)'\n",
       "19. 'Natural Change, Births minus Deaths (thousands)'\n",
       "20. 'Rate of Natural Change (per 1,000 population)'\n",
       "21. 'Population Change (thousands)'\n",
       "22. 'Population Growth Rate (percentage)'\n",
       "23. 'Population Annual Doubling Time (years)'\n",
       "24. 'Births (thousands)'\n",
       "25. 'Births by women aged 15 to 19 (thousands)'\n",
       "26. 'Crude Birth Rate (births per 1,000 population)'\n",
       "27. 'Total Fertility Rate (live births per woman)'\n",
       "28. 'Net Reproduction Rate (surviving daughters per woman)'\n",
       "29. 'Mean Age Childbearing (years)'\n",
       "30. 'Sex Ratio at Birth (males per 100 female births)'\n",
       "31. 'Total Deaths (thousands)'\n",
       "32. 'Male Deaths (thousands)'\n",
       "33. 'Female Deaths (thousands)'\n",
       "34. 'Crude Death Rate (deaths per 1,000 population)'\n",
       "35. 'Life Expectancy at Birth, both sexes (years)'\n",
       "36. 'Male Life Expectancy at Birth (years)'\n",
       "37. 'Female Life Expectancy at Birth (years)'\n",
       "38. 'Life Expectancy at Age 15, both sexes (years)'\n",
       "39. 'Male Life Expectancy at Age 15 (years)'\n",
       "40. 'Female Life Expectancy at Age 15 (years)'\n",
       "41. 'Life Expectancy at Age 65, both sexes (years)'\n",
       "42. 'Male Life Expectancy at Age 65 (years)'\n",
       "43. 'Female Life Expectancy at Age 65 (years)'\n",
       "44. 'Life Expectancy at Age 80, both sexes (years)'\n",
       "45. 'Male Life Expectancy at Age 80 (years)'\n",
       "46. 'Female Life Expectancy at Age 80 (years)'\n",
       "47. 'Infant Deaths, under age 1 (thousands)'\n",
       "48. 'Infant Mortality Rate (infant deaths per 1,000 live births)'\n",
       "49. 'Live Births Surviving to Age 1 (thousands)'\n",
       "50. 'Under-Five Deaths, under age 5 (thousands)'\n",
       "51. 'Under-Five Mortality (deaths under age 5 per 1,000 live births)'\n",
       "52. 'Mortality before Age 40, both sexes (deaths under age 40 per 1,000 live births)'\n",
       "53. 'Male Mortality before Age 40 (deaths under age 40 per 1,000 male live births)'\n",
       "54. 'Female Mortality before Age 40 (deaths under age 40 per 1,000 female live births)'\n",
       "55. 'Mortality before Age 60, both sexes (deaths under age 60 per 1,000 live births)'\n",
       "56. 'Male Mortality before Age 60 (deaths under age 60 per 1,000 male live births)'\n",
       "57. 'Female Mortality before Age 60 (deaths under age 60 per 1,000 female live births)'\n",
       "58. 'Mortality between Age 15 and 50, both sexes (deaths under age 50 per 1,000 alive at age 15)'\n",
       "59. 'Male Mortality between Age 15 and 50 (deaths under age 50 per 1,000 males alive at age 15)'\n",
       "60. 'Female Mortality between Age 15 and 50 (deaths under age 50 per 1,000 females alive at age 15)'\n",
       "61. 'Mortality between Age 15 and 60, both sexes (deaths under age 60 per 1,000 alive at age 15)'\n",
       "62. 'Male Mortality between Age 15 and 60 (deaths under age 60 per 1,000 males alive at age 15)'\n",
       "63. 'Female Mortality between Age 15 and 60 (deaths under age 60 per 1,000 females alive at age 15)'\n",
       "64. 'Net Number of Migrants (thousands)'\n",
       "65. 'Net Migration Rate (per 1,000 population)'\n",
       "\n",
       "\n"
      ],
      "text/plain": [
       " [1] \"Index\"                                                                                         \n",
       " [2] \"Variant\"                                                                                       \n",
       " [3] \"Region, subregion, country or area *\"                                                          \n",
       " [4] \"Notes\"                                                                                         \n",
       " [5] \"Location code\"                                                                                 \n",
       " [6] \"ISO3 Alpha-code\"                                                                               \n",
       " [7] \"ISO2 Alpha-code\"                                                                               \n",
       " [8] \"SDMX code**\"                                                                                   \n",
       " [9] \"Type\"                                                                                          \n",
       "[10] \"Parent code\"                                                                                   \n",
       "[11] \"Year\"                                                                                          \n",
       "[12] \"Total Population, as of 1 January (thousands)\"                                                 \n",
       "[13] \"Total Population, as of 1 July (thousands)\"                                                    \n",
       "[14] \"Male Population, as of 1 July (thousands)\"                                                     \n",
       "[15] \"Female Population, as of 1 July (thousands)\"                                                   \n",
       "[16] \"Population Density, as of 1 July (persons per square km)\"                                      \n",
       "[17] \"Population Sex Ratio, as of 1 July (males per 100 females)\"                                    \n",
       "[18] \"Median Age, as of 1 July (years)\"                                                              \n",
       "[19] \"Natural Change, Births minus Deaths (thousands)\"                                               \n",
       "[20] \"Rate of Natural Change (per 1,000 population)\"                                                 \n",
       "[21] \"Population Change (thousands)\"                                                                 \n",
       "[22] \"Population Growth Rate (percentage)\"                                                           \n",
       "[23] \"Population Annual Doubling Time (years)\"                                                       \n",
       "[24] \"Births (thousands)\"                                                                            \n",
       "[25] \"Births by women aged 15 to 19 (thousands)\"                                                     \n",
       "[26] \"Crude Birth Rate (births per 1,000 population)\"                                                \n",
       "[27] \"Total Fertility Rate (live births per woman)\"                                                  \n",
       "[28] \"Net Reproduction Rate (surviving daughters per woman)\"                                         \n",
       "[29] \"Mean Age Childbearing (years)\"                                                                 \n",
       "[30] \"Sex Ratio at Birth (males per 100 female births)\"                                              \n",
       "[31] \"Total Deaths (thousands)\"                                                                      \n",
       "[32] \"Male Deaths (thousands)\"                                                                       \n",
       "[33] \"Female Deaths (thousands)\"                                                                     \n",
       "[34] \"Crude Death Rate (deaths per 1,000 population)\"                                                \n",
       "[35] \"Life Expectancy at Birth, both sexes (years)\"                                                  \n",
       "[36] \"Male Life Expectancy at Birth (years)\"                                                         \n",
       "[37] \"Female Life Expectancy at Birth (years)\"                                                       \n",
       "[38] \"Life Expectancy at Age 15, both sexes (years)\"                                                 \n",
       "[39] \"Male Life Expectancy at Age 15 (years)\"                                                        \n",
       "[40] \"Female Life Expectancy at Age 15 (years)\"                                                      \n",
       "[41] \"Life Expectancy at Age 65, both sexes (years)\"                                                 \n",
       "[42] \"Male Life Expectancy at Age 65 (years)\"                                                        \n",
       "[43] \"Female Life Expectancy at Age 65 (years)\"                                                      \n",
       "[44] \"Life Expectancy at Age 80, both sexes (years)\"                                                 \n",
       "[45] \"Male Life Expectancy at Age 80 (years)\"                                                        \n",
       "[46] \"Female Life Expectancy at Age 80 (years)\"                                                      \n",
       "[47] \"Infant Deaths, under age 1 (thousands)\"                                                        \n",
       "[48] \"Infant Mortality Rate (infant deaths per 1,000 live births)\"                                   \n",
       "[49] \"Live Births Surviving to Age 1 (thousands)\"                                                    \n",
       "[50] \"Under-Five Deaths, under age 5 (thousands)\"                                                    \n",
       "[51] \"Under-Five Mortality (deaths under age 5 per 1,000 live births)\"                               \n",
       "[52] \"Mortality before Age 40, both sexes (deaths under age 40 per 1,000 live births)\"               \n",
       "[53] \"Male Mortality before Age 40 (deaths under age 40 per 1,000 male live births)\"                 \n",
       "[54] \"Female Mortality before Age 40 (deaths under age 40 per 1,000 female live births)\"             \n",
       "[55] \"Mortality before Age 60, both sexes (deaths under age 60 per 1,000 live births)\"               \n",
       "[56] \"Male Mortality before Age 60 (deaths under age 60 per 1,000 male live births)\"                 \n",
       "[57] \"Female Mortality before Age 60 (deaths under age 60 per 1,000 female live births)\"             \n",
       "[58] \"Mortality between Age 15 and 50, both sexes (deaths under age 50 per 1,000 alive at age 15)\"   \n",
       "[59] \"Male Mortality between Age 15 and 50 (deaths under age 50 per 1,000 males alive at age 15)\"    \n",
       "[60] \"Female Mortality between Age 15 and 50 (deaths under age 50 per 1,000 females alive at age 15)\"\n",
       "[61] \"Mortality between Age 15 and 60, both sexes (deaths under age 60 per 1,000 alive at age 15)\"   \n",
       "[62] \"Male Mortality between Age 15 and 60 (deaths under age 60 per 1,000 males alive at age 15)\"    \n",
       "[63] \"Female Mortality between Age 15 and 60 (deaths under age 60 per 1,000 females alive at age 15)\"\n",
       "[64] \"Net Number of Migrants (thousands)\"                                                            \n",
       "[65] \"Net Migration Rate (per 1,000 population)\"                                                     "
      ]
     },
     "metadata": {},
     "output_type": "display_data"
    }
   ],
   "source": [
    "# # read file, skipping rows\n",
    "# library(readxl)\n",
    "# wpp <- read_excel(\"WPP2022_GEN_F01_DEMOGRAPHIC_INDICATORS_COMPACT_REV1.xlsx\", col_names = F, range = \"A6790:BM6861\")\n",
    "# wpp.cols <- read_excel(\"WPP2022_GEN_F01_DEMOGRAPHIC_INDICATORS_COMPACT_REV1.xlsx\", skip = 16, n_max = 2)\n",
    "# colnames(wpp) <- colnames(wpp.cols)\n",
    "colnames(wpp)"
   ]
  },
  {
   "cell_type": "code",
   "execution_count": 91,
   "metadata": {},
   "outputs": [],
   "source": [
    "?read_excel"
   ]
  },
  {
   "cell_type": "code",
   "execution_count": null,
   "metadata": {},
   "outputs": [],
   "source": []
  },
  {
   "cell_type": "markdown",
   "metadata": {
    "slideshow": {
     "slide_type": "slide"
    }
   },
   "source": [
    "Next, we will only load the rows that are about China. \n",
    "(We can easily find these using Excel and the \"filter\" command:)"
   ]
  },
  {
   "cell_type": "code",
   "execution_count": 91,
   "metadata": {},
   "outputs": [],
   "source": [
    "# read wpp excel, subset china"
   ]
  },
  {
   "cell_type": "markdown",
   "metadata": {
    "slideshow": {
     "slide_type": "notes"
    }
   },
   "source": [
    "(Or, we could have just loaded the entire dataset and used `filter()` but this is slower.)"
   ]
  },
  {
   "cell_type": "markdown",
   "metadata": {
    "slideshow": {
     "slide_type": "slide"
    }
   },
   "source": [
    "## Understanding demographic change in China\n",
    "Finally, we can use these data to study more factors that contributed to declining fertility rates in China."
   ]
  },
  {
   "cell_type": "code",
   "execution_count": 107,
   "metadata": {
    "slideshow": {
     "slide_type": "slide"
    }
   },
   "outputs": [
    {
     "data": {
      "image/png": "[encoded data removed]",
      "text/plain": [
       "plot without title"
      ]
     },
     "metadata": {
      "image/png": {
       "height": 300,
       "width": 480
      }
     },
     "output_type": "display_data"
    }
   ],
   "source": [
    "# sex ratio at birth over time\n",
    "ggplot(wpp, aes(x = Year, y=`Sex Ratio at Birth (males per 100 female births)`)) + geom_line() +\n",
    "    geom_vline(xintercept = 1980) + \n",
    "    annotate(x = 1978, y = 110, label = \"One child policy\", angle = 90, geom=\"text\")\n"
   ]
  },
  {
   "cell_type": "code",
   "execution_count": null,
   "metadata": {
    "slideshow": {
     "slide_type": "slide"
    }
   },
   "outputs": [],
   "source": [
    "# dependency ratio over time\n",
    "\n"
   ]
  },
  {
   "cell_type": "code",
   "execution_count": 114,
   "metadata": {
    "slideshow": {
     "slide_type": "slide"
    }
   },
   "outputs": [
    {
     "data": {
      "image/png": "[encoded data removed]",
      "text/plain": [
       "plot without title"
      ]
     },
     "metadata": {
      "image/png": {
       "height": 300,
       "width": 480
      }
     },
     "output_type": "display_data"
    }
   ],
   "source": [
    "# net number of migrants over time\n",
    "\n",
    "wpp  %>% select(Year, nnm = `Net Number of Migrants (thousands)`, nnm_1k = `Net Migration Rate (per 1,000 population)`) %>% \n",
    "    ggplot(aes(x = Year, y = nnm_1k - mean(nnm_1k))) + geom_col()"
   ]
  }
 ],
 "metadata": {
  "celltoolbar": "Slideshow",
  "kernelspec": {
   "display_name": "R",
   "language": "R",
   "name": "ir"
  },
  "language_info": {
   "codemirror_mode": "r",
   "file_extension": ".r",
   "mimetype": "text/x-r-source",
   "name": "R",
   "pygments_lexer": "r",
   "version": "4.2.1"
  }
 },
 "nbformat": 4,
 "nbformat_minor": 2
}
