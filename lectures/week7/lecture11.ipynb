{
 "cells": [
  {
   "cell_type": "code",
   "execution_count": 2,
   "metadata": {
    "scrolled": true,
    "slideshow": {
     "slide_type": "notes"
    }
   },
   "outputs": [
    {
     "name": "stderr",
     "output_type": "stream",
     "text": [
      "── \u001b[1mAttaching packages\u001b[22m ──────────────────────────────────────────────────────────────────────────────────────────────────── tidyverse 1.3.2 ──\n",
      "\u001b[32m✔\u001b[39m \u001b[34mggplot2\u001b[39m 3.4.0     \u001b[32m✔\u001b[39m \u001b[34mpurrr  \u001b[39m 1.0.1\n",
      "\u001b[32m✔\u001b[39m \u001b[34mtibble \u001b[39m 3.1.8     \u001b[32m✔\u001b[39m \u001b[34mdplyr  \u001b[39m 1.1.0\n",
      "\u001b[32m✔\u001b[39m \u001b[34mtidyr  \u001b[39m 1.2.1     \u001b[32m✔\u001b[39m \u001b[34mstringr\u001b[39m 1.4.1\n",
      "\u001b[32m✔\u001b[39m \u001b[34mreadr  \u001b[39m 2.1.3     \u001b[32m✔\u001b[39m \u001b[34mforcats\u001b[39m 0.5.2\n",
      "── \u001b[1mConflicts\u001b[22m ─────────────────────────────────────────────────────────────────────────────────────────────────────── tidyverse_conflicts() ──\n",
      "\u001b[31m✖\u001b[39m \u001b[34mdplyr\u001b[39m::\u001b[32mfilter()\u001b[39m masks \u001b[34mstats\u001b[39m::filter()\n",
      "\u001b[31m✖\u001b[39m \u001b[34mdplyr\u001b[39m::\u001b[32mlag()\u001b[39m    masks \u001b[34mstats\u001b[39m::lag()\n",
      "\n",
      "Attaching package: ‘rvest’\n",
      "\n",
      "\n",
      "The following object is masked from ‘package:readr’:\n",
      "\n",
      "    guess_encoding\n",
      "\n",
      "\n"
     ]
    }
   ],
   "source": [
    "library(tidyverse)\n",
    "library(rvest)"
   ]
  },
  {
   "cell_type": "markdown",
   "metadata": {
    "slideshow": {
     "slide_type": "slide"
    }
   },
   "source": [
    "# Lecture 11: Web scraping\n",
    "\n",
    "<div style=\"border: 1px double black; padding: 10px; margin: 10px\">\n",
    "\n",
    "**After today's lecture you will:**\n",
    "* Understand how to import data from online sources by scraping web pages.\n",
    "</div>\n",
    "\n",
    "These notes correspond to Chapter 26 of your book.\n"
   ]
  },
  {
   "cell_type": "markdown",
   "metadata": {
    "slideshow": {
     "slide_type": "slide"
    }
   },
   "source": [
    "## Ethics of scraping data online\n",
    "You should carefully read [Section 26.2](https://r4ds.hadley.nz/webscraping.html#scraping-ethics-and-legalities) of the book concerning various ethical and legal issues surrounding scraping web sites for data. In this class we will only look at large, public web sites like Wikipedia and IMDB, where there is no risk of anything bad happening. However, there are other situations where it may be unethical, or even illegal, to harvest data from a website, even if you are technically able. **As data scientists in the real world, it will be up to you to carefully weigh these concerns before using the tools discussed in today's lecture.**"
   ]
  },
  {
   "cell_type": "markdown",
   "metadata": {
    "slideshow": {
     "slide_type": "slide"
    }
   },
   "source": [
    "## Reading data from the Internet\n",
    "These days, it's increasingly common to pull data from online sources. For example, say I wanted to know the population of European countries. This is [easily found](https://en.wikipedia.org/wiki/Demographics_of_Europe#Population_by_country) on Wikipedia. How can I get these data into R and analyze them?"
   ]
  },
  {
   "cell_type": "markdown",
   "metadata": {
    "slideshow": {
     "slide_type": "slide"
    }
   },
   "source": [
    "## How do web pages work?\n",
    "\n",
    "Web pages are written in a special language called HTML (**H**yper**t**ext **M**arkup **L**anguage). Here is a simple example of some HTML:\n",
    "\n",
    "    <html>\n",
    "    <head> \n",
    "      <title>Page title</title>\n",
    "    </head>\n",
    "    <body>\n",
    "      <h1 id='first'>A heading</h1>\n",
    "      <p>Some text &amp; <b>some bold text.</b></p>\n",
    "      <img src='myimg.png' width='100' height='100'>\n",
    "    </body>"
   ]
  },
  {
   "cell_type": "markdown",
   "metadata": {
    "slideshow": {
     "slide_type": "notes"
    }
   },
   "source": [
    "Web scraping is possible because most web pages have a consistent, hierarchical structure. For example, if I asked you how to navigate to the title of the web page shown above, you would follow the \"path\"\n",
    "\n",
    "    html > head > title\n",
    "    \n",
    "to arrive at \"Page title\"."
   ]
  },
  {
   "cell_type": "markdown",
   "metadata": {
    "slideshow": {
     "slide_type": "slide"
    }
   },
   "source": [
    "## HTML elements\n",
    "\n",
    "There are a lot of HTML elements that might contain interesting information. Here are a few of the most common:\n",
    "- Block tags that denote sections of text: `<h1>` (heading), `<p>` (paragraph), `<ul>`/`<ol>` (un)ordered list, etc.\n",
    "- `<table>` (a table), `<tr>` (a table row), `<td>` (a table cell), etc.\n",
    "- Each of these elements can contain attributes such as `id=` or `class=`. For example, `<table id=\"movies\">` is probably a table that contains movie information."
   ]
  },
  {
   "cell_type": "markdown",
   "metadata": {
    "slideshow": {
     "slide_type": "slide"
    }
   },
   "source": [
    "The `rvest` package is used to load a web page and extract elements and tables based on their HTML tags. Let's see how it works by scraping the Wikipedia page mentioned earlier:"
   ]
  },
  {
   "cell_type": "code",
   "execution_count": 209,
   "metadata": {},
   "outputs": [],
   "source": [
    "europop <- read_html(\"http://en.wikipedia.org/wiki/Demographics_of_Europe#Population_by_country\")"
   ]
  },
  {
   "cell_type": "markdown",
   "metadata": {
    "slideshow": {
     "slide_type": "slide"
    }
   },
   "source": [
    "In this page there are many tables:"
   ]
  },
  {
   "cell_type": "code",
   "execution_count": 38,
   "metadata": {},
   "outputs": [
    {
     "data": {
      "text/plain": [
       "{xml_nodeset (17)}\n",
       " [1] <table class=\"wikitable\">\\n<caption>Population of Europe, in millions, b ...\n",
       " [2] <table class=\"wikitable sortable\" style=\"text-align:right;\">\\n<caption>P ...\n",
       " [3] <table class=\"wikitable sortable\" style=\"text-align:right;\">\\n<caption>( ...\n",
       " [4] <table class=\"wikitable sortable\" style=\"text-align: right;\">\\n<caption> ...\n",
       " [5] <table class=\"wikitable sortable static-row-numbers plainrowheaders srn- ...\n",
       " [6] <table class=\"nowraplinks mw-collapsible autocollapse navbox-inner\" styl ...\n",
       " [7] <table class=\"nowraplinks mw-collapsible autocollapse navbox-inner\" styl ...\n",
       " [8] <table class=\"nowraplinks mw-collapsible autocollapse navbox-inner\" styl ...\n",
       " [9] <table class=\"nowraplinks hlist mw-collapsible autocollapse navbox-inner ...\n",
       "[10] <table class=\"nowraplinks navbox-subgroup\" style=\"border-spacing:0\"><tbo ...\n",
       "[11] <table class=\"nowraplinks navbox-subgroup\" style=\"border-spacing:0\"><tbo ...\n",
       "[12] <table class=\"nowraplinks navbox-subgroup\" style=\"border-spacing:0\"><tbo ...\n",
       "[13] <table class=\"nowraplinks navbox-subgroup\" style=\"border-spacing:0\"><tbo ...\n",
       "[14] <table class=\"nowraplinks navbox-subgroup\" style=\"border-spacing:0\"><tbo ...\n",
       "[15] <table class=\"nowraplinks navbox-subgroup\" style=\"border-spacing:0\"><tbo ...\n",
       "[16] <table class=\"nowraplinks navbox-subgroup\" style=\"border-spacing:0\"><tbo ...\n",
       "[17] <table class=\"nowraplinks hlist mw-collapsible autocollapse navbox-inner ..."
      ]
     },
     "metadata": {},
     "output_type": "display_data"
    }
   ],
   "source": [
    "europop %>% html_elements(\"table\")"
   ]
  },
  {
   "cell_type": "markdown",
   "metadata": {
    "slideshow": {
     "slide_type": "notes"
    }
   },
   "source": [
    "How can we find the correct one? One option is to use our browser to find something that uniquely identifies the table that we want. Alternatively, since there are only about 17, we can just at each table until we find the one we want:"
   ]
  },
  {
   "cell_type": "code",
   "execution_count": 46,
   "metadata": {},
   "outputs": [],
   "source": [
    "# find the table that contains the population for each country"
   ]
  },
  {
   "cell_type": "markdown",
   "metadata": {},
   "source": [
    "## 🤔 Quiz\n",
    "\n",
    "What's the average population density ($\\text{persons}/\\text{km}^2$) for countries in Europe?\n",
    "\n",
    "<ol style=\"list-style-type: upper-alpha;\">\n",
    "    <li>1234.5</li>\n",
    "    <li>20000.0</li>\n",
    "    <li>611.8</li>\n",
    "    <li>6520.5</li>\n",
    "    <li>101.1</li>\n",
    "</ol>\n",
    "\n"
   ]
  },
  {
   "cell_type": "code",
   "execution_count": 76,
   "metadata": {},
   "outputs": [
    {
     "data": {
      "text/html": [
       "611.818965517241"
      ],
      "text/latex": [
       "611.818965517241"
      ],
      "text/markdown": [
       "611.818965517241"
      ],
      "text/plain": [
       "[1] 611.819"
      ]
     },
     "metadata": {},
     "output_type": "display_data"
    }
   ],
   "source": [
    "# avg pop density"
   ]
  },
  {
   "cell_type": "markdown",
   "metadata": {
    "slideshow": {
     "slide_type": "slide"
    }
   },
   "source": [
    "## 🤔 Quiz\n",
    "\n",
    "Use the same page Wikipedia page (Demographics of Europe) to answer the following question:\n",
    "\n",
    "On average, how many people were born *each day* in Europe between 2010 and 2021 (inclusive)?\n",
    "\n",
    "<ol style=\"list-style-type: upper-alpha;\">\n",
    "    <li>90210.10</li>\n",
    "    <li>23043.97</li>\n",
    "    <li>7710127</li>\n",
    "    <li>21123.64</li>\n",
    "    <li>21109.18</li>\n",
    "</ol>\n",
    "\n"
   ]
  },
  {
   "cell_type": "code",
   "execution_count": 69,
   "metadata": {},
   "outputs": [],
   "source": [
    "# average births per day"
   ]
  },
  {
   "cell_type": "code",
   "execution_count": 171,
   "metadata": {
    "slideshow": {
     "slide_type": "slide"
    }
   },
   "outputs": [],
   "source": [
    "# number of days in 2010--2021"
   ]
  },
  {
   "cell_type": "markdown",
   "metadata": {
    "slideshow": {
     "slide_type": "slide"
    }
   },
   "source": [
    "## The Simpsons\n",
    "\n",
    "The Simpsons is a popular and long-running TV show. How many people still watch the Simpsons? What is their most popular episode?"
   ]
  },
  {
   "cell_type": "code",
   "execution_count": 211,
   "metadata": {},
   "outputs": [],
   "source": [
    "simpsons <- read_html('https://en.wikipedia.org/wiki/List_of_The_Simpsons_episodes_(season_21–present)')"
   ]
  },
  {
   "cell_type": "code",
   "execution_count": 255,
   "metadata": {},
   "outputs": [],
   "source": [
    "# parse simpsons"
   ]
  },
  {
   "cell_type": "markdown",
   "metadata": {
    "slideshow": {
     "slide_type": "slide"
    }
   },
   "source": [
    "## 🤔 Quiz\n",
    "\n",
    "The episode with the largest number of viewers was **Once Upon a Time in Springfield**. Which episode of the Simpsons had the **smallest** number of viewers?\n",
    "\n",
    "\n",
    "<ol style=\"list-style-type: upper-alpha;\">\n",
    "    <li>My Octopus and a Teacher</li>\n",
    "    <li>Treehouse of Horror XXI</li>\n",
    "    <li>Marge the Meanie</li>\n",
    "    <li>The D'oh-cial Network</li>\n",
    "    <li>The Devil Wears Nada</li>\n",
    "</ol>\n",
    "\n"
   ]
  },
  {
   "cell_type": "code",
   "execution_count": 249,
   "metadata": {
    "slideshow": {
     "slide_type": "slide"
    }
   },
   "outputs": [],
   "source": [
    "# smallest number of viewers"
   ]
  },
  {
   "cell_type": "markdown",
   "metadata": {
    "slideshow": {
     "slide_type": "slide"
    }
   },
   "source": [
    "## IMDB top movies\n",
    "\n",
    "Let's consider a well-known table: the [top 250 movies on IMDB](https://www.imdb.com/chart/top/)."
   ]
  },
  {
   "cell_type": "code",
   "execution_count": 16,
   "metadata": {
    "slideshow": {
     "slide_type": "-"
    }
   },
   "outputs": [],
   "source": [
    "imdb.250 <- read_html(\"https://www.imdb.com/chart/top/\")"
   ]
  },
  {
   "cell_type": "code",
   "execution_count": 254,
   "metadata": {
    "slideshow": {
     "slide_type": "slide"
    }
   },
   "outputs": [],
   "source": [
    "# parse imdb"
   ]
  },
  {
   "cell_type": "markdown",
   "metadata": {
    "slideshow": {
     "slide_type": "slide"
    }
   },
   "source": [
    "## Exercise\n",
    "\n",
    "\"The Kid\" came out in 1921 and has a rating of 8.2. Another movie that was rated at least as high didn't come out until 1927 (Metropolis), so we could say that The Kid reigned as the #1 film for six years. Metropolis reigned for four years until City Lights (rating 8.4) came out.\n",
    "\n",
    "Which film reigned for the longest amount of time?"
   ]
  },
  {
   "cell_type": "code",
   "execution_count": null,
   "metadata": {
    "slideshow": {
     "slide_type": "slide"
    }
   },
   "outputs": [],
   "source": [
    "# longest reign"
   ]
  },
  {
   "cell_type": "markdown",
   "metadata": {
    "slideshow": {
     "slide_type": "slide"
    }
   },
   "source": [
    "## Super Bowl TV ratings\n",
    "We just had the Super Bowl. How have the TV ratings for the Super Bowl changed over the years?"
   ]
  },
  {
   "cell_type": "code",
   "execution_count": 126,
   "metadata": {},
   "outputs": [],
   "source": [
    "sbtv <- read_html('https://en.wikipedia.org/wiki/Super_Bowl_television_ratings') %>% html_elements('table') %>% .[[1]] %>% html_table"
   ]
  },
  {
   "cell_type": "code",
   "execution_count": 138,
   "metadata": {},
   "outputs": [],
   "source": [
    "# viewers over time"
   ]
  },
  {
   "cell_type": "markdown",
   "metadata": {
    "slideshow": {
     "slide_type": "slide"
    }
   },
   "source": [
    "How does this compare with other major sports?\n",
    "\n",
    "- https://en.wikipedia.org/wiki/World_Series_television_ratings\n",
    "- https://en.wikipedia.org/wiki/NBA_Finals_television_ratings"
   ]
  },
  {
   "cell_type": "code",
   "execution_count": null,
   "metadata": {
    "slideshow": {
     "slide_type": "slide"
    }
   },
   "outputs": [],
   "source": [
    "# super bowl vs world series"
   ]
  },
  {
   "cell_type": "markdown",
   "metadata": {
    "slideshow": {
     "slide_type": "notes"
    }
   },
   "source": [
    "## Scraping other types of web data\n",
    "\n",
    "Here are some examples of other types of web data we can scrape:"
   ]
  },
  {
   "cell_type": "markdown",
   "metadata": {
    "slideshow": {
     "slide_type": "slide"
    }
   },
   "source": [
    "### The UofM Stats department\n",
    "Let's say I wanted to make a table of all the [undergraduate stats courses](https://lsa.umich.edu/stats/undergraduate-students/statistics-courses.html) offered by the department. "
   ]
  },
  {
   "cell_type": "code",
   "execution_count": 148,
   "metadata": {},
   "outputs": [],
   "source": [
    "stats <- read_html('https://lsa.umich.edu/stats/undergraduate-students/statistics-courses.html')"
   ]
  },
  {
   "cell_type": "markdown",
   "metadata": {
    "slideshow": {
     "slide_type": "notes"
    }
   },
   "source": [
    "How should we extract the data from this web page? We notice from inspecting the page that each course title is a `<b>` (bold) element:"
   ]
  },
  {
   "cell_type": "code",
   "execution_count": 161,
   "metadata": {},
   "outputs": [],
   "source": [
    "# extract statistics courses"
   ]
  },
  {
   "cell_type": "markdown",
   "metadata": {
    "slideshow": {
     "slide_type": "slide"
    }
   },
   "source": [
    "### Reddit\n",
    "Let's see how to scrape the [UofM Reddit site](https://old.reddit.com/r/uofm):"
   ]
  },
  {
   "cell_type": "code",
   "execution_count": 162,
   "metadata": {},
   "outputs": [],
   "source": [
    "top.reddit <- read_html('https://old.reddit.com/r/uofm/top/?sort=top&t=all')"
   ]
  },
  {
   "cell_type": "markdown",
   "metadata": {
    "slideshow": {
     "slide_type": "slide"
    }
   },
   "source": [
    "Let's plot the top scoring posts, when they were posted, and how many votes they have received."
   ]
  },
  {
   "cell_type": "code",
   "execution_count": 121,
   "metadata": {},
   "outputs": [],
   "source": [
    "# top posts on r/uofm"
   ]
  }
 ],
 "metadata": {
  "celltoolbar": "Slideshow",
  "kernelspec": {
   "display_name": "R",
   "language": "R",
   "name": "ir"
  },
  "language_info": {
   "codemirror_mode": "r",
   "file_extension": ".r",
   "mimetype": "text/x-r-source",
   "name": "R",
   "pygments_lexer": "r",
   "version": "4.2.1"
  }
 },
 "nbformat": 4,
 "nbformat_minor": 2
}
